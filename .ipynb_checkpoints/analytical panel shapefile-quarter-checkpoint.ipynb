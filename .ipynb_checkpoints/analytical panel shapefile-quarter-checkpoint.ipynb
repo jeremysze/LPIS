{
 "cells": [
  {
   "cell_type": "code",
   "execution_count": 1,
   "metadata": {},
   "outputs": [],
   "source": [
    "import matplotlib.pyplot as plt\n",
    "import geopandas as gpd\n",
    "import pandas as pd\n",
    "import shapely as shy\n",
    "from shapely.ops import nearest_points\n",
    "from shapely.geometry import Point, MultiPoint\n",
    "import fiona\n",
    "from fiona.crs import from_epsg\n",
    "from scipy.spatial import cKDTree\n",
    "import numpy as np\n",
    "import osmnx as ox\n",
    "\n",
    "pd.options.display.max_rows = 4\n",
    "%matplotlib inline\n",
    "import os\n",
    "os.environ[\"PROJ_LIB\"] = \"C:\\ProgramData\\Anaconda3\\Library\\share\" #window"
   ]
  },
  {
   "cell_type": "code",
   "execution_count": 2,
   "metadata": {},
   "outputs": [],
   "source": [
    "#Filepaths\n",
    "work = r\"D:\"\n",
    "laptop = r\"C:\\Users\\jerem\"\n",
    "origin = laptop"
   ]
  },
  {
   "cell_type": "code",
   "execution_count": 3,
   "metadata": {},
   "outputs": [],
   "source": [
    "fp = r\"\\Box Sync\\Policy Evaluation\\working_data\\analytical_file_panel_qt.dta\"\n",
    "df = pd.read_stata(origin+fp)"
   ]
  },
  {
   "cell_type": "code",
   "execution_count": 4,
   "metadata": {
    "scrolled": true
   },
   "outputs": [
    {
     "data": {
      "text/html": [
       "<div>\n",
       "<style scoped>\n",
       "    .dataframe tbody tr th:only-of-type {\n",
       "        vertical-align: middle;\n",
       "    }\n",
       "\n",
       "    .dataframe tbody tr th {\n",
       "        vertical-align: top;\n",
       "    }\n",
       "\n",
       "    .dataframe thead th {\n",
       "        text-align: right;\n",
       "    }\n",
       "</style>\n",
       "<table border=\"1\" class=\"dataframe\">\n",
       "  <thead>\n",
       "    <tr style=\"text-align: right;\">\n",
       "      <th></th>\n",
       "      <th>intersection_id</th>\n",
       "      <th>quarter</th>\n",
       "      <th>year</th>\n",
       "      <th>quarterly</th>\n",
       "      <th>index</th>\n",
       "      <th>y</th>\n",
       "      <th>x</th>\n",
       "      <th>st1_name</th>\n",
       "      <th>st2_name</th>\n",
       "      <th>st3_name</th>\n",
       "      <th>...</th>\n",
       "      <th>day_personskilled</th>\n",
       "      <th>day_pedestriansinjured</th>\n",
       "      <th>day_pedestrianskilled</th>\n",
       "      <th>day_cyclistinjured</th>\n",
       "      <th>day_cyclistkilled</th>\n",
       "      <th>day_motoristinjured</th>\n",
       "      <th>day_motoristkilled</th>\n",
       "      <th>flag_collision</th>\n",
       "      <th>latenight_flag_collision</th>\n",
       "      <th>day_flag_collision</th>\n",
       "    </tr>\n",
       "  </thead>\n",
       "  <tbody>\n",
       "    <tr>\n",
       "      <th>0</th>\n",
       "      <td>1</td>\n",
       "      <td>1</td>\n",
       "      <td>2013</td>\n",
       "      <td>2013-01-01</td>\n",
       "      <td>0</td>\n",
       "      <td>199793.6093</td>\n",
       "      <td>986336.149</td>\n",
       "      <td>ALLEN STREET</td>\n",
       "      <td>CANAL STREET</td>\n",
       "      <td></td>\n",
       "      <td>...</td>\n",
       "      <td>0</td>\n",
       "      <td>0</td>\n",
       "      <td>0</td>\n",
       "      <td>0</td>\n",
       "      <td>0</td>\n",
       "      <td>0</td>\n",
       "      <td>0</td>\n",
       "      <td>1.0</td>\n",
       "      <td>0.0</td>\n",
       "      <td>1.0</td>\n",
       "    </tr>\n",
       "    <tr>\n",
       "      <th>1</th>\n",
       "      <td>2</td>\n",
       "      <td>1</td>\n",
       "      <td>2013</td>\n",
       "      <td>2013-01-01</td>\n",
       "      <td>1</td>\n",
       "      <td>202206.1619</td>\n",
       "      <td>982769.331</td>\n",
       "      <td>AVENUE OF THE AMERICAS</td>\n",
       "      <td>LAIGHT STREET</td>\n",
       "      <td>CANAL STREET</td>\n",
       "      <td>...</td>\n",
       "      <td>0</td>\n",
       "      <td>0</td>\n",
       "      <td>0</td>\n",
       "      <td>0</td>\n",
       "      <td>0</td>\n",
       "      <td>0</td>\n",
       "      <td>0</td>\n",
       "      <td>0.0</td>\n",
       "      <td>0.0</td>\n",
       "      <td>0.0</td>\n",
       "    </tr>\n",
       "  </tbody>\n",
       "</table>\n",
       "<p>2 rows × 163 columns</p>\n",
       "</div>"
      ],
      "text/plain": [
       "   intersection_id  quarter  year  quarterly  index            y           x  \\\n",
       "0                1        1  2013 2013-01-01      0  199793.6093  986336.149   \n",
       "1                2        1  2013 2013-01-01      1  202206.1619  982769.331   \n",
       "\n",
       "                 st1_name       st2_name      st3_name  ... day_personskilled  \\\n",
       "0            ALLEN STREET   CANAL STREET                ...                 0   \n",
       "1  AVENUE OF THE AMERICAS  LAIGHT STREET  CANAL STREET  ...                 0   \n",
       "\n",
       "   day_pedestriansinjured day_pedestrianskilled  day_cyclistinjured  \\\n",
       "0                       0                     0                   0   \n",
       "1                       0                     0                   0   \n",
       "\n",
       "   day_cyclistkilled  day_motoristinjured  day_motoristkilled  flag_collision  \\\n",
       "0                  0                    0                   0             1.0   \n",
       "1                  0                    0                   0             0.0   \n",
       "\n",
       "   latenight_flag_collision  day_flag_collision  \n",
       "0                       0.0                 1.0  \n",
       "1                       0.0                 0.0  \n",
       "\n",
       "[2 rows x 163 columns]"
      ]
     },
     "execution_count": 4,
     "metadata": {},
     "output_type": "execute_result"
    }
   ],
   "source": [
    "df.head(2)"
   ]
  },
  {
   "cell_type": "code",
   "execution_count": 5,
   "metadata": {},
   "outputs": [
    {
     "data": {
      "text/plain": [
       "Index(['intersection_id', 'quarter', 'year', 'quarterly', 'index', 'y', 'x',\n",
       "       'st1_name', 'st2_name', 'st3_name',\n",
       "       ...\n",
       "       'day_personskilled', 'day_pedestriansinjured', 'day_pedestrianskilled',\n",
       "       'day_cyclistinjured', 'day_cyclistkilled', 'day_motoristinjured',\n",
       "       'day_motoristkilled', 'flag_collision', 'latenight_flag_collision',\n",
       "       'day_flag_collision'],\n",
       "      dtype='object', length=163)"
      ]
     },
     "execution_count": 5,
     "metadata": {},
     "output_type": "execute_result"
    }
   ],
   "source": [
    "df.columns"
   ]
  },
  {
   "cell_type": "code",
   "execution_count": 6,
   "metadata": {},
   "outputs": [],
   "source": [
    "# Put the latitude and longtitude \n",
    "df['geometry'] = list(zip(df.x, df.y))\n",
    "df['geometry'] = df['geometry'].apply(Point)\n",
    "df1 = gpd.GeoDataFrame(df, geometry='geometry')"
   ]
  },
  {
   "cell_type": "code",
   "execution_count": 7,
   "metadata": {},
   "outputs": [
    {
     "data": {
      "text/html": [
       "<div>\n",
       "<style scoped>\n",
       "    .dataframe tbody tr th:only-of-type {\n",
       "        vertical-align: middle;\n",
       "    }\n",
       "\n",
       "    .dataframe tbody tr th {\n",
       "        vertical-align: top;\n",
       "    }\n",
       "\n",
       "    .dataframe thead th {\n",
       "        text-align: right;\n",
       "    }\n",
       "</style>\n",
       "<table border=\"1\" class=\"dataframe\">\n",
       "  <thead>\n",
       "    <tr style=\"text-align: right;\">\n",
       "      <th></th>\n",
       "      <th>intersection_id</th>\n",
       "      <th>quarter</th>\n",
       "      <th>year</th>\n",
       "      <th>quarterly</th>\n",
       "      <th>index</th>\n",
       "      <th>y</th>\n",
       "      <th>x</th>\n",
       "      <th>st1_name</th>\n",
       "      <th>st2_name</th>\n",
       "      <th>st3_name</th>\n",
       "      <th>...</th>\n",
       "      <th>day_pedestriansinjured</th>\n",
       "      <th>day_pedestrianskilled</th>\n",
       "      <th>day_cyclistinjured</th>\n",
       "      <th>day_cyclistkilled</th>\n",
       "      <th>day_motoristinjured</th>\n",
       "      <th>day_motoristkilled</th>\n",
       "      <th>flag_collision</th>\n",
       "      <th>latenight_flag_collision</th>\n",
       "      <th>day_flag_collision</th>\n",
       "      <th>geometry</th>\n",
       "    </tr>\n",
       "  </thead>\n",
       "  <tbody>\n",
       "    <tr>\n",
       "      <th>0</th>\n",
       "      <td>1</td>\n",
       "      <td>1</td>\n",
       "      <td>2013</td>\n",
       "      <td>2013-01-01</td>\n",
       "      <td>0</td>\n",
       "      <td>199793.6093</td>\n",
       "      <td>986336.149</td>\n",
       "      <td>ALLEN STREET</td>\n",
       "      <td>CANAL STREET</td>\n",
       "      <td></td>\n",
       "      <td>...</td>\n",
       "      <td>0</td>\n",
       "      <td>0</td>\n",
       "      <td>0</td>\n",
       "      <td>0</td>\n",
       "      <td>0</td>\n",
       "      <td>0</td>\n",
       "      <td>1.0</td>\n",
       "      <td>0.0</td>\n",
       "      <td>1.0</td>\n",
       "      <td>POINT (986336.149 199793.609300002)</td>\n",
       "    </tr>\n",
       "    <tr>\n",
       "      <th>1</th>\n",
       "      <td>2</td>\n",
       "      <td>1</td>\n",
       "      <td>2013</td>\n",
       "      <td>2013-01-01</td>\n",
       "      <td>1</td>\n",
       "      <td>202206.1619</td>\n",
       "      <td>982769.331</td>\n",
       "      <td>AVENUE OF THE AMERICAS</td>\n",
       "      <td>LAIGHT STREET</td>\n",
       "      <td>CANAL STREET</td>\n",
       "      <td>...</td>\n",
       "      <td>0</td>\n",
       "      <td>0</td>\n",
       "      <td>0</td>\n",
       "      <td>0</td>\n",
       "      <td>0</td>\n",
       "      <td>0</td>\n",
       "      <td>0.0</td>\n",
       "      <td>0.0</td>\n",
       "      <td>0.0</td>\n",
       "      <td>POINT (982769.331 202206.161899999)</td>\n",
       "    </tr>\n",
       "  </tbody>\n",
       "</table>\n",
       "<p>2 rows × 164 columns</p>\n",
       "</div>"
      ],
      "text/plain": [
       "   intersection_id  quarter  year  quarterly  index            y           x  \\\n",
       "0                1        1  2013 2013-01-01      0  199793.6093  986336.149   \n",
       "1                2        1  2013 2013-01-01      1  202206.1619  982769.331   \n",
       "\n",
       "                 st1_name       st2_name      st3_name  ...  \\\n",
       "0            ALLEN STREET   CANAL STREET                ...   \n",
       "1  AVENUE OF THE AMERICAS  LAIGHT STREET  CANAL STREET  ...   \n",
       "\n",
       "  day_pedestriansinjured  day_pedestrianskilled day_cyclistinjured  \\\n",
       "0                      0                      0                  0   \n",
       "1                      0                      0                  0   \n",
       "\n",
       "   day_cyclistkilled  day_motoristinjured  day_motoristkilled  flag_collision  \\\n",
       "0                  0                    0                   0             1.0   \n",
       "1                  0                    0                   0             0.0   \n",
       "\n",
       "   latenight_flag_collision  day_flag_collision  \\\n",
       "0                       0.0                 1.0   \n",
       "1                       0.0                 0.0   \n",
       "\n",
       "                              geometry  \n",
       "0  POINT (986336.149 199793.609300002)  \n",
       "1  POINT (982769.331 202206.161899999)  \n",
       "\n",
       "[2 rows x 164 columns]"
      ]
     },
     "execution_count": 7,
     "metadata": {},
     "output_type": "execute_result"
    }
   ],
   "source": [
    "df1.head(2)"
   ]
  },
  {
   "cell_type": "code",
   "execution_count": 8,
   "metadata": {},
   "outputs": [],
   "source": [
    "#df1.crs = {'init' :'epsg:2263'}\n",
    "df1.crs = from_epsg(2263)"
   ]
  },
  {
   "cell_type": "code",
   "execution_count": 9,
   "metadata": {},
   "outputs": [
    {
     "data": {
      "text/plain": [
       "{'init': 'epsg:2263', 'no_defs': True}"
      ]
     },
     "execution_count": 9,
     "metadata": {},
     "output_type": "execute_result"
    }
   ],
   "source": [
    "df1.crs"
   ]
  },
  {
   "cell_type": "code",
   "execution_count": 10,
   "metadata": {},
   "outputs": [
    {
     "data": {
      "text/plain": [
       "<matplotlib.axes._subplots.AxesSubplot at 0x2d094739320>"
      ]
     },
     "execution_count": 10,
     "metadata": {},
     "output_type": "execute_result"
    },
    {
     "data": {
      "image/png": "[encoded data removed]",
      "text/plain": [
       "<Figure size 432x288 with 1 Axes>"
      ]
     },
     "metadata": {
      "needs_background": "light"
     },
     "output_type": "display_data"
    }
   ],
   "source": [
    "df1.plot()"
   ]
  },
  {
   "cell_type": "markdown",
   "metadata": {},
   "source": [
    "## Saving the analytical panel dataset as a shapefile\n",
    "The shapefile is needed to calculate the contiguity matrix in stata"
   ]
  },
  {
   "cell_type": "code",
   "execution_count": 11,
   "metadata": {},
   "outputs": [
    {
     "data": {
      "text/plain": [
       "geopandas.geodataframe.GeoDataFrame"
      ]
     },
     "execution_count": 11,
     "metadata": {},
     "output_type": "execute_result"
    }
   ],
   "source": [
    "type(df1)"
   ]
  },
  {
   "cell_type": "code",
   "execution_count": 12,
   "metadata": {},
   "outputs": [
    {
     "data": {
      "text/plain": [
       "0          POINT (986336.149 199793.609300002)\n",
       "1          POINT (982769.331 202206.161899999)\n",
       "                       ...                    \n",
       "3    POINT (982812.255500004 201529.961799994)\n",
       "4    POINT (982816.395600006 201226.109699994)\n",
       "Name: geometry, Length: 5, dtype: object"
      ]
     },
     "execution_count": 12,
     "metadata": {},
     "output_type": "execute_result"
    }
   ],
   "source": [
    "df1['geometry'].head()"
   ]
  },
  {
   "cell_type": "code",
   "execution_count": 13,
   "metadata": {},
   "outputs": [],
   "source": [
    " save_out = df1[['collision_count','personsinjured','pedestriansinjured','cyclistinjured','motoristinjured','bronx','brooklyn','manhattan','queens','statenisland','distance_to_LPIS','distance_to_Street','distance_to_Sch','distance_to_LTC','distance_to_bikeroute','distance_to_truckroute','flag_left_turn_ever','flag_left_turn','flag_LPIS_ever','flag_LPIS','bike_route_tv','bike_route_ever', 'flag_seniors','flag_priorityinters','flag_school', 'flag_street_improv','quarter','year','intersection_id','y','x','geometry']]"
   ]
  },
  {
   "cell_type": "code",
   "execution_count": 14,
   "metadata": {},
   "outputs": [
    {
     "data": {
      "text/plain": [
       "geopandas.geodataframe.GeoDataFrame"
      ]
     },
     "execution_count": 14,
     "metadata": {},
     "output_type": "execute_result"
    }
   ],
   "source": [
    "type(save_out)"
   ]
  },
  {
   "cell_type": "code",
   "execution_count": 15,
   "metadata": {},
   "outputs": [],
   "source": [
    "fp =  r\"\\Box Sync\\Policy Evaluation\\working_data\\analytical_panel_shapefile\\analytical_panel_qt_shapefile.shp\"\n",
    "\n",
    "save_out.to_file(origin+fp)"
   ]
  }
 ],
 "metadata": {
  "kernelspec": {
   "display_name": "Python 3",
   "language": "python",
   "name": "python3"
  },
  "language_info": {
   "codemirror_mode": {
    "name": "ipython",
    "version": 3
   },
   "file_extension": ".py",
   "mimetype": "text/x-python",
   "name": "python",
   "nbconvert_exporter": "python",
   "pygments_lexer": "ipython3",
   "version": "3.6.8"
  }
 },
 "nbformat": 4,
 "nbformat_minor": 2
}
