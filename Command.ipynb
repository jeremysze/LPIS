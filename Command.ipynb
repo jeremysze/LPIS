{
 "cells": [
  {
   "cell_type": "markdown",
   "metadata": {},
   "source": [
    "# Causal impact of Pedestrian Leading Interval Signal in New York City"
   ]
  },
  {
   "cell_type": "markdown",
   "metadata": {},
   "source": [
    "### Leading Pedestrians have priorty to cross before the traffic light turns green for car to move\n",
    "- 2237 intersections have LPIs as of Nov 2017\n",
    "- Began in 1976 at Flatbush and Dekalb Ave in Brooklyn\n",
    "- 7-11 seconds headstart"
   ]
  },
  {
   "cell_type": "markdown",
   "metadata": {},
   "source": [
    "### NYPD Motor Vehicle Collisions\n",
    "- 1,351,213 collisions\n",
    "- 1,147,773 collisions with valid coordinates\n",
    "- 756,160 collisions with valid coordinates at intersections\n",
    "- July 1 2012 to Sep 27 2018 (75 months)\n",
    "- longitude and latitude points, borough, zip code, counts of persons/cyclists/pedestrians injured, vehicle type, and contributing factors to the collision\n",
    "- Monthly counts at each of the 50,958 intersections\n",
    "- Panel of 50,958 intersections over 75 months\n",
    "- 3,818,700 observations"
   ]
  },
  {
   "cell_type": "markdown",
   "metadata": {},
   "source": [
    "## Clean the signal intersection shapefile data from NYC DOT\n",
    "- with cleaning_signal_intersection.ipynb\n",
    "- Python\n",
    "- https://github.com/jeremysze/LPIS/blob/master/cleaning_signal_intersection.ipynb"
   ]
  },
  {
   "cell_type": "markdown",
   "metadata": {},
   "source": [
    "## Save LPIS shapefile as Stata dta\n",
    "- with LPIS_data.ipynb\n",
    "- Python\n",
    "- https://github.com/jeremysze/LPIS/blob/master/LPIS%20data.ipynb"
   ]
  },
  {
   "cell_type": "markdown",
   "metadata": {},
   "source": [
    "## Link signal intersections to various information\n",
    "- with signal_intersection.ipynb\n",
    "- Python\n",
    "- https://github.com/jeremysze/LPIS/blob/master/Signal%20intersection.ipynb"
   ]
  },
  {
   "cell_type": "markdown",
   "metadata": {},
   "source": [
    "## Link signal intersections within 2000ft of LPIS to LPIS\n",
    "- with Intersection_within_2000ft_buffer_of_LPIS.ipynb\n",
    "- Python\n",
    "- https://github.com/jeremysze/LPIS/blob/master/Intersection%20within%202000ft%20buffer%20of%20LPIS.ipynb"
   ]
  },
  {
   "cell_type": "markdown",
   "metadata": {},
   "source": [
    "## Reshape long to wide\n",
    "- with buffer_signal_intersection.do\n",
    "- Stata dofile\n",
    "- https://github.com/jeremysze/LPIS/blob/master/buffer_signal_intersection.do"
   ]
  },
  {
   "cell_type": "markdown",
   "metadata": {},
   "source": [
    "## Download NYPD Motor Vehicle Collision data\n",
    "- with Converting1a.ipynb\n",
    "- Stata kernel\n",
    "- https://github.com/jeremysze/LPIS/blob/master/Converting1a.ipynb"
   ]
  },
  {
   "cell_type": "markdown",
   "metadata": {},
   "source": [
    "## Cleaning the Collisions data\n",
    "- Cleaning1b.ipynb\n",
    "- Stata kernel\n",
    "https://github.com/jeremysze/LPIS/blob/master/Cleaning1b.ipynb"
   ]
  },
  {
   "cell_type": "markdown",
   "metadata": {},
   "source": [
    "## Link collisions to signal intersections\n",
    "- with collisions_to_Signal_intersections.ipynb\n",
    "- Python\n",
    "- https://github.com/jeremysze/LPIS/blob/master/Collisions%20to%20Signal%20intersections.ipynb"
   ]
  },
  {
   "cell_type": "markdown",
   "metadata": {},
   "source": [
    "## Set up collision outcomes into monthly and quarterly counts\n",
    "- with setting_up_outcomes_1c.ipynb\n",
    "- Stata kernel\n",
    "- https://github.com/jeremysze/LPIS/blob/master/setting_up_outcomes_1c.ipynb"
   ]
  },
  {
   "cell_type": "markdown",
   "metadata": {},
   "source": [
    "## Set up panel data monthly\n",
    "- with setting_up_panel_month_2a\n",
    "- Stata kernel\n",
    "- https://github.com/jeremysze/LPIS/blob/master/Setting_up_panel_month_2a.ipynb"
   ]
  },
  {
   "cell_type": "markdown",
   "metadata": {},
   "source": [
    "## Set up panel data quarterly\n",
    "- with setting_up_panel_quarter_2b\n",
    "- Stata kernel\n",
    "- https://github.com/jeremysze/LPIS/blob/master/Setting_up_panel_quarter_2b.ipynb"
   ]
  },
  {
   "cell_type": "markdown",
   "metadata": {},
   "source": [
    "## Converting mt panel data into shapefile\n",
    "- with analytical_panel_shapefile.ipynb\n",
    "- Python\n",
    "- https://github.com/jeremysze/LPIS/blob/master/analytical%20panel%20shapefile.ipynb"
   ]
  },
  {
   "cell_type": "markdown",
   "metadata": {},
   "source": [
    "## Converting qt panel data into shapefile\n",
    "- with analytical panel shapefile-quarter.ipynb\n",
    "- Python\n",
    "- https://github.com/jeremysze/LPIS/blob/master/analytical%20panel%20shapefile-quarter.ipynb\n"
   ]
  },
  {
   "cell_type": "markdown",
   "metadata": {},
   "source": [
    "## Convert analytical panel shapefile into Thiessen Polygons\n",
    "This is achieved in GeoDa (Gui)"
   ]
  },
  {
   "cell_type": "markdown",
   "metadata": {},
   "source": [
    "## Calculate contiguity matrix and spatial regressions (OUTDATED)\n",
    "- with setting_up_spatialweights_1b.ipynb\n",
    "- Stata kernel\n",
    "- https://github.com/jeremysze/LPIS/blob/master/setting_up_spatialweights_1b.ipynb"
   ]
  },
  {
   "cell_type": "markdown",
   "metadata": {},
   "source": [
    "## Analysis Monthly Fixed Effects Panel regression\n",
    "- with analysis_mt_panel_3a.ipynb\n",
    "- Stata kernel\n",
    "- https://github.com/jeremysze/LPIS/blob/master/analysis_mt_panel_3a.ipynb"
   ]
  },
  {
   "cell_type": "markdown",
   "metadata": {},
   "source": [
    "## Clip the Thiessen Polygons to Borough polygons\n",
    "- with Python_Clip thiessen polygons.ipynb\n",
    "- Python\n",
    "\n",
    "- https://github.com/jeremysze/LPIS/blob/master/Python_Clip%20thiessen%20polygons.ipynb"
   ]
  },
  {
   "cell_type": "markdown",
   "metadata": {},
   "source": [
    "## Analysis Quarterly Fixed Effects Panel regression\n",
    "- with analysis_qt_panel_3b.ipynb\n",
    "- Stata kernel\n",
    "\n",
    "- Descriptive tables -> https://github.com/jeremysze/LPIS/blob/master/stata_analysis_qt_panel_descriptives.ipynb\n",
    "\n",
    "- Non Spatial -> https://github.com/jeremysze/LPIS/blob/master/stata_analysis_qt_panel_3b.ipynb\n",
    "\n",
    "- Spatial - > https://github.com/jeremysze/LPIS/blob/master/Spatial_regression_qt.ipynb"
   ]
  },
  {
   "cell_type": "markdown",
   "metadata": {},
   "source": [
    "## Analysis (outdated)\n",
    "- with analysis_panel_3.do\n",
    "- Stata dofile\n",
    "- https://github.com/jeremysze/LPIS/blob/master/analysis_panel_3.do"
   ]
  },
  {
   "cell_type": "markdown",
   "metadata": {},
   "source": [
    "## Spatial Panel Regression in R\n",
    "- with Spatial Regression QT in R\n",
    "- R kernel\n",
    "- Try to calculate contiguity matrix\n",
    "- Test for Moran's I in panal data\n",
    "- Run Spatial lag model and spatial error model\n",
    "- https://github.com/jeremysze/LPIS/blob/master/R%20Spatial%20Regression%20QT.ipynb"
   ]
  },
  {
   "cell_type": "markdown",
   "metadata": {},
   "source": []
  },
  {
   "cell_type": "markdown",
   "metadata": {},
   "source": []
  },
  {
   "cell_type": "markdown",
   "metadata": {},
   "source": []
  },
  {
   "cell_type": "markdown",
   "metadata": {},
   "source": []
  },
  {
   "cell_type": "markdown",
   "metadata": {},
   "source": []
  },
  {
   "cell_type": "markdown",
   "metadata": {},
   "source": []
  }
 ],
 "metadata": {
  "kernelspec": {
   "display_name": "Python 3",
   "language": "python",
   "name": "python3"
  },
  "language_info": {
   "codemirror_mode": {
    "name": "ipython",
    "version": 3
   },
   "file_extension": ".py",
   "mimetype": "text/x-python",
   "name": "python",
   "nbconvert_exporter": "python",
   "pygments_lexer": "ipython3",
   "version": "3.6.8"
  }
 },
 "nbformat": 4,
 "nbformat_minor": 2
}
