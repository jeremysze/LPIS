{
 "cells": [
  {
   "cell_type": "markdown",
   "metadata": {},
   "source": [
    "I import the NYPD Collisions dataset from NYC Open Data. Be patient this takes a while."
   ]
  },
  {
   "cell_type": "code",
   "execution_count": 1,
   "metadata": {},
   "outputs": [
    {
     "name": "stdout",
     "output_type": "stream",
     "text": [
      "\n",
      "\n",
      "(29 vars, 1,367,699 obs)\n",
      "\n",
      "23 Oct 2018 12:07:57\n",
      "\n",
      "\n",
      "\n",
      "_dta:\n",
      "  1.  \"Downloaded 23 Oct 2018 12:07:57\"\n"
     ]
    }
   ],
   "source": [
    "clear\n",
    "import delimited \"https://data.cityofnewyork.us/api/views/h9gi-nx95/rows.csv?accessType=DOWNLOAD\"\n",
    "display \"$S_DATE $S_TIME\"\n",
    "notes: \"Downloaded $S_DATE $S_TIME\"\n",
    "notes list\n",
    "//save \"..\\input_data\\NYPD_Motor_Vehicle_Collisions.dta\""
   ]
  },
  {
   "cell_type": "markdown",
   "metadata": {},
   "source": []
  }
 ],
 "metadata": {
  "kernelspec": {
   "display_name": "Stata",
   "language": "stata",
   "name": "stata"
  },
  "language_info": {
   "file_extension": ".do",
   "mimetype": "text/x-stata",
   "name": "stata"
  }
 },
 "nbformat": 4,
 "nbformat_minor": 2
}
