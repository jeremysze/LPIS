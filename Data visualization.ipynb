{
 "cells": [
  {
   "cell_type": "code",
   "execution_count": null,
   "metadata": {},
   "outputs": [],
   "source": [
    "import pandas as pd\n",
    "import geopandas as gpd\n",
    "import folium\n",
    "from folium.plugins import MarkerCluster, HeatMap\n",
    "\n",
    "import matplotlib.pyplot as plt\n",
    "plt.style.use('bmh')\n",
    "\n",
    "import seaborn as sns\n",
    "import osmnx as ox\n",
    "import fiona\n",
    "\n",
    "import os\n",
    "os.environ[\"PROJ_LIB\"] = \"C:\\ProgramData\\Anaconda3\\Library\\share\" #window"
   ]
  },
  {
   "cell_type": "code",
   "execution_count": null,
   "metadata": {},
   "outputs": [],
   "source": [
    "#Filepaths\n",
    "work = r\"D:\"\n",
    "laptop = r\"C:\\Users\\jerem\"\n",
    "origin = work"
   ]
  },
  {
   "cell_type": "code",
   "execution_count": null,
   "metadata": {},
   "outputs": [],
   "source": [
    "fp =  r\"\\Box Sync\\Policy Evaluation\\working_data\\analytical_panel_shapefile\\analytical_panel_qt_shapefile.shp\"\n",
    "df = gpd.read_file(origin+fp)"
   ]
  },
  {
   "cell_type": "markdown",
   "metadata": {},
   "source": [
    "Current CRS is set for New York Long Island (ftUS)"
   ]
  },
  {
   "cell_type": "code",
   "execution_count": null,
   "metadata": {},
   "outputs": [],
   "source": [
    "df.crs"
   ]
  },
  {
   "cell_type": "markdown",
   "metadata": {},
   "source": [
    "Switch to WGS 84"
   ]
  },
  {
   "cell_type": "code",
   "execution_count": null,
   "metadata": {},
   "outputs": [],
   "source": [
    "df = df.to_crs({'init': 'epsg:4326'})"
   ]
  },
  {
   "cell_type": "markdown",
   "metadata": {},
   "source": [
    "Collapse into counts of collisions, number of injuries by intersections"
   ]
  },
  {
   "cell_type": "code",
   "execution_count": null,
   "metadata": {},
   "outputs": [],
   "source": [
    "columns = df.columns"
   ]
  },
  {
   "cell_type": "code",
   "execution_count": null,
   "metadata": {},
   "outputs": [],
   "source": [
    "print(columns)"
   ]
  },
  {
   "cell_type": "code",
   "execution_count": null,
   "metadata": {},
   "outputs": [],
   "source": [
    "new_cols = ['collision_count','personsinjured','pedestriansinjured','cyclistinjured','motoristinjured','bronx','brooklyn','manhattan','queens','statenisland','distance_to_LPIS','distance_to_Street','distance_to_Sch','distance_to_LTC','distance_to_bikeroute','distance_to_truckroute','flag_left_turn_ever','flag_left_turn','flag_LPIS_ever','flag_LPIS','bike_route_tv','bike_route_ever', 'flag_seniors','flag_priorityinters','flag_school','quarter','year','intersection_id','y','x','geometry']\n",
    "df.set_axis(new_cols, axis='columns', inplace=False)\n",
    "\n"
   ]
  },
  {
   "cell_type": "code",
   "execution_count": null,
   "metadata": {},
   "outputs": [],
   "source": [
    "df.columns"
   ]
  },
  {
   "cell_type": "code",
   "execution_count": null,
   "metadata": {},
   "outputs": [],
   "source": [
    "df['longitude'] = df.geometry.x\n",
    "df['latitude'] = df.geometry.y"
   ]
  },
  {
   "cell_type": "code",
   "execution_count": null,
   "metadata": {},
   "outputs": [],
   "source": [
    "df.head(2)"
   ]
  },
  {
   "cell_type": "code",
   "execution_count": null,
   "metadata": {},
   "outputs": [],
   "source": [
    "lastcols = ['intersection_id', 'flag_LPIS_ever', 'latitude','longitude'] \n",
    "sumcols = ['collision_count', 'personsinjured', 'pedestriansinjured', 'cyclistinjured', 'motoristinjured'] \n",
    "allcols = lastcols + sumcols\n",
    "methods = len(lastcols)*['last'] + len(allcols)*['sum']\n",
    "aggdict = dict(zip(allcols, methods))\n",
    "aggdict"
   ]
  },
  {
   "cell_type": "code",
   "execution_count": null,
   "metadata": {},
   "outputs": [],
   "source": [
    "df1 = df.groupby('intersection_id')[allcols].agg(aggdict)\n",
    "df1.shape"
   ]
  },
  {
   "cell_type": "code",
   "execution_count": null,
   "metadata": {},
   "outputs": [],
   "source": [
    "df1.head(2)"
   ]
  },
  {
   "cell_type": "code",
   "execution_count": null,
   "metadata": {},
   "outputs": [],
   "source": [
    "(df1.groupby('flag_LPIS_ever')[['intersection_id','personsinjured', 'pedestriansinjured', 'cyclistinjured', 'motoristinjured']]\n",
    "       .agg({'intersection_id': 'count', 'personsinjured' : 'mean', 'pedestriansinjured' : 'mean', 'cyclistinjured' : 'mean', 'motoristinjured' : 'mean'}) )"
   ]
  },
  {
   "cell_type": "code",
   "execution_count": null,
   "metadata": {},
   "outputs": [],
   "source": [
    "plt.title('Total Persons injured over entire period')\n",
    "df1.personsinjured.hist(bins=[1,2,3,4,5,10, 15, 20, 30, 50]);"
   ]
  },
  {
   "cell_type": "code",
   "execution_count": null,
   "metadata": {},
   "outputs": [],
   "source": [
    "m = folium.Map(location=[40.736480, -73.927184], zoom_start =15, tiles='OpenStreetMap')\n",
    "\n",
    "for idx, row in df1.iterrows():\n",
    "    if (row.flag_LPIS_ever == 1):\n",
    "        folium.Circle(location=[row.latitude, row.longitude],\n",
    "                     popup=f'LPIS {row.intersection_id}',\n",
    "                     radius = 10 + row.personsinjured*3\n",
    "                     ).add_to(m)\n",
    "    else:\n",
    "       folium.Circle(location=[row.latitude, row.longitude],\n",
    "                     popup=f'{row.intersection_id}',\n",
    "                     radius = 10 + row.personsinjured*3,\n",
    "                     color = 'grey',\n",
    "                     ).add_to(m)\n",
    "#m"
   ]
  },
  {
   "cell_type": "code",
   "execution_count": null,
   "metadata": {},
   "outputs": [],
   "source": [
    "m.save('m.html')"
   ]
  },
  {
   "cell_type": "code",
   "execution_count": null,
   "metadata": {},
   "outputs": [],
   "source": [
    "Heatmap"
   ]
  },
  {
   "cell_type": "code",
   "execution_count": null,
   "metadata": {},
   "outputs": [],
   "source": [
    "df2 = folium.Map(location=[40.736480, -73.927184], zoom_start =15, tiles='OpenStreetMap')\n",
    "\n",
    "HeatMap(list(zip(df1.latitude, df1.longitude, df1.personsinjured)), radius = 12).add_to(df2) \n",
    "\n",
    "for idx, row in df1.iterrows():\n",
    "    if (row.flag_LPIS_ever == 1):\n",
    "        folium.Circle(location=[row.latitude, row.longitude],\n",
    "                     popup=f'LPIS {row.intersection_id}',\n",
    "                     radius = 10 + row.personsinjured*3\n",
    "                     ).add_to(df2)\n",
    "\n",
    "#df2"
   ]
  },
  {
   "cell_type": "code",
   "execution_count": null,
   "metadata": {},
   "outputs": [],
   "source": [
    "df2.save('df2.html')"
   ]
  },
  {
   "cell_type": "markdown",
   "metadata": {},
   "source": [
    "A slippy map of all LPIS intersections\n",
    "We use the Folium MarkerCluster option so that the markers 'cluster' when we zoom out rather than overwhelm the map.\n",
    "\n",
    "Collapse the entire panel to a dataframe with just LPIS intersections. We can use the same columns and dictionary as used above."
   ]
  },
  {
   "cell_type": "code",
   "execution_count": null,
   "metadata": {},
   "outputs": [],
   "source": [
    "df3  = df.groupby('intersection_id')[allcols].agg(aggdict)"
   ]
  },
  {
   "cell_type": "code",
   "execution_count": null,
   "metadata": {},
   "outputs": [],
   "source": [
    "LPIS = (df.flag_LPIS_ever == 1)"
   ]
  },
  {
   "cell_type": "code",
   "execution_count": null,
   "metadata": {},
   "outputs": [],
   "source": [
    "df[LPIS].shape"
   ]
  },
  {
   "cell_type": "code",
   "execution_count": null,
   "metadata": {},
   "outputs": [],
   "source": [
    "locations = list(zip(df[LPIS].latitude, df[LPIS].longitude,))\n",
    "locations[:4]"
   ]
  },
  {
   "cell_type": "code",
   "execution_count": null,
   "metadata": {},
   "outputs": [],
   "source": [
    "map2 = folium.Map(location=[40.736480, -73.927184], zoom_start =13, tiles='OpenStreetMap')\n",
    "marker_cluster = MarkerCluster().add_to(map2)"
   ]
  },
  {
   "cell_type": "code",
   "execution_count": null,
   "metadata": {},
   "outputs": [],
   "source": [
    "for idx, row in df[LPIS].iterrows():\n",
    "    folium.Marker(location=[row.latitude, row.longitude],\n",
    "                 popup=f'ID={row.intersection_id}, inj ={row.personsinjured}'\n",
    "                 ).add_to(marker_cluster)"
   ]
  },
  {
   "cell_type": "code",
   "execution_count": null,
   "metadata": {},
   "outputs": [],
   "source": [
    "map2.save('lpis.html')\n"
   ]
  },
  {
   "cell_type": "code",
   "execution_count": null,
   "metadata": {},
   "outputs": [],
   "source": [
    "#map2"
   ]
  }
 ],
 "metadata": {
  "kernelspec": {
   "display_name": "Python 3",
   "language": "python",
   "name": "python3"
  },
  "language_info": {
   "codemirror_mode": {
    "name": "ipython",
    "version": 3
   },
   "file_extension": ".py",
   "mimetype": "text/x-python",
   "name": "python",
   "nbconvert_exporter": "python",
   "pygments_lexer": "ipython3",
   "version": "3.6.5"
  }
 },
 "nbformat": 4,
 "nbformat_minor": 2
}
