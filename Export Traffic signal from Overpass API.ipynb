{
 "cells": [
  {
   "cell_type": "code",
   "execution_count": 33,
   "metadata": {},
   "outputs": [],
   "source": [
    "import osmnx as ox\n",
    "import matplotlib.pyplot as plt\n",
    "import pandas as pd\n",
    "import geopandas as gpd\n",
    "import requests\n",
    "import fiona\n",
    "from fiona.crs import from_epsg\n",
    "import numpy as np\n",
    "import json\n",
    "from pandas.io.json import json_normalize\n",
    "import urllib.request, json \n",
    "\n",
    "from descartes import PolygonPatch\n",
    "from shapely.geometry import Point, Polygon, MultiPolygon, shape\n",
    "%matplotlib inline\n",
    "import os\n",
    "os.environ[\"PROJ_LIB\"] = \"C:\\ProgramData\\Anaconda3\\Library\\share\" #window"
   ]
  },
  {
   "cell_type": "code",
   "execution_count": 2,
   "metadata": {},
   "outputs": [],
   "source": [
    "#Get polygon of NYC\n",
    "gdf = ox.gdf_from_place('New York City, NY, USA')"
   ]
  },
  {
   "cell_type": "code",
   "execution_count": 3,
   "metadata": {
    "scrolled": true
   },
   "outputs": [
    {
     "data": {
      "text/plain": [
       "<matplotlib.axes._subplots.AxesSubplot at 0x28215841400>"
      ]
     },
     "execution_count": 3,
     "metadata": {},
     "output_type": "execute_result"
    },
    {
     "data": {
      "image/png": "[encoded data removed]",
      "text/plain": [
       "<Figure size 432x288 with 1 Axes>"
      ]
     },
     "metadata": {},
     "output_type": "display_data"
    }
   ],
   "source": [
    "gdf.plot()"
   ]
  },
  {
   "cell_type": "code",
   "execution_count": 4,
   "metadata": {},
   "outputs": [],
   "source": [
    "# define a bounding box in NYC\n",
    "south, west, north, east = gdf.unary_union.buffer(0.1).bounds"
   ]
  },
  {
   "cell_type": "code",
   "execution_count": 5,
   "metadata": {},
   "outputs": [
    {
     "name": "stdout",
     "output_type": "stream",
     "text": [
      "-74.35908999097687 40.37753432750217 -73.60019572851844 41.01617676767561\n"
     ]
    }
   ],
   "source": [
    "print(south, west, north, east)"
   ]
  },
  {
   "cell_type": "markdown",
   "metadata": {},
   "source": [
    "https://stackoverflow.com/questions/36516183/what-should-i-use-instead-of-urlopen-in-urllib3\n",
    "https://stackoverflow.com/questions/12965203/how-to-get-json-from-webpage-into-python-script\n",
    "https://stackoverflow.com/questions/7771011/parse-json-in-python\n",
    "https://gis.stackexchange.com/questions/225586/reading-raw-data-into-geopandas\n",
    "https://stackoverflow.com/questions/33559660/error-while-reading-json-file"
   ]
  },
  {
   "cell_type": "code",
   "execution_count": 9,
   "metadata": {},
   "outputs": [
    {
     "data": {
      "text/plain": [
       "['version', 'generator', 'osm3s', 'elements']"
      ]
     },
     "execution_count": 9,
     "metadata": {},
     "output_type": "execute_result"
    }
   ],
   "source": [
    "url = \"http://overpass-api.de/api/interpreter?data=[out:json];node[highway=traffic_signals](40.37753432750217,-74.35908999097687,41.01617676767561,-73.60019572851844);out%20meta;\"\n",
    "output = json.loads(requests.get(url).text)\n",
    "list(output.keys())"
   ]
  },
  {
   "cell_type": "code",
   "execution_count": 12,
   "metadata": {},
   "outputs": [
    {
     "data": {
      "text/html": [
       "<div>\n",
       "<style scoped>\n",
       "    .dataframe tbody tr th:only-of-type {\n",
       "        vertical-align: middle;\n",
       "    }\n",
       "\n",
       "    .dataframe tbody tr th {\n",
       "        vertical-align: top;\n",
       "    }\n",
       "\n",
       "    .dataframe thead th {\n",
       "        text-align: right;\n",
       "    }\n",
       "</style>\n",
       "<table border=\"1\" class=\"dataframe\">\n",
       "  <thead>\n",
       "    <tr style=\"text-align: right;\">\n",
       "      <th></th>\n",
       "      <th>changeset</th>\n",
       "      <th>id</th>\n",
       "      <th>lat</th>\n",
       "      <th>lon</th>\n",
       "      <th>tags</th>\n",
       "      <th>timestamp</th>\n",
       "      <th>type</th>\n",
       "      <th>uid</th>\n",
       "      <th>user</th>\n",
       "      <th>version</th>\n",
       "    </tr>\n",
       "  </thead>\n",
       "  <tbody>\n",
       "    <tr>\n",
       "      <th>0</th>\n",
       "      <td>60842978</td>\n",
       "      <td>42421728</td>\n",
       "      <td>40.798049</td>\n",
       "      <td>-73.960043</td>\n",
       "      <td>{'crossing': 'traffic_signals', 'highway': 'tr...</td>\n",
       "      <td>2018-07-18T16:25:37Z</td>\n",
       "      <td>node</td>\n",
       "      <td>8500573</td>\n",
       "      <td>tabaya</td>\n",
       "      <td>5</td>\n",
       "    </tr>\n",
       "    <tr>\n",
       "      <th>1</th>\n",
       "      <td>47049187</td>\n",
       "      <td>42421731</td>\n",
       "      <td>40.798645</td>\n",
       "      <td>-73.961474</td>\n",
       "      <td>{'highway': 'traffic_signals'}</td>\n",
       "      <td>2017-03-21T19:36:26Z</td>\n",
       "      <td>node</td>\n",
       "      <td>1597155</td>\n",
       "      <td>poornibadrinath</td>\n",
       "      <td>7</td>\n",
       "    </tr>\n",
       "    <tr>\n",
       "      <th>2</th>\n",
       "      <td>16529897</td>\n",
       "      <td>42421737</td>\n",
       "      <td>40.799237</td>\n",
       "      <td>-73.962876</td>\n",
       "      <td>{'highway': 'traffic_signals'}</td>\n",
       "      <td>2013-06-12T21:03:39Z</td>\n",
       "      <td>node</td>\n",
       "      <td>1541236</td>\n",
       "      <td>AlexSof</td>\n",
       "      <td>8</td>\n",
       "    </tr>\n",
       "    <tr>\n",
       "      <th>3</th>\n",
       "      <td>16529671</td>\n",
       "      <td>42421741</td>\n",
       "      <td>40.800431</td>\n",
       "      <td>-73.965705</td>\n",
       "      <td>{'highway': 'traffic_signals'}</td>\n",
       "      <td>2013-06-12T20:48:02Z</td>\n",
       "      <td>node</td>\n",
       "      <td>1541236</td>\n",
       "      <td>AlexSof</td>\n",
       "      <td>7</td>\n",
       "    </tr>\n",
       "    <tr>\n",
       "      <th>4</th>\n",
       "      <td>13681649</td>\n",
       "      <td>42421745</td>\n",
       "      <td>40.801401</td>\n",
       "      <td>-73.967994</td>\n",
       "      <td>{'highway': 'traffic_signals'}</td>\n",
       "      <td>2012-10-30T02:20:04Z</td>\n",
       "      <td>node</td>\n",
       "      <td>716239</td>\n",
       "      <td>WestsideGuy</td>\n",
       "      <td>7</td>\n",
       "    </tr>\n",
       "  </tbody>\n",
       "</table>\n",
       "</div>"
      ],
      "text/plain": [
       "   changeset        id        lat        lon  \\\n",
       "0   60842978  42421728  40.798049 -73.960043   \n",
       "1   47049187  42421731  40.798645 -73.961474   \n",
       "2   16529897  42421737  40.799237 -73.962876   \n",
       "3   16529671  42421741  40.800431 -73.965705   \n",
       "4   13681649  42421745  40.801401 -73.967994   \n",
       "\n",
       "                                                tags             timestamp  \\\n",
       "0  {'crossing': 'traffic_signals', 'highway': 'tr...  2018-07-18T16:25:37Z   \n",
       "1                     {'highway': 'traffic_signals'}  2017-03-21T19:36:26Z   \n",
       "2                     {'highway': 'traffic_signals'}  2013-06-12T21:03:39Z   \n",
       "3                     {'highway': 'traffic_signals'}  2013-06-12T20:48:02Z   \n",
       "4                     {'highway': 'traffic_signals'}  2012-10-30T02:20:04Z   \n",
       "\n",
       "   type      uid             user  version  \n",
       "0  node  8500573           tabaya        5  \n",
       "1  node  1597155  poornibadrinath        7  \n",
       "2  node  1541236          AlexSof        8  \n",
       "3  node  1541236          AlexSof        7  \n",
       "4  node   716239      WestsideGuy        7  "
      ]
     },
     "execution_count": 12,
     "metadata": {},
     "output_type": "execute_result"
    }
   ],
   "source": [
    "# converting json dataset from dictionary to dataframeprint(data.head())\n",
    "df = json_normalize(output,'elements')\n",
    "df.head()"
   ]
  },
  {
   "cell_type": "markdown",
   "metadata": {},
   "source": [
    "Turn df into geopandas dataframe\n"
   ]
  },
  {
   "cell_type": "code",
   "execution_count": 23,
   "metadata": {},
   "outputs": [
    {
     "data": {
      "text/html": [
       "<div>\n",
       "<style scoped>\n",
       "    .dataframe tbody tr th:only-of-type {\n",
       "        vertical-align: middle;\n",
       "    }\n",
       "\n",
       "    .dataframe tbody tr th {\n",
       "        vertical-align: top;\n",
       "    }\n",
       "\n",
       "    .dataframe thead th {\n",
       "        text-align: right;\n",
       "    }\n",
       "</style>\n",
       "<table border=\"1\" class=\"dataframe\">\n",
       "  <thead>\n",
       "    <tr style=\"text-align: right;\">\n",
       "      <th></th>\n",
       "      <th>changeset</th>\n",
       "      <th>id</th>\n",
       "      <th>lat</th>\n",
       "      <th>lon</th>\n",
       "      <th>tags</th>\n",
       "      <th>timestamp</th>\n",
       "      <th>type</th>\n",
       "      <th>uid</th>\n",
       "      <th>user</th>\n",
       "      <th>version</th>\n",
       "      <th>Coordinates</th>\n",
       "    </tr>\n",
       "  </thead>\n",
       "  <tbody>\n",
       "    <tr>\n",
       "      <th>0</th>\n",
       "      <td>60842978</td>\n",
       "      <td>42421728</td>\n",
       "      <td>40.798049</td>\n",
       "      <td>-73.960043</td>\n",
       "      <td>{'crossing': 'traffic_signals', 'highway': 'tr...</td>\n",
       "      <td>2018-07-18T16:25:37Z</td>\n",
       "      <td>node</td>\n",
       "      <td>8500573</td>\n",
       "      <td>tabaya</td>\n",
       "      <td>5</td>\n",
       "      <td>(-73.9600434, 40.7980486)</td>\n",
       "    </tr>\n",
       "    <tr>\n",
       "      <th>1</th>\n",
       "      <td>47049187</td>\n",
       "      <td>42421731</td>\n",
       "      <td>40.798645</td>\n",
       "      <td>-73.961474</td>\n",
       "      <td>{'highway': 'traffic_signals'}</td>\n",
       "      <td>2017-03-21T19:36:26Z</td>\n",
       "      <td>node</td>\n",
       "      <td>1597155</td>\n",
       "      <td>poornibadrinath</td>\n",
       "      <td>7</td>\n",
       "      <td>(-73.9614743, 40.798645)</td>\n",
       "    </tr>\n",
       "    <tr>\n",
       "      <th>2</th>\n",
       "      <td>16529897</td>\n",
       "      <td>42421737</td>\n",
       "      <td>40.799237</td>\n",
       "      <td>-73.962876</td>\n",
       "      <td>{'highway': 'traffic_signals'}</td>\n",
       "      <td>2013-06-12T21:03:39Z</td>\n",
       "      <td>node</td>\n",
       "      <td>1541236</td>\n",
       "      <td>AlexSof</td>\n",
       "      <td>8</td>\n",
       "      <td>(-73.962876, 40.7992369)</td>\n",
       "    </tr>\n",
       "    <tr>\n",
       "      <th>3</th>\n",
       "      <td>16529671</td>\n",
       "      <td>42421741</td>\n",
       "      <td>40.800431</td>\n",
       "      <td>-73.965705</td>\n",
       "      <td>{'highway': 'traffic_signals'}</td>\n",
       "      <td>2013-06-12T20:48:02Z</td>\n",
       "      <td>node</td>\n",
       "      <td>1541236</td>\n",
       "      <td>AlexSof</td>\n",
       "      <td>7</td>\n",
       "      <td>(-73.9657046, 40.8004313)</td>\n",
       "    </tr>\n",
       "    <tr>\n",
       "      <th>4</th>\n",
       "      <td>13681649</td>\n",
       "      <td>42421745</td>\n",
       "      <td>40.801401</td>\n",
       "      <td>-73.967994</td>\n",
       "      <td>{'highway': 'traffic_signals'}</td>\n",
       "      <td>2012-10-30T02:20:04Z</td>\n",
       "      <td>node</td>\n",
       "      <td>716239</td>\n",
       "      <td>WestsideGuy</td>\n",
       "      <td>7</td>\n",
       "      <td>(-73.9679942, 40.8014007)</td>\n",
       "    </tr>\n",
       "  </tbody>\n",
       "</table>\n",
       "</div>"
      ],
      "text/plain": [
       "   changeset        id        lat        lon  \\\n",
       "0   60842978  42421728  40.798049 -73.960043   \n",
       "1   47049187  42421731  40.798645 -73.961474   \n",
       "2   16529897  42421737  40.799237 -73.962876   \n",
       "3   16529671  42421741  40.800431 -73.965705   \n",
       "4   13681649  42421745  40.801401 -73.967994   \n",
       "\n",
       "                                                tags             timestamp  \\\n",
       "0  {'crossing': 'traffic_signals', 'highway': 'tr...  2018-07-18T16:25:37Z   \n",
       "1                     {'highway': 'traffic_signals'}  2017-03-21T19:36:26Z   \n",
       "2                     {'highway': 'traffic_signals'}  2013-06-12T21:03:39Z   \n",
       "3                     {'highway': 'traffic_signals'}  2013-06-12T20:48:02Z   \n",
       "4                     {'highway': 'traffic_signals'}  2012-10-30T02:20:04Z   \n",
       "\n",
       "   type      uid             user  version                Coordinates  \n",
       "0  node  8500573           tabaya        5  (-73.9600434, 40.7980486)  \n",
       "1  node  1597155  poornibadrinath        7   (-73.9614743, 40.798645)  \n",
       "2  node  1541236          AlexSof        8   (-73.962876, 40.7992369)  \n",
       "3  node  1541236          AlexSof        7  (-73.9657046, 40.8004313)  \n",
       "4  node   716239      WestsideGuy        7  (-73.9679942, 40.8014007)  "
      ]
     },
     "execution_count": 23,
     "metadata": {},
     "output_type": "execute_result"
    }
   ],
   "source": [
    "df['Coordinates'] = list(zip(df.lon, df.lat))\n",
    "df.head()"
   ]
  },
  {
   "cell_type": "code",
   "execution_count": 24,
   "metadata": {},
   "outputs": [],
   "source": [
    "df['Coordinates'] = df['Coordinates'].apply(Point)\n"
   ]
  },
  {
   "cell_type": "code",
   "execution_count": 26,
   "metadata": {},
   "outputs": [],
   "source": [
    "gdf = gpd.GeoDataFrame(df, geometry='Coordinates')"
   ]
  },
  {
   "cell_type": "code",
   "execution_count": 28,
   "metadata": {},
   "outputs": [
    {
     "data": {
      "text/html": [
       "<div>\n",
       "<style scoped>\n",
       "    .dataframe tbody tr th:only-of-type {\n",
       "        vertical-align: middle;\n",
       "    }\n",
       "\n",
       "    .dataframe tbody tr th {\n",
       "        vertical-align: top;\n",
       "    }\n",
       "\n",
       "    .dataframe thead th {\n",
       "        text-align: right;\n",
       "    }\n",
       "</style>\n",
       "<table border=\"1\" class=\"dataframe\">\n",
       "  <thead>\n",
       "    <tr style=\"text-align: right;\">\n",
       "      <th></th>\n",
       "      <th>changeset</th>\n",
       "      <th>id</th>\n",
       "      <th>lat</th>\n",
       "      <th>lon</th>\n",
       "      <th>tags</th>\n",
       "      <th>timestamp</th>\n",
       "      <th>type</th>\n",
       "      <th>uid</th>\n",
       "      <th>user</th>\n",
       "      <th>version</th>\n",
       "      <th>Coordinates</th>\n",
       "    </tr>\n",
       "  </thead>\n",
       "  <tbody>\n",
       "    <tr>\n",
       "      <th>0</th>\n",
       "      <td>60842978</td>\n",
       "      <td>42421728</td>\n",
       "      <td>40.798049</td>\n",
       "      <td>-73.960043</td>\n",
       "      <td>{'crossing': 'traffic_signals', 'highway': 'tr...</td>\n",
       "      <td>2018-07-18T16:25:37Z</td>\n",
       "      <td>node</td>\n",
       "      <td>8500573</td>\n",
       "      <td>tabaya</td>\n",
       "      <td>5</td>\n",
       "      <td>POINT (-73.9600434 40.7980486)</td>\n",
       "    </tr>\n",
       "    <tr>\n",
       "      <th>1</th>\n",
       "      <td>47049187</td>\n",
       "      <td>42421731</td>\n",
       "      <td>40.798645</td>\n",
       "      <td>-73.961474</td>\n",
       "      <td>{'highway': 'traffic_signals'}</td>\n",
       "      <td>2017-03-21T19:36:26Z</td>\n",
       "      <td>node</td>\n",
       "      <td>1597155</td>\n",
       "      <td>poornibadrinath</td>\n",
       "      <td>7</td>\n",
       "      <td>POINT (-73.96147430000001 40.798645)</td>\n",
       "    </tr>\n",
       "    <tr>\n",
       "      <th>2</th>\n",
       "      <td>16529897</td>\n",
       "      <td>42421737</td>\n",
       "      <td>40.799237</td>\n",
       "      <td>-73.962876</td>\n",
       "      <td>{'highway': 'traffic_signals'}</td>\n",
       "      <td>2013-06-12T21:03:39Z</td>\n",
       "      <td>node</td>\n",
       "      <td>1541236</td>\n",
       "      <td>AlexSof</td>\n",
       "      <td>8</td>\n",
       "      <td>POINT (-73.96287599999999 40.7992369)</td>\n",
       "    </tr>\n",
       "    <tr>\n",
       "      <th>3</th>\n",
       "      <td>16529671</td>\n",
       "      <td>42421741</td>\n",
       "      <td>40.800431</td>\n",
       "      <td>-73.965705</td>\n",
       "      <td>{'highway': 'traffic_signals'}</td>\n",
       "      <td>2013-06-12T20:48:02Z</td>\n",
       "      <td>node</td>\n",
       "      <td>1541236</td>\n",
       "      <td>AlexSof</td>\n",
       "      <td>7</td>\n",
       "      <td>POINT (-73.9657046 40.8004313)</td>\n",
       "    </tr>\n",
       "    <tr>\n",
       "      <th>4</th>\n",
       "      <td>13681649</td>\n",
       "      <td>42421745</td>\n",
       "      <td>40.801401</td>\n",
       "      <td>-73.967994</td>\n",
       "      <td>{'highway': 'traffic_signals'}</td>\n",
       "      <td>2012-10-30T02:20:04Z</td>\n",
       "      <td>node</td>\n",
       "      <td>716239</td>\n",
       "      <td>WestsideGuy</td>\n",
       "      <td>7</td>\n",
       "      <td>POINT (-73.96799420000001 40.8014007)</td>\n",
       "    </tr>\n",
       "  </tbody>\n",
       "</table>\n",
       "</div>"
      ],
      "text/plain": [
       "   changeset        id        lat        lon  \\\n",
       "0   60842978  42421728  40.798049 -73.960043   \n",
       "1   47049187  42421731  40.798645 -73.961474   \n",
       "2   16529897  42421737  40.799237 -73.962876   \n",
       "3   16529671  42421741  40.800431 -73.965705   \n",
       "4   13681649  42421745  40.801401 -73.967994   \n",
       "\n",
       "                                                tags             timestamp  \\\n",
       "0  {'crossing': 'traffic_signals', 'highway': 'tr...  2018-07-18T16:25:37Z   \n",
       "1                     {'highway': 'traffic_signals'}  2017-03-21T19:36:26Z   \n",
       "2                     {'highway': 'traffic_signals'}  2013-06-12T21:03:39Z   \n",
       "3                     {'highway': 'traffic_signals'}  2013-06-12T20:48:02Z   \n",
       "4                     {'highway': 'traffic_signals'}  2012-10-30T02:20:04Z   \n",
       "\n",
       "   type      uid             user  version  \\\n",
       "0  node  8500573           tabaya        5   \n",
       "1  node  1597155  poornibadrinath        7   \n",
       "2  node  1541236          AlexSof        8   \n",
       "3  node  1541236          AlexSof        7   \n",
       "4  node   716239      WestsideGuy        7   \n",
       "\n",
       "                             Coordinates  \n",
       "0         POINT (-73.9600434 40.7980486)  \n",
       "1   POINT (-73.96147430000001 40.798645)  \n",
       "2  POINT (-73.96287599999999 40.7992369)  \n",
       "3         POINT (-73.9657046 40.8004313)  \n",
       "4  POINT (-73.96799420000001 40.8014007)  "
      ]
     },
     "execution_count": 28,
     "metadata": {},
     "output_type": "execute_result"
    }
   ],
   "source": [
    "gdf.head()"
   ]
  },
  {
   "cell_type": "code",
   "execution_count": 30,
   "metadata": {},
   "outputs": [
    {
     "data": {
      "text/plain": [
       "<matplotlib.axes._subplots.AxesSubplot at 0x28217c922b0>"
      ]
     },
     "execution_count": 30,
     "metadata": {},
     "output_type": "execute_result"
    },
    {
     "data": {
      "image/png": "[encoded data removed]",
      "text/plain": [
       "<Figure size 432x288 with 1 Axes>"
      ]
     },
     "metadata": {},
     "output_type": "display_data"
    }
   ],
   "source": [
    "gdf.plot()"
   ]
  },
  {
   "cell_type": "code",
   "execution_count": 31,
   "metadata": {},
   "outputs": [],
   "source": [
    "gdf.crs"
   ]
  },
  {
   "cell_type": "code",
   "execution_count": 34,
   "metadata": {},
   "outputs": [],
   "source": [
    "gdf.crs = from_epsg(4326)\n"
   ]
  },
  {
   "cell_type": "code",
   "execution_count": 35,
   "metadata": {},
   "outputs": [
    {
     "name": "stdout",
     "output_type": "stream",
     "text": [
      "C:\\Users\\szej01\n"
     ]
    }
   ],
   "source": [
    "cd"
   ]
  },
  {
   "cell_type": "code",
   "execution_count": null,
   "metadata": {},
   "outputs": [],
   "source": []
  }
 ],
 "metadata": {
  "kernelspec": {
   "display_name": "Python 3",
   "language": "python",
   "name": "python3"
  },
  "language_info": {
   "codemirror_mode": {
    "name": "ipython",
    "version": 3
   },
   "file_extension": ".py",
   "mimetype": "text/x-python",
   "name": "python",
   "nbconvert_exporter": "python",
   "pygments_lexer": "ipython3",
   "version": "3.6.5"
  }
 },
 "nbformat": 4,
 "nbformat_minor": 2
}
