{
 "cells": [
  {
   "cell_type": "code",
   "execution_count": 76,
   "metadata": {},
   "outputs": [],
   "source": [
    "import osmnx as ox, matplotlib.pyplot as plt, pandas as pd, geopandas as gpd\n",
    "import requests\n",
    "import fiona\n",
    "import numpy as np\n",
    "import json\n",
    "from pandas.io.json import json_normalize\n",
    "import urllib.request, json \n",
    "\n",
    "from descartes import PolygonPatch\n",
    "from shapely.geometry import Point, Polygon, MultiPolygon, shape\n",
    "%matplotlib inline\n",
    "import os\n",
    "os.environ[\"PROJ_LIB\"] = \"C:\\ProgramData\\Anaconda3\\Library\\share\" #window"
   ]
  },
  {
   "cell_type": "code",
   "execution_count": 47,
   "metadata": {},
   "outputs": [],
   "source": [
    "#Get polygon of NYC\n",
    "gdf = ox.gdf_from_place('New York City, NY, USA')"
   ]
  },
  {
   "cell_type": "code",
   "execution_count": 48,
   "metadata": {
    "scrolled": true
   },
   "outputs": [
    {
     "data": {
      "text/plain": [
       "<matplotlib.axes._subplots.AxesSubplot at 0x22edc01a7b8>"
      ]
     },
     "execution_count": 48,
     "metadata": {},
     "output_type": "execute_result"
    },
    {
     "data": {
      "image/png": "[encoded data removed]",
      "text/plain": [
       "<Figure size 432x288 with 1 Axes>"
      ]
     },
     "metadata": {},
     "output_type": "display_data"
    }
   ],
   "source": [
    "gdf.plot()"
   ]
  },
  {
   "cell_type": "code",
   "execution_count": 49,
   "metadata": {},
   "outputs": [],
   "source": [
    "# define a bounding box in NYC\n",
    "south, west, north, east = gdf.unary_union.buffer(0.1).bounds"
   ]
  },
  {
   "cell_type": "code",
   "execution_count": 37,
   "metadata": {},
   "outputs": [
    {
     "name": "stdout",
     "output_type": "stream",
     "text": [
      "-74.35908999097687 40.37753432750217 -73.60019572851844 41.01617676767561\n"
     ]
    }
   ],
   "source": [
    "print(south, west, north, east)"
   ]
  },
  {
   "cell_type": "markdown",
   "metadata": {},
   "source": [
    "https://stackoverflow.com/questions/36516183/what-should-i-use-instead-of-urlopen-in-urllib3\n",
    "https://stackoverflow.com/questions/12965203/how-to-get-json-from-webpage-into-python-script\n",
    "https://stackoverflow.com/questions/7771011/parse-json-in-python\n",
    "https://gis.stackexchange.com/questions/225586/reading-raw-data-into-geopandas\n",
    "https://stackoverflow.com/questions/33559660/error-while-reading-json-file"
   ]
  },
  {
   "cell_type": "code",
   "execution_count": 116,
   "metadata": {},
   "outputs": [
    {
     "data": {
      "text/plain": [
       "['version', 'generator', 'osm3s', 'elements']"
      ]
     },
     "execution_count": 116,
     "metadata": {},
     "output_type": "execute_result"
    }
   ],
   "source": [
    "data = urllib.request.urlopen(\"http://overpass-api.de/api/interpreter?data=[out:json];node[highway=traffic_signals](40.37753432750217,-74.35908999097687,41.01617676767561,-73.60019572851844);out%20meta;\").read()\n",
    "output = json.loads(data)\n",
    "list(output.keys())"
   ]
  },
  {
   "cell_type": "code",
   "execution_count": 117,
   "metadata": {},
   "outputs": [
    {
     "name": "stdout",
     "output_type": "stream",
     "text": [
      "                                                           0\n",
      "version                                                  0.6\n",
      "generator                     Overpass API 0.7.55.4 3079d8ea\n",
      "osm3s      {'timestamp_osm_base': '2018-10-29T21:32:02Z',...\n",
      "elements   [{'type': 'node', 'id': 42421728, 'lat': 40.79...\n"
     ]
    }
   ],
   "source": [
    "# converting json dataset from dictionary to dataframeprint(data.head())\n",
    "data = pd.DataFrame.from_dict(output, orient='index')\n",
    "print(data.head())"
   ]
  },
  {
   "cell_type": "code",
   "execution_count": 121,
   "metadata": {},
   "outputs": [
    {
     "name": "stdout",
     "output_type": "stream",
     "text": [
      "       index                                                  0\n",
      "0    version                                                0.6\n",
      "1  generator                     Overpass API 0.7.55.4 3079d8ea\n",
      "2      osm3s  {'timestamp_osm_base': '2018-10-29T21:32:02Z',...\n",
      "3   elements  [{'type': 'node', 'id': 42421728, 'lat': 40.79...\n"
     ]
    }
   ],
   "source": [
    "data.reset_index(level=0, inplace=True)\n",
    "print(data.head())\n"
   ]
  },
  {
   "cell_type": "markdown",
   "metadata": {},
   "source": [
    "I want to create a geopandas dataframe with elements.\n",
    "type, id, lat, long,tags\n"
   ]
  },
  {
   "cell_type": "code",
   "execution_count": null,
   "metadata": {},
   "outputs": [],
   "source": []
  }
 ],
 "metadata": {
  "kernelspec": {
   "display_name": "Python 3",
   "language": "python",
   "name": "python3"
  }
 },
 "nbformat": 4,
 "nbformat_minor": 2
}
