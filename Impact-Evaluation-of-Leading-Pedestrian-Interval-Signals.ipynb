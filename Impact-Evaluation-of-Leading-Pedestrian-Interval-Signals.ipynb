{
 "cells": [
  {
   "cell_type": "markdown",
   "metadata": {
    "kernel": "SoS"
   },
   "source": [
    "<center>\n",
    "\n",
    "## An Evaluation of the Impact of Leading Pedestrian Interval Signals in NYC\n",
    "\n",
    "\n",
    "<br><br>\n",
    "<center>\n",
    "By\n",
    "<br><br>\n",
    "Jeremy J. Sze\n",
    "<br><br>\n",
    "\n",
    "<center>\n",
    "Submitted in partial fulfillment<br>\n",
    "of the requirements for the degree of<br>\n",
    "Master of Arts in Economics, Hunter College<br>\n",
    "The City University of New York<br>\n",
    "2019\n",
    "\n",
    "<br><br>\n",
    "<center>\n",
    "Thesis Sponsor: <br><br>\n",
    "    Professor Jonathan Conning<br>\n",
    "    Professor Partha Deb"
   ]
  },
  {
   "cell_type": "markdown",
   "metadata": {
    "kernel": "SoS"
   },
   "source": [
    "### Abstract\n",
    "\n",
    "I evaluated the impact of the phased introduction of Leading Pedestrian Interval Signals (LPIs) on collision and injury outcomes at 12,987 signalized traffic intersections in New York City over the course of 25 quarters from 2012 to 2018. An intersection is treated when a LPIs is installed to give pedestrians lead time to cross the street before vehicles are allowed to move. Outcomes from NYPD’s Motor Vehicle Collisions data were matched to signalized intersections. I hypothesize that LPIs would reduce collisions and reduce injuries for pedestrians at intersections. A difference in difference fixed effects panel regression was used to identify the causal effect of introducing LPIs. This approach accounts for the problem that unobserved heterogeneity that might bias results in simpler regression approaches. The analysis suggests that the introduction of LPIs decreased quarterly collision counts by 5.45% and decreased the quarterly number of pedestrians injured by 14.7% over the same intervention period. LPIs appears to be effective in reducing both collisions and injuries."
   ]
  },
  {
   "cell_type": "markdown",
   "metadata": {
    "kernel": "SoS"
   },
   "source": [
    "### Acknowledgements\n",
    "Throughout the analysis and writing of my thesis I had received a great deal of support and assistance. I would like to thank my thesis advisor, Professor Jonathan Conning, who helped me develop my data processing pipeline and analytical plan. Next, I would like to thank Professor Partha Deb and Professor Matthew Baker for their valuable time and input during the model development stage and Professor Randall Filer for his guidance in the bi-weekly thesis workshops. In addition, I would like to thank my sister, Jocelyne Sze and friend Dennis Kim for proofreading my thesis drafts. Finally, I would like to thank my wife, Maria Eugenia Brandão for her wise counsel and support as we discussed ideas for my thesis. "
   ]
  },
  {
   "cell_type": "markdown",
   "metadata": {
    "kernel": "SoS"
   },
   "source": [
    "### Contents\n",
    "\n",
    "1. Signal intersection (stata)\n",
    "2. LPIs (python)\n",
    "3. Linking Signal intersection to other data (python)\n",
    "4. NYPD Motor Vehicle Collision data\n",
    "    - download (stata)\n",
    "    - clean (stata)\n",
    "    - link to signal intersection (python)\n",
    "5. Calculate collision outcomes (stata)\n",
    "6. Set up panel data\n",
    "    - monthly analytical panel (stata)\n",
    "    - quarterly analytical panel (stata)\n",
    "7. Convert analytical panel data into shapefile (python)\n",
    "8. Thiessen Polygons (python)\n",
    "9. Non-spatial Analysis (stata)\n",
    "10. Spatial Analysis (stata)"
   ]
  },
  {
   "cell_type": "markdown",
   "metadata": {
    "kernel": "SoS"
   },
   "source": [
    "### 1. Signal intersection\n",
    "- Stata\n",
    "- Explore duplicates\n",
    "- Create intersection IDS\n",
    "\n",
    "#### About \"signal_controllers.csv\"\n",
    "This was obtained through a request to the DOT Commissioner."
   ]
  },
  {
   "cell_type": "code",
   "execution_count": 1,
   "metadata": {
    "kernel": "Stata"
   },
   "outputs": [
    {
     "name": "stdout",
     "output_type": "stream",
     "text": [
      "C:\\Users\\jerem\\Box Sync\\Policy Evaluation\\input_data\\DOT_traffic_signals_Oct_2018\n"
     ]
    }
   ],
   "source": [
    "cd \"..\\input_data\\DOT_traffic_signals_Oct_2018\\\""
   ]
  },
  {
   "cell_type": "code",
   "execution_count": 2,
   "metadata": {
    "kernel": "Stata"
   },
   "outputs": [
    {
     "name": "stdout",
     "output_type": "stream",
     "text": [
      "(6 vars, 13,278 obs)\n"
     ]
    }
   ],
   "source": [
    "import delimited using \"signal_controllers.csv\",clear stringcols(_all)"
   ]
  },
  {
   "cell_type": "code",
   "execution_count": 4,
   "metadata": {
    "kernel": "Stata"
   },
   "outputs": [
    {
     "name": "stdout",
     "output_type": "stream",
     "text": [
      "\n",
      "Contains data\n",
      "  obs:        13,278                          \n",
      " vars:             7                          \n",
      " size:     2,376,762                          \n",
      "---------------------------------------------------------------------------------------------------------------------------------------------------------------------------------------------------------------------------------------------------------------\n",
      "              storage   display    value\n",
      "variable name   type    format     label      variable label\n",
      "---------------------------------------------------------------------------------------------------------------------------------------------------------------------------------------------------------------------------------------------------------------\n",
      "y               str22   %22s                  Y\n",
      "x               str22   %22s                  X\n",
      "st1_name        str31   %31s                  ST1_Name\n",
      "st2_name        str32   %32s                  ST2_Name\n",
      "st3_name        str35   %35s                  ST3_Name\n",
      "st4_name        str36   %36s                  ST4_Name\n",
      "dup             byte    %12.0g                \n",
      "---------------------------------------------------------------------------------------------------------------------------------------------------------------------------------------------------------------------------------------------------------------\n",
      "Sorted by: \n",
      "     Note: Dataset has changed since last saved.\n"
     ]
    }
   ],
   "source": [
    "describe"
   ]
  },
  {
   "cell_type": "code",
   "execution_count": 3,
   "metadata": {
    "kernel": "Stata"
   },
   "outputs": [
    {
     "name": "stdout",
     "output_type": "stream",
     "text": [
      "\n",
      "\n",
      "Duplicates in terms of y x\n",
      "\n",
      "\n",
      "        dup |      Freq.     Percent        Cum.\n",
      "------------+-----------------------------------\n",
      "          0 |     13,156       99.08       99.08\n",
      "          1 |        112        0.84       99.92\n",
      "          2 |          3        0.02       99.95\n",
      "          6 |          7        0.05      100.00\n",
      "------------+-----------------------------------\n",
      "      Total |     13,278      100.00\n"
     ]
    }
   ],
   "source": [
    "duplicates tag y x, gen(dup)\n",
    "tab dup"
   ]
  },
  {
   "cell_type": "code",
   "execution_count": 5,
   "metadata": {
    "kernel": "Stata"
   },
   "outputs": [
    {
     "name": "stdout",
     "output_type": "stream",
     "text": [
      "\n",
      "Duplicates in terms of y x\n",
      "\n",
      "(64 observations deleted)\n"
     ]
    }
   ],
   "source": [
    "duplicates drop y x, force"
   ]
  },
  {
   "cell_type": "code",
   "execution_count": 7,
   "metadata": {
    "kernel": "Stata"
   },
   "outputs": [],
   "source": [
    "gen intersection_id = _n, before(y)"
   ]
  },
  {
   "cell_type": "markdown",
   "metadata": {
    "kernel": "Stata"
   },
   "source": [
    "Check to remember why we dropped intersection_id 2799"
   ]
  },
  {
   "cell_type": "code",
   "execution_count": 8,
   "metadata": {
    "kernel": "Stata"
   },
   "outputs": [
    {
     "name": "stdout",
     "output_type": "stream",
     "text": [
      "(1 observation deleted)\n"
     ]
    }
   ],
   "source": [
    "// Nonsensical coordinates\n",
    "drop if intersection_id ==  2799"
   ]
  },
  {
   "cell_type": "code",
   "execution_count": null,
   "metadata": {
    "kernel": "Stata"
   },
   "outputs": [],
   "source": [
    "save \"signal_controllers_clean.dta\""
   ]
  },
  {
   "cell_type": "markdown",
   "metadata": {
    "kernel": "Stata"
   },
   "source": [
    "### 2. LPIs \n",
    "- In python\n",
    "- Explore the LPIs data using python's Geopandas library\n",
    "- Create IDs\n",
    "- Save into Stata dta"
   ]
  },
  {
   "cell_type": "code",
   "execution_count": 9,
   "metadata": {
    "kernel": "Python3"
   },
   "outputs": [],
   "source": [
    "import numpy as np\n",
    "import matplotlib.pyplot as plt\n",
    "import pandas as pd\n",
    "import geopandas as gpd\n",
    "from scipy.spatial import cKDTree\n",
    "\n",
    "%matplotlib inline\n",
    "import os\n",
    "os.environ[\"PROJ_LIB\"] = \"C:\\ProgramData\\Anaconda3\\Library\\share\" #window"
   ]
  },
  {
   "cell_type": "code",
   "execution_count": 10,
   "metadata": {
    "kernel": "Python3"
   },
   "outputs": [
    {
     "name": "stdout",
     "output_type": "stream",
     "text": [
      "C:\\Users\\jerem\n"
     ]
    }
   ],
   "source": [
    "cd"
   ]
  },
  {
   "cell_type": "markdown",
   "metadata": {
    "kernel": "Python3"
   },
   "source": [
    "Opening the Vision Zero Leading Pedestrian Interval Signals shapefile"
   ]
  },
  {
   "cell_type": "code",
   "execution_count": 11,
   "metadata": {
    "kernel": "Python3"
   },
   "outputs": [],
   "source": [
    "fp = r\"C:\\Users\\jerem\\Box Sync\\Policy Evaluation\\input_data\\VZV_Leading Pedestrian Interval Signals\\geo_export_0c63b43f-83c0-4834-aa91-2c564c1bff2c.shp\""
   ]
  },
  {
   "cell_type": "code",
   "execution_count": 19,
   "metadata": {
    "kernel": "Python3"
   },
   "outputs": [],
   "source": [
    "lpis_df = gpd.read_file(fp)"
   ]
  },
  {
   "cell_type": "code",
   "execution_count": 20,
   "metadata": {
    "kernel": "Python3"
   },
   "outputs": [
    {
     "data": {
      "text/html": [
       "<div>\n",
       "<style scoped>\n",
       "    .dataframe tbody tr th:only-of-type {\n",
       "        vertical-align: middle;\n",
       "    }\n",
       "\n",
       "    .dataframe tbody tr th {\n",
       "        vertical-align: top;\n",
       "    }\n",
       "\n",
       "    .dataframe thead th {\n",
       "        text-align: right;\n",
       "    }\n",
       "</style>\n",
       "<table border=\"1\" class=\"dataframe\">\n",
       "  <thead>\n",
       "    <tr style=\"text-align: right;\">\n",
       "      <th></th>\n",
       "      <th>cross_stre</th>\n",
       "      <th>date_insta</th>\n",
       "      <th>time_insta</th>\n",
       "      <th>lat</th>\n",
       "      <th>long</th>\n",
       "      <th>main_stree</th>\n",
       "      <th>geometry</th>\n",
       "    </tr>\n",
       "  </thead>\n",
       "  <tbody>\n",
       "    <tr>\n",
       "      <th>0</th>\n",
       "      <td>Dreiser loop East</td>\n",
       "      <td>2018-08-01</td>\n",
       "      <td>00:00:00.000</td>\n",
       "      <td>40.878465</td>\n",
       "      <td>-73.828273</td>\n",
       "      <td>Co-op City Blvd</td>\n",
       "      <td>POINT (-73.82827338235253 40.87846542795222)</td>\n",
       "    </tr>\n",
       "    <tr>\n",
       "      <th>1</th>\n",
       "      <td>West 119 St</td>\n",
       "      <td>2018-08-08</td>\n",
       "      <td>00:00:00.000</td>\n",
       "      <td>40.803958</td>\n",
       "      <td>-73.948271</td>\n",
       "      <td>Lenox Avenue</td>\n",
       "      <td>POINT (-73.94827133431397 40.80395846158952)</td>\n",
       "    </tr>\n",
       "    <tr>\n",
       "      <th>2</th>\n",
       "      <td>West 120 St</td>\n",
       "      <td>2018-08-08</td>\n",
       "      <td>00:00:00.000</td>\n",
       "      <td>40.804587</td>\n",
       "      <td>-73.947812</td>\n",
       "      <td>Lenox Avenue</td>\n",
       "      <td>POINT (-73.94781210658503 40.80458679730486)</td>\n",
       "    </tr>\n",
       "  </tbody>\n",
       "</table>\n",
       "</div>"
      ],
      "text/plain": [
       "          cross_stre  date_insta    time_insta        lat       long  \\\n",
       "0  Dreiser loop East  2018-08-01  00:00:00.000  40.878465 -73.828273   \n",
       "1        West 119 St  2018-08-08  00:00:00.000  40.803958 -73.948271   \n",
       "2        West 120 St  2018-08-08  00:00:00.000  40.804587 -73.947812   \n",
       "\n",
       "        main_stree                                      geometry  \n",
       "0  Co-op City Blvd  POINT (-73.82827338235253 40.87846542795222)  \n",
       "1     Lenox Avenue  POINT (-73.94827133431397 40.80395846158952)  \n",
       "2     Lenox Avenue  POINT (-73.94781210658503 40.80458679730486)  "
      ]
     },
     "execution_count": 20,
     "metadata": {},
     "output_type": "execute_result"
    }
   ],
   "source": [
    "lpis_df.head(3)"
   ]
  },
  {
   "cell_type": "code",
   "execution_count": 21,
   "metadata": {
    "kernel": "Python3"
   },
   "outputs": [
    {
     "data": {
      "text/plain": [
       "<matplotlib.axes._subplots.AxesSubplot at 0x14fba2fee48>"
      ]
     },
     "execution_count": 21,
     "metadata": {},
     "output_type": "execute_result"
    },
    {
     "data": {
      "image/png": "[encoded data removed]",
      "text/plain": [
       "<Figure size 1080x1080 with 1 Axes>"
      ]
     },
     "metadata": {
      "needs_background": "light"
     },
     "output_type": "display_data"
    }
   ],
   "source": [
    "lpis_df.plot(figsize=(15, 15))"
   ]
  },
  {
   "cell_type": "markdown",
   "metadata": {
    "kernel": "Python3"
   },
   "source": [
    "First, we have to check the CRS (coordinate reference system)  of the shapefile. This is important because all the other shapefiles have to be on the same projection in order to do spatial joins and identify nearest neighbors. For more information on projections, you can watch this [short video](https://youtu.be/KUF_Ckv8HbE) and read this [document](https://www.earthdatascience.org/courses/earth-analytics-python/spatial-data-vector-shapefiles/intro-to-coordinate-reference-systems-python/) from [Earthdatascience.org](https://www.earthdatascience.org).\n"
   ]
  },
  {
   "cell_type": "markdown",
   "metadata": {
    "kernel": "Python3"
   },
   "source": [
    "To see the crs of lpis_df, we use geodataframe.crs"
   ]
  },
  {
   "cell_type": "code",
   "execution_count": 14,
   "metadata": {
    "kernel": "Python3"
   },
   "outputs": [
    {
     "data": {
      "text/plain": [
       "{'init': 'epsg:4326'}"
      ]
     },
     "execution_count": 14,
     "metadata": {},
     "output_type": "execute_result"
    }
   ],
   "source": [
    "lpis_df.crs"
   ]
  },
  {
   "cell_type": "markdown",
   "metadata": {
    "kernel": "Python3"
   },
   "source": [
    "EPSG 4326 is the coordinate system for the world. It is also known as WGS84. When you have a longitude and latitude from this CRS, you can copy and paste it into Google Maps to find that location. "
   ]
  },
  {
   "cell_type": "markdown",
   "metadata": {
    "kernel": "Python3"
   },
   "source": [
    "Since we are working with New York City only, we prefer to use a projection that more accurately protrays the shape of NYC. We will reproject lpis_df to EPSG 2263 (NAD83 / New York Long Island (ftUS))."
   ]
  },
  {
   "cell_type": "code",
   "execution_count": 15,
   "metadata": {
    "kernel": "Python3"
   },
   "outputs": [],
   "source": [
    "lpis_df = lpis_df.to_crs({'init': 'epsg:2263'})"
   ]
  },
  {
   "cell_type": "markdown",
   "metadata": {
    "kernel": "Python3"
   },
   "source": [
    "We can see that lpis_df now has the right projection."
   ]
  },
  {
   "cell_type": "code",
   "execution_count": 16,
   "metadata": {
    "kernel": "Python3"
   },
   "outputs": [
    {
     "data": {
      "text/plain": [
       "{'init': 'epsg:2263'}"
      ]
     },
     "execution_count": 16,
     "metadata": {},
     "output_type": "execute_result"
    }
   ],
   "source": [
    "lpis_df.crs"
   ]
  },
  {
   "cell_type": "code",
   "execution_count": 18,
   "metadata": {
    "kernel": "Python3"
   },
   "outputs": [
    {
     "data": {
      "text/plain": [
       "<matplotlib.axes._subplots.AxesSubplot at 0x14fba3a2320>"
      ]
     },
     "execution_count": 18,
     "metadata": {},
     "output_type": "execute_result"
    },
    {
     "data": {
      "image/png": "[encoded data removed]",
      "text/plain": [
       "<Figure size 1080x1080 with 1 Axes>"
      ]
     },
     "metadata": {
      "needs_background": "light"
     },
     "output_type": "display_data"
    }
   ],
   "source": [
    "lpis_df.plot(figsize=(15, 15))"
   ]
  },
  {
   "cell_type": "markdown",
   "metadata": {
    "kernel": "Python3"
   },
   "source": [
    "If you look at both plots again, you will notice that the axes labels are different. This is due to the different CRS."
   ]
  },
  {
   "cell_type": "markdown",
   "metadata": {
    "kernel": "Python3"
   },
   "source": [
    "I create IDs in the dataframe, since lpis_df has no ID variables."
   ]
  },
  {
   "cell_type": "code",
   "execution_count": 23,
   "metadata": {
    "kernel": "Python3"
   },
   "outputs": [
    {
     "data": {
      "text/html": [
       "<div>\n",
       "<style scoped>\n",
       "    .dataframe tbody tr th:only-of-type {\n",
       "        vertical-align: middle;\n",
       "    }\n",
       "\n",
       "    .dataframe tbody tr th {\n",
       "        vertical-align: top;\n",
       "    }\n",
       "\n",
       "    .dataframe thead th {\n",
       "        text-align: right;\n",
       "    }\n",
       "</style>\n",
       "<table border=\"1\" class=\"dataframe\">\n",
       "  <thead>\n",
       "    <tr style=\"text-align: right;\">\n",
       "      <th></th>\n",
       "      <th>cross_stre</th>\n",
       "      <th>date_insta</th>\n",
       "      <th>time_insta</th>\n",
       "      <th>lat</th>\n",
       "      <th>long</th>\n",
       "      <th>main_stree</th>\n",
       "      <th>geometry</th>\n",
       "      <th>LPIS_ID</th>\n",
       "    </tr>\n",
       "  </thead>\n",
       "  <tbody>\n",
       "    <tr>\n",
       "      <th>0</th>\n",
       "      <td>Dreiser loop East</td>\n",
       "      <td>2018-08-01</td>\n",
       "      <td>00:00:00.000</td>\n",
       "      <td>40.878465</td>\n",
       "      <td>-73.828273</td>\n",
       "      <td>Co-op City Blvd</td>\n",
       "      <td>POINT (-73.82827338235253 40.87846542795222)</td>\n",
       "      <td>0</td>\n",
       "    </tr>\n",
       "    <tr>\n",
       "      <th>1</th>\n",
       "      <td>West 119 St</td>\n",
       "      <td>2018-08-08</td>\n",
       "      <td>00:00:00.000</td>\n",
       "      <td>40.803958</td>\n",
       "      <td>-73.948271</td>\n",
       "      <td>Lenox Avenue</td>\n",
       "      <td>POINT (-73.94827133431397 40.80395846158952)</td>\n",
       "      <td>1</td>\n",
       "    </tr>\n",
       "    <tr>\n",
       "      <th>2</th>\n",
       "      <td>West 120 St</td>\n",
       "      <td>2018-08-08</td>\n",
       "      <td>00:00:00.000</td>\n",
       "      <td>40.804587</td>\n",
       "      <td>-73.947812</td>\n",
       "      <td>Lenox Avenue</td>\n",
       "      <td>POINT (-73.94781210658503 40.80458679730486)</td>\n",
       "      <td>2</td>\n",
       "    </tr>\n",
       "  </tbody>\n",
       "</table>\n",
       "</div>"
      ],
      "text/plain": [
       "          cross_stre  date_insta    time_insta        lat       long  \\\n",
       "0  Dreiser loop East  2018-08-01  00:00:00.000  40.878465 -73.828273   \n",
       "1        West 119 St  2018-08-08  00:00:00.000  40.803958 -73.948271   \n",
       "2        West 120 St  2018-08-08  00:00:00.000  40.804587 -73.947812   \n",
       "\n",
       "        main_stree                                      geometry  LPIS_ID  \n",
       "0  Co-op City Blvd  POINT (-73.82827338235253 40.87846542795222)        0  \n",
       "1     Lenox Avenue  POINT (-73.94827133431397 40.80395846158952)        1  \n",
       "2     Lenox Avenue  POINT (-73.94781210658503 40.80458679730486)        2  "
      ]
     },
     "execution_count": 23,
     "metadata": {},
     "output_type": "execute_result"
    }
   ],
   "source": [
    "lpis_df['LPIS_ID'] = lpis_df.index\n",
    "lpis_df.head(3)"
   ]
  },
  {
   "cell_type": "markdown",
   "metadata": {
    "kernel": "Python3"
   },
   "source": [
    "Next, I want to export the dataframe to a Stata dta file. Objects need to be converted to str. "
   ]
  },
  {
   "cell_type": "code",
   "execution_count": 24,
   "metadata": {
    "kernel": "Python3"
   },
   "outputs": [],
   "source": [
    "str_cols = list(lpis_df.select_dtypes(include=['object']).columns)\n",
    "for col in str_cols:\n",
    "    lpis_df[col] = lpis_df[col].astype(str)"
   ]
  },
  {
   "cell_type": "code",
   "execution_count": null,
   "metadata": {
    "kernel": "Python3"
   },
   "outputs": [],
   "source": [
    "fp =  r\"C:\\Users\\jerem\\Box Sync\\Policy Evaluation\\working_data\\VZV_LPIS_data.dta\"\n",
    "lpis_df.to_stata(fp)"
   ]
  },
  {
   "cell_type": "markdown",
   "metadata": {
    "kernel": "Stata"
   },
   "source": [
    "### 3. Linking Signal intersection to other data\n",
    "- In python\n",
    "-\n"
   ]
  },
  {
   "cell_type": "markdown",
   "metadata": {
    "kernel": "Python3"
   },
   "source": [
    "Define a function to obtain IDs of nearest neighbors and distance measure."
   ]
  },
  {
   "cell_type": "code",
   "execution_count": null,
   "metadata": {
    "kernel": "Python3"
   },
   "outputs": [],
   "source": [
    "# ckdnearest function\n",
    "# from \"https://gist.github.com/jhconning/63a34a51acff83d116adc52308faf240\"\n",
    "def ckdnearest(gdA, gdB, bcol):\n",
    "    \"\"\"\n",
    "    This function takes geodataframes: `gdA` and `gdB` and \n",
    "    a column name `bcol`. Both dataframes are assumed to have a `geometry` column. \n",
    "    It finds the nearest neighbor from each location in `gdA` to a \n",
    "    nearest neighbor in `gdB`.  \n",
    "\n",
    "    It returns a two-column pandas dataframe with a 'distance' (here rounded to nearest foot)\n",
    "    and the value of the `bcol` in `gdB'  (e.g. 'school_name')\n",
    "    \"\"\"\n",
    "    \n",
    "    nA = np.array(list(zip(gdA.geometry.x, gdA.geometry.y)) )\n",
    "    nB = np.array(list(zip(gdB.geometry.x, gdB.geometry.y)) )\n",
    "    btree = cKDTree(nB)\n",
    "    dist, idx = btree.query(nA,k=1)\n",
    "    df = pd.DataFrame.from_dict({'distance': dist.astype(int),\n",
    "                             'bcol' : gdB.loc[idx, bcol].values })\n",
    "    return df"
   ]
  },
  {
   "cell_type": "markdown",
   "metadata": {
    "kernel": "Python3"
   },
   "source": [
    "Read the "
   ]
  },
  {
   "cell_type": "code",
   "execution_count": null,
   "metadata": {
    "kernel": "Python3"
   },
   "outputs": [],
   "source": []
  },
  {
   "cell_type": "markdown",
   "metadata": {
    "kernel": "Stata"
   },
   "source": [
    "### 4. NYPD Motor Vehicle Collision data\n",
    "#### 4.a. download \n",
    "(stata)\n",
    "#### 4.b. clean \n",
    "(stata)\n",
    "#### 4.c. link to signal intersection \n",
    "(python)\n"
   ]
  },
  {
   "cell_type": "markdown",
   "metadata": {
    "kernel": "Stata"
   },
   "source": [
    "### 5. Calculate collision outcomes \n",
    "(stata)\n"
   ]
  },
  {
   "cell_type": "markdown",
   "metadata": {
    "kernel": "Stata"
   },
   "source": [
    "### 6. Set up panel data\n",
    "#### 6.a. monthly analytical panel \n",
    "(stata)\n",
    "#### 6.b. quarterly analytical panel \n",
    "(stata)\n"
   ]
  },
  {
   "cell_type": "markdown",
   "metadata": {
    "kernel": "Stata"
   },
   "source": [
    "### 7. Convert analytical panel data into shapefile \n",
    "(python)\n"
   ]
  },
  {
   "cell_type": "markdown",
   "metadata": {
    "kernel": "Stata"
   },
   "source": [
    "### 8. Thiessen Polygons\n",
    "(python)\n"
   ]
  },
  {
   "cell_type": "markdown",
   "metadata": {
    "kernel": "Stata"
   },
   "source": [
    "### 9. Non-spatial Analysis \n",
    "(stata)\n"
   ]
  },
  {
   "cell_type": "markdown",
   "metadata": {
    "kernel": "Stata"
   },
   "source": [
    "### 10. Spatial Analysis \n",
    "(stata)"
   ]
  }
 ],
 "metadata": {
  "kernelspec": {
   "display_name": "SoS",
   "language": "sos",
   "name": "sos"
  },
  "language_info": {
   "codemirror_mode": "sos",
   "file_extension": ".sos",
   "mimetype": "text/x-sos",
   "name": "sos",
   "nbconvert_exporter": "sos_notebook.converter.SoS_Exporter",
   "pygments_lexer": "sos"
  },
  "sos": {
   "kernels": [
    [
     "Python3",
     "python3",
     "Python3",
     "#FFD91A",
     {
      "name": "ipython",
      "version": 3
     }
    ],
    [
     "Stata",
     "stata",
     "Stata",
     "#CAE8F3",
     "stata"
    ]
   ],
   "panel": {
    "displayed": true,
    "height": 0
   },
   "version": "0.19.3"
  }
 },
 "nbformat": 4,
 "nbformat_minor": 2
}
