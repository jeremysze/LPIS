{
 "cells": [
  {
   "cell_type": "code",
   "execution_count": 1,
   "metadata": {},
   "outputs": [],
   "source": [
    "import matplotlib.pyplot as plt\n",
    "import geopandas as gpd\n",
    "import pandas as pd\n",
    "import shapely as shy\n",
    "import osmnx as ox\n",
    "\n",
    "pd.options.display.max_rows = 4\n",
    "%matplotlib inline"
   ]
  },
  {
   "cell_type": "code",
   "execution_count": 2,
   "metadata": {},
   "outputs": [
    {
     "name": "stdout",
     "output_type": "stream",
     "text": [
      "C:\\Users\\jerem\n"
     ]
    }
   ],
   "source": [
    "cd"
   ]
  },
  {
   "cell_type": "code",
   "execution_count": 4,
   "metadata": {},
   "outputs": [],
   "source": [
    "fp = r\"Box Sync\\Policy Evaluation\\input_data\\VZV_Leading Pedestrian Interval Signals\\geo_export_0c63b43f-83c0-4834-aa91-2c564c1bff2c.shp\"\n",
    "#fp =  r\"..\\input_data\\leading_pedestrian_interval_signals_shapefile_2263\\leading_pedestrian_interval_signals_shapefile_2263.shp\"\n",
    "df1 = gpd.read_file(fp)"
   ]
  },
  {
   "cell_type": "code",
   "execution_count": 5,
   "metadata": {},
   "outputs": [
    {
     "data": {
      "text/html": [
       "<div>\n",
       "<style scoped>\n",
       "    .dataframe tbody tr th:only-of-type {\n",
       "        vertical-align: middle;\n",
       "    }\n",
       "\n",
       "    .dataframe tbody tr th {\n",
       "        vertical-align: top;\n",
       "    }\n",
       "\n",
       "    .dataframe thead th {\n",
       "        text-align: right;\n",
       "    }\n",
       "</style>\n",
       "<table border=\"1\" class=\"dataframe\">\n",
       "  <thead>\n",
       "    <tr style=\"text-align: right;\">\n",
       "      <th></th>\n",
       "      <th>cross_stre</th>\n",
       "      <th>date_insta</th>\n",
       "      <th>time_insta</th>\n",
       "      <th>lat</th>\n",
       "      <th>long</th>\n",
       "      <th>main_stree</th>\n",
       "      <th>geometry</th>\n",
       "    </tr>\n",
       "  </thead>\n",
       "  <tbody>\n",
       "    <tr>\n",
       "      <th>0</th>\n",
       "      <td>Dreiser loop East</td>\n",
       "      <td>2018-08-01</td>\n",
       "      <td>00:00:00.000</td>\n",
       "      <td>40.878465</td>\n",
       "      <td>-73.828273</td>\n",
       "      <td>Co-op City Blvd</td>\n",
       "      <td>POINT (-73.82827338235253 40.87846542795222)</td>\n",
       "    </tr>\n",
       "    <tr>\n",
       "      <th>1</th>\n",
       "      <td>West 119 St</td>\n",
       "      <td>2018-08-08</td>\n",
       "      <td>00:00:00.000</td>\n",
       "      <td>40.803958</td>\n",
       "      <td>-73.948271</td>\n",
       "      <td>Lenox Avenue</td>\n",
       "      <td>POINT (-73.94827133431397 40.80395846158952)</td>\n",
       "    </tr>\n",
       "    <tr>\n",
       "      <th>2</th>\n",
       "      <td>West 120 St</td>\n",
       "      <td>2018-08-08</td>\n",
       "      <td>00:00:00.000</td>\n",
       "      <td>40.804587</td>\n",
       "      <td>-73.947812</td>\n",
       "      <td>Lenox Avenue</td>\n",
       "      <td>POINT (-73.94781210658503 40.80458679730486)</td>\n",
       "    </tr>\n",
       "  </tbody>\n",
       "</table>\n",
       "</div>"
      ],
      "text/plain": [
       "          cross_stre  date_insta    time_insta        lat       long  \\\n",
       "0  Dreiser loop East  2018-08-01  00:00:00.000  40.878465 -73.828273   \n",
       "1        West 119 St  2018-08-08  00:00:00.000  40.803958 -73.948271   \n",
       "2        West 120 St  2018-08-08  00:00:00.000  40.804587 -73.947812   \n",
       "\n",
       "        main_stree                                      geometry  \n",
       "0  Co-op City Blvd  POINT (-73.82827338235253 40.87846542795222)  \n",
       "1     Lenox Avenue  POINT (-73.94827133431397 40.80395846158952)  \n",
       "2     Lenox Avenue  POINT (-73.94781210658503 40.80458679730486)  "
      ]
     },
     "execution_count": 5,
     "metadata": {},
     "output_type": "execute_result"
    }
   ],
   "source": [
    "df1.head(3)"
   ]
  },
  {
   "cell_type": "code",
   "execution_count": 6,
   "metadata": {},
   "outputs": [
    {
     "data": {
      "text/plain": [
       "<matplotlib.axes._subplots.AxesSubplot at 0x265a478ad30>"
      ]
     },
     "execution_count": 6,
     "metadata": {},
     "output_type": "execute_result"
    },
    {
     "data": {
      "image/png": "[encoded data removed]",
      "text/plain": [
       "<Figure size 432x288 with 1 Axes>"
      ]
     },
     "metadata": {
      "needs_background": "light"
     },
     "output_type": "display_data"
    }
   ],
   "source": [
    "df1.plot()"
   ]
  },
  {
   "cell_type": "code",
   "execution_count": 7,
   "metadata": {},
   "outputs": [
    {
     "data": {
      "text/plain": [
       "{'init': 'epsg:4326'}"
      ]
     },
     "execution_count": 7,
     "metadata": {},
     "output_type": "execute_result"
    }
   ],
   "source": [
    "df1.crs"
   ]
  },
  {
   "cell_type": "code",
   "execution_count": 8,
   "metadata": {},
   "outputs": [],
   "source": [
    "# Reproeject LPIS shapefile to EPSG 2263: NAD83 / New York Long Island (ftUS)\n",
    "df1 = df1.to_crs({'init': 'epsg:2263'})"
   ]
  },
  {
   "cell_type": "code",
   "execution_count": 9,
   "metadata": {},
   "outputs": [
    {
     "data": {
      "text/plain": [
       "{'init': 'epsg:2263'}"
      ]
     },
     "execution_count": 9,
     "metadata": {},
     "output_type": "execute_result"
    }
   ],
   "source": [
    "df1.crs"
   ]
  },
  {
   "cell_type": "code",
   "execution_count": 10,
   "metadata": {},
   "outputs": [
    {
     "data": {
      "text/plain": [
       "geopandas.geodataframe.GeoDataFrame"
      ]
     },
     "execution_count": 10,
     "metadata": {},
     "output_type": "execute_result"
    }
   ],
   "source": [
    "type(df1)"
   ]
  },
  {
   "cell_type": "code",
   "execution_count": 24,
   "metadata": {},
   "outputs": [
    {
     "data": {
      "text/html": [
       "<div>\n",
       "<style scoped>\n",
       "    .dataframe tbody tr th:only-of-type {\n",
       "        vertical-align: middle;\n",
       "    }\n",
       "\n",
       "    .dataframe tbody tr th {\n",
       "        vertical-align: top;\n",
       "    }\n",
       "\n",
       "    .dataframe thead th {\n",
       "        text-align: right;\n",
       "    }\n",
       "</style>\n",
       "<table border=\"1\" class=\"dataframe\">\n",
       "  <thead>\n",
       "    <tr style=\"text-align: right;\">\n",
       "      <th></th>\n",
       "      <th>cross_stre</th>\n",
       "      <th>date_insta</th>\n",
       "      <th>time_insta</th>\n",
       "      <th>lat</th>\n",
       "      <th>long</th>\n",
       "      <th>main_stree</th>\n",
       "      <th>geometry</th>\n",
       "      <th>LPIS_ID</th>\n",
       "    </tr>\n",
       "    <tr>\n",
       "      <th>index_left</th>\n",
       "      <th></th>\n",
       "      <th></th>\n",
       "      <th></th>\n",
       "      <th></th>\n",
       "      <th></th>\n",
       "      <th></th>\n",
       "      <th></th>\n",
       "      <th></th>\n",
       "    </tr>\n",
       "  </thead>\n",
       "  <tbody>\n",
       "    <tr>\n",
       "      <th>0</th>\n",
       "      <td>Dreiser loop East</td>\n",
       "      <td>2018-08-01</td>\n",
       "      <td>00:00:00.000</td>\n",
       "      <td>40.878465</td>\n",
       "      <td>-73.828273</td>\n",
       "      <td>Co-op City Blvd</td>\n",
       "      <td>POLYGON ((1033739.000154228 259373.000004255, ...</td>\n",
       "      <td>0</td>\n",
       "    </tr>\n",
       "    <tr>\n",
       "      <th>1</th>\n",
       "      <td>West 119 St</td>\n",
       "      <td>2018-08-08</td>\n",
       "      <td>00:00:00.000</td>\n",
       "      <td>40.803958</td>\n",
       "      <td>-73.948271</td>\n",
       "      <td>Lenox Avenue</td>\n",
       "      <td>POLYGON ((1000570.999889301 232184.9999184268,...</td>\n",
       "      <td>1</td>\n",
       "    </tr>\n",
       "    <tr>\n",
       "      <th>2</th>\n",
       "      <td>West 120 St</td>\n",
       "      <td>2018-08-08</td>\n",
       "      <td>00:00:00.000</td>\n",
       "      <td>40.804587</td>\n",
       "      <td>-73.947812</td>\n",
       "      <td>Lenox Avenue</td>\n",
       "      <td>POLYGON ((1000697.999963389 232414.0001165908,...</td>\n",
       "      <td>2</td>\n",
       "    </tr>\n",
       "  </tbody>\n",
       "</table>\n",
       "</div>"
      ],
      "text/plain": [
       "                   cross_stre  date_insta    time_insta        lat       long  \\\n",
       "index_left                                                                      \n",
       "0           Dreiser loop East  2018-08-01  00:00:00.000  40.878465 -73.828273   \n",
       "1                 West 119 St  2018-08-08  00:00:00.000  40.803958 -73.948271   \n",
       "2                 West 120 St  2018-08-08  00:00:00.000  40.804587 -73.947812   \n",
       "\n",
       "                 main_stree  \\\n",
       "index_left                    \n",
       "0           Co-op City Blvd   \n",
       "1              Lenox Avenue   \n",
       "2              Lenox Avenue   \n",
       "\n",
       "                                                     geometry  LPIS_ID  \n",
       "index_left                                                              \n",
       "0           POLYGON ((1033739.000154228 259373.000004255, ...        0  \n",
       "1           POLYGON ((1000570.999889301 232184.9999184268,...        1  \n",
       "2           POLYGON ((1000697.999963389 232414.0001165908,...        2  "
      ]
     },
     "execution_count": 24,
     "metadata": {},
     "output_type": "execute_result"
    }
   ],
   "source": [
    "# Create ID variable\n",
    "df1['LPIS_ID'] = df1.index\n",
    "df1.head(3)"
   ]
  },
  {
   "cell_type": "code",
   "execution_count": 11,
   "metadata": {},
   "outputs": [
    {
     "data": {
      "text/plain": [
       "Index(['cross_stre', 'date_insta', 'time_insta', 'lat', 'long', 'main_stree',\n",
       "       'geometry'],\n",
       "      dtype='object')"
      ]
     },
     "execution_count": 11,
     "metadata": {},
     "output_type": "execute_result"
    }
   ],
   "source": [
    "df1.columns"
   ]
  },
  {
   "cell_type": "code",
   "execution_count": 12,
   "metadata": {},
   "outputs": [],
   "source": [
    "df1.geometry = df1['geometry'].buffer(2000)"
   ]
  },
  {
   "cell_type": "code",
   "execution_count": 13,
   "metadata": {},
   "outputs": [
    {
     "data": {
      "text/plain": [
       "<matplotlib.axes._subplots.AxesSubplot at 0x265a4976dd8>"
      ]
     },
     "execution_count": 13,
     "metadata": {},
     "output_type": "execute_result"
    },
    {
     "data": {
      "image/png": "[encoded data removed]",
      "text/plain": [
       "<Figure size 432x288 with 1 Axes>"
      ]
     },
     "metadata": {
      "needs_background": "light"
     },
     "output_type": "display_data"
    }
   ],
   "source": [
    "df1.plot()"
   ]
  },
  {
   "cell_type": "code",
   "execution_count": 14,
   "metadata": {},
   "outputs": [
    {
     "data": {
      "text/html": [
       "<div>\n",
       "<style scoped>\n",
       "    .dataframe tbody tr th:only-of-type {\n",
       "        vertical-align: middle;\n",
       "    }\n",
       "\n",
       "    .dataframe tbody tr th {\n",
       "        vertical-align: top;\n",
       "    }\n",
       "\n",
       "    .dataframe thead th {\n",
       "        text-align: right;\n",
       "    }\n",
       "</style>\n",
       "<table border=\"1\" class=\"dataframe\">\n",
       "  <thead>\n",
       "    <tr style=\"text-align: right;\">\n",
       "      <th></th>\n",
       "      <th>cross_stre</th>\n",
       "      <th>date_insta</th>\n",
       "      <th>time_insta</th>\n",
       "      <th>lat</th>\n",
       "      <th>long</th>\n",
       "      <th>main_stree</th>\n",
       "      <th>geometry</th>\n",
       "    </tr>\n",
       "  </thead>\n",
       "  <tbody>\n",
       "    <tr>\n",
       "      <th>0</th>\n",
       "      <td>Dreiser loop East</td>\n",
       "      <td>2018-08-01</td>\n",
       "      <td>00:00:00.000</td>\n",
       "      <td>40.878465</td>\n",
       "      <td>-73.828273</td>\n",
       "      <td>Co-op City Blvd</td>\n",
       "      <td>POLYGON ((1033739.000154228 259373.000004255, ...</td>\n",
       "    </tr>\n",
       "    <tr>\n",
       "      <th>1</th>\n",
       "      <td>West 119 St</td>\n",
       "      <td>2018-08-08</td>\n",
       "      <td>00:00:00.000</td>\n",
       "      <td>40.803958</td>\n",
       "      <td>-73.948271</td>\n",
       "      <td>Lenox Avenue</td>\n",
       "      <td>POLYGON ((1000570.999889301 232184.9999184268,...</td>\n",
       "    </tr>\n",
       "    <tr>\n",
       "      <th>2</th>\n",
       "      <td>West 120 St</td>\n",
       "      <td>2018-08-08</td>\n",
       "      <td>00:00:00.000</td>\n",
       "      <td>40.804587</td>\n",
       "      <td>-73.947812</td>\n",
       "      <td>Lenox Avenue</td>\n",
       "      <td>POLYGON ((1000697.999963389 232414.0001165908,...</td>\n",
       "    </tr>\n",
       "  </tbody>\n",
       "</table>\n",
       "</div>"
      ],
      "text/plain": [
       "          cross_stre  date_insta    time_insta        lat       long  \\\n",
       "0  Dreiser loop East  2018-08-01  00:00:00.000  40.878465 -73.828273   \n",
       "1        West 119 St  2018-08-08  00:00:00.000  40.803958 -73.948271   \n",
       "2        West 120 St  2018-08-08  00:00:00.000  40.804587 -73.947812   \n",
       "\n",
       "        main_stree                                           geometry  \n",
       "0  Co-op City Blvd  POLYGON ((1033739.000154228 259373.000004255, ...  \n",
       "1     Lenox Avenue  POLYGON ((1000570.999889301 232184.9999184268,...  \n",
       "2     Lenox Avenue  POLYGON ((1000697.999963389 232414.0001165908,...  "
      ]
     },
     "execution_count": 14,
     "metadata": {},
     "output_type": "execute_result"
    }
   ],
   "source": [
    "df1.head(3)"
   ]
  },
  {
   "cell_type": "code",
   "execution_count": 15,
   "metadata": {},
   "outputs": [],
   "source": [
    "#fp =  r\"D:\\Projects\\Policy Evaluation\\input_data\\notebook_output\\LPIS_buffer.shp\"\n",
    "#df1.to_file(fp,driver ='ESRI Shapefile')"
   ]
  },
  {
   "cell_type": "markdown",
   "metadata": {},
   "source": [
    "Tested the output in QGIS. It is exactly the same as the LPIS buffer I've created in QGIS."
   ]
  },
  {
   "cell_type": "markdown",
   "metadata": {},
   "source": [
    "Bringing in the signal traffic intersection dataframe"
   ]
  },
  {
   "cell_type": "code",
   "execution_count": 16,
   "metadata": {},
   "outputs": [
    {
     "data": {
      "text/html": [
       "<div>\n",
       "<style scoped>\n",
       "    .dataframe tbody tr th:only-of-type {\n",
       "        vertical-align: middle;\n",
       "    }\n",
       "\n",
       "    .dataframe tbody tr th {\n",
       "        vertical-align: top;\n",
       "    }\n",
       "\n",
       "    .dataframe thead th {\n",
       "        text-align: right;\n",
       "    }\n",
       "</style>\n",
       "<table border=\"1\" class=\"dataframe\">\n",
       "  <thead>\n",
       "    <tr style=\"text-align: right;\">\n",
       "      <th></th>\n",
       "      <th>ST1_Name</th>\n",
       "      <th>ST2_Name</th>\n",
       "      <th>ST3_Name</th>\n",
       "      <th>ST4_Name</th>\n",
       "      <th>geometry</th>\n",
       "    </tr>\n",
       "  </thead>\n",
       "  <tbody>\n",
       "    <tr>\n",
       "      <th>0</th>\n",
       "      <td>ALLEN STREET</td>\n",
       "      <td>CANAL STREET</td>\n",
       "      <td>None</td>\n",
       "      <td>None</td>\n",
       "      <td>POINT (986336.1490000039 199793.6093000025)</td>\n",
       "    </tr>\n",
       "    <tr>\n",
       "      <th>1</th>\n",
       "      <td>AVENUE OF THE AMERICAS</td>\n",
       "      <td>LAIGHT STREET</td>\n",
       "      <td>CANAL STREET</td>\n",
       "      <td>None</td>\n",
       "      <td>POINT (982769.3310000002 202206.1618999988)</td>\n",
       "    </tr>\n",
       "    <tr>\n",
       "      <th>2</th>\n",
       "      <td>AVENUE OF THE AMERICAS</td>\n",
       "      <td>LISPENARD STREET</td>\n",
       "      <td>WEST BROADWAY</td>\n",
       "      <td>None</td>\n",
       "      <td>POINT (982805.6183999926 201790.0942000002)</td>\n",
       "    </tr>\n",
       "  </tbody>\n",
       "</table>\n",
       "</div>"
      ],
      "text/plain": [
       "                 ST1_Name          ST2_Name       ST3_Name ST4_Name  \\\n",
       "0            ALLEN STREET      CANAL STREET           None     None   \n",
       "1  AVENUE OF THE AMERICAS     LAIGHT STREET   CANAL STREET     None   \n",
       "2  AVENUE OF THE AMERICAS  LISPENARD STREET  WEST BROADWAY     None   \n",
       "\n",
       "                                      geometry  \n",
       "0  POINT (986336.1490000039 199793.6093000025)  \n",
       "1  POINT (982769.3310000002 202206.1618999988)  \n",
       "2  POINT (982805.6183999926 201790.0942000002)  "
      ]
     },
     "execution_count": 16,
     "metadata": {},
     "output_type": "execute_result"
    }
   ],
   "source": [
    "# outdated\n",
    "#fp =  r\"D:\\Projects\\Policy Evaluation\\input_data\\intersection_unique_shapefile_2263\\intersection_unique_shapefile_2263.shp\"\n",
    "#df2 = gpd.read_file(fp)\n",
    "\n",
    "# Open signal intersection shapefile\n",
    "fp = r\"Box Sync\\Policy Evaluation\\input_data\\DOT_traffic_signals_Oct_2018\\signal_controllers.shp\"\n",
    "df2 = gpd.read_file(fp)\n",
    "df2.head(3)"
   ]
  },
  {
   "cell_type": "code",
   "execution_count": 18,
   "metadata": {},
   "outputs": [
    {
     "data": {
      "text/html": [
       "<div>\n",
       "<style scoped>\n",
       "    .dataframe tbody tr th:only-of-type {\n",
       "        vertical-align: middle;\n",
       "    }\n",
       "\n",
       "    .dataframe tbody tr th {\n",
       "        vertical-align: top;\n",
       "    }\n",
       "\n",
       "    .dataframe thead th {\n",
       "        text-align: right;\n",
       "    }\n",
       "</style>\n",
       "<table border=\"1\" class=\"dataframe\">\n",
       "  <thead>\n",
       "    <tr style=\"text-align: right;\">\n",
       "      <th></th>\n",
       "      <th>ST1_Name</th>\n",
       "      <th>ST2_Name</th>\n",
       "      <th>ST3_Name</th>\n",
       "      <th>ST4_Name</th>\n",
       "      <th>geometry</th>\n",
       "      <th>intersection_ID</th>\n",
       "    </tr>\n",
       "  </thead>\n",
       "  <tbody>\n",
       "    <tr>\n",
       "      <th>0</th>\n",
       "      <td>ALLEN STREET</td>\n",
       "      <td>CANAL STREET</td>\n",
       "      <td>None</td>\n",
       "      <td>None</td>\n",
       "      <td>POINT (986336.1490000039 199793.6093000025)</td>\n",
       "      <td>0</td>\n",
       "    </tr>\n",
       "    <tr>\n",
       "      <th>1</th>\n",
       "      <td>AVENUE OF THE AMERICAS</td>\n",
       "      <td>LAIGHT STREET</td>\n",
       "      <td>CANAL STREET</td>\n",
       "      <td>None</td>\n",
       "      <td>POINT (982769.3310000002 202206.1618999988)</td>\n",
       "      <td>1</td>\n",
       "    </tr>\n",
       "    <tr>\n",
       "      <th>2</th>\n",
       "      <td>AVENUE OF THE AMERICAS</td>\n",
       "      <td>LISPENARD STREET</td>\n",
       "      <td>WEST BROADWAY</td>\n",
       "      <td>None</td>\n",
       "      <td>POINT (982805.6183999926 201790.0942000002)</td>\n",
       "      <td>2</td>\n",
       "    </tr>\n",
       "  </tbody>\n",
       "</table>\n",
       "</div>"
      ],
      "text/plain": [
       "                 ST1_Name          ST2_Name       ST3_Name ST4_Name  \\\n",
       "0            ALLEN STREET      CANAL STREET           None     None   \n",
       "1  AVENUE OF THE AMERICAS     LAIGHT STREET   CANAL STREET     None   \n",
       "2  AVENUE OF THE AMERICAS  LISPENARD STREET  WEST BROADWAY     None   \n",
       "\n",
       "                                      geometry  intersection_ID  \n",
       "0  POINT (986336.1490000039 199793.6093000025)                0  \n",
       "1  POINT (982769.3310000002 202206.1618999988)                1  \n",
       "2  POINT (982805.6183999926 201790.0942000002)                2  "
      ]
     },
     "execution_count": 18,
     "metadata": {},
     "output_type": "execute_result"
    }
   ],
   "source": [
    "# Create ID variable\n",
    "df2['intersection_ID'] = df2.index\n",
    "df2.head(3)"
   ]
  },
  {
   "cell_type": "code",
   "execution_count": 19,
   "metadata": {},
   "outputs": [
    {
     "data": {
      "text/plain": [
       "Index(['ST1_Name', 'ST2_Name', 'ST3_Name', 'ST4_Name', 'geometry',\n",
       "       'intersection_ID'],\n",
       "      dtype='object')"
      ]
     },
     "execution_count": 19,
     "metadata": {},
     "output_type": "execute_result"
    }
   ],
   "source": [
    "df2.columns"
   ]
  },
  {
   "cell_type": "markdown",
   "metadata": {},
   "source": [
    "Perform spatial join:\n",
    "Intention:\n",
    "Capture all intersection_id that fall within each LPIS polygon. (Something like a 1:many merge, but spatially)"
   ]
  },
  {
   "cell_type": "code",
   "execution_count": 25,
   "metadata": {},
   "outputs": [],
   "source": [
    "df2.crs = df1.crs\n",
    "df1_with_df2 = gpd.sjoin(df1,df2[['intersection_ID', 'geometry']], how='inner', op='intersects')\n"
   ]
  },
  {
   "cell_type": "code",
   "execution_count": 26,
   "metadata": {},
   "outputs": [
    {
     "data": {
      "text/html": [
       "<div>\n",
       "<style scoped>\n",
       "    .dataframe tbody tr th:only-of-type {\n",
       "        vertical-align: middle;\n",
       "    }\n",
       "\n",
       "    .dataframe tbody tr th {\n",
       "        vertical-align: top;\n",
       "    }\n",
       "\n",
       "    .dataframe thead th {\n",
       "        text-align: right;\n",
       "    }\n",
       "</style>\n",
       "<table border=\"1\" class=\"dataframe\">\n",
       "  <thead>\n",
       "    <tr style=\"text-align: right;\">\n",
       "      <th></th>\n",
       "      <th>cross_stre</th>\n",
       "      <th>date_insta</th>\n",
       "      <th>time_insta</th>\n",
       "      <th>lat</th>\n",
       "      <th>long</th>\n",
       "      <th>main_stree</th>\n",
       "      <th>geometry</th>\n",
       "      <th>LPIS_ID</th>\n",
       "      <th>index_right</th>\n",
       "      <th>intersection_ID</th>\n",
       "    </tr>\n",
       "  </thead>\n",
       "  <tbody>\n",
       "    <tr>\n",
       "      <th>0</th>\n",
       "      <td>Dreiser loop East</td>\n",
       "      <td>2018-08-01</td>\n",
       "      <td>00:00:00.000</td>\n",
       "      <td>40.878465</td>\n",
       "      <td>-73.828273</td>\n",
       "      <td>Co-op City Blvd</td>\n",
       "      <td>POLYGON ((1033739.000154228 259373.000004255, ...</td>\n",
       "      <td>0</td>\n",
       "      <td>3079</td>\n",
       "      <td>3079</td>\n",
       "    </tr>\n",
       "    <tr>\n",
       "      <th>0</th>\n",
       "      <td>Dreiser loop East</td>\n",
       "      <td>2018-08-01</td>\n",
       "      <td>00:00:00.000</td>\n",
       "      <td>40.878465</td>\n",
       "      <td>-73.828273</td>\n",
       "      <td>Co-op City Blvd</td>\n",
       "      <td>POLYGON ((1033739.000154228 259373.000004255, ...</td>\n",
       "      <td>0</td>\n",
       "      <td>2973</td>\n",
       "      <td>2973</td>\n",
       "    </tr>\n",
       "    <tr>\n",
       "      <th>0</th>\n",
       "      <td>Dreiser loop East</td>\n",
       "      <td>2018-08-01</td>\n",
       "      <td>00:00:00.000</td>\n",
       "      <td>40.878465</td>\n",
       "      <td>-73.828273</td>\n",
       "      <td>Co-op City Blvd</td>\n",
       "      <td>POLYGON ((1033739.000154228 259373.000004255, ...</td>\n",
       "      <td>0</td>\n",
       "      <td>3025</td>\n",
       "      <td>3025</td>\n",
       "    </tr>\n",
       "  </tbody>\n",
       "</table>\n",
       "</div>"
      ],
      "text/plain": [
       "          cross_stre  date_insta    time_insta        lat       long  \\\n",
       "0  Dreiser loop East  2018-08-01  00:00:00.000  40.878465 -73.828273   \n",
       "0  Dreiser loop East  2018-08-01  00:00:00.000  40.878465 -73.828273   \n",
       "0  Dreiser loop East  2018-08-01  00:00:00.000  40.878465 -73.828273   \n",
       "\n",
       "        main_stree                                           geometry  \\\n",
       "0  Co-op City Blvd  POLYGON ((1033739.000154228 259373.000004255, ...   \n",
       "0  Co-op City Blvd  POLYGON ((1033739.000154228 259373.000004255, ...   \n",
       "0  Co-op City Blvd  POLYGON ((1033739.000154228 259373.000004255, ...   \n",
       "\n",
       "   LPIS_ID  index_right  intersection_ID  \n",
       "0        0         3079             3079  \n",
       "0        0         2973             2973  \n",
       "0        0         3025             3025  "
      ]
     },
     "execution_count": 26,
     "metadata": {},
     "output_type": "execute_result"
    }
   ],
   "source": [
    "df1_with_df2.head(3)"
   ]
  },
  {
   "cell_type": "code",
   "execution_count": 27,
   "metadata": {},
   "outputs": [
    {
     "name": "stdout",
     "output_type": "stream",
     "text": [
      "           cross_stre  date_insta    time_insta        lat       long  \\\n",
      "307   Franklin Street  2018-05-08  00:00:00.000  40.718274 -74.005325   \n",
      "664     Broome Street  2018-01-22  00:00:00.000  40.721792 -73.999852   \n",
      "...               ...         ...           ...        ...        ...   \n",
      "2017    Broome Street  1998-06-10  00:00:00.000  40.724394 -74.006038   \n",
      "2743     Beach Street  2016-11-28  00:00:00.000  40.720746 -74.010067   \n",
      "\n",
      "            main_stree                                           geometry  \\\n",
      "307      Church Street  POLYGON ((984773.9999873067 200963.0000265919,...   \n",
      "664           Broadway  POLYGON ((986290.9999060486 202245.0000872485,...   \n",
      "...                ...                                                ...   \n",
      "2017     Varick Street  POLYGON ((984576.4016292235 203192.9909734189,...   \n",
      "2743  Greenwich Street  POLYGON ((983459.4015666411 201863.9910067472,...   \n",
      "\n",
      "      LPIS_ID  index_right  intersection_ID  \n",
      "307       307            1                1  \n",
      "664       664            1                1  \n",
      "...       ...          ...              ...  \n",
      "2017     2017            1                1  \n",
      "2743     2743            1                1  \n",
      "\n",
      "[7 rows x 10 columns]\n"
     ]
    }
   ],
   "source": [
    "filtered_data = df1_with_df2[df1_with_df2[\"intersection_ID\"]==1]\n",
    "print(filtered_data)"
   ]
  },
  {
   "cell_type": "markdown",
   "metadata": {},
   "source": [
    "saved out to check in QGIS and Stata.\n",
    "Checks out. \n",
    "Now I have all intersections within each LPIS buffer."
   ]
  },
  {
   "cell_type": "code",
   "execution_count": 28,
   "metadata": {},
   "outputs": [
    {
     "data": {
      "text/plain": [
       "Index(['cross_stre', 'date_insta', 'time_insta', 'lat', 'long', 'main_stree',\n",
       "       'geometry', 'LPIS_ID', 'index_right', 'intersection_ID'],\n",
       "      dtype='object')"
      ]
     },
     "execution_count": 28,
     "metadata": {},
     "output_type": "execute_result"
    }
   ],
   "source": [
    "df1_with_df2.columns"
   ]
  },
  {
   "cell_type": "code",
   "execution_count": 29,
   "metadata": {},
   "outputs": [],
   "source": [
    "save_out = df1_with_df2[['LPIS_ID','intersection_ID']]"
   ]
  },
  {
   "cell_type": "code",
   "execution_count": 30,
   "metadata": {},
   "outputs": [
    {
     "data": {
      "text/html": [
       "<div>\n",
       "<style scoped>\n",
       "    .dataframe tbody tr th:only-of-type {\n",
       "        vertical-align: middle;\n",
       "    }\n",
       "\n",
       "    .dataframe tbody tr th {\n",
       "        vertical-align: top;\n",
       "    }\n",
       "\n",
       "    .dataframe thead th {\n",
       "        text-align: right;\n",
       "    }\n",
       "</style>\n",
       "<table border=\"1\" class=\"dataframe\">\n",
       "  <thead>\n",
       "    <tr style=\"text-align: right;\">\n",
       "      <th></th>\n",
       "      <th>LPIS_ID</th>\n",
       "      <th>intersection_ID</th>\n",
       "    </tr>\n",
       "  </thead>\n",
       "  <tbody>\n",
       "    <tr>\n",
       "      <th>0</th>\n",
       "      <td>0</td>\n",
       "      <td>3079</td>\n",
       "    </tr>\n",
       "    <tr>\n",
       "      <th>0</th>\n",
       "      <td>0</td>\n",
       "      <td>2973</td>\n",
       "    </tr>\n",
       "    <tr>\n",
       "      <th>0</th>\n",
       "      <td>0</td>\n",
       "      <td>3025</td>\n",
       "    </tr>\n",
       "  </tbody>\n",
       "</table>\n",
       "</div>"
      ],
      "text/plain": [
       "   LPIS_ID  intersection_ID\n",
       "0        0             3079\n",
       "0        0             2973\n",
       "0        0             3025"
      ]
     },
     "execution_count": 30,
     "metadata": {},
     "output_type": "execute_result"
    }
   ],
   "source": [
    "save_out.head(3)"
   ]
  },
  {
   "cell_type": "code",
   "execution_count": 31,
   "metadata": {},
   "outputs": [
    {
     "data": {
      "text/plain": [
       "pandas.core.frame.DataFrame"
      ]
     },
     "execution_count": 31,
     "metadata": {},
     "output_type": "execute_result"
    }
   ],
   "source": [
    "type(save_out)"
   ]
  },
  {
   "cell_type": "code",
   "execution_count": 32,
   "metadata": {},
   "outputs": [],
   "source": [
    "fp =  r\"Box Sync\\Policy Evaluation\\working_data\\intersection_2000ft_LPIS.dta\"\n",
    "save_out.to_stata(fp)"
   ]
  },
  {
   "cell_type": "code",
   "execution_count": null,
   "metadata": {},
   "outputs": [],
   "source": []
  }
 ],
 "metadata": {
  "kernelspec": {
   "display_name": "Python 3",
   "language": "python",
   "name": "python3"
  },
  "language_info": {
   "codemirror_mode": {
    "name": "ipython",
    "version": 3
   },
   "file_extension": ".py",
   "mimetype": "text/x-python",
   "name": "python",
   "nbconvert_exporter": "python",
   "pygments_lexer": "ipython3",
   "version": "3.6.6"
  }
 },
 "nbformat": 4,
 "nbformat_minor": 2
}
