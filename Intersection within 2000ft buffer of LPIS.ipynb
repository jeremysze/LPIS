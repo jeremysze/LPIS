{
 "cells": [
  {
   "cell_type": "code",
   "execution_count": 59,
   "metadata": {},
   "outputs": [],
   "source": [
    "import matplotlib.pyplot as plt\n",
    "import geopandas as gpd\n",
    "import pandas as pd\n",
    "import shapely as shy\n",
    "import osmnx as ox\n",
    "\n",
    "pd.options.display.max_rows = 4\n",
    "%matplotlib inline"
   ]
  },
  {
   "cell_type": "code",
   "execution_count": 60,
   "metadata": {},
   "outputs": [
    {
     "name": "stdout",
     "output_type": "stream",
     "text": [
      "D:\\Projects\\Policy Evaluation\\dofiles\n"
     ]
    }
   ],
   "source": [
    "cd D:\\Projects\\Policy Evaluation\\dofiles\\"
   ]
  },
  {
   "cell_type": "code",
   "execution_count": 61,
   "metadata": {},
   "outputs": [],
   "source": [
    "fp =  r\"..\\input_data\\leading_pedestrian_interval_signals_shapefile_2263\\leading_pedestrian_interval_signals_shapefile_2263.shp\"\n",
    "df1 = gpd.read_file(fp)"
   ]
  },
  {
   "cell_type": "code",
   "execution_count": 62,
   "metadata": {},
   "outputs": [
    {
     "data": {
      "text/html": [
       "<div>\n",
       "<style scoped>\n",
       "    .dataframe tbody tr th:only-of-type {\n",
       "        vertical-align: middle;\n",
       "    }\n",
       "\n",
       "    .dataframe tbody tr th {\n",
       "        vertical-align: top;\n",
       "    }\n",
       "\n",
       "    .dataframe thead th {\n",
       "        text-align: right;\n",
       "    }\n",
       "</style>\n",
       "<table border=\"1\" class=\"dataframe\">\n",
       "  <thead>\n",
       "    <tr style=\"text-align: right;\">\n",
       "      <th></th>\n",
       "      <th>MainStreet</th>\n",
       "      <th>CrossStree</th>\n",
       "      <th>Install_Da</th>\n",
       "      <th>ID</th>\n",
       "      <th>geometry</th>\n",
       "    </tr>\n",
       "  </thead>\n",
       "  <tbody>\n",
       "    <tr>\n",
       "      <th>0</th>\n",
       "      <td>Vanderbilt Avenue</td>\n",
       "      <td>St Mark's Avenue</td>\n",
       "      <td>2018-01-08</td>\n",
       "      <td>1</td>\n",
       "      <td>POINT (992974.9999266018 186489.9997614889)</td>\n",
       "    </tr>\n",
       "    <tr>\n",
       "      <th>1</th>\n",
       "      <td>Guyon Avenue</td>\n",
       "      <td>So Railroad Avenue</td>\n",
       "      <td>2018-01-09</td>\n",
       "      <td>2</td>\n",
       "      <td>POINT (949031.9998856507 144943.9995205229)</td>\n",
       "    </tr>\n",
       "    <tr>\n",
       "      <th>2</th>\n",
       "      <td>Broadway</td>\n",
       "      <td>36 Street</td>\n",
       "      <td>2018-01-09</td>\n",
       "      <td>3</td>\n",
       "      <td>POINT (1006026.000071445 216210.9997024141)</td>\n",
       "    </tr>\n",
       "  </tbody>\n",
       "</table>\n",
       "</div>"
      ],
      "text/plain": [
       "          MainStreet          CrossStree  Install_Da  ID  \\\n",
       "0  Vanderbilt Avenue    St Mark's Avenue  2018-01-08   1   \n",
       "1       Guyon Avenue  So Railroad Avenue  2018-01-09   2   \n",
       "2           Broadway           36 Street  2018-01-09   3   \n",
       "\n",
       "                                      geometry  \n",
       "0  POINT (992974.9999266018 186489.9997614889)  \n",
       "1  POINT (949031.9998856507 144943.9995205229)  \n",
       "2  POINT (1006026.000071445 216210.9997024141)  "
      ]
     },
     "execution_count": 62,
     "metadata": {},
     "output_type": "execute_result"
    }
   ],
   "source": [
    "df1.head(3)"
   ]
  },
  {
   "cell_type": "code",
   "execution_count": 63,
   "metadata": {},
   "outputs": [
    {
     "data": {
      "text/plain": [
       "<matplotlib.axes._subplots.AxesSubplot at 0x1bf5a919198>"
      ]
     },
     "execution_count": 63,
     "metadata": {},
     "output_type": "execute_result"
    },
    {
     "data": {
      "image/png": "[encoded data removed]",
      "text/plain": [
       "<Figure size 432x288 with 1 Axes>"
      ]
     },
     "metadata": {},
     "output_type": "display_data"
    }
   ],
   "source": [
    "df1.plot()"
   ]
  },
  {
   "cell_type": "code",
   "execution_count": 64,
   "metadata": {},
   "outputs": [
    {
     "data": {
      "text/plain": [
       "{'proj': 'lcc',\n",
       " 'lat_1': 41.03333333333333,\n",
       " 'lat_2': 40.66666666666666,\n",
       " 'lat_0': 40.16666666666666,\n",
       " 'lon_0': -74,\n",
       " 'x_0': 300000.0000000001,\n",
       " 'y_0': 0,\n",
       " 'datum': 'NAD83',\n",
       " 'units': 'us-ft',\n",
       " 'no_defs': True}"
      ]
     },
     "execution_count": 64,
     "metadata": {},
     "output_type": "execute_result"
    }
   ],
   "source": [
    "df1.crs"
   ]
  },
  {
   "cell_type": "code",
   "execution_count": 65,
   "metadata": {},
   "outputs": [
    {
     "data": {
      "text/plain": [
       "geopandas.geodataframe.GeoDataFrame"
      ]
     },
     "execution_count": 65,
     "metadata": {},
     "output_type": "execute_result"
    }
   ],
   "source": [
    "type(df1)"
   ]
  },
  {
   "cell_type": "code",
   "execution_count": 66,
   "metadata": {},
   "outputs": [
    {
     "data": {
      "text/plain": [
       "'us-ft'"
      ]
     },
     "execution_count": 66,
     "metadata": {},
     "output_type": "execute_result"
    }
   ],
   "source": [
    "df1.crs['units']"
   ]
  },
  {
   "cell_type": "code",
   "execution_count": 67,
   "metadata": {},
   "outputs": [
    {
     "data": {
      "text/plain": [
       "Index(['MainStreet', 'CrossStree', 'Install_Da', 'ID', 'geometry'], dtype='object')"
      ]
     },
     "execution_count": 67,
     "metadata": {},
     "output_type": "execute_result"
    }
   ],
   "source": [
    "df1.columns"
   ]
  },
  {
   "cell_type": "code",
   "execution_count": 68,
   "metadata": {},
   "outputs": [],
   "source": [
    "df1.geometry = LPIS_data['geometry'].buffer(2000)"
   ]
  },
  {
   "cell_type": "code",
   "execution_count": 69,
   "metadata": {},
   "outputs": [
    {
     "data": {
      "text/plain": [
       "<matplotlib.axes._subplots.AxesSubplot at 0x1bf5ad51d30>"
      ]
     },
     "execution_count": 69,
     "metadata": {},
     "output_type": "execute_result"
    },
    {
     "data": {
      "image/png": "[encoded data removed]",
      "text/plain": [
       "<Figure size 432x288 with 1 Axes>"
      ]
     },
     "metadata": {},
     "output_type": "display_data"
    }
   ],
   "source": [
    "df1.plot()"
   ]
  },
  {
   "cell_type": "code",
   "execution_count": 70,
   "metadata": {},
   "outputs": [
    {
     "data": {
      "text/html": [
       "<div>\n",
       "<style scoped>\n",
       "    .dataframe tbody tr th:only-of-type {\n",
       "        vertical-align: middle;\n",
       "    }\n",
       "\n",
       "    .dataframe tbody tr th {\n",
       "        vertical-align: top;\n",
       "    }\n",
       "\n",
       "    .dataframe thead th {\n",
       "        text-align: right;\n",
       "    }\n",
       "</style>\n",
       "<table border=\"1\" class=\"dataframe\">\n",
       "  <thead>\n",
       "    <tr style=\"text-align: right;\">\n",
       "      <th></th>\n",
       "      <th>MainStreet</th>\n",
       "      <th>CrossStree</th>\n",
       "      <th>Install_Da</th>\n",
       "      <th>ID</th>\n",
       "      <th>geometry</th>\n",
       "    </tr>\n",
       "  </thead>\n",
       "  <tbody>\n",
       "    <tr>\n",
       "      <th>0</th>\n",
       "      <td>Vanderbilt Avenue</td>\n",
       "      <td>St Mark's Avenue</td>\n",
       "      <td>2018-01-08</td>\n",
       "      <td>1</td>\n",
       "      <td>POLYGON ((996974.9999266018 186489.9997614889,...</td>\n",
       "    </tr>\n",
       "    <tr>\n",
       "      <th>1</th>\n",
       "      <td>Guyon Avenue</td>\n",
       "      <td>So Railroad Avenue</td>\n",
       "      <td>2018-01-09</td>\n",
       "      <td>2</td>\n",
       "      <td>POLYGON ((953031.9998856507 144943.9995205229,...</td>\n",
       "    </tr>\n",
       "    <tr>\n",
       "      <th>2</th>\n",
       "      <td>Broadway</td>\n",
       "      <td>36 Street</td>\n",
       "      <td>2018-01-09</td>\n",
       "      <td>3</td>\n",
       "      <td>POLYGON ((1010026.000071445 216210.9997024141,...</td>\n",
       "    </tr>\n",
       "  </tbody>\n",
       "</table>\n",
       "</div>"
      ],
      "text/plain": [
       "          MainStreet          CrossStree  Install_Da  ID  \\\n",
       "0  Vanderbilt Avenue    St Mark's Avenue  2018-01-08   1   \n",
       "1       Guyon Avenue  So Railroad Avenue  2018-01-09   2   \n",
       "2           Broadway           36 Street  2018-01-09   3   \n",
       "\n",
       "                                            geometry  \n",
       "0  POLYGON ((996974.9999266018 186489.9997614889,...  \n",
       "1  POLYGON ((953031.9998856507 144943.9995205229,...  \n",
       "2  POLYGON ((1010026.000071445 216210.9997024141,...  "
      ]
     },
     "execution_count": 70,
     "metadata": {},
     "output_type": "execute_result"
    }
   ],
   "source": [
    "df1.head(3)"
   ]
  },
  {
   "cell_type": "code",
   "execution_count": 71,
   "metadata": {},
   "outputs": [],
   "source": [
    "fp =  r\"D:\\Projects\\Policy Evaluation\\input_data\\notebook_output\\LPIS_buffer.shp\"\n",
    "df1.to_file(fp,driver ='ESRI Shapefile')"
   ]
  },
  {
   "cell_type": "markdown",
   "metadata": {},
   "source": [
    "Tested the output in QGIS. It is exactly the same as the LPIS buffer I've created in QGIS."
   ]
  },
  {
   "cell_type": "markdown",
   "metadata": {},
   "source": [
    "Bringing in the intersection dataframe"
   ]
  },
  {
   "cell_type": "code",
   "execution_count": 72,
   "metadata": {},
   "outputs": [],
   "source": [
    "fp =  r\"D:\\Projects\\Policy Evaluation\\input_data\\intersection_unique_shapefile_2263\\intersection_unique_shapefile_2263.shp\"\n",
    "df2 = gpd.read_file(fp)"
   ]
  },
  {
   "cell_type": "code",
   "execution_count": 74,
   "metadata": {},
   "outputs": [
    {
     "data": {
      "text/html": [
       "<div>\n",
       "<style scoped>\n",
       "    .dataframe tbody tr th:only-of-type {\n",
       "        vertical-align: middle;\n",
       "    }\n",
       "\n",
       "    .dataframe tbody tr th {\n",
       "        vertical-align: top;\n",
       "    }\n",
       "\n",
       "    .dataframe thead th {\n",
       "        text-align: right;\n",
       "    }\n",
       "</style>\n",
       "<table border=\"1\" class=\"dataframe\">\n",
       "  <thead>\n",
       "    <tr style=\"text-align: right;\">\n",
       "      <th></th>\n",
       "      <th>fid</th>\n",
       "      <th>linearid</th>\n",
       "      <th>fullname</th>\n",
       "      <th>rttyp</th>\n",
       "      <th>mtfcc</th>\n",
       "      <th>linearid_2</th>\n",
       "      <th>fullname_2</th>\n",
       "      <th>rttyp_2</th>\n",
       "      <th>mtfcc_2</th>\n",
       "      <th>longitude</th>\n",
       "      <th>latitude</th>\n",
       "      <th>bcode</th>\n",
       "      <th>bname</th>\n",
       "      <th>name</th>\n",
       "      <th>namelsad</th>\n",
       "      <th>geometry</th>\n",
       "    </tr>\n",
       "  </thead>\n",
       "  <tbody>\n",
       "    <tr>\n",
       "      <th>0</th>\n",
       "      <td>1.0</td>\n",
       "      <td>1101042239898</td>\n",
       "      <td>Baldwin St</td>\n",
       "      <td>M</td>\n",
       "      <td>S1400</td>\n",
       "      <td>1101042288995</td>\n",
       "      <td>None</td>\n",
       "      <td>None</td>\n",
       "      <td>S1640</td>\n",
       "      <td>1025301.152</td>\n",
       "      <td>270701.9341</td>\n",
       "      <td>36005</td>\n",
       "      <td>Bronx</td>\n",
       "      <td>Bronx</td>\n",
       "      <td>Bronx County</td>\n",
       "      <td>POINT (1025301.15279018 270701.934121847)</td>\n",
       "    </tr>\n",
       "    <tr>\n",
       "      <th>1</th>\n",
       "      <td>2.0</td>\n",
       "      <td>1101042239898</td>\n",
       "      <td>Baldwin St</td>\n",
       "      <td>M</td>\n",
       "      <td>S1400</td>\n",
       "      <td>1102175695960</td>\n",
       "      <td>Bradley St</td>\n",
       "      <td>M</td>\n",
       "      <td>S1400</td>\n",
       "      <td>1025194.172</td>\n",
       "      <td>270543.9926</td>\n",
       "      <td>36005</td>\n",
       "      <td>Bronx</td>\n",
       "      <td>Bronx</td>\n",
       "      <td>Bronx County</td>\n",
       "      <td>POINT (1025194.172990974 270543.9926886206)</td>\n",
       "    </tr>\n",
       "    <tr>\n",
       "      <th>...</th>\n",
       "      <td>...</td>\n",
       "      <td>...</td>\n",
       "      <td>...</td>\n",
       "      <td>...</td>\n",
       "      <td>...</td>\n",
       "      <td>...</td>\n",
       "      <td>...</td>\n",
       "      <td>...</td>\n",
       "      <td>...</td>\n",
       "      <td>...</td>\n",
       "      <td>...</td>\n",
       "      <td>...</td>\n",
       "      <td>...</td>\n",
       "      <td>...</td>\n",
       "      <td>...</td>\n",
       "      <td>...</td>\n",
       "    </tr>\n",
       "    <tr>\n",
       "      <th>3</th>\n",
       "      <td>8.0</td>\n",
       "      <td>1101045352991</td>\n",
       "      <td>Mundy Ln</td>\n",
       "      <td>M</td>\n",
       "      <td>S1400</td>\n",
       "      <td>110391524427</td>\n",
       "      <td>E 241st St</td>\n",
       "      <td>M</td>\n",
       "      <td>S1400</td>\n",
       "      <td>1028203.781</td>\n",
       "      <td>268236.7883</td>\n",
       "      <td>36005</td>\n",
       "      <td>Bronx</td>\n",
       "      <td>Bronx</td>\n",
       "      <td>Bronx County</td>\n",
       "      <td>POINT (1028203.781452508 268236.7883355191)</td>\n",
       "    </tr>\n",
       "    <tr>\n",
       "      <th>4</th>\n",
       "      <td>9.0</td>\n",
       "      <td>1101045352991</td>\n",
       "      <td>Mundy Ln</td>\n",
       "      <td>M</td>\n",
       "      <td>S1400</td>\n",
       "      <td>110391525873</td>\n",
       "      <td>Pitman Ave</td>\n",
       "      <td>M</td>\n",
       "      <td>S1400</td>\n",
       "      <td>1028580.253</td>\n",
       "      <td>266444.5479</td>\n",
       "      <td>36005</td>\n",
       "      <td>Bronx</td>\n",
       "      <td>Bronx</td>\n",
       "      <td>Bronx County</td>\n",
       "      <td>POINT (1028580.253206685 266444.547937153)</td>\n",
       "    </tr>\n",
       "  </tbody>\n",
       "</table>\n",
       "<p>5 rows × 16 columns</p>\n",
       "</div>"
      ],
      "text/plain": [
       "    fid       linearid    fullname rttyp  mtfcc     linearid_2  fullname_2  \\\n",
       "0   1.0  1101042239898  Baldwin St     M  S1400  1101042288995        None   \n",
       "1   2.0  1101042239898  Baldwin St     M  S1400  1102175695960  Bradley St   \n",
       "..  ...            ...         ...   ...    ...            ...         ...   \n",
       "3   8.0  1101045352991    Mundy Ln     M  S1400   110391524427  E 241st St   \n",
       "4   9.0  1101045352991    Mundy Ln     M  S1400   110391525873  Pitman Ave   \n",
       "\n",
       "   rttyp_2 mtfcc_2    longitude     latitude  bcode  bname   name  \\\n",
       "0     None   S1640  1025301.152  270701.9341  36005  Bronx  Bronx   \n",
       "1        M   S1400  1025194.172  270543.9926  36005  Bronx  Bronx   \n",
       "..     ...     ...          ...          ...    ...    ...    ...   \n",
       "3        M   S1400  1028203.781  268236.7883  36005  Bronx  Bronx   \n",
       "4        M   S1400  1028580.253  266444.5479  36005  Bronx  Bronx   \n",
       "\n",
       "        namelsad                                     geometry  \n",
       "0   Bronx County    POINT (1025301.15279018 270701.934121847)  \n",
       "1   Bronx County  POINT (1025194.172990974 270543.9926886206)  \n",
       "..           ...                                          ...  \n",
       "3   Bronx County  POINT (1028203.781452508 268236.7883355191)  \n",
       "4   Bronx County   POINT (1028580.253206685 266444.547937153)  \n",
       "\n",
       "[5 rows x 16 columns]"
      ]
     },
     "execution_count": 74,
     "metadata": {},
     "output_type": "execute_result"
    }
   ],
   "source": [
    "df2.head()"
   ]
  },
  {
   "cell_type": "code",
   "execution_count": 75,
   "metadata": {},
   "outputs": [
    {
     "data": {
      "text/plain": [
       "Index(['fid', 'linearid', 'fullname', 'rttyp', 'mtfcc', 'linearid_2',\n",
       "       'fullname_2', 'rttyp_2', 'mtfcc_2', 'longitude', 'latitude', 'bcode',\n",
       "       'bname', 'name', 'namelsad', 'geometry'],\n",
       "      dtype='object')"
      ]
     },
     "execution_count": 75,
     "metadata": {},
     "output_type": "execute_result"
    }
   ],
   "source": [
    "df2.columns"
   ]
  },
  {
   "cell_type": "markdown",
   "metadata": {},
   "source": [
    "Perform spatial join:\n",
    "Intention:\n",
    "Capture all intersection_id that fall within each LPIS polygon. (Something like a 1:many merge, but spatially)"
   ]
  },
  {
   "cell_type": "code",
   "execution_count": 76,
   "metadata": {},
   "outputs": [],
   "source": [
    "df2.crs = df1.crs\n",
    "df1_with_df2 = gpd.sjoin(df1,df2[['fid', 'geometry']], how='inner', op='intersects')\n"
   ]
  },
  {
   "cell_type": "code",
   "execution_count": 77,
   "metadata": {},
   "outputs": [
    {
     "data": {
      "text/html": [
       "<div>\n",
       "<style scoped>\n",
       "    .dataframe tbody tr th:only-of-type {\n",
       "        vertical-align: middle;\n",
       "    }\n",
       "\n",
       "    .dataframe tbody tr th {\n",
       "        vertical-align: top;\n",
       "    }\n",
       "\n",
       "    .dataframe thead th {\n",
       "        text-align: right;\n",
       "    }\n",
       "</style>\n",
       "<table border=\"1\" class=\"dataframe\">\n",
       "  <thead>\n",
       "    <tr style=\"text-align: right;\">\n",
       "      <th></th>\n",
       "      <th>MainStreet</th>\n",
       "      <th>CrossStree</th>\n",
       "      <th>Install_Da</th>\n",
       "      <th>ID</th>\n",
       "      <th>geometry</th>\n",
       "      <th>index_right</th>\n",
       "      <th>fid</th>\n",
       "    </tr>\n",
       "  </thead>\n",
       "  <tbody>\n",
       "    <tr>\n",
       "      <th>0</th>\n",
       "      <td>Vanderbilt Avenue</td>\n",
       "      <td>St Mark's Avenue</td>\n",
       "      <td>2018-01-08</td>\n",
       "      <td>1</td>\n",
       "      <td>POLYGON ((996974.9999266018 186489.9997614889,...</td>\n",
       "      <td>18134</td>\n",
       "      <td>50173.0</td>\n",
       "    </tr>\n",
       "    <tr>\n",
       "      <th>87</th>\n",
       "      <td>Underhill Avenue</td>\n",
       "      <td>St Marks Avenie</td>\n",
       "      <td>2017-11-03</td>\n",
       "      <td>88</td>\n",
       "      <td>POLYGON ((997775.3989163449 186266.9933177325,...</td>\n",
       "      <td>18134</td>\n",
       "      <td>50173.0</td>\n",
       "    </tr>\n",
       "    <tr>\n",
       "      <th>89</th>\n",
       "      <td>Atlantic Avenue</td>\n",
       "      <td>FT GREENE PLACE</td>\n",
       "      <td>2017-11-08</td>\n",
       "      <td>90</td>\n",
       "      <td>POLYGON ((994920.3993769779 188296.9931947279,...</td>\n",
       "      <td>18134</td>\n",
       "      <td>50173.0</td>\n",
       "    </tr>\n",
       "  </tbody>\n",
       "</table>\n",
       "</div>"
      ],
      "text/plain": [
       "           MainStreet        CrossStree  Install_Da  ID  \\\n",
       "0   Vanderbilt Avenue  St Mark's Avenue  2018-01-08   1   \n",
       "87   Underhill Avenue   St Marks Avenie  2017-11-03  88   \n",
       "89    Atlantic Avenue   FT GREENE PLACE  2017-11-08  90   \n",
       "\n",
       "                                             geometry  index_right      fid  \n",
       "0   POLYGON ((996974.9999266018 186489.9997614889,...        18134  50173.0  \n",
       "87  POLYGON ((997775.3989163449 186266.9933177325,...        18134  50173.0  \n",
       "89  POLYGON ((994920.3993769779 188296.9931947279,...        18134  50173.0  "
      ]
     },
     "execution_count": 77,
     "metadata": {},
     "output_type": "execute_result"
    }
   ],
   "source": [
    "df1_with_df2.head(3)"
   ]
  },
  {
   "cell_type": "code",
   "execution_count": 78,
   "metadata": {},
   "outputs": [
    {
     "name": "stdout",
     "output_type": "stream",
     "text": [
      "           MainStreet        CrossStree  Install_Da  ID  \\\n",
      "0   Vanderbilt Avenue  St Mark's Avenue  2018-01-08   1   \n",
      "0   Vanderbilt Avenue  St Mark's Avenue  2018-01-08   1   \n",
      "..                ...               ...         ...  ..   \n",
      "0   Vanderbilt Avenue  St Mark's Avenue  2018-01-08   1   \n",
      "0   Vanderbilt Avenue  St Mark's Avenue  2018-01-08   1   \n",
      "\n",
      "                                             geometry  index_right      fid  \n",
      "0   POLYGON ((996974.9999266018 186489.9997614889,...        18134  50173.0  \n",
      "0   POLYGON ((996974.9999266018 186489.9997614889,...        18003  48900.0  \n",
      "..                                                ...          ...      ...  \n",
      "0   POLYGON ((996974.9999266018 186489.9997614889,...        10063  29841.0  \n",
      "0   POLYGON ((996974.9999266018 186489.9997614889,...        18005  48922.0  \n",
      "\n",
      "[287 rows x 7 columns]\n"
     ]
    }
   ],
   "source": [
    "filtered_data = df1_with_df2[df1_with_df2[\"ID\"]==1]\n",
    "print(filtered_data)"
   ]
  },
  {
   "cell_type": "markdown",
   "metadata": {},
   "source": [
    "saved out to check in QGIS and Stata.\n",
    "Checks out. \n",
    "Now I have all intersections within each LPIS buffer."
   ]
  },
  {
   "cell_type": "code",
   "execution_count": 79,
   "metadata": {},
   "outputs": [
    {
     "data": {
      "text/plain": [
       "Index(['MainStreet', 'CrossStree', 'Install_Da', 'ID', 'geometry',\n",
       "       'index_right', 'fid'],\n",
       "      dtype='object')"
      ]
     },
     "execution_count": 79,
     "metadata": {},
     "output_type": "execute_result"
    }
   ],
   "source": [
    "df1_with_df2.columns"
   ]
  },
  {
   "cell_type": "code",
   "execution_count": 82,
   "metadata": {},
   "outputs": [],
   "source": [
    "save_out = df1_with_df2[['ID','fid']]"
   ]
  },
  {
   "cell_type": "code",
   "execution_count": 83,
   "metadata": {},
   "outputs": [
    {
     "data": {
      "text/html": [
       "<div>\n",
       "<style scoped>\n",
       "    .dataframe tbody tr th:only-of-type {\n",
       "        vertical-align: middle;\n",
       "    }\n",
       "\n",
       "    .dataframe tbody tr th {\n",
       "        vertical-align: top;\n",
       "    }\n",
       "\n",
       "    .dataframe thead th {\n",
       "        text-align: right;\n",
       "    }\n",
       "</style>\n",
       "<table border=\"1\" class=\"dataframe\">\n",
       "  <thead>\n",
       "    <tr style=\"text-align: right;\">\n",
       "      <th></th>\n",
       "      <th>ID</th>\n",
       "      <th>fid</th>\n",
       "    </tr>\n",
       "  </thead>\n",
       "  <tbody>\n",
       "    <tr>\n",
       "      <th>0</th>\n",
       "      <td>1</td>\n",
       "      <td>50173.0</td>\n",
       "    </tr>\n",
       "    <tr>\n",
       "      <th>87</th>\n",
       "      <td>88</td>\n",
       "      <td>50173.0</td>\n",
       "    </tr>\n",
       "    <tr>\n",
       "      <th>89</th>\n",
       "      <td>90</td>\n",
       "      <td>50173.0</td>\n",
       "    </tr>\n",
       "  </tbody>\n",
       "</table>\n",
       "</div>"
      ],
      "text/plain": [
       "    ID      fid\n",
       "0    1  50173.0\n",
       "87  88  50173.0\n",
       "89  90  50173.0"
      ]
     },
     "execution_count": 83,
     "metadata": {},
     "output_type": "execute_result"
    }
   ],
   "source": [
    "save_out.head(3)"
   ]
  },
  {
   "cell_type": "code",
   "execution_count": 84,
   "metadata": {},
   "outputs": [
    {
     "data": {
      "text/plain": [
       "pandas.core.frame.DataFrame"
      ]
     },
     "execution_count": 84,
     "metadata": {},
     "output_type": "execute_result"
    }
   ],
   "source": [
    "type(save_out)"
   ]
  },
  {
   "cell_type": "code",
   "execution_count": 85,
   "metadata": {},
   "outputs": [],
   "source": [
    "fp =  r\"D:\\Projects\\Policy Evaluation\\working_data\\intersection_2000ft_LPIS.dta\"\n",
    "save_out.to_stata(fp)"
   ]
  },
  {
   "cell_type": "code",
   "execution_count": null,
   "metadata": {},
   "outputs": [],
   "source": []
  }
 ],
 "metadata": {
  "kernelspec": {
   "display_name": "Python 3",
   "language": "python",
   "name": "python3"
  },
  "language_info": {
   "codemirror_mode": {
    "name": "ipython",
    "version": 3
   },
   "file_extension": ".py",
   "mimetype": "text/x-python",
   "name": "python",
   "nbconvert_exporter": "python",
   "pygments_lexer": "ipython3",
   "version": "3.6.5"
  }
 },
 "nbformat": 4,
 "nbformat_minor": 2
}
