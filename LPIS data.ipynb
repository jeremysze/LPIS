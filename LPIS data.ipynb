{
 "cells": [
  {
   "cell_type": "code",
   "execution_count": 1,
   "metadata": {},
   "outputs": [],
   "source": [
    "import matplotlib.pyplot as plt\n",
    "import geopandas as gpd\n",
    "import pandas as pd\n",
    "import shapely as shy\n",
    "from shapely.ops import nearest_points\n",
    "from shapely.geometry import Point, MultiPoint\n",
    "import fiona\n",
    "from scipy.spatial import cKDTree\n",
    "import numpy as np\n",
    "\n",
    "pd.options.display.max_rows = 4\n",
    "%matplotlib inline\n",
    "import os\n",
    "os.environ[\"PROJ_LIB\"] = \"C:\\ProgramData\\Anaconda3\\Library\\share\" #window"
   ]
  },
  {
   "cell_type": "code",
   "execution_count": 2,
   "metadata": {},
   "outputs": [
    {
     "name": "stdout",
     "output_type": "stream",
     "text": [
      "C:\\Users\\jerem\n"
     ]
    }
   ],
   "source": [
    "cd"
   ]
  },
  {
   "cell_type": "code",
   "execution_count": 3,
   "metadata": {},
   "outputs": [
    {
     "data": {
      "text/html": [
       "<div>\n",
       "<style scoped>\n",
       "    .dataframe tbody tr th:only-of-type {\n",
       "        vertical-align: middle;\n",
       "    }\n",
       "\n",
       "    .dataframe tbody tr th {\n",
       "        vertical-align: top;\n",
       "    }\n",
       "\n",
       "    .dataframe thead th {\n",
       "        text-align: right;\n",
       "    }\n",
       "</style>\n",
       "<table border=\"1\" class=\"dataframe\">\n",
       "  <thead>\n",
       "    <tr style=\"text-align: right;\">\n",
       "      <th></th>\n",
       "      <th>cross_stre</th>\n",
       "      <th>date_insta</th>\n",
       "      <th>time_insta</th>\n",
       "      <th>lat</th>\n",
       "      <th>long</th>\n",
       "      <th>main_stree</th>\n",
       "      <th>geometry</th>\n",
       "    </tr>\n",
       "  </thead>\n",
       "  <tbody>\n",
       "    <tr>\n",
       "      <th>0</th>\n",
       "      <td>Dreiser loop East</td>\n",
       "      <td>2018-08-01</td>\n",
       "      <td>00:00:00.000</td>\n",
       "      <td>40.878465</td>\n",
       "      <td>-73.828273</td>\n",
       "      <td>Co-op City Blvd</td>\n",
       "      <td>POINT (-73.82827338235253 40.87846542795222)</td>\n",
       "    </tr>\n",
       "    <tr>\n",
       "      <th>1</th>\n",
       "      <td>West 119 St</td>\n",
       "      <td>2018-08-08</td>\n",
       "      <td>00:00:00.000</td>\n",
       "      <td>40.803958</td>\n",
       "      <td>-73.948271</td>\n",
       "      <td>Lenox Avenue</td>\n",
       "      <td>POINT (-73.94827133431397 40.80395846158952)</td>\n",
       "    </tr>\n",
       "    <tr>\n",
       "      <th>2</th>\n",
       "      <td>West 120 St</td>\n",
       "      <td>2018-08-08</td>\n",
       "      <td>00:00:00.000</td>\n",
       "      <td>40.804587</td>\n",
       "      <td>-73.947812</td>\n",
       "      <td>Lenox Avenue</td>\n",
       "      <td>POINT (-73.94781210658503 40.80458679730486)</td>\n",
       "    </tr>\n",
       "  </tbody>\n",
       "</table>\n",
       "</div>"
      ],
      "text/plain": [
       "          cross_stre  date_insta    time_insta        lat       long  \\\n",
       "0  Dreiser loop East  2018-08-01  00:00:00.000  40.878465 -73.828273   \n",
       "1        West 119 St  2018-08-08  00:00:00.000  40.803958 -73.948271   \n",
       "2        West 120 St  2018-08-08  00:00:00.000  40.804587 -73.947812   \n",
       "\n",
       "        main_stree                                      geometry  \n",
       "0  Co-op City Blvd  POINT (-73.82827338235253 40.87846542795222)  \n",
       "1     Lenox Avenue  POINT (-73.94827133431397 40.80395846158952)  \n",
       "2     Lenox Avenue  POINT (-73.94781210658503 40.80458679730486)  "
      ]
     },
     "execution_count": 3,
     "metadata": {},
     "output_type": "execute_result"
    }
   ],
   "source": [
    "# Open LPIs shapefile\n",
    "fp = r\"C:\\Users\\jerem\\Box Sync\\Policy Evaluation\\input_data\\VZV_Leading Pedestrian Interval Signals\\geo_export_0c63b43f-83c0-4834-aa91-2c564c1bff2c.shp\"\n",
    "df2 = gpd.read_file(fp)\n",
    "df2.head(3)"
   ]
  },
  {
   "cell_type": "code",
   "execution_count": 4,
   "metadata": {},
   "outputs": [
    {
     "data": {
      "text/plain": [
       "{'init': 'epsg:4326'}"
      ]
     },
     "execution_count": 4,
     "metadata": {},
     "output_type": "execute_result"
    }
   ],
   "source": [
    "#check crs\n",
    "df2.crs"
   ]
  },
  {
   "cell_type": "code",
   "execution_count": 5,
   "metadata": {},
   "outputs": [],
   "source": [
    "# Reproeject LPIS shapefile to EPSG 2263: NAD83 / New York Long Island (ftUS)\n",
    "df2 = df2.to_crs({'init': 'epsg:2263'})"
   ]
  },
  {
   "cell_type": "code",
   "execution_count": 6,
   "metadata": {},
   "outputs": [
    {
     "data": {
      "text/plain": [
       "{'init': 'epsg:2263'}"
      ]
     },
     "execution_count": 6,
     "metadata": {},
     "output_type": "execute_result"
    }
   ],
   "source": [
    "# Check that crs is 2263\n",
    "df2.crs"
   ]
  },
  {
   "cell_type": "code",
   "execution_count": 7,
   "metadata": {},
   "outputs": [
    {
     "data": {
      "text/html": [
       "<div>\n",
       "<style scoped>\n",
       "    .dataframe tbody tr th:only-of-type {\n",
       "        vertical-align: middle;\n",
       "    }\n",
       "\n",
       "    .dataframe tbody tr th {\n",
       "        vertical-align: top;\n",
       "    }\n",
       "\n",
       "    .dataframe thead th {\n",
       "        text-align: right;\n",
       "    }\n",
       "</style>\n",
       "<table border=\"1\" class=\"dataframe\">\n",
       "  <thead>\n",
       "    <tr style=\"text-align: right;\">\n",
       "      <th></th>\n",
       "      <th>cross_stre</th>\n",
       "      <th>date_insta</th>\n",
       "      <th>time_insta</th>\n",
       "      <th>lat</th>\n",
       "      <th>long</th>\n",
       "      <th>main_stree</th>\n",
       "      <th>geometry</th>\n",
       "      <th>LPIS_ID</th>\n",
       "    </tr>\n",
       "  </thead>\n",
       "  <tbody>\n",
       "    <tr>\n",
       "      <th>0</th>\n",
       "      <td>Dreiser loop East</td>\n",
       "      <td>2018-08-01</td>\n",
       "      <td>00:00:00.000</td>\n",
       "      <td>40.878465</td>\n",
       "      <td>-73.828273</td>\n",
       "      <td>Co-op City Blvd</td>\n",
       "      <td>POINT (1031739.000154228 259373.000004255)</td>\n",
       "      <td>0</td>\n",
       "    </tr>\n",
       "    <tr>\n",
       "      <th>1</th>\n",
       "      <td>West 119 St</td>\n",
       "      <td>2018-08-08</td>\n",
       "      <td>00:00:00.000</td>\n",
       "      <td>40.803958</td>\n",
       "      <td>-73.948271</td>\n",
       "      <td>Lenox Avenue</td>\n",
       "      <td>POINT (998570.9998893011 232184.9999184268)</td>\n",
       "      <td>1</td>\n",
       "    </tr>\n",
       "    <tr>\n",
       "      <th>2</th>\n",
       "      <td>West 120 St</td>\n",
       "      <td>2018-08-08</td>\n",
       "      <td>00:00:00.000</td>\n",
       "      <td>40.804587</td>\n",
       "      <td>-73.947812</td>\n",
       "      <td>Lenox Avenue</td>\n",
       "      <td>POINT (998697.9999633889 232414.0001165908)</td>\n",
       "      <td>2</td>\n",
       "    </tr>\n",
       "  </tbody>\n",
       "</table>\n",
       "</div>"
      ],
      "text/plain": [
       "          cross_stre  date_insta    time_insta        lat       long  \\\n",
       "0  Dreiser loop East  2018-08-01  00:00:00.000  40.878465 -73.828273   \n",
       "1        West 119 St  2018-08-08  00:00:00.000  40.803958 -73.948271   \n",
       "2        West 120 St  2018-08-08  00:00:00.000  40.804587 -73.947812   \n",
       "\n",
       "        main_stree                                     geometry  LPIS_ID  \n",
       "0  Co-op City Blvd   POINT (1031739.000154228 259373.000004255)        0  \n",
       "1     Lenox Avenue  POINT (998570.9998893011 232184.9999184268)        1  \n",
       "2     Lenox Avenue  POINT (998697.9999633889 232414.0001165908)        2  "
      ]
     },
     "execution_count": 7,
     "metadata": {},
     "output_type": "execute_result"
    }
   ],
   "source": [
    "# Create ID variable\n",
    "df2['LPIS_ID'] = df2.index\n",
    "df2.head(3)\n"
   ]
  },
  {
   "cell_type": "code",
   "execution_count": 9,
   "metadata": {},
   "outputs": [
    {
     "data": {
      "text/plain": [
       "['cross_stre', 'date_insta', 'time_insta', 'main_stree', 'geometry']"
      ]
     },
     "execution_count": 9,
     "metadata": {},
     "output_type": "execute_result"
    }
   ],
   "source": [
    "list(df2.select_dtypes(include=['object']).columns)"
   ]
  },
  {
   "cell_type": "code",
   "execution_count": 10,
   "metadata": {},
   "outputs": [
    {
     "data": {
      "text/plain": [
       "{'init': 'epsg:2263'}"
      ]
     },
     "execution_count": 10,
     "metadata": {},
     "output_type": "execute_result"
    }
   ],
   "source": [
    "df2.crs"
   ]
  },
  {
   "cell_type": "code",
   "execution_count": 11,
   "metadata": {},
   "outputs": [],
   "source": [
    "fp =  r\"C:\\Users\\jerem\\Box Sync\\Policy Evaluation\\input_data\\vz_lpis\\vz_lpis.shp\"\n",
    "df2.to_file(fp)"
   ]
  },
  {
   "cell_type": "code",
   "execution_count": 17,
   "metadata": {},
   "outputs": [],
   "source": [
    "# sf2 stata file\n",
    "sf2 = df2"
   ]
  },
  {
   "cell_type": "code",
   "execution_count": 18,
   "metadata": {},
   "outputs": [
    {
     "data": {
      "text/plain": [
       "['cross_stre', 'date_insta', 'time_insta', 'main_stree', 'geometry']"
      ]
     },
     "execution_count": 18,
     "metadata": {},
     "output_type": "execute_result"
    }
   ],
   "source": [
    "list(sf2.select_dtypes(include=['object']).columns)"
   ]
  },
  {
   "cell_type": "code",
   "execution_count": 19,
   "metadata": {},
   "outputs": [
    {
     "data": {
      "text/plain": [
       "Index(['cross_stre', 'date_insta', 'time_insta', 'lat', 'long', 'main_stree',\n",
       "       'geometry', 'LPIS_ID'],\n",
       "      dtype='object')"
      ]
     },
     "execution_count": 19,
     "metadata": {},
     "output_type": "execute_result"
    }
   ],
   "source": [
    "sf2.columns"
   ]
  },
  {
   "cell_type": "code",
   "execution_count": 20,
   "metadata": {},
   "outputs": [],
   "source": [
    "sf2['cross_stre'] = sf2['cross_stre'].astype(str)\n",
    "sf2['date_insta'] = sf2['date_insta'].astype(str)\n",
    "sf2['time_insta'] = sf2['time_insta'].astype(str)\n",
    "sf2['main_stree'] = sf2['main_stree'].astype(str)\n",
    "sf2['geometry'] = sf2['geometry'].astype(str)"
   ]
  },
  {
   "cell_type": "code",
   "execution_count": 21,
   "metadata": {},
   "outputs": [
    {
     "name": "stderr",
     "output_type": "stream",
     "text": [
      "C:\\Users\\jerem\\AppData\\Local\\conda\\conda\\envs\\geo\\lib\\site-packages\\pandas\\io\\stata.py:2138: InvalidColumnName: \n",
      "Not all pandas column names were valid Stata variable names.\n",
      "The following replacements have been made:\n",
      "\n",
      "    b'long'   ->   _long\n",
      "\n",
      "If this is not what you expect, please make sure you have Stata-compliant\n",
      "column names in your DataFrame (strings only, max 32 characters, only\n",
      "alphanumerics and underscores, no Stata reserved words)\n",
      "\n",
      "  warnings.warn(ws, InvalidColumnName)\n"
     ]
    }
   ],
   "source": [
    "fp =  r\"C:\\Users\\jerem\\Box Sync\\Policy Evaluation\\working_data\\VZV_LPIS_data.dta\"\n",
    "sf2.to_stata(fp)"
   ]
  }
 ],
 "metadata": {
  "kernelspec": {
   "display_name": "Python 3",
   "language": "python",
   "name": "python3"
  },
  "language_info": {
   "codemirror_mode": {
    "name": "ipython",
    "version": 3
   },
   "file_extension": ".py",
   "mimetype": "text/x-python",
   "name": "python",
   "nbconvert_exporter": "python",
   "pygments_lexer": "ipython3",
   "version": "3.6.8"
  }
 },
 "nbformat": 4,
 "nbformat_minor": 2
}
