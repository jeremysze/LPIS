{
 "cells": [
  {
   "cell_type": "code",
   "execution_count": 69,
   "metadata": {},
   "outputs": [],
   "source": [
    "import matplotlib.pyplot as plt\n",
    "import geopandas as gpd\n",
    "import pandas as pd\n",
    "import shapely as shy\n",
    "import osmnx as ox\n",
    "\n",
    "pd.options.display.max_rows = 4\n",
    "%matplotlib inline"
   ]
  },
  {
   "cell_type": "code",
   "execution_count": 70,
   "metadata": {},
   "outputs": [
    {
     "name": "stdout",
     "output_type": "stream",
     "text": [
      "D:\\Projects\\Policy Evaluation\\dofiles\n"
     ]
    }
   ],
   "source": [
    "cd D:\\Projects\\Policy Evaluation\\dofiles\\"
   ]
  },
  {
   "cell_type": "markdown",
   "metadata": {},
   "source": [
    "Go to LPIS shapefile folder"
   ]
  },
  {
   "cell_type": "code",
   "execution_count": 71,
   "metadata": {},
   "outputs": [],
   "source": [
    "fp =  \"..\\input_data\\leading_pedestrian_interval_signals_shapefile_2263\\leading_pedestrian_interval_signals_shapefile_2263.shp\"\n",
    "LPIS_data = gpd.read_file(fp)"
   ]
  },
  {
   "cell_type": "code",
   "execution_count": 72,
   "metadata": {},
   "outputs": [
    {
     "data": {
      "text/html": [
       "<div>\n",
       "<style scoped>\n",
       "    .dataframe tbody tr th:only-of-type {\n",
       "        vertical-align: middle;\n",
       "    }\n",
       "\n",
       "    .dataframe tbody tr th {\n",
       "        vertical-align: top;\n",
       "    }\n",
       "\n",
       "    .dataframe thead th {\n",
       "        text-align: right;\n",
       "    }\n",
       "</style>\n",
       "<table border=\"1\" class=\"dataframe\">\n",
       "  <thead>\n",
       "    <tr style=\"text-align: right;\">\n",
       "      <th></th>\n",
       "      <th>MainStreet</th>\n",
       "      <th>CrossStree</th>\n",
       "      <th>Install_Da</th>\n",
       "      <th>ID</th>\n",
       "      <th>geometry</th>\n",
       "    </tr>\n",
       "  </thead>\n",
       "  <tbody>\n",
       "    <tr>\n",
       "      <th>0</th>\n",
       "      <td>Vanderbilt Avenue</td>\n",
       "      <td>St Mark's Avenue</td>\n",
       "      <td>2018-01-08</td>\n",
       "      <td>1</td>\n",
       "      <td>POINT (992974.9999266018 186489.9997614889)</td>\n",
       "    </tr>\n",
       "    <tr>\n",
       "      <th>1</th>\n",
       "      <td>Guyon Avenue</td>\n",
       "      <td>So Railroad Avenue</td>\n",
       "      <td>2018-01-09</td>\n",
       "      <td>2</td>\n",
       "      <td>POINT (949031.9998856507 144943.9995205229)</td>\n",
       "    </tr>\n",
       "    <tr>\n",
       "      <th>2</th>\n",
       "      <td>Broadway</td>\n",
       "      <td>36 Street</td>\n",
       "      <td>2018-01-09</td>\n",
       "      <td>3</td>\n",
       "      <td>POINT (1006026.000071445 216210.9997024141)</td>\n",
       "    </tr>\n",
       "  </tbody>\n",
       "</table>\n",
       "</div>"
      ],
      "text/plain": [
       "          MainStreet          CrossStree  Install_Da  ID  \\\n",
       "0  Vanderbilt Avenue    St Mark's Avenue  2018-01-08   1   \n",
       "1       Guyon Avenue  So Railroad Avenue  2018-01-09   2   \n",
       "2           Broadway           36 Street  2018-01-09   3   \n",
       "\n",
       "                                      geometry  \n",
       "0  POINT (992974.9999266018 186489.9997614889)  \n",
       "1  POINT (949031.9998856507 144943.9995205229)  \n",
       "2  POINT (1006026.000071445 216210.9997024141)  "
      ]
     },
     "execution_count": 72,
     "metadata": {},
     "output_type": "execute_result"
    }
   ],
   "source": [
    "LPIS_data.head(3)"
   ]
  },
  {
   "cell_type": "code",
   "execution_count": null,
   "metadata": {},
   "outputs": [],
   "source": []
  },
  {
   "cell_type": "code",
   "execution_count": 73,
   "metadata": {},
   "outputs": [
    {
     "data": {
      "text/plain": [
       "<matplotlib.axes._subplots.AxesSubplot at 0x131d85bc208>"
      ]
     },
     "execution_count": 73,
     "metadata": {},
     "output_type": "execute_result"
    },
    {
     "data": {
      "image/png": "[encoded data removed]",
      "text/plain": [
       "<Figure size 432x288 with 1 Axes>"
      ]
     },
     "metadata": {},
     "output_type": "display_data"
    }
   ],
   "source": [
    "LPIS_data.plot()"
   ]
  },
  {
   "cell_type": "code",
   "execution_count": 74,
   "metadata": {},
   "outputs": [
    {
     "data": {
      "text/plain": [
       "{'proj': 'lcc',\n",
       " 'lat_1': 41.03333333333333,\n",
       " 'lat_2': 40.66666666666666,\n",
       " 'lat_0': 40.16666666666666,\n",
       " 'lon_0': -74,\n",
       " 'x_0': 300000.0000000001,\n",
       " 'y_0': 0,\n",
       " 'datum': 'NAD83',\n",
       " 'units': 'us-ft',\n",
       " 'no_defs': True}"
      ]
     },
     "execution_count": 74,
     "metadata": {},
     "output_type": "execute_result"
    }
   ],
   "source": [
    "LPIS_data.crs"
   ]
  },
  {
   "cell_type": "markdown",
   "metadata": {},
   "source": [
    "Go to intersection shapefile folder"
   ]
  },
  {
   "cell_type": "code",
   "execution_count": 75,
   "metadata": {},
   "outputs": [],
   "source": [
    "fp =  \"..\\input_data\\intersection_unique_shapefile_2263\\intersection_unique_shapefile_2263.shp\"\n",
    "intersection_data = gpd.read_file(fp)"
   ]
  },
  {
   "cell_type": "code",
   "execution_count": 76,
   "metadata": {
    "scrolled": false
   },
   "outputs": [
    {
     "data": {
      "text/html": [
       "<div>\n",
       "<style scoped>\n",
       "    .dataframe tbody tr th:only-of-type {\n",
       "        vertical-align: middle;\n",
       "    }\n",
       "\n",
       "    .dataframe tbody tr th {\n",
       "        vertical-align: top;\n",
       "    }\n",
       "\n",
       "    .dataframe thead th {\n",
       "        text-align: right;\n",
       "    }\n",
       "</style>\n",
       "<table border=\"1\" class=\"dataframe\">\n",
       "  <thead>\n",
       "    <tr style=\"text-align: right;\">\n",
       "      <th></th>\n",
       "      <th>fid</th>\n",
       "      <th>linearid</th>\n",
       "      <th>fullname</th>\n",
       "      <th>rttyp</th>\n",
       "      <th>mtfcc</th>\n",
       "      <th>linearid_2</th>\n",
       "      <th>fullname_2</th>\n",
       "      <th>rttyp_2</th>\n",
       "      <th>mtfcc_2</th>\n",
       "      <th>longitude</th>\n",
       "      <th>latitude</th>\n",
       "      <th>bcode</th>\n",
       "      <th>bname</th>\n",
       "      <th>name</th>\n",
       "      <th>namelsad</th>\n",
       "      <th>geometry</th>\n",
       "    </tr>\n",
       "  </thead>\n",
       "  <tbody>\n",
       "    <tr>\n",
       "      <th>0</th>\n",
       "      <td>1.0</td>\n",
       "      <td>1101042239898</td>\n",
       "      <td>Baldwin St</td>\n",
       "      <td>M</td>\n",
       "      <td>S1400</td>\n",
       "      <td>1101042288995</td>\n",
       "      <td>None</td>\n",
       "      <td>None</td>\n",
       "      <td>S1640</td>\n",
       "      <td>1025301.152</td>\n",
       "      <td>270701.9341</td>\n",
       "      <td>36005</td>\n",
       "      <td>Bronx</td>\n",
       "      <td>Bronx</td>\n",
       "      <td>Bronx County</td>\n",
       "      <td>POINT (1025301.15279018 270701.934121847)</td>\n",
       "    </tr>\n",
       "    <tr>\n",
       "      <th>1</th>\n",
       "      <td>2.0</td>\n",
       "      <td>1101042239898</td>\n",
       "      <td>Baldwin St</td>\n",
       "      <td>M</td>\n",
       "      <td>S1400</td>\n",
       "      <td>1102175695960</td>\n",
       "      <td>Bradley St</td>\n",
       "      <td>M</td>\n",
       "      <td>S1400</td>\n",
       "      <td>1025194.172</td>\n",
       "      <td>270543.9926</td>\n",
       "      <td>36005</td>\n",
       "      <td>Bronx</td>\n",
       "      <td>Bronx</td>\n",
       "      <td>Bronx County</td>\n",
       "      <td>POINT (1025194.172990974 270543.9926886206)</td>\n",
       "    </tr>\n",
       "    <tr>\n",
       "      <th>2</th>\n",
       "      <td>7.0</td>\n",
       "      <td>1101042288995</td>\n",
       "      <td>None</td>\n",
       "      <td>None</td>\n",
       "      <td>S1640</td>\n",
       "      <td>1103717136022</td>\n",
       "      <td>Baldwin St</td>\n",
       "      <td>M</td>\n",
       "      <td>S1400</td>\n",
       "      <td>1025251.612</td>\n",
       "      <td>270739.3774</td>\n",
       "      <td>36005</td>\n",
       "      <td>Bronx</td>\n",
       "      <td>Bronx</td>\n",
       "      <td>Bronx County</td>\n",
       "      <td>POINT (1025251.612085536 270739.3774560128)</td>\n",
       "    </tr>\n",
       "  </tbody>\n",
       "</table>\n",
       "</div>"
      ],
      "text/plain": [
       "   fid       linearid    fullname rttyp  mtfcc     linearid_2  fullname_2  \\\n",
       "0  1.0  1101042239898  Baldwin St     M  S1400  1101042288995        None   \n",
       "1  2.0  1101042239898  Baldwin St     M  S1400  1102175695960  Bradley St   \n",
       "2  7.0  1101042288995        None  None  S1640  1103717136022  Baldwin St   \n",
       "\n",
       "  rttyp_2 mtfcc_2    longitude     latitude  bcode  bname   name  \\\n",
       "0    None   S1640  1025301.152  270701.9341  36005  Bronx  Bronx   \n",
       "1       M   S1400  1025194.172  270543.9926  36005  Bronx  Bronx   \n",
       "2       M   S1400  1025251.612  270739.3774  36005  Bronx  Bronx   \n",
       "\n",
       "       namelsad                                     geometry  \n",
       "0  Bronx County    POINT (1025301.15279018 270701.934121847)  \n",
       "1  Bronx County  POINT (1025194.172990974 270543.9926886206)  \n",
       "2  Bronx County  POINT (1025251.612085536 270739.3774560128)  "
      ]
     },
     "execution_count": 76,
     "metadata": {},
     "output_type": "execute_result"
    }
   ],
   "source": [
    "intersection_data.head(3)"
   ]
  },
  {
   "cell_type": "code",
   "execution_count": 77,
   "metadata": {},
   "outputs": [
    {
     "data": {
      "text/plain": [
       "geopandas.geodataframe.GeoDataFrame"
      ]
     },
     "execution_count": 77,
     "metadata": {},
     "output_type": "execute_result"
    }
   ],
   "source": [
    "type(intersection_data)"
   ]
  },
  {
   "cell_type": "code",
   "execution_count": 78,
   "metadata": {},
   "outputs": [
    {
     "data": {
      "text/plain": [
       "{'proj': 'lcc',\n",
       " 'lat_1': 41.03333333333333,\n",
       " 'lat_2': 40.66666666666666,\n",
       " 'lat_0': 40.16666666666666,\n",
       " 'lon_0': -74,\n",
       " 'x_0': 300000.0000000001,\n",
       " 'y_0': 0,\n",
       " 'datum': 'NAD83',\n",
       " 'units': 'us-ft',\n",
       " 'no_defs': True}"
      ]
     },
     "execution_count": 78,
     "metadata": {},
     "output_type": "execute_result"
    }
   ],
   "source": [
    "intersection_data.crs"
   ]
  },
  {
   "cell_type": "code",
   "execution_count": 79,
   "metadata": {},
   "outputs": [
    {
     "data": {
      "text/plain": [
       "<matplotlib.axes._subplots.AxesSubplot at 0x131d85e52e8>"
      ]
     },
     "execution_count": 79,
     "metadata": {},
     "output_type": "execute_result"
    },
    {
     "data": {
      "image/png": "[encoded data removed]",
      "text/plain": [
       "<Figure size 432x288 with 1 Axes>"
      ]
     },
     "metadata": {},
     "output_type": "display_data"
    }
   ],
   "source": [
    "intersection_data.plot()"
   ]
  },
  {
   "cell_type": "markdown",
   "metadata": {},
   "source": [
    "Create unary union from Points, which basically creates a MultiPoint object from the Point geometries."
   ]
  },
  {
   "cell_type": "code",
   "execution_count": 86,
   "metadata": {},
   "outputs": [],
   "source": [
    "def nearest(row, geom_union, df1, df2, geom1_col='geometry', geom2_col='geometry', src_column=None):\n",
    "    \"\"\"Find the nearest point and return the corresponding value from specified column.\"\"\"\n",
    "    # Find the geometry that is closest\n",
    "    nearest = df2[geom2_col] == nearest_points(row[geom1_col], geom_union)[1]\n",
    "    # Get the corresponding value from df2 (matching is based on the geometry)\n",
    "    value = df2[nearest][src_column].get_values()[0]\n",
    "    return value"
   ]
  },
  {
   "cell_type": "code",
   "execution_count": 87,
   "metadata": {},
   "outputs": [],
   "source": [
    "intersection_unary_union = intersection_data.unary_union"
   ]
  },
  {
   "cell_type": "code",
   "execution_count": 88,
   "metadata": {},
   "outputs": [],
   "source": [
    "LPIS_unary_union = LPIS_data.unary_union"
   ]
  },
  {
   "cell_type": "code",
   "execution_count": 89,
   "metadata": {},
   "outputs": [],
   "source": [
    "intersection_data['nearest_id'] = intersection_data.apply(nearest, geom_union=LPIS_unary_union, df1=intersection_data, df2=LPIS_data, geom1_col='geometry',geom2_col='geometry', src_column='ID', axis=1)\n"
   ]
  },
  {
   "cell_type": "code",
   "execution_count": 90,
   "metadata": {},
   "outputs": [
    {
     "data": {
      "text/html": [
       "<div>\n",
       "<style scoped>\n",
       "    .dataframe tbody tr th:only-of-type {\n",
       "        vertical-align: middle;\n",
       "    }\n",
       "\n",
       "    .dataframe tbody tr th {\n",
       "        vertical-align: top;\n",
       "    }\n",
       "\n",
       "    .dataframe thead th {\n",
       "        text-align: right;\n",
       "    }\n",
       "</style>\n",
       "<table border=\"1\" class=\"dataframe\">\n",
       "  <thead>\n",
       "    <tr style=\"text-align: right;\">\n",
       "      <th></th>\n",
       "      <th>fid</th>\n",
       "      <th>linearid</th>\n",
       "      <th>fullname</th>\n",
       "      <th>rttyp</th>\n",
       "      <th>mtfcc</th>\n",
       "      <th>linearid_2</th>\n",
       "      <th>fullname_2</th>\n",
       "      <th>rttyp_2</th>\n",
       "      <th>mtfcc_2</th>\n",
       "      <th>longitude</th>\n",
       "      <th>latitude</th>\n",
       "      <th>bcode</th>\n",
       "      <th>bname</th>\n",
       "      <th>name</th>\n",
       "      <th>namelsad</th>\n",
       "      <th>geometry</th>\n",
       "      <th>nearest_id</th>\n",
       "    </tr>\n",
       "  </thead>\n",
       "  <tbody>\n",
       "    <tr>\n",
       "      <th>0</th>\n",
       "      <td>1.0</td>\n",
       "      <td>1101042239898</td>\n",
       "      <td>Baldwin St</td>\n",
       "      <td>M</td>\n",
       "      <td>S1400</td>\n",
       "      <td>1101042288995</td>\n",
       "      <td>None</td>\n",
       "      <td>None</td>\n",
       "      <td>S1640</td>\n",
       "      <td>1025301.152</td>\n",
       "      <td>270701.9341</td>\n",
       "      <td>36005</td>\n",
       "      <td>Bronx</td>\n",
       "      <td>Bronx</td>\n",
       "      <td>Bronx County</td>\n",
       "      <td>POINT (1025301.15279018 270701.934121847)</td>\n",
       "      <td>1767</td>\n",
       "    </tr>\n",
       "    <tr>\n",
       "      <th>1</th>\n",
       "      <td>2.0</td>\n",
       "      <td>1101042239898</td>\n",
       "      <td>Baldwin St</td>\n",
       "      <td>M</td>\n",
       "      <td>S1400</td>\n",
       "      <td>1102175695960</td>\n",
       "      <td>Bradley St</td>\n",
       "      <td>M</td>\n",
       "      <td>S1400</td>\n",
       "      <td>1025194.172</td>\n",
       "      <td>270543.9926</td>\n",
       "      <td>36005</td>\n",
       "      <td>Bronx</td>\n",
       "      <td>Bronx</td>\n",
       "      <td>Bronx County</td>\n",
       "      <td>POINT (1025194.172990974 270543.9926886206)</td>\n",
       "      <td>1767</td>\n",
       "    </tr>\n",
       "    <tr>\n",
       "      <th>2</th>\n",
       "      <td>7.0</td>\n",
       "      <td>1101042288995</td>\n",
       "      <td>None</td>\n",
       "      <td>None</td>\n",
       "      <td>S1640</td>\n",
       "      <td>1103717136022</td>\n",
       "      <td>Baldwin St</td>\n",
       "      <td>M</td>\n",
       "      <td>S1400</td>\n",
       "      <td>1025251.612</td>\n",
       "      <td>270739.3774</td>\n",
       "      <td>36005</td>\n",
       "      <td>Bronx</td>\n",
       "      <td>Bronx</td>\n",
       "      <td>Bronx County</td>\n",
       "      <td>POINT (1025251.612085536 270739.3774560128)</td>\n",
       "      <td>1767</td>\n",
       "    </tr>\n",
       "  </tbody>\n",
       "</table>\n",
       "</div>"
      ],
      "text/plain": [
       "   fid       linearid    fullname rttyp  mtfcc     linearid_2  fullname_2  \\\n",
       "0  1.0  1101042239898  Baldwin St     M  S1400  1101042288995        None   \n",
       "1  2.0  1101042239898  Baldwin St     M  S1400  1102175695960  Bradley St   \n",
       "2  7.0  1101042288995        None  None  S1640  1103717136022  Baldwin St   \n",
       "\n",
       "  rttyp_2 mtfcc_2    longitude     latitude  bcode  bname   name  \\\n",
       "0    None   S1640  1025301.152  270701.9341  36005  Bronx  Bronx   \n",
       "1       M   S1400  1025194.172  270543.9926  36005  Bronx  Bronx   \n",
       "2       M   S1400  1025251.612  270739.3774  36005  Bronx  Bronx   \n",
       "\n",
       "       namelsad                                     geometry  nearest_id  \n",
       "0  Bronx County    POINT (1025301.15279018 270701.934121847)        1767  \n",
       "1  Bronx County  POINT (1025194.172990974 270543.9926886206)        1767  \n",
       "2  Bronx County  POINT (1025251.612085536 270739.3774560128)        1767  "
      ]
     },
     "execution_count": 90,
     "metadata": {},
     "output_type": "execute_result"
    }
   ],
   "source": [
    "intersection_data.head(3)"
   ]
  },
  {
   "cell_type": "code",
   "execution_count": null,
   "metadata": {},
   "outputs": [],
   "source": []
  }
 ],
 "metadata": {
  "kernelspec": {
   "display_name": "Python 3",
   "language": "python",
   "name": "python3"
  },
  "language_info": {
   "codemirror_mode": {
    "name": "ipython",
    "version": 3
   },
   "file_extension": ".py",
   "mimetype": "text/x-python",
   "name": "python",
   "nbconvert_exporter": "python",
   "pygments_lexer": "ipython3",
   "version": "3.6.5"
  }
 },
 "nbformat": 4,
 "nbformat_minor": 2
}
