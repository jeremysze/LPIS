{
 "cells": [
  {
   "cell_type": "code",
   "execution_count": 1,
   "metadata": {},
   "outputs": [],
   "source": [
    "import matplotlib.pyplot as plt\n",
    "import geopandas as gpd\n",
    "import pandas as pd\n",
    "import shapely as shy\n",
    "import osmnx as ox\n",
    "from shapely.ops import nearest_points\n",
    "from shapely.geometry import Point, MultiPoint\n",
    "\n",
    "pd.options.display.max_rows = 4\n",
    "%matplotlib inline"
   ]
  },
  {
   "cell_type": "code",
   "execution_count": 2,
   "metadata": {},
   "outputs": [
    {
     "name": "stdout",
     "output_type": "stream",
     "text": [
      "D:\\Projects\\Policy Evaluation\\dofiles\n"
     ]
    }
   ],
   "source": [
    "cd D:\\Projects\\Policy Evaluation\\dofiles\\"
   ]
  },
  {
   "cell_type": "markdown",
   "metadata": {},
   "source": [
    "Go to Schools shapefile folder"
   ]
  },
  {
   "cell_type": "code",
   "execution_count": 4,
   "metadata": {},
   "outputs": [],
   "source": [
    "fp = r\"D:\\Projects\\Policy Evaluation\\input_data\\school_private_public_2263\\school_private_public_2263.shp\"\n",
    "df1 = gpd.read_file(fp)"
   ]
  },
  {
   "cell_type": "code",
   "execution_count": 5,
   "metadata": {},
   "outputs": [
    {
     "data": {
      "text/html": [
       "<div>\n",
       "<style scoped>\n",
       "    .dataframe tbody tr th:only-of-type {\n",
       "        vertical-align: middle;\n",
       "    }\n",
       "\n",
       "    .dataframe tbody tr th {\n",
       "        vertical-align: top;\n",
       "    }\n",
       "\n",
       "    .dataframe thead th {\n",
       "        text-align: right;\n",
       "    }\n",
       "</style>\n",
       "<table border=\"1\" class=\"dataframe\">\n",
       "  <thead>\n",
       "    <tr style=\"text-align: right;\">\n",
       "      <th></th>\n",
       "      <th>uid</th>\n",
       "      <th>idagency</th>\n",
       "      <th>facname</th>\n",
       "      <th>opname</th>\n",
       "      <th>address</th>\n",
       "      <th>city</th>\n",
       "      <th>zipcode</th>\n",
       "      <th>bcode</th>\n",
       "      <th>facsubgrp</th>\n",
       "      <th>factype</th>\n",
       "      <th>capacity</th>\n",
       "      <th>util</th>\n",
       "      <th>xcoord</th>\n",
       "      <th>ycoord</th>\n",
       "      <th>geometry</th>\n",
       "    </tr>\n",
       "  </thead>\n",
       "  <tbody>\n",
       "    <tr>\n",
       "      <th>0</th>\n",
       "      <td>192.0</td>\n",
       "      <td>321000145390</td>\n",
       "      <td>Our Lady Of Refuge School</td>\n",
       "      <td>Our Lady Of Refuge School</td>\n",
       "      <td>2708 Briggs Avenue</td>\n",
       "      <td>Bronx</td>\n",
       "      <td>10458</td>\n",
       "      <td>36005</td>\n",
       "      <td>Non-Public K-12 Schools</td>\n",
       "      <td>Elementary School - Non-public</td>\n",
       "      <td>NaN</td>\n",
       "      <td>267.0</td>\n",
       "      <td>1.014359e+06</td>\n",
       "      <td>254977.5176</td>\n",
       "      <td>POINT (1014358.6833 254977.5176)</td>\n",
       "    </tr>\n",
       "    <tr>\n",
       "      <th>1</th>\n",
       "      <td>294.0</td>\n",
       "      <td>332000226225</td>\n",
       "      <td>Yeshiva Toldos Yesuscher</td>\n",
       "      <td>Yeshiva Toldos Yesuscher</td>\n",
       "      <td>1531 63 Street</td>\n",
       "      <td>Brooklyn</td>\n",
       "      <td>11219</td>\n",
       "      <td>36047</td>\n",
       "      <td>Non-Public K-12 Schools</td>\n",
       "      <td>Elementary School - Non-public</td>\n",
       "      <td>NaN</td>\n",
       "      <td>74.0</td>\n",
       "      <td>9.857114e+05</td>\n",
       "      <td>166689.5140</td>\n",
       "      <td>POINT (985711.4182 166689.514)</td>\n",
       "    </tr>\n",
       "    <tr>\n",
       "      <th>2</th>\n",
       "      <td>2233.0</td>\n",
       "      <td>331400225670</td>\n",
       "      <td>Ohel Elozer</td>\n",
       "      <td>Ohel Elozer</td>\n",
       "      <td>263 Classon Ave-Ste 4b</td>\n",
       "      <td>Brooklyn</td>\n",
       "      <td>11205</td>\n",
       "      <td>36047</td>\n",
       "      <td>Non-Public K-12 Schools</td>\n",
       "      <td>High School - Non-public</td>\n",
       "      <td>NaN</td>\n",
       "      <td>161.0</td>\n",
       "      <td>9.951838e+05</td>\n",
       "      <td>191390.1394</td>\n",
       "      <td>POINT (995183.844 191390.1394)</td>\n",
       "    </tr>\n",
       "  </tbody>\n",
       "</table>\n",
       "</div>"
      ],
      "text/plain": [
       "      uid      idagency                    facname                     opname  \\\n",
       "0   192.0  321000145390  Our Lady Of Refuge School  Our Lady Of Refuge School   \n",
       "1   294.0  332000226225   Yeshiva Toldos Yesuscher   Yeshiva Toldos Yesuscher   \n",
       "2  2233.0  331400225670                Ohel Elozer                Ohel Elozer   \n",
       "\n",
       "                  address      city zipcode  bcode                facsubgrp  \\\n",
       "0      2708 Briggs Avenue     Bronx   10458  36005  Non-Public K-12 Schools   \n",
       "1          1531 63 Street  Brooklyn   11219  36047  Non-Public K-12 Schools   \n",
       "2  263 Classon Ave-Ste 4b  Brooklyn   11205  36047  Non-Public K-12 Schools   \n",
       "\n",
       "                          factype  capacity   util        xcoord       ycoord  \\\n",
       "0  Elementary School - Non-public       NaN  267.0  1.014359e+06  254977.5176   \n",
       "1  Elementary School - Non-public       NaN   74.0  9.857114e+05  166689.5140   \n",
       "2        High School - Non-public       NaN  161.0  9.951838e+05  191390.1394   \n",
       "\n",
       "                           geometry  \n",
       "0  POINT (1014358.6833 254977.5176)  \n",
       "1    POINT (985711.4182 166689.514)  \n",
       "2    POINT (995183.844 191390.1394)  "
      ]
     },
     "execution_count": 5,
     "metadata": {},
     "output_type": "execute_result"
    }
   ],
   "source": [
    "df1.head(3)"
   ]
  },
  {
   "cell_type": "code",
   "execution_count": 6,
   "metadata": {},
   "outputs": [
    {
     "data": {
      "text/plain": [
       "<matplotlib.axes._subplots.AxesSubplot at 0x142c3a01320>"
      ]
     },
     "execution_count": 6,
     "metadata": {},
     "output_type": "execute_result"
    },
    {
     "data": {
      "image/png": "[encoded data removed]",
      "text/plain": [
       "<Figure size 432x288 with 1 Axes>"
      ]
     },
     "metadata": {},
     "output_type": "display_data"
    }
   ],
   "source": [
    "df1.plot()"
   ]
  },
  {
   "cell_type": "code",
   "execution_count": 7,
   "metadata": {},
   "outputs": [
    {
     "data": {
      "text/plain": [
       "{'proj': 'lcc',\n",
       " 'lat_1': 41.03333333333333,\n",
       " 'lat_2': 40.66666666666666,\n",
       " 'lat_0': 40.16666666666666,\n",
       " 'lon_0': -74,\n",
       " 'x_0': 300000.0000000001,\n",
       " 'y_0': 0,\n",
       " 'datum': 'NAD83',\n",
       " 'units': 'us-ft',\n",
       " 'no_defs': True}"
      ]
     },
     "execution_count": 7,
     "metadata": {},
     "output_type": "execute_result"
    }
   ],
   "source": [
    "df1.crs"
   ]
  },
  {
   "cell_type": "markdown",
   "metadata": {},
   "source": [
    "Go to intersection shapefile folder"
   ]
  },
  {
   "cell_type": "code",
   "execution_count": 8,
   "metadata": {},
   "outputs": [],
   "source": [
    "fp =  r\"D:\\Projects\\Policy Evaluation\\input_data\\intersection_unique_shapefile_2263\\intersection_unique_shapefile_2263.shp\"\n",
    "df2 = gpd.read_file(fp)"
   ]
  },
  {
   "cell_type": "code",
   "execution_count": 9,
   "metadata": {
    "scrolled": false
   },
   "outputs": [
    {
     "data": {
      "text/html": [
       "<div>\n",
       "<style scoped>\n",
       "    .dataframe tbody tr th:only-of-type {\n",
       "        vertical-align: middle;\n",
       "    }\n",
       "\n",
       "    .dataframe tbody tr th {\n",
       "        vertical-align: top;\n",
       "    }\n",
       "\n",
       "    .dataframe thead th {\n",
       "        text-align: right;\n",
       "    }\n",
       "</style>\n",
       "<table border=\"1\" class=\"dataframe\">\n",
       "  <thead>\n",
       "    <tr style=\"text-align: right;\">\n",
       "      <th></th>\n",
       "      <th>fid</th>\n",
       "      <th>linearid</th>\n",
       "      <th>fullname</th>\n",
       "      <th>rttyp</th>\n",
       "      <th>mtfcc</th>\n",
       "      <th>linearid_2</th>\n",
       "      <th>fullname_2</th>\n",
       "      <th>rttyp_2</th>\n",
       "      <th>mtfcc_2</th>\n",
       "      <th>longitude</th>\n",
       "      <th>latitude</th>\n",
       "      <th>bcode</th>\n",
       "      <th>bname</th>\n",
       "      <th>name</th>\n",
       "      <th>namelsad</th>\n",
       "      <th>geometry</th>\n",
       "    </tr>\n",
       "  </thead>\n",
       "  <tbody>\n",
       "    <tr>\n",
       "      <th>0</th>\n",
       "      <td>1.0</td>\n",
       "      <td>1101042239898</td>\n",
       "      <td>Baldwin St</td>\n",
       "      <td>M</td>\n",
       "      <td>S1400</td>\n",
       "      <td>1101042288995</td>\n",
       "      <td>None</td>\n",
       "      <td>None</td>\n",
       "      <td>S1640</td>\n",
       "      <td>1025301.152</td>\n",
       "      <td>270701.9341</td>\n",
       "      <td>36005</td>\n",
       "      <td>Bronx</td>\n",
       "      <td>Bronx</td>\n",
       "      <td>Bronx County</td>\n",
       "      <td>POINT (1025301.15279018 270701.934121847)</td>\n",
       "    </tr>\n",
       "    <tr>\n",
       "      <th>1</th>\n",
       "      <td>2.0</td>\n",
       "      <td>1101042239898</td>\n",
       "      <td>Baldwin St</td>\n",
       "      <td>M</td>\n",
       "      <td>S1400</td>\n",
       "      <td>1102175695960</td>\n",
       "      <td>Bradley St</td>\n",
       "      <td>M</td>\n",
       "      <td>S1400</td>\n",
       "      <td>1025194.172</td>\n",
       "      <td>270543.9926</td>\n",
       "      <td>36005</td>\n",
       "      <td>Bronx</td>\n",
       "      <td>Bronx</td>\n",
       "      <td>Bronx County</td>\n",
       "      <td>POINT (1025194.172990974 270543.9926886206)</td>\n",
       "    </tr>\n",
       "    <tr>\n",
       "      <th>2</th>\n",
       "      <td>7.0</td>\n",
       "      <td>1101042288995</td>\n",
       "      <td>None</td>\n",
       "      <td>None</td>\n",
       "      <td>S1640</td>\n",
       "      <td>1103717136022</td>\n",
       "      <td>Baldwin St</td>\n",
       "      <td>M</td>\n",
       "      <td>S1400</td>\n",
       "      <td>1025251.612</td>\n",
       "      <td>270739.3774</td>\n",
       "      <td>36005</td>\n",
       "      <td>Bronx</td>\n",
       "      <td>Bronx</td>\n",
       "      <td>Bronx County</td>\n",
       "      <td>POINT (1025251.612085536 270739.3774560128)</td>\n",
       "    </tr>\n",
       "  </tbody>\n",
       "</table>\n",
       "</div>"
      ],
      "text/plain": [
       "   fid       linearid    fullname rttyp  mtfcc     linearid_2  fullname_2  \\\n",
       "0  1.0  1101042239898  Baldwin St     M  S1400  1101042288995        None   \n",
       "1  2.0  1101042239898  Baldwin St     M  S1400  1102175695960  Bradley St   \n",
       "2  7.0  1101042288995        None  None  S1640  1103717136022  Baldwin St   \n",
       "\n",
       "  rttyp_2 mtfcc_2    longitude     latitude  bcode  bname   name  \\\n",
       "0    None   S1640  1025301.152  270701.9341  36005  Bronx  Bronx   \n",
       "1       M   S1400  1025194.172  270543.9926  36005  Bronx  Bronx   \n",
       "2       M   S1400  1025251.612  270739.3774  36005  Bronx  Bronx   \n",
       "\n",
       "       namelsad                                     geometry  \n",
       "0  Bronx County    POINT (1025301.15279018 270701.934121847)  \n",
       "1  Bronx County  POINT (1025194.172990974 270543.9926886206)  \n",
       "2  Bronx County  POINT (1025251.612085536 270739.3774560128)  "
      ]
     },
     "execution_count": 9,
     "metadata": {},
     "output_type": "execute_result"
    }
   ],
   "source": [
    "df2.head(3)"
   ]
  },
  {
   "cell_type": "code",
   "execution_count": 10,
   "metadata": {},
   "outputs": [
    {
     "data": {
      "text/plain": [
       "geopandas.geodataframe.GeoDataFrame"
      ]
     },
     "execution_count": 10,
     "metadata": {},
     "output_type": "execute_result"
    }
   ],
   "source": [
    "type(df2)"
   ]
  },
  {
   "cell_type": "code",
   "execution_count": 11,
   "metadata": {},
   "outputs": [
    {
     "data": {
      "text/plain": [
       "{'proj': 'lcc',\n",
       " 'lat_1': 41.03333333333333,\n",
       " 'lat_2': 40.66666666666666,\n",
       " 'lat_0': 40.16666666666666,\n",
       " 'lon_0': -74,\n",
       " 'x_0': 300000.0000000001,\n",
       " 'y_0': 0,\n",
       " 'datum': 'NAD83',\n",
       " 'units': 'us-ft',\n",
       " 'no_defs': True}"
      ]
     },
     "execution_count": 11,
     "metadata": {},
     "output_type": "execute_result"
    }
   ],
   "source": [
    "df2.crs"
   ]
  },
  {
   "cell_type": "code",
   "execution_count": 12,
   "metadata": {},
   "outputs": [
    {
     "data": {
      "text/plain": [
       "<matplotlib.axes._subplots.AxesSubplot at 0x142c3a242b0>"
      ]
     },
     "execution_count": 12,
     "metadata": {},
     "output_type": "execute_result"
    },
    {
     "data": {
      "image/png": "[encoded data removed]",
      "text/plain": [
       "<Figure size 432x288 with 1 Axes>"
      ]
     },
     "metadata": {},
     "output_type": "display_data"
    }
   ],
   "source": [
    "df2.plot()"
   ]
  },
  {
   "cell_type": "markdown",
   "metadata": {},
   "source": [
    "The following function was copied from https://automating-gis-processes.github.io/2017/lessons/L3/nearest-neighbour.html "
   ]
  },
  {
   "cell_type": "markdown",
   "metadata": {},
   "source": [
    "Create unary union from Points, which basically creates a MultiPoint object from the Point geometries."
   ]
  },
  {
   "cell_type": "markdown",
   "metadata": {},
   "source": [
    "def nearest(row, geom_union, df1, df2, geom1_col='geometry', geom2_col='geometry', src_column=None):\n",
    "    \"\"\"Find the nearest point and return the corresponding value from specified column.\"\"\"\n",
    "    # Find the geometry that is closest\n",
    "    nearest = df2[geom2_col] == nearest_points(row[geom1_col], geom_union)[1]\n",
    "    # Get the corresponding value from df2 (matching is based on the geometry)\n",
    "    value = df2[nearest][src_column].get_values()[0]\n",
    "    return value"
   ]
  },
  {
   "cell_type": "markdown",
   "metadata": {},
   "source": [
    "intersection_unary_union = intersection_data.unary_union"
   ]
  },
  {
   "cell_type": "markdown",
   "metadata": {},
   "source": [
    "LPIS_unary_union = LPIS_data.unary_union"
   ]
  },
  {
   "cell_type": "markdown",
   "metadata": {},
   "source": [
    "intersection_data['nearest_id'] = intersection_data.apply(nearest, geom_union=LPIS_unary_union, df1=intersection_data, df2=LPIS_data, geom1_col='geometry',geom2_col='geometry', src_column='ID', axis=1)"
   ]
  },
  {
   "cell_type": "markdown",
   "metadata": {},
   "source": [
    "intersection_data.head(3)"
   ]
  },
  {
   "cell_type": "markdown",
   "metadata": {},
   "source": [
    "The function below is from Prof. Conning"
   ]
  },
  {
   "cell_type": "code",
   "execution_count": 13,
   "metadata": {},
   "outputs": [],
   "source": [
    "def closest(point, gdf, idcol):\n",
    "    howfar = gdf.geometry.distance(point)\n",
    "    ix = howfar.idxmin()\n",
    "    id = gdf.loc[howfar.idxmin(), idcol]\n",
    "    \n",
    "    return  id, howfar[ix].astype('int')"
   ]
  },
  {
   "cell_type": "code",
   "execution_count": 14,
   "metadata": {},
   "outputs": [],
   "source": [
    "mdistances = df2.geometry.apply(lambda x: closest(x, df1, 'uid'))\n",
    "df2[['nearest_ID','distance_ID']] = mdistances.apply(pd.Series)"
   ]
  },
  {
   "cell_type": "code",
   "execution_count": 15,
   "metadata": {},
   "outputs": [
    {
     "data": {
      "text/html": [
       "<div>\n",
       "<style scoped>\n",
       "    .dataframe tbody tr th:only-of-type {\n",
       "        vertical-align: middle;\n",
       "    }\n",
       "\n",
       "    .dataframe tbody tr th {\n",
       "        vertical-align: top;\n",
       "    }\n",
       "\n",
       "    .dataframe thead th {\n",
       "        text-align: right;\n",
       "    }\n",
       "</style>\n",
       "<table border=\"1\" class=\"dataframe\">\n",
       "  <thead>\n",
       "    <tr style=\"text-align: right;\">\n",
       "      <th></th>\n",
       "      <th>fid</th>\n",
       "      <th>linearid</th>\n",
       "      <th>fullname</th>\n",
       "      <th>rttyp</th>\n",
       "      <th>mtfcc</th>\n",
       "      <th>linearid_2</th>\n",
       "      <th>fullname_2</th>\n",
       "      <th>rttyp_2</th>\n",
       "      <th>mtfcc_2</th>\n",
       "      <th>longitude</th>\n",
       "      <th>latitude</th>\n",
       "      <th>bcode</th>\n",
       "      <th>bname</th>\n",
       "      <th>name</th>\n",
       "      <th>namelsad</th>\n",
       "      <th>geometry</th>\n",
       "      <th>nearest_ID</th>\n",
       "      <th>distance_ID</th>\n",
       "    </tr>\n",
       "  </thead>\n",
       "  <tbody>\n",
       "    <tr>\n",
       "      <th>0</th>\n",
       "      <td>1.0</td>\n",
       "      <td>1101042239898</td>\n",
       "      <td>Baldwin St</td>\n",
       "      <td>M</td>\n",
       "      <td>S1400</td>\n",
       "      <td>1101042288995</td>\n",
       "      <td>None</td>\n",
       "      <td>None</td>\n",
       "      <td>S1640</td>\n",
       "      <td>1025301.152</td>\n",
       "      <td>270701.9341</td>\n",
       "      <td>36005</td>\n",
       "      <td>Bronx</td>\n",
       "      <td>Bronx</td>\n",
       "      <td>Bronx County</td>\n",
       "      <td>POINT (1025301.15279018 270701.934121847)</td>\n",
       "      <td>19665.0</td>\n",
       "      <td>2778.0</td>\n",
       "    </tr>\n",
       "    <tr>\n",
       "      <th>1</th>\n",
       "      <td>2.0</td>\n",
       "      <td>1101042239898</td>\n",
       "      <td>Baldwin St</td>\n",
       "      <td>M</td>\n",
       "      <td>S1400</td>\n",
       "      <td>1102175695960</td>\n",
       "      <td>Bradley St</td>\n",
       "      <td>M</td>\n",
       "      <td>S1400</td>\n",
       "      <td>1025194.172</td>\n",
       "      <td>270543.9926</td>\n",
       "      <td>36005</td>\n",
       "      <td>Bronx</td>\n",
       "      <td>Bronx</td>\n",
       "      <td>Bronx County</td>\n",
       "      <td>POINT (1025194.172990974 270543.9926886206)</td>\n",
       "      <td>19665.0</td>\n",
       "      <td>2596.0</td>\n",
       "    </tr>\n",
       "    <tr>\n",
       "      <th>2</th>\n",
       "      <td>7.0</td>\n",
       "      <td>1101042288995</td>\n",
       "      <td>None</td>\n",
       "      <td>None</td>\n",
       "      <td>S1640</td>\n",
       "      <td>1103717136022</td>\n",
       "      <td>Baldwin St</td>\n",
       "      <td>M</td>\n",
       "      <td>S1400</td>\n",
       "      <td>1025251.612</td>\n",
       "      <td>270739.3774</td>\n",
       "      <td>36005</td>\n",
       "      <td>Bronx</td>\n",
       "      <td>Bronx</td>\n",
       "      <td>Bronx County</td>\n",
       "      <td>POINT (1025251.612085536 270739.3774560128)</td>\n",
       "      <td>19665.0</td>\n",
       "      <td>2800.0</td>\n",
       "    </tr>\n",
       "  </tbody>\n",
       "</table>\n",
       "</div>"
      ],
      "text/plain": [
       "   fid       linearid    fullname rttyp  mtfcc     linearid_2  fullname_2  \\\n",
       "0  1.0  1101042239898  Baldwin St     M  S1400  1101042288995        None   \n",
       "1  2.0  1101042239898  Baldwin St     M  S1400  1102175695960  Bradley St   \n",
       "2  7.0  1101042288995        None  None  S1640  1103717136022  Baldwin St   \n",
       "\n",
       "  rttyp_2 mtfcc_2    longitude     latitude  bcode  bname   name  \\\n",
       "0    None   S1640  1025301.152  270701.9341  36005  Bronx  Bronx   \n",
       "1       M   S1400  1025194.172  270543.9926  36005  Bronx  Bronx   \n",
       "2       M   S1400  1025251.612  270739.3774  36005  Bronx  Bronx   \n",
       "\n",
       "       namelsad                                     geometry  nearest_ID  \\\n",
       "0  Bronx County    POINT (1025301.15279018 270701.934121847)     19665.0   \n",
       "1  Bronx County  POINT (1025194.172990974 270543.9926886206)     19665.0   \n",
       "2  Bronx County  POINT (1025251.612085536 270739.3774560128)     19665.0   \n",
       "\n",
       "   distance_ID  \n",
       "0       2778.0  \n",
       "1       2596.0  \n",
       "2       2800.0  "
      ]
     },
     "execution_count": 15,
     "metadata": {},
     "output_type": "execute_result"
    }
   ],
   "source": [
    "df2.head(3)"
   ]
  },
  {
   "cell_type": "code",
   "execution_count": 16,
   "metadata": {},
   "outputs": [
    {
     "data": {
      "text/plain": [
       "Index(['fid', 'linearid', 'fullname', 'rttyp', 'mtfcc', 'linearid_2',\n",
       "       'fullname_2', 'rttyp_2', 'mtfcc_2', 'longitude', 'latitude', 'bcode',\n",
       "       'bname', 'name', 'namelsad', 'geometry', 'nearest_ID', 'distance_ID'],\n",
       "      dtype='object')"
      ]
     },
     "execution_count": 16,
     "metadata": {},
     "output_type": "execute_result"
    }
   ],
   "source": [
    "df2.columns\n"
   ]
  },
  {
   "cell_type": "code",
   "execution_count": 17,
   "metadata": {},
   "outputs": [],
   "source": [
    "save_out = df2[['fid','nearest_ID','distance_ID' ]]"
   ]
  },
  {
   "cell_type": "code",
   "execution_count": 20,
   "metadata": {},
   "outputs": [
    {
     "data": {
      "text/html": [
       "<div>\n",
       "<style scoped>\n",
       "    .dataframe tbody tr th:only-of-type {\n",
       "        vertical-align: middle;\n",
       "    }\n",
       "\n",
       "    .dataframe tbody tr th {\n",
       "        vertical-align: top;\n",
       "    }\n",
       "\n",
       "    .dataframe thead th {\n",
       "        text-align: right;\n",
       "    }\n",
       "</style>\n",
       "<table border=\"1\" class=\"dataframe\">\n",
       "  <thead>\n",
       "    <tr style=\"text-align: right;\">\n",
       "      <th></th>\n",
       "      <th>fid</th>\n",
       "      <th>nearest_ID</th>\n",
       "      <th>distance_ID</th>\n",
       "    </tr>\n",
       "  </thead>\n",
       "  <tbody>\n",
       "    <tr>\n",
       "      <th>0</th>\n",
       "      <td>1.0</td>\n",
       "      <td>19665.0</td>\n",
       "      <td>2778.0</td>\n",
       "    </tr>\n",
       "    <tr>\n",
       "      <th>1</th>\n",
       "      <td>2.0</td>\n",
       "      <td>19665.0</td>\n",
       "      <td>2596.0</td>\n",
       "    </tr>\n",
       "    <tr>\n",
       "      <th>2</th>\n",
       "      <td>7.0</td>\n",
       "      <td>19665.0</td>\n",
       "      <td>2800.0</td>\n",
       "    </tr>\n",
       "  </tbody>\n",
       "</table>\n",
       "</div>"
      ],
      "text/plain": [
       "   fid  nearest_ID  distance_ID\n",
       "0  1.0     19665.0       2778.0\n",
       "1  2.0     19665.0       2596.0\n",
       "2  7.0     19665.0       2800.0"
      ]
     },
     "execution_count": 20,
     "metadata": {},
     "output_type": "execute_result"
    }
   ],
   "source": [
    "save_out.head(3)"
   ]
  },
  {
   "cell_type": "code",
   "execution_count": 21,
   "metadata": {},
   "outputs": [
    {
     "data": {
      "text/plain": [
       "pandas.core.frame.DataFrame"
      ]
     },
     "execution_count": 21,
     "metadata": {},
     "output_type": "execute_result"
    }
   ],
   "source": [
    "type(save_out)"
   ]
  },
  {
   "cell_type": "code",
   "execution_count": 23,
   "metadata": {},
   "outputs": [],
   "source": [
    "fp =  r\"D:\\Projects\\Policy Evaluation\\working_data\\intersection_to_school.dta\"\n",
    "save_out.to_stata(fp)"
   ]
  },
  {
   "cell_type": "code",
   "execution_count": null,
   "metadata": {},
   "outputs": [],
   "source": []
  }
 ],
 "metadata": {
  "kernelspec": {
   "display_name": "Python 3",
   "language": "python",
   "name": "python3"
  },
  "language_info": {
   "codemirror_mode": {
    "name": "ipython",
    "version": 3
   },
   "file_extension": ".py",
   "mimetype": "text/x-python",
   "name": "python",
   "nbconvert_exporter": "python",
   "pygments_lexer": "ipython3",
   "version": "3.6.5"
  }
 },
 "nbformat": 4,
 "nbformat_minor": 2
}
