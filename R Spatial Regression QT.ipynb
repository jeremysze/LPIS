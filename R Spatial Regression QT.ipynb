{
 "cells": [
  {
   "cell_type": "code",
   "execution_count": 1,
   "metadata": {},
   "outputs": [
    {
     "data": {
      "text/html": [
       "'C:/Program Files/R/R-3.5.1/library'"
      ],
      "text/latex": [
       "'C:/Program Files/R/R-3.5.1/library'"
      ],
      "text/markdown": [
       "'C:/Program Files/R/R-3.5.1/library'"
      ],
      "text/plain": [
       "[1] \"C:/Program Files/R/R-3.5.1/library\""
      ]
     },
     "metadata": {},
     "output_type": "display_data"
    }
   ],
   "source": [
    ".libPaths()"
   ]
  },
  {
   "cell_type": "code",
   "execution_count": 1,
   "metadata": {},
   "outputs": [],
   "source": [
    "pacman::p_load(rgdal, plm, splm, spdep, dplyr, zoo)"
   ]
  },
  {
   "cell_type": "code",
   "execution_count": 2,
   "metadata": {},
   "outputs": [],
   "source": [
    "#Filepaths\n",
    "work <- \"D:\"\n",
    "laptop <- \"C:\\\\Users\\\\jerem\"\n",
    "origin = laptop"
   ]
  },
  {
   "cell_type": "code",
   "execution_count": 34,
   "metadata": {},
   "outputs": [
    {
     "name": "stdout",
     "output_type": "stream",
     "text": [
      "OGR data source with driver: ESRI Shapefile \n",
      "Source: \"D:\\Box Sync\\Policy Evaluation\\working_data\\analytical_panel_shapefile\\analytical_panel_qt_shapefile_thiessen_polygons_clipped_manhattan.shp\", layer: \"analytical_panel_qt_shapefile_thiessen_polygons_clipped_manhattan\"\n",
      "with 68400 features\n",
      "It has 31 fields\n"
     ]
    }
   ],
   "source": [
    "# Input shapefile\n",
    "myshp  <-readOGR(dsn=\"D:\\\\Box Sync\\\\Policy Evaluation\\\\working_data\\\\analytical_panel_shapefile\\\\analytical_panel_qt_shapefile_thiessen_polygons_clipped_manhattan.shp\",layer=\"analytical_panel_qt_shapefile_thiessen_polygons_clipped_manhattan\")\n"
   ]
  },
  {
   "cell_type": "code",
   "execution_count": 35,
   "metadata": {},
   "outputs": [
    {
     "data": {
      "text/html": [
       "<ol class=list-inline>\n",
       "\t<li>'collision_'</li>\n",
       "\t<li>'personsinj'</li>\n",
       "\t<li>'pedestrian'</li>\n",
       "\t<li>'cyclistinj'</li>\n",
       "\t<li>'motoristin'</li>\n",
       "\t<li>'bronx'</li>\n",
       "\t<li>'brooklyn'</li>\n",
       "\t<li>'manhattan'</li>\n",
       "\t<li>'queens'</li>\n",
       "\t<li>'statenisla'</li>\n",
       "\t<li>'distance_t'</li>\n",
       "\t<li>'distance_1'</li>\n",
       "\t<li>'distance_2'</li>\n",
       "\t<li>'distance_3'</li>\n",
       "\t<li>'distance_4'</li>\n",
       "\t<li>'distance_5'</li>\n",
       "\t<li>'flag_left_'</li>\n",
       "\t<li>'flag_lef_1'</li>\n",
       "\t<li>'flag_LPIS_'</li>\n",
       "\t<li>'flag_LPIS'</li>\n",
       "\t<li>'bike_route'</li>\n",
       "\t<li>'bike_rou_1'</li>\n",
       "\t<li>'flag_senio'</li>\n",
       "\t<li>'flag_prior'</li>\n",
       "\t<li>'flag_schoo'</li>\n",
       "\t<li>'flag_stree'</li>\n",
       "\t<li>'quarter'</li>\n",
       "\t<li>'year'</li>\n",
       "\t<li>'intersecti'</li>\n",
       "\t<li>'y'</li>\n",
       "\t<li>'x'</li>\n",
       "</ol>\n"
      ],
      "text/latex": [
       "\\begin{enumerate*}\n",
       "\\item 'collision\\_'\n",
       "\\item 'personsinj'\n",
       "\\item 'pedestrian'\n",
       "\\item 'cyclistinj'\n",
       "\\item 'motoristin'\n",
       "\\item 'bronx'\n",
       "\\item 'brooklyn'\n",
       "\\item 'manhattan'\n",
       "\\item 'queens'\n",
       "\\item 'statenisla'\n",
       "\\item 'distance\\_t'\n",
       "\\item 'distance\\_1'\n",
       "\\item 'distance\\_2'\n",
       "\\item 'distance\\_3'\n",
       "\\item 'distance\\_4'\n",
       "\\item 'distance\\_5'\n",
       "\\item 'flag\\_left\\_'\n",
       "\\item 'flag\\_lef\\_1'\n",
       "\\item 'flag\\_LPIS\\_'\n",
       "\\item 'flag\\_LPIS'\n",
       "\\item 'bike\\_route'\n",
       "\\item 'bike\\_rou\\_1'\n",
       "\\item 'flag\\_senio'\n",
       "\\item 'flag\\_prior'\n",
       "\\item 'flag\\_schoo'\n",
       "\\item 'flag\\_stree'\n",
       "\\item 'quarter'\n",
       "\\item 'year'\n",
       "\\item 'intersecti'\n",
       "\\item 'y'\n",
       "\\item 'x'\n",
       "\\end{enumerate*}\n"
      ],
      "text/markdown": [
       "1. 'collision_'\n",
       "2. 'personsinj'\n",
       "3. 'pedestrian'\n",
       "4. 'cyclistinj'\n",
       "5. 'motoristin'\n",
       "6. 'bronx'\n",
       "7. 'brooklyn'\n",
       "8. 'manhattan'\n",
       "9. 'queens'\n",
       "10. 'statenisla'\n",
       "11. 'distance_t'\n",
       "12. 'distance_1'\n",
       "13. 'distance_2'\n",
       "14. 'distance_3'\n",
       "15. 'distance_4'\n",
       "16. 'distance_5'\n",
       "17. 'flag_left_'\n",
       "18. 'flag_lef_1'\n",
       "19. 'flag_LPIS_'\n",
       "20. 'flag_LPIS'\n",
       "21. 'bike_route'\n",
       "22. 'bike_rou_1'\n",
       "23. 'flag_senio'\n",
       "24. 'flag_prior'\n",
       "25. 'flag_schoo'\n",
       "26. 'flag_stree'\n",
       "27. 'quarter'\n",
       "28. 'year'\n",
       "29. 'intersecti'\n",
       "30. 'y'\n",
       "31. 'x'\n",
       "\n",
       "\n"
      ],
      "text/plain": [
       " [1] \"collision_\" \"personsinj\" \"pedestrian\" \"cyclistinj\" \"motoristin\"\n",
       " [6] \"bronx\"      \"brooklyn\"   \"manhattan\"  \"queens\"     \"statenisla\"\n",
       "[11] \"distance_t\" \"distance_1\" \"distance_2\" \"distance_3\" \"distance_4\"\n",
       "[16] \"distance_5\" \"flag_left_\" \"flag_lef_1\" \"flag_LPIS_\" \"flag_LPIS\" \n",
       "[21] \"bike_route\" \"bike_rou_1\" \"flag_senio\" \"flag_prior\" \"flag_schoo\"\n",
       "[26] \"flag_stree\" \"quarter\"    \"year\"       \"intersecti\" \"y\"         \n",
       "[31] \"x\"         "
      ]
     },
     "metadata": {},
     "output_type": "display_data"
    }
   ],
   "source": [
    "names(myshp)"
   ]
  },
  {
   "cell_type": "code",
   "execution_count": 36,
   "metadata": {},
   "outputs": [
    {
     "data": {
      "text/plain": [
       "Object of class SpatialPolygonsDataFrame\n",
       "Coordinates:\n",
       "        min       max\n",
       "x -74.01960 -73.90705\n",
       "y  40.69931  40.87833\n",
       "Is projected: FALSE \n",
       "proj4string :\n",
       "[+proj=longlat +datum=WGS84 +no_defs +ellps=WGS84 +towgs84=0,0,0]\n",
       "Data attributes:\n",
       "   collision_       personsinj        pedestrian        cyclistinj     \n",
       " Min.   : 0.000   Min.   : 0.0000   Min.   : 0.0000   Min.   :0.00000  \n",
       " 1st Qu.: 0.000   1st Qu.: 0.0000   1st Qu.: 0.0000   1st Qu.:0.00000  \n",
       " Median : 2.000   Median : 0.0000   Median : 0.0000   Median :0.00000  \n",
       " Mean   : 2.525   Mean   : 0.4516   Mean   : 0.1613   Mean   :0.07566  \n",
       " 3rd Qu.: 4.000   3rd Qu.: 1.0000   3rd Qu.: 0.0000   3rd Qu.:0.00000  \n",
       " Max.   :49.000   Max.   :31.0000   Max.   :29.0000   Max.   :5.00000  \n",
       "   motoristin          bronx      brooklyn   manhattan     queens    statenisla\n",
       " Min.   : 0.0000   Min.   :0   Min.   :0   Min.   :1   Min.   :0   Min.   :0   \n",
       " 1st Qu.: 0.0000   1st Qu.:0   1st Qu.:0   1st Qu.:1   1st Qu.:0   1st Qu.:0   \n",
       " Median : 0.0000   Median :0   Median :0   Median :1   Median :0   Median :0   \n",
       " Mean   : 0.2164   Mean   :0   Mean   :0   Mean   :1   Mean   :0   Mean   :0   \n",
       " 3rd Qu.: 0.0000   3rd Qu.:0   3rd Qu.:0   3rd Qu.:1   3rd Qu.:0   3rd Qu.:0   \n",
       " Max.   :24.0000   Max.   :0   Max.   :0   Max.   :1   Max.   :0   Max.   :0   \n",
       "   distance_t     distance_1        distance_2       distance_3  \n",
       " Min.   :   0   Min.   :  0.000   Min.   :  73.0   Min.   :   0  \n",
       " 1st Qu.: 136   1st Qu.:  2.000   1st Qu.: 370.0   1st Qu.: 732  \n",
       " Median : 441   Median :  3.000   Median : 563.5   Median :1160  \n",
       " Mean   : 452   Mean   :  4.389   Mean   : 644.0   Mean   :1392  \n",
       " 3rd Qu.: 680   3rd Qu.:  3.000   3rd Qu.: 834.0   3rd Qu.:1822  \n",
       " Max.   :2230   Max.   :105.000   Max.   :2443.0   Max.   :5968  \n",
       "   distance_4       distance_5       flag_left_        flag_lef_1      \n",
       " Min.   :   0.0   Min.   :   0.0   Min.   :0.00000   Min.   :0.000000  \n",
       " 1st Qu.:   2.0   1st Qu.:   3.0   1st Qu.:0.00000   1st Qu.:0.000000  \n",
       " Median :  89.5   Median :  28.5   Median :0.00000   Median :0.000000  \n",
       " Mean   : 290.2   Mean   : 304.6   Mean   :0.02778   Mean   :0.006652  \n",
       " 3rd Qu.: 518.0   3rd Qu.: 511.0   3rd Qu.:0.00000   3rd Qu.:0.000000  \n",
       " Max.   :1641.0   Max.   :2944.0   Max.   :1.00000   Max.   :1.000000  \n",
       "   flag_LPIS_      flag_LPIS         bike_route       bike_rou_1    \n",
       " Min.   :0.000   Min.   :0.00000   Min.   :0.0000   Min.   :0.0000  \n",
       " 1st Qu.:0.000   1st Qu.:0.00000   1st Qu.:0.0000   1st Qu.:0.0000  \n",
       " Median :0.000   Median :0.00000   Median :0.0000   Median :0.0000  \n",
       " Mean   :0.246   Mean   :0.07547   Mean   :0.3765   Mean   :0.4192  \n",
       " 3rd Qu.:0.000   3rd Qu.:0.00000   3rd Qu.:1.0000   3rd Qu.:1.0000  \n",
       " Max.   :1.000   Max.   :1.00000   Max.   :1.0000   Max.   :1.0000  \n",
       "   flag_senio       flag_prior        flag_schoo        flag_stree     \n",
       " Min.   :0.0000   Min.   :0.00000   Min.   :0.00000   Min.   :0.00000  \n",
       " 1st Qu.:0.0000   1st Qu.:0.00000   1st Qu.:0.00000   1st Qu.:0.00000  \n",
       " Median :0.0000   Median :0.00000   Median :0.00000   Median :0.00000  \n",
       " Mean   :0.2822   Mean   :0.01645   Mean   :0.04971   Mean   :0.01788  \n",
       " 3rd Qu.:1.0000   3rd Qu.:0.00000   3rd Qu.:0.00000   3rd Qu.:0.00000  \n",
       " Max.   :1.0000   Max.   :1.00000   Max.   :1.00000   Max.   :1.00000  \n",
       "    quarter          year        intersecti           y         \n",
       " Min.   :1.00   Min.   :2012   Min.   :   1.0   Min.   :194842  \n",
       " 1st Qu.:2.00   1st Qu.:2014   1st Qu.: 731.8   1st Qu.:207989  \n",
       " Median :3.00   Median :2015   Median :1453.5   Median :219132  \n",
       " Mean   :2.52   Mean   :2015   Mean   :1450.2   Mean   :220452  \n",
       " 3rd Qu.:3.00   3rd Qu.:2017   3rd Qu.:2176.2   3rd Qu.:230968  \n",
       " Max.   :4.00   Max.   :2018   Max.   :4218.0   Max.   :258883  \n",
       "       x          \n",
       " Min.   : 979542  \n",
       " 1st Qu.: 986712  \n",
       " Median : 991554  \n",
       " Mean   : 992203  \n",
       " 3rd Qu.: 998100  \n",
       " Max.   :1009595  "
      ]
     },
     "metadata": {},
     "output_type": "display_data"
    }
   ],
   "source": [
    "summary(myshp)"
   ]
  },
  {
   "cell_type": "code",
   "execution_count": 37,
   "metadata": {},
   "outputs": [
    {
     "data": {
      "text/html": [
       "<ol class=list-inline>\n",
       "\t<li>'collision_'</li>\n",
       "\t<li>'personsinj'</li>\n",
       "\t<li>'pedestrian'</li>\n",
       "\t<li>'cyclistinj'</li>\n",
       "\t<li>'motoristin'</li>\n",
       "\t<li>'bronx'</li>\n",
       "\t<li>'brooklyn'</li>\n",
       "\t<li>'manhattan'</li>\n",
       "\t<li>'queens'</li>\n",
       "\t<li>'statenisla'</li>\n",
       "\t<li>'distance_t'</li>\n",
       "\t<li>'distance_1'</li>\n",
       "\t<li>'distance_2'</li>\n",
       "\t<li>'distance_3'</li>\n",
       "\t<li>'distance_4'</li>\n",
       "\t<li>'distance_5'</li>\n",
       "\t<li>'flag_left_'</li>\n",
       "\t<li>'flag_lef_1'</li>\n",
       "\t<li>'flag_LPIS_'</li>\n",
       "\t<li>'flag_LPIS'</li>\n",
       "\t<li>'bike_route'</li>\n",
       "\t<li>'bike_rou_1'</li>\n",
       "\t<li>'flag_senio'</li>\n",
       "\t<li>'flag_prior'</li>\n",
       "\t<li>'flag_schoo'</li>\n",
       "\t<li>'flag_stree'</li>\n",
       "\t<li>'quarter'</li>\n",
       "\t<li>'year'</li>\n",
       "\t<li>'intersecti'</li>\n",
       "\t<li>'y'</li>\n",
       "\t<li>'x'</li>\n",
       "</ol>\n"
      ],
      "text/latex": [
       "\\begin{enumerate*}\n",
       "\\item 'collision\\_'\n",
       "\\item 'personsinj'\n",
       "\\item 'pedestrian'\n",
       "\\item 'cyclistinj'\n",
       "\\item 'motoristin'\n",
       "\\item 'bronx'\n",
       "\\item 'brooklyn'\n",
       "\\item 'manhattan'\n",
       "\\item 'queens'\n",
       "\\item 'statenisla'\n",
       "\\item 'distance\\_t'\n",
       "\\item 'distance\\_1'\n",
       "\\item 'distance\\_2'\n",
       "\\item 'distance\\_3'\n",
       "\\item 'distance\\_4'\n",
       "\\item 'distance\\_5'\n",
       "\\item 'flag\\_left\\_'\n",
       "\\item 'flag\\_lef\\_1'\n",
       "\\item 'flag\\_LPIS\\_'\n",
       "\\item 'flag\\_LPIS'\n",
       "\\item 'bike\\_route'\n",
       "\\item 'bike\\_rou\\_1'\n",
       "\\item 'flag\\_senio'\n",
       "\\item 'flag\\_prior'\n",
       "\\item 'flag\\_schoo'\n",
       "\\item 'flag\\_stree'\n",
       "\\item 'quarter'\n",
       "\\item 'year'\n",
       "\\item 'intersecti'\n",
       "\\item 'y'\n",
       "\\item 'x'\n",
       "\\end{enumerate*}\n"
      ],
      "text/markdown": [
       "1. 'collision_'\n",
       "2. 'personsinj'\n",
       "3. 'pedestrian'\n",
       "4. 'cyclistinj'\n",
       "5. 'motoristin'\n",
       "6. 'bronx'\n",
       "7. 'brooklyn'\n",
       "8. 'manhattan'\n",
       "9. 'queens'\n",
       "10. 'statenisla'\n",
       "11. 'distance_t'\n",
       "12. 'distance_1'\n",
       "13. 'distance_2'\n",
       "14. 'distance_3'\n",
       "15. 'distance_4'\n",
       "16. 'distance_5'\n",
       "17. 'flag_left_'\n",
       "18. 'flag_lef_1'\n",
       "19. 'flag_LPIS_'\n",
       "20. 'flag_LPIS'\n",
       "21. 'bike_route'\n",
       "22. 'bike_rou_1'\n",
       "23. 'flag_senio'\n",
       "24. 'flag_prior'\n",
       "25. 'flag_schoo'\n",
       "26. 'flag_stree'\n",
       "27. 'quarter'\n",
       "28. 'year'\n",
       "29. 'intersecti'\n",
       "30. 'y'\n",
       "31. 'x'\n",
       "\n",
       "\n"
      ],
      "text/plain": [
       " [1] \"collision_\" \"personsinj\" \"pedestrian\" \"cyclistinj\" \"motoristin\"\n",
       " [6] \"bronx\"      \"brooklyn\"   \"manhattan\"  \"queens\"     \"statenisla\"\n",
       "[11] \"distance_t\" \"distance_1\" \"distance_2\" \"distance_3\" \"distance_4\"\n",
       "[16] \"distance_5\" \"flag_left_\" \"flag_lef_1\" \"flag_LPIS_\" \"flag_LPIS\" \n",
       "[21] \"bike_route\" \"bike_rou_1\" \"flag_senio\" \"flag_prior\" \"flag_schoo\"\n",
       "[26] \"flag_stree\" \"quarter\"    \"year\"       \"intersecti\" \"y\"         \n",
       "[31] \"x\"         "
      ]
     },
     "metadata": {},
     "output_type": "display_data"
    }
   ],
   "source": [
    "names(myshp)"
   ]
  },
  {
   "cell_type": "code",
   "execution_count": 38,
   "metadata": {},
   "outputs": [],
   "source": [
    "names(myshp) <- c(\"collision_count\",\"personsinjured\",\"pedestriansinjured\",\"cyclistinjured\",\"motoristinjured\",\"bronx\",\"brooklyn\",\"manhattan\",\"queens\",\"statenisland\",\"distance_to_LPIS\",\"distance_to_Street\",\"distance_to_Sch\",\"distance_to_LTC\",\"distance_to_bikeroute\",\"distance_to_truckroute\",\"flag_left_turn_ever\",\"flag_left_turn\",\"flag_LPIS_ever\",\"flag_LPIS\",\"bike_route_tv\",\"bike_route_ever\", \"flag_seniors\",\"flag_priorityinters\",\"flag_school\",\"flag_street_improv\", \"quarter\",\"year\",\"intersection_id\",\"y\",\"x\")"
   ]
  },
  {
   "cell_type": "code",
   "execution_count": 39,
   "metadata": {},
   "outputs": [
    {
     "data": {
      "text/html": [
       "<ol class=list-inline>\n",
       "\t<li>'collision_count'</li>\n",
       "\t<li>'personsinjured'</li>\n",
       "\t<li>'pedestriansinjured'</li>\n",
       "\t<li>'cyclistinjured'</li>\n",
       "\t<li>'motoristinjured'</li>\n",
       "\t<li>'bronx'</li>\n",
       "\t<li>'brooklyn'</li>\n",
       "\t<li>'manhattan'</li>\n",
       "\t<li>'queens'</li>\n",
       "\t<li>'statenisland'</li>\n",
       "\t<li>'distance_to_LPIS'</li>\n",
       "\t<li>'distance_to_Street'</li>\n",
       "\t<li>'distance_to_Sch'</li>\n",
       "\t<li>'distance_to_LTC'</li>\n",
       "\t<li>'distance_to_bikeroute'</li>\n",
       "\t<li>'distance_to_truckroute'</li>\n",
       "\t<li>'flag_left_turn_ever'</li>\n",
       "\t<li>'flag_left_turn'</li>\n",
       "\t<li>'flag_LPIS_ever'</li>\n",
       "\t<li>'flag_LPIS'</li>\n",
       "\t<li>'bike_route_tv'</li>\n",
       "\t<li>'bike_route_ever'</li>\n",
       "\t<li>'flag_seniors'</li>\n",
       "\t<li>'flag_priorityinters'</li>\n",
       "\t<li>'flag_school'</li>\n",
       "\t<li>'flag_street_improv'</li>\n",
       "\t<li>'quarter'</li>\n",
       "\t<li>'year'</li>\n",
       "\t<li>'intersection_id'</li>\n",
       "\t<li>'y'</li>\n",
       "\t<li>'x'</li>\n",
       "</ol>\n"
      ],
      "text/latex": [
       "\\begin{enumerate*}\n",
       "\\item 'collision\\_count'\n",
       "\\item 'personsinjured'\n",
       "\\item 'pedestriansinjured'\n",
       "\\item 'cyclistinjured'\n",
       "\\item 'motoristinjured'\n",
       "\\item 'bronx'\n",
       "\\item 'brooklyn'\n",
       "\\item 'manhattan'\n",
       "\\item 'queens'\n",
       "\\item 'statenisland'\n",
       "\\item 'distance\\_to\\_LPIS'\n",
       "\\item 'distance\\_to\\_Street'\n",
       "\\item 'distance\\_to\\_Sch'\n",
       "\\item 'distance\\_to\\_LTC'\n",
       "\\item 'distance\\_to\\_bikeroute'\n",
       "\\item 'distance\\_to\\_truckroute'\n",
       "\\item 'flag\\_left\\_turn\\_ever'\n",
       "\\item 'flag\\_left\\_turn'\n",
       "\\item 'flag\\_LPIS\\_ever'\n",
       "\\item 'flag\\_LPIS'\n",
       "\\item 'bike\\_route\\_tv'\n",
       "\\item 'bike\\_route\\_ever'\n",
       "\\item 'flag\\_seniors'\n",
       "\\item 'flag\\_priorityinters'\n",
       "\\item 'flag\\_school'\n",
       "\\item 'flag\\_street\\_improv'\n",
       "\\item 'quarter'\n",
       "\\item 'year'\n",
       "\\item 'intersection\\_id'\n",
       "\\item 'y'\n",
       "\\item 'x'\n",
       "\\end{enumerate*}\n"
      ],
      "text/markdown": [
       "1. 'collision_count'\n",
       "2. 'personsinjured'\n",
       "3. 'pedestriansinjured'\n",
       "4. 'cyclistinjured'\n",
       "5. 'motoristinjured'\n",
       "6. 'bronx'\n",
       "7. 'brooklyn'\n",
       "8. 'manhattan'\n",
       "9. 'queens'\n",
       "10. 'statenisland'\n",
       "11. 'distance_to_LPIS'\n",
       "12. 'distance_to_Street'\n",
       "13. 'distance_to_Sch'\n",
       "14. 'distance_to_LTC'\n",
       "15. 'distance_to_bikeroute'\n",
       "16. 'distance_to_truckroute'\n",
       "17. 'flag_left_turn_ever'\n",
       "18. 'flag_left_turn'\n",
       "19. 'flag_LPIS_ever'\n",
       "20. 'flag_LPIS'\n",
       "21. 'bike_route_tv'\n",
       "22. 'bike_route_ever'\n",
       "23. 'flag_seniors'\n",
       "24. 'flag_priorityinters'\n",
       "25. 'flag_school'\n",
       "26. 'flag_street_improv'\n",
       "27. 'quarter'\n",
       "28. 'year'\n",
       "29. 'intersection_id'\n",
       "30. 'y'\n",
       "31. 'x'\n",
       "\n",
       "\n"
      ],
      "text/plain": [
       " [1] \"collision_count\"        \"personsinjured\"         \"pedestriansinjured\"    \n",
       " [4] \"cyclistinjured\"         \"motoristinjured\"        \"bronx\"                 \n",
       " [7] \"brooklyn\"               \"manhattan\"              \"queens\"                \n",
       "[10] \"statenisland\"           \"distance_to_LPIS\"       \"distance_to_Street\"    \n",
       "[13] \"distance_to_Sch\"        \"distance_to_LTC\"        \"distance_to_bikeroute\" \n",
       "[16] \"distance_to_truckroute\" \"flag_left_turn_ever\"    \"flag_left_turn\"        \n",
       "[19] \"flag_LPIS_ever\"         \"flag_LPIS\"              \"bike_route_tv\"         \n",
       "[22] \"bike_route_ever\"        \"flag_seniors\"           \"flag_priorityinters\"   \n",
       "[25] \"flag_school\"            \"flag_street_improv\"     \"quarter\"               \n",
       "[28] \"year\"                   \"intersection_id\"        \"y\"                     \n",
       "[31] \"x\"                     "
      ]
     },
     "metadata": {},
     "output_type": "display_data"
    }
   ],
   "source": [
    "names(myshp)"
   ]
  },
  {
   "cell_type": "code",
   "execution_count": 41,
   "metadata": {},
   "outputs": [
    {
     "data": {
      "text/plain": [
       "\n",
       " 2012  2013  2014  2015  2016  2017  2018 \n",
       " 5472 10944 10944 10944 10944 10944  8208 "
      ]
     },
     "metadata": {},
     "output_type": "display_data"
    }
   ],
   "source": [
    "# Check that year is correctly formatted\n",
    "table(myshp@data$year)"
   ]
  },
  {
   "cell_type": "code",
   "execution_count": 42,
   "metadata": {},
   "outputs": [],
   "source": [
    "# Create time variable in mydata\n",
    "myshp@data$x <- paste(as.character(myshp@data$year) , as.character(myshp@data$quarter))\n",
    "myshp@data$quarter_year <- as.yearqtr(format(myshp@data$x), \"%Y%q\")"
   ]
  },
  {
   "cell_type": "code",
   "execution_count": 43,
   "metadata": {},
   "outputs": [
    {
     "data": {
      "text/plain": [
       "\n",
       "2012 Q3 2012 Q4 2013 Q1 2013 Q2 2013 Q3 2013 Q4 2014 Q1 2014 Q2 2014 Q3 2014 Q4 \n",
       "   2736    2736    2736    2736    2736    2736    2736    2736    2736    2736 \n",
       "2015 Q1 2015 Q2 2015 Q3 2015 Q4 2016 Q1 2016 Q2 2016 Q3 2016 Q4 2017 Q1 2017 Q2 \n",
       "   2736    2736    2736    2736    2736    2736    2736    2736    2736    2736 \n",
       "2017 Q3 2017 Q4 2018 Q1 2018 Q2 2018 Q3 \n",
       "   2736    2736    2736    2736    2736 "
      ]
     },
     "metadata": {},
     "output_type": "display_data"
    }
   ],
   "source": [
    "# Check that quarter_year is correctly formatted\n",
    "table(myshp@data$quarter_year)"
   ]
  },
  {
   "cell_type": "code",
   "execution_count": 44,
   "metadata": {},
   "outputs": [
    {
     "data": {
      "text/html": [
       "'double'"
      ],
      "text/latex": [
       "'double'"
      ],
      "text/markdown": [
       "'double'"
      ],
      "text/plain": [
       "[1] \"double\""
      ]
     },
     "metadata": {},
     "output_type": "display_data"
    }
   ],
   "source": [
    "typeof(myshp@data$quarter_year)"
   ]
  },
  {
   "cell_type": "code",
   "execution_count": 45,
   "metadata": {},
   "outputs": [],
   "source": [
    "# Sort my panel by intersection first, then time\n",
    "myshp@data <- myshp@data[order(myshp@data$quarter_year,myshp@data$intersection_id),]"
   ]
  },
  {
   "cell_type": "code",
   "execution_count": 46,
   "metadata": {},
   "outputs": [
    {
     "data": {
      "text/html": [
       "<table>\n",
       "<thead><tr><th></th><th scope=col>collision_count</th><th scope=col>personsinjured</th><th scope=col>pedestriansinjured</th><th scope=col>cyclistinjured</th><th scope=col>motoristinjured</th><th scope=col>bronx</th><th scope=col>brooklyn</th><th scope=col>manhattan</th><th scope=col>queens</th><th scope=col>statenisland</th><th scope=col>...</th><th scope=col>flag_seniors</th><th scope=col>flag_priorityinters</th><th scope=col>flag_school</th><th scope=col>flag_street_improv</th><th scope=col>quarter</th><th scope=col>year</th><th scope=col>intersection_id</th><th scope=col>y</th><th scope=col>x</th><th scope=col>quarter_year</th></tr></thead>\n",
       "<tbody>\n",
       "\t<tr><th scope=row>12</th><td>6       </td><td>1       </td><td>1       </td><td>0       </td><td>0       </td><td>0       </td><td>0       </td><td>1       </td><td>0       </td><td>0       </td><td>...     </td><td>1       </td><td>1       </td><td>0       </td><td>0       </td><td>3       </td><td>2012    </td><td>1       </td><td>199793.6</td><td>2012 3  </td><td>2012 Q3 </td></tr>\n",
       "\t<tr><th scope=row>37</th><td>0       </td><td>0       </td><td>0       </td><td>0       </td><td>0       </td><td>0       </td><td>0       </td><td>1       </td><td>0       </td><td>0       </td><td>...     </td><td>0       </td><td>0       </td><td>0       </td><td>0       </td><td>3       </td><td>2012    </td><td>2       </td><td>202206.2</td><td>2012 3  </td><td>2012 Q3 </td></tr>\n",
       "\t<tr><th scope=row>62</th><td>0       </td><td>0       </td><td>0       </td><td>0       </td><td>0       </td><td>0       </td><td>0       </td><td>1       </td><td>0       </td><td>0       </td><td>...     </td><td>0       </td><td>0       </td><td>0       </td><td>0       </td><td>3       </td><td>2012    </td><td>3       </td><td>201790.1</td><td>2012 3  </td><td>2012 Q3 </td></tr>\n",
       "\t<tr><th scope=row>87</th><td>1       </td><td>0       </td><td>0       </td><td>0       </td><td>0       </td><td>0       </td><td>0       </td><td>1       </td><td>0       </td><td>0       </td><td>...     </td><td>0       </td><td>0       </td><td>0       </td><td>0       </td><td>3       </td><td>2012    </td><td>4       </td><td>201530.0</td><td>2012 3  </td><td>2012 Q3 </td></tr>\n",
       "\t<tr><th scope=row>112</th><td>5       </td><td>1       </td><td>0       </td><td>0       </td><td>1       </td><td>0       </td><td>0       </td><td>1       </td><td>0       </td><td>0       </td><td>...     </td><td>0       </td><td>0       </td><td>0       </td><td>0       </td><td>3       </td><td>2012    </td><td>5       </td><td>201226.1</td><td>2012 3  </td><td>2012 Q3 </td></tr>\n",
       "\t<tr><th scope=row>137</th><td>7       </td><td>1       </td><td>1       </td><td>0       </td><td>0       </td><td>0       </td><td>0       </td><td>1       </td><td>0       </td><td>0       </td><td>...     </td><td>1       </td><td>0       </td><td>0       </td><td>0       </td><td>3       </td><td>2012    </td><td>6       </td><td>200696.0</td><td>2012 3  </td><td>2012 Q3 </td></tr>\n",
       "</tbody>\n",
       "</table>\n"
      ],
      "text/latex": [
       "\\begin{tabular}{r|llllllllllllllllllllllllllllllll}\n",
       "  & collision\\_count & personsinjured & pedestriansinjured & cyclistinjured & motoristinjured & bronx & brooklyn & manhattan & queens & statenisland & ... & flag\\_seniors & flag\\_priorityinters & flag\\_school & flag\\_street\\_improv & quarter & year & intersection\\_id & y & x & quarter\\_year\\\\\n",
       "\\hline\n",
       "\t12 & 6        & 1        & 1        & 0        & 0        & 0        & 0        & 1        & 0        & 0        & ...      & 1        & 1        & 0        & 0        & 3        & 2012     & 1        & 199793.6 & 2012 3   & 2012 Q3 \\\\\n",
       "\t37 & 0        & 0        & 0        & 0        & 0        & 0        & 0        & 1        & 0        & 0        & ...      & 0        & 0        & 0        & 0        & 3        & 2012     & 2        & 202206.2 & 2012 3   & 2012 Q3 \\\\\n",
       "\t62 & 0        & 0        & 0        & 0        & 0        & 0        & 0        & 1        & 0        & 0        & ...      & 0        & 0        & 0        & 0        & 3        & 2012     & 3        & 201790.1 & 2012 3   & 2012 Q3 \\\\\n",
       "\t87 & 1        & 0        & 0        & 0        & 0        & 0        & 0        & 1        & 0        & 0        & ...      & 0        & 0        & 0        & 0        & 3        & 2012     & 4        & 201530.0 & 2012 3   & 2012 Q3 \\\\\n",
       "\t112 & 5        & 1        & 0        & 0        & 1        & 0        & 0        & 1        & 0        & 0        & ...      & 0        & 0        & 0        & 0        & 3        & 2012     & 5        & 201226.1 & 2012 3   & 2012 Q3 \\\\\n",
       "\t137 & 7        & 1        & 1        & 0        & 0        & 0        & 0        & 1        & 0        & 0        & ...      & 1        & 0        & 0        & 0        & 3        & 2012     & 6        & 200696.0 & 2012 3   & 2012 Q3 \\\\\n",
       "\\end{tabular}\n"
      ],
      "text/markdown": [
       "\n",
       "| <!--/--> | collision_count | personsinjured | pedestriansinjured | cyclistinjured | motoristinjured | bronx | brooklyn | manhattan | queens | statenisland | ... | flag_seniors | flag_priorityinters | flag_school | flag_street_improv | quarter | year | intersection_id | y | x | quarter_year | \n",
       "|---|---|---|---|---|---|\n",
       "| 12 | 6        | 1        | 1        | 0        | 0        | 0        | 0        | 1        | 0        | 0        | ...      | 1        | 1        | 0        | 0        | 3        | 2012     | 1        | 199793.6 | 2012 3   | 2012 Q3  | \n",
       "| 37 | 0        | 0        | 0        | 0        | 0        | 0        | 0        | 1        | 0        | 0        | ...      | 0        | 0        | 0        | 0        | 3        | 2012     | 2        | 202206.2 | 2012 3   | 2012 Q3  | \n",
       "| 62 | 0        | 0        | 0        | 0        | 0        | 0        | 0        | 1        | 0        | 0        | ...      | 0        | 0        | 0        | 0        | 3        | 2012     | 3        | 201790.1 | 2012 3   | 2012 Q3  | \n",
       "| 87 | 1        | 0        | 0        | 0        | 0        | 0        | 0        | 1        | 0        | 0        | ...      | 0        | 0        | 0        | 0        | 3        | 2012     | 4        | 201530.0 | 2012 3   | 2012 Q3  | \n",
       "| 112 | 5        | 1        | 0        | 0        | 1        | 0        | 0        | 1        | 0        | 0        | ...      | 0        | 0        | 0        | 0        | 3        | 2012     | 5        | 201226.1 | 2012 3   | 2012 Q3  | \n",
       "| 137 | 7        | 1        | 1        | 0        | 0        | 0        | 0        | 1        | 0        | 0        | ...      | 1        | 0        | 0        | 0        | 3        | 2012     | 6        | 200696.0 | 2012 3   | 2012 Q3  | \n",
       "\n",
       "\n"
      ],
      "text/plain": [
       "    collision_count personsinjured pedestriansinjured cyclistinjured\n",
       "12  6               1              1                  0             \n",
       "37  0               0              0                  0             \n",
       "62  0               0              0                  0             \n",
       "87  1               0              0                  0             \n",
       "112 5               1              0                  0             \n",
       "137 7               1              1                  0             \n",
       "    motoristinjured bronx brooklyn manhattan queens statenisland ...\n",
       "12  0               0     0        1         0      0            ...\n",
       "37  0               0     0        1         0      0            ...\n",
       "62  0               0     0        1         0      0            ...\n",
       "87  0               0     0        1         0      0            ...\n",
       "112 1               0     0        1         0      0            ...\n",
       "137 0               0     0        1         0      0            ...\n",
       "    flag_seniors flag_priorityinters flag_school flag_street_improv quarter\n",
       "12  1            1                   0           0                  3      \n",
       "37  0            0                   0           0                  3      \n",
       "62  0            0                   0           0                  3      \n",
       "87  0            0                   0           0                  3      \n",
       "112 0            0                   0           0                  3      \n",
       "137 1            0                   0           0                  3      \n",
       "    year intersection_id y        x      quarter_year\n",
       "12  2012 1               199793.6 2012 3 2012 Q3     \n",
       "37  2012 2               202206.2 2012 3 2012 Q3     \n",
       "62  2012 3               201790.1 2012 3 2012 Q3     \n",
       "87  2012 4               201530.0 2012 3 2012 Q3     \n",
       "112 2012 5               201226.1 2012 3 2012 Q3     \n",
       "137 2012 6               200696.0 2012 3 2012 Q3     "
      ]
     },
     "metadata": {},
     "output_type": "display_data"
    }
   ],
   "source": [
    "head(myshp@data)\n"
   ]
  },
  {
   "cell_type": "code",
   "execution_count": 47,
   "metadata": {},
   "outputs": [
    {
     "data": {
      "image/png": "[encoded data removed]",
      "text/plain": [
       "plot without title"
      ]
     },
     "metadata": {},
     "output_type": "display_data"
    }
   ],
   "source": [
    "plot(myshp)"
   ]
  },
  {
   "cell_type": "code",
   "execution_count": 48,
   "metadata": {},
   "outputs": [],
   "source": [
    "# Set new df from myshp so that I can run plm and splm later\n",
    "mydata <- as.data.frame(myshp@data)"
   ]
  },
  {
   "cell_type": "code",
   "execution_count": 49,
   "metadata": {},
   "outputs": [
    {
     "data": {
      "text/plain": [
       "   Min. 1st Qu.  Median    Mean 3rd Qu.    Max. \n",
       "0.00000 0.00000 0.00000 0.07547 0.00000 1.00000 "
      ]
     },
     "metadata": {},
     "output_type": "display_data"
    },
    {
     "data": {
      "text/plain": [
       "   Min. 1st Qu.  Median    Mean 3rd Qu.    Max. \n",
       "0.00000 0.00000 0.00000 0.07547 0.00000 1.00000 "
      ]
     },
     "metadata": {},
     "output_type": "display_data"
    }
   ],
   "source": [
    "# Check that they are the same in both datasets\n",
    "summary(mydata$flag_LPIS )\n",
    "summary(myshp@data$flag_LPIS )"
   ]
  },
  {
   "cell_type": "code",
   "execution_count": 50,
   "metadata": {},
   "outputs": [],
   "source": [
    "## reorder variables\n",
    "# Move intersection id and year_quarter to first column of dataframe\n",
    "# %>% is a pipe operator, it is used to execute several commands in one command\n",
    "\n",
    "mydata <- dplyr::select(mydata,intersection_id, quarter_year, everything())"
   ]
  },
  {
   "cell_type": "code",
   "execution_count": 51,
   "metadata": {},
   "outputs": [
    {
     "data": {
      "text/html": [
       "<table>\n",
       "<thead><tr><th></th><th scope=col>intersection_id</th><th scope=col>quarter_year</th><th scope=col>collision_count</th><th scope=col>personsinjured</th><th scope=col>pedestriansinjured</th><th scope=col>cyclistinjured</th><th scope=col>motoristinjured</th><th scope=col>bronx</th><th scope=col>brooklyn</th><th scope=col>manhattan</th><th scope=col>...</th><th scope=col>bike_route_tv</th><th scope=col>bike_route_ever</th><th scope=col>flag_seniors</th><th scope=col>flag_priorityinters</th><th scope=col>flag_school</th><th scope=col>flag_street_improv</th><th scope=col>quarter</th><th scope=col>year</th><th scope=col>y</th><th scope=col>x</th></tr></thead>\n",
       "<tbody>\n",
       "\t<tr><th scope=row>12</th><td>1       </td><td>2012 Q3 </td><td>6       </td><td>1       </td><td>1       </td><td>0       </td><td>0       </td><td>0       </td><td>0       </td><td>1       </td><td>...     </td><td>1       </td><td>1       </td><td>1       </td><td>1       </td><td>0       </td><td>0       </td><td>3       </td><td>2012    </td><td>199793.6</td><td>2012 3  </td></tr>\n",
       "\t<tr><th scope=row>37</th><td>2       </td><td>2012 Q3 </td><td>0       </td><td>0       </td><td>0       </td><td>0       </td><td>0       </td><td>0       </td><td>0       </td><td>1       </td><td>...     </td><td>0       </td><td>0       </td><td>0       </td><td>0       </td><td>0       </td><td>0       </td><td>3       </td><td>2012    </td><td>202206.2</td><td>2012 3  </td></tr>\n",
       "\t<tr><th scope=row>62</th><td>3       </td><td>2012 Q3 </td><td>0       </td><td>0       </td><td>0       </td><td>0       </td><td>0       </td><td>0       </td><td>0       </td><td>1       </td><td>...     </td><td>0       </td><td>1       </td><td>0       </td><td>0       </td><td>0       </td><td>0       </td><td>3       </td><td>2012    </td><td>201790.1</td><td>2012 3  </td></tr>\n",
       "\t<tr><th scope=row>87</th><td>4       </td><td>2012 Q3 </td><td>1       </td><td>0       </td><td>0       </td><td>0       </td><td>0       </td><td>0       </td><td>0       </td><td>1       </td><td>...     </td><td>0       </td><td>1       </td><td>0       </td><td>0       </td><td>0       </td><td>0       </td><td>3       </td><td>2012    </td><td>201530.0</td><td>2012 3  </td></tr>\n",
       "\t<tr><th scope=row>112</th><td>5       </td><td>2012 Q3 </td><td>5       </td><td>1       </td><td>0       </td><td>0       </td><td>1       </td><td>0       </td><td>0       </td><td>1       </td><td>...     </td><td>0       </td><td>1       </td><td>0       </td><td>0       </td><td>0       </td><td>0       </td><td>3       </td><td>2012    </td><td>201226.1</td><td>2012 3  </td></tr>\n",
       "\t<tr><th scope=row>137</th><td>6       </td><td>2012 Q3 </td><td>7       </td><td>1       </td><td>1       </td><td>0       </td><td>0       </td><td>0       </td><td>0       </td><td>1       </td><td>...     </td><td>0       </td><td>0       </td><td>1       </td><td>0       </td><td>0       </td><td>0       </td><td>3       </td><td>2012    </td><td>200696.0</td><td>2012 3  </td></tr>\n",
       "</tbody>\n",
       "</table>\n"
      ],
      "text/latex": [
       "\\begin{tabular}{r|llllllllllllllllllllllllllllllll}\n",
       "  & intersection\\_id & quarter\\_year & collision\\_count & personsinjured & pedestriansinjured & cyclistinjured & motoristinjured & bronx & brooklyn & manhattan & ... & bike\\_route\\_tv & bike\\_route\\_ever & flag\\_seniors & flag\\_priorityinters & flag\\_school & flag\\_street\\_improv & quarter & year & y & x\\\\\n",
       "\\hline\n",
       "\t12 & 1        & 2012 Q3  & 6        & 1        & 1        & 0        & 0        & 0        & 0        & 1        & ...      & 1        & 1        & 1        & 1        & 0        & 0        & 3        & 2012     & 199793.6 & 2012 3  \\\\\n",
       "\t37 & 2        & 2012 Q3  & 0        & 0        & 0        & 0        & 0        & 0        & 0        & 1        & ...      & 0        & 0        & 0        & 0        & 0        & 0        & 3        & 2012     & 202206.2 & 2012 3  \\\\\n",
       "\t62 & 3        & 2012 Q3  & 0        & 0        & 0        & 0        & 0        & 0        & 0        & 1        & ...      & 0        & 1        & 0        & 0        & 0        & 0        & 3        & 2012     & 201790.1 & 2012 3  \\\\\n",
       "\t87 & 4        & 2012 Q3  & 1        & 0        & 0        & 0        & 0        & 0        & 0        & 1        & ...      & 0        & 1        & 0        & 0        & 0        & 0        & 3        & 2012     & 201530.0 & 2012 3  \\\\\n",
       "\t112 & 5        & 2012 Q3  & 5        & 1        & 0        & 0        & 1        & 0        & 0        & 1        & ...      & 0        & 1        & 0        & 0        & 0        & 0        & 3        & 2012     & 201226.1 & 2012 3  \\\\\n",
       "\t137 & 6        & 2012 Q3  & 7        & 1        & 1        & 0        & 0        & 0        & 0        & 1        & ...      & 0        & 0        & 1        & 0        & 0        & 0        & 3        & 2012     & 200696.0 & 2012 3  \\\\\n",
       "\\end{tabular}\n"
      ],
      "text/markdown": [
       "\n",
       "| <!--/--> | intersection_id | quarter_year | collision_count | personsinjured | pedestriansinjured | cyclistinjured | motoristinjured | bronx | brooklyn | manhattan | ... | bike_route_tv | bike_route_ever | flag_seniors | flag_priorityinters | flag_school | flag_street_improv | quarter | year | y | x | \n",
       "|---|---|---|---|---|---|\n",
       "| 12 | 1        | 2012 Q3  | 6        | 1        | 1        | 0        | 0        | 0        | 0        | 1        | ...      | 1        | 1        | 1        | 1        | 0        | 0        | 3        | 2012     | 199793.6 | 2012 3   | \n",
       "| 37 | 2        | 2012 Q3  | 0        | 0        | 0        | 0        | 0        | 0        | 0        | 1        | ...      | 0        | 0        | 0        | 0        | 0        | 0        | 3        | 2012     | 202206.2 | 2012 3   | \n",
       "| 62 | 3        | 2012 Q3  | 0        | 0        | 0        | 0        | 0        | 0        | 0        | 1        | ...      | 0        | 1        | 0        | 0        | 0        | 0        | 3        | 2012     | 201790.1 | 2012 3   | \n",
       "| 87 | 4        | 2012 Q3  | 1        | 0        | 0        | 0        | 0        | 0        | 0        | 1        | ...      | 0        | 1        | 0        | 0        | 0        | 0        | 3        | 2012     | 201530.0 | 2012 3   | \n",
       "| 112 | 5        | 2012 Q3  | 5        | 1        | 0        | 0        | 1        | 0        | 0        | 1        | ...      | 0        | 1        | 0        | 0        | 0        | 0        | 3        | 2012     | 201226.1 | 2012 3   | \n",
       "| 137 | 6        | 2012 Q3  | 7        | 1        | 1        | 0        | 0        | 0        | 0        | 1        | ...      | 0        | 0        | 1        | 0        | 0        | 0        | 3        | 2012     | 200696.0 | 2012 3   | \n",
       "\n",
       "\n"
      ],
      "text/plain": [
       "    intersection_id quarter_year collision_count personsinjured\n",
       "12  1               2012 Q3      6               1             \n",
       "37  2               2012 Q3      0               0             \n",
       "62  3               2012 Q3      0               0             \n",
       "87  4               2012 Q3      1               0             \n",
       "112 5               2012 Q3      5               1             \n",
       "137 6               2012 Q3      7               1             \n",
       "    pedestriansinjured cyclistinjured motoristinjured bronx brooklyn manhattan\n",
       "12  1                  0              0               0     0        1        \n",
       "37  0                  0              0               0     0        1        \n",
       "62  0                  0              0               0     0        1        \n",
       "87  0                  0              0               0     0        1        \n",
       "112 0                  0              1               0     0        1        \n",
       "137 1                  0              0               0     0        1        \n",
       "    ... bike_route_tv bike_route_ever flag_seniors flag_priorityinters\n",
       "12  ... 1             1               1            1                  \n",
       "37  ... 0             0               0            0                  \n",
       "62  ... 0             1               0            0                  \n",
       "87  ... 0             1               0            0                  \n",
       "112 ... 0             1               0            0                  \n",
       "137 ... 0             0               1            0                  \n",
       "    flag_school flag_street_improv quarter year y        x     \n",
       "12  0           0                  3       2012 199793.6 2012 3\n",
       "37  0           0                  3       2012 202206.2 2012 3\n",
       "62  0           0                  3       2012 201790.1 2012 3\n",
       "87  0           0                  3       2012 201530.0 2012 3\n",
       "112 0           0                  3       2012 201226.1 2012 3\n",
       "137 0           0                  3       2012 200696.0 2012 3"
      ]
     },
     "metadata": {},
     "output_type": "display_data"
    }
   ],
   "source": [
    "head(mydata)"
   ]
  },
  {
   "cell_type": "code",
   "execution_count": 52,
   "metadata": {},
   "outputs": [],
   "source": [
    "model = collision_count~flag_LPIS+factor(quarter_year)+bike_route_tv+flag_street_improv+flag_left_turn+flag_school*factor(quarter_year)+flag_priorityinters*factor(quarter_year)+flag_seniors*factor(quarter_year)"
   ]
  },
  {
   "cell_type": "code",
   "execution_count": 53,
   "metadata": {},
   "outputs": [
    {
     "data": {
      "text/plain": [
       "\n",
       "Call:\n",
       "lm(formula = model, data = mydata)\n",
       "\n",
       "Residuals:\n",
       "    Min      1Q  Median      3Q     Max \n",
       "-10.929  -1.924  -0.844   1.011  44.132 \n",
       "\n",
       "Coefficients:\n",
       "                                                 Estimate Std. Error t value\n",
       "(Intercept)                                      2.610374   0.073132  35.694\n",
       "flag_LPIS                                        0.404114   0.048877   8.268\n",
       "factor(quarter_year)2012 Q4                     -0.278644   0.102727  -2.712\n",
       "factor(quarter_year)2013 Q1                     -0.440737   0.102727  -4.290\n",
       "factor(quarter_year)2013 Q2                      0.028975   0.102727   0.282\n",
       "factor(quarter_year)2013 Q3                     -0.058535   0.102728  -0.570\n",
       "factor(quarter_year)2013 Q4                     -0.095810   0.102729  -0.933\n",
       "factor(quarter_year)2014 Q1                     -0.474298   0.102729  -4.617\n",
       "factor(quarter_year)2014 Q2                     -0.006412   0.102731  -0.062\n",
       "factor(quarter_year)2014 Q3                     -0.052079   0.102732  -0.507\n",
       "factor(quarter_year)2014 Q4                     -0.114208   0.102733  -1.112\n",
       "factor(quarter_year)2015 Q1                     -0.521800   0.102735  -5.079\n",
       "factor(quarter_year)2015 Q2                      0.009748   0.102739   0.095\n",
       "factor(quarter_year)2015 Q3                     -0.011832   0.102762  -0.115\n",
       "factor(quarter_year)2015 Q4                      0.032910   0.102777   0.320\n",
       "factor(quarter_year)2016 Q1                     -0.391019   0.102780  -3.804\n",
       "factor(quarter_year)2016 Q2                     -0.744405   0.102783  -7.242\n",
       "factor(quarter_year)2016 Q3                     -1.378426   0.102815 -13.407\n",
       "factor(quarter_year)2016 Q4                     -1.411427   0.102825 -13.727\n",
       "factor(quarter_year)2017 Q1                     -1.205271   0.102861 -11.718\n",
       "factor(quarter_year)2017 Q2                     -0.755101   0.102913  -7.337\n",
       "factor(quarter_year)2017 Q3                     -1.145944   0.102924 -11.134\n",
       "factor(quarter_year)2017 Q4                     -1.076273   0.102961 -10.453\n",
       "factor(quarter_year)2018 Q1                     -1.093382   0.102976 -10.618\n",
       "factor(quarter_year)2018 Q2                     -0.839323   0.103164  -8.136\n",
       "factor(quarter_year)2018 Q3                     -1.039684   0.103287 -10.066\n",
       "bike_route_tv                                    0.390172   0.025019  15.595\n",
       "flag_street_improv                              -0.102640   0.091577  -1.121\n",
       "flag_left_turn                                   1.824373   0.151399  12.050\n",
       "flag_school                                     -0.982690   0.277395  -3.543\n",
       "flag_priorityinters                              7.214411   0.474093  15.217\n",
       "flag_seniors                                     0.777478   0.134042   5.800\n",
       "factor(quarter_year)2012 Q4:flag_school          0.351946   0.392295   0.897\n",
       "factor(quarter_year)2013 Q1:flag_school          0.347260   0.392295   0.885\n",
       "factor(quarter_year)2013 Q2:flag_school          0.232499   0.392296   0.593\n",
       "factor(quarter_year)2013 Q3:flag_school          0.088506   0.392296   0.226\n",
       "factor(quarter_year)2013 Q4:flag_school         -0.014150   0.392296  -0.036\n",
       "factor(quarter_year)2014 Q1:flag_school          0.161240   0.392296   0.411\n",
       "factor(quarter_year)2014 Q2:flag_school          0.198486   0.392295   0.506\n",
       "factor(quarter_year)2014 Q3:flag_school          0.061751   0.392295   0.157\n",
       "factor(quarter_year)2014 Q4:flag_school          0.501774   0.392295   1.279\n",
       "factor(quarter_year)2015 Q1:flag_school          0.498927   0.392295   1.272\n",
       "factor(quarter_year)2015 Q2:flag_school          0.040036   0.392295   0.102\n",
       "factor(quarter_year)2015 Q3:flag_school          0.162117   0.392296   0.413\n",
       "factor(quarter_year)2015 Q4:flag_school          0.169690   0.392296   0.433\n",
       "factor(quarter_year)2016 Q1:flag_school          0.092151   0.392296   0.235\n",
       "factor(quarter_year)2016 Q2:flag_school          0.503476   0.392296   1.283\n",
       "factor(quarter_year)2016 Q3:flag_school          0.246237   0.392304   0.628\n",
       "factor(quarter_year)2016 Q4:flag_school          0.299165   0.392304   0.763\n",
       "factor(quarter_year)2017 Q1:flag_school          0.316151   0.392305   0.806\n",
       "factor(quarter_year)2017 Q2:flag_school          0.529992   0.392299   1.351\n",
       "factor(quarter_year)2017 Q3:flag_school          0.449496   0.392299   1.146\n",
       "factor(quarter_year)2017 Q4:flag_school          0.533600   0.392300   1.360\n",
       "factor(quarter_year)2018 Q1:flag_school          0.487968   0.392300   1.244\n",
       "factor(quarter_year)2018 Q2:flag_school          0.224137   0.392300   0.571\n",
       "factor(quarter_year)2018 Q3:flag_school          0.523612   0.392298   1.335\n",
       "factor(quarter_year)2012 Q4:flag_priorityinters -0.743653   0.670462  -1.109\n",
       "factor(quarter_year)2013 Q1:flag_priorityinters -1.465768   0.670462  -2.186\n",
       "factor(quarter_year)2013 Q2:flag_priorityinters -0.765047   0.670462  -1.141\n",
       "factor(quarter_year)2013 Q3:flag_priorityinters -0.272256   0.670462  -0.406\n",
       "factor(quarter_year)2013 Q4:flag_priorityinters  0.078997   0.670463   0.118\n",
       "factor(quarter_year)2014 Q1:flag_priorityinters -1.885223   0.670465  -2.812\n",
       "factor(quarter_year)2014 Q2:flag_priorityinters -1.071670   0.670466  -1.598\n",
       "factor(quarter_year)2014 Q3:flag_priorityinters -0.782168   0.670466  -1.167\n",
       "factor(quarter_year)2014 Q4:flag_priorityinters -1.416090   0.670467  -2.112\n",
       "factor(quarter_year)2015 Q1:flag_priorityinters -2.576821   0.670466  -3.843\n",
       "factor(quarter_year)2015 Q2:flag_priorityinters -1.526549   0.670464  -2.277\n",
       "factor(quarter_year)2015 Q3:flag_priorityinters  0.236637   0.670579   0.353\n",
       "factor(quarter_year)2015 Q4:flag_priorityinters -1.295508   0.670581  -1.932\n",
       "factor(quarter_year)2016 Q1:flag_priorityinters -1.748910   0.670578  -2.608\n",
       "factor(quarter_year)2016 Q2:flag_priorityinters -2.798005   0.670574  -4.173\n",
       "factor(quarter_year)2016 Q3:flag_priorityinters -4.119843   0.670624  -6.143\n",
       "factor(quarter_year)2016 Q4:flag_priorityinters -5.004752   0.670880  -7.460\n",
       "factor(quarter_year)2017 Q1:flag_priorityinters -4.446904   0.670845  -6.629\n",
       "factor(quarter_year)2017 Q2:flag_priorityinters -4.320605   0.670810  -6.441\n",
       "factor(quarter_year)2017 Q3:flag_priorityinters -4.766297   0.671146  -7.102\n",
       "factor(quarter_year)2017 Q4:flag_priorityinters -5.055912   0.671228  -7.532\n",
       "factor(quarter_year)2018 Q1:flag_priorityinters -4.471789   0.671223  -6.662\n",
       "factor(quarter_year)2018 Q2:flag_priorityinters -4.342325   0.671194  -6.470\n",
       "factor(quarter_year)2018 Q3:flag_priorityinters -4.583384   0.671191  -6.829\n",
       "factor(quarter_year)2012 Q4:flag_seniors         0.252910   0.189519   1.334\n",
       "factor(quarter_year)2013 Q1:flag_seniors         0.005778   0.189519   0.030\n",
       "factor(quarter_year)2013 Q2:flag_seniors         0.097541   0.189519   0.515\n",
       "factor(quarter_year)2013 Q3:flag_seniors         0.159328   0.189520   0.841\n",
       "factor(quarter_year)2013 Q4:flag_seniors         0.257694   0.189520   1.360\n",
       "factor(quarter_year)2014 Q1:flag_seniors         0.179278   0.189520   0.946\n",
       "factor(quarter_year)2014 Q2:flag_seniors         0.194618   0.189524   1.027\n",
       "factor(quarter_year)2014 Q3:flag_seniors        -0.081801   0.189524  -0.432\n",
       "factor(quarter_year)2014 Q4:flag_seniors         0.120684   0.189529   0.637\n",
       "factor(quarter_year)2015 Q1:flag_seniors        -0.021654   0.189529  -0.114\n",
       "factor(quarter_year)2015 Q2:flag_seniors         0.211023   0.189527   1.113\n",
       "factor(quarter_year)2015 Q3:flag_seniors         0.101849   0.189535   0.537\n",
       "factor(quarter_year)2015 Q4:flag_seniors         0.202976   0.189551   1.071\n",
       "factor(quarter_year)2016 Q1:flag_seniors        -0.053791   0.189553  -0.284\n",
       "factor(quarter_year)2016 Q2:flag_seniors        -0.389734   0.189558  -2.056\n",
       "factor(quarter_year)2016 Q3:flag_seniors        -0.306296   0.189584  -1.616\n",
       "factor(quarter_year)2016 Q4:flag_seniors        -0.255488   0.189599  -1.348\n",
       "factor(quarter_year)2017 Q1:flag_seniors        -0.221029   0.189665  -1.165\n",
       "factor(quarter_year)2017 Q2:flag_seniors        -0.183897   0.189783  -0.969\n",
       "factor(quarter_year)2017 Q3:flag_seniors        -0.105549   0.189785  -0.556\n",
       "factor(quarter_year)2017 Q4:flag_seniors        -0.193737   0.189799  -1.021\n",
       "factor(quarter_year)2018 Q1:flag_seniors        -0.512818   0.189799  -2.702\n",
       "factor(quarter_year)2018 Q2:flag_seniors        -0.261691   0.189690  -1.380\n",
       "factor(quarter_year)2018 Q3:flag_seniors        -0.475364   0.189676  -2.506\n",
       "                                                Pr(>|t|)    \n",
       "(Intercept)                                      < 2e-16 ***\n",
       "flag_LPIS                                        < 2e-16 ***\n",
       "factor(quarter_year)2012 Q4                     0.006680 ** \n",
       "factor(quarter_year)2013 Q1                     1.79e-05 ***\n",
       "factor(quarter_year)2013 Q2                     0.777897    \n",
       "factor(quarter_year)2013 Q3                     0.568810    \n",
       "factor(quarter_year)2013 Q4                     0.351006    \n",
       "factor(quarter_year)2014 Q1                     3.90e-06 ***\n",
       "factor(quarter_year)2014 Q2                     0.950230    \n",
       "factor(quarter_year)2014 Q3                     0.612195    \n",
       "factor(quarter_year)2014 Q4                     0.266273    \n",
       "factor(quarter_year)2015 Q1                     3.80e-07 ***\n",
       "factor(quarter_year)2015 Q2                     0.924410    \n",
       "factor(quarter_year)2015 Q3                     0.908337    \n",
       "factor(quarter_year)2015 Q4                     0.748810    \n",
       "factor(quarter_year)2016 Q1                     0.000142 ***\n",
       "factor(quarter_year)2016 Q2                     4.45e-13 ***\n",
       "factor(quarter_year)2016 Q3                      < 2e-16 ***\n",
       "factor(quarter_year)2016 Q4                      < 2e-16 ***\n",
       "factor(quarter_year)2017 Q1                      < 2e-16 ***\n",
       "factor(quarter_year)2017 Q2                     2.20e-13 ***\n",
       "factor(quarter_year)2017 Q3                      < 2e-16 ***\n",
       "factor(quarter_year)2017 Q4                      < 2e-16 ***\n",
       "factor(quarter_year)2018 Q1                      < 2e-16 ***\n",
       "factor(quarter_year)2018 Q2                     4.16e-16 ***\n",
       "factor(quarter_year)2018 Q3                      < 2e-16 ***\n",
       "bike_route_tv                                    < 2e-16 ***\n",
       "flag_street_improv                              0.262376    \n",
       "flag_left_turn                                   < 2e-16 ***\n",
       "flag_school                                     0.000397 ***\n",
       "flag_priorityinters                              < 2e-16 ***\n",
       "flag_seniors                                    6.65e-09 ***\n",
       "factor(quarter_year)2012 Q4:flag_school         0.369644    \n",
       "factor(quarter_year)2013 Q1:flag_school         0.376052    \n",
       "factor(quarter_year)2013 Q2:flag_school         0.553408    \n",
       "factor(quarter_year)2013 Q3:flag_school         0.821505    \n",
       "factor(quarter_year)2013 Q4:flag_school         0.971227    \n",
       "factor(quarter_year)2014 Q1:flag_school         0.681061    \n",
       "factor(quarter_year)2014 Q2:flag_school         0.612885    \n",
       "factor(quarter_year)2014 Q3:flag_school         0.874923    \n",
       "factor(quarter_year)2014 Q4:flag_school         0.200876    \n",
       "factor(quarter_year)2015 Q1:flag_school         0.203443    \n",
       "factor(quarter_year)2015 Q2:flag_school         0.918713    \n",
       "factor(quarter_year)2015 Q3:flag_school         0.679424    \n",
       "factor(quarter_year)2015 Q4:flag_school         0.665339    \n",
       "factor(quarter_year)2016 Q1:flag_school         0.814286    \n",
       "factor(quarter_year)2016 Q2:flag_school         0.199354    \n",
       "factor(quarter_year)2016 Q3:flag_school         0.530223    \n",
       "factor(quarter_year)2016 Q4:flag_school         0.445714    \n",
       "factor(quarter_year)2017 Q1:flag_school         0.420314    \n",
       "factor(quarter_year)2017 Q2:flag_school         0.176703    \n",
       "factor(quarter_year)2017 Q3:flag_school         0.251882    \n",
       "factor(quarter_year)2017 Q4:flag_school         0.173776    \n",
       "factor(quarter_year)2018 Q1:flag_school         0.213554    \n",
       "factor(quarter_year)2018 Q2:flag_school         0.567771    \n",
       "factor(quarter_year)2018 Q3:flag_school         0.181969    \n",
       "factor(quarter_year)2012 Q4:flag_priorityinters 0.267363    \n",
       "factor(quarter_year)2013 Q1:flag_priorityinters 0.028804 *  \n",
       "factor(quarter_year)2013 Q2:flag_priorityinters 0.253843    \n",
       "factor(quarter_year)2013 Q3:flag_priorityinters 0.684691    \n",
       "factor(quarter_year)2013 Q4:flag_priorityinters 0.906208    \n",
       "factor(quarter_year)2014 Q1:flag_priorityinters 0.004928 ** \n",
       "factor(quarter_year)2014 Q2:flag_priorityinters 0.109959    \n",
       "factor(quarter_year)2014 Q3:flag_priorityinters 0.243375    \n",
       "factor(quarter_year)2014 Q4:flag_priorityinters 0.034682 *  \n",
       "factor(quarter_year)2015 Q1:flag_priorityinters 0.000121 ***\n",
       "factor(quarter_year)2015 Q2:flag_priorityinters 0.022798 *  \n",
       "factor(quarter_year)2015 Q3:flag_priorityinters 0.724176    \n",
       "factor(quarter_year)2015 Q4:flag_priorityinters 0.053374 .  \n",
       "factor(quarter_year)2016 Q1:flag_priorityinters 0.009108 ** \n",
       "factor(quarter_year)2016 Q2:flag_priorityinters 3.02e-05 ***\n",
       "factor(quarter_year)2016 Q3:flag_priorityinters 8.13e-10 ***\n",
       "factor(quarter_year)2016 Q4:flag_priorityinters 8.76e-14 ***\n",
       "factor(quarter_year)2017 Q1:flag_priorityinters 3.41e-11 ***\n",
       "factor(quarter_year)2017 Q2:flag_priorityinters 1.20e-10 ***\n",
       "factor(quarter_year)2017 Q3:flag_priorityinters 1.24e-12 ***\n",
       "factor(quarter_year)2017 Q4:flag_priorityinters 5.05e-14 ***\n",
       "factor(quarter_year)2018 Q1:flag_priorityinters 2.72e-11 ***\n",
       "factor(quarter_year)2018 Q2:flag_priorityinters 9.90e-11 ***\n",
       "factor(quarter_year)2018 Q3:flag_priorityinters 8.64e-12 ***\n",
       "factor(quarter_year)2012 Q4:flag_seniors        0.182049    \n",
       "factor(quarter_year)2013 Q1:flag_seniors        0.975680    \n",
       "factor(quarter_year)2013 Q2:flag_seniors        0.606779    \n",
       "factor(quarter_year)2013 Q3:flag_seniors        0.400525    \n",
       "factor(quarter_year)2013 Q4:flag_seniors        0.173923    \n",
       "factor(quarter_year)2014 Q1:flag_seniors        0.344173    \n",
       "factor(quarter_year)2014 Q2:flag_seniors        0.304481    \n",
       "factor(quarter_year)2014 Q3:flag_seniors        0.666024    \n",
       "factor(quarter_year)2014 Q4:flag_seniors        0.524283    \n",
       "factor(quarter_year)2015 Q1:flag_seniors        0.909040    \n",
       "factor(quarter_year)2015 Q2:flag_seniors        0.265533    \n",
       "factor(quarter_year)2015 Q3:flag_seniors        0.591020    \n",
       "factor(quarter_year)2015 Q4:flag_seniors        0.284253    \n",
       "factor(quarter_year)2016 Q1:flag_seniors        0.776580    \n",
       "factor(quarter_year)2016 Q2:flag_seniors        0.039786 *  \n",
       "factor(quarter_year)2016 Q3:flag_seniors        0.106181    \n",
       "factor(quarter_year)2016 Q4:flag_seniors        0.177817    \n",
       "factor(quarter_year)2017 Q1:flag_seniors        0.243875    \n",
       "factor(quarter_year)2017 Q2:flag_seniors        0.332557    \n",
       "factor(quarter_year)2017 Q3:flag_seniors        0.578111    \n",
       "factor(quarter_year)2017 Q4:flag_seniors        0.307378    \n",
       "factor(quarter_year)2018 Q1:flag_seniors        0.006896 ** \n",
       "factor(quarter_year)2018 Q2:flag_seniors        0.167724    \n",
       "factor(quarter_year)2018 Q3:flag_seniors        0.012207 *  \n",
       "---\n",
       "Signif. codes:  0 '***' 0.001 '**' 0.01 '*' 0.05 '.' 0.1 ' ' 1\n",
       "\n",
       "Residual standard error: 3.153 on 68296 degrees of freedom\n",
       "Multiple R-squared:  0.08672,\tAdjusted R-squared:  0.08534 \n",
       "F-statistic: 62.96 on 103 and 68296 DF,  p-value: < 2.2e-16\n"
      ]
     },
     "metadata": {},
     "output_type": "display_data"
    }
   ],
   "source": [
    "## Linear regression \n",
    "ols <- lm(model,data=mydata)\n",
    "summary(ols)"
   ]
  },
  {
   "cell_type": "code",
   "execution_count": 54,
   "metadata": {},
   "outputs": [
    {
     "data": {
      "text/plain": [
       "Oneway (individual) effect Within Model\n",
       "\n",
       "Call:\n",
       "plm(formula = model, data = mydata, model = \"within\", index = c(\"intersection_id\", \n",
       "    \"quarter_year\"))\n",
       "\n",
       "Balanced Panel: n = 2736, T = 25, N = 68400\n",
       "\n",
       "Residuals:\n",
       "     Min.   1st Qu.    Median   3rd Qu.      Max. \n",
       "-13.41596  -0.95777  -0.16430   0.79570  23.34539 \n",
       "\n",
       "Coefficients:\n",
       "                                                  Estimate Std. Error  t-value\n",
       "flag_LPIS                                       -0.0890491  0.0380488  -2.3404\n",
       "factor(quarter_year)2012 Q4                     -0.2761611  0.0610978  -4.5200\n",
       "factor(quarter_year)2013 Q1                     -0.4382398  0.0610977  -7.1728\n",
       "factor(quarter_year)2013 Q2                      0.0326441  0.0611000   0.5343\n",
       "factor(quarter_year)2013 Q3                     -0.0533507  0.0611034  -0.8731\n",
       "factor(quarter_year)2013 Q4                     -0.0883107  0.0611142  -1.4450\n",
       "factor(quarter_year)2014 Q1                     -0.4661595  0.0611143  -7.6277\n",
       "factor(quarter_year)2014 Q2                      0.0036769  0.0611251   0.0602\n",
       "factor(quarter_year)2014 Q3                     -0.0406692  0.0611287  -0.6653\n",
       "factor(quarter_year)2014 Q4                     -0.1005995  0.0611314  -1.6456\n",
       "factor(quarter_year)2015 Q1                     -0.5036454  0.0611335  -8.2385\n",
       "factor(quarter_year)2015 Q2                      0.0313099  0.0611593   0.5119\n",
       "factor(quarter_year)2015 Q3                      0.0259014  0.0612099   0.4232\n",
       "factor(quarter_year)2015 Q4                      0.0772105  0.0612281   1.2610\n",
       "factor(quarter_year)2016 Q1                     -0.3452717  0.0612315  -5.6388\n",
       "factor(quarter_year)2016 Q2                     -0.6928722  0.0612348 -11.3150\n",
       "factor(quarter_year)2016 Q3                     -1.3116493  0.0612835 -21.4030\n",
       "factor(quarter_year)2016 Q4                     -1.3297307  0.0612943 -21.6942\n",
       "factor(quarter_year)2017 Q1                     -1.1143726  0.0613317 -18.1696\n",
       "factor(quarter_year)2017 Q2                     -0.6533421  0.0613836 -10.6436\n",
       "factor(quarter_year)2017 Q3                     -1.0354825  0.0613957 -16.8657\n",
       "factor(quarter_year)2017 Q4                     -0.9392744  0.0614298 -15.2902\n",
       "factor(quarter_year)2018 Q1                     -0.9536283  0.0614449 -15.5200\n",
       "factor(quarter_year)2018 Q2                     -0.6702299  0.0616304 -10.8750\n",
       "factor(quarter_year)2018 Q3                     -0.8565109  0.0617540 -13.8697\n",
       "bike_route_tv                                    0.1765528  0.0517686   3.4104\n",
       "flag_street_improv                              -0.4530228  0.0945970  -4.7890\n",
       "flag_left_turn                                  -0.9988322  0.1055235  -9.4655\n",
       "factor(quarter_year)2012 Q4:flag_school          0.3502199  0.2333124   1.5011\n",
       "factor(quarter_year)2013 Q1:flag_school          0.3453154  0.2333124   1.4801\n",
       "factor(quarter_year)2013 Q2:flag_school          0.2336494  0.2333130   1.0014\n",
       "factor(quarter_year)2013 Q3:flag_school          0.0898933  0.2333130   0.3853\n",
       "factor(quarter_year)2013 Q4:flag_school         -0.0153274  0.2333131  -0.0657\n",
       "factor(quarter_year)2014 Q1:flag_school          0.1593314  0.2333131   0.6829\n",
       "factor(quarter_year)2014 Q2:flag_school          0.1936990  0.2333131   0.8302\n",
       "factor(quarter_year)2014 Q3:flag_school          0.0569088  0.2333127   0.2439\n",
       "factor(quarter_year)2014 Q4:flag_school          0.5021515  0.2333123   2.1523\n",
       "factor(quarter_year)2015 Q1:flag_school          0.4996789  0.2333123   2.1417\n",
       "factor(quarter_year)2015 Q2:flag_school          0.0409219  0.2333127   0.1754\n",
       "factor(quarter_year)2015 Q3:flag_school          0.1676880  0.2333140   0.7187\n",
       "factor(quarter_year)2015 Q4:flag_school          0.1789226  0.2333154   0.7669\n",
       "factor(quarter_year)2016 Q1:flag_school          0.1032539  0.2333157   0.4426\n",
       "factor(quarter_year)2016 Q2:flag_school          0.5057818  0.2333156   2.1678\n",
       "factor(quarter_year)2016 Q3:flag_school          0.2642157  0.2333264   1.1324\n",
       "factor(quarter_year)2016 Q4:flag_school          0.3118039  0.2333232   1.3364\n",
       "factor(quarter_year)2017 Q1:flag_school          0.3301147  0.2333248   1.4148\n",
       "factor(quarter_year)2017 Q2:flag_school          0.5313884  0.2333190   2.2775\n",
       "factor(quarter_year)2017 Q3:flag_school          0.4838656  0.2333181   2.0738\n",
       "factor(quarter_year)2017 Q4:flag_school          0.5774107  0.2333188   2.4748\n",
       "factor(quarter_year)2018 Q1:flag_school          0.5327529  0.2333190   2.2834\n",
       "factor(quarter_year)2018 Q2:flag_school          0.2671060  0.2333188   1.1448\n",
       "factor(quarter_year)2018 Q3:flag_school          0.5575086  0.2333173   2.3895\n",
       "factor(quarter_year)2012 Q4:flag_priorityinters -0.7470684  0.3987486  -1.8735\n",
       "factor(quarter_year)2013 Q1:flag_priorityinters -1.4694310  0.3987486  -3.6851\n",
       "factor(quarter_year)2013 Q2:flag_priorityinters -0.7698995  0.3987490  -1.9308\n",
       "factor(quarter_year)2013 Q3:flag_priorityinters -0.2803112  0.3987511  -0.7030\n",
       "factor(quarter_year)2013 Q4:flag_priorityinters  0.0795555  0.3987537   0.1995\n",
       "factor(quarter_year)2014 Q1:flag_priorityinters -1.8742402  0.3987561  -4.7002\n",
       "factor(quarter_year)2014 Q2:flag_priorityinters -1.0636445  0.3987579  -2.6674\n",
       "factor(quarter_year)2014 Q3:flag_priorityinters -0.7758454  0.3987591  -1.9456\n",
       "factor(quarter_year)2014 Q4:flag_priorityinters -1.4152006  0.3987662  -3.5489\n",
       "factor(quarter_year)2015 Q1:flag_priorityinters -2.5790363  0.3987653  -6.4676\n",
       "factor(quarter_year)2015 Q2:flag_priorityinters -1.5221012  0.3987539  -3.8171\n",
       "factor(quarter_year)2015 Q3:flag_priorityinters  0.3539460  0.3988705   0.8874\n",
       "factor(quarter_year)2015 Q4:flag_priorityinters -1.1637503  0.3988731  -2.9176\n",
       "factor(quarter_year)2016 Q1:flag_priorityinters -1.6190766  0.3988696  -4.0592\n",
       "factor(quarter_year)2016 Q2:flag_priorityinters -2.6772376  0.3988659  -6.7121\n",
       "factor(quarter_year)2016 Q3:flag_priorityinters -3.9809854  0.3989287  -9.9792\n",
       "factor(quarter_year)2016 Q4:flag_priorityinters -4.5062802  0.3991354 -11.2901\n",
       "factor(quarter_year)2017 Q1:flag_priorityinters -3.9668902  0.3990988  -9.9396\n",
       "factor(quarter_year)2017 Q2:flag_priorityinters -3.8617170  0.3990633  -9.6770\n",
       "factor(quarter_year)2017 Q3:flag_priorityinters -4.1291256  0.3993358 -10.3400\n",
       "factor(quarter_year)2017 Q4:flag_priorityinters -4.3808263  0.3994045 -10.9684\n",
       "factor(quarter_year)2018 Q1:flag_priorityinters -3.7994276  0.3994000  -9.5128\n",
       "factor(quarter_year)2018 Q2:flag_priorityinters -3.6885744  0.3993713  -9.2360\n",
       "factor(quarter_year)2018 Q3:flag_priorityinters -3.9339859  0.3993767  -9.8503\n",
       "factor(quarter_year)2012 Q4:flag_seniors         0.2555815  0.1127156   2.2675\n",
       "factor(quarter_year)2013 Q1:flag_seniors         0.0090916  0.1127156   0.0807\n",
       "factor(quarter_year)2013 Q2:flag_seniors         0.1005408  0.1127151   0.8920\n",
       "factor(quarter_year)2013 Q3:flag_seniors         0.1667646  0.1127256   1.4794\n",
       "factor(quarter_year)2013 Q4:flag_seniors         0.2655109  0.1127213   2.3555\n",
       "factor(quarter_year)2014 Q1:flag_seniors         0.1869071  0.1127213   1.6581\n",
       "factor(quarter_year)2014 Q2:flag_seniors         0.2052494  0.1127260   1.8208\n",
       "factor(quarter_year)2014 Q3:flag_seniors        -0.0701507  0.1127278  -0.6223\n",
       "factor(quarter_year)2014 Q4:flag_seniors         0.1402822  0.1127741   1.2439\n",
       "factor(quarter_year)2015 Q1:flag_seniors        -0.0059166  0.1127747  -0.0525\n",
       "factor(quarter_year)2015 Q2:flag_seniors         0.2252210  0.1127632   1.9973\n",
       "factor(quarter_year)2015 Q3:flag_seniors         0.1346187  0.1127599   1.1939\n",
       "factor(quarter_year)2015 Q4:flag_seniors         0.2499158  0.1127747   2.2161\n",
       "factor(quarter_year)2016 Q1:flag_seniors        -0.0058064  0.1127764  -0.0515\n",
       "factor(quarter_year)2016 Q2:flag_seniors        -0.3320294  0.1127815  -2.9440\n",
       "factor(quarter_year)2016 Q3:flag_seniors        -0.2310338  0.1128983  -2.0464\n",
       "factor(quarter_year)2016 Q4:flag_seniors        -0.1620226  0.1129942  -1.4339\n",
       "factor(quarter_year)2017 Q1:flag_seniors        -0.1032158  0.1130571  -0.9130\n",
       "factor(quarter_year)2017 Q2:flag_seniors        -0.0374342  0.1131725  -0.3308\n",
       "factor(quarter_year)2017 Q3:flag_seniors         0.0402859  0.1131765   0.3560\n",
       "factor(quarter_year)2017 Q4:flag_seniors        -0.0245400  0.1131913  -0.2168\n",
       "factor(quarter_year)2018 Q1:flag_seniors        -0.3438165  0.1131904  -3.0375\n",
       "factor(quarter_year)2018 Q2:flag_seniors        -0.1208768  0.1130847  -1.0689\n",
       "factor(quarter_year)2018 Q3:flag_seniors        -0.3386191  0.1130709  -2.9947\n",
       "                                                 Pr(>|t|)    \n",
       "flag_LPIS                                       0.0192666 *  \n",
       "factor(quarter_year)2012 Q4                     6.195e-06 ***\n",
       "factor(quarter_year)2013 Q1                     7.427e-13 ***\n",
       "factor(quarter_year)2013 Q2                     0.5931538    \n",
       "factor(quarter_year)2013 Q3                     0.3826001    \n",
       "factor(quarter_year)2013 Q4                     0.1484599    \n",
       "factor(quarter_year)2014 Q1                     2.422e-14 ***\n",
       "factor(quarter_year)2014 Q2                     0.9520331    \n",
       "factor(quarter_year)2014 Q3                     0.5058584    \n",
       "factor(quarter_year)2014 Q4                     0.0998456 .  \n",
       "factor(quarter_year)2015 Q1                     < 2.2e-16 ***\n",
       "factor(quarter_year)2015 Q2                     0.6086952    \n",
       "factor(quarter_year)2015 Q3                     0.6721820    \n",
       "factor(quarter_year)2015 Q4                     0.2073020    \n",
       "factor(quarter_year)2016 Q1                     1.719e-08 ***\n",
       "factor(quarter_year)2016 Q2                     < 2.2e-16 ***\n",
       "factor(quarter_year)2016 Q3                     < 2.2e-16 ***\n",
       "factor(quarter_year)2016 Q4                     < 2.2e-16 ***\n",
       "factor(quarter_year)2017 Q1                     < 2.2e-16 ***\n",
       "factor(quarter_year)2017 Q2                     < 2.2e-16 ***\n",
       "factor(quarter_year)2017 Q3                     < 2.2e-16 ***\n",
       "factor(quarter_year)2017 Q4                     < 2.2e-16 ***\n",
       "factor(quarter_year)2018 Q1                     < 2.2e-16 ***\n",
       "factor(quarter_year)2018 Q2                     < 2.2e-16 ***\n",
       "factor(quarter_year)2018 Q3                     < 2.2e-16 ***\n",
       "bike_route_tv                                   0.0006490 ***\n",
       "flag_street_improv                              1.680e-06 ***\n",
       "flag_left_turn                                  < 2.2e-16 ***\n",
       "factor(quarter_year)2012 Q4:flag_school         0.1333405    \n",
       "factor(quarter_year)2013 Q1:flag_school         0.1388632    \n",
       "factor(quarter_year)2013 Q2:flag_school         0.3166169    \n",
       "factor(quarter_year)2013 Q3:flag_school         0.7000235    \n",
       "factor(quarter_year)2013 Q4:flag_school         0.9476212    \n",
       "factor(quarter_year)2014 Q1:flag_school         0.4946673    \n",
       "factor(quarter_year)2014 Q2:flag_school         0.4064228    \n",
       "factor(quarter_year)2014 Q3:flag_school         0.8072965    \n",
       "factor(quarter_year)2014 Q4:flag_school         0.0313796 *  \n",
       "factor(quarter_year)2015 Q1:flag_school         0.0322234 *  \n",
       "factor(quarter_year)2015 Q2:flag_school         0.8607698    \n",
       "factor(quarter_year)2015 Q3:flag_school         0.4723145    \n",
       "factor(quarter_year)2015 Q4:flag_school         0.4431617    \n",
       "factor(quarter_year)2016 Q1:flag_school         0.6580926    \n",
       "factor(quarter_year)2016 Q2:flag_school         0.0301774 *  \n",
       "factor(quarter_year)2016 Q3:flag_school         0.2574761    \n",
       "factor(quarter_year)2016 Q4:flag_school         0.1814361    \n",
       "factor(quarter_year)2017 Q1:flag_school         0.1571233    \n",
       "factor(quarter_year)2017 Q2:flag_school         0.0227585 *  \n",
       "factor(quarter_year)2017 Q3:flag_school         0.0380976 *  \n",
       "factor(quarter_year)2017 Q4:flag_school         0.0133347 *  \n",
       "factor(quarter_year)2018 Q1:flag_school         0.0224120 *  \n",
       "factor(quarter_year)2018 Q2:flag_school         0.2522915    \n",
       "factor(quarter_year)2018 Q3:flag_school         0.0168747 *  \n",
       "factor(quarter_year)2012 Q4:flag_priorityinters 0.0609994 .  \n",
       "factor(quarter_year)2013 Q1:flag_priorityinters 0.0002288 ***\n",
       "factor(quarter_year)2013 Q2:flag_priorityinters 0.0535137 .  \n",
       "factor(quarter_year)2013 Q3:flag_priorityinters 0.4820752    \n",
       "factor(quarter_year)2013 Q4:flag_priorityinters 0.8418641    \n",
       "factor(quarter_year)2014 Q1:flag_priorityinters 2.604e-06 ***\n",
       "factor(quarter_year)2014 Q2:flag_priorityinters 0.0076461 ** \n",
       "factor(quarter_year)2014 Q3:flag_priorityinters 0.0517012 .  \n",
       "factor(quarter_year)2014 Q4:flag_priorityinters 0.0003870 ***\n",
       "factor(quarter_year)2015 Q1:flag_priorityinters 1.003e-10 ***\n",
       "factor(quarter_year)2015 Q2:flag_priorityinters 0.0001351 ***\n",
       "factor(quarter_year)2015 Q3:flag_priorityinters 0.3748826    \n",
       "factor(quarter_year)2015 Q4:flag_priorityinters 0.0035286 ** \n",
       "factor(quarter_year)2016 Q1:flag_priorityinters 4.931e-05 ***\n",
       "factor(quarter_year)2016 Q2:flag_priorityinters 1.934e-11 ***\n",
       "factor(quarter_year)2016 Q3:flag_priorityinters < 2.2e-16 ***\n",
       "factor(quarter_year)2016 Q4:flag_priorityinters < 2.2e-16 ***\n",
       "factor(quarter_year)2017 Q1:flag_priorityinters < 2.2e-16 ***\n",
       "factor(quarter_year)2017 Q2:flag_priorityinters < 2.2e-16 ***\n",
       "factor(quarter_year)2017 Q3:flag_priorityinters < 2.2e-16 ***\n",
       "factor(quarter_year)2017 Q4:flag_priorityinters < 2.2e-16 ***\n",
       "factor(quarter_year)2018 Q1:flag_priorityinters < 2.2e-16 ***\n",
       "factor(quarter_year)2018 Q2:flag_priorityinters < 2.2e-16 ***\n",
       "factor(quarter_year)2018 Q3:flag_priorityinters < 2.2e-16 ***\n",
       "factor(quarter_year)2012 Q4:flag_seniors        0.0233636 *  \n",
       "factor(quarter_year)2013 Q1:flag_seniors        0.9357132    \n",
       "factor(quarter_year)2013 Q2:flag_seniors        0.3724017    \n",
       "factor(quarter_year)2013 Q3:flag_seniors        0.1390421    \n",
       "factor(quarter_year)2013 Q4:flag_seniors        0.0185026 *  \n",
       "factor(quarter_year)2014 Q1:flag_seniors        0.0972950 .  \n",
       "factor(quarter_year)2014 Q2:flag_seniors        0.0686447 .  \n",
       "factor(quarter_year)2014 Q3:flag_seniors        0.5337454    \n",
       "factor(quarter_year)2014 Q4:flag_seniors        0.2135326    \n",
       "factor(quarter_year)2015 Q1:flag_seniors        0.9581594    \n",
       "factor(quarter_year)2015 Q2:flag_seniors        0.0457977 *  \n",
       "factor(quarter_year)2015 Q3:flag_seniors        0.2325398    \n",
       "factor(quarter_year)2015 Q4:flag_seniors        0.0266906 *  \n",
       "factor(quarter_year)2016 Q1:flag_seniors        0.9589383    \n",
       "factor(quarter_year)2016 Q2:flag_seniors        0.0032411 ** \n",
       "factor(quarter_year)2016 Q3:flag_seniors        0.0407221 *  \n",
       "factor(quarter_year)2016 Q4:flag_seniors        0.1516052    \n",
       "factor(quarter_year)2017 Q1:flag_seniors        0.3612709    \n",
       "factor(quarter_year)2017 Q2:flag_seniors        0.7408185    \n",
       "factor(quarter_year)2017 Q3:flag_seniors        0.7218741    \n",
       "factor(quarter_year)2017 Q4:flag_seniors        0.8283637    \n",
       "factor(quarter_year)2018 Q1:flag_seniors        0.0023864 ** \n",
       "factor(quarter_year)2018 Q2:flag_seniors        0.2851166    \n",
       "factor(quarter_year)2018 Q3:flag_seniors        0.0027477 ** \n",
       "---\n",
       "Signif. codes:  0 '***' 0.001 '**' 0.01 '*' 0.05 '.' 0.1 ' ' 1\n",
       "\n",
       "Total Sum of Squares:    253090\n",
       "Residual Sum of Squares: 230520\n",
       "R-Squared:      0.089177\n",
       "Adj. R-Squared: 0.049793\n",
       "F-statistic: 64.1928 on 100 and 65564 DF, p-value: < 2.22e-16"
      ]
     },
     "metadata": {},
     "output_type": "display_data"
    }
   ],
   "source": [
    "# Fixed effects Linear panel regression\n",
    "fe <- plm(model, data = mydata, index = c(\"intersection_id\",\"quarter_year\"), model = \"within\")\n",
    "summary(fe)"
   ]
  },
  {
   "cell_type": "code",
   "execution_count": 55,
   "metadata": {},
   "outputs": [
    {
     "data": {
      "text/plain": [
       "\n",
       "\tF test for individual effects\n",
       "\n",
       "data:  model\n",
       "F = 46.676, df1 = 2732, df2 = 65564, p-value < 2.2e-16\n",
       "alternative hypothesis: significant effects\n"
      ]
     },
     "metadata": {},
     "output_type": "display_data"
    }
   ],
   "source": [
    "pFtest(fe, ols) "
   ]
  },
  {
   "cell_type": "code",
   "execution_count": 56,
   "metadata": {},
   "outputs": [
    {
     "data": {
      "text/plain": [
       "Oneway (individual) effect Random Effect Model \n",
       "   (Swamy-Arora's transformation)\n",
       "\n",
       "Call:\n",
       "plm(formula = model, data = mydata, model = \"random\", index = c(\"intersection_id\", \n",
       "    \"quarter_year\"))\n",
       "\n",
       "Balanced Panel: n = 2736, T = 25, N = 68400\n",
       "\n",
       "Effects:\n",
       "                var std.dev share\n",
       "idiosyncratic 3.516   1.875 0.359\n",
       "individual    6.274   2.505 0.641\n",
       "theta: 0.8519\n",
       "\n",
       "Residuals:\n",
       "     Min.   1st Qu.    Median   3rd Qu.      Max. \n",
       "-11.05516  -1.03055  -0.29128   0.72121  25.17014 \n",
       "\n",
       "Coefficients:\n",
       "                                                  Estimate Std. Error  t-value\n",
       "(Intercept)                                      2.6677704  0.0738338  36.1321\n",
       "flag_LPIS                                       -0.0718526  0.0377779  -1.9020\n",
       "factor(quarter_year)2012 Q4                     -0.2766825  0.0611402  -4.5254\n",
       "factor(quarter_year)2013 Q1                     -0.4387618  0.0611402  -7.1763\n",
       "factor(quarter_year)2013 Q2                      0.0319220  0.0611420   0.5221\n",
       "factor(quarter_year)2013 Q3                     -0.0543082  0.0611447  -0.8882\n",
       "factor(quarter_year)2013 Q4                     -0.0897538  0.0611534  -1.4677\n",
       "factor(quarter_year)2014 Q1                     -0.4676250  0.0611535  -7.6467\n",
       "factor(quarter_year)2014 Q2                      0.0018443  0.0611622   0.0302\n",
       "factor(quarter_year)2014 Q3                     -0.0426370  0.0611652  -0.6971\n",
       "factor(quarter_year)2014 Q4                     -0.1026982  0.0611676  -1.6790\n",
       "factor(quarter_year)2015 Q1                     -0.5059027  0.0611697  -8.2705\n",
       "factor(quarter_year)2015 Q2                      0.0284268  0.0611907   0.4646\n",
       "factor(quarter_year)2015 Q3                      0.0219308  0.0612348   0.3581\n",
       "factor(quarter_year)2015 Q4                      0.0729415  0.0612526   1.1908\n",
       "factor(quarter_year)2016 Q1                     -0.3495912  0.0612560  -5.7071\n",
       "factor(quarter_year)2016 Q2                     -0.6973748  0.0612592 -11.3840\n",
       "factor(quarter_year)2016 Q3                     -1.3169470  0.0613038 -21.4823\n",
       "factor(quarter_year)2016 Q4                     -1.3355048  0.0613143 -21.7813\n",
       "factor(quarter_year)2017 Q1                     -1.1204924  0.0613511 -18.2636\n",
       "factor(quarter_year)2017 Q2                     -0.6598468  0.0614025 -10.7462\n",
       "factor(quarter_year)2017 Q3                     -1.0422676  0.0614144 -16.9711\n",
       "factor(quarter_year)2017 Q4                     -0.9468816  0.0614481 -15.4095\n",
       "factor(quarter_year)2018 Q1                     -0.9613316  0.0614631 -15.6408\n",
       "factor(quarter_year)2018 Q2                     -0.6789406  0.0616466 -11.0134\n",
       "factor(quarter_year)2018 Q3                     -0.8657277  0.0617688 -14.0156\n",
       "bike_route_tv                                    0.2238638  0.0464560   4.8188\n",
       "flag_street_improv                              -0.4291456  0.0926326  -4.6328\n",
       "flag_left_turn                                  -0.9151886  0.1051674  -8.7022\n",
       "flag_school                                     -0.9845904  0.2754806  -3.5741\n",
       "flag_priorityinters                              7.2263894  0.4708319  15.3481\n",
       "flag_seniors                                     0.7603709  0.1331924   5.7088\n",
       "factor(quarter_year)2012 Q4:flag_school          0.3505828  0.2334763   1.5016\n",
       "factor(quarter_year)2013 Q1:flag_school          0.3456859  0.2334763   1.4806\n",
       "factor(quarter_year)2013 Q2:flag_school          0.2336737  0.2334769   1.0008\n",
       "factor(quarter_year)2013 Q3:flag_school          0.0897574  0.2334768   0.3844\n",
       "factor(quarter_year)2013 Q4:flag_school         -0.0150531  0.2334769  -0.0645\n",
       "factor(quarter_year)2014 Q1:flag_school          0.1596312  0.2334769   0.6837\n",
       "factor(quarter_year)2014 Q2:flag_school          0.1943484  0.2334769   0.8324\n",
       "factor(quarter_year)2014 Q3:flag_school          0.0574236  0.2334765   0.2460\n",
       "factor(quarter_year)2014 Q4:flag_school          0.5019173  0.2334762   2.1498\n",
       "factor(quarter_year)2015 Q1:flag_school          0.4994316  0.2334762   2.1391\n",
       "factor(quarter_year)2015 Q2:flag_school          0.0405178  0.2334765   0.1735\n",
       "factor(quarter_year)2015 Q3:flag_school          0.1669350  0.2334777   0.7150\n",
       "factor(quarter_year)2015 Q4:flag_school          0.1777511  0.2334788   0.7613\n",
       "factor(quarter_year)2016 Q1:flag_school          0.1020172  0.2334791   0.4369\n",
       "factor(quarter_year)2016 Q2:flag_school          0.5048203  0.2334790   2.1622\n",
       "factor(quarter_year)2016 Q3:flag_school          0.2622270  0.2334890   1.1231\n",
       "factor(quarter_year)2016 Q4:flag_school          0.3104491  0.2334864   1.3296\n",
       "factor(quarter_year)2017 Q1:flag_school          0.3287307  0.2334880   1.4079\n",
       "factor(quarter_year)2017 Q2:flag_school          0.5304467  0.2334822   2.2719\n",
       "factor(quarter_year)2017 Q3:flag_school          0.4818911  0.2334815   2.0639\n",
       "factor(quarter_year)2017 Q4:flag_school          0.5751065  0.2334821   2.4632\n",
       "factor(quarter_year)2018 Q1:flag_school          0.5304148  0.2334823   2.2718\n",
       "factor(quarter_year)2018 Q2:flag_school          0.2648204  0.2334821   1.1342\n",
       "factor(quarter_year)2018 Q3:flag_school          0.5555566  0.2334806   2.3795\n",
       "factor(quarter_year)2012 Q4:flag_priorityinters -0.7463293  0.3990286  -1.8704\n",
       "factor(quarter_year)2013 Q1:flag_priorityinters -1.4686834  0.3990286  -3.6806\n",
       "factor(quarter_year)2013 Q2:flag_priorityinters -0.7689598  0.3990289  -1.9271\n",
       "factor(quarter_year)2013 Q3:flag_priorityinters -0.2787680  0.3990306  -0.6986\n",
       "factor(quarter_year)2013 Q4:flag_priorityinters  0.0810958  0.3990328   0.2032\n",
       "factor(quarter_year)2014 Q1:flag_priorityinters -1.8730634  0.3990352  -4.6940\n",
       "factor(quarter_year)2014 Q2:flag_priorityinters -1.0621308  0.3990367  -2.6617\n",
       "factor(quarter_year)2014 Q3:flag_priorityinters -0.7740953  0.3990377  -1.9399\n",
       "factor(quarter_year)2014 Q4:flag_priorityinters -1.4125254  0.3990433  -3.5398\n",
       "factor(quarter_year)2015 Q1:flag_priorityinters -2.5762529  0.3990425  -6.4561\n",
       "factor(quarter_year)2015 Q2:flag_priorityinters -1.5209166  0.3990333  -3.8115\n",
       "factor(quarter_year)2015 Q3:flag_priorityinters  0.3506889  0.3991484   0.8786\n",
       "factor(quarter_year)2015 Q4:flag_priorityinters -1.1679326  0.3991510  -2.9260\n",
       "factor(quarter_year)2016 Q1:flag_priorityinters -1.6231919  0.3991475  -4.0666\n",
       "factor(quarter_year)2016 Q2:flag_priorityinters -2.6810696  0.3991439  -6.7171\n",
       "factor(quarter_year)2016 Q3:flag_priorityinters -3.9845650  0.3992040  -9.9813\n",
       "factor(quarter_year)2016 Q4:flag_priorityinters -4.5209030  0.3994097 -11.3190\n",
       "factor(quarter_year)2017 Q1:flag_priorityinters -3.9808542  0.3993738  -9.9677\n",
       "factor(quarter_year)2017 Q2:flag_priorityinters -3.8749406  0.3993388  -9.7034\n",
       "factor(quarter_year)2017 Q3:flag_priorityinters -4.1475811  0.3996094 -10.3791\n",
       "factor(quarter_year)2017 Q4:flag_priorityinters -4.4004089  0.3996775 -11.0099\n",
       "factor(quarter_year)2018 Q1:flag_priorityinters -3.8189152  0.3996730  -9.5551\n",
       "factor(quarter_year)2018 Q2:flag_priorityinters -3.7074227  0.3996447  -9.2768\n",
       "factor(quarter_year)2018 Q3:flag_priorityinters -3.9529288  0.3996496  -9.8910\n",
       "factor(quarter_year)2012 Q4:flag_seniors         0.2549629  0.1127944   2.2604\n",
       "factor(quarter_year)2013 Q1:flag_seniors         0.0084505  0.1127944   0.0749\n",
       "factor(quarter_year)2013 Q2:flag_seniors         0.0999619  0.1127940   0.8862\n",
       "factor(quarter_year)2013 Q3:flag_seniors         0.1652303  0.1128024   1.4648\n",
       "factor(quarter_year)2013 Q4:flag_seniors         0.2642099  0.1127990   2.3423\n",
       "factor(quarter_year)2014 Q1:flag_seniors         0.1856128  0.1127990   1.6455\n",
       "factor(quarter_year)2014 Q2:flag_seniors         0.2039942  0.1128040   1.8084\n",
       "factor(quarter_year)2014 Q3:flag_seniors        -0.0716582  0.1128053  -0.6352\n",
       "factor(quarter_year)2014 Q4:flag_seniors         0.1367608  0.1128422   1.2120\n",
       "factor(quarter_year)2015 Q1:flag_seniors        -0.0093034  0.1128427  -0.0824\n",
       "factor(quarter_year)2015 Q2:flag_seniors         0.2221754  0.1128334   1.9691\n",
       "factor(quarter_year)2015 Q3:flag_seniors         0.1313287  0.1128330   1.1639\n",
       "factor(quarter_year)2015 Q4:flag_seniors         0.2460935  0.1128474   2.1808\n",
       "factor(quarter_year)2016 Q1:flag_seniors        -0.0096652  0.1128491  -0.0856\n",
       "factor(quarter_year)2016 Q2:flag_seniors        -0.3361856  0.1128542  -2.9789\n",
       "factor(quarter_year)2016 Q3:flag_seniors        -0.2380720  0.1129504  -2.1078\n",
       "factor(quarter_year)2016 Q4:flag_seniors        -0.1709463  0.1130278  -1.5124\n",
       "factor(quarter_year)2017 Q1:flag_seniors        -0.1129651  0.1130907  -0.9989\n",
       "factor(quarter_year)2017 Q2:flag_seniors        -0.0481766  0.1132052  -0.4256\n",
       "factor(quarter_year)2017 Q3:flag_seniors         0.0294961  0.1132089   0.2605\n",
       "factor(quarter_year)2017 Q4:flag_seniors        -0.0360632  0.1132235  -0.3185\n",
       "factor(quarter_year)2018 Q1:flag_seniors        -0.3553328  0.1132226  -3.1384\n",
       "factor(quarter_year)2018 Q2:flag_seniors        -0.1314251  0.1131176  -1.1618\n",
       "factor(quarter_year)2018 Q3:flag_seniors        -0.3490210  0.1131040  -3.0858\n",
       "                                                 Pr(>|t|)    \n",
       "(Intercept)                                     < 2.2e-16 ***\n",
       "flag_LPIS                                       0.0571787 .  \n",
       "factor(quarter_year)2012 Q4                     6.039e-06 ***\n",
       "factor(quarter_year)2013 Q1                     7.234e-13 ***\n",
       "factor(quarter_year)2013 Q2                     0.6016046    \n",
       "factor(quarter_year)2013 Q3                     0.3744412    \n",
       "factor(quarter_year)2013 Q4                     0.1421953    \n",
       "factor(quarter_year)2014 Q1                     2.088e-14 ***\n",
       "factor(quarter_year)2014 Q2                     0.9759438    \n",
       "factor(quarter_year)2014 Q3                     0.4857551    \n",
       "factor(quarter_year)2014 Q4                     0.0931639 .  \n",
       "factor(quarter_year)2015 Q1                     < 2.2e-16 ***\n",
       "factor(quarter_year)2015 Q2                     0.6422474    \n",
       "factor(quarter_year)2015 Q3                     0.7202383    \n",
       "factor(quarter_year)2015 Q4                     0.2337243    \n",
       "factor(quarter_year)2016 Q1                     1.154e-08 ***\n",
       "factor(quarter_year)2016 Q2                     < 2.2e-16 ***\n",
       "factor(quarter_year)2016 Q3                     < 2.2e-16 ***\n",
       "factor(quarter_year)2016 Q4                     < 2.2e-16 ***\n",
       "factor(quarter_year)2017 Q1                     < 2.2e-16 ***\n",
       "factor(quarter_year)2017 Q2                     < 2.2e-16 ***\n",
       "factor(quarter_year)2017 Q3                     < 2.2e-16 ***\n",
       "factor(quarter_year)2017 Q4                     < 2.2e-16 ***\n",
       "factor(quarter_year)2018 Q1                     < 2.2e-16 ***\n",
       "factor(quarter_year)2018 Q2                     < 2.2e-16 ***\n",
       "factor(quarter_year)2018 Q3                     < 2.2e-16 ***\n",
       "bike_route_tv                                   1.447e-06 ***\n",
       "flag_street_improv                              3.615e-06 ***\n",
       "flag_left_turn                                  < 2.2e-16 ***\n",
       "flag_school                                     0.0003517 ***\n",
       "flag_priorityinters                             < 2.2e-16 ***\n",
       "flag_seniors                                    1.142e-08 ***\n",
       "factor(quarter_year)2012 Q4:flag_school         0.1332109    \n",
       "factor(quarter_year)2013 Q1:flag_school         0.1387168    \n",
       "factor(quarter_year)2013 Q2:flag_school         0.3169063    \n",
       "factor(quarter_year)2013 Q3:flag_school         0.7006550    \n",
       "factor(quarter_year)2013 Q4:flag_school         0.9485933    \n",
       "factor(quarter_year)2014 Q1:flag_school         0.4941587    \n",
       "factor(quarter_year)2014 Q2:flag_school         0.4051808    \n",
       "factor(quarter_year)2014 Q3:flag_school         0.8057214    \n",
       "factor(quarter_year)2014 Q4:flag_school         0.0315779 *  \n",
       "factor(quarter_year)2015 Q1:flag_school         0.0324302 *  \n",
       "factor(quarter_year)2015 Q2:flag_school         0.8622266    \n",
       "factor(quarter_year)2015 Q3:flag_school         0.4746154    \n",
       "factor(quarter_year)2015 Q4:flag_school         0.4464712    \n",
       "factor(quarter_year)2016 Q1:flag_school         0.6621537    \n",
       "factor(quarter_year)2016 Q2:flag_school         0.0306089 *  \n",
       "factor(quarter_year)2016 Q3:flag_school         0.2614072    \n",
       "factor(quarter_year)2016 Q4:flag_school         0.1836468    \n",
       "factor(quarter_year)2017 Q1:flag_school         0.1591615    \n",
       "factor(quarter_year)2017 Q2:flag_school         0.0230960 *  \n",
       "factor(quarter_year)2017 Q3:flag_school         0.0390274 *  \n",
       "factor(quarter_year)2017 Q4:flag_school         0.0137738 *  \n",
       "factor(quarter_year)2018 Q1:flag_school         0.0231044 *  \n",
       "factor(quarter_year)2018 Q2:flag_school         0.2567057    \n",
       "factor(quarter_year)2018 Q3:flag_school         0.0173410 *  \n",
       "factor(quarter_year)2012 Q4:flag_priorityinters 0.0614373 .  \n",
       "factor(quarter_year)2013 Q1:flag_priorityinters 0.0002328 ***\n",
       "factor(quarter_year)2013 Q2:flag_priorityinters 0.0539741 .  \n",
       "factor(quarter_year)2013 Q3:flag_priorityinters 0.4847962    \n",
       "factor(quarter_year)2013 Q4:flag_priorityinters 0.8389552    \n",
       "factor(quarter_year)2014 Q1:flag_priorityinters 2.685e-06 ***\n",
       "factor(quarter_year)2014 Q2:flag_priorityinters 0.0077757 ** \n",
       "factor(quarter_year)2014 Q3:flag_priorityinters 0.0523953 .  \n",
       "factor(quarter_year)2014 Q4:flag_priorityinters 0.0004007 ***\n",
       "factor(quarter_year)2015 Q1:flag_priorityinters 1.082e-10 ***\n",
       "factor(quarter_year)2015 Q2:flag_priorityinters 0.0001382 ***\n",
       "factor(quarter_year)2015 Q3:flag_priorityinters 0.3796252    \n",
       "factor(quarter_year)2015 Q4:flag_priorityinters 0.0034342 ** \n",
       "factor(quarter_year)2016 Q1:flag_priorityinters 4.775e-05 ***\n",
       "factor(quarter_year)2016 Q2:flag_priorityinters 1.869e-11 ***\n",
       "factor(quarter_year)2016 Q3:flag_priorityinters < 2.2e-16 ***\n",
       "factor(quarter_year)2016 Q4:flag_priorityinters < 2.2e-16 ***\n",
       "factor(quarter_year)2017 Q1:flag_priorityinters < 2.2e-16 ***\n",
       "factor(quarter_year)2017 Q2:flag_priorityinters < 2.2e-16 ***\n",
       "factor(quarter_year)2017 Q3:flag_priorityinters < 2.2e-16 ***\n",
       "factor(quarter_year)2017 Q4:flag_priorityinters < 2.2e-16 ***\n",
       "factor(quarter_year)2018 Q1:flag_priorityinters < 2.2e-16 ***\n",
       "factor(quarter_year)2018 Q2:flag_priorityinters < 2.2e-16 ***\n",
       "factor(quarter_year)2018 Q3:flag_priorityinters < 2.2e-16 ***\n",
       "factor(quarter_year)2012 Q4:flag_seniors        0.0237982 *  \n",
       "factor(quarter_year)2013 Q1:flag_seniors        0.9402786    \n",
       "factor(quarter_year)2013 Q2:flag_seniors        0.3754944    \n",
       "factor(quarter_year)2013 Q3:flag_seniors        0.1429865    \n",
       "factor(quarter_year)2013 Q4:flag_seniors        0.0191678 *  \n",
       "factor(quarter_year)2014 Q1:flag_seniors        0.0998677 .  \n",
       "factor(quarter_year)2014 Q2:flag_seniors        0.0705495 .  \n",
       "factor(quarter_year)2014 Q3:flag_seniors        0.5252755    \n",
       "factor(quarter_year)2014 Q4:flag_seniors        0.2255301    \n",
       "factor(quarter_year)2015 Q1:flag_seniors        0.9342923    \n",
       "factor(quarter_year)2015 Q2:flag_seniors        0.0489506 *  \n",
       "factor(quarter_year)2015 Q3:flag_seniors        0.2444599    \n",
       "factor(quarter_year)2015 Q4:flag_seniors        0.0292043 *  \n",
       "factor(quarter_year)2016 Q1:flag_seniors        0.9317473    \n",
       "factor(quarter_year)2016 Q2:flag_seniors        0.0028935 ** \n",
       "factor(quarter_year)2016 Q3:flag_seniors        0.0350556 *  \n",
       "factor(quarter_year)2016 Q4:flag_seniors        0.1304299    \n",
       "factor(quarter_year)2017 Q1:flag_seniors        0.3178517    \n",
       "factor(quarter_year)2017 Q2:flag_seniors        0.6704235    \n",
       "factor(quarter_year)2017 Q3:flag_seniors        0.7944436    \n",
       "factor(quarter_year)2017 Q4:flag_seniors        0.7500966    \n",
       "factor(quarter_year)2018 Q1:flag_seniors        0.0016997 ** \n",
       "factor(quarter_year)2018 Q2:flag_seniors        0.2453028    \n",
       "factor(quarter_year)2018 Q3:flag_seniors        0.0020306 ** \n",
       "---\n",
       "Signif. codes:  0 '***' 0.001 '**' 0.01 '*' 0.05 '.' 0.1 ' ' 1\n",
       "\n",
       "Total Sum of Squares:    263840\n",
       "Residual Sum of Squares: 240460\n",
       "R-Squared:      0.088598\n",
       "Adj. R-Squared: 0.087224\n",
       "F-statistic: 64.4574 on 103 and 68296 DF, p-value: < 2.22e-16"
      ]
     },
     "metadata": {},
     "output_type": "display_data"
    }
   ],
   "source": [
    "# Random effects Linear panel regression\n",
    "re <- plm(model, data = mydata, index = c(\"intersection_id\",\"quarter_year\"), model = \"random\")\n",
    "summary(re)"
   ]
  },
  {
   "cell_type": "code",
   "execution_count": 57,
   "metadata": {},
   "outputs": [
    {
     "data": {
      "text/plain": [
       "\n",
       "\tHausman Test\n",
       "\n",
       "data:  model\n",
       "chisq = 117.89, df = 100, p-value = 0.1069\n",
       "alternative hypothesis: one model is inconsistent\n"
      ]
     },
     "metadata": {},
     "output_type": "display_data"
    }
   ],
   "source": [
    "# Hausman test\n",
    "phtest(fe, re)"
   ]
  },
  {
   "cell_type": "markdown",
   "metadata": {},
   "source": [
    "Hausman test is no longer significant."
   ]
  },
  {
   "cell_type": "code",
   "execution_count": 62,
   "metadata": {},
   "outputs": [],
   "source": [
    "#Create cross section of panel data\n",
    "subset.myshp <- myshp[ which(myshp$quarter_year=='2014 Q3'), ]"
   ]
  },
  {
   "cell_type": "code",
   "execution_count": 63,
   "metadata": {},
   "outputs": [
    {
     "data": {
      "text/plain": [
       "\n",
       "2014 Q3 \n",
       "   2736 "
      ]
     },
     "metadata": {},
     "output_type": "display_data"
    }
   ],
   "source": [
    "table(subset.myshp@data$quarter_year)"
   ]
  },
  {
   "cell_type": "code",
   "execution_count": 64,
   "metadata": {},
   "outputs": [
    {
     "data": {
      "text/plain": [
       "Object of class SpatialPolygonsDataFrame\n",
       "Coordinates:\n",
       "        min       max\n",
       "x -74.00293 -73.97309\n",
       "y  40.73353  40.76794\n",
       "Is projected: FALSE \n",
       "proj4string :\n",
       "[+proj=longlat +datum=WGS84 +no_defs +ellps=WGS84 +towgs84=0,0,0]\n",
       "Data attributes:\n",
       " collision_count  personsinjured    pedestriansinjured cyclistinjured  \n",
       " Min.   : 0.000   Min.   : 0.0000   Min.   : 0.000     Min.   :0.0000  \n",
       " 1st Qu.: 0.000   1st Qu.: 0.0000   1st Qu.: 0.000     1st Qu.:0.0000  \n",
       " Median : 2.000   Median : 0.0000   Median : 0.000     Median :0.0000  \n",
       " Mean   : 2.953   Mean   : 0.5095   Mean   : 0.155     Mean   :0.1155  \n",
       " 3rd Qu.: 4.000   3rd Qu.: 1.0000   3rd Qu.: 0.000     3rd Qu.:0.0000  \n",
       " Max.   :36.000   Max.   :15.0000   Max.   :13.000     Max.   :5.0000  \n",
       " motoristinjured      bronx      brooklyn   manhattan     queens   statenisland\n",
       " Min.   : 0.000   Min.   :0   Min.   :0   Min.   :1   Min.   :0   Min.   :0    \n",
       " 1st Qu.: 0.000   1st Qu.:0   1st Qu.:0   1st Qu.:1   1st Qu.:0   1st Qu.:0    \n",
       " Median : 0.000   Median :0   Median :0   Median :1   Median :0   Median :0    \n",
       " Mean   : 0.239   Mean   :0   Mean   :0   Mean   :1   Mean   :0   Mean   :0    \n",
       " 3rd Qu.: 0.000   3rd Qu.:0   3rd Qu.:0   3rd Qu.:1   3rd Qu.:0   3rd Qu.:0    \n",
       " Max.   :10.000   Max.   :0   Max.   :0   Max.   :1   Max.   :0   Max.   :0    \n",
       " distance_to_LPIS distance_to_Street distance_to_Sch  distance_to_LTC\n",
       " Min.   :   0     Min.   :  0.000    Min.   :  73.0   Min.   :   0   \n",
       " 1st Qu.: 136     1st Qu.:  2.000    1st Qu.: 370.0   1st Qu.: 732   \n",
       " Median : 441     Median :  3.000    Median : 563.5   Median :1160   \n",
       " Mean   : 452     Mean   :  4.389    Mean   : 644.0   Mean   :1392   \n",
       " 3rd Qu.: 680     3rd Qu.:  3.000    3rd Qu.: 834.0   3rd Qu.:1822   \n",
       " Max.   :2230     Max.   :105.000    Max.   :2443.0   Max.   :5968   \n",
       " distance_to_bikeroute distance_to_truckroute flag_left_turn_ever\n",
       " Min.   :   0.0        Min.   :   0.0         Min.   :0.00000    \n",
       " 1st Qu.:   2.0        1st Qu.:   3.0         1st Qu.:0.00000    \n",
       " Median :  89.5        Median :  28.5         Median :0.00000    \n",
       " Mean   : 290.2        Mean   : 304.6         Mean   :0.02778    \n",
       " 3rd Qu.: 518.0        3rd Qu.: 511.0         3rd Qu.:0.00000    \n",
       " Max.   :1641.0        Max.   :2944.0         Max.   :1.00000    \n",
       " flag_left_turn flag_LPIS_ever    flag_LPIS        bike_route_tv   \n",
       " Min.   :0      Min.   :0.000   Min.   :0.000000   Min.   :0.0000  \n",
       " 1st Qu.:0      1st Qu.:0.000   1st Qu.:0.000000   1st Qu.:0.0000  \n",
       " Median :0      Median :0.000   Median :0.000000   Median :0.0000  \n",
       " Mean   :0      Mean   :0.246   Mean   :0.006214   Mean   :0.3516  \n",
       " 3rd Qu.:0      3rd Qu.:0.000   3rd Qu.:0.000000   3rd Qu.:1.0000  \n",
       " Max.   :0      Max.   :1.000   Max.   :1.000000   Max.   :1.0000  \n",
       " bike_route_ever   flag_seniors    flag_priorityinters  flag_school     \n",
       " Min.   :0.0000   Min.   :0.0000   Min.   :0.00000     Min.   :0.00000  \n",
       " 1st Qu.:0.0000   1st Qu.:0.0000   1st Qu.:0.00000     1st Qu.:0.00000  \n",
       " Median :0.0000   Median :0.0000   Median :0.00000     Median :0.00000  \n",
       " Mean   :0.4192   Mean   :0.2822   Mean   :0.01645     Mean   :0.04971  \n",
       " 3rd Qu.:1.0000   3rd Qu.:1.0000   3rd Qu.:0.00000     3rd Qu.:0.00000  \n",
       " Max.   :1.0000   Max.   :1.0000   Max.   :1.00000     Max.   :1.00000  \n",
       " flag_street_improv    quarter       year      intersection_id \n",
       " Min.   :0.0000     Min.   :3   Min.   :2014   Min.   :   1.0  \n",
       " 1st Qu.:0.0000     1st Qu.:3   1st Qu.:2014   1st Qu.: 731.8  \n",
       " Median :0.0000     Median :3   Median :2014   Median :1453.5  \n",
       " Mean   :0.0106     Mean   :3   Mean   :2014   Mean   :1450.2  \n",
       " 3rd Qu.:0.0000     3rd Qu.:3   3rd Qu.:2014   3rd Qu.:2176.2  \n",
       " Max.   :1.0000     Max.   :3   Max.   :2014   Max.   :4218.0  \n",
       "       y               x              quarter_year \n",
       " Min.   :194842   Length:2736        Min.   :2014  \n",
       " 1st Qu.:207989   Class :character   1st Qu.:2014  \n",
       " Median :219132   Mode  :character   Median :2014  \n",
       " Mean   :220452                      Mean   :2014  \n",
       " 3rd Qu.:230968                      3rd Qu.:2014  \n",
       " Max.   :258883                      Max.   :2014  "
      ]
     },
     "metadata": {},
     "output_type": "display_data"
    }
   ],
   "source": [
    "summary(subset.myshp)"
   ]
  },
  {
   "cell_type": "code",
   "execution_count": 65,
   "metadata": {},
   "outputs": [
    {
     "data": {
      "image/png": "[encoded data removed]",
      "text/plain": [
       "plot without title"
      ]
     },
     "metadata": {},
     "output_type": "display_data"
    }
   ],
   "source": [
    "plot(subset.myshp)"
   ]
  },
  {
   "cell_type": "code",
   "execution_count": 32,
   "metadata": {},
   "outputs": [],
   "source": [
    "# Calculate contiguity queen neighbors\n",
    "myshp_nb <- poly2nb(subset.myshp, queen = TRUE)"
   ]
  },
  {
   "cell_type": "code",
   "execution_count": 33,
   "metadata": {},
   "outputs": [
    {
     "name": "stdout",
     "output_type": "stream",
     "text": [
      "Neighbour list object:\n",
      "Number of regions: 12987 \n",
      "Number of nonzero links: 77720 \n",
      "Percentage nonzero weights: 0.04608028 \n",
      "Average number of links: 5.984446 \n",
      "Link number distribution:\n",
      "\n",
      "   2    3    4    5    6    7    8    9   10   11   12   13   14   15   16   17 \n",
      "   3   66 1470 3544 4144 2278  825  359  160   69   30   15   12    7    2    1 \n",
      "  19   20 \n",
      "   1    1 \n",
      "3 least connected regions:\n",
      "2769 10139 12801 with 2 links\n",
      "1 most connected region:\n",
      "5579 with 20 links\n"
     ]
    }
   ],
   "source": [
    "summary(myshp_nb)"
   ]
  },
  {
   "cell_type": "code",
   "execution_count": 34,
   "metadata": {},
   "outputs": [],
   "source": [
    " myshp_nb_w <- nb2listw(myshp_nb,glist=NULL,style=\"W\",zero.policy=FALSE) "
   ]
  },
  {
   "cell_type": "code",
   "execution_count": 35,
   "metadata": {},
   "outputs": [
    {
     "data": {
      "image/png": "[encoded data removed]",
      "text/plain": [
       "plot without title"
      ]
     },
     "metadata": {},
     "output_type": "display_data"
    }
   ],
   "source": [
    "plot(myshp_nb_w,coordinates(subset.myshp))\n"
   ]
  },
  {
   "cell_type": "code",
   "execution_count": 36,
   "metadata": {},
   "outputs": [],
   "source": [
    "model2 = collision_count~flag_LPIS\n",
    "model = collision_count~flag_LPIS+factor(quarter_year)+bike_route_tv+flag_street_improv+flag_left_turn+flag_school*factor(quarter_year)+flag_priorityinters*factor(quarter_year)+flag_seniors*factor(quarter_year)"
   ]
  },
  {
   "cell_type": "code",
   "execution_count": 37,
   "metadata": {},
   "outputs": [
    {
     "data": {
      "text/plain": [
       "Spatial panel fixed effects error model\n",
       " \n",
       "\n",
       "Call:\n",
       "spml(formula = model2, data = mydata, index = c(\"intersection_id\", \n",
       "    \"quarter_year\"), listw = myshp_nb_w, model = \"within\", lag = FALSE, \n",
       "    spatial.error = \"b\")\n",
       "\n",
       "Residuals:\n",
       "   Min. 1st Qu.  Median 3rd Qu.    Max. \n",
       "-17.360  -0.760  -0.040   0.520  61.572 \n",
       "\n",
       "Spatial error parameter:\n",
       "     Estimate Std. Error t-value  Pr(>|t|)    \n",
       "rho 0.2046916  0.0027504  74.424 < 2.2e-16 ***\n",
       "\n",
       "Coefficients:\n",
       "           Estimate Std. Error t-value  Pr(>|t|)    \n",
       "flag_LPIS -0.411646   0.014458 -28.471 < 2.2e-16 ***\n",
       "---\n",
       "Signif. codes:  0 '***' 0.001 '**' 0.01 '*' 0.05 '.' 0.1 ' ' 1\n"
      ]
     },
     "metadata": {},
     "output_type": "display_data"
    }
   ],
   "source": [
    "fespaterr <- spml(model2, data = mydata, listw = myshp_nb_w, index = c(\"intersection_id\",\"quarter_year\"),\n",
    "                   model=\"within\", spatial.error=\"b\", lag = FALSE)\n",
    "summary(fespaterr)"
   ]
  },
  {
   "cell_type": "code",
   "execution_count": null,
   "metadata": {},
   "outputs": [],
   "source": [
    "impacts(fespaterr,listw = myshp_nb_w, time = 25)"
   ]
  },
  {
   "cell_type": "code",
   "execution_count": null,
   "metadata": {},
   "outputs": [],
   "source": [
    "fespatlag <- spml(model2, data = mydata, listw = myshp_nb_w, index = c(\"intersection_id\",\"quarter_year\"),\n",
    "                   model=\"within\", lag = TRUE)\n",
    "summary(fespatlag)"
   ]
  },
  {
   "cell_type": "code",
   "execution_count": null,
   "metadata": {},
   "outputs": [],
   "source": [
    "#The alternative hypothesis is one of no random regional effects\n",
    "bsktest(x = model2, data = mydata, index = c(\"intersection_id\",\"quarter_year\"), listw = myshp_nb_w, test = \"LM1\")"
   ]
  },
  {
   "cell_type": "code",
   "execution_count": null,
   "metadata": {},
   "outputs": [],
   "source": [
    "#The alternative hypothesis is one of no random regional effects\n",
    "bsktest(x = model2, data = mydata, index = c(\"intersection_id\",\"quarter_year\"), listw = myshp_nb_w,test = \"LM2\")"
   ]
  },
  {
   "cell_type": "code",
   "execution_count": null,
   "metadata": {},
   "outputs": [],
   "source": [
    "#check for spatial correlation in the errors of a model that possibly incorporates random effects\n",
    "bsktest(x = model2, data = mydata, index = c(\"intersection_id\",\"quarter_year\"), listw =myshp_nb_w, test = \"CLMlambda\")"
   ]
  },
  {
   "cell_type": "markdown",
   "metadata": {},
   "source": [
    "#spatial hausman \n",
    "sphtest(x = model2, data = mydata, listw = myshp_nb_w, index = c(\"intersection_id\",\"quarter_year\"), \n",
    "        spatial.model = \"error\", method = \"GM\")"
   ]
  },
  {
   "cell_type": "markdown",
   "metadata": {},
   "source": [
    "mod1 <- spgm(formula = fm, data = mydata, index = c(\"intersection_id\",\"quarter_year\"), listw = myshp_nb_w, lag = TRUE, moments = \"fullweights\", model = \"random\", spatial.error = TRUE)\n",
    "mod2 <- spgm(formula = fm, data = mydata, index = c(\"intersection_id\",\"quarter_year\"), listw = myshp_nb_w, lag = TRUE, model = \"within\", spatial.error = TRUE)\n",
    "test2 <- sphtest(x = mod1, x2 = mod2)\n",
    "test2"
   ]
  },
  {
   "cell_type": "code",
   "execution_count": null,
   "metadata": {},
   "outputs": [],
   "source": [
    "memory.limit()"
   ]
  }
 ],
 "metadata": {
  "kernelspec": {
   "display_name": "R",
   "language": "R",
   "name": "ir"
  },
  "language_info": {
   "codemirror_mode": "r",
   "file_extension": ".r",
   "mimetype": "text/x-r-source",
   "name": "R",
   "pygments_lexer": "r",
   "version": "3.5.1"
  }
 },
 "nbformat": 4,
 "nbformat_minor": 2
}
