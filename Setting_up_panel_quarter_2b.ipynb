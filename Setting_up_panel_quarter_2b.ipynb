{
 "cells": [
  {
   "cell_type": "markdown",
   "metadata": {},
   "source": [
    "### Set up the panel for data to be merged in"
   ]
  },
  {
   "cell_type": "code",
   "execution_count": 1,
   "metadata": {},
   "outputs": [
    {
     "name": "stdout",
     "output_type": "stream",
     "text": [
      "\n",
      "\n",
      "D:\\Box Sync\\Policy Evaluation\\dofiles\n",
      "\n",
      "\n",
      "\n",
      "\n",
      "369992\n",
      "\n",
      "number of observations (_N) was 0, now 369,992\n"
     ]
    }
   ],
   "source": [
    "clear\n",
    "cd\n",
    "// There are 13213 signal intersections\n",
    "global intersect = 13213+1\n",
    "global periods_per_year = 4\n",
    "global obs = $periods_per_year*7*($intersect)\n",
    "\n",
    "display $obs\n",
    "set obs $obs"
   ]
  },
  {
   "cell_type": "code",
   "execution_count": 2,
   "metadata": {},
   "outputs": [
    {
     "name": "stdout",
     "output_type": "stream",
     "text": [
      "\n",
      "\n",
      "\n",
      "\n",
      "\n",
      "\n",
      "\n",
      "(26,428 observations deleted)\n",
      "\n",
      "(13,214 observations deleted)\n"
     ]
    }
   ],
   "source": [
    "egen intersection_id = seq(), from(1) to($intersect)\n",
    "sort intersection_id\n",
    "\n",
    "egen quarter = seq(), from(1) to (4) by(intersection_id)\n",
    "egen year = seq(), from(2012) to (2018) block(4) \n",
    "\n",
    "gen quarterly = yq(year,quarter)\n",
    "format quarterly %tq\n",
    "\n",
    "//These are outside of the range of our data\n",
    "drop if quarter <= 2 & year == 2012\n",
    "drop if quarter >= 4 & year == 2018"
   ]
  },
  {
   "cell_type": "markdown",
   "metadata": {},
   "source": [
    "### Merge in Intersection data from \"Signal intersection.ipynb\"\n"
   ]
  },
  {
   "cell_type": "code",
   "execution_count": 3,
   "metadata": {},
   "outputs": [
    {
     "name": "stdout",
     "output_type": "stream",
     "text": [
      "\n",
      "\n",
      "-------------------------------------------------------------------------------\n",
      "merge specs          |\n",
      "       matching type | n:1\n",
      "  mv's on match vars | none\n",
      "  unmatched obs from | using\n",
      "---------------------+---------------------------------------------------------\n",
      "  master        file | <data in memory not named>\n",
      "                 obs | 330350\n",
      "                vars |      4\n",
      "          match vars | intersection_id  (not a key)\n",
      "  -------------------+---------------------------------------------------------\n",
      "  using         file | ..\\working_data\\signal_intersection.dta\n",
      "                 obs |  13213\n",
      "                vars |     38\n",
      "          match vars | intersection_id  (key)\n",
      "---------------------+---------------------------------------------------------\n",
      "variable intersection_id does not uniquely identify observations in the master data\n",
      "result          file | <data in memory not named>\n",
      "                 obs | 330325\n",
      "                vars |     43  (including _merge)\n",
      "         ------------+---------------------------------------------------------\n",
      "              _merge | 330325  obs both in master and using data      (code==3)\n",
      "-------------------------------------------------------------------------------\n"
     ]
    }
   ],
   "source": [
    "// Intersection level data\n",
    "mmerge intersection_id using \"..\\working_data\\signal_intersection.dta\", ///\n",
    "type(n:1) ///\n",
    "unmatched(using) ///\n",
    "umatch(intersection_id)"
   ]
  },
  {
   "cell_type": "code",
   "execution_count": 4,
   "metadata": {},
   "outputs": [
    {
     "name": "stdout",
     "output_type": "stream",
     "text": [
      "\n",
      "Contains data\n",
      "  obs:       330,325                          \n",
      " vars:            42                          \n",
      " size:   153,270,800                          \n",
      "---------------------------------------------------------------------------------------------------------------------------------------------------------------------------------------------------------------------------------------------------------------\n",
      "              storage   display    value\n",
      "variable name   type    format     label      variable label\n",
      "---------------------------------------------------------------------------------------------------------------------------------------------------------------------------------------------------------------------------------------------------------------\n",
      "intersection_id int     %8.0g                 \n",
      "quarter         byte    %8.0g                 \n",
      "year            int     %8.0g                 \n",
      "quarterly       int     %tq                   \n",
      "index           int     %12.0g                \n",
      "y               double  %10.0g                \n",
      "x               double  %10.0g                \n",
      "st1_name        str31   %31s                  \n",
      "st2_name        str32   %32s                  \n",
      "st3_name        str35   %35s                  \n",
      "st4_name        str36   %36s                  \n",
      "dup             byte    %8.0g                 \n",
      "Coordinates     str42   %42s                  \n",
      "distance_to_L~S int     %12.0g                \n",
      "nearest_LPIS    int     %12.0g                \n",
      "date_insta      str10   %10s                  \n",
      "distance_to_S~t int     %12.0g                \n",
      "nearest_Street  long    %12.0g                \n",
      "Number_Tra      str4    %4s                   \n",
      "Number_Par      str4    %4s                   \n",
      "Number_Tot      str4    %4s                   \n",
      "TrafDir         str4    %4s                   \n",
      "distance_to_Sch int     %12.0g                \n",
      "nearest_Sch     long    %10.0g                \n",
      "distance_to_LTC long    %12.0g                \n",
      "nearest_LTC     int     %12.0g                \n",
      "treatment_      str80   %80s                  \n",
      "completion      str10   %10s                  \n",
      "distance_to_S~o long    %12.0g                \n",
      "nearest_StImpro int     %12.0g                \n",
      "DateComplt      str10   %10s                  \n",
      "SIPProjTyp      str53   %53s                  \n",
      "distance_to_b~e int     %12.0g                \n",
      "nearest_biker~e int     %10.0g                \n",
      "distance_to_t~e int     %12.0g                \n",
      "nearest_truck~e long    %12.0g                \n",
      "bname           str13   %13s                  \n",
      "distance_to_p~s int     %12.0g                \n",
      "nearest_prior~s int     %12.0g                \n",
      "Name            str26   %26s                  \n",
      "seniors_ID      byte    %10.0g                \n",
      "_merge          byte    %32.0g     __MERGE    \n",
      "---------------------------------------------------------------------------------------------------------------------------------------------------------------------------------------------------------------------------------------------------------------\n",
      "Sorted by: \n",
      "     Note: Dataset has changed since last saved.\n"
     ]
    }
   ],
   "source": [
    "describe"
   ]
  },
  {
   "cell_type": "markdown",
   "metadata": {},
   "source": [
    "### Create borough dummies\n"
   ]
  },
  {
   "cell_type": "code",
   "execution_count": 5,
   "metadata": {},
   "outputs": [
    {
     "name": "stdout",
     "output_type": "stream",
     "text": [
      "\n",
      "\n",
      "        bname |      Freq.     Percent        Cum.\n",
      "--------------+-----------------------------------\n",
      "        Bronx |     42,600       12.90       12.90\n",
      "     Brooklyn |    117,400       35.54       48.44\n",
      "    Manhattan |     71,775       21.73       70.17\n",
      "       Queens |     82,800       25.07       95.23\n",
      "Staten Island |     15,650        4.74       99.97\n",
      "          nan |        100        0.03      100.00\n",
      "--------------+-----------------------------------\n",
      "        Total |    330,325      100.00\n",
      "\n",
      "\n",
      "\n",
      "\n",
      "\n"
     ]
    }
   ],
   "source": [
    "// Create borough dummies\n",
    "tab bname,m\n",
    "gen bronx = (bname == \"Bronx\")\n",
    "gen brooklyn = (bname == \"Brooklyn\")\n",
    "gen manhattan = (bname == \"Manhattan\")\n",
    "gen queens = (bname == \"Queens\")\n",
    "gen statenisland = (bname == \"Staten Island\")"
   ]
  },
  {
   "cell_type": "markdown",
   "metadata": {},
   "source": [
    "### Lion Street data "
   ]
  },
  {
   "cell_type": "code",
   "execution_count": 6,
   "metadata": {},
   "outputs": [],
   "source": [
    "// Lion Street data \n",
    "// Variables: Number_Tra Number_Par Number_Tot TrafDir distance_to_Street nearest_Street\n",
    "rename Number_Tra num_traveling_lanes\n",
    "rename Number_Par num_parking_lanes\n",
    "rename Number_Tot num_total_lanes\n",
    "rename TrafDir trafdir"
   ]
  },
  {
   "cell_type": "code",
   "execution_count": 7,
   "metadata": {},
   "outputs": [
    {
     "name": "stdout",
     "output_type": "stream",
     "text": [
      "\n",
      "(40,250 real changes made)\n",
      "\n",
      "(79,600 real changes made)\n",
      "\n",
      "(40,275 real changes made)\n",
      "\n",
      "num_traveling_lanes: all characters numeric; replaced as byte\n",
      "(40250 missing values generated)\n",
      "num_parking_lanes: all characters numeric; replaced as byte\n",
      "(79600 missing values generated)\n",
      "num_total_lanes: all characters numeric; replaced as byte\n",
      "(40275 missing values generated)\n"
     ]
    }
   ],
   "source": [
    "replace num_traveling_lanes = \"\" if num_traveling_lanes == \"None\"\n",
    "replace num_parking_lanes = \"\" if num_parking_lanes == \"None\"\n",
    "replace num_total_lanes = \"\" if num_total_lanes == \"None\"\n",
    "destring num_traveling_lanes num_parking_lanes num_total_lanes, replace"
   ]
  },
  {
   "cell_type": "code",
   "execution_count": 8,
   "metadata": {},
   "outputs": [
    {
     "name": "stdout",
     "output_type": "stream",
     "text": [
      "\n",
      "(69,450 real changes made)\n",
      "\n",
      "(66,325 real changes made)\n",
      "\n",
      "(171,825 real changes made)\n",
      "\n",
      "(1,975 real changes made)\n",
      "\n",
      "(20,750 real changes made)\n",
      "\n",
      "trafdir: all characters numeric; replaced as byte\n",
      "(20750 missing values generated)\n",
      "\n",
      "\n"
     ]
    }
   ],
   "source": [
    "replace trafdir = \"1\" if trafdir == \"W\"\n",
    "replace trafdir = \"2\" if trafdir == \"A\"\n",
    "replace trafdir = \"3\" if trafdir == \"T\"\n",
    "replace trafdir = \"4\" if trafdir == \"P\"\n",
    "replace trafdir = \"\" if trafdir == \"None\"\n",
    "destring trafdir, replace\n",
    "\n",
    "label define trafdir1 1 \"With: One-way street, traffic flows with the segment's directionality\" ///\n",
    "2 \"Against: One-way street, traffic flows from against the segment's directionality\" ///\n",
    "3 \"Two-Way: Traffic flows in both directions\" ///\n",
    "4 \"Pedestrian path: Non-vehicular\"\n",
    "label values trafdir trafdir1"
   ]
  },
  {
   "cell_type": "code",
   "execution_count": 9,
   "metadata": {},
   "outputs": [
    {
     "name": "stdout",
     "output_type": "stream",
     "text": [
      "\n",
      "\n",
      "---------------------------------------------------------------------------------------------------------------------------------------------------------------------------------------------------------------------------------------------------------------\n",
      "num_traveling_lanes                                                                                                                                                                                                                                 (unlabeled)\n",
      "---------------------------------------------------------------------------------------------------------------------------------------------------------------------------------------------------------------------------------------------------------------\n",
      "\n",
      "                  type:  numeric (byte)\n",
      "\n",
      "                 range:  [1,8]                        units:  1\n",
      "         unique values:  7                        missing .:  40,250/330,325\n",
      "\n",
      "            tabulation:  Freq.  Value\n",
      "                        97,375  1\n",
      "                       132,575  2\n",
      "                         8,350  3\n",
      "                        47,725  4\n",
      "                         2,275  5\n",
      "                         1,750  6\n",
      "                            25  8\n",
      "                        40,250  .\n",
      "\n",
      "\n",
      "\n",
      "    Variable |        Obs        Mean    Std. Dev.       Min        Max\n",
      "-------------+---------------------------------------------------------\n",
      "num_travel~s |    290,075    2.070327    1.089887          1          8\n",
      "\n",
      "variable num_traveling_lanes was byte now float\n",
      "(40,250 real changes made)\n",
      "\n",
      "\n",
      "---------------------------------------------------------------------------------------------------------------------------------------------------------------------------------------------------------------------------------------------------------------\n",
      "num_parking_lanes                                                                                                                                                                                                                                   (unlabeled)\n",
      "---------------------------------------------------------------------------------------------------------------------------------------------------------------------------------------------------------------------------------------------------------------\n",
      "\n",
      "                  type:  numeric (byte)\n",
      "\n",
      "                 range:  [1,4]                        units:  1\n",
      "         unique values:  3                        missing .:  79,600/330,325\n",
      "\n",
      "            tabulation:  Freq.  Value\n",
      "                        20,700  1\n",
      "                       229,975  2\n",
      "                            50  4\n",
      "                        79,600  .\n",
      "\n",
      "\n",
      "\n",
      "    Variable |        Obs        Mean    Std. Dev.       Min        Max\n",
      "-------------+---------------------------------------------------------\n",
      "num_parkin~s |    250,725    1.917838    .2767815          1          4\n",
      "\n",
      "(79,600 real changes made)\n"
     ]
    }
   ],
   "source": [
    "// Problem 1: Missing intersection data\n",
    "// Solution 1: Inpute it as mean\n",
    "codebook num_traveling_lanes\n",
    "gen mi_number_travel_lanes = mi(num_traveling_lanes), after(num_traveling_lanes)\n",
    "sum num_traveling_lanes\n",
    "replace num_traveling_lanes = r(mean) if mi_number_travel_lanes == 1\n",
    "\n",
    "codebook num_parking_lanes\n",
    "gen mi_number_park_lanes = mi(num_parking_lanes), after(num_parking_lanes)\n",
    "sum num_parking_lanes\n",
    "replace num_parking_lanes = 0 if mi_number_park_lanes == 1"
   ]
  },
  {
   "cell_type": "markdown",
   "metadata": {},
   "source": [
    "### Nearest Bike Route data"
   ]
  },
  {
   "cell_type": "code",
   "execution_count": 10,
   "metadata": {},
   "outputs": [
    {
     "name": "stdout",
     "output_type": "stream",
     "text": [
      "\n",
      "nearest_bikeroute already numeric; no replace\n",
      "\n",
      "\n",
      "-------------------------------------------------------------------------------\n",
      "merge specs          |\n",
      "       matching type | n:1\n",
      "  mv's on match vars | none\n",
      "  unmatched obs from | master\n",
      "---------------------+---------------------------------------------------------\n",
      "  master        file | <data in memory not named>\n",
      "                 obs | 330325\n",
      "                vars |     48\n",
      "          match vars | nearest_bikeroute  (not a key)\n",
      "  -------------------+---------------------------------------------------------\n",
      "  using         file | ..\\working_data\\bike_routes_2263.dta\n",
      "                 obs |  14980\n",
      "                vars |      3  (selection via udrop/ukeep)\n",
      "          match vars | objectid_1  (key)\n",
      "---------------------+---------------------------------------------------------\n",
      "variable nearest_bikeroute does not uniquely identify observations in the master data\n",
      "result          file | <data in memory not named>\n",
      "                 obs | 330325\n",
      "                vars |     52  (including _merge)\n",
      "         ------------+---------------------------------------------------------\n",
      "              _merge | 330325  obs both in master and using data      (code==3)\n",
      "-------------------------------------------------------------------------------\n"
     ]
    }
   ],
   "source": [
    "// Nearest Bike Route data\n",
    "// Variables nearest_bikeroute distance_to_bikeroute\n",
    "destring nearest_bikeroute,replace\n",
    "mmerge nearest_bikeroute using \"..\\working_data\\bike_routes_2263.dta\", ///\n",
    "type(n:1) ///\n",
    "unmatched(master) ///\n",
    "umatch(objectid_1) ///\n",
    "ukeep(date_instd tf_facilit)"
   ]
  },
  {
   "cell_type": "code",
   "execution_count": 11,
   "metadata": {},
   "outputs": [],
   "source": [
    "gen bike_route_install_dt = date(date_instd, \"YMD\"), after(date_instd)\n",
    "format bike_route_install_dt %td\n",
    "gen bike_route_install_mt = mofd(bike_route_install_dt)\n",
    "format bike_route_install_mt %tm\n",
    "gen bike_route_install_qt = qofd(bike_route_install_dt)\n",
    "format bike_route_install_qt %tq\n",
    "drop date_instd"
   ]
  },
  {
   "cell_type": "code",
   "execution_count": 12,
   "metadata": {},
   "outputs": [
    {
     "name": "stdout",
     "output_type": "stream",
     "text": [
      "\n",
      "\n",
      "                    distance_to_bikeroute\n",
      "-------------------------------------------------------------\n",
      "      Percentiles      Smallest\n",
      " 1%            0              0\n",
      " 5%            0              0\n",
      "10%            1              0       Obs             330,325\n",
      "25%            3              0       Sum of Wgt.     330,325\n",
      "\n",
      "50%          537                      Mean           1023.112\n",
      "                        Largest       Std. Dev.      1365.944\n",
      "75%         1416           8907\n",
      "90%         2871           8907       Variance        1865802\n",
      "95%         4039           8907       Skewness        2.00231\n",
      "99%         6101           8907       Kurtosis       7.320251\n",
      "\n",
      "\n",
      "                    distance_to_bikeroute\n",
      "-------------------------------------------------------------\n",
      "      Percentiles      Smallest\n",
      " 1%            0              0\n",
      " 5%            0              0\n",
      "10%            0              0       Obs             165,025\n",
      "25%            1              0       Sum of Wgt.     165,025\n",
      "\n",
      "50%            3                      Mean           122.9515\n",
      "                        Largest       Std. Dev.      176.5845\n",
      "75%          262            536\n",
      "90%          447            536       Variance       31182.09\n",
      "95%          507            536       Skewness       1.105402\n",
      "99%          530            536       Kurtosis        2.69221\n",
      "\n",
      "\n",
      "\n",
      "bike_route_ |\n",
      "       ever |      Freq.     Percent        Cum.\n",
      "------------+-----------------------------------\n",
      "          0 |    245,200       74.23       74.23\n",
      "          1 |     85,125       25.77      100.00\n",
      "------------+-----------------------------------\n",
      "      Total |    330,325      100.00\n",
      "\n",
      "\n",
      "\n",
      "(74,140 real changes made)\n",
      "\n"
     ]
    }
   ],
   "source": [
    "// Determine if collision is on bike route\n",
    "sum distance_to_bikeroute, detail\n",
    "sum distance_to_bikeroute if distance_to_bikeroute < r(p50) , detail\n",
    "\n",
    "gen bike_route_ever = distance_to_bikeroute <= 3\n",
    "tab bike_route_ever\n",
    "label variable bike_route_ever \"Indicates that bike route passes through this intersection (<3 ft)\"\n",
    "\n",
    "\n",
    "// Timevarient bike route indicator\n",
    "gen bike_route_tv = 0 \n",
    "replace bike_route_tv = 1 if quarterly >= bike_route_install_qt & bike_route_ever == 1\n",
    "\n",
    "label variable bike_route_tv \"Indicates that bike route passes through this intersection timevarient(<3 ft)\""
   ]
  },
  {
   "cell_type": "markdown",
   "metadata": {},
   "source": [
    "## Truck Route"
   ]
  },
  {
   "cell_type": "code",
   "execution_count": 13,
   "metadata": {},
   "outputs": [
    {
     "name": "stdout",
     "output_type": "stream",
     "text": [
      "\n",
      "\n",
      "                   distance_to_truckroute\n",
      "-------------------------------------------------------------\n",
      "      Percentiles      Smallest\n",
      " 1%            2              0\n",
      " 5%            2              0\n",
      "10%            2              0       Obs             330,325\n",
      "25%            3              0       Sum of Wgt.     330,325\n",
      "\n",
      "50%          263                      Mean           551.0966\n",
      "                        Largest       Std. Dev.      753.6419\n",
      "75%          827           9622\n",
      "90%         1569           9622       Variance       567976.1\n",
      "95%         2118           9622       Skewness       2.078691\n",
      "99%         3125           9622       Kurtosis       10.19186\n",
      "\n",
      "\n",
      "                   distance_to_truckroute\n",
      "-------------------------------------------------------------\n",
      "      Percentiles      Smallest\n",
      " 1%            1              0\n",
      " 5%            2              0\n",
      "10%            2              0       Obs             164,775\n",
      "25%            2              0       Sum of Wgt.     164,775\n",
      "\n",
      "50%            3                      Mean           21.43559\n",
      "                        Largest       Std. Dev.      51.40433\n",
      "75%           14            262\n",
      "90%           38            262       Variance       2642.405\n",
      "95%          147            262       Skewness       3.559978\n",
      "99%          258            262       Kurtosis       15.04359\n",
      "\n",
      "\n",
      "                   distance_to_truckroute\n",
      "-------------------------------------------------------------\n",
      "      Percentiles      Smallest\n",
      " 1%            1              0\n",
      " 5%            2              0\n",
      "10%            2              0       Obs             147,975\n",
      "25%            2              0       Sum of Wgt.     147,975\n",
      "\n",
      "50%            3                      Mean           6.732218\n",
      "                        Largest       Std. Dev.         8.104\n",
      "75%            7             37\n",
      "90%           21             37       Variance       65.67481\n",
      "95%           27             37       Skewness       1.893073\n",
      "99%           34             37       Kurtosis        5.50722\n",
      "\n",
      "\n",
      "\n",
      "truck_route |      Freq.     Percent        Cum.\n",
      "------------+-----------------------------------\n",
      "          0 |    228,800       69.27       69.27\n",
      "          1 |    101,525       30.73      100.00\n",
      "------------+-----------------------------------\n",
      "      Total |    330,325      100.00\n",
      "\n"
     ]
    }
   ],
   "source": [
    "// Truck route\n",
    "// Determine if collision is on truck route\n",
    "sum distance_to_truckroute, detail\n",
    "sum distance_to_truckroute if distance_to_truckroute < r(p50) , detail\n",
    "sum distance_to_truckroute if distance_to_truckroute < r(p90) , detail\n",
    "gen truck_route = distance_to_truckroute <= 3\n",
    "tab truck_route\n",
    "\n",
    "label variable truck_route \"Indicates that truck route passes through this intersection (<3 ft)\"\n"
   ]
  },
  {
   "cell_type": "markdown",
   "metadata": {},
   "source": [
    "### Left turn intervention"
   ]
  },
  {
   "cell_type": "code",
   "execution_count": 14,
   "metadata": {},
   "outputs": [],
   "source": [
    "// Left turn calming interventions information\n",
    "// Variables treatment_ completion nearest_LTC distance_to_LTC\n",
    "rename treatment_ left_turn_treatment\n",
    "\n",
    "gen left_turn_install_dt = date(completion, \"YMD\"), after(completion)\n",
    "format left_turn_install_dt %td\n",
    "gen int left_turn_install_mt = mofd(left_turn_install_dt), after(left_turn_install_dt)\n",
    "format left_turn_install_mt %tm\n",
    "gen int left_turn_install_qt = qofd(left_turn_install_dt), after(left_turn_install_dt)\n",
    "format left_turn_install_qt %tq\n",
    "drop completion"
   ]
  },
  {
   "cell_type": "code",
   "execution_count": 15,
   "metadata": {},
   "outputs": [
    {
     "name": "stdout",
     "output_type": "stream",
     "text": [
      "\n",
      "\n",
      "(330,325 missing values generated)\n",
      "\n",
      "(5,800 real changes made)\n",
      "\n",
      "(324,525 real changes made)\n",
      "\n",
      "\n",
      "(4,359 real changes made)\n"
     ]
    }
   ],
   "source": [
    "// Matching intersection to closest Left turn calming interventions\n",
    "egen double left_turn_min = min(distance_to_LTC), by(nearest_LTC)\n",
    "gen flag_left_turn_ever = .\n",
    "replace flag_left_turn_ever = 1 if left_turn_min == distance_to_LTC\n",
    "replace flag_left_turn_ever = 0 if mi(flag_left_turn_ever)\n",
    "\n",
    "gen flag_left_turn = flag_left_turn_ever\n",
    "replace flag_left_turn = 0 if flag_left_turn == 1 & quarterly < left_turn_install_qt"
   ]
  },
  {
   "cell_type": "markdown",
   "metadata": {},
   "source": [
    "### Street improvement project"
   ]
  },
  {
   "cell_type": "code",
   "execution_count": 16,
   "metadata": {},
   "outputs": [],
   "source": [
    "// Street Improv Project interventions information\n",
    "// Variable DateComplt SIPProjTyp distance_to_StImpro nearest_StImpro\n",
    "rename SIPProjTyp street_improv_treatment\n",
    "\n",
    "gen street_improv_install_dt = date(DateComplt, \"YMD\"), after(DateComplt)\n",
    "format street_improv_install_dt %td\n",
    "gen int street_improv_install_mt = mofd(street_improv_install_dt), after(street_improv_install_dt)\n",
    "format street_improv_install_mt %tm\n",
    "gen int street_improv_install_qt = qofd(street_improv_install_dt), after(street_improv_install_dt)\n",
    "format street_improv_install_qt %tq\n",
    "drop DateComplt"
   ]
  },
  {
   "cell_type": "code",
   "execution_count": 17,
   "metadata": {},
   "outputs": [
    {
     "name": "stdout",
     "output_type": "stream",
     "text": [
      "\n",
      "\n",
      "(330,325 missing values generated)\n",
      "\n",
      "(9,125 real changes made)\n",
      "\n",
      "(321,200 real changes made)\n",
      "\n",
      "\n",
      "(4,592 real changes made)\n"
     ]
    }
   ],
   "source": [
    "// Matching intersection to closest street improvment interventions\n",
    "egen double street_improv_min = min(distance_to_StImpro), by(nearest_StImpro)\n",
    "gen flag_street_improv_ever = .\n",
    "replace flag_street_improv_ever = 1 if street_improv_min == distance_to_StImpro\n",
    "replace flag_street_improv_ever = 0 if mi(flag_street_improv_ever)\n",
    "\n",
    "gen flag_street_improv = flag_street_improv_ever\n",
    "replace flag_street_improv = 0 if flag_street_improv == 1 & quarterly < street_improv_install_qt"
   ]
  },
  {
   "cell_type": "markdown",
   "metadata": {},
   "source": [
    "### Leading Pedestrian Interval Signal"
   ]
  },
  {
   "cell_type": "code",
   "execution_count": 18,
   "metadata": {},
   "outputs": [],
   "source": [
    "// LPIS information\n",
    "// Variable distance_to_LPIS nearest_LPIS date_insta\n",
    "gen LPIS_install_dt = date(date_insta, \"YMD\")\n",
    "format LPIS_install_dt %td\n",
    "gen int LPIS_install_mt = mofd(LPIS_install_dt), after(LPIS_install_dt)\n",
    "format LPIS_install_mt %tm\n",
    "gen int LPIS_install_qt = qofd(LPIS_install_dt), after(LPIS_install_mt)\n",
    "format LPIS_install_qt %tq \n",
    "gen LPIS_install_yr = year(LPIS_install_dt), after(LPIS_install_qt)\n",
    "drop date_insta"
   ]
  },
  {
   "cell_type": "code",
   "execution_count": 19,
   "metadata": {},
   "outputs": [
    {
     "name": "stdout",
     "output_type": "stream",
     "text": [
      "\n",
      "\n",
      "(330,325 missing values generated)\n",
      "\n",
      "(72,875 real changes made)\n",
      "\n",
      "(257,450 real changes made)\n",
      "\n"
     ]
    }
   ],
   "source": [
    "// Matching intersection to closest LPIS intersection\n",
    "egen double LPIS_min = min(distance_to_LPIS), by(nearest_LPIS)\n",
    "gen flag_LPIS_ever = .\n",
    "replace flag_LPIS_ever = 1 if LPIS_min == distance_to_LPIS\n",
    "replace flag_LPIS_ever = 0 if mi(flag_LPIS_ever)\n",
    "\n",
    "gen flag_LPIS = flag_LPIS_ever"
   ]
  },
  {
   "cell_type": "code",
   "execution_count": 20,
   "metadata": {},
   "outputs": [
    {
     "name": "stdout",
     "output_type": "stream",
     "text": [
      "\n",
      "\n",
      "                       LPIS_install_qt\n",
      "-------------------------------------------------------------\n",
      "      Percentiles      Smallest\n",
      " 1%    1899q4      1899q4\n",
      " 5%    2004q1      1899q4\n",
      "10%    2013q2      1899q4       Obs             330,325\n",
      "25%    2015q4      1899q4       Sum of Wgt.     330,325\n",
      "\n",
      "50%    2016q3                      Mean          2014q2\n",
      "                        Largest       Std. Dev.       51.7974\n",
      "75%    2017q3      2018q3\n",
      "90%    2018q2      2018q3       Variance       2682.971\n",
      "95%    2018q3      2018q3       Skewness      -7.818992\n",
      "99%    2018q3      2018q3       Kurtosis       68.19259\n",
      "\n",
      "\n",
      "---------------------------------------------------------------------------------------------------------------------------------------------------------------------------------------------------------------------------------------------------------------\n",
      "LPIS_install_qt                                                                                                                                                                                                                                     (unlabeled)\n",
      "---------------------------------------------------------------------------------------------------------------------------------------------------------------------------------------------------------------------------------------------------------------\n",
      "\n",
      "                  type:  numeric quarterly date (int)\n",
      "\n",
      "                 range:  [-241,234]                   units:  1\n",
      "       or equivalently:  [1899q4,2018q3]              units:  quarters\n",
      "         unique values:  106                      missing .:  0/330,325\n",
      "\n",
      "                  mean:   217.535 = 2014q2 (+ 1.6 months)\n",
      "              std. dev:   51.7974\n",
      "\n",
      "           percentiles:        10%       25%       50%       75%       90%\n",
      "                               213       223       226       230       233\n",
      "                            2013q2    2015q4    2016q3    2017q3    2018q2\n",
      "\n",
      "no observations\n",
      "\n",
      "no observations\n",
      "\n",
      "\n",
      "    Variable |        Obs        Mean    Std. Dev.       Min        Max\n",
      "-------------+---------------------------------------------------------\n",
      "distance_t~S |          0\n",
      "\n",
      "no observations\n",
      "\n",
      "(0 observations deleted)\n",
      "\n",
      "(47,593 real changes made)\n"
     ]
    }
   ],
   "source": [
    "// Problem2: Missing Install date on some LPIS IDs\n",
    "sum LPIS_install_qt, detail format\n",
    "codebook LPIS_install_qt \n",
    "tab nearest_LPIS if mi(LPIS_install_qt) & flag_LPIS == 1\n",
    "tab intersection_id if mi(LPIS_install_qt) & flag_LPIS == 1\n",
    "sum distance_to_LPIS if mi(LPIS_install_qt)\n",
    "\n",
    "// Solution2: Drop these intersections\n",
    "tab flag_LPIS if mi(LPIS_install_qt)\n",
    "drop if mi(LPIS_install_qt) & flag_LPIS == 1\n",
    "//0 observations deleted\n",
    "\n",
    "// Replace with indicator with 0 if quarter was before LPIS installation\n",
    "replace flag_LPIS = 0 if flag_LPIS == 1 & quarterly < LPIS_install_qt\n",
    "// 47,593 real changes made"
   ]
  },
  {
   "cell_type": "code",
   "execution_count": 21,
   "metadata": {},
   "outputs": [
    {
     "name": "stdout",
     "output_type": "stream",
     "text": [
      "\n",
      "\n",
      "                          quarterly\n",
      "-------------------------------------------------------------\n",
      "      Percentiles      Smallest\n",
      " 1%    2012q3      2012q3\n",
      " 5%    2012q4      2012q3\n",
      "10%    2013q1      2012q3       Obs             330,325\n",
      "25%    2014q1      2012q3       Sum of Wgt.     330,325\n",
      "\n",
      "50%    2015q3                      Mean          2015q3\n",
      "                        Largest       Std. Dev.      7.211113\n",
      "75%    2017q1      2018q3\n",
      "90%    2018q1      2018q3       Variance       52.00016\n",
      "95%    2018q2      2018q3       Skewness              0\n",
      "99%    2018q3      2018q3       Kurtosis       1.796154\n",
      "\n",
      "\n",
      "                       LPIS_install_qt\n",
      "-------------------------------------------------------------\n",
      "      Percentiles      Smallest\n",
      " 1%    1899q4      1899q4\n",
      " 5%    2004q1      1899q4\n",
      "10%    2013q2      1899q4       Obs             330,325\n",
      "25%    2015q4      1899q4       Sum of Wgt.     330,325\n",
      "\n",
      "50%    2016q3                      Mean          2014q2\n",
      "                        Largest       Std. Dev.       51.7974\n",
      "75%    2017q3      2018q3\n",
      "90%    2018q2      2018q3       Variance       2682.971\n",
      "95%    2018q3      2018q3       Skewness      -7.818992\n",
      "99%    2018q3      2018q3       Kurtosis       68.19259\n",
      "\n",
      "\n",
      "  flag_LPIS |      Freq.     Percent        Cum.\n",
      "------------+-----------------------------------\n",
      "          0 |     26,477       82.42       82.42\n",
      "          1 |      5,648       17.58      100.00\n",
      "------------+-----------------------------------\n",
      "      Total |     32,125      100.00\n",
      "\n",
      "\n",
      "intersectio |\n",
      "       n_id |      Freq.     Percent        Cum.\n",
      "------------+-----------------------------------\n",
      "          7 |         25        0.44        0.44\n",
      "          8 |         25        0.44        0.88\n",
      "         17 |         25        0.44        1.33\n",
      "         57 |         25        0.44        1.77\n",
      "         58 |         25        0.44        2.21\n",
      "         61 |         25        0.44        2.65\n",
      "         83 |         25        0.44        3.10\n",
      "        109 |         25        0.44        3.54\n",
      "        149 |         25        0.44        3.98\n",
      "        151 |         25        0.44        4.42\n",
      "        161 |         25        0.44        4.87\n",
      "        230 |         25        0.44        5.31\n",
      "        231 |         25        0.44        5.75\n",
      "        238 |         25        0.44        6.19\n",
      "        239 |         25        0.44        6.64\n",
      "        243 |         25        0.44        7.08\n",
      "        255 |         25        0.44        7.52\n",
      "        256 |         25        0.44        7.96\n",
      "        280 |         25        0.44        8.41\n",
      "        282 |         25        0.44        8.85\n",
      "        286 |         25        0.44        9.29\n",
      "        317 |         25        0.44        9.73\n",
      "        333 |         25        0.44       10.18\n",
      "        449 |         25        0.44       10.62\n",
      "        454 |         25        0.44       11.06\n",
      "        468 |         25        0.44       11.50\n",
      "        511 |         25        0.44       11.95\n",
      "        547 |         25        0.44       12.39\n",
      "        550 |         25        0.44       12.83\n",
      "        557 |         25        0.44       13.27\n",
      "        560 |         25        0.44       13.72\n",
      "        567 |         25        0.44       14.16\n",
      "        582 |         25        0.44       14.60\n",
      "        601 |         25        0.44       15.04\n",
      "        605 |         25        0.44       15.49\n",
      "        606 |         25        0.44       15.93\n",
      "        620 |         25        0.44       16.37\n",
      "        624 |         25        0.44       16.81\n",
      "        628 |         25        0.44       17.26\n",
      "        629 |         25        0.44       17.70\n",
      "        633 |         25        0.44       18.14\n",
      "        642 |         25        0.44       18.58\n",
      "        661 |         25        0.44       19.03\n",
      "        676 |         25        0.44       19.47\n",
      "        692 |         25        0.44       19.91\n",
      "        693 |         25        0.44       20.35\n",
      "        724 |         25        0.44       20.80\n",
      "        800 |         25        0.44       21.24\n",
      "        813 |         25        0.44       21.68\n",
      "        827 |         25        0.44       22.12\n",
      "        858 |         25        0.44       22.57\n",
      "        862 |         25        0.44       23.01\n",
      "        903 |         25        0.44       23.45\n",
      "        914 |         25        0.44       23.89\n",
      "        940 |         25        0.44       24.34\n",
      "        949 |         25        0.44       24.78\n",
      "        964 |         25        0.44       25.22\n",
      "        981 |         25        0.44       25.66\n",
      "        984 |         25        0.44       26.11\n",
      "        986 |         25        0.44       26.55\n",
      "        993 |         25        0.44       26.99\n",
      "       1066 |         25        0.44       27.43\n",
      "       1070 |         25        0.44       27.88\n",
      "       1092 |         25        0.44       28.32\n",
      "       1101 |         25        0.44       28.76\n",
      "       1140 |         25        0.44       29.20\n",
      "       1188 |         25        0.44       29.65\n",
      "       1195 |         25        0.44       30.09\n",
      "       1201 |         25        0.44       30.53\n",
      "       1202 |         25        0.44       30.97\n",
      "       1205 |         25        0.44       31.42\n",
      "       1207 |         25        0.44       31.86\n",
      "       1211 |         25        0.44       32.30\n",
      "       1221 |         25        0.44       32.74\n",
      "       1228 |         25        0.44       33.19\n",
      "       1235 |         25        0.44       33.63\n",
      "       1237 |         25        0.44       34.07\n",
      "       1287 |         25        0.44       34.51\n",
      "       1290 |         25        0.44       34.96\n",
      "       1321 |         25        0.44       35.40\n",
      "       1372 |         25        0.44       35.84\n",
      "       1420 |         25        0.44       36.28\n",
      "       1448 |         25        0.44       36.73\n",
      "       1450 |         25        0.44       37.17\n",
      "       1451 |         25        0.44       37.61\n",
      "       1461 |         25        0.44       38.05\n",
      "       1467 |         25        0.44       38.50\n",
      "       1486 |         25        0.44       38.94\n",
      "       1487 |         25        0.44       39.38\n",
      "       1500 |         25        0.44       39.82\n",
      "       1506 |         25        0.44       40.27\n",
      "       1507 |         25        0.44       40.71\n",
      "       1532 |         25        0.44       41.15\n",
      "       1551 |         25        0.44       41.59\n",
      "       1558 |         25        0.44       42.04\n",
      "       1563 |         25        0.44       42.48\n",
      "       1574 |         25        0.44       42.92\n",
      "       1575 |         25        0.44       43.36\n",
      "       1663 |         25        0.44       43.81\n",
      "       1664 |         25        0.44       44.25\n",
      "       1730 |         25        0.44       44.69\n",
      "       1731 |         25        0.44       45.13\n",
      "       1736 |         25        0.44       45.58\n",
      "       1742 |         25        0.44       46.02\n",
      "       1759 |         25        0.44       46.46\n",
      "       1760 |         25        0.44       46.90\n",
      "       1777 |         25        0.44       47.35\n",
      "       1788 |         25        0.44       47.79\n",
      "       1795 |         25        0.44       48.23\n",
      "       1826 |         25        0.44       48.67\n",
      "       1827 |         25        0.44       49.12\n",
      "       1838 |         25        0.44       49.56\n",
      "       1845 |         25        0.44       50.00\n",
      "       1863 |         25        0.44       50.44\n",
      "       1898 |         25        0.44       50.88\n",
      "       1912 |         25        0.44       51.33\n",
      "       1914 |         25        0.44       51.77\n",
      "       1916 |         25        0.44       52.21\n",
      "       1923 |         25        0.44       52.65\n",
      "       1940 |         25        0.44       53.10\n",
      "       1941 |         25        0.44       53.54\n",
      "       2025 |         25        0.44       53.98\n",
      "       2045 |         25        0.44       54.42\n",
      "       2102 |         25        0.44       54.87\n",
      "       2217 |         25        0.44       55.31\n",
      "       2321 |         25        0.44       55.75\n",
      "       2381 |         25        0.44       56.19\n",
      "       2387 |         25        0.44       56.64\n",
      "       2487 |         25        0.44       57.08\n",
      "       2510 |         25        0.44       57.52\n",
      "       2539 |         25        0.44       57.96\n",
      "       2667 |         25        0.44       58.41\n",
      "       2670 |         25        0.44       58.85\n",
      "       2673 |         25        0.44       59.29\n",
      "       2825 |         25        0.44       59.73\n"
     ]
    },
    {
     "name": "stdout",
     "output_type": "stream",
     "text": [
      "       3005 |         25        0.44       60.18\n",
      "       3140 |         25        0.44       60.62\n",
      "       3455 |         25        0.44       61.06\n",
      "       3561 |         25        0.44       61.50\n",
      "       4090 |         25        0.44       61.95\n",
      "       4340 |         25        0.44       62.39\n",
      "       4701 |         25        0.44       62.83\n",
      "       4735 |         25        0.44       63.27\n",
      "       5042 |         25        0.44       63.72\n",
      "       5054 |         25        0.44       64.16\n",
      "       5276 |         25        0.44       64.60\n",
      "       5278 |         25        0.44       65.04\n",
      "       5285 |         25        0.44       65.49\n",
      "       5314 |         25        0.44       65.93\n",
      "       5345 |         25        0.44       66.37\n",
      "       5346 |         25        0.44       66.81\n",
      "       5348 |         25        0.44       67.26\n",
      "       5363 |         25        0.44       67.70\n",
      "       5385 |         25        0.44       68.14\n",
      "       5398 |         25        0.44       68.58\n",
      "       5418 |         25        0.44       69.03\n",
      "       5429 |         25        0.44       69.47\n",
      "       5430 |         25        0.44       69.91\n",
      "       5467 |         25        0.44       70.35\n",
      "       5514 |         25        0.44       70.80\n",
      "       5566 |         25        0.44       71.24\n",
      "       5638 |         25        0.44       71.68\n",
      "       5685 |         25        0.44       72.12\n",
      "       5708 |         25        0.44       72.57\n",
      "       5761 |         25        0.44       73.01\n",
      "       5805 |         25        0.44       73.45\n",
      "       5827 |         25        0.44       73.89\n",
      "       6030 |         25        0.44       74.34\n",
      "       6152 |         25        0.44       74.78\n",
      "       6153 |         25        0.44       75.22\n",
      "       6179 |         25        0.44       75.66\n",
      "       6255 |         25        0.44       76.11\n",
      "       6318 |         25        0.44       76.55\n",
      "       6428 |         25        0.44       76.99\n",
      "       6751 |         25        0.44       77.43\n",
      "       6807 |         25        0.44       77.88\n",
      "       6822 |         25        0.44       78.32\n",
      "       6868 |         25        0.44       78.76\n",
      "       7316 |         25        0.44       79.20\n",
      "       7506 |         25        0.44       79.65\n",
      "       9193 |         25        0.44       80.09\n",
      "       9299 |         25        0.44       80.53\n",
      "       9516 |         25        0.44       80.97\n",
      "       9821 |         25        0.44       81.42\n",
      "       9830 |         25        0.44       81.86\n",
      "       9831 |         25        0.44       82.30\n",
      "       9832 |         25        0.44       82.74\n",
      "       9833 |         25        0.44       83.19\n",
      "       9834 |         25        0.44       83.63\n",
      "       9835 |         25        0.44       84.07\n",
      "       9836 |         25        0.44       84.51\n",
      "       9837 |         25        0.44       84.96\n",
      "       9838 |         25        0.44       85.40\n",
      "       9839 |         25        0.44       85.84\n",
      "       9840 |         25        0.44       86.28\n",
      "       9841 |         25        0.44       86.73\n",
      "       9842 |         25        0.44       87.17\n",
      "       9843 |         25        0.44       87.61\n",
      "       9844 |         25        0.44       88.05\n",
      "       9845 |         25        0.44       88.50\n",
      "       9846 |         25        0.44       88.94\n",
      "       9942 |         25        0.44       89.38\n",
      "       9993 |         25        0.44       89.82\n",
      "      10016 |         25        0.44       90.27\n",
      "      10037 |         25        0.44       90.71\n",
      "      10040 |         25        0.44       91.15\n",
      "      10190 |         25        0.44       91.59\n",
      "      10309 |         25        0.44       92.04\n",
      "      10456 |         25        0.44       92.48\n",
      "      10576 |         25        0.44       92.92\n",
      "      10676 |         25        0.44       93.36\n",
      "      10818 |         25        0.44       93.81\n",
      "      10825 |         25        0.44       94.25\n",
      "      11024 |         25        0.44       94.69\n",
      "      11027 |         25        0.44       95.13\n",
      "      11268 |         25        0.44       95.58\n",
      "      11284 |         25        0.44       96.02\n",
      "      11358 |         25        0.44       96.46\n",
      "      11719 |         25        0.44       96.90\n",
      "      12266 |         25        0.44       97.35\n",
      "      12606 |         25        0.44       97.79\n",
      "      12627 |         25        0.44       98.23\n",
      "      12655 |         25        0.44       98.67\n",
      "      12772 |         25        0.44       99.12\n",
      "      12891 |         25        0.44       99.56\n",
      "      12895 |         25        0.44      100.00\n",
      "------------+-----------------------------------\n",
      "      Total |      5,650      100.00\n",
      "\n",
      "(5,650 observations deleted)\n"
     ]
    }
   ],
   "source": [
    "// Problem3: Certain LPIS junctions have been installed \n",
    "// before the collisions datasets begin\n",
    "// Removing junctions that cannot be analyzed because LPIS was done before 01jul2012\n",
    "sum quarterly, detail format\n",
    "sum LPIS_install_qt, detail format\n",
    "\n",
    "// Solution3: Drop these observations \n",
    "tab flag_LPIS if LPIS_install_qt < tq(2013q1)\n",
    "tab intersection_id if LPIS_install_qt < tq(2013q1) & flag_LPIS_ever == 1\n",
    "drop if LPIS_install_qt < tq(2013q1) & flag_LPIS_ever == 1\n",
    "* 5,650 observations deleted"
   ]
  },
  {
   "cell_type": "markdown",
   "metadata": {},
   "source": [
    "### Checking that panel is strongly balanced"
   ]
  },
  {
   "cell_type": "code",
   "execution_count": 22,
   "metadata": {},
   "outputs": [
    {
     "name": "stdout",
     "output_type": "stream",
     "text": [
      "\n",
      "\n",
      "Duplicates in terms of intersection_id\n",
      "\n",
      "\n",
      "       dup2 |      Freq.     Percent        Cum.\n",
      "------------+-----------------------------------\n",
      "         24 |    324,675      100.00      100.00\n",
      "------------+-----------------------------------\n",
      "      Total |    324,675      100.00\n",
      "\n"
     ]
    }
   ],
   "source": [
    "duplicates tag intersection_id, gen(dup2)\n",
    "tab dup2\n",
    "drop dup2"
   ]
  },
  {
   "cell_type": "code",
   "execution_count": 23,
   "metadata": {},
   "outputs": [],
   "source": [
    "label variable flag_LPIS \"Indicates the intersection at the time they became an LPIS intervention\"\n",
    "label variable flag_LPIS_ever \"Indicates the intersection if they ever received LPIS intervention\""
   ]
  },
  {
   "cell_type": "markdown",
   "metadata": {},
   "source": [
    "### Determine if intersection is within 2000ft of LPIS intersection"
   ]
  },
  {
   "cell_type": "code",
   "execution_count": 24,
   "metadata": {},
   "outputs": [
    {
     "name": "stdout",
     "output_type": "stream",
     "text": [
      "\n",
      "\n",
      "-------------------------------------------------------------------------------\n",
      "merge specs          |\n",
      "       matching type | n:1\n",
      "  mv's on match vars | none\n",
      "  unmatched obs from | master\n",
      "---------------------+---------------------------------------------------------\n",
      "  master        file | <data in memory not named>\n",
      "                 obs | 324675\n",
      "                vars |     71\n",
      "          match vars | intersection_id  (not a key)\n",
      "  -------------------+---------------------------------------------------------\n",
      "  using         file | ..\\working_data\\intersection_2000ft_LPIS_reshaped.dta\n",
      "                 obs |  11762\n",
      "                vars |     54\n",
      "          match vars | intersection_id  (key)\n",
      "---------------------+---------------------------------------------------------\n",
      "variable intersection_id does not uniquely identify observations in the master data\n",
      "result          file | <data in memory not named>\n",
      "                 obs | 324675\n",
      "                vars |    126  (including _merge)\n",
      "         ------------+---------------------------------------------------------\n",
      "              _merge |  36275  obs only in master data                (code==1)\n",
      "                     | 288400  obs both in master and using data      (code==3)\n",
      "-------------------------------------------------------------------------------\n"
     ]
    }
   ],
   "source": [
    "mmerge intersection_id using \"..\\working_data\\intersection_2000ft_LPIS_reshaped.dta\", ///\n",
    "type(n:1) ///\n",
    "unmatched(master) ///\n",
    "umatch(intersection_id)"
   ]
  },
  {
   "cell_type": "markdown",
   "metadata": {},
   "source": [
    "### Safe streets for Seniors "
   ]
  },
  {
   "cell_type": "code",
   "execution_count": 25,
   "metadata": {},
   "outputs": [
    {
     "name": "stdout",
     "output_type": "stream",
     "text": [
      "\n",
      "---------------------------------------------------------------------------------------------------------------------------------------------------------------------------------------------------------------------------------------------------------------\n",
      "Name                                                                                                                                                                                                                                                (unlabeled)\n",
      "---------------------------------------------------------------------------------------------------------------------------------------------------------------------------------------------------------------------------------------------------------------\n",
      "\n",
      "                  type:  string (str26)\n",
      "\n",
      "         unique values:  42                       missing \"\":  0/324,675\n",
      "\n",
      "              examples:  \"nan\"\n",
      "                         \"nan\"\n",
      "                         \"nan\"\n",
      "                         \"nan\"\n",
      "\n",
      "               warning:  variable has embedded blanks\n"
     ]
    }
   ],
   "source": [
    "codebook Name"
   ]
  },
  {
   "cell_type": "code",
   "execution_count": 26,
   "metadata": {},
   "outputs": [
    {
     "name": "stdout",
     "output_type": "stream",
     "text": [
      "\n",
      "                      Name |      Freq.     Percent        Cum.\n",
      "---------------------------+-----------------------------------\n",
      "                   Astoria |        775        0.24        0.24\n",
      "                Bath Beach |        975        0.30        0.54\n",
      "                 Bay Ridge |      1,700        0.52        1.06\n",
      "        Bedford Stuyvesant |      4,600        1.42        2.48\n",
      "               Bensonhurst |      2,475        0.76        3.24\n",
      "              Borough Park |      5,000        1.54        4.78\n",
      "            Brighton Beach |        225        0.07        4.85\n",
      "               Brownsville |      5,100        1.57        6.42\n",
      "        Chelsea/9th Avenue |      1,900        0.59        7.01\n",
      "                 Chinatown |        475        0.15        7.15\n",
      "           Corona Elmhurst |      7,125        2.19        9.35\n",
      "            East Concourse |        450        0.14        9.49\n",
      "             East Flatbush |        600        0.18        9.67\n",
      "               East Harlem |      2,625        0.81       10.48\n",
      "              East Village |        125        0.04       10.52\n",
      "                  Flatbush |      1,225        0.38       10.90\n",
      "                  Flushing |        700        0.22       11.11\n",
      "Fordham/University Heights |        600        0.18       11.30\n",
      "              Forest Hills |      1,200        0.37       11.67\n",
      "                Greenpoint |        450        0.14       11.80\n",
      "          Hamilton Heights |      1,050        0.32       12.13\n",
      "Highbridge/Lower Concourse |      3,600        1.11       13.24\n",
      "           Jackson Heights |      1,150        0.35       13.59\n",
      "             Jamaica Hills |        125        0.04       13.63\n",
      "     Kings Bay - Gerritsen |      1,875        0.58       14.21\n",
      "               Kingsbridge |        600        0.18       14.39\n",
      "   Lenox Hill - Turtle Bay |      3,225        0.99       15.38\n",
      "           Lower East Side |        800        0.25       15.63\n",
      "          Manhattan Valley |      3,175        0.98       16.61\n",
      " Middle Village - Glendale |      1,175        0.36       16.97\n",
      "                   Midwood |        300        0.09       17.06\n",
      "                Mott Haven |      1,075        0.33       17.39\n",
      " New Dorp/Hyland Boulevard |        200        0.06       17.46\n",
      "            Pelham Gardens |         75        0.02       17.48\n",
      "                 Rego Park |        250        0.08       17.56\n",
      "            Sheepshead Bay |        750        0.23       17.79\n",
      "               South Beach |        100        0.03       17.82\n",
      "                 Sunnyside |        625        0.19       18.01\n",
      "           Upper West Side |      1,675        0.52       18.53\n",
      "        Washington Heights |      1,375        0.42       18.95\n",
      "                 Yorkville |      2,875        0.89       19.84\n",
      "                       nan |    260,275       80.16      100.00\n",
      "---------------------------+-----------------------------------\n",
      "                     Total |    324,675      100.00\n"
     ]
    }
   ],
   "source": [
    "tab Name"
   ]
  },
  {
   "cell_type": "code",
   "execution_count": 27,
   "metadata": {},
   "outputs": [],
   "source": [
    "gen flag_seniors = (strpos(Name, \"nan\") == 0)"
   ]
  },
  {
   "cell_type": "code",
   "execution_count": 28,
   "metadata": {},
   "outputs": [
    {
     "name": "stdout",
     "output_type": "stream",
     "text": [
      "\n",
      "flag_senior |\n",
      "          s |      Freq.     Percent        Cum.\n",
      "------------+-----------------------------------\n",
      "          0 |    260,275       80.16       80.16\n",
      "          1 |     64,400       19.84      100.00\n",
      "------------+-----------------------------------\n",
      "      Total |    324,675      100.00\n"
     ]
    }
   ],
   "source": [
    "tab flag_seniors"
   ]
  },
  {
   "cell_type": "code",
   "execution_count": 29,
   "metadata": {},
   "outputs": [
    {
     "name": "stdout",
     "output_type": "stream",
     "text": [
      "\n",
      "           |     Indicates the\n",
      "           |  intersection at the\n",
      "           |  time they became an\n",
      "flag_senio |   LPIS intervention\n",
      "        rs |         0          1 |     Total\n",
      "-----------+----------------------+----------\n",
      "         0 |   246,705     13,570 |   260,275 \n",
      "         1 |    58,336      6,064 |    64,400 \n",
      "-----------+----------------------+----------\n",
      "     Total |   305,041     19,634 |   324,675 \n"
     ]
    }
   ],
   "source": [
    "tab flag_seniors flag_LPIS"
   ]
  },
  {
   "cell_type": "markdown",
   "metadata": {},
   "source": [
    "### Priority Intersection"
   ]
  },
  {
   "cell_type": "code",
   "execution_count": 30,
   "metadata": {},
   "outputs": [
    {
     "name": "stdout",
     "output_type": "stream",
     "text": [
      "\n",
      "\n",
      "    Variable |        Obs        Mean    Std. Dev.       Min        Max\n",
      "-------------+---------------------------------------------------------\n",
      "distance_t~s |    324,675    2603.942    2534.222          0      28481\n",
      "\n"
     ]
    }
   ],
   "source": [
    "sum distance_to_p*\n",
    "gen flag_priorityinters = (distance_to_priorityinters < 10)"
   ]
  },
  {
   "cell_type": "code",
   "execution_count": 31,
   "metadata": {},
   "outputs": [
    {
     "name": "stdout",
     "output_type": "stream",
     "text": [
      "\n",
      "           |     Indicates the\n",
      "           |  intersection at the\n",
      "           |  time they became an\n",
      "flag_prior |   LPIS intervention\n",
      " ityinters |         0          1 |     Total\n",
      "-----------+----------------------+----------\n",
      "         0 |   300,649     18,551 |   319,200 \n",
      "         1 |     4,392      1,083 |     5,475 \n",
      "-----------+----------------------+----------\n",
      "     Total |   305,041     19,634 |   324,675 \n"
     ]
    }
   ],
   "source": [
    "tab flag_priorityinters flag_LPIS"
   ]
  },
  {
   "cell_type": "markdown",
   "metadata": {},
   "source": [
    "### School intersection/crossing"
   ]
  },
  {
   "cell_type": "code",
   "execution_count": 32,
   "metadata": {},
   "outputs": [
    {
     "name": "stdout",
     "output_type": "stream",
     "text": [
      "\n",
      "\n",
      "                       distance_to_Sch\n",
      "-------------------------------------------------------------\n",
      "      Percentiles      Smallest\n",
      " 1%          125             17\n",
      " 5%          197             17\n",
      "10%          246             17       Obs             324,675\n",
      "25%          425             17       Sum of Wgt.     324,675\n",
      "\n",
      "50%          692                      Mean           822.7985\n",
      "                        Largest       Std. Dev.      612.1056\n",
      "75%         1055          10685\n",
      "90%         1511          10685       Variance       374673.3\n",
      "95%         1872          10685       Skewness       3.568631\n",
      "99%         2871          10685       Kurtosis        35.5307\n",
      "\n"
     ]
    }
   ],
   "source": [
    "sum distance_to_Sch,detail\n",
    "gen flag_school = (distance_to_Sch < 200)"
   ]
  },
  {
   "cell_type": "code",
   "execution_count": 33,
   "metadata": {},
   "outputs": [
    {
     "name": "stdout",
     "output_type": "stream",
     "text": [
      "\n",
      "           |     Indicates the\n",
      "           |  intersection at the\n",
      "           |  time they became an\n",
      "flag_schoo |   LPIS intervention\n",
      "         l |         0          1 |     Total\n",
      "-----------+----------------------+----------\n",
      "         0 |   289,690     18,085 |   307,775 \n",
      "         1 |    15,351      1,549 |    16,900 \n",
      "-----------+----------------------+----------\n",
      "     Total |   305,041     19,634 |   324,675 \n"
     ]
    }
   ],
   "source": [
    "tab flag_school flag_LPIS "
   ]
  },
  {
   "cell_type": "markdown",
   "metadata": {},
   "source": [
    "### Merge outcomes data"
   ]
  },
  {
   "cell_type": "code",
   "execution_count": 34,
   "metadata": {},
   "outputs": [
    {
     "name": "stdout",
     "output_type": "stream",
     "text": [
      "\n",
      "-------------------------------------------------------------------------------\n",
      "merge specs          |\n",
      "       matching type | 1:1\n",
      "  mv's on match vars | none\n",
      "  unmatched obs from | master\n",
      "---------------------+---------------------------------------------------------\n",
      "  master        file | <data in memory not named>\n",
      "                 obs | 324675\n",
      "                vars |    127\n",
      "          match vars | quarter year intersection_id  (key)\n",
      "  -------------------+---------------------------------------------------------\n",
      "  using         file | ..\\working_data\\collision_quarterly.dta\n",
      "                 obs | 195341\n",
      "                vars |     30\n",
      "          match vars | quarter year intersection_id  (key)\n",
      "---------------------+---------------------------------------------------------\n",
      "result          file | <data in memory not named>\n",
      "                 obs | 324675\n",
      "                vars |    156  (including _merge)\n",
      "         ------------+---------------------------------------------------------\n",
      "              _merge | 133939  obs only in master data                (code==1)\n",
      "                     | 190736  obs both in master and using data      (code==3)\n",
      "-------------------------------------------------------------------------------\n"
     ]
    }
   ],
   "source": [
    "// Outcomes data\n",
    "mmerge quarter year intersection_id using \"..\\working_data\\collision_quarterly.dta\", ///\n",
    "type(1:1) ///\n",
    "unmatched(master) \n",
    "// Reason that we did not match every obs from using\n",
    "// is that we droped intersections in the \n",
    "// 1.Intersection level data merge process\n",
    "// 2. Problem2 Certain LPIS junctions have been installed \n",
    "// before the collisions datasets begin"
   ]
  },
  {
   "cell_type": "markdown",
   "metadata": {},
   "source": [
    "### Fill in missing information"
   ]
  },
  {
   "cell_type": "code",
   "execution_count": 35,
   "metadata": {},
   "outputs": [
    {
     "name": "stdout",
     "output_type": "stream",
     "text": [
      "\n",
      "(133,939 real changes made)\n",
      "\n",
      "(133,939 real changes made)\n",
      "\n",
      "(133,939 real changes made)\n",
      "\n",
      "(133,939 real changes made)\n",
      "\n",
      "(133,939 real changes made)\n",
      "\n",
      "(133,939 real changes made)\n",
      "\n",
      "(133,939 real changes made)\n",
      "\n",
      "(133,939 real changes made)\n",
      "\n",
      "(133,939 real changes made)\n",
      "\n",
      "(133,939 real changes made)\n",
      "\n",
      "(133,939 real changes made)\n",
      "\n",
      "(133,939 real changes made)\n",
      "\n",
      "(133,939 real changes made)\n",
      "\n",
      "(133,939 real changes made)\n",
      "\n",
      "(133,939 real changes made)\n",
      "\n",
      "(133,939 real changes made)\n",
      "\n",
      "(133,939 real changes made)\n",
      "\n",
      "(133,939 real changes made)\n",
      "\n",
      "(133,939 real changes made)\n",
      "\n",
      "(133,939 real changes made)\n",
      "\n",
      "(133,939 real changes made)\n",
      "\n",
      "(133,939 real changes made)\n",
      "\n",
      "(133,939 real changes made)\n",
      "\n",
      "(133,939 real changes made)\n",
      "\n",
      "(133,939 real changes made)\n",
      "\n",
      "(133,939 real changes made)\n",
      "\n",
      "(133,939 real changes made)\n",
      "\n",
      "\n",
      "\n",
      "\n",
      "\n",
      "\n",
      "\n",
      "\n",
      "\n",
      "\n",
      "\n",
      "\n",
      "\n",
      "\n",
      "\n",
      "\n",
      "\n",
      "\n",
      "\n",
      "\n",
      "\n",
      "\n",
      "\n",
      "\n",
      "\n",
      "\n",
      "\n",
      "\n",
      "\n",
      "\n",
      "\n",
      "\n",
      "\n",
      "\n"
     ]
    }
   ],
   "source": [
    "// Fill in '0' for intersection month year that did not have collisions\n",
    "replace personsinjured = 0 if _merge == 1\n",
    "replace personskilled = 0 if _merge == 1\n",
    "replace pedestriansinjured = 0 if _merge == 1\n",
    "replace pedestrianskilled = 0 if _merge == 1\n",
    "replace cyclistinjured = 0 if _merge == 1\n",
    "replace cyclistkilled = 0 if _merge == 1\n",
    "replace motoristinjured = 0 if _merge == 1\n",
    "replace motoristkilled = 0 if _merge == 1\n",
    "replace collision_count = 0 if mi(collision_count)\n",
    "\n",
    "replace latenight_personsinjured = 0 if _merge == 1\n",
    "replace latenight_personskilled = 0 if _merge == 1\n",
    "replace latenight_pedestriansinjured = 0 if _merge == 1\n",
    "replace latenight_pedestrianskilled = 0 if _merge == 1\n",
    "replace latenight_cyclistinjured = 0 if _merge == 1\n",
    "replace latenight_cyclistkilled = 0 if _merge == 1\n",
    "replace latenight_motoristinjured = 0 if _merge == 1\n",
    "replace latenight_motoristkilled = 0 if _merge == 1\n",
    "replace latenight_collision_count = 0 if mi(latenight_collision_count)\n",
    "\n",
    "replace day_personsinjured = 0 if _merge == 1\n",
    "replace day_personskilled = 0 if _merge == 1\n",
    "replace day_pedestriansinjured = 0 if _merge == 1\n",
    "replace day_pedestrianskilled = 0 if _merge == 1\n",
    "replace day_cyclistinjured = 0 if _merge == 1\n",
    "replace day_cyclistkilled = 0 if _merge == 1\n",
    "replace day_motoristinjured = 0 if _merge == 1\n",
    "replace day_motoristkilled = 0 if _merge == 1\n",
    "replace day_collision_count = 0 if mi(day_collision_count)\n",
    "\n",
    "gen flag_collision = collision_count > 0\n",
    "gen latenight_flag_collision = latenight_collision_count > 0\n",
    "gen day_flag_collision = day_collision_count > 0\n",
    "\n",
    "\n",
    "label variable personsinjured \"No. of persons injured during that month\"\n",
    "label variable personskilled \"No. of persons killed during that month\"\n",
    "label variable pedestriansinjured \"No. of pedestrians injured during that month\"\n",
    "label variable pedestrianskilled \"No. of pedestrians killed during that month\"\n",
    "label variable cyclistinjured \"No. of cyclist injured during that month\"\n",
    "label variable cyclistkilled \"No. of cyclist killed during that month\"\n",
    "label variable motoristinjured \"No. of motorist injured during that month\"\n",
    "label variable motoristkilled \"No. of motorist killed during that month\"\n",
    "label variable collision_count \"No. of collisions occured during that month\"\n",
    "label variable flag_collision \"At least one collision occurred that month\"\n",
    "\n",
    "label variable latenight_personsinjured \"No. of persons injured during that month between 11pm - 5am\"\n",
    "label variable latenight_personskilled \"No. of persons killed during that month between 11pm - 5am\"\n",
    "label variable latenight_pedestriansinjured \"No. of pedestrians injured during that month between 11pm - 5am\"\n",
    "label variable latenight_pedestrianskilled \"No. of pedestrians killed during that month between 11pm - 5am\"\n",
    "label variable latenight_cyclistinjured \"No. of cyclist injured during that month between 11pm - 5am\"\n",
    "label variable latenight_cyclistkilled \"No. of cyclist killed during that month between 11pm - 5am\"\n",
    "label variable latenight_motoristinjured \"No. of motorist injured during that month between 11pm - 5am\"\n",
    "label variable latenight_motoristkilled \"No. of motorist killed during that month between 11pm - 5am\"\n",
    "label variable latenight_collision_count \"No. of collisions occured during that month between 11pm - 5am\"\n",
    "label variable latenight_flag_collision \" At least one collision occurred that month between 11pm - 5am\"\n",
    "\n",
    "label variable day_personsinjured \"No. of persons injured during that month between 5am - 11pm\"\n",
    "label variable day_personskilled \"No. of persons killed during that month between 5am - 11pm\"\n",
    "label variable day_pedestriansinjured \"No. of pedestrians injured during that month between 5am - 11pm\"\n",
    "label variable day_pedestrianskilled \"No. of pedestrians killed during that month between 5am - 11pm\"\n",
    "label variable day_cyclistinjured \"No. of cyclist injured during that month between 5am - 11pm\"\n",
    "label variable day_cyclistkilled \"No. of cyclist killed during that month between 5am - 11pm\"\n",
    "label variable day_motoristinjured \"No. of motorist injured during that month between 5am - 11pm\"\n",
    "label variable day_motoristkilled \"No. of motorist killed during that month between 5am - 11pm\"\n",
    "label variable day_collision_count \"No. of collisions occured during that month between 5am - 11pm\"\n",
    "label variable day_flag_collision \" At least one collision occurred that month between 5am - 11pm\"\n",
    "\n",
    "drop _merge"
   ]
  },
  {
   "cell_type": "code",
   "execution_count": 36,
   "metadata": {},
   "outputs": [
    {
     "name": "stdout",
     "output_type": "stream",
     "text": [
      "file ..\\working_data\\analytical_file_panel_qt.dta saved\n"
     ]
    }
   ],
   "source": [
    "save \"..\\working_data\\analytical_file_panel_qt.dta\",replace"
   ]
  }
 ],
 "metadata": {
  "kernelspec": {
   "display_name": "Stata",
   "language": "stata",
   "name": "stata"
  },
  "language_info": {
   "file_extension": ".do",
   "mimetype": "text/x-stata",
   "name": "stata"
  }
 },
 "nbformat": 4,
 "nbformat_minor": 2
}
