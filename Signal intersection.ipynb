{
 "cells": [
  {
   "cell_type": "code",
   "execution_count": 1,
   "metadata": {},
   "outputs": [],
   "source": [
    "import matplotlib.pyplot as plt\n",
    "import geopandas as gpd\n",
    "import pandas as pd\n",
    "import shapely as shy\n",
    "from shapely.ops import nearest_points\n",
    "from shapely.geometry import Point, MultiPoint\n",
    "import fiona\n",
    "from scipy.spatial import cKDTree\n",
    "import numpy as np\n",
    "\n",
    "pd.options.display.max_rows = 4\n",
    "%matplotlib inline\n",
    "import os\n",
    "os.environ[\"PROJ_LIB\"] = \"C:\\ProgramData\\Anaconda3\\Library\\share\" #window"
   ]
  },
  {
   "cell_type": "code",
   "execution_count": 2,
   "metadata": {},
   "outputs": [],
   "source": [
    "#Filepaths\n",
    "work = r\"D:\"\n",
    "laptop = r\"C:\\Users\\jerem\"\n",
    "origin = work"
   ]
  },
  {
   "cell_type": "code",
   "execution_count": 3,
   "metadata": {},
   "outputs": [
    {
     "data": {
      "text/html": [
       "<div>\n",
       "<style scoped>\n",
       "    .dataframe tbody tr th:only-of-type {\n",
       "        vertical-align: middle;\n",
       "    }\n",
       "\n",
       "    .dataframe tbody tr th {\n",
       "        vertical-align: top;\n",
       "    }\n",
       "\n",
       "    .dataframe thead th {\n",
       "        text-align: right;\n",
       "    }\n",
       "</style>\n",
       "<table border=\"1\" class=\"dataframe\">\n",
       "  <thead>\n",
       "    <tr style=\"text-align: right;\">\n",
       "      <th></th>\n",
       "      <th>intersection_id</th>\n",
       "      <th>y</th>\n",
       "      <th>x</th>\n",
       "      <th>st1_name</th>\n",
       "      <th>st2_name</th>\n",
       "      <th>st3_name</th>\n",
       "      <th>st4_name</th>\n",
       "      <th>dup</th>\n",
       "    </tr>\n",
       "  </thead>\n",
       "  <tbody>\n",
       "    <tr>\n",
       "      <th>0</th>\n",
       "      <td>1.0</td>\n",
       "      <td>199793.609300002</td>\n",
       "      <td>986336.149</td>\n",
       "      <td>ALLEN STREET</td>\n",
       "      <td>CANAL STREET</td>\n",
       "      <td></td>\n",
       "      <td></td>\n",
       "      <td>0</td>\n",
       "    </tr>\n",
       "    <tr>\n",
       "      <th>1</th>\n",
       "      <td>2.0</td>\n",
       "      <td>202206.161899999</td>\n",
       "      <td>982769.331</td>\n",
       "      <td>AVENUE OF THE AMERICAS</td>\n",
       "      <td>LAIGHT STREET</td>\n",
       "      <td>CANAL STREET</td>\n",
       "      <td></td>\n",
       "      <td>0</td>\n",
       "    </tr>\n",
       "    <tr>\n",
       "      <th>2</th>\n",
       "      <td>3.0</td>\n",
       "      <td>201790.0942</td>\n",
       "      <td>982805.618399993</td>\n",
       "      <td>AVENUE OF THE AMERICAS</td>\n",
       "      <td>LISPENARD STREET</td>\n",
       "      <td>WEST BROADWAY</td>\n",
       "      <td></td>\n",
       "      <td>0</td>\n",
       "    </tr>\n",
       "  </tbody>\n",
       "</table>\n",
       "</div>"
      ],
      "text/plain": [
       "   intersection_id                 y                 x  \\\n",
       "0              1.0  199793.609300002        986336.149   \n",
       "1              2.0  202206.161899999        982769.331   \n",
       "2              3.0       201790.0942  982805.618399993   \n",
       "\n",
       "                 st1_name          st2_name       st3_name st4_name  dup  \n",
       "0            ALLEN STREET      CANAL STREET                            0  \n",
       "1  AVENUE OF THE AMERICAS     LAIGHT STREET   CANAL STREET             0  \n",
       "2  AVENUE OF THE AMERICAS  LISPENARD STREET  WEST BROADWAY             0  "
      ]
     },
     "execution_count": 3,
     "metadata": {},
     "output_type": "execute_result"
    }
   ],
   "source": [
    "# Open signal intersection stata dta file\n",
    "fp = r\"\\Box Sync\\Policy Evaluation\\input_data\\DOT_traffic_signals_Oct_2018\\signal_controllers_clean.dta\"\n",
    "df = pd.read_stata(origin+fp)\n",
    "df.head(3)"
   ]
  },
  {
   "cell_type": "code",
   "execution_count": 4,
   "metadata": {},
   "outputs": [],
   "source": [
    "# Convert coordinates into float\n",
    "df['y'] = df['y'].astype(float)\n",
    "df['x'] = df['x'].astype(float)\n",
    "# Put the latitude and longtitude \n",
    "df['Coordinates'] = list(zip(df.x, df.y))\n",
    "df['Coordinates'] = df['Coordinates'].apply(Point)\n",
    "df1 = gpd.GeoDataFrame(df, geometry='Coordinates')"
   ]
  },
  {
   "cell_type": "code",
   "execution_count": 5,
   "metadata": {},
   "outputs": [
    {
     "data": {
      "text/html": [
       "<div>\n",
       "<style scoped>\n",
       "    .dataframe tbody tr th:only-of-type {\n",
       "        vertical-align: middle;\n",
       "    }\n",
       "\n",
       "    .dataframe tbody tr th {\n",
       "        vertical-align: top;\n",
       "    }\n",
       "\n",
       "    .dataframe thead th {\n",
       "        text-align: right;\n",
       "    }\n",
       "</style>\n",
       "<table border=\"1\" class=\"dataframe\">\n",
       "  <thead>\n",
       "    <tr style=\"text-align: right;\">\n",
       "      <th></th>\n",
       "      <th>intersection_id</th>\n",
       "      <th>y</th>\n",
       "      <th>x</th>\n",
       "      <th>st1_name</th>\n",
       "      <th>st2_name</th>\n",
       "      <th>st3_name</th>\n",
       "      <th>st4_name</th>\n",
       "      <th>dup</th>\n",
       "      <th>Coordinates</th>\n",
       "    </tr>\n",
       "  </thead>\n",
       "  <tbody>\n",
       "    <tr>\n",
       "      <th>0</th>\n",
       "      <td>1.0</td>\n",
       "      <td>199793.6093</td>\n",
       "      <td>986336.149</td>\n",
       "      <td>ALLEN STREET</td>\n",
       "      <td>CANAL STREET</td>\n",
       "      <td></td>\n",
       "      <td></td>\n",
       "      <td>0</td>\n",
       "      <td>POINT (986336.149 199793.609300002)</td>\n",
       "    </tr>\n",
       "    <tr>\n",
       "      <th>1</th>\n",
       "      <td>2.0</td>\n",
       "      <td>202206.1619</td>\n",
       "      <td>982769.331</td>\n",
       "      <td>AVENUE OF THE AMERICAS</td>\n",
       "      <td>LAIGHT STREET</td>\n",
       "      <td>CANAL STREET</td>\n",
       "      <td></td>\n",
       "      <td>0</td>\n",
       "      <td>POINT (982769.331 202206.161899999)</td>\n",
       "    </tr>\n",
       "  </tbody>\n",
       "</table>\n",
       "</div>"
      ],
      "text/plain": [
       "   intersection_id            y           x                st1_name  \\\n",
       "0              1.0  199793.6093  986336.149            ALLEN STREET   \n",
       "1              2.0  202206.1619  982769.331  AVENUE OF THE AMERICAS   \n",
       "\n",
       "        st2_name      st3_name st4_name  dup  \\\n",
       "0   CANAL STREET                           0   \n",
       "1  LAIGHT STREET  CANAL STREET             0   \n",
       "\n",
       "                           Coordinates  \n",
       "0  POINT (986336.149 199793.609300002)  \n",
       "1  POINT (982769.331 202206.161899999)  "
      ]
     },
     "execution_count": 5,
     "metadata": {},
     "output_type": "execute_result"
    }
   ],
   "source": [
    "df1.head(2)"
   ]
  },
  {
   "cell_type": "code",
   "execution_count": 6,
   "metadata": {},
   "outputs": [],
   "source": [
    "df1.crs = {'init' :'epsg:2263'}"
   ]
  },
  {
   "cell_type": "code",
   "execution_count": 7,
   "metadata": {},
   "outputs": [
    {
     "data": {
      "text/plain": [
       "{'init': 'epsg:2263'}"
      ]
     },
     "execution_count": 7,
     "metadata": {},
     "output_type": "execute_result"
    }
   ],
   "source": [
    "df1.crs"
   ]
  },
  {
   "cell_type": "code",
   "execution_count": 8,
   "metadata": {},
   "outputs": [
    {
     "data": {
      "text/html": [
       "<div>\n",
       "<style scoped>\n",
       "    .dataframe tbody tr th:only-of-type {\n",
       "        vertical-align: middle;\n",
       "    }\n",
       "\n",
       "    .dataframe tbody tr th {\n",
       "        vertical-align: top;\n",
       "    }\n",
       "\n",
       "    .dataframe thead th {\n",
       "        text-align: right;\n",
       "    }\n",
       "</style>\n",
       "<table border=\"1\" class=\"dataframe\">\n",
       "  <thead>\n",
       "    <tr style=\"text-align: right;\">\n",
       "      <th></th>\n",
       "      <th>intersection_id</th>\n",
       "      <th>y</th>\n",
       "      <th>x</th>\n",
       "      <th>st1_name</th>\n",
       "      <th>st2_name</th>\n",
       "      <th>st3_name</th>\n",
       "      <th>st4_name</th>\n",
       "      <th>dup</th>\n",
       "      <th>Coordinates</th>\n",
       "    </tr>\n",
       "  </thead>\n",
       "  <tbody>\n",
       "    <tr>\n",
       "      <th>0</th>\n",
       "      <td>1.0</td>\n",
       "      <td>199793.6093</td>\n",
       "      <td>986336.1490</td>\n",
       "      <td>ALLEN STREET</td>\n",
       "      <td>CANAL STREET</td>\n",
       "      <td></td>\n",
       "      <td></td>\n",
       "      <td>0</td>\n",
       "      <td>POINT (986336.149 199793.609300002)</td>\n",
       "    </tr>\n",
       "    <tr>\n",
       "      <th>1</th>\n",
       "      <td>2.0</td>\n",
       "      <td>202206.1619</td>\n",
       "      <td>982769.3310</td>\n",
       "      <td>AVENUE OF THE AMERICAS</td>\n",
       "      <td>LAIGHT STREET</td>\n",
       "      <td>CANAL STREET</td>\n",
       "      <td></td>\n",
       "      <td>0</td>\n",
       "      <td>POINT (982769.331 202206.161899999)</td>\n",
       "    </tr>\n",
       "    <tr>\n",
       "      <th>...</th>\n",
       "      <td>...</td>\n",
       "      <td>...</td>\n",
       "      <td>...</td>\n",
       "      <td>...</td>\n",
       "      <td>...</td>\n",
       "      <td>...</td>\n",
       "      <td>...</td>\n",
       "      <td>...</td>\n",
       "      <td>...</td>\n",
       "    </tr>\n",
       "    <tr>\n",
       "      <th>3</th>\n",
       "      <td>4.0</td>\n",
       "      <td>201529.9618</td>\n",
       "      <td>982812.2555</td>\n",
       "      <td>AVENUE OF THE AMERICAS</td>\n",
       "      <td>WALKER STREET</td>\n",
       "      <td></td>\n",
       "      <td></td>\n",
       "      <td>0</td>\n",
       "      <td>POINT (982812.255500004 201529.961799994)</td>\n",
       "    </tr>\n",
       "    <tr>\n",
       "      <th>4</th>\n",
       "      <td>5.0</td>\n",
       "      <td>201226.1097</td>\n",
       "      <td>982816.3956</td>\n",
       "      <td>AVENUE OF THE AMERICAS</td>\n",
       "      <td>WHITE STREET</td>\n",
       "      <td>CHURCH STREET</td>\n",
       "      <td></td>\n",
       "      <td>0</td>\n",
       "      <td>POINT (982816.395600006 201226.109699994)</td>\n",
       "    </tr>\n",
       "  </tbody>\n",
       "</table>\n",
       "<p>5 rows × 9 columns</p>\n",
       "</div>"
      ],
      "text/plain": [
       "    intersection_id            y            x                st1_name  \\\n",
       "0               1.0  199793.6093  986336.1490            ALLEN STREET   \n",
       "1               2.0  202206.1619  982769.3310  AVENUE OF THE AMERICAS   \n",
       "..              ...          ...          ...                     ...   \n",
       "3               4.0  201529.9618  982812.2555  AVENUE OF THE AMERICAS   \n",
       "4               5.0  201226.1097  982816.3956  AVENUE OF THE AMERICAS   \n",
       "\n",
       "         st2_name       st3_name st4_name  dup  \\\n",
       "0    CANAL STREET                            0   \n",
       "1   LAIGHT STREET   CANAL STREET             0   \n",
       "..            ...            ...      ...  ...   \n",
       "3   WALKER STREET                            0   \n",
       "4    WHITE STREET  CHURCH STREET             0   \n",
       "\n",
       "                                  Coordinates  \n",
       "0         POINT (986336.149 199793.609300002)  \n",
       "1         POINT (982769.331 202206.161899999)  \n",
       "..                                        ...  \n",
       "3   POINT (982812.255500004 201529.961799994)  \n",
       "4   POINT (982816.395600006 201226.109699994)  \n",
       "\n",
       "[5 rows x 9 columns]"
      ]
     },
     "execution_count": 8,
     "metadata": {},
     "output_type": "execute_result"
    }
   ],
   "source": [
    "df1.head()"
   ]
  },
  {
   "cell_type": "code",
   "execution_count": 9,
   "metadata": {},
   "outputs": [
    {
     "data": {
      "text/html": [
       "<div>\n",
       "<style scoped>\n",
       "    .dataframe tbody tr th:only-of-type {\n",
       "        vertical-align: middle;\n",
       "    }\n",
       "\n",
       "    .dataframe tbody tr th {\n",
       "        vertical-align: top;\n",
       "    }\n",
       "\n",
       "    .dataframe thead th {\n",
       "        text-align: right;\n",
       "    }\n",
       "</style>\n",
       "<table border=\"1\" class=\"dataframe\">\n",
       "  <thead>\n",
       "    <tr style=\"text-align: right;\">\n",
       "      <th></th>\n",
       "      <th>cross_stre</th>\n",
       "      <th>date_insta</th>\n",
       "      <th>time_insta</th>\n",
       "      <th>lat</th>\n",
       "      <th>long</th>\n",
       "      <th>main_stree</th>\n",
       "      <th>geometry</th>\n",
       "    </tr>\n",
       "  </thead>\n",
       "  <tbody>\n",
       "    <tr>\n",
       "      <th>0</th>\n",
       "      <td>Dreiser loop East</td>\n",
       "      <td>2018-08-01</td>\n",
       "      <td>00:00:00.000</td>\n",
       "      <td>40.878465</td>\n",
       "      <td>-73.828273</td>\n",
       "      <td>Co-op City Blvd</td>\n",
       "      <td>POINT (-73.82827338235253 40.87846542795222)</td>\n",
       "    </tr>\n",
       "    <tr>\n",
       "      <th>1</th>\n",
       "      <td>West 119 St</td>\n",
       "      <td>2018-08-08</td>\n",
       "      <td>00:00:00.000</td>\n",
       "      <td>40.803958</td>\n",
       "      <td>-73.948271</td>\n",
       "      <td>Lenox Avenue</td>\n",
       "      <td>POINT (-73.94827133431397 40.80395846158952)</td>\n",
       "    </tr>\n",
       "    <tr>\n",
       "      <th>2</th>\n",
       "      <td>West 120 St</td>\n",
       "      <td>2018-08-08</td>\n",
       "      <td>00:00:00.000</td>\n",
       "      <td>40.804587</td>\n",
       "      <td>-73.947812</td>\n",
       "      <td>Lenox Avenue</td>\n",
       "      <td>POINT (-73.94781210658503 40.80458679730486)</td>\n",
       "    </tr>\n",
       "  </tbody>\n",
       "</table>\n",
       "</div>"
      ],
      "text/plain": [
       "          cross_stre  date_insta    time_insta        lat       long  \\\n",
       "0  Dreiser loop East  2018-08-01  00:00:00.000  40.878465 -73.828273   \n",
       "1        West 119 St  2018-08-08  00:00:00.000  40.803958 -73.948271   \n",
       "2        West 120 St  2018-08-08  00:00:00.000  40.804587 -73.947812   \n",
       "\n",
       "        main_stree                                      geometry  \n",
       "0  Co-op City Blvd  POINT (-73.82827338235253 40.87846542795222)  \n",
       "1     Lenox Avenue  POINT (-73.94827133431397 40.80395846158952)  \n",
       "2     Lenox Avenue  POINT (-73.94781210658503 40.80458679730486)  "
      ]
     },
     "execution_count": 9,
     "metadata": {},
     "output_type": "execute_result"
    }
   ],
   "source": [
    "# Open LPIs shapefile\n",
    "fp = r\"\\Box Sync\\Policy Evaluation\\input_data\\VZV_Leading Pedestrian Interval Signals\\geo_export_0c63b43f-83c0-4834-aa91-2c564c1bff2c.shp\"\n",
    "df2 = gpd.read_file(origin+fp)\n",
    "df2.head(3)"
   ]
  },
  {
   "cell_type": "code",
   "execution_count": 10,
   "metadata": {},
   "outputs": [
    {
     "data": {
      "text/plain": [
       "{'init': 'epsg:4326'}"
      ]
     },
     "execution_count": 10,
     "metadata": {},
     "output_type": "execute_result"
    }
   ],
   "source": [
    "df2.crs"
   ]
  },
  {
   "cell_type": "code",
   "execution_count": 11,
   "metadata": {},
   "outputs": [],
   "source": [
    "# Reproeject LPIS shapefile to EPSG 2263: NAD83 / New York Long Island (ftUS)\n",
    "df2 = df2.to_crs({'init': 'epsg:2263'})"
   ]
  },
  {
   "cell_type": "code",
   "execution_count": 12,
   "metadata": {},
   "outputs": [
    {
     "data": {
      "text/plain": [
       "{'init': 'epsg:2263'}"
      ]
     },
     "execution_count": 12,
     "metadata": {},
     "output_type": "execute_result"
    }
   ],
   "source": [
    "# Check that \n",
    "df2.crs"
   ]
  },
  {
   "cell_type": "code",
   "execution_count": 13,
   "metadata": {},
   "outputs": [
    {
     "data": {
      "text/html": [
       "<div>\n",
       "<style scoped>\n",
       "    .dataframe tbody tr th:only-of-type {\n",
       "        vertical-align: middle;\n",
       "    }\n",
       "\n",
       "    .dataframe tbody tr th {\n",
       "        vertical-align: top;\n",
       "    }\n",
       "\n",
       "    .dataframe thead th {\n",
       "        text-align: right;\n",
       "    }\n",
       "</style>\n",
       "<table border=\"1\" class=\"dataframe\">\n",
       "  <thead>\n",
       "    <tr style=\"text-align: right;\">\n",
       "      <th></th>\n",
       "      <th>cross_stre</th>\n",
       "      <th>date_insta</th>\n",
       "      <th>time_insta</th>\n",
       "      <th>lat</th>\n",
       "      <th>long</th>\n",
       "      <th>main_stree</th>\n",
       "      <th>geometry</th>\n",
       "      <th>LPIS_ID</th>\n",
       "    </tr>\n",
       "  </thead>\n",
       "  <tbody>\n",
       "    <tr>\n",
       "      <th>0</th>\n",
       "      <td>Dreiser loop East</td>\n",
       "      <td>2018-08-01</td>\n",
       "      <td>00:00:00.000</td>\n",
       "      <td>40.878465</td>\n",
       "      <td>-73.828273</td>\n",
       "      <td>Co-op City Blvd</td>\n",
       "      <td>POINT (1031739.000154228 259373.000004255)</td>\n",
       "      <td>0</td>\n",
       "    </tr>\n",
       "    <tr>\n",
       "      <th>1</th>\n",
       "      <td>West 119 St</td>\n",
       "      <td>2018-08-08</td>\n",
       "      <td>00:00:00.000</td>\n",
       "      <td>40.803958</td>\n",
       "      <td>-73.948271</td>\n",
       "      <td>Lenox Avenue</td>\n",
       "      <td>POINT (998570.9998893011 232184.9999184268)</td>\n",
       "      <td>1</td>\n",
       "    </tr>\n",
       "    <tr>\n",
       "      <th>2</th>\n",
       "      <td>West 120 St</td>\n",
       "      <td>2018-08-08</td>\n",
       "      <td>00:00:00.000</td>\n",
       "      <td>40.804587</td>\n",
       "      <td>-73.947812</td>\n",
       "      <td>Lenox Avenue</td>\n",
       "      <td>POINT (998697.9999633889 232414.0001165908)</td>\n",
       "      <td>2</td>\n",
       "    </tr>\n",
       "  </tbody>\n",
       "</table>\n",
       "</div>"
      ],
      "text/plain": [
       "          cross_stre  date_insta    time_insta        lat       long  \\\n",
       "0  Dreiser loop East  2018-08-01  00:00:00.000  40.878465 -73.828273   \n",
       "1        West 119 St  2018-08-08  00:00:00.000  40.803958 -73.948271   \n",
       "2        West 120 St  2018-08-08  00:00:00.000  40.804587 -73.947812   \n",
       "\n",
       "        main_stree                                     geometry  LPIS_ID  \n",
       "0  Co-op City Blvd   POINT (1031739.000154228 259373.000004255)        0  \n",
       "1     Lenox Avenue  POINT (998570.9998893011 232184.9999184268)        1  \n",
       "2     Lenox Avenue  POINT (998697.9999633889 232414.0001165908)        2  "
      ]
     },
     "execution_count": 13,
     "metadata": {},
     "output_type": "execute_result"
    }
   ],
   "source": [
    "# Create ID variable\n",
    "df2['LPIS_ID'] = df2.index\n",
    "df2.head(3)\n"
   ]
  },
  {
   "cell_type": "code",
   "execution_count": 14,
   "metadata": {},
   "outputs": [
    {
     "data": {
      "text/plain": [
       "<matplotlib.axes._subplots.AxesSubplot at 0x27d556170f0>"
      ]
     },
     "execution_count": 14,
     "metadata": {},
     "output_type": "execute_result"
    },
    {
     "data": {
      "image/png": "[encoded data removed]",
      "text/plain": [
       "<Figure size 432x288 with 1 Axes>"
      ]
     },
     "metadata": {},
     "output_type": "display_data"
    }
   ],
   "source": [
    "df2.plot()"
   ]
  },
  {
   "cell_type": "code",
   "execution_count": 15,
   "metadata": {},
   "outputs": [],
   "source": [
    "# ckdnearest function\n",
    "# from \"https://gist.github.com/jhconning/63a34a51acff83d116adc52308faf240\"\n",
    "def ckdnearest(gdA, gdB, bcol):\n",
    "    \"\"\"\n",
    "    This function takes geodataframes: `gdA` and `gdB` and \n",
    "    a column name `bcol`. Both dataframes are assumed to have a `geometry` column. \n",
    "    It finds the nearest neighbor from each location in `gdA` to a \n",
    "    nearest neighbor in `gdB`.  \n",
    "\n",
    "    It returns a two-column pandas dataframe with a 'distance' (here rounded to nearest foot)\n",
    "    and the value of the `bcol` in `gdB'  (e.g. 'school_name')\n",
    "    \"\"\"\n",
    "    \n",
    "    nA = np.array(list(zip(gdA.geometry.x, gdA.geometry.y)) )\n",
    "    nB = np.array(list(zip(gdB.geometry.x, gdB.geometry.y)) )\n",
    "    btree = cKDTree(nB)\n",
    "    dist, idx = btree.query(nA,k=1)\n",
    "    df = pd.DataFrame.from_dict({'distance': dist.astype(int),\n",
    "                             'bcol' : gdB.loc[idx, bcol].values })\n",
    "    return df\n"
   ]
  },
  {
   "cell_type": "code",
   "execution_count": 16,
   "metadata": {},
   "outputs": [
    {
     "data": {
      "text/html": [
       "<div>\n",
       "<style scoped>\n",
       "    .dataframe tbody tr th:only-of-type {\n",
       "        vertical-align: middle;\n",
       "    }\n",
       "\n",
       "    .dataframe tbody tr th {\n",
       "        vertical-align: top;\n",
       "    }\n",
       "\n",
       "    .dataframe thead th {\n",
       "        text-align: right;\n",
       "    }\n",
       "</style>\n",
       "<table border=\"1\" class=\"dataframe\">\n",
       "  <thead>\n",
       "    <tr style=\"text-align: right;\">\n",
       "      <th></th>\n",
       "      <th>intersection_id</th>\n",
       "      <th>y</th>\n",
       "      <th>x</th>\n",
       "      <th>st1_name</th>\n",
       "      <th>st2_name</th>\n",
       "      <th>st3_name</th>\n",
       "      <th>st4_name</th>\n",
       "      <th>dup</th>\n",
       "      <th>Coordinates</th>\n",
       "      <th>distance_to_LPIS</th>\n",
       "      <th>nearest_LPIS</th>\n",
       "    </tr>\n",
       "  </thead>\n",
       "  <tbody>\n",
       "    <tr>\n",
       "      <th>0</th>\n",
       "      <td>1.0</td>\n",
       "      <td>199793.6093</td>\n",
       "      <td>986336.149</td>\n",
       "      <td>ALLEN STREET</td>\n",
       "      <td>CANAL STREET</td>\n",
       "      <td></td>\n",
       "      <td></td>\n",
       "      <td>0</td>\n",
       "      <td>POINT (986336.149 199793.609300002)</td>\n",
       "      <td>276</td>\n",
       "      <td>1915</td>\n",
       "    </tr>\n",
       "    <tr>\n",
       "      <th>1</th>\n",
       "      <td>2.0</td>\n",
       "      <td>202206.1619</td>\n",
       "      <td>982769.331</td>\n",
       "      <td>AVENUE OF THE AMERICAS</td>\n",
       "      <td>LAIGHT STREET</td>\n",
       "      <td>CANAL STREET</td>\n",
       "      <td></td>\n",
       "      <td>0</td>\n",
       "      <td>POINT (982769.331 202206.161899999)</td>\n",
       "      <td>592</td>\n",
       "      <td>2016</td>\n",
       "    </tr>\n",
       "  </tbody>\n",
       "</table>\n",
       "</div>"
      ],
      "text/plain": [
       "   intersection_id            y           x                st1_name  \\\n",
       "0              1.0  199793.6093  986336.149            ALLEN STREET   \n",
       "1              2.0  202206.1619  982769.331  AVENUE OF THE AMERICAS   \n",
       "\n",
       "        st2_name      st3_name st4_name  dup  \\\n",
       "0   CANAL STREET                           0   \n",
       "1  LAIGHT STREET  CANAL STREET             0   \n",
       "\n",
       "                           Coordinates  distance_to_LPIS  nearest_LPIS  \n",
       "0  POINT (986336.149 199793.609300002)               276          1915  \n",
       "1  POINT (982769.331 202206.161899999)               592          2016  "
      ]
     },
     "execution_count": 16,
     "metadata": {},
     "output_type": "execute_result"
    }
   ],
   "source": [
    "df1[['distance_to_LPIS','nearest_LPIS']] = ckdnearest(df1, df2,'LPIS_ID')\n",
    "df1.head(2)"
   ]
  },
  {
   "cell_type": "code",
   "execution_count": 17,
   "metadata": {},
   "outputs": [
    {
     "name": "stdout",
     "output_type": "stream",
     "text": [
      "0        False\n",
      "1        False\n",
      "         ...  \n",
      "13211    False\n",
      "13212    False\n",
      "Name: nearest_LPIS, Length: 13213, dtype: bool\n"
     ]
    }
   ],
   "source": [
    "print(df1['nearest_LPIS'].isnull())"
   ]
  },
  {
   "cell_type": "code",
   "execution_count": 18,
   "metadata": {},
   "outputs": [
    {
     "data": {
      "text/html": [
       "<div>\n",
       "<style scoped>\n",
       "    .dataframe tbody tr th:only-of-type {\n",
       "        vertical-align: middle;\n",
       "    }\n",
       "\n",
       "    .dataframe tbody tr th {\n",
       "        vertical-align: top;\n",
       "    }\n",
       "\n",
       "    .dataframe thead th {\n",
       "        text-align: right;\n",
       "    }\n",
       "</style>\n",
       "<table border=\"1\" class=\"dataframe\">\n",
       "  <thead>\n",
       "    <tr style=\"text-align: right;\">\n",
       "      <th></th>\n",
       "      <th>intersection_id</th>\n",
       "      <th>y</th>\n",
       "      <th>x</th>\n",
       "      <th>st1_name</th>\n",
       "      <th>st2_name</th>\n",
       "      <th>st3_name</th>\n",
       "      <th>st4_name</th>\n",
       "      <th>dup</th>\n",
       "      <th>Coordinates</th>\n",
       "      <th>distance_to_LPIS</th>\n",
       "      <th>nearest_LPIS</th>\n",
       "    </tr>\n",
       "  </thead>\n",
       "  <tbody>\n",
       "  </tbody>\n",
       "</table>\n",
       "</div>"
      ],
      "text/plain": [
       "Empty GeoDataFrame\n",
       "Columns: [intersection_id, y, x, st1_name, st2_name, st3_name, st4_name, dup, Coordinates, distance_to_LPIS, nearest_LPIS]\n",
       "Index: []"
      ]
     },
     "execution_count": 18,
     "metadata": {},
     "output_type": "execute_result"
    }
   ],
   "source": [
    "df1[pd.isnull(df1).any(axis=1)]"
   ]
  },
  {
   "cell_type": "code",
   "execution_count": 19,
   "metadata": {},
   "outputs": [
    {
     "name": "stdout",
     "output_type": "stream",
     "text": [
      "0\n"
     ]
    }
   ],
   "source": [
    "print(df1['distance_to_LPIS'].isnull().sum())"
   ]
  },
  {
   "cell_type": "code",
   "execution_count": 20,
   "metadata": {},
   "outputs": [],
   "source": [
    "# I am not sure why 63 signal intersections are not able to be paired with the nearest LPIS"
   ]
  },
  {
   "cell_type": "code",
   "execution_count": 21,
   "metadata": {},
   "outputs": [
    {
     "data": {
      "text/html": [
       "<div>\n",
       "<style scoped>\n",
       "    .dataframe tbody tr th:only-of-type {\n",
       "        vertical-align: middle;\n",
       "    }\n",
       "\n",
       "    .dataframe tbody tr th {\n",
       "        vertical-align: top;\n",
       "    }\n",
       "\n",
       "    .dataframe thead th {\n",
       "        text-align: right;\n",
       "    }\n",
       "</style>\n",
       "<table border=\"1\" class=\"dataframe\">\n",
       "  <thead>\n",
       "    <tr style=\"text-align: right;\">\n",
       "      <th></th>\n",
       "      <th>OBJECTID</th>\n",
       "      <th>Street</th>\n",
       "      <th>SAFStreetN</th>\n",
       "      <th>FeatureTyp</th>\n",
       "      <th>SegmentTyp</th>\n",
       "      <th>IncExFlag</th>\n",
       "      <th>RB_Layer</th>\n",
       "      <th>NonPed</th>\n",
       "      <th>TrafDir</th>\n",
       "      <th>TrafSrc</th>\n",
       "      <th>...</th>\n",
       "      <th>LHi_Hyphen</th>\n",
       "      <th>RLo_Hyphen</th>\n",
       "      <th>RHi_Hyphen</th>\n",
       "      <th>FromLeft</th>\n",
       "      <th>ToLeft</th>\n",
       "      <th>FromRight</th>\n",
       "      <th>ToRight</th>\n",
       "      <th>Join_ID</th>\n",
       "      <th>SHAPE_Leng</th>\n",
       "      <th>geometry</th>\n",
       "    </tr>\n",
       "  </thead>\n",
       "  <tbody>\n",
       "    <tr>\n",
       "      <th>0</th>\n",
       "      <td>1</td>\n",
       "      <td>EAST 168 STREET</td>\n",
       "      <td>None</td>\n",
       "      <td>0</td>\n",
       "      <td>U</td>\n",
       "      <td>None</td>\n",
       "      <td>B</td>\n",
       "      <td>None</td>\n",
       "      <td>T</td>\n",
       "      <td>DOT</td>\n",
       "      <td>...</td>\n",
       "      <td>699</td>\n",
       "      <td>596</td>\n",
       "      <td>716</td>\n",
       "      <td>599</td>\n",
       "      <td>699</td>\n",
       "      <td>596</td>\n",
       "      <td>716</td>\n",
       "      <td>2251001000000</td>\n",
       "      <td>396.030947</td>\n",
       "      <td>POINT (1010964.446978778 241812.2614034563)</td>\n",
       "    </tr>\n",
       "    <tr>\n",
       "      <th>1</th>\n",
       "      <td>1</td>\n",
       "      <td>EAST 168 STREET</td>\n",
       "      <td>None</td>\n",
       "      <td>0</td>\n",
       "      <td>U</td>\n",
       "      <td>None</td>\n",
       "      <td>B</td>\n",
       "      <td>None</td>\n",
       "      <td>T</td>\n",
       "      <td>DOT</td>\n",
       "      <td>...</td>\n",
       "      <td>699</td>\n",
       "      <td>596</td>\n",
       "      <td>716</td>\n",
       "      <td>599</td>\n",
       "      <td>699</td>\n",
       "      <td>596</td>\n",
       "      <td>716</td>\n",
       "      <td>2251001000000</td>\n",
       "      <td>396.030947</td>\n",
       "      <td>POINT (1011040.463264077 241747.2881445785)</td>\n",
       "    </tr>\n",
       "    <tr>\n",
       "      <th>2</th>\n",
       "      <td>1</td>\n",
       "      <td>EAST 168 STREET</td>\n",
       "      <td>None</td>\n",
       "      <td>0</td>\n",
       "      <td>U</td>\n",
       "      <td>None</td>\n",
       "      <td>B</td>\n",
       "      <td>None</td>\n",
       "      <td>T</td>\n",
       "      <td>DOT</td>\n",
       "      <td>...</td>\n",
       "      <td>699</td>\n",
       "      <td>596</td>\n",
       "      <td>716</td>\n",
       "      <td>599</td>\n",
       "      <td>699</td>\n",
       "      <td>596</td>\n",
       "      <td>716</td>\n",
       "      <td>2251001000000</td>\n",
       "      <td>396.030947</td>\n",
       "      <td>POINT (1011116.479549377 241682.3148857006)</td>\n",
       "    </tr>\n",
       "  </tbody>\n",
       "</table>\n",
       "<p>3 rows × 119 columns</p>\n",
       "</div>"
      ],
      "text/plain": [
       "   OBJECTID           Street SAFStreetN FeatureTyp SegmentTyp IncExFlag  \\\n",
       "0         1  EAST 168 STREET       None          0          U      None   \n",
       "1         1  EAST 168 STREET       None          0          U      None   \n",
       "2         1  EAST 168 STREET       None          0          U      None   \n",
       "\n",
       "  RB_Layer NonPed TrafDir TrafSrc  \\\n",
       "0        B   None       T     DOT   \n",
       "1        B   None       T     DOT   \n",
       "2        B   None       T     DOT   \n",
       "\n",
       "                      ...                      LHi_Hyphen RLo_Hyphen  \\\n",
       "0                     ...                             699        596   \n",
       "1                     ...                             699        596   \n",
       "2                     ...                             699        596   \n",
       "\n",
       "  RHi_Hyphen FromLeft ToLeft FromRight ToRight        Join_ID  SHAPE_Leng  \\\n",
       "0        716      599    699       596     716  2251001000000  396.030947   \n",
       "1        716      599    699       596     716  2251001000000  396.030947   \n",
       "2        716      599    699       596     716  2251001000000  396.030947   \n",
       "\n",
       "                                      geometry  \n",
       "0  POINT (1010964.446978778 241812.2614034563)  \n",
       "1  POINT (1011040.463264077 241747.2881445785)  \n",
       "2  POINT (1011116.479549377 241682.3148857006)  \n",
       "\n",
       "[3 rows x 119 columns]"
      ]
     },
     "execution_count": 21,
     "metadata": {},
     "output_type": "execute_result"
    }
   ],
   "source": [
    "# Open Streets shapefile\n",
    "fp = r\"\\Box Sync\\Policy Evaluation\\input_data\\nyclion_points_2263/nyclion_points_2263.shp\"\n",
    "df3 = gpd.read_file(origin+fp)\n",
    "df3.head(3)"
   ]
  },
  {
   "cell_type": "code",
   "execution_count": 22,
   "metadata": {},
   "outputs": [
    {
     "data": {
      "text/plain": [
       "{'proj': 'lcc',\n",
       " 'lat_1': 41.03333333333333,\n",
       " 'lat_2': 40.66666666666666,\n",
       " 'lat_0': 40.16666666666666,\n",
       " 'lon_0': -74,\n",
       " 'x_0': 300000.0000000001,\n",
       " 'y_0': 0,\n",
       " 'datum': 'NAD83',\n",
       " 'units': 'us-ft',\n",
       " 'no_defs': True}"
      ]
     },
     "execution_count": 22,
     "metadata": {},
     "output_type": "execute_result"
    }
   ],
   "source": [
    "df3.crs"
   ]
  },
  {
   "cell_type": "code",
   "execution_count": 23,
   "metadata": {},
   "outputs": [
    {
     "data": {
      "text/html": [
       "<div>\n",
       "<style scoped>\n",
       "    .dataframe tbody tr th:only-of-type {\n",
       "        vertical-align: middle;\n",
       "    }\n",
       "\n",
       "    .dataframe tbody tr th {\n",
       "        vertical-align: top;\n",
       "    }\n",
       "\n",
       "    .dataframe thead th {\n",
       "        text-align: right;\n",
       "    }\n",
       "</style>\n",
       "<table border=\"1\" class=\"dataframe\">\n",
       "  <thead>\n",
       "    <tr style=\"text-align: right;\">\n",
       "      <th></th>\n",
       "      <th>intersection_id</th>\n",
       "      <th>y</th>\n",
       "      <th>x</th>\n",
       "      <th>st1_name</th>\n",
       "      <th>st2_name</th>\n",
       "      <th>st3_name</th>\n",
       "      <th>st4_name</th>\n",
       "      <th>dup</th>\n",
       "      <th>Coordinates</th>\n",
       "      <th>distance_to_LPIS</th>\n",
       "      <th>nearest_LPIS</th>\n",
       "      <th>distance_to_Street</th>\n",
       "      <th>nearest_Street</th>\n",
       "    </tr>\n",
       "  </thead>\n",
       "  <tbody>\n",
       "    <tr>\n",
       "      <th>0</th>\n",
       "      <td>1.0</td>\n",
       "      <td>199793.6093</td>\n",
       "      <td>986336.149</td>\n",
       "      <td>ALLEN STREET</td>\n",
       "      <td>CANAL STREET</td>\n",
       "      <td></td>\n",
       "      <td></td>\n",
       "      <td>0</td>\n",
       "      <td>POINT (986336.149 199793.609300002)</td>\n",
       "      <td>276</td>\n",
       "      <td>1915</td>\n",
       "      <td>7</td>\n",
       "      <td>91705</td>\n",
       "    </tr>\n",
       "    <tr>\n",
       "      <th>1</th>\n",
       "      <td>2.0</td>\n",
       "      <td>202206.1619</td>\n",
       "      <td>982769.331</td>\n",
       "      <td>AVENUE OF THE AMERICAS</td>\n",
       "      <td>LAIGHT STREET</td>\n",
       "      <td>CANAL STREET</td>\n",
       "      <td></td>\n",
       "      <td>0</td>\n",
       "      <td>POINT (982769.331 202206.161899999)</td>\n",
       "      <td>592</td>\n",
       "      <td>2016</td>\n",
       "      <td>17</td>\n",
       "      <td>95035</td>\n",
       "    </tr>\n",
       "  </tbody>\n",
       "</table>\n",
       "</div>"
      ],
      "text/plain": [
       "   intersection_id            y           x                st1_name  \\\n",
       "0              1.0  199793.6093  986336.149            ALLEN STREET   \n",
       "1              2.0  202206.1619  982769.331  AVENUE OF THE AMERICAS   \n",
       "\n",
       "        st2_name      st3_name st4_name  dup  \\\n",
       "0   CANAL STREET                           0   \n",
       "1  LAIGHT STREET  CANAL STREET             0   \n",
       "\n",
       "                           Coordinates  distance_to_LPIS  nearest_LPIS  \\\n",
       "0  POINT (986336.149 199793.609300002)               276          1915   \n",
       "1  POINT (982769.331 202206.161899999)               592          2016   \n",
       "\n",
       "   distance_to_Street  nearest_Street  \n",
       "0                   7           91705  \n",
       "1                  17           95035  "
      ]
     },
     "execution_count": 23,
     "metadata": {},
     "output_type": "execute_result"
    }
   ],
   "source": [
    "df1[['distance_to_Street','nearest_Street']] = ckdnearest(df1, df3,'OBJECTID')\n",
    "df1.head(2)"
   ]
  },
  {
   "cell_type": "code",
   "execution_count": 24,
   "metadata": {},
   "outputs": [
    {
     "name": "stdout",
     "output_type": "stream",
     "text": [
      "0\n"
     ]
    }
   ],
   "source": [
    "print(df1['nearest_Street'].isnull().sum())"
   ]
  },
  {
   "cell_type": "code",
   "execution_count": 25,
   "metadata": {},
   "outputs": [
    {
     "name": "stdout",
     "output_type": "stream",
     "text": [
      "0\n"
     ]
    }
   ],
   "source": [
    "print(df1['distance_to_Street'].isnull().sum())"
   ]
  },
  {
   "cell_type": "code",
   "execution_count": 26,
   "metadata": {},
   "outputs": [
    {
     "data": {
      "text/html": [
       "<div>\n",
       "<style scoped>\n",
       "    .dataframe tbody tr th:only-of-type {\n",
       "        vertical-align: middle;\n",
       "    }\n",
       "\n",
       "    .dataframe tbody tr th {\n",
       "        vertical-align: top;\n",
       "    }\n",
       "\n",
       "    .dataframe thead th {\n",
       "        text-align: right;\n",
       "    }\n",
       "</style>\n",
       "<table border=\"1\" class=\"dataframe\">\n",
       "  <thead>\n",
       "    <tr style=\"text-align: right;\">\n",
       "      <th></th>\n",
       "      <th>uid</th>\n",
       "      <th>idagency</th>\n",
       "      <th>facname</th>\n",
       "      <th>opname</th>\n",
       "      <th>address</th>\n",
       "      <th>city</th>\n",
       "      <th>zipcode</th>\n",
       "      <th>bcode</th>\n",
       "      <th>facsubgrp</th>\n",
       "      <th>factype</th>\n",
       "      <th>capacity</th>\n",
       "      <th>util</th>\n",
       "      <th>xcoord</th>\n",
       "      <th>ycoord</th>\n",
       "      <th>geometry</th>\n",
       "    </tr>\n",
       "  </thead>\n",
       "  <tbody>\n",
       "    <tr>\n",
       "      <th>0</th>\n",
       "      <td>192.0</td>\n",
       "      <td>321000145390</td>\n",
       "      <td>Our Lady Of Refuge School</td>\n",
       "      <td>Our Lady Of Refuge School</td>\n",
       "      <td>2708 Briggs Avenue</td>\n",
       "      <td>Bronx</td>\n",
       "      <td>10458</td>\n",
       "      <td>36005</td>\n",
       "      <td>Non-Public K-12 Schools</td>\n",
       "      <td>Elementary School - Non-public</td>\n",
       "      <td>NaN</td>\n",
       "      <td>267.0</td>\n",
       "      <td>1.014359e+06</td>\n",
       "      <td>254977.5176</td>\n",
       "      <td>POINT (1014358.6833 254977.5176)</td>\n",
       "    </tr>\n",
       "    <tr>\n",
       "      <th>1</th>\n",
       "      <td>294.0</td>\n",
       "      <td>332000226225</td>\n",
       "      <td>Yeshiva Toldos Yesuscher</td>\n",
       "      <td>Yeshiva Toldos Yesuscher</td>\n",
       "      <td>1531 63 Street</td>\n",
       "      <td>Brooklyn</td>\n",
       "      <td>11219</td>\n",
       "      <td>36047</td>\n",
       "      <td>Non-Public K-12 Schools</td>\n",
       "      <td>Elementary School - Non-public</td>\n",
       "      <td>NaN</td>\n",
       "      <td>74.0</td>\n",
       "      <td>9.857114e+05</td>\n",
       "      <td>166689.5140</td>\n",
       "      <td>POINT (985711.4182 166689.514)</td>\n",
       "    </tr>\n",
       "    <tr>\n",
       "      <th>2</th>\n",
       "      <td>2233.0</td>\n",
       "      <td>331400225670</td>\n",
       "      <td>Ohel Elozer</td>\n",
       "      <td>Ohel Elozer</td>\n",
       "      <td>263 Classon Ave-Ste 4b</td>\n",
       "      <td>Brooklyn</td>\n",
       "      <td>11205</td>\n",
       "      <td>36047</td>\n",
       "      <td>Non-Public K-12 Schools</td>\n",
       "      <td>High School - Non-public</td>\n",
       "      <td>NaN</td>\n",
       "      <td>161.0</td>\n",
       "      <td>9.951838e+05</td>\n",
       "      <td>191390.1394</td>\n",
       "      <td>POINT (995183.844 191390.1394)</td>\n",
       "    </tr>\n",
       "  </tbody>\n",
       "</table>\n",
       "</div>"
      ],
      "text/plain": [
       "      uid      idagency                    facname                     opname  \\\n",
       "0   192.0  321000145390  Our Lady Of Refuge School  Our Lady Of Refuge School   \n",
       "1   294.0  332000226225   Yeshiva Toldos Yesuscher   Yeshiva Toldos Yesuscher   \n",
       "2  2233.0  331400225670                Ohel Elozer                Ohel Elozer   \n",
       "\n",
       "                  address      city zipcode  bcode                facsubgrp  \\\n",
       "0      2708 Briggs Avenue     Bronx   10458  36005  Non-Public K-12 Schools   \n",
       "1          1531 63 Street  Brooklyn   11219  36047  Non-Public K-12 Schools   \n",
       "2  263 Classon Ave-Ste 4b  Brooklyn   11205  36047  Non-Public K-12 Schools   \n",
       "\n",
       "                          factype  capacity   util        xcoord       ycoord  \\\n",
       "0  Elementary School - Non-public       NaN  267.0  1.014359e+06  254977.5176   \n",
       "1  Elementary School - Non-public       NaN   74.0  9.857114e+05  166689.5140   \n",
       "2        High School - Non-public       NaN  161.0  9.951838e+05  191390.1394   \n",
       "\n",
       "                           geometry  \n",
       "0  POINT (1014358.6833 254977.5176)  \n",
       "1    POINT (985711.4182 166689.514)  \n",
       "2    POINT (995183.844 191390.1394)  "
      ]
     },
     "execution_count": 26,
     "metadata": {},
     "output_type": "execute_result"
    }
   ],
   "source": [
    "# Open Schools shapefile\n",
    "fp = r\"\\Box Sync\\Policy Evaluation\\input_data\\school_private_public_2263\\school_private_public_2263.shp\"\n",
    "df4 = gpd.read_file(origin+fp)\n",
    "df4.head(3)"
   ]
  },
  {
   "cell_type": "code",
   "execution_count": 27,
   "metadata": {},
   "outputs": [
    {
     "data": {
      "text/plain": [
       "{'proj': 'lcc',\n",
       " 'lat_1': 41.03333333333333,\n",
       " 'lat_2': 40.66666666666666,\n",
       " 'lat_0': 40.16666666666666,\n",
       " 'lon_0': -74,\n",
       " 'x_0': 300000.0000000001,\n",
       " 'y_0': 0,\n",
       " 'datum': 'NAD83',\n",
       " 'units': 'us-ft',\n",
       " 'no_defs': True}"
      ]
     },
     "execution_count": 27,
     "metadata": {},
     "output_type": "execute_result"
    }
   ],
   "source": [
    "df4.crs"
   ]
  },
  {
   "cell_type": "code",
   "execution_count": 28,
   "metadata": {},
   "outputs": [
    {
     "data": {
      "text/html": [
       "<div>\n",
       "<style scoped>\n",
       "    .dataframe tbody tr th:only-of-type {\n",
       "        vertical-align: middle;\n",
       "    }\n",
       "\n",
       "    .dataframe tbody tr th {\n",
       "        vertical-align: top;\n",
       "    }\n",
       "\n",
       "    .dataframe thead th {\n",
       "        text-align: right;\n",
       "    }\n",
       "</style>\n",
       "<table border=\"1\" class=\"dataframe\">\n",
       "  <thead>\n",
       "    <tr style=\"text-align: right;\">\n",
       "      <th></th>\n",
       "      <th>intersection_id</th>\n",
       "      <th>y</th>\n",
       "      <th>x</th>\n",
       "      <th>st1_name</th>\n",
       "      <th>st2_name</th>\n",
       "      <th>st3_name</th>\n",
       "      <th>st4_name</th>\n",
       "      <th>dup</th>\n",
       "      <th>Coordinates</th>\n",
       "      <th>distance_to_LPIS</th>\n",
       "      <th>nearest_LPIS</th>\n",
       "      <th>distance_to_Street</th>\n",
       "      <th>nearest_Street</th>\n",
       "      <th>distance_to_Sch</th>\n",
       "      <th>nearest_Sch</th>\n",
       "    </tr>\n",
       "  </thead>\n",
       "  <tbody>\n",
       "    <tr>\n",
       "      <th>0</th>\n",
       "      <td>1.0</td>\n",
       "      <td>199793.6093</td>\n",
       "      <td>986336.149</td>\n",
       "      <td>ALLEN STREET</td>\n",
       "      <td>CANAL STREET</td>\n",
       "      <td></td>\n",
       "      <td></td>\n",
       "      <td>0</td>\n",
       "      <td>POINT (986336.149 199793.609300002)</td>\n",
       "      <td>276</td>\n",
       "      <td>1915</td>\n",
       "      <td>7</td>\n",
       "      <td>91705</td>\n",
       "      <td>529</td>\n",
       "      <td>3433.0</td>\n",
       "    </tr>\n",
       "    <tr>\n",
       "      <th>1</th>\n",
       "      <td>2.0</td>\n",
       "      <td>202206.1619</td>\n",
       "      <td>982769.331</td>\n",
       "      <td>AVENUE OF THE AMERICAS</td>\n",
       "      <td>LAIGHT STREET</td>\n",
       "      <td>CANAL STREET</td>\n",
       "      <td></td>\n",
       "      <td>0</td>\n",
       "      <td>POINT (982769.331 202206.161899999)</td>\n",
       "      <td>592</td>\n",
       "      <td>2016</td>\n",
       "      <td>17</td>\n",
       "      <td>95035</td>\n",
       "      <td>795</td>\n",
       "      <td>38150.0</td>\n",
       "    </tr>\n",
       "  </tbody>\n",
       "</table>\n",
       "</div>"
      ],
      "text/plain": [
       "   intersection_id            y           x                st1_name  \\\n",
       "0              1.0  199793.6093  986336.149            ALLEN STREET   \n",
       "1              2.0  202206.1619  982769.331  AVENUE OF THE AMERICAS   \n",
       "\n",
       "        st2_name      st3_name st4_name  dup  \\\n",
       "0   CANAL STREET                           0   \n",
       "1  LAIGHT STREET  CANAL STREET             0   \n",
       "\n",
       "                           Coordinates  distance_to_LPIS  nearest_LPIS  \\\n",
       "0  POINT (986336.149 199793.609300002)               276          1915   \n",
       "1  POINT (982769.331 202206.161899999)               592          2016   \n",
       "\n",
       "   distance_to_Street  nearest_Street  distance_to_Sch  nearest_Sch  \n",
       "0                   7           91705              529       3433.0  \n",
       "1                  17           95035              795      38150.0  "
      ]
     },
     "execution_count": 28,
     "metadata": {},
     "output_type": "execute_result"
    }
   ],
   "source": [
    "df1[['distance_to_Sch','nearest_Sch']] = ckdnearest(df1, df4,'uid')\n",
    "df1.head(2)"
   ]
  },
  {
   "cell_type": "code",
   "execution_count": 29,
   "metadata": {},
   "outputs": [
    {
     "name": "stdout",
     "output_type": "stream",
     "text": [
      "0\n"
     ]
    }
   ],
   "source": [
    "print(df1['nearest_Sch'].isnull().sum())"
   ]
  },
  {
   "cell_type": "code",
   "execution_count": 30,
   "metadata": {},
   "outputs": [
    {
     "name": "stdout",
     "output_type": "stream",
     "text": [
      "0\n"
     ]
    }
   ],
   "source": [
    "print(df1['distance_to_Sch'].isnull().sum())"
   ]
  },
  {
   "cell_type": "code",
   "execution_count": 31,
   "metadata": {},
   "outputs": [
    {
     "data": {
      "text/html": [
       "<div>\n",
       "<style scoped>\n",
       "    .dataframe tbody tr th:only-of-type {\n",
       "        vertical-align: middle;\n",
       "    }\n",
       "\n",
       "    .dataframe tbody tr th {\n",
       "        vertical-align: top;\n",
       "    }\n",
       "\n",
       "    .dataframe thead th {\n",
       "        text-align: right;\n",
       "    }\n",
       "</style>\n",
       "<table border=\"1\" class=\"dataframe\">\n",
       "  <thead>\n",
       "    <tr style=\"text-align: right;\">\n",
       "      <th></th>\n",
       "      <th>treatment_</th>\n",
       "      <th>completion</th>\n",
       "      <th>geometry</th>\n",
       "    </tr>\n",
       "  </thead>\n",
       "  <tbody>\n",
       "    <tr>\n",
       "      <th>0</th>\n",
       "      <td>Quick Kurb to X-walk</td>\n",
       "      <td>2017-12-08</td>\n",
       "      <td>POINT (-73.97604825017703 40.75144139179798)</td>\n",
       "    </tr>\n",
       "    <tr>\n",
       "      <th>1</th>\n",
       "      <td>Daylighting, Box markings, (1) 6' Rubber speed...</td>\n",
       "      <td>2018-04-12</td>\n",
       "      <td>POINT (-73.82577379991478 40.75635805716421)</td>\n",
       "    </tr>\n",
       "    <tr>\n",
       "      <th>2</th>\n",
       "      <td>Quick Kurb to X-walk</td>\n",
       "      <td>2016-06-30</td>\n",
       "      <td>POINT (-73.97719688637932 40.7643236906894)</td>\n",
       "    </tr>\n",
       "  </tbody>\n",
       "</table>\n",
       "</div>"
      ],
      "text/plain": [
       "                                          treatment_  completion  \\\n",
       "0                               Quick Kurb to X-walk  2017-12-08   \n",
       "1  Daylighting, Box markings, (1) 6' Rubber speed...  2018-04-12   \n",
       "2                               Quick Kurb to X-walk  2016-06-30   \n",
       "\n",
       "                                       geometry  \n",
       "0  POINT (-73.97604825017703 40.75144139179798)  \n",
       "1  POINT (-73.82577379991478 40.75635805716421)  \n",
       "2   POINT (-73.97719688637932 40.7643236906894)  "
      ]
     },
     "execution_count": 31,
     "metadata": {},
     "output_type": "execute_result"
    }
   ],
   "source": [
    "# Open VZV Left turn calming shapefile\n",
    "fp = r\"\\Box Sync\\Policy Evaluation\\input_data\\left_turn_traffic_calming_shapefile\\left_turn_traffic_calming.shp\"\n",
    "df5 = gpd.read_file(origin+fp)\n",
    "df5.head(3)"
   ]
  },
  {
   "cell_type": "code",
   "execution_count": 32,
   "metadata": {},
   "outputs": [
    {
     "data": {
      "text/plain": [
       "{'init': 'epsg:4326'}"
      ]
     },
     "execution_count": 32,
     "metadata": {},
     "output_type": "execute_result"
    }
   ],
   "source": [
    "df5.crs"
   ]
  },
  {
   "cell_type": "code",
   "execution_count": 33,
   "metadata": {},
   "outputs": [
    {
     "data": {
      "text/html": [
       "<div>\n",
       "<style scoped>\n",
       "    .dataframe tbody tr th:only-of-type {\n",
       "        vertical-align: middle;\n",
       "    }\n",
       "\n",
       "    .dataframe tbody tr th {\n",
       "        vertical-align: top;\n",
       "    }\n",
       "\n",
       "    .dataframe thead th {\n",
       "        text-align: right;\n",
       "    }\n",
       "</style>\n",
       "<table border=\"1\" class=\"dataframe\">\n",
       "  <thead>\n",
       "    <tr style=\"text-align: right;\">\n",
       "      <th></th>\n",
       "      <th>minx</th>\n",
       "      <th>miny</th>\n",
       "      <th>maxx</th>\n",
       "      <th>maxy</th>\n",
       "    </tr>\n",
       "  </thead>\n",
       "  <tbody>\n",
       "    <tr>\n",
       "      <th>0</th>\n",
       "      <td>-73.976048</td>\n",
       "      <td>40.751441</td>\n",
       "      <td>-73.976048</td>\n",
       "      <td>40.751441</td>\n",
       "    </tr>\n",
       "    <tr>\n",
       "      <th>1</th>\n",
       "      <td>-73.825774</td>\n",
       "      <td>40.756358</td>\n",
       "      <td>-73.825774</td>\n",
       "      <td>40.756358</td>\n",
       "    </tr>\n",
       "    <tr>\n",
       "      <th>...</th>\n",
       "      <td>...</td>\n",
       "      <td>...</td>\n",
       "      <td>...</td>\n",
       "      <td>...</td>\n",
       "    </tr>\n",
       "    <tr>\n",
       "      <th>230</th>\n",
       "      <td>-73.805648</td>\n",
       "      <td>40.704672</td>\n",
       "      <td>-73.805648</td>\n",
       "      <td>40.704672</td>\n",
       "    </tr>\n",
       "    <tr>\n",
       "      <th>231</th>\n",
       "      <td>-73.897563</td>\n",
       "      <td>40.707759</td>\n",
       "      <td>-73.897563</td>\n",
       "      <td>40.707759</td>\n",
       "    </tr>\n",
       "  </tbody>\n",
       "</table>\n",
       "<p>232 rows × 4 columns</p>\n",
       "</div>"
      ],
      "text/plain": [
       "          minx       miny       maxx       maxy\n",
       "0   -73.976048  40.751441 -73.976048  40.751441\n",
       "1   -73.825774  40.756358 -73.825774  40.756358\n",
       "..         ...        ...        ...        ...\n",
       "230 -73.805648  40.704672 -73.805648  40.704672\n",
       "231 -73.897563  40.707759 -73.897563  40.707759\n",
       "\n",
       "[232 rows x 4 columns]"
      ]
     },
     "execution_count": 33,
     "metadata": {},
     "output_type": "execute_result"
    }
   ],
   "source": [
    "df5.bounds"
   ]
  },
  {
   "cell_type": "code",
   "execution_count": 34,
   "metadata": {},
   "outputs": [],
   "source": [
    "# Reproeject VZV Left turn calming shapefile to EPSG 2263: NAD83 / New York Long Island (ftUS)\n",
    "df5 = df5.to_crs({'init': 'epsg:2263'})"
   ]
  },
  {
   "cell_type": "code",
   "execution_count": 35,
   "metadata": {},
   "outputs": [
    {
     "data": {
      "text/plain": [
       "{'init': 'epsg:2263'}"
      ]
     },
     "execution_count": 35,
     "metadata": {},
     "output_type": "execute_result"
    }
   ],
   "source": [
    "df5.crs"
   ]
  },
  {
   "cell_type": "code",
   "execution_count": 36,
   "metadata": {},
   "outputs": [
    {
     "data": {
      "text/html": [
       "<div>\n",
       "<style scoped>\n",
       "    .dataframe tbody tr th:only-of-type {\n",
       "        vertical-align: middle;\n",
       "    }\n",
       "\n",
       "    .dataframe tbody tr th {\n",
       "        vertical-align: top;\n",
       "    }\n",
       "\n",
       "    .dataframe thead th {\n",
       "        text-align: right;\n",
       "    }\n",
       "</style>\n",
       "<table border=\"1\" class=\"dataframe\">\n",
       "  <thead>\n",
       "    <tr style=\"text-align: right;\">\n",
       "      <th></th>\n",
       "      <th>treatment_</th>\n",
       "      <th>completion</th>\n",
       "      <th>geometry</th>\n",
       "      <th>LTC_ID</th>\n",
       "    </tr>\n",
       "  </thead>\n",
       "  <tbody>\n",
       "    <tr>\n",
       "      <th>0</th>\n",
       "      <td>Quick Kurb to X-walk</td>\n",
       "      <td>2017-12-08</td>\n",
       "      <td>POINT (990886.2363875993 213047.939427546)</td>\n",
       "      <td>0</td>\n",
       "    </tr>\n",
       "    <tr>\n",
       "      <th>1</th>\n",
       "      <td>Daylighting, Box markings, (1) 6' Rubber speed...</td>\n",
       "      <td>2018-04-12</td>\n",
       "      <td>POINT (1032518.714146682 214886.3347008746)</td>\n",
       "      <td>1</td>\n",
       "    </tr>\n",
       "    <tr>\n",
       "      <th>2</th>\n",
       "      <td>Quick Kurb to X-walk</td>\n",
       "      <td>2016-06-30</td>\n",
       "      <td>POINT (990566.7655698524 217741.2961825352)</td>\n",
       "      <td>2</td>\n",
       "    </tr>\n",
       "  </tbody>\n",
       "</table>\n",
       "</div>"
      ],
      "text/plain": [
       "                                          treatment_  completion  \\\n",
       "0                               Quick Kurb to X-walk  2017-12-08   \n",
       "1  Daylighting, Box markings, (1) 6' Rubber speed...  2018-04-12   \n",
       "2                               Quick Kurb to X-walk  2016-06-30   \n",
       "\n",
       "                                      geometry  LTC_ID  \n",
       "0   POINT (990886.2363875993 213047.939427546)       0  \n",
       "1  POINT (1032518.714146682 214886.3347008746)       1  \n",
       "2  POINT (990566.7655698524 217741.2961825352)       2  "
      ]
     },
     "execution_count": 36,
     "metadata": {},
     "output_type": "execute_result"
    }
   ],
   "source": [
    "# Create ID variable\n",
    "df5['LTC_ID'] = df5.index\n",
    "df5.head(3)"
   ]
  },
  {
   "cell_type": "code",
   "execution_count": 37,
   "metadata": {},
   "outputs": [
    {
     "data": {
      "text/plain": [
       "<matplotlib.axes._subplots.AxesSubplot at 0x27d55774da0>"
      ]
     },
     "execution_count": 37,
     "metadata": {},
     "output_type": "execute_result"
    },
    {
     "data": {
      "image/png": "[encoded data removed]",
      "text/plain": [
       "<Figure size 432x288 with 1 Axes>"
      ]
     },
     "metadata": {},
     "output_type": "display_data"
    }
   ],
   "source": [
    "df5.plot()"
   ]
  },
  {
   "cell_type": "code",
   "execution_count": 38,
   "metadata": {},
   "outputs": [
    {
     "data": {
      "text/html": [
       "<div>\n",
       "<style scoped>\n",
       "    .dataframe tbody tr th:only-of-type {\n",
       "        vertical-align: middle;\n",
       "    }\n",
       "\n",
       "    .dataframe tbody tr th {\n",
       "        vertical-align: top;\n",
       "    }\n",
       "\n",
       "    .dataframe thead th {\n",
       "        text-align: right;\n",
       "    }\n",
       "</style>\n",
       "<table border=\"1\" class=\"dataframe\">\n",
       "  <thead>\n",
       "    <tr style=\"text-align: right;\">\n",
       "      <th></th>\n",
       "      <th>intersection_id</th>\n",
       "      <th>y</th>\n",
       "      <th>x</th>\n",
       "      <th>st1_name</th>\n",
       "      <th>st2_name</th>\n",
       "      <th>st3_name</th>\n",
       "      <th>st4_name</th>\n",
       "      <th>dup</th>\n",
       "      <th>Coordinates</th>\n",
       "      <th>distance_to_LPIS</th>\n",
       "      <th>nearest_LPIS</th>\n",
       "      <th>distance_to_Street</th>\n",
       "      <th>nearest_Street</th>\n",
       "      <th>distance_to_Sch</th>\n",
       "      <th>nearest_Sch</th>\n",
       "      <th>distance_to_LTC</th>\n",
       "      <th>nearest_LTC</th>\n",
       "    </tr>\n",
       "  </thead>\n",
       "  <tbody>\n",
       "    <tr>\n",
       "      <th>0</th>\n",
       "      <td>1.0</td>\n",
       "      <td>199793.6093</td>\n",
       "      <td>986336.149</td>\n",
       "      <td>ALLEN STREET</td>\n",
       "      <td>CANAL STREET</td>\n",
       "      <td></td>\n",
       "      <td></td>\n",
       "      <td>0</td>\n",
       "      <td>POINT (986336.149 199793.609300002)</td>\n",
       "      <td>276</td>\n",
       "      <td>1915</td>\n",
       "      <td>7</td>\n",
       "      <td>91705</td>\n",
       "      <td>529</td>\n",
       "      <td>3433.0</td>\n",
       "      <td>1183</td>\n",
       "      <td>191</td>\n",
       "    </tr>\n",
       "    <tr>\n",
       "      <th>1</th>\n",
       "      <td>2.0</td>\n",
       "      <td>202206.1619</td>\n",
       "      <td>982769.331</td>\n",
       "      <td>AVENUE OF THE AMERICAS</td>\n",
       "      <td>LAIGHT STREET</td>\n",
       "      <td>CANAL STREET</td>\n",
       "      <td></td>\n",
       "      <td>0</td>\n",
       "      <td>POINT (982769.331 202206.161899999)</td>\n",
       "      <td>592</td>\n",
       "      <td>2016</td>\n",
       "      <td>17</td>\n",
       "      <td>95035</td>\n",
       "      <td>795</td>\n",
       "      <td>38150.0</td>\n",
       "      <td>411</td>\n",
       "      <td>77</td>\n",
       "    </tr>\n",
       "  </tbody>\n",
       "</table>\n",
       "</div>"
      ],
      "text/plain": [
       "   intersection_id            y           x                st1_name  \\\n",
       "0              1.0  199793.6093  986336.149            ALLEN STREET   \n",
       "1              2.0  202206.1619  982769.331  AVENUE OF THE AMERICAS   \n",
       "\n",
       "        st2_name      st3_name st4_name  dup  \\\n",
       "0   CANAL STREET                           0   \n",
       "1  LAIGHT STREET  CANAL STREET             0   \n",
       "\n",
       "                           Coordinates  distance_to_LPIS  nearest_LPIS  \\\n",
       "0  POINT (986336.149 199793.609300002)               276          1915   \n",
       "1  POINT (982769.331 202206.161899999)               592          2016   \n",
       "\n",
       "   distance_to_Street  nearest_Street  distance_to_Sch  nearest_Sch  \\\n",
       "0                   7           91705              529       3433.0   \n",
       "1                  17           95035              795      38150.0   \n",
       "\n",
       "   distance_to_LTC  nearest_LTC  \n",
       "0             1183          191  \n",
       "1              411           77  "
      ]
     },
     "execution_count": 38,
     "metadata": {},
     "output_type": "execute_result"
    }
   ],
   "source": [
    "df1[['distance_to_LTC','nearest_LTC']] = ckdnearest(df1, df5,'LTC_ID')\n",
    "df1.head(2)"
   ]
  },
  {
   "cell_type": "code",
   "execution_count": 39,
   "metadata": {},
   "outputs": [
    {
     "name": "stdout",
     "output_type": "stream",
     "text": [
      "0\n"
     ]
    }
   ],
   "source": [
    "print(df1['nearest_LTC'].isnull().sum())"
   ]
  },
  {
   "cell_type": "markdown",
   "metadata": {},
   "source": [
    "# Open VZV Street Improvement shapefile\n",
    "fp = r\"\\Box Sync\\Policy Evaluation\\input_data\\street_improvement_projects_intersections_shapefile\\street_improvement_projects_intersections.shp\"\n",
    "df6 = gpd.read_file(origin+fp)\n",
    "df6.tail(3)"
   ]
  },
  {
   "cell_type": "markdown",
   "metadata": {},
   "source": [
    "df6.crs"
   ]
  },
  {
   "cell_type": "markdown",
   "metadata": {},
   "source": [
    "# Reproeject VZV Street Improvement shapefile to EPSG 2263: NAD83 / New York Long Island (ftUS)\n",
    "df6 = df6.to_crs({'init': 'epsg:2263'})"
   ]
  },
  {
   "cell_type": "markdown",
   "metadata": {},
   "source": [
    "df6.crs"
   ]
  },
  {
   "cell_type": "markdown",
   "metadata": {},
   "source": [
    "# Create ID variable\n",
    "df6['StImpro_ID'] = df6.index\n",
    "df6.head(3)"
   ]
  },
  {
   "cell_type": "markdown",
   "metadata": {},
   "source": [
    "df6.plot()"
   ]
  },
  {
   "cell_type": "markdown",
   "metadata": {},
   "source": [
    "df1[['distance_to_StImpro','nearest_StImpro']] = ckdnearest(df1, df6,'StImpro_ID')\n",
    "df1.head(2)"
   ]
  },
  {
   "cell_type": "code",
   "execution_count": 40,
   "metadata": {},
   "outputs": [
    {
     "data": {
      "text/html": [
       "<div>\n",
       "<style scoped>\n",
       "    .dataframe tbody tr th:only-of-type {\n",
       "        vertical-align: middle;\n",
       "    }\n",
       "\n",
       "    .dataframe tbody tr th {\n",
       "        vertical-align: top;\n",
       "    }\n",
       "\n",
       "    .dataframe thead th {\n",
       "        text-align: right;\n",
       "    }\n",
       "</style>\n",
       "<table border=\"1\" class=\"dataframe\">\n",
       "  <thead>\n",
       "    <tr style=\"text-align: right;\">\n",
       "      <th></th>\n",
       "      <th>tf_facilit</th>\n",
       "      <th>comments</th>\n",
       "      <th>bikedir</th>\n",
       "      <th>ft_facilit</th>\n",
       "      <th>objectid_1</th>\n",
       "      <th>allclasses</th>\n",
       "      <th>date_instd</th>\n",
       "      <th>time_instd</th>\n",
       "      <th>lanecount</th>\n",
       "      <th>segment_id</th>\n",
       "      <th>boro</th>\n",
       "      <th>street</th>\n",
       "      <th>date_modda</th>\n",
       "      <th>time_modda</th>\n",
       "      <th>tostreet</th>\n",
       "      <th>fromstreet</th>\n",
       "      <th>onoffst</th>\n",
       "      <th>geometry</th>\n",
       "    </tr>\n",
       "  </thead>\n",
       "  <tbody>\n",
       "    <tr>\n",
       "      <th>0</th>\n",
       "      <td>Protected Path</td>\n",
       "      <td>None</td>\n",
       "      <td>L</td>\n",
       "      <td>None</td>\n",
       "      <td>1.0</td>\n",
       "      <td>I</td>\n",
       "      <td>None</td>\n",
       "      <td>00:00:00.000</td>\n",
       "      <td>1.0</td>\n",
       "      <td>33547</td>\n",
       "      <td>1.0</td>\n",
       "      <td>9 AV</td>\n",
       "      <td>None</td>\n",
       "      <td>00:00:00.000</td>\n",
       "      <td>W 31 ST</td>\n",
       "      <td>W 16 ST</td>\n",
       "      <td>ON</td>\n",
       "      <td>POINT (984139.5802614246 211708.657997195)</td>\n",
       "    </tr>\n",
       "    <tr>\n",
       "      <th>1</th>\n",
       "      <td>Protected Path</td>\n",
       "      <td>None</td>\n",
       "      <td>L</td>\n",
       "      <td>None</td>\n",
       "      <td>1.0</td>\n",
       "      <td>I</td>\n",
       "      <td>None</td>\n",
       "      <td>00:00:00.000</td>\n",
       "      <td>1.0</td>\n",
       "      <td>33547</td>\n",
       "      <td>1.0</td>\n",
       "      <td>9 AV</td>\n",
       "      <td>None</td>\n",
       "      <td>00:00:00.000</td>\n",
       "      <td>W 31 ST</td>\n",
       "      <td>W 16 ST</td>\n",
       "      <td>ON</td>\n",
       "      <td>POINT (984140.0661334711 211709.5320271455)</td>\n",
       "    </tr>\n",
       "    <tr>\n",
       "      <th>2</th>\n",
       "      <td>Protected Path</td>\n",
       "      <td>None</td>\n",
       "      <td>L</td>\n",
       "      <td>None</td>\n",
       "      <td>1.0</td>\n",
       "      <td>I</td>\n",
       "      <td>None</td>\n",
       "      <td>00:00:00.000</td>\n",
       "      <td>1.0</td>\n",
       "      <td>33547</td>\n",
       "      <td>1.0</td>\n",
       "      <td>9 AV</td>\n",
       "      <td>None</td>\n",
       "      <td>00:00:00.000</td>\n",
       "      <td>W 31 ST</td>\n",
       "      <td>W 16 ST</td>\n",
       "      <td>ON</td>\n",
       "      <td>POINT (984140.5520055175 211710.4060570961)</td>\n",
       "    </tr>\n",
       "  </tbody>\n",
       "</table>\n",
       "</div>"
      ],
      "text/plain": [
       "       tf_facilit comments bikedir ft_facilit  objectid_1 allclasses  \\\n",
       "0  Protected Path     None       L       None         1.0          I   \n",
       "1  Protected Path     None       L       None         1.0          I   \n",
       "2  Protected Path     None       L       None         1.0          I   \n",
       "\n",
       "  date_instd    time_instd  lanecount segment_id  boro street date_modda  \\\n",
       "0       None  00:00:00.000        1.0      33547   1.0   9 AV       None   \n",
       "1       None  00:00:00.000        1.0      33547   1.0   9 AV       None   \n",
       "2       None  00:00:00.000        1.0      33547   1.0   9 AV       None   \n",
       "\n",
       "     time_modda tostreet fromstreet onoffst  \\\n",
       "0  00:00:00.000  W 31 ST    W 16 ST      ON   \n",
       "1  00:00:00.000  W 31 ST    W 16 ST      ON   \n",
       "2  00:00:00.000  W 31 ST    W 16 ST      ON   \n",
       "\n",
       "                                      geometry  \n",
       "0   POINT (984139.5802614246 211708.657997195)  \n",
       "1  POINT (984140.0661334711 211709.5320271455)  \n",
       "2  POINT (984140.5520055175 211710.4060570961)  "
      ]
     },
     "execution_count": 40,
     "metadata": {},
     "output_type": "execute_result"
    }
   ],
   "source": [
    "# Open Bikeroute shapefile\n",
    "fp = r\"\\Box Sync\\Policy Evaluation\\input_data\\bike_routes_points_2263\\bike_routes_points_2263.shp\"\n",
    "df7 = gpd.read_file(origin+fp)\n",
    "df7.head(3)"
   ]
  },
  {
   "cell_type": "code",
   "execution_count": 41,
   "metadata": {},
   "outputs": [
    {
     "data": {
      "text/plain": [
       "{'proj': 'lcc',\n",
       " 'lat_1': 41.03333333333333,\n",
       " 'lat_2': 40.66666666666666,\n",
       " 'lat_0': 40.16666666666666,\n",
       " 'lon_0': -74,\n",
       " 'x_0': 300000.0000000001,\n",
       " 'y_0': 0,\n",
       " 'datum': 'NAD83',\n",
       " 'units': 'us-ft',\n",
       " 'no_defs': True}"
      ]
     },
     "execution_count": 41,
     "metadata": {},
     "output_type": "execute_result"
    }
   ],
   "source": [
    "df7.crs"
   ]
  },
  {
   "cell_type": "code",
   "execution_count": 42,
   "metadata": {},
   "outputs": [
    {
     "data": {
      "text/html": [
       "<div>\n",
       "<style scoped>\n",
       "    .dataframe tbody tr th:only-of-type {\n",
       "        vertical-align: middle;\n",
       "    }\n",
       "\n",
       "    .dataframe tbody tr th {\n",
       "        vertical-align: top;\n",
       "    }\n",
       "\n",
       "    .dataframe thead th {\n",
       "        text-align: right;\n",
       "    }\n",
       "</style>\n",
       "<table border=\"1\" class=\"dataframe\">\n",
       "  <thead>\n",
       "    <tr style=\"text-align: right;\">\n",
       "      <th></th>\n",
       "      <th>intersection_id</th>\n",
       "      <th>y</th>\n",
       "      <th>x</th>\n",
       "      <th>st1_name</th>\n",
       "      <th>st2_name</th>\n",
       "      <th>st3_name</th>\n",
       "      <th>st4_name</th>\n",
       "      <th>dup</th>\n",
       "      <th>Coordinates</th>\n",
       "      <th>distance_to_LPIS</th>\n",
       "      <th>nearest_LPIS</th>\n",
       "      <th>distance_to_Street</th>\n",
       "      <th>nearest_Street</th>\n",
       "      <th>distance_to_Sch</th>\n",
       "      <th>nearest_Sch</th>\n",
       "      <th>distance_to_LTC</th>\n",
       "      <th>nearest_LTC</th>\n",
       "      <th>distance_to_bikeroute</th>\n",
       "      <th>nearest_bikeroute</th>\n",
       "    </tr>\n",
       "  </thead>\n",
       "  <tbody>\n",
       "    <tr>\n",
       "      <th>0</th>\n",
       "      <td>1.0</td>\n",
       "      <td>199793.6093</td>\n",
       "      <td>986336.149</td>\n",
       "      <td>ALLEN STREET</td>\n",
       "      <td>CANAL STREET</td>\n",
       "      <td></td>\n",
       "      <td></td>\n",
       "      <td>0</td>\n",
       "      <td>POINT (986336.149 199793.609300002)</td>\n",
       "      <td>276</td>\n",
       "      <td>1915</td>\n",
       "      <td>7</td>\n",
       "      <td>91705</td>\n",
       "      <td>529</td>\n",
       "      <td>3433.0</td>\n",
       "      <td>1183</td>\n",
       "      <td>191</td>\n",
       "      <td>3</td>\n",
       "      <td>162688</td>\n",
       "    </tr>\n",
       "    <tr>\n",
       "      <th>1</th>\n",
       "      <td>2.0</td>\n",
       "      <td>202206.1619</td>\n",
       "      <td>982769.331</td>\n",
       "      <td>AVENUE OF THE AMERICAS</td>\n",
       "      <td>LAIGHT STREET</td>\n",
       "      <td>CANAL STREET</td>\n",
       "      <td></td>\n",
       "      <td>0</td>\n",
       "      <td>POINT (982769.331 202206.161899999)</td>\n",
       "      <td>592</td>\n",
       "      <td>2016</td>\n",
       "      <td>17</td>\n",
       "      <td>95035</td>\n",
       "      <td>795</td>\n",
       "      <td>38150.0</td>\n",
       "      <td>411</td>\n",
       "      <td>77</td>\n",
       "      <td>230</td>\n",
       "      <td>31876</td>\n",
       "    </tr>\n",
       "  </tbody>\n",
       "</table>\n",
       "</div>"
      ],
      "text/plain": [
       "   intersection_id            y           x                st1_name  \\\n",
       "0              1.0  199793.6093  986336.149            ALLEN STREET   \n",
       "1              2.0  202206.1619  982769.331  AVENUE OF THE AMERICAS   \n",
       "\n",
       "        st2_name      st3_name st4_name  dup  \\\n",
       "0   CANAL STREET                           0   \n",
       "1  LAIGHT STREET  CANAL STREET             0   \n",
       "\n",
       "                           Coordinates  distance_to_LPIS  nearest_LPIS  \\\n",
       "0  POINT (986336.149 199793.609300002)               276          1915   \n",
       "1  POINT (982769.331 202206.161899999)               592          2016   \n",
       "\n",
       "   distance_to_Street  nearest_Street  distance_to_Sch  nearest_Sch  \\\n",
       "0                   7           91705              529       3433.0   \n",
       "1                  17           95035              795      38150.0   \n",
       "\n",
       "   distance_to_LTC  nearest_LTC  distance_to_bikeroute nearest_bikeroute  \n",
       "0             1183          191                      3            162688  \n",
       "1              411           77                    230             31876  "
      ]
     },
     "execution_count": 42,
     "metadata": {},
     "output_type": "execute_result"
    }
   ],
   "source": [
    "df1[['distance_to_bikeroute','nearest_bikeroute']] = ckdnearest(df1, df7,'segment_id')\n",
    "df1.head(2)"
   ]
  },
  {
   "cell_type": "code",
   "execution_count": 43,
   "metadata": {},
   "outputs": [
    {
     "name": "stdout",
     "output_type": "stream",
     "text": [
      "0\n"
     ]
    }
   ],
   "source": [
    "print(df1['nearest_bikeroute'].isnull().sum())"
   ]
  },
  {
   "cell_type": "code",
   "execution_count": 44,
   "metadata": {},
   "outputs": [],
   "source": [
    "#For some reason bike route has not issues with missing"
   ]
  },
  {
   "cell_type": "code",
   "execution_count": 45,
   "metadata": {},
   "outputs": [
    {
     "data": {
      "text/html": [
       "<div>\n",
       "<style scoped>\n",
       "    .dataframe tbody tr th:only-of-type {\n",
       "        vertical-align: middle;\n",
       "    }\n",
       "\n",
       "    .dataframe tbody tr th {\n",
       "        vertical-align: top;\n",
       "    }\n",
       "\n",
       "    .dataframe thead th {\n",
       "        text-align: right;\n",
       "    }\n",
       "</style>\n",
       "<table border=\"1\" class=\"dataframe\">\n",
       "  <thead>\n",
       "    <tr style=\"text-align: right;\">\n",
       "      <th></th>\n",
       "      <th>OBJECTID</th>\n",
       "      <th>Street</th>\n",
       "      <th>SAFStreetN</th>\n",
       "      <th>FeatureTyp</th>\n",
       "      <th>SegmentTyp</th>\n",
       "      <th>IncExFlag</th>\n",
       "      <th>RB_Layer</th>\n",
       "      <th>NonPed</th>\n",
       "      <th>TrafDir</th>\n",
       "      <th>TrafSrc</th>\n",
       "      <th>...</th>\n",
       "      <th>Restrictio</th>\n",
       "      <th>NYC_Reg</th>\n",
       "      <th>LtdLocal</th>\n",
       "      <th>ThruExwy</th>\n",
       "      <th>LocalBrg</th>\n",
       "      <th>LocalTunl</th>\n",
       "      <th>ThruBrg</th>\n",
       "      <th>ThruTunl</th>\n",
       "      <th>Shape_Leng</th>\n",
       "      <th>geometry</th>\n",
       "    </tr>\n",
       "  </thead>\n",
       "  <tbody>\n",
       "    <tr>\n",
       "      <th>0</th>\n",
       "      <td>1</td>\n",
       "      <td>TRINITY PLACE</td>\n",
       "      <td>None</td>\n",
       "      <td>0</td>\n",
       "      <td>U</td>\n",
       "      <td>None</td>\n",
       "      <td>B</td>\n",
       "      <td>None</td>\n",
       "      <td>W</td>\n",
       "      <td>DOT</td>\n",
       "      <td>...</td>\n",
       "      <td>None</td>\n",
       "      <td>NYCDOT Traffic Rules, Section 4-13-(d)(2)</td>\n",
       "      <td>None</td>\n",
       "      <td>None</td>\n",
       "      <td>None</td>\n",
       "      <td>None</td>\n",
       "      <td>None</td>\n",
       "      <td>None</td>\n",
       "      <td>61.384654</td>\n",
       "      <td>POINT (980855.2233999987 197527.1545999364)</td>\n",
       "    </tr>\n",
       "    <tr>\n",
       "      <th>1</th>\n",
       "      <td>2</td>\n",
       "      <td>WATER STREET</td>\n",
       "      <td>None</td>\n",
       "      <td>0</td>\n",
       "      <td>U</td>\n",
       "      <td>None</td>\n",
       "      <td>B</td>\n",
       "      <td>None</td>\n",
       "      <td>T</td>\n",
       "      <td>DOT</td>\n",
       "      <td>...</td>\n",
       "      <td>None</td>\n",
       "      <td>NYCDOT Traffic Rules, Section 4-13-(d)(2)</td>\n",
       "      <td>None</td>\n",
       "      <td>None</td>\n",
       "      <td>None</td>\n",
       "      <td>None</td>\n",
       "      <td>None</td>\n",
       "      <td>None</td>\n",
       "      <td>243.748254</td>\n",
       "      <td>POINT (980827.536599993 195309.7279999424)</td>\n",
       "    </tr>\n",
       "    <tr>\n",
       "      <th>2</th>\n",
       "      <td>2</td>\n",
       "      <td>WATER STREET</td>\n",
       "      <td>None</td>\n",
       "      <td>0</td>\n",
       "      <td>U</td>\n",
       "      <td>None</td>\n",
       "      <td>B</td>\n",
       "      <td>None</td>\n",
       "      <td>T</td>\n",
       "      <td>DOT</td>\n",
       "      <td>...</td>\n",
       "      <td>None</td>\n",
       "      <td>NYCDOT Traffic Rules, Section 4-13-(d)(2)</td>\n",
       "      <td>None</td>\n",
       "      <td>None</td>\n",
       "      <td>None</td>\n",
       "      <td>None</td>\n",
       "      <td>None</td>\n",
       "      <td>None</td>\n",
       "      <td>243.748254</td>\n",
       "      <td>POINT (980922.8409135042 195340.0114579148)</td>\n",
       "    </tr>\n",
       "  </tbody>\n",
       "</table>\n",
       "<p>3 rows × 122 columns</p>\n",
       "</div>"
      ],
      "text/plain": [
       "   OBJECTID         Street SAFStreetN FeatureTyp SegmentTyp IncExFlag  \\\n",
       "0         1  TRINITY PLACE       None          0          U      None   \n",
       "1         2   WATER STREET       None          0          U      None   \n",
       "2         2   WATER STREET       None          0          U      None   \n",
       "\n",
       "  RB_Layer NonPed TrafDir TrafSrc  \\\n",
       "0        B   None       W     DOT   \n",
       "1        B   None       T     DOT   \n",
       "2        B   None       T     DOT   \n",
       "\n",
       "                      ...                      Restrictio  \\\n",
       "0                     ...                            None   \n",
       "1                     ...                            None   \n",
       "2                     ...                            None   \n",
       "\n",
       "                                     NYC_Reg LtdLocal ThruExwy LocalBrg  \\\n",
       "0  NYCDOT Traffic Rules, Section 4-13-(d)(2)     None     None     None   \n",
       "1  NYCDOT Traffic Rules, Section 4-13-(d)(2)     None     None     None   \n",
       "2  NYCDOT Traffic Rules, Section 4-13-(d)(2)     None     None     None   \n",
       "\n",
       "  LocalTunl ThruBrg ThruTunl  Shape_Leng  \\\n",
       "0      None    None     None   61.384654   \n",
       "1      None    None     None  243.748254   \n",
       "2      None    None     None  243.748254   \n",
       "\n",
       "                                      geometry  \n",
       "0  POINT (980855.2233999987 197527.1545999364)  \n",
       "1   POINT (980827.536599993 195309.7279999424)  \n",
       "2  POINT (980922.8409135042 195340.0114579148)  \n",
       "\n",
       "[3 rows x 122 columns]"
      ]
     },
     "execution_count": 45,
     "metadata": {},
     "output_type": "execute_result"
    }
   ],
   "source": [
    "# Open Truckroute shapefile\n",
    "fp = r\"\\Box Sync\\Policy Evaluation\\input_data\\truckroute_points_2263\\truckroute_points_2263.shp\"\n",
    "df8 = gpd.read_file(origin+fp)\n",
    "df8.head(3)"
   ]
  },
  {
   "cell_type": "code",
   "execution_count": 46,
   "metadata": {},
   "outputs": [
    {
     "name": "stdout",
     "output_type": "stream",
     "text": [
      "0\n"
     ]
    }
   ],
   "source": [
    "print(df8['OBJECTID'].isnull().sum())"
   ]
  },
  {
   "cell_type": "code",
   "execution_count": 47,
   "metadata": {},
   "outputs": [
    {
     "data": {
      "text/plain": [
       "{'proj': 'lcc',\n",
       " 'lat_1': 41.03333333333333,\n",
       " 'lat_2': 40.66666666666666,\n",
       " 'lat_0': 40.16666666666666,\n",
       " 'lon_0': -74,\n",
       " 'x_0': 300000.0000000001,\n",
       " 'y_0': 0,\n",
       " 'datum': 'NAD83',\n",
       " 'units': 'us-ft',\n",
       " 'no_defs': True}"
      ]
     },
     "execution_count": 47,
     "metadata": {},
     "output_type": "execute_result"
    }
   ],
   "source": [
    "df8.crs"
   ]
  },
  {
   "cell_type": "code",
   "execution_count": 48,
   "metadata": {},
   "outputs": [
    {
     "data": {
      "text/html": [
       "<div>\n",
       "<style scoped>\n",
       "    .dataframe tbody tr th:only-of-type {\n",
       "        vertical-align: middle;\n",
       "    }\n",
       "\n",
       "    .dataframe tbody tr th {\n",
       "        vertical-align: top;\n",
       "    }\n",
       "\n",
       "    .dataframe thead th {\n",
       "        text-align: right;\n",
       "    }\n",
       "</style>\n",
       "<table border=\"1\" class=\"dataframe\">\n",
       "  <thead>\n",
       "    <tr style=\"text-align: right;\">\n",
       "      <th></th>\n",
       "      <th>intersection_id</th>\n",
       "      <th>y</th>\n",
       "      <th>x</th>\n",
       "      <th>st1_name</th>\n",
       "      <th>st2_name</th>\n",
       "      <th>st3_name</th>\n",
       "      <th>st4_name</th>\n",
       "      <th>dup</th>\n",
       "      <th>Coordinates</th>\n",
       "      <th>distance_to_LPIS</th>\n",
       "      <th>...</th>\n",
       "      <th>distance_to_Street</th>\n",
       "      <th>nearest_Street</th>\n",
       "      <th>distance_to_Sch</th>\n",
       "      <th>nearest_Sch</th>\n",
       "      <th>distance_to_LTC</th>\n",
       "      <th>nearest_LTC</th>\n",
       "      <th>distance_to_bikeroute</th>\n",
       "      <th>nearest_bikeroute</th>\n",
       "      <th>distance_to_truckroute</th>\n",
       "      <th>nearest_truckroute</th>\n",
       "    </tr>\n",
       "  </thead>\n",
       "  <tbody>\n",
       "    <tr>\n",
       "      <th>0</th>\n",
       "      <td>1.0</td>\n",
       "      <td>199793.6093</td>\n",
       "      <td>986336.149</td>\n",
       "      <td>ALLEN STREET</td>\n",
       "      <td>CANAL STREET</td>\n",
       "      <td></td>\n",
       "      <td></td>\n",
       "      <td>0</td>\n",
       "      <td>POINT (986336.149 199793.609300002)</td>\n",
       "      <td>276</td>\n",
       "      <td>...</td>\n",
       "      <td>7</td>\n",
       "      <td>91705</td>\n",
       "      <td>529</td>\n",
       "      <td>3433.0</td>\n",
       "      <td>1183</td>\n",
       "      <td>191</td>\n",
       "      <td>3</td>\n",
       "      <td>162688</td>\n",
       "      <td>26</td>\n",
       "      <td>892</td>\n",
       "    </tr>\n",
       "    <tr>\n",
       "      <th>1</th>\n",
       "      <td>2.0</td>\n",
       "      <td>202206.1619</td>\n",
       "      <td>982769.331</td>\n",
       "      <td>AVENUE OF THE AMERICAS</td>\n",
       "      <td>LAIGHT STREET</td>\n",
       "      <td>CANAL STREET</td>\n",
       "      <td></td>\n",
       "      <td>0</td>\n",
       "      <td>POINT (982769.331 202206.161899999)</td>\n",
       "      <td>592</td>\n",
       "      <td>...</td>\n",
       "      <td>17</td>\n",
       "      <td>95035</td>\n",
       "      <td>795</td>\n",
       "      <td>38150.0</td>\n",
       "      <td>411</td>\n",
       "      <td>77</td>\n",
       "      <td>230</td>\n",
       "      <td>31876</td>\n",
       "      <td>17</td>\n",
       "      <td>2024</td>\n",
       "    </tr>\n",
       "  </tbody>\n",
       "</table>\n",
       "<p>2 rows × 21 columns</p>\n",
       "</div>"
      ],
      "text/plain": [
       "   intersection_id            y           x                st1_name  \\\n",
       "0              1.0  199793.6093  986336.149            ALLEN STREET   \n",
       "1              2.0  202206.1619  982769.331  AVENUE OF THE AMERICAS   \n",
       "\n",
       "        st2_name      st3_name st4_name  dup  \\\n",
       "0   CANAL STREET                           0   \n",
       "1  LAIGHT STREET  CANAL STREET             0   \n",
       "\n",
       "                           Coordinates  distance_to_LPIS         ...          \\\n",
       "0  POINT (986336.149 199793.609300002)               276         ...           \n",
       "1  POINT (982769.331 202206.161899999)               592         ...           \n",
       "\n",
       "   distance_to_Street  nearest_Street  distance_to_Sch  nearest_Sch  \\\n",
       "0                   7           91705              529       3433.0   \n",
       "1                  17           95035              795      38150.0   \n",
       "\n",
       "   distance_to_LTC  nearest_LTC  distance_to_bikeroute  nearest_bikeroute  \\\n",
       "0             1183          191                      3             162688   \n",
       "1              411           77                    230              31876   \n",
       "\n",
       "  distance_to_truckroute  nearest_truckroute  \n",
       "0                     26                 892  \n",
       "1                     17                2024  \n",
       "\n",
       "[2 rows x 21 columns]"
      ]
     },
     "execution_count": 48,
     "metadata": {},
     "output_type": "execute_result"
    }
   ],
   "source": [
    "df1[['distance_to_truckroute','nearest_truckroute']] = ckdnearest(df1, df8,'OBJECTID')\n",
    "df1.head(2)"
   ]
  },
  {
   "cell_type": "code",
   "execution_count": 49,
   "metadata": {},
   "outputs": [
    {
     "name": "stdout",
     "output_type": "stream",
     "text": [
      "0\n"
     ]
    }
   ],
   "source": [
    "print(df1['nearest_truckroute'].isnull().sum())"
   ]
  },
  {
   "cell_type": "code",
   "execution_count": 50,
   "metadata": {},
   "outputs": [
    {
     "data": {
      "text/html": [
       "<div>\n",
       "<style scoped>\n",
       "    .dataframe tbody tr th:only-of-type {\n",
       "        vertical-align: middle;\n",
       "    }\n",
       "\n",
       "    .dataframe tbody tr th {\n",
       "        vertical-align: top;\n",
       "    }\n",
       "\n",
       "    .dataframe thead th {\n",
       "        text-align: right;\n",
       "    }\n",
       "</style>\n",
       "<table border=\"1\" class=\"dataframe\">\n",
       "  <thead>\n",
       "    <tr style=\"text-align: right;\">\n",
       "      <th></th>\n",
       "      <th>bcode</th>\n",
       "      <th>bname</th>\n",
       "      <th>name</th>\n",
       "      <th>namelsad</th>\n",
       "      <th>geometry</th>\n",
       "    </tr>\n",
       "  </thead>\n",
       "  <tbody>\n",
       "    <tr>\n",
       "      <th>0</th>\n",
       "      <td>36005</td>\n",
       "      <td>Bronx</td>\n",
       "      <td>Bronx</td>\n",
       "      <td>Bronx County</td>\n",
       "      <td>(POLYGON ((1008982.068976385 272752.8735210547...</td>\n",
       "    </tr>\n",
       "    <tr>\n",
       "      <th>1</th>\n",
       "      <td>36047</td>\n",
       "      <td>Brooklyn</td>\n",
       "      <td>Kings</td>\n",
       "      <td>Kings County</td>\n",
       "      <td>(POLYGON ((978869.3811487257 186863.7807399245...</td>\n",
       "    </tr>\n",
       "    <tr>\n",
       "      <th>2</th>\n",
       "      <td>36061</td>\n",
       "      <td>Manhattan</td>\n",
       "      <td>New York</td>\n",
       "      <td>New York County</td>\n",
       "      <td>(POLYGON ((1007701.483091666 258286.8905491272...</td>\n",
       "    </tr>\n",
       "  </tbody>\n",
       "</table>\n",
       "</div>"
      ],
      "text/plain": [
       "   bcode      bname      name         namelsad  \\\n",
       "0  36005      Bronx     Bronx     Bronx County   \n",
       "1  36047   Brooklyn     Kings     Kings County   \n",
       "2  36061  Manhattan  New York  New York County   \n",
       "\n",
       "                                            geometry  \n",
       "0  (POLYGON ((1008982.068976385 272752.8735210547...  \n",
       "1  (POLYGON ((978869.3811487257 186863.7807399245...  \n",
       "2  (POLYGON ((1007701.483091666 258286.8905491272...  "
      ]
     },
     "execution_count": 50,
     "metadata": {},
     "output_type": "execute_result"
    }
   ],
   "source": [
    "# Open Borough shapefile\n",
    "fp = r\"\\Box Sync\\Policy Evaluation\\input_data\\nyc_boroughs_2263\\nyc_boroughs_2263.shp\"\n",
    "df9 = gpd.read_file(origin+fp)\n",
    "df9.head(3)"
   ]
  },
  {
   "cell_type": "code",
   "execution_count": 51,
   "metadata": {},
   "outputs": [],
   "source": [
    "df9.crs = df1.crs\n",
    "df1 = gpd.sjoin(df1,df9[['bname', 'geometry']], how='inner', op='intersects')\n"
   ]
  },
  {
   "cell_type": "code",
   "execution_count": 52,
   "metadata": {},
   "outputs": [
    {
     "data": {
      "text/html": [
       "<div>\n",
       "<style scoped>\n",
       "    .dataframe tbody tr th:only-of-type {\n",
       "        vertical-align: middle;\n",
       "    }\n",
       "\n",
       "    .dataframe tbody tr th {\n",
       "        vertical-align: top;\n",
       "    }\n",
       "\n",
       "    .dataframe thead th {\n",
       "        text-align: right;\n",
       "    }\n",
       "</style>\n",
       "<table border=\"1\" class=\"dataframe\">\n",
       "  <thead>\n",
       "    <tr style=\"text-align: right;\">\n",
       "      <th></th>\n",
       "      <th>intersection_id</th>\n",
       "      <th>y</th>\n",
       "      <th>x</th>\n",
       "      <th>st1_name</th>\n",
       "      <th>st2_name</th>\n",
       "      <th>st3_name</th>\n",
       "      <th>st4_name</th>\n",
       "      <th>dup</th>\n",
       "      <th>Coordinates</th>\n",
       "      <th>distance_to_LPIS</th>\n",
       "      <th>...</th>\n",
       "      <th>distance_to_Sch</th>\n",
       "      <th>nearest_Sch</th>\n",
       "      <th>distance_to_LTC</th>\n",
       "      <th>nearest_LTC</th>\n",
       "      <th>distance_to_bikeroute</th>\n",
       "      <th>nearest_bikeroute</th>\n",
       "      <th>distance_to_truckroute</th>\n",
       "      <th>nearest_truckroute</th>\n",
       "      <th>index_right</th>\n",
       "      <th>bname</th>\n",
       "    </tr>\n",
       "  </thead>\n",
       "  <tbody>\n",
       "    <tr>\n",
       "      <th>0</th>\n",
       "      <td>1.0</td>\n",
       "      <td>199793.6093</td>\n",
       "      <td>986336.149</td>\n",
       "      <td>ALLEN STREET</td>\n",
       "      <td>CANAL STREET</td>\n",
       "      <td></td>\n",
       "      <td></td>\n",
       "      <td>0</td>\n",
       "      <td>POINT (986336.149 199793.609300002)</td>\n",
       "      <td>276</td>\n",
       "      <td>...</td>\n",
       "      <td>529</td>\n",
       "      <td>3433.0</td>\n",
       "      <td>1183</td>\n",
       "      <td>191</td>\n",
       "      <td>3</td>\n",
       "      <td>162688</td>\n",
       "      <td>26</td>\n",
       "      <td>892</td>\n",
       "      <td>2</td>\n",
       "      <td>Manhattan</td>\n",
       "    </tr>\n",
       "    <tr>\n",
       "      <th>1</th>\n",
       "      <td>2.0</td>\n",
       "      <td>202206.1619</td>\n",
       "      <td>982769.331</td>\n",
       "      <td>AVENUE OF THE AMERICAS</td>\n",
       "      <td>LAIGHT STREET</td>\n",
       "      <td>CANAL STREET</td>\n",
       "      <td></td>\n",
       "      <td>0</td>\n",
       "      <td>POINT (982769.331 202206.161899999)</td>\n",
       "      <td>592</td>\n",
       "      <td>...</td>\n",
       "      <td>795</td>\n",
       "      <td>38150.0</td>\n",
       "      <td>411</td>\n",
       "      <td>77</td>\n",
       "      <td>230</td>\n",
       "      <td>31876</td>\n",
       "      <td>17</td>\n",
       "      <td>2024</td>\n",
       "      <td>2</td>\n",
       "      <td>Manhattan</td>\n",
       "    </tr>\n",
       "  </tbody>\n",
       "</table>\n",
       "<p>2 rows × 23 columns</p>\n",
       "</div>"
      ],
      "text/plain": [
       "   intersection_id            y           x                st1_name  \\\n",
       "0              1.0  199793.6093  986336.149            ALLEN STREET   \n",
       "1              2.0  202206.1619  982769.331  AVENUE OF THE AMERICAS   \n",
       "\n",
       "        st2_name      st3_name st4_name  dup  \\\n",
       "0   CANAL STREET                           0   \n",
       "1  LAIGHT STREET  CANAL STREET             0   \n",
       "\n",
       "                           Coordinates  distance_to_LPIS    ...      \\\n",
       "0  POINT (986336.149 199793.609300002)               276    ...       \n",
       "1  POINT (982769.331 202206.161899999)               592    ...       \n",
       "\n",
       "   distance_to_Sch  nearest_Sch  distance_to_LTC  nearest_LTC  \\\n",
       "0              529       3433.0             1183          191   \n",
       "1              795      38150.0              411           77   \n",
       "\n",
       "   distance_to_bikeroute  nearest_bikeroute  distance_to_truckroute  \\\n",
       "0                      3             162688                      26   \n",
       "1                    230              31876                      17   \n",
       "\n",
       "   nearest_truckroute index_right      bname  \n",
       "0                 892           2  Manhattan  \n",
       "1                2024           2  Manhattan  \n",
       "\n",
       "[2 rows x 23 columns]"
      ]
     },
     "execution_count": 52,
     "metadata": {},
     "output_type": "execute_result"
    }
   ],
   "source": [
    "df1.head(2)"
   ]
  },
  {
   "cell_type": "code",
   "execution_count": 53,
   "metadata": {},
   "outputs": [
    {
     "data": {
      "text/plain": [
       "['st1_name',\n",
       " 'st2_name',\n",
       " 'st3_name',\n",
       " 'st4_name',\n",
       " 'Coordinates',\n",
       " 'nearest_bikeroute',\n",
       " 'bname']"
      ]
     },
     "execution_count": 53,
     "metadata": {},
     "output_type": "execute_result"
    }
   ],
   "source": [
    "list(df1.select_dtypes(include=['object']).columns)"
   ]
  },
  {
   "cell_type": "code",
   "execution_count": 54,
   "metadata": {},
   "outputs": [],
   "source": [
    "df1['st1_name'] = df1['st1_name'].astype(str)\n",
    "df1['st2_name'] = df1['st2_name'].astype(str)\n",
    "df1['st3_name'] = df1['st3_name'].astype(str)\n",
    "df1['st4_name'] = df1['st4_name'].astype(str)\n",
    "df1['Coordinates'] = df1['Coordinates'].astype(str)\n",
    "df1['nearest_bikeroute'] = df1['nearest_bikeroute'].astype(str)\n",
    "df1['bname'] = df1['bname'].astype(str)"
   ]
  },
  {
   "cell_type": "code",
   "execution_count": 55,
   "metadata": {},
   "outputs": [],
   "source": [
    "fp =  r\"\\Box Sync\\Policy Evaluation\\working_data\\signal_intersection.dta\"\n",
    "df1.to_stata(origin+fp)"
   ]
  }
 ],
 "metadata": {
  "kernelspec": {
   "display_name": "Python 3",
   "language": "python",
   "name": "python3"
  },
  "language_info": {
   "codemirror_mode": {
    "name": "ipython",
    "version": 3
   },
   "file_extension": ".py",
   "mimetype": "text/x-python",
   "name": "python",
   "nbconvert_exporter": "python",
   "pygments_lexer": "ipython3",
   "version": "3.6.5"
  }
 },
 "nbformat": 4,
 "nbformat_minor": 2
}
