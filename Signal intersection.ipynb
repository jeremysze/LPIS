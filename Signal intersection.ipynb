{
 "cells": [
  {
   "cell_type": "code",
   "execution_count": 1,
   "metadata": {},
   "outputs": [],
   "source": [
    "import matplotlib.pyplot as plt\n",
    "import geopandas as gpd\n",
    "import pandas as pd\n",
    "import shapely as shy\n",
    "from shapely.ops import nearest_points\n",
    "from shapely.geometry import Point, MultiPoint\n",
    "import fiona\n",
    "from scipy.spatial import cKDTree\n",
    "import numpy as np\n",
    "\n",
    "pd.options.display.max_rows = 4\n",
    "%matplotlib inline\n",
    "import os\n",
    "os.environ[\"PROJ_LIB\"] = \"C:\\ProgramData\\Anaconda3\\Library\\share\" #window"
   ]
  },
  {
   "cell_type": "code",
   "execution_count": 2,
   "metadata": {},
   "outputs": [
    {
     "name": "stdout",
     "output_type": "stream",
     "text": [
      "C:\\Users\\jerem\n"
     ]
    }
   ],
   "source": [
    "cd"
   ]
  },
  {
   "cell_type": "code",
   "execution_count": 3,
   "metadata": {},
   "outputs": [
    {
     "data": {
      "text/html": [
       "<div>\n",
       "<style scoped>\n",
       "    .dataframe tbody tr th:only-of-type {\n",
       "        vertical-align: middle;\n",
       "    }\n",
       "\n",
       "    .dataframe tbody tr th {\n",
       "        vertical-align: top;\n",
       "    }\n",
       "\n",
       "    .dataframe thead th {\n",
       "        text-align: right;\n",
       "    }\n",
       "</style>\n",
       "<table border=\"1\" class=\"dataframe\">\n",
       "  <thead>\n",
       "    <tr style=\"text-align: right;\">\n",
       "      <th></th>\n",
       "      <th>ST1_Name</th>\n",
       "      <th>ST2_Name</th>\n",
       "      <th>ST3_Name</th>\n",
       "      <th>ST4_Name</th>\n",
       "      <th>geometry</th>\n",
       "    </tr>\n",
       "  </thead>\n",
       "  <tbody>\n",
       "    <tr>\n",
       "      <th>0</th>\n",
       "      <td>ALLEN STREET</td>\n",
       "      <td>CANAL STREET</td>\n",
       "      <td>None</td>\n",
       "      <td>None</td>\n",
       "      <td>POINT (986336.1490000039 199793.6093000025)</td>\n",
       "    </tr>\n",
       "    <tr>\n",
       "      <th>1</th>\n",
       "      <td>AVENUE OF THE AMERICAS</td>\n",
       "      <td>LAIGHT STREET</td>\n",
       "      <td>CANAL STREET</td>\n",
       "      <td>None</td>\n",
       "      <td>POINT (982769.3310000002 202206.1618999988)</td>\n",
       "    </tr>\n",
       "    <tr>\n",
       "      <th>2</th>\n",
       "      <td>AVENUE OF THE AMERICAS</td>\n",
       "      <td>LISPENARD STREET</td>\n",
       "      <td>WEST BROADWAY</td>\n",
       "      <td>None</td>\n",
       "      <td>POINT (982805.6183999926 201790.0942000002)</td>\n",
       "    </tr>\n",
       "  </tbody>\n",
       "</table>\n",
       "</div>"
      ],
      "text/plain": [
       "                 ST1_Name          ST2_Name       ST3_Name ST4_Name  \\\n",
       "0            ALLEN STREET      CANAL STREET           None     None   \n",
       "1  AVENUE OF THE AMERICAS     LAIGHT STREET   CANAL STREET     None   \n",
       "2  AVENUE OF THE AMERICAS  LISPENARD STREET  WEST BROADWAY     None   \n",
       "\n",
       "                                      geometry  \n",
       "0  POINT (986336.1490000039 199793.6093000025)  \n",
       "1  POINT (982769.3310000002 202206.1618999988)  \n",
       "2  POINT (982805.6183999926 201790.0942000002)  "
      ]
     },
     "execution_count": 3,
     "metadata": {},
     "output_type": "execute_result"
    }
   ],
   "source": [
    "# Open signal intersection shapefile\n",
    "fp = r\"Box Sync\\Policy Evaluation\\input_data\\DOT_traffic_signals_Oct_2018\\signal_controllers.shp\"\n",
    "df1 = gpd.read_file(fp)\n",
    "df1.head(3)"
   ]
  },
  {
   "cell_type": "code",
   "execution_count": 4,
   "metadata": {},
   "outputs": [
    {
     "data": {
      "text/plain": [
       "{'proj': 'lcc',\n",
       " 'lat_1': 40.66666666666666,\n",
       " 'lat_2': 41.03333333333333,\n",
       " 'lat_0': 40.16666666666666,\n",
       " 'lon_0': -74,\n",
       " 'x_0': 300000,\n",
       " 'y_0': 0,\n",
       " 'datum': 'NAD83',\n",
       " 'units': 'us-ft',\n",
       " 'no_defs': True}"
      ]
     },
     "execution_count": 4,
     "metadata": {},
     "output_type": "execute_result"
    }
   ],
   "source": [
    "df1.crs"
   ]
  },
  {
   "cell_type": "code",
   "execution_count": 5,
   "metadata": {},
   "outputs": [
    {
     "data": {
      "text/html": [
       "<div>\n",
       "<style scoped>\n",
       "    .dataframe tbody tr th:only-of-type {\n",
       "        vertical-align: middle;\n",
       "    }\n",
       "\n",
       "    .dataframe tbody tr th {\n",
       "        vertical-align: top;\n",
       "    }\n",
       "\n",
       "    .dataframe thead th {\n",
       "        text-align: right;\n",
       "    }\n",
       "</style>\n",
       "<table border=\"1\" class=\"dataframe\">\n",
       "  <thead>\n",
       "    <tr style=\"text-align: right;\">\n",
       "      <th></th>\n",
       "      <th>ST1_Name</th>\n",
       "      <th>ST2_Name</th>\n",
       "      <th>ST3_Name</th>\n",
       "      <th>ST4_Name</th>\n",
       "      <th>geometry</th>\n",
       "      <th>intersection_ID</th>\n",
       "    </tr>\n",
       "  </thead>\n",
       "  <tbody>\n",
       "    <tr>\n",
       "      <th>0</th>\n",
       "      <td>ALLEN STREET</td>\n",
       "      <td>CANAL STREET</td>\n",
       "      <td>None</td>\n",
       "      <td>None</td>\n",
       "      <td>POINT (986336.1490000039 199793.6093000025)</td>\n",
       "      <td>0</td>\n",
       "    </tr>\n",
       "    <tr>\n",
       "      <th>1</th>\n",
       "      <td>AVENUE OF THE AMERICAS</td>\n",
       "      <td>LAIGHT STREET</td>\n",
       "      <td>CANAL STREET</td>\n",
       "      <td>None</td>\n",
       "      <td>POINT (982769.3310000002 202206.1618999988)</td>\n",
       "      <td>1</td>\n",
       "    </tr>\n",
       "    <tr>\n",
       "      <th>2</th>\n",
       "      <td>AVENUE OF THE AMERICAS</td>\n",
       "      <td>LISPENARD STREET</td>\n",
       "      <td>WEST BROADWAY</td>\n",
       "      <td>None</td>\n",
       "      <td>POINT (982805.6183999926 201790.0942000002)</td>\n",
       "      <td>2</td>\n",
       "    </tr>\n",
       "  </tbody>\n",
       "</table>\n",
       "</div>"
      ],
      "text/plain": [
       "                 ST1_Name          ST2_Name       ST3_Name ST4_Name  \\\n",
       "0            ALLEN STREET      CANAL STREET           None     None   \n",
       "1  AVENUE OF THE AMERICAS     LAIGHT STREET   CANAL STREET     None   \n",
       "2  AVENUE OF THE AMERICAS  LISPENARD STREET  WEST BROADWAY     None   \n",
       "\n",
       "                                      geometry  intersection_ID  \n",
       "0  POINT (986336.1490000039 199793.6093000025)                0  \n",
       "1  POINT (982769.3310000002 202206.1618999988)                1  \n",
       "2  POINT (982805.6183999926 201790.0942000002)                2  "
      ]
     },
     "execution_count": 5,
     "metadata": {},
     "output_type": "execute_result"
    }
   ],
   "source": [
    "# Create ID variable\n",
    "df1['intersection_ID'] = df1.index\n",
    "df1.head(3)"
   ]
  },
  {
   "cell_type": "code",
   "execution_count": 6,
   "metadata": {},
   "outputs": [
    {
     "data": {
      "text/html": [
       "<div>\n",
       "<style scoped>\n",
       "    .dataframe tbody tr th:only-of-type {\n",
       "        vertical-align: middle;\n",
       "    }\n",
       "\n",
       "    .dataframe tbody tr th {\n",
       "        vertical-align: top;\n",
       "    }\n",
       "\n",
       "    .dataframe thead th {\n",
       "        text-align: right;\n",
       "    }\n",
       "</style>\n",
       "<table border=\"1\" class=\"dataframe\">\n",
       "  <thead>\n",
       "    <tr style=\"text-align: right;\">\n",
       "      <th></th>\n",
       "      <th>cross_stre</th>\n",
       "      <th>date_insta</th>\n",
       "      <th>time_insta</th>\n",
       "      <th>lat</th>\n",
       "      <th>long</th>\n",
       "      <th>main_stree</th>\n",
       "      <th>geometry</th>\n",
       "    </tr>\n",
       "  </thead>\n",
       "  <tbody>\n",
       "    <tr>\n",
       "      <th>0</th>\n",
       "      <td>Dreiser loop East</td>\n",
       "      <td>2018-08-01</td>\n",
       "      <td>00:00:00.000</td>\n",
       "      <td>40.878465</td>\n",
       "      <td>-73.828273</td>\n",
       "      <td>Co-op City Blvd</td>\n",
       "      <td>POINT (-73.82827338235253 40.87846542795222)</td>\n",
       "    </tr>\n",
       "    <tr>\n",
       "      <th>1</th>\n",
       "      <td>West 119 St</td>\n",
       "      <td>2018-08-08</td>\n",
       "      <td>00:00:00.000</td>\n",
       "      <td>40.803958</td>\n",
       "      <td>-73.948271</td>\n",
       "      <td>Lenox Avenue</td>\n",
       "      <td>POINT (-73.94827133431397 40.80395846158952)</td>\n",
       "    </tr>\n",
       "    <tr>\n",
       "      <th>2</th>\n",
       "      <td>West 120 St</td>\n",
       "      <td>2018-08-08</td>\n",
       "      <td>00:00:00.000</td>\n",
       "      <td>40.804587</td>\n",
       "      <td>-73.947812</td>\n",
       "      <td>Lenox Avenue</td>\n",
       "      <td>POINT (-73.94781210658503 40.80458679730486)</td>\n",
       "    </tr>\n",
       "  </tbody>\n",
       "</table>\n",
       "</div>"
      ],
      "text/plain": [
       "          cross_stre  date_insta    time_insta        lat       long  \\\n",
       "0  Dreiser loop East  2018-08-01  00:00:00.000  40.878465 -73.828273   \n",
       "1        West 119 St  2018-08-08  00:00:00.000  40.803958 -73.948271   \n",
       "2        West 120 St  2018-08-08  00:00:00.000  40.804587 -73.947812   \n",
       "\n",
       "        main_stree                                      geometry  \n",
       "0  Co-op City Blvd  POINT (-73.82827338235253 40.87846542795222)  \n",
       "1     Lenox Avenue  POINT (-73.94827133431397 40.80395846158952)  \n",
       "2     Lenox Avenue  POINT (-73.94781210658503 40.80458679730486)  "
      ]
     },
     "execution_count": 6,
     "metadata": {},
     "output_type": "execute_result"
    }
   ],
   "source": [
    "# Open LPIs shapefile\n",
    "fp = r\"Box Sync\\Policy Evaluation\\input_data\\VZV_Leading Pedestrian Interval Signals\\geo_export_0c63b43f-83c0-4834-aa91-2c564c1bff2c.shp\"\n",
    "df2 = gpd.read_file(fp)\n",
    "df2.head(3)"
   ]
  },
  {
   "cell_type": "code",
   "execution_count": 7,
   "metadata": {},
   "outputs": [
    {
     "data": {
      "text/plain": [
       "{'init': 'epsg:4326'}"
      ]
     },
     "execution_count": 7,
     "metadata": {},
     "output_type": "execute_result"
    }
   ],
   "source": [
    "df2.crs"
   ]
  },
  {
   "cell_type": "code",
   "execution_count": 8,
   "metadata": {},
   "outputs": [],
   "source": [
    "# Reproeject LPIS shapefile to EPSG 2263: NAD83 / New York Long Island (ftUS)\n",
    "df2 = df2.to_crs({'init': 'epsg:2263'})"
   ]
  },
  {
   "cell_type": "code",
   "execution_count": 9,
   "metadata": {},
   "outputs": [
    {
     "data": {
      "text/plain": [
       "{'init': 'epsg:2263'}"
      ]
     },
     "execution_count": 9,
     "metadata": {},
     "output_type": "execute_result"
    }
   ],
   "source": [
    "# Check that \n",
    "df2.crs"
   ]
  },
  {
   "cell_type": "code",
   "execution_count": 10,
   "metadata": {},
   "outputs": [
    {
     "data": {
      "text/html": [
       "<div>\n",
       "<style scoped>\n",
       "    .dataframe tbody tr th:only-of-type {\n",
       "        vertical-align: middle;\n",
       "    }\n",
       "\n",
       "    .dataframe tbody tr th {\n",
       "        vertical-align: top;\n",
       "    }\n",
       "\n",
       "    .dataframe thead th {\n",
       "        text-align: right;\n",
       "    }\n",
       "</style>\n",
       "<table border=\"1\" class=\"dataframe\">\n",
       "  <thead>\n",
       "    <tr style=\"text-align: right;\">\n",
       "      <th></th>\n",
       "      <th>cross_stre</th>\n",
       "      <th>date_insta</th>\n",
       "      <th>time_insta</th>\n",
       "      <th>lat</th>\n",
       "      <th>long</th>\n",
       "      <th>main_stree</th>\n",
       "      <th>geometry</th>\n",
       "      <th>LPIS_ID</th>\n",
       "    </tr>\n",
       "  </thead>\n",
       "  <tbody>\n",
       "    <tr>\n",
       "      <th>0</th>\n",
       "      <td>Dreiser loop East</td>\n",
       "      <td>2018-08-01</td>\n",
       "      <td>00:00:00.000</td>\n",
       "      <td>40.878465</td>\n",
       "      <td>-73.828273</td>\n",
       "      <td>Co-op City Blvd</td>\n",
       "      <td>POINT (1031739.000154228 259373.000004255)</td>\n",
       "      <td>0</td>\n",
       "    </tr>\n",
       "    <tr>\n",
       "      <th>1</th>\n",
       "      <td>West 119 St</td>\n",
       "      <td>2018-08-08</td>\n",
       "      <td>00:00:00.000</td>\n",
       "      <td>40.803958</td>\n",
       "      <td>-73.948271</td>\n",
       "      <td>Lenox Avenue</td>\n",
       "      <td>POINT (998570.9998893011 232184.9999184268)</td>\n",
       "      <td>1</td>\n",
       "    </tr>\n",
       "    <tr>\n",
       "      <th>2</th>\n",
       "      <td>West 120 St</td>\n",
       "      <td>2018-08-08</td>\n",
       "      <td>00:00:00.000</td>\n",
       "      <td>40.804587</td>\n",
       "      <td>-73.947812</td>\n",
       "      <td>Lenox Avenue</td>\n",
       "      <td>POINT (998697.9999633889 232414.0001165908)</td>\n",
       "      <td>2</td>\n",
       "    </tr>\n",
       "  </tbody>\n",
       "</table>\n",
       "</div>"
      ],
      "text/plain": [
       "          cross_stre  date_insta    time_insta        lat       long  \\\n",
       "0  Dreiser loop East  2018-08-01  00:00:00.000  40.878465 -73.828273   \n",
       "1        West 119 St  2018-08-08  00:00:00.000  40.803958 -73.948271   \n",
       "2        West 120 St  2018-08-08  00:00:00.000  40.804587 -73.947812   \n",
       "\n",
       "        main_stree                                     geometry  LPIS_ID  \n",
       "0  Co-op City Blvd   POINT (1031739.000154228 259373.000004255)        0  \n",
       "1     Lenox Avenue  POINT (998570.9998893011 232184.9999184268)        1  \n",
       "2     Lenox Avenue  POINT (998697.9999633889 232414.0001165908)        2  "
      ]
     },
     "execution_count": 10,
     "metadata": {},
     "output_type": "execute_result"
    }
   ],
   "source": [
    "# Create ID variable\n",
    "df2['LPIS_ID'] = df2.index\n",
    "df2.head(3)"
   ]
  },
  {
   "cell_type": "code",
   "execution_count": 11,
   "metadata": {},
   "outputs": [],
   "source": [
    "# ckdnearest function\n",
    "# from \"https://gist.github.com/jhconning/63a34a51acff83d116adc52308faf240\"\n",
    "def ckdnearest(gdA, gdB, bcol):\n",
    "    \"\"\"\n",
    "    This function takes geodataframes: `gdA` and `gdB` and \n",
    "    a column name `bcol`. Both dataframes are assumed to have a `geometry` column. \n",
    "    It finds the nearest neighbor from each location in `gdA` to a \n",
    "    nearest neighbor in `gdB`.  \n",
    "\n",
    "    It returns a two-column pandas dataframe with a 'distance' (here rounded to nearest foot)\n",
    "    and the value of the `bcol` in `gdB'  (e.g. 'school_name')\n",
    "    \"\"\"\n",
    "    \n",
    "    nA = np.array(list(zip(gdA.geometry.x, gdA.geometry.y)) )\n",
    "    nB = np.array(list(zip(gdB.geometry.x, gdB.geometry.y)) )\n",
    "    btree = cKDTree(nB)\n",
    "    dist, idx = btree.query(nA,k=1)\n",
    "    df = pd.DataFrame.from_dict({'distance': dist.astype(int),\n",
    "                             'bcol' : gdB.loc[idx, bcol].values })\n",
    "    return df\n"
   ]
  },
  {
   "cell_type": "code",
   "execution_count": 12,
   "metadata": {},
   "outputs": [
    {
     "name": "stderr",
     "output_type": "stream",
     "text": [
      "C:\\Users\\jerem\\AppData\\Local\\conda\\conda\\envs\\geo\\lib\\site-packages\\pandas\\core\\indexing.py:1027: FutureWarning: \n",
      "Passing list-likes to .loc or [] with any missing label will raise\n",
      "KeyError in the future, you can use .reindex() as an alternative.\n",
      "\n",
      "See the documentation here:\n",
      "https://pandas.pydata.org/pandas-docs/stable/indexing.html#deprecate-loc-reindex-listlike\n",
      "  return getattr(section, self.name)[new_key]\n"
     ]
    },
    {
     "data": {
      "text/html": [
       "<div>\n",
       "<style scoped>\n",
       "    .dataframe tbody tr th:only-of-type {\n",
       "        vertical-align: middle;\n",
       "    }\n",
       "\n",
       "    .dataframe tbody tr th {\n",
       "        vertical-align: top;\n",
       "    }\n",
       "\n",
       "    .dataframe thead th {\n",
       "        text-align: right;\n",
       "    }\n",
       "</style>\n",
       "<table border=\"1\" class=\"dataframe\">\n",
       "  <thead>\n",
       "    <tr style=\"text-align: right;\">\n",
       "      <th></th>\n",
       "      <th>ST1_Name</th>\n",
       "      <th>ST2_Name</th>\n",
       "      <th>ST3_Name</th>\n",
       "      <th>ST4_Name</th>\n",
       "      <th>geometry</th>\n",
       "      <th>intersection_ID</th>\n",
       "      <th>distance_to_LPIS</th>\n",
       "      <th>nearest_LPIS</th>\n",
       "    </tr>\n",
       "  </thead>\n",
       "  <tbody>\n",
       "    <tr>\n",
       "      <th>0</th>\n",
       "      <td>ALLEN STREET</td>\n",
       "      <td>CANAL STREET</td>\n",
       "      <td>None</td>\n",
       "      <td>None</td>\n",
       "      <td>POINT (986336.1490000039 199793.6093000025)</td>\n",
       "      <td>0</td>\n",
       "      <td>276</td>\n",
       "      <td>1915.0</td>\n",
       "    </tr>\n",
       "    <tr>\n",
       "      <th>1</th>\n",
       "      <td>AVENUE OF THE AMERICAS</td>\n",
       "      <td>LAIGHT STREET</td>\n",
       "      <td>CANAL STREET</td>\n",
       "      <td>None</td>\n",
       "      <td>POINT (982769.3310000002 202206.1618999988)</td>\n",
       "      <td>1</td>\n",
       "      <td>592</td>\n",
       "      <td>2016.0</td>\n",
       "    </tr>\n",
       "  </tbody>\n",
       "</table>\n",
       "</div>"
      ],
      "text/plain": [
       "                 ST1_Name       ST2_Name      ST3_Name ST4_Name  \\\n",
       "0            ALLEN STREET   CANAL STREET          None     None   \n",
       "1  AVENUE OF THE AMERICAS  LAIGHT STREET  CANAL STREET     None   \n",
       "\n",
       "                                      geometry  intersection_ID  \\\n",
       "0  POINT (986336.1490000039 199793.6093000025)                0   \n",
       "1  POINT (982769.3310000002 202206.1618999988)                1   \n",
       "\n",
       "   distance_to_LPIS  nearest_LPIS  \n",
       "0               276        1915.0  \n",
       "1               592        2016.0  "
      ]
     },
     "execution_count": 12,
     "metadata": {},
     "output_type": "execute_result"
    }
   ],
   "source": [
    "df1[['distance_to_LPIS','nearest_LPIS']] = ckdnearest(df1, df2,'LPIS_ID')\n",
    "df1.head(2)"
   ]
  },
  {
   "cell_type": "code",
   "execution_count": 13,
   "metadata": {},
   "outputs": [
    {
     "data": {
      "text/html": [
       "<div>\n",
       "<style scoped>\n",
       "    .dataframe tbody tr th:only-of-type {\n",
       "        vertical-align: middle;\n",
       "    }\n",
       "\n",
       "    .dataframe tbody tr th {\n",
       "        vertical-align: top;\n",
       "    }\n",
       "\n",
       "    .dataframe thead th {\n",
       "        text-align: right;\n",
       "    }\n",
       "</style>\n",
       "<table border=\"1\" class=\"dataframe\">\n",
       "  <thead>\n",
       "    <tr style=\"text-align: right;\">\n",
       "      <th></th>\n",
       "      <th>OBJECTID</th>\n",
       "      <th>Street</th>\n",
       "      <th>SAFStreetN</th>\n",
       "      <th>FeatureTyp</th>\n",
       "      <th>SegmentTyp</th>\n",
       "      <th>IncExFlag</th>\n",
       "      <th>RB_Layer</th>\n",
       "      <th>NonPed</th>\n",
       "      <th>TrafDir</th>\n",
       "      <th>TrafSrc</th>\n",
       "      <th>...</th>\n",
       "      <th>LHi_Hyphen</th>\n",
       "      <th>RLo_Hyphen</th>\n",
       "      <th>RHi_Hyphen</th>\n",
       "      <th>FromLeft</th>\n",
       "      <th>ToLeft</th>\n",
       "      <th>FromRight</th>\n",
       "      <th>ToRight</th>\n",
       "      <th>Join_ID</th>\n",
       "      <th>SHAPE_Leng</th>\n",
       "      <th>geometry</th>\n",
       "    </tr>\n",
       "  </thead>\n",
       "  <tbody>\n",
       "    <tr>\n",
       "      <th>0</th>\n",
       "      <td>1</td>\n",
       "      <td>EAST 168 STREET</td>\n",
       "      <td>None</td>\n",
       "      <td>0</td>\n",
       "      <td>U</td>\n",
       "      <td>None</td>\n",
       "      <td>B</td>\n",
       "      <td>None</td>\n",
       "      <td>T</td>\n",
       "      <td>DOT</td>\n",
       "      <td>...</td>\n",
       "      <td>699</td>\n",
       "      <td>596</td>\n",
       "      <td>716</td>\n",
       "      <td>599</td>\n",
       "      <td>699</td>\n",
       "      <td>596</td>\n",
       "      <td>716</td>\n",
       "      <td>2251001000000</td>\n",
       "      <td>396.030947</td>\n",
       "      <td>POINT (1010964.446978778 241812.2614034563)</td>\n",
       "    </tr>\n",
       "    <tr>\n",
       "      <th>1</th>\n",
       "      <td>1</td>\n",
       "      <td>EAST 168 STREET</td>\n",
       "      <td>None</td>\n",
       "      <td>0</td>\n",
       "      <td>U</td>\n",
       "      <td>None</td>\n",
       "      <td>B</td>\n",
       "      <td>None</td>\n",
       "      <td>T</td>\n",
       "      <td>DOT</td>\n",
       "      <td>...</td>\n",
       "      <td>699</td>\n",
       "      <td>596</td>\n",
       "      <td>716</td>\n",
       "      <td>599</td>\n",
       "      <td>699</td>\n",
       "      <td>596</td>\n",
       "      <td>716</td>\n",
       "      <td>2251001000000</td>\n",
       "      <td>396.030947</td>\n",
       "      <td>POINT (1011040.463264077 241747.2881445785)</td>\n",
       "    </tr>\n",
       "    <tr>\n",
       "      <th>2</th>\n",
       "      <td>1</td>\n",
       "      <td>EAST 168 STREET</td>\n",
       "      <td>None</td>\n",
       "      <td>0</td>\n",
       "      <td>U</td>\n",
       "      <td>None</td>\n",
       "      <td>B</td>\n",
       "      <td>None</td>\n",
       "      <td>T</td>\n",
       "      <td>DOT</td>\n",
       "      <td>...</td>\n",
       "      <td>699</td>\n",
       "      <td>596</td>\n",
       "      <td>716</td>\n",
       "      <td>599</td>\n",
       "      <td>699</td>\n",
       "      <td>596</td>\n",
       "      <td>716</td>\n",
       "      <td>2251001000000</td>\n",
       "      <td>396.030947</td>\n",
       "      <td>POINT (1011116.479549377 241682.3148857006)</td>\n",
       "    </tr>\n",
       "  </tbody>\n",
       "</table>\n",
       "<p>3 rows × 119 columns</p>\n",
       "</div>"
      ],
      "text/plain": [
       "   OBJECTID           Street SAFStreetN FeatureTyp SegmentTyp IncExFlag  \\\n",
       "0         1  EAST 168 STREET       None          0          U      None   \n",
       "1         1  EAST 168 STREET       None          0          U      None   \n",
       "2         1  EAST 168 STREET       None          0          U      None   \n",
       "\n",
       "  RB_Layer NonPed TrafDir TrafSrc  \\\n",
       "0        B   None       T     DOT   \n",
       "1        B   None       T     DOT   \n",
       "2        B   None       T     DOT   \n",
       "\n",
       "                      ...                      LHi_Hyphen RLo_Hyphen  \\\n",
       "0                     ...                             699        596   \n",
       "1                     ...                             699        596   \n",
       "2                     ...                             699        596   \n",
       "\n",
       "  RHi_Hyphen FromLeft ToLeft FromRight ToRight        Join_ID  SHAPE_Leng  \\\n",
       "0        716      599    699       596     716  2251001000000  396.030947   \n",
       "1        716      599    699       596     716  2251001000000  396.030947   \n",
       "2        716      599    699       596     716  2251001000000  396.030947   \n",
       "\n",
       "                                      geometry  \n",
       "0  POINT (1010964.446978778 241812.2614034563)  \n",
       "1  POINT (1011040.463264077 241747.2881445785)  \n",
       "2  POINT (1011116.479549377 241682.3148857006)  \n",
       "\n",
       "[3 rows x 119 columns]"
      ]
     },
     "execution_count": 13,
     "metadata": {},
     "output_type": "execute_result"
    }
   ],
   "source": [
    "# Open Streets shapefile\n",
    "fp = r\"Box Sync\\Policy Evaluation\\input_data\\nyclion_points_2263/nyclion_points_2263.shp\"\n",
    "df3 = gpd.read_file(fp)\n",
    "df3.head(3)"
   ]
  },
  {
   "cell_type": "code",
   "execution_count": 14,
   "metadata": {},
   "outputs": [
    {
     "data": {
      "text/plain": [
       "{'proj': 'lcc',\n",
       " 'lat_1': 41.03333333333333,\n",
       " 'lat_2': 40.66666666666666,\n",
       " 'lat_0': 40.16666666666666,\n",
       " 'lon_0': -74,\n",
       " 'x_0': 300000.0000000001,\n",
       " 'y_0': 0,\n",
       " 'datum': 'NAD83',\n",
       " 'units': 'us-ft',\n",
       " 'no_defs': True}"
      ]
     },
     "execution_count": 14,
     "metadata": {},
     "output_type": "execute_result"
    }
   ],
   "source": [
    "df3.crs"
   ]
  },
  {
   "cell_type": "code",
   "execution_count": 15,
   "metadata": {},
   "outputs": [
    {
     "data": {
      "text/html": [
       "<div>\n",
       "<style scoped>\n",
       "    .dataframe tbody tr th:only-of-type {\n",
       "        vertical-align: middle;\n",
       "    }\n",
       "\n",
       "    .dataframe tbody tr th {\n",
       "        vertical-align: top;\n",
       "    }\n",
       "\n",
       "    .dataframe thead th {\n",
       "        text-align: right;\n",
       "    }\n",
       "</style>\n",
       "<table border=\"1\" class=\"dataframe\">\n",
       "  <thead>\n",
       "    <tr style=\"text-align: right;\">\n",
       "      <th></th>\n",
       "      <th>ST1_Name</th>\n",
       "      <th>ST2_Name</th>\n",
       "      <th>ST3_Name</th>\n",
       "      <th>ST4_Name</th>\n",
       "      <th>geometry</th>\n",
       "      <th>intersection_ID</th>\n",
       "      <th>distance_to_LPIS</th>\n",
       "      <th>nearest_LPIS</th>\n",
       "      <th>distance_to_Street</th>\n",
       "      <th>nearest_Street</th>\n",
       "    </tr>\n",
       "  </thead>\n",
       "  <tbody>\n",
       "    <tr>\n",
       "      <th>0</th>\n",
       "      <td>ALLEN STREET</td>\n",
       "      <td>CANAL STREET</td>\n",
       "      <td>None</td>\n",
       "      <td>None</td>\n",
       "      <td>POINT (986336.1490000039 199793.6093000025)</td>\n",
       "      <td>0</td>\n",
       "      <td>276</td>\n",
       "      <td>1915.0</td>\n",
       "      <td>7</td>\n",
       "      <td>91705.0</td>\n",
       "    </tr>\n",
       "    <tr>\n",
       "      <th>1</th>\n",
       "      <td>AVENUE OF THE AMERICAS</td>\n",
       "      <td>LAIGHT STREET</td>\n",
       "      <td>CANAL STREET</td>\n",
       "      <td>None</td>\n",
       "      <td>POINT (982769.3310000002 202206.1618999988)</td>\n",
       "      <td>1</td>\n",
       "      <td>592</td>\n",
       "      <td>2016.0</td>\n",
       "      <td>17</td>\n",
       "      <td>95035.0</td>\n",
       "    </tr>\n",
       "  </tbody>\n",
       "</table>\n",
       "</div>"
      ],
      "text/plain": [
       "                 ST1_Name       ST2_Name      ST3_Name ST4_Name  \\\n",
       "0            ALLEN STREET   CANAL STREET          None     None   \n",
       "1  AVENUE OF THE AMERICAS  LAIGHT STREET  CANAL STREET     None   \n",
       "\n",
       "                                      geometry  intersection_ID  \\\n",
       "0  POINT (986336.1490000039 199793.6093000025)                0   \n",
       "1  POINT (982769.3310000002 202206.1618999988)                1   \n",
       "\n",
       "   distance_to_LPIS  nearest_LPIS  distance_to_Street  nearest_Street  \n",
       "0               276        1915.0                   7         91705.0  \n",
       "1               592        2016.0                  17         95035.0  "
      ]
     },
     "execution_count": 15,
     "metadata": {},
     "output_type": "execute_result"
    }
   ],
   "source": [
    "df1[['distance_to_Street','nearest_Street']] = ckdnearest(df1, df3,'OBJECTID')\n",
    "df1.head(2)"
   ]
  },
  {
   "cell_type": "code",
   "execution_count": 16,
   "metadata": {},
   "outputs": [
    {
     "data": {
      "text/html": [
       "<div>\n",
       "<style scoped>\n",
       "    .dataframe tbody tr th:only-of-type {\n",
       "        vertical-align: middle;\n",
       "    }\n",
       "\n",
       "    .dataframe tbody tr th {\n",
       "        vertical-align: top;\n",
       "    }\n",
       "\n",
       "    .dataframe thead th {\n",
       "        text-align: right;\n",
       "    }\n",
       "</style>\n",
       "<table border=\"1\" class=\"dataframe\">\n",
       "  <thead>\n",
       "    <tr style=\"text-align: right;\">\n",
       "      <th></th>\n",
       "      <th>uid</th>\n",
       "      <th>idagency</th>\n",
       "      <th>facname</th>\n",
       "      <th>opname</th>\n",
       "      <th>address</th>\n",
       "      <th>city</th>\n",
       "      <th>zipcode</th>\n",
       "      <th>bcode</th>\n",
       "      <th>facsubgrp</th>\n",
       "      <th>factype</th>\n",
       "      <th>capacity</th>\n",
       "      <th>util</th>\n",
       "      <th>xcoord</th>\n",
       "      <th>ycoord</th>\n",
       "      <th>geometry</th>\n",
       "    </tr>\n",
       "  </thead>\n",
       "  <tbody>\n",
       "    <tr>\n",
       "      <th>0</th>\n",
       "      <td>192.0</td>\n",
       "      <td>321000145390</td>\n",
       "      <td>Our Lady Of Refuge School</td>\n",
       "      <td>Our Lady Of Refuge School</td>\n",
       "      <td>2708 Briggs Avenue</td>\n",
       "      <td>Bronx</td>\n",
       "      <td>10458</td>\n",
       "      <td>36005</td>\n",
       "      <td>Non-Public K-12 Schools</td>\n",
       "      <td>Elementary School - Non-public</td>\n",
       "      <td>NaN</td>\n",
       "      <td>267.0</td>\n",
       "      <td>1.014359e+06</td>\n",
       "      <td>254977.5176</td>\n",
       "      <td>POINT (1014358.6833 254977.5176)</td>\n",
       "    </tr>\n",
       "    <tr>\n",
       "      <th>1</th>\n",
       "      <td>294.0</td>\n",
       "      <td>332000226225</td>\n",
       "      <td>Yeshiva Toldos Yesuscher</td>\n",
       "      <td>Yeshiva Toldos Yesuscher</td>\n",
       "      <td>1531 63 Street</td>\n",
       "      <td>Brooklyn</td>\n",
       "      <td>11219</td>\n",
       "      <td>36047</td>\n",
       "      <td>Non-Public K-12 Schools</td>\n",
       "      <td>Elementary School - Non-public</td>\n",
       "      <td>NaN</td>\n",
       "      <td>74.0</td>\n",
       "      <td>9.857114e+05</td>\n",
       "      <td>166689.5140</td>\n",
       "      <td>POINT (985711.4182 166689.514)</td>\n",
       "    </tr>\n",
       "    <tr>\n",
       "      <th>2</th>\n",
       "      <td>2233.0</td>\n",
       "      <td>331400225670</td>\n",
       "      <td>Ohel Elozer</td>\n",
       "      <td>Ohel Elozer</td>\n",
       "      <td>263 Classon Ave-Ste 4b</td>\n",
       "      <td>Brooklyn</td>\n",
       "      <td>11205</td>\n",
       "      <td>36047</td>\n",
       "      <td>Non-Public K-12 Schools</td>\n",
       "      <td>High School - Non-public</td>\n",
       "      <td>NaN</td>\n",
       "      <td>161.0</td>\n",
       "      <td>9.951838e+05</td>\n",
       "      <td>191390.1394</td>\n",
       "      <td>POINT (995183.844 191390.1394)</td>\n",
       "    </tr>\n",
       "  </tbody>\n",
       "</table>\n",
       "</div>"
      ],
      "text/plain": [
       "      uid      idagency                    facname                     opname  \\\n",
       "0   192.0  321000145390  Our Lady Of Refuge School  Our Lady Of Refuge School   \n",
       "1   294.0  332000226225   Yeshiva Toldos Yesuscher   Yeshiva Toldos Yesuscher   \n",
       "2  2233.0  331400225670                Ohel Elozer                Ohel Elozer   \n",
       "\n",
       "                  address      city zipcode  bcode                facsubgrp  \\\n",
       "0      2708 Briggs Avenue     Bronx   10458  36005  Non-Public K-12 Schools   \n",
       "1          1531 63 Street  Brooklyn   11219  36047  Non-Public K-12 Schools   \n",
       "2  263 Classon Ave-Ste 4b  Brooklyn   11205  36047  Non-Public K-12 Schools   \n",
       "\n",
       "                          factype  capacity   util        xcoord       ycoord  \\\n",
       "0  Elementary School - Non-public       NaN  267.0  1.014359e+06  254977.5176   \n",
       "1  Elementary School - Non-public       NaN   74.0  9.857114e+05  166689.5140   \n",
       "2        High School - Non-public       NaN  161.0  9.951838e+05  191390.1394   \n",
       "\n",
       "                           geometry  \n",
       "0  POINT (1014358.6833 254977.5176)  \n",
       "1    POINT (985711.4182 166689.514)  \n",
       "2    POINT (995183.844 191390.1394)  "
      ]
     },
     "execution_count": 16,
     "metadata": {},
     "output_type": "execute_result"
    }
   ],
   "source": [
    "# Open Schools shapefile\n",
    "fp = r\"Box Sync\\Policy Evaluation\\input_data\\school_private_public_2263\\school_private_public_2263.shp\"\n",
    "df4 = gpd.read_file(fp)\n",
    "df4.head(3)"
   ]
  },
  {
   "cell_type": "code",
   "execution_count": 17,
   "metadata": {},
   "outputs": [
    {
     "data": {
      "text/plain": [
       "{'proj': 'lcc',\n",
       " 'lat_1': 41.03333333333333,\n",
       " 'lat_2': 40.66666666666666,\n",
       " 'lat_0': 40.16666666666666,\n",
       " 'lon_0': -74,\n",
       " 'x_0': 300000.0000000001,\n",
       " 'y_0': 0,\n",
       " 'datum': 'NAD83',\n",
       " 'units': 'us-ft',\n",
       " 'no_defs': True}"
      ]
     },
     "execution_count": 17,
     "metadata": {},
     "output_type": "execute_result"
    }
   ],
   "source": [
    "df4.crs"
   ]
  },
  {
   "cell_type": "code",
   "execution_count": 18,
   "metadata": {},
   "outputs": [
    {
     "data": {
      "text/html": [
       "<div>\n",
       "<style scoped>\n",
       "    .dataframe tbody tr th:only-of-type {\n",
       "        vertical-align: middle;\n",
       "    }\n",
       "\n",
       "    .dataframe tbody tr th {\n",
       "        vertical-align: top;\n",
       "    }\n",
       "\n",
       "    .dataframe thead th {\n",
       "        text-align: right;\n",
       "    }\n",
       "</style>\n",
       "<table border=\"1\" class=\"dataframe\">\n",
       "  <thead>\n",
       "    <tr style=\"text-align: right;\">\n",
       "      <th></th>\n",
       "      <th>ST1_Name</th>\n",
       "      <th>ST2_Name</th>\n",
       "      <th>ST3_Name</th>\n",
       "      <th>ST4_Name</th>\n",
       "      <th>geometry</th>\n",
       "      <th>intersection_ID</th>\n",
       "      <th>distance_to_LPIS</th>\n",
       "      <th>nearest_LPIS</th>\n",
       "      <th>distance_to_Street</th>\n",
       "      <th>nearest_Street</th>\n",
       "      <th>distance_to_Sch</th>\n",
       "      <th>nearest_Sch</th>\n",
       "    </tr>\n",
       "  </thead>\n",
       "  <tbody>\n",
       "    <tr>\n",
       "      <th>0</th>\n",
       "      <td>ALLEN STREET</td>\n",
       "      <td>CANAL STREET</td>\n",
       "      <td>None</td>\n",
       "      <td>None</td>\n",
       "      <td>POINT (986336.1490000039 199793.6093000025)</td>\n",
       "      <td>0</td>\n",
       "      <td>276</td>\n",
       "      <td>1915.0</td>\n",
       "      <td>7</td>\n",
       "      <td>91705.0</td>\n",
       "      <td>529</td>\n",
       "      <td>3433.0</td>\n",
       "    </tr>\n",
       "    <tr>\n",
       "      <th>1</th>\n",
       "      <td>AVENUE OF THE AMERICAS</td>\n",
       "      <td>LAIGHT STREET</td>\n",
       "      <td>CANAL STREET</td>\n",
       "      <td>None</td>\n",
       "      <td>POINT (982769.3310000002 202206.1618999988)</td>\n",
       "      <td>1</td>\n",
       "      <td>592</td>\n",
       "      <td>2016.0</td>\n",
       "      <td>17</td>\n",
       "      <td>95035.0</td>\n",
       "      <td>795</td>\n",
       "      <td>38150.0</td>\n",
       "    </tr>\n",
       "  </tbody>\n",
       "</table>\n",
       "</div>"
      ],
      "text/plain": [
       "                 ST1_Name       ST2_Name      ST3_Name ST4_Name  \\\n",
       "0            ALLEN STREET   CANAL STREET          None     None   \n",
       "1  AVENUE OF THE AMERICAS  LAIGHT STREET  CANAL STREET     None   \n",
       "\n",
       "                                      geometry  intersection_ID  \\\n",
       "0  POINT (986336.1490000039 199793.6093000025)                0   \n",
       "1  POINT (982769.3310000002 202206.1618999988)                1   \n",
       "\n",
       "   distance_to_LPIS  nearest_LPIS  distance_to_Street  nearest_Street  \\\n",
       "0               276        1915.0                   7         91705.0   \n",
       "1               592        2016.0                  17         95035.0   \n",
       "\n",
       "   distance_to_Sch  nearest_Sch  \n",
       "0              529       3433.0  \n",
       "1              795      38150.0  "
      ]
     },
     "execution_count": 18,
     "metadata": {},
     "output_type": "execute_result"
    }
   ],
   "source": [
    "df1[['distance_to_Sch','nearest_Sch']] = ckdnearest(df1, df4,'uid')\n",
    "df1.head(2)"
   ]
  },
  {
   "cell_type": "code",
   "execution_count": 19,
   "metadata": {},
   "outputs": [
    {
     "data": {
      "text/html": [
       "<div>\n",
       "<style scoped>\n",
       "    .dataframe tbody tr th:only-of-type {\n",
       "        vertical-align: middle;\n",
       "    }\n",
       "\n",
       "    .dataframe tbody tr th {\n",
       "        vertical-align: top;\n",
       "    }\n",
       "\n",
       "    .dataframe thead th {\n",
       "        text-align: right;\n",
       "    }\n",
       "</style>\n",
       "<table border=\"1\" class=\"dataframe\">\n",
       "  <thead>\n",
       "    <tr style=\"text-align: right;\">\n",
       "      <th></th>\n",
       "      <th>treatment_</th>\n",
       "      <th>completion</th>\n",
       "      <th>geometry</th>\n",
       "    </tr>\n",
       "  </thead>\n",
       "  <tbody>\n",
       "    <tr>\n",
       "      <th>0</th>\n",
       "      <td>Quick Kurb to X-walk</td>\n",
       "      <td>2017-12-08</td>\n",
       "      <td>POINT (-73.97604825017703 40.75144139179798)</td>\n",
       "    </tr>\n",
       "    <tr>\n",
       "      <th>1</th>\n",
       "      <td>Daylighting, Box markings, (1) 6' Rubber speed...</td>\n",
       "      <td>2018-04-12</td>\n",
       "      <td>POINT (-73.82577379991478 40.75635805716421)</td>\n",
       "    </tr>\n",
       "    <tr>\n",
       "      <th>2</th>\n",
       "      <td>Quick Kurb to X-walk</td>\n",
       "      <td>2016-06-30</td>\n",
       "      <td>POINT (-73.97719688637932 40.7643236906894)</td>\n",
       "    </tr>\n",
       "  </tbody>\n",
       "</table>\n",
       "</div>"
      ],
      "text/plain": [
       "                                          treatment_  completion  \\\n",
       "0                               Quick Kurb to X-walk  2017-12-08   \n",
       "1  Daylighting, Box markings, (1) 6' Rubber speed...  2018-04-12   \n",
       "2                               Quick Kurb to X-walk  2016-06-30   \n",
       "\n",
       "                                       geometry  \n",
       "0  POINT (-73.97604825017703 40.75144139179798)  \n",
       "1  POINT (-73.82577379991478 40.75635805716421)  \n",
       "2   POINT (-73.97719688637932 40.7643236906894)  "
      ]
     },
     "execution_count": 19,
     "metadata": {},
     "output_type": "execute_result"
    }
   ],
   "source": [
    "# Open VZV Left turn calming shapefile\n",
    "fp = r\"Box Sync\\Policy Evaluation\\input_data\\left_turn_traffic_calming_shapefile\\left_turn_traffic_calming.shp\"\n",
    "df5 = gpd.read_file(fp)\n",
    "df5.head(3)"
   ]
  },
  {
   "cell_type": "code",
   "execution_count": 20,
   "metadata": {},
   "outputs": [
    {
     "data": {
      "text/plain": [
       "{'init': 'epsg:4326'}"
      ]
     },
     "execution_count": 20,
     "metadata": {},
     "output_type": "execute_result"
    }
   ],
   "source": [
    "df5.crs"
   ]
  },
  {
   "cell_type": "code",
   "execution_count": 21,
   "metadata": {},
   "outputs": [
    {
     "data": {
      "text/html": [
       "<div>\n",
       "<style scoped>\n",
       "    .dataframe tbody tr th:only-of-type {\n",
       "        vertical-align: middle;\n",
       "    }\n",
       "\n",
       "    .dataframe tbody tr th {\n",
       "        vertical-align: top;\n",
       "    }\n",
       "\n",
       "    .dataframe thead th {\n",
       "        text-align: right;\n",
       "    }\n",
       "</style>\n",
       "<table border=\"1\" class=\"dataframe\">\n",
       "  <thead>\n",
       "    <tr style=\"text-align: right;\">\n",
       "      <th></th>\n",
       "      <th>minx</th>\n",
       "      <th>miny</th>\n",
       "      <th>maxx</th>\n",
       "      <th>maxy</th>\n",
       "    </tr>\n",
       "  </thead>\n",
       "  <tbody>\n",
       "    <tr>\n",
       "      <th>0</th>\n",
       "      <td>-73.976048</td>\n",
       "      <td>40.751441</td>\n",
       "      <td>-73.976048</td>\n",
       "      <td>40.751441</td>\n",
       "    </tr>\n",
       "    <tr>\n",
       "      <th>1</th>\n",
       "      <td>-73.825774</td>\n",
       "      <td>40.756358</td>\n",
       "      <td>-73.825774</td>\n",
       "      <td>40.756358</td>\n",
       "    </tr>\n",
       "    <tr>\n",
       "      <th>...</th>\n",
       "      <td>...</td>\n",
       "      <td>...</td>\n",
       "      <td>...</td>\n",
       "      <td>...</td>\n",
       "    </tr>\n",
       "    <tr>\n",
       "      <th>230</th>\n",
       "      <td>-73.805648</td>\n",
       "      <td>40.704672</td>\n",
       "      <td>-73.805648</td>\n",
       "      <td>40.704672</td>\n",
       "    </tr>\n",
       "    <tr>\n",
       "      <th>231</th>\n",
       "      <td>-73.897563</td>\n",
       "      <td>40.707759</td>\n",
       "      <td>-73.897563</td>\n",
       "      <td>40.707759</td>\n",
       "    </tr>\n",
       "  </tbody>\n",
       "</table>\n",
       "<p>232 rows × 4 columns</p>\n",
       "</div>"
      ],
      "text/plain": [
       "          minx       miny       maxx       maxy\n",
       "0   -73.976048  40.751441 -73.976048  40.751441\n",
       "1   -73.825774  40.756358 -73.825774  40.756358\n",
       "..         ...        ...        ...        ...\n",
       "230 -73.805648  40.704672 -73.805648  40.704672\n",
       "231 -73.897563  40.707759 -73.897563  40.707759\n",
       "\n",
       "[232 rows x 4 columns]"
      ]
     },
     "execution_count": 21,
     "metadata": {},
     "output_type": "execute_result"
    }
   ],
   "source": [
    "df5.bounds"
   ]
  },
  {
   "cell_type": "code",
   "execution_count": 22,
   "metadata": {},
   "outputs": [],
   "source": [
    "# Reproeject VZV Left turn calming shapefile to EPSG 2263: NAD83 / New York Long Island (ftUS)\n",
    "df5 = df5.to_crs({'init': 'epsg:2263'})"
   ]
  },
  {
   "cell_type": "code",
   "execution_count": 23,
   "metadata": {},
   "outputs": [
    {
     "data": {
      "text/plain": [
       "{'init': 'epsg:2263'}"
      ]
     },
     "execution_count": 23,
     "metadata": {},
     "output_type": "execute_result"
    }
   ],
   "source": [
    "df5.crs"
   ]
  },
  {
   "cell_type": "code",
   "execution_count": 24,
   "metadata": {},
   "outputs": [
    {
     "data": {
      "text/html": [
       "<div>\n",
       "<style scoped>\n",
       "    .dataframe tbody tr th:only-of-type {\n",
       "        vertical-align: middle;\n",
       "    }\n",
       "\n",
       "    .dataframe tbody tr th {\n",
       "        vertical-align: top;\n",
       "    }\n",
       "\n",
       "    .dataframe thead th {\n",
       "        text-align: right;\n",
       "    }\n",
       "</style>\n",
       "<table border=\"1\" class=\"dataframe\">\n",
       "  <thead>\n",
       "    <tr style=\"text-align: right;\">\n",
       "      <th></th>\n",
       "      <th>treatment_</th>\n",
       "      <th>completion</th>\n",
       "      <th>geometry</th>\n",
       "      <th>LTC_ID</th>\n",
       "    </tr>\n",
       "  </thead>\n",
       "  <tbody>\n",
       "    <tr>\n",
       "      <th>0</th>\n",
       "      <td>Quick Kurb to X-walk</td>\n",
       "      <td>2017-12-08</td>\n",
       "      <td>POINT (990886.2363875993 213047.939427546)</td>\n",
       "      <td>0</td>\n",
       "    </tr>\n",
       "    <tr>\n",
       "      <th>1</th>\n",
       "      <td>Daylighting, Box markings, (1) 6' Rubber speed...</td>\n",
       "      <td>2018-04-12</td>\n",
       "      <td>POINT (1032518.714146682 214886.3347008746)</td>\n",
       "      <td>1</td>\n",
       "    </tr>\n",
       "    <tr>\n",
       "      <th>2</th>\n",
       "      <td>Quick Kurb to X-walk</td>\n",
       "      <td>2016-06-30</td>\n",
       "      <td>POINT (990566.7655698524 217741.2961825352)</td>\n",
       "      <td>2</td>\n",
       "    </tr>\n",
       "  </tbody>\n",
       "</table>\n",
       "</div>"
      ],
      "text/plain": [
       "                                          treatment_  completion  \\\n",
       "0                               Quick Kurb to X-walk  2017-12-08   \n",
       "1  Daylighting, Box markings, (1) 6' Rubber speed...  2018-04-12   \n",
       "2                               Quick Kurb to X-walk  2016-06-30   \n",
       "\n",
       "                                      geometry  LTC_ID  \n",
       "0   POINT (990886.2363875993 213047.939427546)       0  \n",
       "1  POINT (1032518.714146682 214886.3347008746)       1  \n",
       "2  POINT (990566.7655698524 217741.2961825352)       2  "
      ]
     },
     "execution_count": 24,
     "metadata": {},
     "output_type": "execute_result"
    }
   ],
   "source": [
    "# Create ID variable\n",
    "df5['LTC_ID'] = df5.index\n",
    "df5.head(3)"
   ]
  },
  {
   "cell_type": "code",
   "execution_count": 25,
   "metadata": {},
   "outputs": [
    {
     "data": {
      "text/html": [
       "<div>\n",
       "<style scoped>\n",
       "    .dataframe tbody tr th:only-of-type {\n",
       "        vertical-align: middle;\n",
       "    }\n",
       "\n",
       "    .dataframe tbody tr th {\n",
       "        vertical-align: top;\n",
       "    }\n",
       "\n",
       "    .dataframe thead th {\n",
       "        text-align: right;\n",
       "    }\n",
       "</style>\n",
       "<table border=\"1\" class=\"dataframe\">\n",
       "  <thead>\n",
       "    <tr style=\"text-align: right;\">\n",
       "      <th></th>\n",
       "      <th>ST1_Name</th>\n",
       "      <th>ST2_Name</th>\n",
       "      <th>ST3_Name</th>\n",
       "      <th>ST4_Name</th>\n",
       "      <th>geometry</th>\n",
       "      <th>intersection_ID</th>\n",
       "      <th>distance_to_LPIS</th>\n",
       "      <th>nearest_LPIS</th>\n",
       "      <th>distance_to_Street</th>\n",
       "      <th>nearest_Street</th>\n",
       "      <th>distance_to_Sch</th>\n",
       "      <th>nearest_Sch</th>\n",
       "      <th>distance_to_LTC</th>\n",
       "      <th>nearest_LTC</th>\n",
       "    </tr>\n",
       "  </thead>\n",
       "  <tbody>\n",
       "    <tr>\n",
       "      <th>0</th>\n",
       "      <td>ALLEN STREET</td>\n",
       "      <td>CANAL STREET</td>\n",
       "      <td>None</td>\n",
       "      <td>None</td>\n",
       "      <td>POINT (986336.1490000039 199793.6093000025)</td>\n",
       "      <td>0</td>\n",
       "      <td>276</td>\n",
       "      <td>1915.0</td>\n",
       "      <td>7</td>\n",
       "      <td>91705.0</td>\n",
       "      <td>529</td>\n",
       "      <td>3433.0</td>\n",
       "      <td>1183</td>\n",
       "      <td>191.0</td>\n",
       "    </tr>\n",
       "    <tr>\n",
       "      <th>1</th>\n",
       "      <td>AVENUE OF THE AMERICAS</td>\n",
       "      <td>LAIGHT STREET</td>\n",
       "      <td>CANAL STREET</td>\n",
       "      <td>None</td>\n",
       "      <td>POINT (982769.3310000002 202206.1618999988)</td>\n",
       "      <td>1</td>\n",
       "      <td>592</td>\n",
       "      <td>2016.0</td>\n",
       "      <td>17</td>\n",
       "      <td>95035.0</td>\n",
       "      <td>795</td>\n",
       "      <td>38150.0</td>\n",
       "      <td>411</td>\n",
       "      <td>77.0</td>\n",
       "    </tr>\n",
       "  </tbody>\n",
       "</table>\n",
       "</div>"
      ],
      "text/plain": [
       "                 ST1_Name       ST2_Name      ST3_Name ST4_Name  \\\n",
       "0            ALLEN STREET   CANAL STREET          None     None   \n",
       "1  AVENUE OF THE AMERICAS  LAIGHT STREET  CANAL STREET     None   \n",
       "\n",
       "                                      geometry  intersection_ID  \\\n",
       "0  POINT (986336.1490000039 199793.6093000025)                0   \n",
       "1  POINT (982769.3310000002 202206.1618999988)                1   \n",
       "\n",
       "   distance_to_LPIS  nearest_LPIS  distance_to_Street  nearest_Street  \\\n",
       "0               276        1915.0                   7         91705.0   \n",
       "1               592        2016.0                  17         95035.0   \n",
       "\n",
       "   distance_to_Sch  nearest_Sch  distance_to_LTC  nearest_LTC  \n",
       "0              529       3433.0             1183        191.0  \n",
       "1              795      38150.0              411         77.0  "
      ]
     },
     "execution_count": 25,
     "metadata": {},
     "output_type": "execute_result"
    }
   ],
   "source": [
    "df1[['distance_to_LTC','nearest_LTC']] = ckdnearest(df1, df5,'LTC_ID')\n",
    "df1.head(2)"
   ]
  },
  {
   "cell_type": "code",
   "execution_count": 26,
   "metadata": {},
   "outputs": [
    {
     "data": {
      "text/html": [
       "<div>\n",
       "<style scoped>\n",
       "    .dataframe tbody tr th:only-of-type {\n",
       "        vertical-align: middle;\n",
       "    }\n",
       "\n",
       "    .dataframe tbody tr th {\n",
       "        vertical-align: top;\n",
       "    }\n",
       "\n",
       "    .dataframe thead th {\n",
       "        text-align: right;\n",
       "    }\n",
       "</style>\n",
       "<table border=\"1\" class=\"dataframe\">\n",
       "  <thead>\n",
       "    <tr style=\"text-align: right;\">\n",
       "      <th></th>\n",
       "      <th>Pjct_Name</th>\n",
       "      <th>SIP_YR</th>\n",
       "      <th>DateComplt</th>\n",
       "      <th>SIPProjTyp</th>\n",
       "      <th>geometry</th>\n",
       "    </tr>\n",
       "  </thead>\n",
       "  <tbody>\n",
       "    <tr>\n",
       "      <th>0</th>\n",
       "      <td>Jackson Avenue at Pulaski Bridge</td>\n",
       "      <td>2009</td>\n",
       "      <td>2009-07-31</td>\n",
       "      <td>-</td>\n",
       "      <td>(POINT (-73.95133730963697 40.74321496953918))</td>\n",
       "    </tr>\n",
       "    <tr>\n",
       "      <th>1</th>\n",
       "      <td>12th Ave at W. 135th St</td>\n",
       "      <td>2009</td>\n",
       "      <td>2009-05-09</td>\n",
       "      <td>Traffic Network Chng - Pedestrian Safety</td>\n",
       "      <td>(POINT (-73.95792893395617 40.82130045215933))</td>\n",
       "    </tr>\n",
       "    <tr>\n",
       "      <th>2</th>\n",
       "      <td>Flatbush Ave at Church Ave</td>\n",
       "      <td>2009</td>\n",
       "      <td>2009-09-25</td>\n",
       "      <td>Pedestrian Safety - School Safety</td>\n",
       "      <td>(POINT (-73.95870789921455 40.65038727242408))</td>\n",
       "    </tr>\n",
       "  </tbody>\n",
       "</table>\n",
       "</div>"
      ],
      "text/plain": [
       "                          Pjct_Name  SIP_YR  DateComplt  \\\n",
       "0  Jackson Avenue at Pulaski Bridge    2009  2009-07-31   \n",
       "1           12th Ave at W. 135th St    2009  2009-05-09   \n",
       "2        Flatbush Ave at Church Ave    2009  2009-09-25   \n",
       "\n",
       "                                 SIPProjTyp  \\\n",
       "0                                         -   \n",
       "1  Traffic Network Chng - Pedestrian Safety   \n",
       "2         Pedestrian Safety - School Safety   \n",
       "\n",
       "                                         geometry  \n",
       "0  (POINT (-73.95133730963697 40.74321496953918))  \n",
       "1  (POINT (-73.95792893395617 40.82130045215933))  \n",
       "2  (POINT (-73.95870789921455 40.65038727242408))  "
      ]
     },
     "execution_count": 26,
     "metadata": {},
     "output_type": "execute_result"
    }
   ],
   "source": [
    "# Open VZV Street Improvement shapefile\n",
    "fp = r\"Box Sync\\Policy Evaluation\\input_data\\street_improvement_projects_intersections_shapefile\\street_improvement_projects_intersections.shp\"\n",
    "df6 = gpd.read_file(fp)\n",
    "df6.head(3)"
   ]
  },
  {
   "cell_type": "code",
   "execution_count": 27,
   "metadata": {},
   "outputs": [
    {
     "data": {
      "text/plain": [
       "{'init': 'epsg:4326'}"
      ]
     },
     "execution_count": 27,
     "metadata": {},
     "output_type": "execute_result"
    }
   ],
   "source": [
    "df6.crs"
   ]
  },
  {
   "cell_type": "code",
   "execution_count": 28,
   "metadata": {},
   "outputs": [],
   "source": [
    "# Reproeject VZV Street Improvement shapefile to EPSG 2263: NAD83 / New York Long Island (ftUS)\n",
    "df6 = df6.to_crs({'init': 'epsg:2263'})"
   ]
  },
  {
   "cell_type": "code",
   "execution_count": 29,
   "metadata": {},
   "outputs": [
    {
     "data": {
      "text/plain": [
       "{'init': 'epsg:2263'}"
      ]
     },
     "execution_count": 29,
     "metadata": {},
     "output_type": "execute_result"
    }
   ],
   "source": [
    "df6.crs"
   ]
  },
  {
   "cell_type": "code",
   "execution_count": 30,
   "metadata": {},
   "outputs": [
    {
     "data": {
      "text/html": [
       "<div>\n",
       "<style scoped>\n",
       "    .dataframe tbody tr th:only-of-type {\n",
       "        vertical-align: middle;\n",
       "    }\n",
       "\n",
       "    .dataframe tbody tr th {\n",
       "        vertical-align: top;\n",
       "    }\n",
       "\n",
       "    .dataframe thead th {\n",
       "        text-align: right;\n",
       "    }\n",
       "</style>\n",
       "<table border=\"1\" class=\"dataframe\">\n",
       "  <thead>\n",
       "    <tr style=\"text-align: right;\">\n",
       "      <th></th>\n",
       "      <th>Pjct_Name</th>\n",
       "      <th>SIP_YR</th>\n",
       "      <th>DateComplt</th>\n",
       "      <th>SIPProjTyp</th>\n",
       "      <th>geometry</th>\n",
       "      <th>StImpro_ID</th>\n",
       "    </tr>\n",
       "  </thead>\n",
       "  <tbody>\n",
       "    <tr>\n",
       "      <th>0</th>\n",
       "      <td>Jackson Avenue at Pulaski Bridge</td>\n",
       "      <td>2009</td>\n",
       "      <td>2009-07-31</td>\n",
       "      <td>-</td>\n",
       "      <td>(POINT (997734.4838460496 210053.6281589993))</td>\n",
       "      <td>0</td>\n",
       "    </tr>\n",
       "    <tr>\n",
       "      <th>1</th>\n",
       "      <td>12th Ave at W. 135th St</td>\n",
       "      <td>2009</td>\n",
       "      <td>2009-05-09</td>\n",
       "      <td>Traffic Network Chng - Pedestrian Safety</td>\n",
       "      <td>(POINT (995894.2742718621 238501.8740837589))</td>\n",
       "      <td>1</td>\n",
       "    </tr>\n",
       "    <tr>\n",
       "      <th>2</th>\n",
       "      <td>Flatbush Ave at Church Ave</td>\n",
       "      <td>2009</td>\n",
       "      <td>2009-09-25</td>\n",
       "      <td>Pedestrian Safety - School Safety</td>\n",
       "      <td>(POINT (995708.027925191 176232.7026909116))</td>\n",
       "      <td>2</td>\n",
       "    </tr>\n",
       "  </tbody>\n",
       "</table>\n",
       "</div>"
      ],
      "text/plain": [
       "                          Pjct_Name  SIP_YR  DateComplt  \\\n",
       "0  Jackson Avenue at Pulaski Bridge    2009  2009-07-31   \n",
       "1           12th Ave at W. 135th St    2009  2009-05-09   \n",
       "2        Flatbush Ave at Church Ave    2009  2009-09-25   \n",
       "\n",
       "                                 SIPProjTyp  \\\n",
       "0                                         -   \n",
       "1  Traffic Network Chng - Pedestrian Safety   \n",
       "2         Pedestrian Safety - School Safety   \n",
       "\n",
       "                                        geometry  StImpro_ID  \n",
       "0  (POINT (997734.4838460496 210053.6281589993))           0  \n",
       "1  (POINT (995894.2742718621 238501.8740837589))           1  \n",
       "2   (POINT (995708.027925191 176232.7026909116))           2  "
      ]
     },
     "execution_count": 30,
     "metadata": {},
     "output_type": "execute_result"
    }
   ],
   "source": [
    "# Create ID variable\n",
    "df6['StImpro_ID'] = df6.index\n",
    "df6.head(3)"
   ]
  },
  {
   "cell_type": "code",
   "execution_count": 32,
   "metadata": {},
   "outputs": [
    {
     "ename": "ValueError",
     "evalue": "x attribute access only provided for Point geometries",
     "output_type": "error",
     "traceback": [
      "\u001b[1;31m---------------------------------------------------------------------------\u001b[0m",
      "\u001b[1;31mValueError\u001b[0m                                Traceback (most recent call last)",
      "\u001b[1;32m<ipython-input-32-94ae6f53cdb1>\u001b[0m in \u001b[0;36m<module>\u001b[1;34m\u001b[0m\n\u001b[1;32m----> 1\u001b[1;33m \u001b[0mdf1\u001b[0m\u001b[1;33m[\u001b[0m\u001b[1;33m[\u001b[0m\u001b[1;34m'distance_to_StImpro'\u001b[0m\u001b[1;33m,\u001b[0m\u001b[1;34m'nearest_StImpro'\u001b[0m\u001b[1;33m]\u001b[0m\u001b[1;33m]\u001b[0m \u001b[1;33m=\u001b[0m \u001b[0mckdnearest\u001b[0m\u001b[1;33m(\u001b[0m\u001b[0mdf1\u001b[0m\u001b[1;33m,\u001b[0m \u001b[0mdf6\u001b[0m\u001b[1;33m,\u001b[0m\u001b[1;34m'StImpro_ID'\u001b[0m\u001b[1;33m)\u001b[0m\u001b[1;33m\u001b[0m\u001b[0m\n\u001b[0m\u001b[0;32m      2\u001b[0m \u001b[0mdf1\u001b[0m\u001b[1;33m.\u001b[0m\u001b[0mhead\u001b[0m\u001b[1;33m(\u001b[0m\u001b[1;36m2\u001b[0m\u001b[1;33m)\u001b[0m\u001b[1;33m\u001b[0m\u001b[0m\n",
      "\u001b[1;32m<ipython-input-11-3243840cdddd>\u001b[0m in \u001b[0;36mckdnearest\u001b[1;34m(gdA, gdB, bcol)\u001b[0m\n\u001b[0;32m     13\u001b[0m \u001b[1;33m\u001b[0m\u001b[0m\n\u001b[0;32m     14\u001b[0m     \u001b[0mnA\u001b[0m \u001b[1;33m=\u001b[0m \u001b[0mnp\u001b[0m\u001b[1;33m.\u001b[0m\u001b[0marray\u001b[0m\u001b[1;33m(\u001b[0m\u001b[0mlist\u001b[0m\u001b[1;33m(\u001b[0m\u001b[0mzip\u001b[0m\u001b[1;33m(\u001b[0m\u001b[0mgdA\u001b[0m\u001b[1;33m.\u001b[0m\u001b[0mgeometry\u001b[0m\u001b[1;33m.\u001b[0m\u001b[0mx\u001b[0m\u001b[1;33m,\u001b[0m \u001b[0mgdA\u001b[0m\u001b[1;33m.\u001b[0m\u001b[0mgeometry\u001b[0m\u001b[1;33m.\u001b[0m\u001b[0my\u001b[0m\u001b[1;33m)\u001b[0m\u001b[1;33m)\u001b[0m \u001b[1;33m)\u001b[0m\u001b[1;33m\u001b[0m\u001b[0m\n\u001b[1;32m---> 15\u001b[1;33m     \u001b[0mnB\u001b[0m \u001b[1;33m=\u001b[0m \u001b[0mnp\u001b[0m\u001b[1;33m.\u001b[0m\u001b[0marray\u001b[0m\u001b[1;33m(\u001b[0m\u001b[0mlist\u001b[0m\u001b[1;33m(\u001b[0m\u001b[0mzip\u001b[0m\u001b[1;33m(\u001b[0m\u001b[0mgdB\u001b[0m\u001b[1;33m.\u001b[0m\u001b[0mgeometry\u001b[0m\u001b[1;33m.\u001b[0m\u001b[0mx\u001b[0m\u001b[1;33m,\u001b[0m \u001b[0mgdB\u001b[0m\u001b[1;33m.\u001b[0m\u001b[0mgeometry\u001b[0m\u001b[1;33m.\u001b[0m\u001b[0my\u001b[0m\u001b[1;33m)\u001b[0m\u001b[1;33m)\u001b[0m \u001b[1;33m)\u001b[0m\u001b[1;33m\u001b[0m\u001b[0m\n\u001b[0m\u001b[0;32m     16\u001b[0m     \u001b[0mbtree\u001b[0m \u001b[1;33m=\u001b[0m \u001b[0mcKDTree\u001b[0m\u001b[1;33m(\u001b[0m\u001b[0mnB\u001b[0m\u001b[1;33m)\u001b[0m\u001b[1;33m\u001b[0m\u001b[0m\n\u001b[0;32m     17\u001b[0m     \u001b[0mdist\u001b[0m\u001b[1;33m,\u001b[0m \u001b[0midx\u001b[0m \u001b[1;33m=\u001b[0m \u001b[0mbtree\u001b[0m\u001b[1;33m.\u001b[0m\u001b[0mquery\u001b[0m\u001b[1;33m(\u001b[0m\u001b[0mnA\u001b[0m\u001b[1;33m,\u001b[0m\u001b[0mk\u001b[0m\u001b[1;33m=\u001b[0m\u001b[1;36m1\u001b[0m\u001b[1;33m)\u001b[0m\u001b[1;33m\u001b[0m\u001b[0m\n",
      "\u001b[1;32m~\\AppData\\Local\\conda\\conda\\envs\\geo\\lib\\site-packages\\geopandas\\geoseries.py\u001b[0m in \u001b[0;36mx\u001b[1;34m(self)\u001b[0m\n\u001b[0;32m     57\u001b[0m         \u001b[1;32melse\u001b[0m\u001b[1;33m:\u001b[0m\u001b[1;33m\u001b[0m\u001b[0m\n\u001b[0;32m     58\u001b[0m             \u001b[0mmessage\u001b[0m \u001b[1;33m=\u001b[0m \u001b[1;34m\"x attribute access only provided for Point geometries\"\u001b[0m\u001b[1;33m\u001b[0m\u001b[0m\n\u001b[1;32m---> 59\u001b[1;33m             \u001b[1;32mraise\u001b[0m \u001b[0mValueError\u001b[0m\u001b[1;33m(\u001b[0m\u001b[0mmessage\u001b[0m\u001b[1;33m)\u001b[0m\u001b[1;33m\u001b[0m\u001b[0m\n\u001b[0m\u001b[0;32m     60\u001b[0m \u001b[1;33m\u001b[0m\u001b[0m\n\u001b[0;32m     61\u001b[0m     \u001b[1;33m@\u001b[0m\u001b[0mproperty\u001b[0m\u001b[1;33m\u001b[0m\u001b[0m\n",
      "\u001b[1;31mValueError\u001b[0m: x attribute access only provided for Point geometries"
     ]
    }
   ],
   "source": [
    "df1[['distance_to_StImpro','nearest_StImpro']] = ckdnearest(df1, df6,'StImpro_ID')\n",
    "df1.head(2)"
   ]
  },
  {
   "cell_type": "code",
   "execution_count": null,
   "metadata": {},
   "outputs": [],
   "source": []
  }
 ],
 "metadata": {
  "kernelspec": {
   "display_name": "Python 3",
   "language": "python",
   "name": "python3"
  },
  "language_info": {
   "codemirror_mode": {
    "name": "ipython",
    "version": 3
   },
   "file_extension": ".py",
   "mimetype": "text/x-python",
   "name": "python",
   "nbconvert_exporter": "python",
   "pygments_lexer": "ipython3",
   "version": "3.6.6"
  }
 },
 "nbformat": 4,
 "nbformat_minor": 2
}
