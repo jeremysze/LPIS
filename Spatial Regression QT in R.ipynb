{
 "cells": [
  {
   "cell_type": "code",
   "execution_count": 4,
   "metadata": {},
   "outputs": [
    {
     "data": {
      "text/html": [
       "<ol class=list-inline>\n",
       "\t<li>'C:/Users/jerem/Documents/R/win-library/3.5'</li>\n",
       "\t<li>'C:/Users/jerem/AppData/Local/conda/conda/envs/geo/Lib/R/library'</li>\n",
       "</ol>\n"
      ],
      "text/latex": [
       "\\begin{enumerate*}\n",
       "\\item 'C:/Users/jerem/Documents/R/win-library/3.5'\n",
       "\\item 'C:/Users/jerem/AppData/Local/conda/conda/envs/geo/Lib/R/library'\n",
       "\\end{enumerate*}\n"
      ],
      "text/markdown": [
       "1. 'C:/Users/jerem/Documents/R/win-library/3.5'\n",
       "2. 'C:/Users/jerem/AppData/Local/conda/conda/envs/geo/Lib/R/library'\n",
       "\n",
       "\n"
      ],
      "text/plain": [
       "[1] \"C:/Users/jerem/Documents/R/win-library/3.5\"                     \n",
       "[2] \"C:/Users/jerem/AppData/Local/conda/conda/envs/geo/Lib/R/library\""
      ]
     },
     "metadata": {},
     "output_type": "display_data"
    }
   ],
   "source": [
    ".libPaths()"
   ]
  },
  {
   "cell_type": "markdown",
   "metadata": {},
   "source": [
    "## Library installations\n",
    "install.packages(\"ggplot2\", repos = \"http://cran.us.r-project.org\")\n",
    "\n",
    "install.packages(\"splm\", repos = \"http://cran.us.r-project.org\") \n",
    "\n",
    "install.packages(\"foreign\", repos = \"http://cran.us.r-project.org\")\n",
    "\n",
    "install.packages(\"readstata13\", repos = \"http://cran.us.r-project.org\")\n",
    "\n",
    "install.packages(\"lubridate\", repos = \"http://cran.us.r-project.org\")\n",
    "\n",
    "install.packages(\"plm\", repos = \"http://cran.us.r-project.org\")\n",
    "\n",
    "install.packages(\"zoo\", repos = \"http://cran.us.r-project.org\")\n",
    "\n",
    "install.packages(\"rgdal\", repos = \"http://cran.us.r-project.org\")\n",
    "\n",
    "install.packages(\"tidyverse\", repos = \"http://cran.us.r-project.org\")\n",
    "\n",
    "install.packages(\"spdep\", repos = \"http://cran.us.r-project.org\")\n",
    "\n",
    "install.packages(\"plyr\", repos = \"http://cran.us.r-project.org\")\n",
    "\n",
    "install.packages(\"gstat\", repos = \"http://cran.us.r-project.org\")\n",
    "\n",
    "install.packages(\"GISTools\", repos = \"http://cran.us.r-project.org\")\n",
    "\n",
    "install.packages(\"ggmap\", repos = \"http://cran.us.r-project.org\")\n",
    "\n",
    "install.packages(\"rgdal\", repos = \"http://cran.us.r-project.org\")\n",
    "\n",
    "install.packages(\"knitr\", repos = \"http://cran.us.r-project.org\")\n",
    "\n",
    "install.packages(\"tufte\", repos = \"http://cran.us.r-project.org\")\n",
    "\n",
    "install.packages(\"geojsonio\", repos = \"http://cran.us.r-project.org\")\n",
    "\n",
    "install.packages(\"pacman\", repos = \"http://cran.us.r-project.org\")"
   ]
  },
  {
   "cell_type": "code",
   "execution_count": 72,
   "metadata": {},
   "outputs": [
    {
     "name": "stderr",
     "output_type": "stream",
     "text": [
      "Installing package into 'C:/Users/jerem/Documents/R/win-library/3.5'\n",
      "(as 'lib' is unspecified)\n",
      "also installing the dependency 'remotes'\n",
      "\n"
     ]
    },
    {
     "name": "stdout",
     "output_type": "stream",
     "text": [
      "package 'remotes' successfully unpacked and MD5 sums checked\n",
      "package 'pacman' successfully unpacked and MD5 sums checked\n",
      "\n",
      "The downloaded binary packages are in\n",
      "\tC:\\Users\\jerem\\AppData\\Local\\Temp\\Rtmp0q4iAc\\downloaded_packages\n"
     ]
    }
   ],
   "source": [
    "install.packages(\"pacman\", repos = \"http://cran.us.r-project.org\")"
   ]
  },
  {
   "cell_type": "code",
   "execution_count": 1,
   "metadata": {},
   "outputs": [
    {
     "data": {
      "text/html": [
       "<ol class=list-inline>\n",
       "\t<li>'C:/Users/jerem/Documents/R/win-library/3.5'</li>\n",
       "\t<li>'C:/Users/jerem/AppData/Local/conda/conda/envs/geo/Lib/R/library'</li>\n",
       "</ol>\n"
      ],
      "text/latex": [
       "\\begin{enumerate*}\n",
       "\\item 'C:/Users/jerem/Documents/R/win-library/3.5'\n",
       "\\item 'C:/Users/jerem/AppData/Local/conda/conda/envs/geo/Lib/R/library'\n",
       "\\end{enumerate*}\n"
      ],
      "text/markdown": [
       "1. 'C:/Users/jerem/Documents/R/win-library/3.5'\n",
       "2. 'C:/Users/jerem/AppData/Local/conda/conda/envs/geo/Lib/R/library'\n",
       "\n",
       "\n"
      ],
      "text/plain": [
       "[1] \"C:/Users/jerem/Documents/R/win-library/3.5\"                     \n",
       "[2] \"C:/Users/jerem/AppData/Local/conda/conda/envs/geo/Lib/R/library\""
      ]
     },
     "metadata": {},
     "output_type": "display_data"
    }
   ],
   "source": [
    ".libPaths()"
   ]
  },
  {
   "cell_type": "code",
   "execution_count": 2,
   "metadata": {},
   "outputs": [
    {
     "name": "stderr",
     "output_type": "stream",
     "text": [
      "Warning message:\n",
      "\"package 'ggplot2' was built under R version 3.5.2\"Warning message:\n",
      "\"package 'splm' was built under R version 3.5.2\"Loading required package: spdep\n",
      "Warning message:\n",
      "\"package 'spdep' was built under R version 3.5.2\"Loading required package: sp\n",
      "Warning message:\n",
      "\"package 'sp' was built under R version 3.5.2\"Loading required package: Matrix\n",
      "Warning message:\n",
      "\"package 'Matrix' was built under R version 3.5.2\"Loading required package: spData\n",
      "To access larger datasets in this package, install the spDataLarge\n",
      "package with: `install.packages('spDataLarge',\n",
      "repos='https://nowosad.github.io/drat/', type='source')`\n",
      "Warning message:\n",
      "\"package 'foreign' was built under R version 3.5.2\"Warning message:\n",
      "\"package 'readstata13' was built under R version 3.5.2\"Warning message:\n",
      "\"package 'lubridate' was built under R version 3.5.2\"\n",
      "Attaching package: 'lubridate'\n",
      "\n",
      "The following object is masked from 'package:base':\n",
      "\n",
      "    date\n",
      "\n",
      "Loading required package: Formula\n",
      "Warning message:\n",
      "\"package 'Formula' was built under R version 3.5.2\"Warning message:\n",
      "\"package 'zoo' was built under R version 3.5.2\"\n",
      "Attaching package: 'zoo'\n",
      "\n",
      "The following objects are masked from 'package:base':\n",
      "\n",
      "    as.Date, as.Date.numeric\n",
      "\n",
      "Warning message:\n",
      "\"package 'rgdal' was built under R version 3.5.2\"rgdal: version: 1.3-6, (SVN revision 773)\n",
      " Geospatial Data Abstraction Library extensions to R successfully loaded\n",
      " Loaded GDAL runtime: GDAL 2.2.3, released 2017/11/20\n",
      " Path to GDAL shared files: C:/Users/jerem/Documents/R/win-library/3.5/rgdal/gdal\n",
      " GDAL binary built with GEOS: TRUE \n",
      " Loaded PROJ.4 runtime: Rel. 4.9.3, 15 August 2016, [PJ_VERSION: 493]\n",
      " Path to PROJ.4 shared files: C:/Users/jerem/Documents/R/win-library/3.5/rgdal/proj\n",
      " Linking to sp version: 1.3-1 \n",
      "Warning message:\n",
      "\"package 'tufte' was built under R version 3.5.2\"Warning message:\n",
      "\"package 'knitr' was built under R version 3.5.2\"Warning message:\n",
      "\"package 'GISTools' was built under R version 3.5.2\"Loading required package: maptools\n",
      "Warning message:\n",
      "\"package 'maptools' was built under R version 3.5.2\"Checking rgeos availability: TRUE\n",
      "Loading required package: RColorBrewer\n",
      "Warning message:\n",
      "\"package 'RColorBrewer' was built under R version 3.5.2\"Loading required package: MASS\n",
      "Warning message:\n",
      "\"package 'MASS' was built under R version 3.5.2\"Loading required package: rgeos\n",
      "Warning message:\n",
      "\"package 'rgeos' was built under R version 3.5.2\"rgeos version: 0.4-2, (SVN revision 581)\n",
      " GEOS runtime version: 3.6.1-CAPI-1.10.1 \n",
      " Linking to sp version: 1.3-1 \n",
      " Polygon checking: TRUE \n",
      "\n",
      "Warning message:\n",
      "\"package 'gstat' was built under R version 3.5.2\"Warning message:\n",
      "\"package 'plyr' was built under R version 3.5.2\"\n",
      "Attaching package: 'plyr'\n",
      "\n",
      "The following object is masked from 'package:lubridate':\n",
      "\n",
      "    here\n",
      "\n"
     ]
    }
   ],
   "source": [
    "library(ggplot2)\n",
    "library(splm)\n",
    "library(foreign)\n",
    "library(readstata13)\n",
    "library(lubridate)\n",
    "library(plm)\n",
    "library(zoo)\n",
    "library(rgdal)\n",
    "# Layout\n",
    "library(tufte)\n",
    "# For pretty table\n",
    "library(knitr)\n",
    "# Spatial Data management\n",
    "library(rgdal)\n",
    "# Pretty graphics\n",
    "library(ggplot2)\n",
    "# Pretty maps\n",
    "library(ggmap)\n",
    "# Various GIS utilities\n",
    "library(GISTools)\n",
    "# For all your interpolation needs\n",
    "library(gstat)\n",
    "# For data manipulation\n",
    "library(plyr)\n",
    "# Spatial regression\n",
    "library(spdep)\n",
    "\n",
    "#pacman::p_load(ggplot2, splm, spdep)"
   ]
  },
  {
   "cell_type": "code",
   "execution_count": 78,
   "metadata": {},
   "outputs": [
    {
     "name": "stderr",
     "output_type": "stream",
     "text": [
      "Warning message:\n",
      "\"package 'dplyr' was built under R version 3.5.2\"\n",
      "Attaching package: 'dplyr'\n",
      "\n",
      "The following objects are masked from 'package:plyr':\n",
      "\n",
      "    arrange, count, desc, failwith, id, mutate, rename, summarise,\n",
      "    summarize\n",
      "\n",
      "The following objects are masked from 'package:rgeos':\n",
      "\n",
      "    intersect, setdiff, union\n",
      "\n",
      "The following object is masked from 'package:MASS':\n",
      "\n",
      "    select\n",
      "\n",
      "The following objects are masked from 'package:plm':\n",
      "\n",
      "    between, lag, lead\n",
      "\n",
      "The following objects are masked from 'package:lubridate':\n",
      "\n",
      "    intersect, setdiff, union\n",
      "\n",
      "The following objects are masked from 'package:stats':\n",
      "\n",
      "    filter, lag\n",
      "\n",
      "The following objects are masked from 'package:base':\n",
      "\n",
      "    intersect, setdiff, setequal, union\n",
      "\n"
     ]
    }
   ],
   "source": [
    "library(dplyr)\n"
   ]
  },
  {
   "cell_type": "code",
   "execution_count": 12,
   "metadata": {},
   "outputs": [],
   "source": [
    "#Filepaths\n",
    "work <- \"D:\"\n",
    "laptop <- \"C:\\\\Users\\\\jerem\"\n",
    "origin = work"
   ]
  },
  {
   "cell_type": "code",
   "execution_count": 14,
   "metadata": {},
   "outputs": [],
   "source": [
    "# input Stata file\n",
    "#mydata.df <- read.dta13(\"C:\\\\Users\\\\jerem\\\\Box Sync\\\\Policy Evaluation\\\\working_data\\\\analytical_file_panel_qt.dta\")"
   ]
  },
  {
   "cell_type": "code",
   "execution_count": 33,
   "metadata": {},
   "outputs": [
    {
     "name": "stdout",
     "output_type": "stream",
     "text": [
      "OGR data source with driver: ESRI Shapefile \n",
      "Source: \"C:\\Users\\jerem\\Box Sync\\Policy Evaluation\\working_data\\analytical_panel_shapefile\\analytical_panel_qt_shapefile_panel_thiessen_polygons.shp\", layer: \"analytical_panel_qt_shapefile_panel_thiessen_polygons\"\n",
      "with 324675 features\n",
      "It has 31 fields\n",
      "Integer64 fields read as strings:  DUP_IDS \n"
     ]
    }
   ],
   "source": [
    "# Input shapefile\n",
    "#myshp  <-readOGR(dsn=\"D:\\\\Box Sync\\\\Policy Evaluation\\\\working_data\\\\analytical_panel_shapefile\\\\analytical_panel_qt_shapefile_panel_thiessen_polygons.shp\",layer=\"analytical_panel_qt_shapefile_panel_thiessen_polygons\")\n",
    "myshp  <-readOGR(dsn=\"C:\\\\Users\\\\jerem\\\\Box Sync\\\\Policy Evaluation\\\\working_data\\\\analytical_panel_shapefile\\\\analytical_panel_qt_shapefile_panel_thiessen_polygons.shp\",layer=\"analytical_panel_qt_shapefile_panel_thiessen_polygons\")"
   ]
  },
  {
   "cell_type": "code",
   "execution_count": 34,
   "metadata": {},
   "outputs": [
    {
     "data": {
      "text/plain": [
       "Object of class SpatialPolygonsDataFrame\n",
       "Coordinates:\n",
       "       min       max\n",
       "x 911158.3 1070171.2\n",
       "y 119490.9  274784.9\n",
       "Is projected: TRUE \n",
       "proj4string :\n",
       "[+proj=lcc +lat_1=41.03333333333333 +lat_2=40.66666666666666\n",
       "+lat_0=40.16666666666666 +lon_0=-74 +x_0=300000.0000000001 +y_0=0\n",
       "+datum=NAD83 +units=us-ft +no_defs +ellps=GRS80 +towgs84=0,0,0]\n",
       "Data attributes:\n",
       "   collision_       personsinj        pedestrian        cyclistinj     \n",
       " Min.   : 0.000   Min.   : 0.0000   Min.   : 0.0000   Min.   :0.00000  \n",
       " 1st Qu.: 0.000   1st Qu.: 0.0000   1st Qu.: 0.0000   1st Qu.:0.00000  \n",
       " Median : 1.000   Median : 0.0000   Median : 0.0000   Median :0.00000  \n",
       " Mean   : 1.668   Mean   : 0.4509   Mean   : 0.1194   Mean   :0.04682  \n",
       " 3rd Qu.: 2.000   3rd Qu.: 0.0000   3rd Qu.: 0.0000   3rd Qu.:0.00000  \n",
       " Max.   :77.000   Max.   :44.0000   Max.   :29.0000   Max.   :5.00000  \n",
       "                                                                       \n",
       "   motoristin          bronx           brooklyn        manhattan     \n",
       " Min.   : 0.0000   Min.   :0.0000   Min.   :0.0000   Min.   :0.0000  \n",
       " 1st Qu.: 0.0000   1st Qu.:0.0000   1st Qu.:0.0000   1st Qu.:0.0000  \n",
       " Median : 0.0000   Median :0.0000   Median :0.0000   Median :0.0000  \n",
       " Mean   : 0.2859   Mean   :0.1307   Mean   :0.3585   Mean   :0.2107  \n",
       " 3rd Qu.: 0.0000   3rd Qu.:0.0000   3rd Qu.:1.0000   3rd Qu.:0.0000  \n",
       " Max.   :43.0000   Max.   :1.0000   Max.   :1.0000   Max.   :1.0000  \n",
       "                                                                     \n",
       "     queens        statenisla        distance_t        distance_1     \n",
       " Min.   :0.000   Min.   :0.00000   Min.   :    0.0   Min.   :  0.000  \n",
       " 1st Qu.:0.000   1st Qu.:0.00000   1st Qu.:  260.0   1st Qu.:  2.000  \n",
       " Median :0.000   Median :0.00000   Median :  660.0   Median :  3.000  \n",
       " Mean   :0.252   Mean   :0.04774   Mean   :  969.7   Mean   :  4.542  \n",
       " 3rd Qu.:1.000   3rd Qu.:0.00000   3rd Qu.: 1175.0   3rd Qu.:  3.000  \n",
       " Max.   :1.000   Max.   :1.00000   Max.   :18956.0   Max.   :138.000  \n",
       "                                                                      \n",
       "   distance_2        distance_3      distance_4     distance_5    \n",
       " Min.   :   17.0   Min.   :    0   Min.   :   0   Min.   :   0.0  \n",
       " 1st Qu.:  425.0   1st Qu.: 1342   1st Qu.:   3   1st Qu.:   3.0  \n",
       " Median :  692.0   Median : 2581   Median : 541   Median : 271.0  \n",
       " Mean   :  822.8   Mean   : 3839   Mean   :1034   Mean   : 557.3  \n",
       " 3rd Qu.: 1055.0   3rd Qu.: 4684   3rd Qu.:1449   3rd Qu.: 835.0  \n",
       " Max.   :10685.0   Max.   :46542   Max.   :8907   Max.   :9622.0  \n",
       "                                                                  \n",
       "   flag_left_        flag_lef_1         flag_LPIS_       flag_LPIS      \n",
       " Min.   :0.00000   Min.   :0.000000   Min.   :0.0000   Min.   :0.00000  \n",
       " 1st Qu.:0.00000   1st Qu.:0.000000   1st Qu.:0.0000   1st Qu.:0.00000  \n",
       " Median :0.00000   Median :0.000000   Median :0.0000   Median :0.00000  \n",
       " Mean   :0.01532   Mean   :0.003767   Mean   :0.2071   Mean   :0.06047  \n",
       " 3rd Qu.:0.00000   3rd Qu.:0.000000   3rd Qu.:0.0000   3rd Qu.:0.00000  \n",
       " Max.   :1.00000   Max.   :1.000000   Max.   :1.0000   Max.   :1.00000  \n",
       "                                                                        \n",
       "   bike_route       bike_rou_1       flag_senio       flag_prior     \n",
       " Min.   :0.0000   Min.   :0.0000   Min.   :0.0000   Min.   :0.00000  \n",
       " 1st Qu.:0.0000   1st Qu.:0.0000   1st Qu.:0.0000   1st Qu.:0.00000  \n",
       " Median :0.0000   Median :0.0000   Median :0.0000   Median :0.00000  \n",
       " Mean   :0.2229   Mean   :0.2558   Mean   :0.1984   Mean   :0.01686  \n",
       " 3rd Qu.:0.0000   3rd Qu.:1.0000   3rd Qu.:0.0000   3rd Qu.:0.00000  \n",
       " Max.   :1.0000   Max.   :1.0000   Max.   :1.0000   Max.   :1.00000  \n",
       "                                                                     \n",
       "   flag_schoo         quarter          year        intersecti   \n",
       " Min.   :0.00000   Min.   :1.00   Min.   :2012   Min.   :    1  \n",
       " 1st Qu.:0.00000   1st Qu.:2.00   1st Qu.:2014   1st Qu.: 3385  \n",
       " Median :0.00000   Median :3.00   Median :2015   Median : 6669  \n",
       " Mean   :0.05205   Mean   :2.52   Mean   :2015   Mean   : 6654  \n",
       " 3rd Qu.:0.00000   3rd Qu.:3.00   3rd Qu.:2017   3rd Qu.: 9944  \n",
       " Max.   :1.00000   Max.   :4.00   Max.   :2018   Max.   :13214  \n",
       "                                                                \n",
       "       y                x              DUP_IDS      \n",
       " Min.   :122549   Min.   : 914216   1      :    25  \n",
       " 1st Qu.:178942   1st Qu.: 990095   10     :    25  \n",
       " Median :199159   Median :1001439   100    :    25  \n",
       " Mean   :200888   Mean   :1003739   1000   :    25  \n",
       " 3rd Qu.:219838   3rd Qu.:1016189   10000  :    25  \n",
       " Max.   :271727   Max.   :1067113   10001  :    25  \n",
       "                                    (Other):324525  "
      ]
     },
     "metadata": {},
     "output_type": "display_data"
    }
   ],
   "source": [
    "summary(myshp)"
   ]
  },
  {
   "cell_type": "code",
   "execution_count": 35,
   "metadata": {},
   "outputs": [],
   "source": [
    "names(myshp) <- c(\"collision_count\",\"personsinjured\",\"pedestriansinjured\",\"cyclistinjured\",\"motoristinjured\",\"bronx\",\"brooklyn\",\"manhattan\",\"queens\",\"statenisland\",\"distance_to_LPIS\",\"distance_to_Street\",\"distance_to_Sch\",\"distance_to_LTC\",\"distance_to_bikeroute\",\"distance_to_truckroute\",\"flag_left_turn_ever\",\"flag_left_turn\",\"flag_LPIS_ever\",\"flag_LPIS\",\"bike_route_tv\",\"bike_route_ever\", \"flag_seniors\",\"flag_priorityinters\",\"flag_school\",\"quarter\",\"year\",\"intersection_id\",\"y\",\"x\")"
   ]
  },
  {
   "cell_type": "code",
   "execution_count": 37,
   "metadata": {},
   "outputs": [
    {
     "data": {
      "text/html": [
       "<ol class=list-inline>\n",
       "\t<li>'collision_count'</li>\n",
       "\t<li>'personsinjured'</li>\n",
       "\t<li>'pedestriansinjured'</li>\n",
       "\t<li>'cyclistinjured'</li>\n",
       "\t<li>'motoristinjured'</li>\n",
       "\t<li>'bronx'</li>\n",
       "\t<li>'brooklyn'</li>\n",
       "\t<li>'manhattan'</li>\n",
       "\t<li>'queens'</li>\n",
       "\t<li>'statenisland'</li>\n",
       "\t<li>'distance_to_LPIS'</li>\n",
       "\t<li>'distance_to_Street'</li>\n",
       "\t<li>'distance_to_Sch'</li>\n",
       "\t<li>'distance_to_LTC'</li>\n",
       "\t<li>'distance_to_bikeroute'</li>\n",
       "\t<li>'distance_to_truckroute'</li>\n",
       "\t<li>'flag_left_turn_ever'</li>\n",
       "\t<li>'flag_left_turn'</li>\n",
       "\t<li>'flag_LPIS_ever'</li>\n",
       "\t<li>'flag_LPIS'</li>\n",
       "\t<li>'bike_route_tv'</li>\n",
       "\t<li>'bike_route_ever'</li>\n",
       "\t<li>'flag_seniors'</li>\n",
       "\t<li>'flag_priorityinters'</li>\n",
       "\t<li>'flag_school'</li>\n",
       "\t<li>'quarter'</li>\n",
       "\t<li>'year'</li>\n",
       "\t<li>'intersection_id'</li>\n",
       "\t<li>'y'</li>\n",
       "\t<li>'x'</li>\n",
       "\t<li>NA</li>\n",
       "</ol>\n"
      ],
      "text/latex": [
       "\\begin{enumerate*}\n",
       "\\item 'collision\\_count'\n",
       "\\item 'personsinjured'\n",
       "\\item 'pedestriansinjured'\n",
       "\\item 'cyclistinjured'\n",
       "\\item 'motoristinjured'\n",
       "\\item 'bronx'\n",
       "\\item 'brooklyn'\n",
       "\\item 'manhattan'\n",
       "\\item 'queens'\n",
       "\\item 'statenisland'\n",
       "\\item 'distance\\_to\\_LPIS'\n",
       "\\item 'distance\\_to\\_Street'\n",
       "\\item 'distance\\_to\\_Sch'\n",
       "\\item 'distance\\_to\\_LTC'\n",
       "\\item 'distance\\_to\\_bikeroute'\n",
       "\\item 'distance\\_to\\_truckroute'\n",
       "\\item 'flag\\_left\\_turn\\_ever'\n",
       "\\item 'flag\\_left\\_turn'\n",
       "\\item 'flag\\_LPIS\\_ever'\n",
       "\\item 'flag\\_LPIS'\n",
       "\\item 'bike\\_route\\_tv'\n",
       "\\item 'bike\\_route\\_ever'\n",
       "\\item 'flag\\_seniors'\n",
       "\\item 'flag\\_priorityinters'\n",
       "\\item 'flag\\_school'\n",
       "\\item 'quarter'\n",
       "\\item 'year'\n",
       "\\item 'intersection\\_id'\n",
       "\\item 'y'\n",
       "\\item 'x'\n",
       "\\item NA\n",
       "\\end{enumerate*}\n"
      ],
      "text/markdown": [
       "1. 'collision_count'\n",
       "2. 'personsinjured'\n",
       "3. 'pedestriansinjured'\n",
       "4. 'cyclistinjured'\n",
       "5. 'motoristinjured'\n",
       "6. 'bronx'\n",
       "7. 'brooklyn'\n",
       "8. 'manhattan'\n",
       "9. 'queens'\n",
       "10. 'statenisland'\n",
       "11. 'distance_to_LPIS'\n",
       "12. 'distance_to_Street'\n",
       "13. 'distance_to_Sch'\n",
       "14. 'distance_to_LTC'\n",
       "15. 'distance_to_bikeroute'\n",
       "16. 'distance_to_truckroute'\n",
       "17. 'flag_left_turn_ever'\n",
       "18. 'flag_left_turn'\n",
       "19. 'flag_LPIS_ever'\n",
       "20. 'flag_LPIS'\n",
       "21. 'bike_route_tv'\n",
       "22. 'bike_route_ever'\n",
       "23. 'flag_seniors'\n",
       "24. 'flag_priorityinters'\n",
       "25. 'flag_school'\n",
       "26. 'quarter'\n",
       "27. 'year'\n",
       "28. 'intersection_id'\n",
       "29. 'y'\n",
       "30. 'x'\n",
       "31. NA\n",
       "\n",
       "\n"
      ],
      "text/plain": [
       " [1] \"collision_count\"        \"personsinjured\"         \"pedestriansinjured\"    \n",
       " [4] \"cyclistinjured\"         \"motoristinjured\"        \"bronx\"                 \n",
       " [7] \"brooklyn\"               \"manhattan\"              \"queens\"                \n",
       "[10] \"statenisland\"           \"distance_to_LPIS\"       \"distance_to_Street\"    \n",
       "[13] \"distance_to_Sch\"        \"distance_to_LTC\"        \"distance_to_bikeroute\" \n",
       "[16] \"distance_to_truckroute\" \"flag_left_turn_ever\"    \"flag_left_turn\"        \n",
       "[19] \"flag_LPIS_ever\"         \"flag_LPIS\"              \"bike_route_tv\"         \n",
       "[22] \"bike_route_ever\"        \"flag_seniors\"           \"flag_priorityinters\"   \n",
       "[25] \"flag_school\"            \"quarter\"                \"year\"                  \n",
       "[28] \"intersection_id\"        \"y\"                      \"x\"                     \n",
       "[31] NA                      "
      ]
     },
     "metadata": {},
     "output_type": "display_data"
    }
   ],
   "source": [
    "names(myshp)"
   ]
  },
  {
   "cell_type": "code",
   "execution_count": 80,
   "metadata": {},
   "outputs": [],
   "source": [
    "myshp@data <- myshp@data[,-31]"
   ]
  },
  {
   "cell_type": "code",
   "execution_count": 81,
   "metadata": {},
   "outputs": [
    {
     "data": {
      "application/geo+json": {
       "features": [
        {
         "geometry": {
          "coordinates": [
           [
            [
             986150.2933,
             199702.6473
            ],
            [
             986291.1956,
             200052.2988
            ],
            [
             986298.645,
             200053.7626
            ],
            [
             986718.6389,
             199858.2726
            ],
            [
             986719.4795,
             199854.656
            ],
            [
             986618.214,
             199593.6865
            ],
            [
             986150.2933,
             199702.6473
            ]
           ]
          ],
          "type": "Polygon"
         },
         "id": 0,
         "properties": {
          "bike_route_ever": 1,
          "bike_route_tv": 1,
          "bronx": 0,
          "brooklyn": 0,
          "collision_count": 6,
          "cyclistinjured": 0,
          "distance_to_LPIS": 276,
          "distance_to_LTC": 1183,
          "distance_to_Sch": 529,
          "distance_to_Street": 7,
          "distance_to_bikeroute": 3,
          "distance_to_truckroute": 26,
          "flag_LPIS": 0,
          "flag_LPIS_ever": 0,
          "flag_left_turn": 0,
          "flag_left_turn_ever": 0,
          "flag_priorityinters": 1,
          "flag_school": 0,
          "flag_seniors": 1,
          "intersection_id": 1,
          "manhattan": 1,
          "motoristinjured": 0,
          "pedestriansinjured": 1,
          "personsinjured": 1,
          "quarter": 3,
          "quarter_year": 2012.5,
          "queens": 0,
          "statenisland": 0,
          "x": "2012 3",
          "y": 199793.6093,
          "year": 2012
         },
         "type": "Feature"
        },
        {
         "geometry": {
          "coordinates": [
           [
            [
             982610.6377,
             202090.8502
            ],
            [
             982643.3211,
             202380.6867
            ],
            [
             982721.8764,
             202448.3499
            ],
            [
             982925.599,
             202440.217
            ],
            [
             982987.2361,
             202333.1815
            ],
            [
             982774.0625,
             201996.9582
            ],
            [
             982673.1325,
             201988.1556
            ],
            [
             982610.6377,
             202090.8502
            ]
           ]
          ],
          "type": "Polygon"
         },
         "id": 1,
         "properties": {
          "bike_route_ever": 0,
          "bike_route_tv": 0,
          "bronx": 0,
          "brooklyn": 0,
          "collision_count": 0,
          "cyclistinjured": 0,
          "distance_to_LPIS": 592,
          "distance_to_LTC": 411,
          "distance_to_Sch": 795,
          "distance_to_Street": 17,
          "distance_to_bikeroute": 230,
          "distance_to_truckroute": 17,
          "flag_LPIS": 0,
          "flag_LPIS_ever": 0,
          "flag_left_turn": 0,
          "flag_left_turn_ever": 0,
          "flag_priorityinters": 0,
          "flag_school": 0,
          "flag_seniors": 0,
          "intersection_id": 2,
          "manhattan": 1,
          "motoristinjured": 0,
          "pedestriansinjured": 0,
          "personsinjured": 0,
          "quarter": 3,
          "quarter_year": 2012.5,
          "queens": 0,
          "statenisland": 0,
          "x": "2012 3",
          "y": 202206.1619,
          "year": 2012
         },
         "type": "Feature"
        },
        {
         "geometry": {
          "coordinates": [
           [
            [
             982528.6632,
             201736.741
            ],
            [
             982673.1325,
             201988.1556
            ],
            [
             982774.0625,
             201996.9582
            ],
            [
             982969.5567,
             201889.9866
            ],
            [
             983012.7139,
             201750.4648
            ],
            [
             982967.8732,
             201664.0831
            ],
            [
             982581.2878,
             201654.2196
            ],
            [
             982528.6632,
             201736.741
            ]
           ]
          ],
          "type": "Polygon"
         },
         "id": 2,
         "properties": {
          "bike_route_ever": 1,
          "bike_route_tv": 0,
          "bronx": 0,
          "brooklyn": 0,
          "collision_count": 0,
          "cyclistinjured": 0,
          "distance_to_LPIS": 413,
          "distance_to_LTC": 790,
          "distance_to_Sch": 635,
          "distance_to_Street": 20,
          "distance_to_bikeroute": 1,
          "distance_to_truckroute": 20,
          "flag_LPIS": 0,
          "flag_LPIS_ever": 0,
          "flag_left_turn": 0,
          "flag_left_turn_ever": 0,
          "flag_priorityinters": 0,
          "flag_school": 0,
          "flag_seniors": 0,
          "intersection_id": 3,
          "manhattan": 1,
          "motoristinjured": 0,
          "pedestriansinjured": 0,
          "personsinjured": 0,
          "quarter": 3,
          "quarter_year": 2012.5,
          "queens": 0,
          "statenisland": 0,
          "x": "2012 3",
          "y": 201790.0942,
          "year": 2012
         },
         "type": "Feature"
        },
        {
         "geometry": {
          "coordinates": [
           [
            [
             982581.2878,
             201654.2196
            ],
            [
             982967.8732,
             201664.0831
            ],
            [
             982988.0913,
             201567.8212
            ],
            [
             982875.4698,
             201378.8688
            ],
            [
             982725.2751,
             201376.8223
            ],
            [
             982581.9513,
             201640.5791
            ],
            [
             982581.2878,
             201654.2196
            ]
           ]
          ],
          "type": "Polygon"
         },
         "id": 3,
         "properties": {
          "bike_route_ever": 1,
          "bike_route_tv": 0,
          "bronx": 0,
          "brooklyn": 0,
          "collision_count": 1,
          "cyclistinjured": 0,
          "distance_to_LPIS": 471,
          "distance_to_LTC": 1037,
          "distance_to_Sch": 646,
          "distance_to_Street": 0,
          "distance_to_bikeroute": 0,
          "distance_to_truckroute": 0,
          "flag_LPIS": 0,
          "flag_LPIS_ever": 0,
          "flag_left_turn": 0,
          "flag_left_turn_ever": 0,
          "flag_priorityinters": 0,
          "flag_school": 0,
          "flag_seniors": 0,
          "intersection_id": 4,
          "manhattan": 1,
          "motoristinjured": 0,
          "pedestriansinjured": 0,
          "personsinjured": 0,
          "quarter": 3,
          "quarter_year": 2012.5,
          "queens": 0,
          "statenisland": 0,
          "x": "2012 3",
          "y": 201529.9618,
          "year": 2012
         },
         "type": "Feature"
        },
        {
         "geometry": {
          "coordinates": [
           [
            [
             982619.6644,
             201201.7786
            ],
            [
             982725.2751,
             201376.8223
            ],
            [
             982875.4698,
             201378.8688
            ],
            [
             983118.3744,
             201059.79
            ],
            [
             983108.5373,
             201043.4895
            ],
            [
             982630.92,
             201119.1855
            ],
            [
             982619.6644,
             201201.7786
            ]
           ]
          ],
          "type": "Polygon"
         },
         "id": 4,
         "properties": {
          "bike_route_ever": 1,
          "bike_route_tv": 0,
          "bronx": 0,
          "brooklyn": 0,
          "collision_count": 5,
          "cyclistinjured": 0,
          "distance_to_LPIS": 266,
          "distance_to_LTC": 1248,
          "distance_to_Sch": 775,
          "distance_to_Street": 3,
          "distance_to_bikeroute": 1,
          "distance_to_truckroute": 3,
          "flag_LPIS": 0,
          "flag_LPIS_ever": 0,
          "flag_left_turn": 0,
          "flag_left_turn_ever": 0,
          "flag_priorityinters": 0,
          "flag_school": 0,
          "flag_seniors": 0,
          "intersection_id": 5,
          "manhattan": 1,
          "motoristinjured": 1,
          "pedestriansinjured": 0,
          "personsinjured": 1,
          "quarter": 3,
          "quarter_year": 2012.5,
          "queens": 0,
          "statenisland": 0,
          "x": "2012 3",
          "y": 201226.1097,
          "year": 2012
         },
         "type": "Feature"
        },
        {
         "geometry": {
          "coordinates": [
           [
            [
             984286.0519,
             200483.6243
            ],
            [
             984310.7338,
             200738.345
            ],
            [
             984454.869,
             200889.4022
            ],
            [
             984634.5904,
             200803.9974
            ],
            [
             984660.4793,
             200759.2985
            ],
            [
             984365.283,
             200399.4199
            ],
            [
             984331.4582,
             200399.5934
            ],
            [
             984286.0519,
             200483.6243
            ]
           ]
          ],
          "type": "Polygon"
         },
         "id": 5,
         "properties": {
          "bike_route_ever": 0,
          "bike_route_tv": 0,
          "bronx": 0,
          "brooklyn": 0,
          "collision_count": 7,
          "cyclistinjured": 0,
          "distance_to_LPIS": 0,
          "distance_to_LTC": 503,
          "distance_to_Sch": 500,
          "distance_to_Street": 3,
          "distance_to_bikeroute": 463,
          "distance_to_truckroute": 3,
          "flag_LPIS": 0,
          "flag_LPIS_ever": 1,
          "flag_left_turn": 0,
          "flag_left_turn_ever": 0,
          "flag_priorityinters": 0,
          "flag_school": 0,
          "flag_seniors": 1,
          "intersection_id": 6,
          "manhattan": 1,
          "motoristinjured": 0,
          "pedestriansinjured": 1,
          "personsinjured": 1,
          "quarter": 3,
          "quarter_year": 2012.5,
          "queens": 0,
          "statenisland": 0,
          "x": "2012 3",
          "y": 200695.9671,
          "year": 2012
         },
         "type": "Feature"
        }
       ],
       "type": "FeatureCollection"
      },
      "text/plain": [
       "An object of class \"SpatialPolygonsDataFrame\"\n",
       "Slot \"data\":\n",
       "       collision_count personsinjured pedestriansinjured cyclistinjured\n",
       "155844               6              1                  1              0\n",
       "155845               0              0                  0              0\n",
       "155846               0              0                  0              0\n",
       "155847               1              0                  0              0\n",
       "155848               5              1                  0              0\n",
       "155849               7              1                  1              0\n",
       "       motoristinjured bronx brooklyn manhattan queens statenisland\n",
       "155844               0     0        0         1      0            0\n",
       "155845               0     0        0         1      0            0\n",
       "155846               0     0        0         1      0            0\n",
       "155847               0     0        0         1      0            0\n",
       "155848               1     0        0         1      0            0\n",
       "155849               0     0        0         1      0            0\n",
       "       distance_to_LPIS distance_to_Street distance_to_Sch distance_to_LTC\n",
       "155844              276                  7             529            1183\n",
       "155845              592                 17             795             411\n",
       "155846              413                 20             635             790\n",
       "155847              471                  0             646            1037\n",
       "155848              266                  3             775            1248\n",
       "155849                0                  3             500             503\n",
       "       distance_to_bikeroute distance_to_truckroute flag_left_turn_ever\n",
       "155844                     3                     26                   0\n",
       "155845                   230                     17                   0\n",
       "155846                     1                     20                   0\n",
       "155847                     0                      0                   0\n",
       "155848                     1                      3                   0\n",
       "155849                   463                      3                   0\n",
       "       flag_left_turn flag_LPIS_ever flag_LPIS bike_route_tv bike_route_ever\n",
       "155844              0              0         0             1               1\n",
       "155845              0              0         0             0               0\n",
       "155846              0              0         0             0               1\n",
       "155847              0              0         0             0               1\n",
       "155848              0              0         0             0               1\n",
       "155849              0              1         0             0               0\n",
       "       flag_seniors flag_priorityinters flag_school quarter year\n",
       "155844            1                   1           0       3 2012\n",
       "155845            0                   0           0       3 2012\n",
       "155846            0                   0           0       3 2012\n",
       "155847            0                   0           0       3 2012\n",
       "155848            0                   0           0       3 2012\n",
       "155849            1                   0           0       3 2012\n",
       "       intersection_id        y      x quarter_year\n",
       "155844               1 199793.6 2012 3      2012 Q3\n",
       "155845               2 202206.2 2012 3      2012 Q3\n",
       "155846               3 201790.1 2012 3      2012 Q3\n",
       "155847               4 201530.0 2012 3      2012 Q3\n",
       "155848               5 201226.1 2012 3      2012 Q3\n",
       "155849               6 200696.0 2012 3      2012 Q3\n",
       "\n",
       "Slot \"polygons\":\n",
       "[[1]]\n",
       "An object of class \"Polygons\"\n",
       "Slot \"Polygons\":\n",
       "[[1]]\n",
       "An object of class \"Polygon\"\n",
       "Slot \"labpt\":\n",
       "[1] 986434.3 199806.1\n",
       "\n",
       "Slot \"area\":\n",
       "[1] 157099.6\n",
       "\n",
       "Slot \"hole\":\n",
       "[1] FALSE\n",
       "\n",
       "Slot \"ringDir\":\n",
       "[1] 1\n",
       "\n",
       "Slot \"coords\":\n",
       "         [,1]     [,2]\n",
       "[1,] 986150.3 199702.6\n",
       "[2,] 986291.2 200052.3\n",
       "[3,] 986298.6 200053.8\n",
       "[4,] 986718.6 199858.3\n",
       "[5,] 986719.5 199854.7\n",
       "[6,] 986618.2 199593.7\n",
       "[7,] 986150.3 199702.6\n",
       "\n",
       "\n",
       "\n",
       "Slot \"plotOrder\":\n",
       "[1] 1\n",
       "\n",
       "Slot \"labpt\":\n",
       "[1] 986434.3 199806.1\n",
       "\n",
       "Slot \"ID\":\n",
       "[1] \"0\"\n",
       "\n",
       "Slot \"area\":\n",
       "[1] 157099.6\n",
       "\n",
       "\n",
       "[[2]]\n",
       "An object of class \"Polygons\"\n",
       "Slot \"Polygons\":\n",
       "[[1]]\n",
       "An object of class \"Polygon\"\n",
       "Slot \"labpt\":\n",
       "[1] 982774.2 202242.5\n",
       "\n",
       "Slot \"area\":\n",
       "[1] 117707.9\n",
       "\n",
       "Slot \"hole\":\n",
       "[1] FALSE\n",
       "\n",
       "Slot \"ringDir\":\n",
       "[1] 1\n",
       "\n",
       "Slot \"coords\":\n",
       "         [,1]     [,2]\n",
       "[1,] 982610.6 202090.9\n",
       "[2,] 982643.3 202380.7\n",
       "[3,] 982721.9 202448.3\n",
       "[4,] 982925.6 202440.2\n",
       "[5,] 982987.2 202333.2\n",
       "[6,] 982774.1 201997.0\n",
       "[7,] 982673.1 201988.2\n",
       "[8,] 982610.6 202090.9\n",
       "\n",
       "\n",
       "\n",
       "Slot \"plotOrder\":\n",
       "[1] 1\n",
       "\n",
       "Slot \"labpt\":\n",
       "[1] 982774.2 202242.5\n",
       "\n",
       "Slot \"ID\":\n",
       "[1] \"1\"\n",
       "\n",
       "Slot \"area\":\n",
       "[1] 117707.9\n",
       "\n",
       "\n",
       "[[3]]\n",
       "An object of class \"Polygons\"\n",
       "Slot \"Polygons\":\n",
       "[[1]]\n",
       "An object of class \"Polygon\"\n",
       "Slot \"labpt\":\n",
       "[1] 982774.7 201802.8\n",
       "\n",
       "Slot \"area\":\n",
       "[1] 121485.8\n",
       "\n",
       "Slot \"hole\":\n",
       "[1] FALSE\n",
       "\n",
       "Slot \"ringDir\":\n",
       "[1] 1\n",
       "\n",
       "Slot \"coords\":\n",
       "         [,1]     [,2]\n",
       "[1,] 982528.7 201736.7\n",
       "[2,] 982673.1 201988.2\n",
       "[3,] 982774.1 201997.0\n",
       "[4,] 982969.6 201890.0\n",
       "[5,] 983012.7 201750.5\n",
       "[6,] 982967.9 201664.1\n",
       "[7,] 982581.3 201654.2\n",
       "[8,] 982528.7 201736.7\n",
       "\n",
       "\n",
       "\n",
       "Slot \"plotOrder\":\n",
       "[1] 1\n",
       "\n",
       "Slot \"labpt\":\n",
       "[1] 982774.7 201802.8\n",
       "\n",
       "Slot \"ID\":\n",
       "[1] \"2\"\n",
       "\n",
       "Slot \"area\":\n",
       "[1] 121485.8\n",
       "\n",
       "\n",
       "[[4]]\n",
       "An object of class \"Polygons\"\n",
       "Slot \"Polygons\":\n",
       "[[1]]\n",
       "An object of class \"Polygon\"\n",
       "Slot \"labpt\":\n",
       "[1] 982797.9 201539.2\n",
       "\n",
       "Slot \"area\":\n",
       "[1] 83873.97\n",
       "\n",
       "Slot \"hole\":\n",
       "[1] FALSE\n",
       "\n",
       "Slot \"ringDir\":\n",
       "[1] 1\n",
       "\n",
       "Slot \"coords\":\n",
       "         [,1]     [,2]\n",
       "[1,] 982581.3 201654.2\n",
       "[2,] 982967.9 201664.1\n",
       "[3,] 982988.1 201567.8\n",
       "[4,] 982875.5 201378.9\n",
       "[5,] 982725.3 201376.8\n",
       "[6,] 982582.0 201640.6\n",
       "[7,] 982581.3 201654.2\n",
       "\n",
       "\n",
       "\n",
       "Slot \"plotOrder\":\n",
       "[1] 1\n",
       "\n",
       "Slot \"labpt\":\n",
       "[1] 982797.9 201539.2\n",
       "\n",
       "Slot \"ID\":\n",
       "[1] \"3\"\n",
       "\n",
       "Slot \"area\":\n",
       "[1] 83873.97\n",
       "\n",
       "\n",
       "[[5]]\n",
       "An object of class \"Polygons\"\n",
       "Slot \"Polygons\":\n",
       "[[1]]\n",
       "An object of class \"Polygon\"\n",
       "Slot \"labpt\":\n",
       "[1] 982841.2 201204.1\n",
       "\n",
       "Slot \"area\":\n",
       "[1] 99417.23\n",
       "\n",
       "Slot \"hole\":\n",
       "[1] FALSE\n",
       "\n",
       "Slot \"ringDir\":\n",
       "[1] 1\n",
       "\n",
       "Slot \"coords\":\n",
       "         [,1]     [,2]\n",
       "[1,] 982619.7 201201.8\n",
       "[2,] 982725.3 201376.8\n",
       "[3,] 982875.5 201378.9\n",
       "[4,] 983118.4 201059.8\n",
       "[5,] 983108.5 201043.5\n",
       "[6,] 982630.9 201119.2\n",
       "[7,] 982619.7 201201.8\n",
       "\n",
       "\n",
       "\n",
       "Slot \"plotOrder\":\n",
       "[1] 1\n",
       "\n",
       "Slot \"labpt\":\n",
       "[1] 982841.2 201204.1\n",
       "\n",
       "Slot \"ID\":\n",
       "[1] \"4\"\n",
       "\n",
       "Slot \"area\":\n",
       "[1] 99417.23\n",
       "\n",
       "\n",
       "[[6]]\n",
       "An object of class \"Polygons\"\n",
       "Slot \"Polygons\":\n",
       "[[1]]\n",
       "An object of class \"Polygon\"\n",
       "Slot \"labpt\":\n",
       "[1] 984441.4 200665.2\n",
       "\n",
       "Slot \"area\":\n",
       "[1] 100204.4\n",
       "\n",
       "Slot \"hole\":\n",
       "[1] FALSE\n",
       "\n",
       "Slot \"ringDir\":\n",
       "[1] 1\n",
       "\n",
       "Slot \"coords\":\n",
       "         [,1]     [,2]\n",
       "[1,] 984286.1 200483.6\n",
       "[2,] 984310.7 200738.3\n",
       "[3,] 984454.9 200889.4\n",
       "[4,] 984634.6 200804.0\n",
       "[5,] 984660.5 200759.3\n",
       "[6,] 984365.3 200399.4\n",
       "[7,] 984331.5 200399.6\n",
       "[8,] 984286.1 200483.6\n",
       "\n",
       "\n",
       "\n",
       "Slot \"plotOrder\":\n",
       "[1] 1\n",
       "\n",
       "Slot \"labpt\":\n",
       "[1] 984441.4 200665.2\n",
       "\n",
       "Slot \"ID\":\n",
       "[1] \"5\"\n",
       "\n",
       "Slot \"area\":\n",
       "[1] 100204.4\n",
       "\n",
       "\n",
       "\n",
       "Slot \"plotOrder\":\n",
       "[1] 1 3 2 6 5 4\n",
       "\n",
       "Slot \"bbox\":\n",
       "       min      max\n",
       "x 982528.7 986719.5\n",
       "y 199593.7 202448.3\n",
       "\n",
       "Slot \"proj4string\":\n",
       "CRS arguments:\n",
       " +proj=lcc +lat_1=41.03333333333333 +lat_2=40.66666666666666\n",
       "+lat_0=40.16666666666666 +lon_0=-74 +x_0=300000.0000000001 +y_0=0\n",
       "+datum=NAD83 +units=us-ft +no_defs +ellps=GRS80 +towgs84=0,0,0 \n"
      ]
     },
     "metadata": {},
     "output_type": "display_data"
    }
   ],
   "source": [
    "head(myshp)\n"
   ]
  },
  {
   "cell_type": "code",
   "execution_count": 32,
   "metadata": {},
   "outputs": [],
   "source": [
    "#Seems like I do not need to sort it\n",
    "# Sort my panel by intersection first, then time\n",
    "#mydata <- arrange(mydata, year, quarter, intersection_id)\n",
    "#myshp <- myshp[order(myshp$year, myshp$quarter,myshp$intersection_id),]"
   ]
  },
  {
   "cell_type": "code",
   "execution_count": 49,
   "metadata": {},
   "outputs": [],
   "source": [
    "# Create time variable in mydata\n",
    "myshp@data$x <- paste(as.character(myshp@data$year) , as.character(myshp@data$quarter))\n",
    "myshp@data$quarter_year <- as.yearqtr(format(myshp@data$x), \"%Y%q\")"
   ]
  },
  {
   "cell_type": "code",
   "execution_count": 50,
   "metadata": {},
   "outputs": [
    {
     "data": {
      "text/plain": [
       "\n",
       "2012 Q3 2012 Q4 2013 Q1 2013 Q2 2013 Q3 2013 Q4 2014 Q1 2014 Q2 2014 Q3 2014 Q4 \n",
       "  12987   12987   12987   12987   12987   12987   12987   12987   12987   12987 \n",
       "2015 Q1 2015 Q2 2015 Q3 2015 Q4 2016 Q1 2016 Q2 2016 Q3 2016 Q4 2017 Q1 2017 Q2 \n",
       "  12987   12987   12987   12987   12987   12987   12987   12987   12987   12987 \n",
       "2017 Q3 2017 Q4 2018 Q1 2018 Q2 2018 Q3 \n",
       "  12987   12987   12987   12987   12987 "
      ]
     },
     "metadata": {},
     "output_type": "display_data"
    }
   ],
   "source": [
    "w <-table(myshp@data$quarter_year)\n",
    "w"
   ]
  },
  {
   "cell_type": "code",
   "execution_count": 62,
   "metadata": {},
   "outputs": [
    {
     "data": {
      "text/html": [
       "'double'"
      ],
      "text/latex": [
       "'double'"
      ],
      "text/markdown": [
       "'double'"
      ],
      "text/plain": [
       "[1] \"double\""
      ]
     },
     "metadata": {},
     "output_type": "display_data"
    }
   ],
   "source": [
    "typeof(myshp@data$quarter_year)"
   ]
  },
  {
   "cell_type": "code",
   "execution_count": 63,
   "metadata": {},
   "outputs": [
    {
     "name": "stdout",
     "output_type": "stream",
     "text": [
      " 'yearqtr' num [1:324675] 2012 Q3 2012 Q3 2012 Q3 2012 Q3 ...\n"
     ]
    }
   ],
   "source": [
    "str(myshp@data$quarter_year)"
   ]
  },
  {
   "cell_type": "code",
   "execution_count": 51,
   "metadata": {},
   "outputs": [],
   "source": [
    "#Seems like I do not need to sort it\n",
    "# Sort my panel by intersection first, then time\n",
    "#mydata <- arrange(mydata, year, quarter, intersection_id)\n",
    "myshp@data <- myshp@data[order(myshp@data$quarter_year,myshp@data$intersection_id),]"
   ]
  },
  {
   "cell_type": "code",
   "execution_count": 52,
   "metadata": {},
   "outputs": [
    {
     "data": {
      "text/html": [
       "<table>\n",
       "<thead><tr><th></th><th scope=col>collision_count</th><th scope=col>personsinjured</th><th scope=col>pedestriansinjured</th><th scope=col>cyclistinjured</th><th scope=col>motoristinjured</th><th scope=col>bronx</th><th scope=col>brooklyn</th><th scope=col>manhattan</th><th scope=col>queens</th><th scope=col>statenisland</th><th scope=col>...</th><th scope=col>flag_seniors</th><th scope=col>flag_priorityinters</th><th scope=col>flag_school</th><th scope=col>quarter</th><th scope=col>year</th><th scope=col>intersection_id</th><th scope=col>y</th><th scope=col>x</th><th scope=col>NA</th><th scope=col>quarter_year</th></tr></thead>\n",
       "<tbody>\n",
       "\t<tr><th scope=row>155844</th><td>6       </td><td>1       </td><td>1       </td><td>0       </td><td>0       </td><td>0       </td><td>0       </td><td>1       </td><td>0       </td><td>0       </td><td>...     </td><td>1       </td><td>1       </td><td>0       </td><td>3       </td><td>2012    </td><td>1       </td><td>199793.6</td><td>2012 3  </td><td>1       </td><td>2012 Q3 </td></tr>\n",
       "\t<tr><th scope=row>155845</th><td>0       </td><td>0       </td><td>0       </td><td>0       </td><td>0       </td><td>0       </td><td>0       </td><td>1       </td><td>0       </td><td>0       </td><td>...     </td><td>0       </td><td>0       </td><td>0       </td><td>3       </td><td>2012    </td><td>2       </td><td>202206.2</td><td>2012 3  </td><td>2       </td><td>2012 Q3 </td></tr>\n",
       "\t<tr><th scope=row>155846</th><td>0       </td><td>0       </td><td>0       </td><td>0       </td><td>0       </td><td>0       </td><td>0       </td><td>1       </td><td>0       </td><td>0       </td><td>...     </td><td>0       </td><td>0       </td><td>0       </td><td>3       </td><td>2012    </td><td>3       </td><td>201790.1</td><td>2012 3  </td><td>3       </td><td>2012 Q3 </td></tr>\n",
       "\t<tr><th scope=row>155847</th><td>1       </td><td>0       </td><td>0       </td><td>0       </td><td>0       </td><td>0       </td><td>0       </td><td>1       </td><td>0       </td><td>0       </td><td>...     </td><td>0       </td><td>0       </td><td>0       </td><td>3       </td><td>2012    </td><td>4       </td><td>201530.0</td><td>2012 3  </td><td>4       </td><td>2012 Q3 </td></tr>\n",
       "\t<tr><th scope=row>155848</th><td>5       </td><td>1       </td><td>0       </td><td>0       </td><td>1       </td><td>0       </td><td>0       </td><td>1       </td><td>0       </td><td>0       </td><td>...     </td><td>0       </td><td>0       </td><td>0       </td><td>3       </td><td>2012    </td><td>5       </td><td>201226.1</td><td>2012 3  </td><td>5       </td><td>2012 Q3 </td></tr>\n",
       "\t<tr><th scope=row>155849</th><td>7       </td><td>1       </td><td>1       </td><td>0       </td><td>0       </td><td>0       </td><td>0       </td><td>1       </td><td>0       </td><td>0       </td><td>...     </td><td>1       </td><td>0       </td><td>0       </td><td>3       </td><td>2012    </td><td>6       </td><td>200696.0</td><td>2012 3  </td><td>6       </td><td>2012 Q3 </td></tr>\n",
       "</tbody>\n",
       "</table>\n"
      ],
      "text/latex": [
       "\\begin{tabular}{r|llllllllllllllllllllllllllllllll}\n",
       "  & collision\\_count & personsinjured & pedestriansinjured & cyclistinjured & motoristinjured & bronx & brooklyn & manhattan & queens & statenisland & ... & flag\\_seniors & flag\\_priorityinters & flag\\_school & quarter & year & intersection\\_id & y & x & NA & quarter\\_year\\\\\n",
       "\\hline\n",
       "\t155844 & 6        & 1        & 1        & 0        & 0        & 0        & 0        & 1        & 0        & 0        & ...      & 1        & 1        & 0        & 3        & 2012     & 1        & 199793.6 & 2012 3   & 1        & 2012 Q3 \\\\\n",
       "\t155845 & 0        & 0        & 0        & 0        & 0        & 0        & 0        & 1        & 0        & 0        & ...      & 0        & 0        & 0        & 3        & 2012     & 2        & 202206.2 & 2012 3   & 2        & 2012 Q3 \\\\\n",
       "\t155846 & 0        & 0        & 0        & 0        & 0        & 0        & 0        & 1        & 0        & 0        & ...      & 0        & 0        & 0        & 3        & 2012     & 3        & 201790.1 & 2012 3   & 3        & 2012 Q3 \\\\\n",
       "\t155847 & 1        & 0        & 0        & 0        & 0        & 0        & 0        & 1        & 0        & 0        & ...      & 0        & 0        & 0        & 3        & 2012     & 4        & 201530.0 & 2012 3   & 4        & 2012 Q3 \\\\\n",
       "\t155848 & 5        & 1        & 0        & 0        & 1        & 0        & 0        & 1        & 0        & 0        & ...      & 0        & 0        & 0        & 3        & 2012     & 5        & 201226.1 & 2012 3   & 5        & 2012 Q3 \\\\\n",
       "\t155849 & 7        & 1        & 1        & 0        & 0        & 0        & 0        & 1        & 0        & 0        & ...      & 1        & 0        & 0        & 3        & 2012     & 6        & 200696.0 & 2012 3   & 6        & 2012 Q3 \\\\\n",
       "\\end{tabular}\n"
      ],
      "text/markdown": [
       "\n",
       "| <!--/--> | collision_count | personsinjured | pedestriansinjured | cyclistinjured | motoristinjured | bronx | brooklyn | manhattan | queens | statenisland | ... | flag_seniors | flag_priorityinters | flag_school | quarter | year | intersection_id | y | x | NA | quarter_year | \n",
       "|---|---|---|---|---|---|\n",
       "| 155844 | 6        | 1        | 1        | 0        | 0        | 0        | 0        | 1        | 0        | 0        | ...      | 1        | 1        | 0        | 3        | 2012     | 1        | 199793.6 | 2012 3   | 1        | 2012 Q3  | \n",
       "| 155845 | 0        | 0        | 0        | 0        | 0        | 0        | 0        | 1        | 0        | 0        | ...      | 0        | 0        | 0        | 3        | 2012     | 2        | 202206.2 | 2012 3   | 2        | 2012 Q3  | \n",
       "| 155846 | 0        | 0        | 0        | 0        | 0        | 0        | 0        | 1        | 0        | 0        | ...      | 0        | 0        | 0        | 3        | 2012     | 3        | 201790.1 | 2012 3   | 3        | 2012 Q3  | \n",
       "| 155847 | 1        | 0        | 0        | 0        | 0        | 0        | 0        | 1        | 0        | 0        | ...      | 0        | 0        | 0        | 3        | 2012     | 4        | 201530.0 | 2012 3   | 4        | 2012 Q3  | \n",
       "| 155848 | 5        | 1        | 0        | 0        | 1        | 0        | 0        | 1        | 0        | 0        | ...      | 0        | 0        | 0        | 3        | 2012     | 5        | 201226.1 | 2012 3   | 5        | 2012 Q3  | \n",
       "| 155849 | 7        | 1        | 1        | 0        | 0        | 0        | 0        | 1        | 0        | 0        | ...      | 1        | 0        | 0        | 3        | 2012     | 6        | 200696.0 | 2012 3   | 6        | 2012 Q3  | \n",
       "\n",
       "\n"
      ],
      "text/plain": [
       "       collision_count personsinjured pedestriansinjured cyclistinjured\n",
       "155844 6               1              1                  0             \n",
       "155845 0               0              0                  0             \n",
       "155846 0               0              0                  0             \n",
       "155847 1               0              0                  0             \n",
       "155848 5               1              0                  0             \n",
       "155849 7               1              1                  0             \n",
       "       motoristinjured bronx brooklyn manhattan queens statenisland ...\n",
       "155844 0               0     0        1         0      0            ...\n",
       "155845 0               0     0        1         0      0            ...\n",
       "155846 0               0     0        1         0      0            ...\n",
       "155847 0               0     0        1         0      0            ...\n",
       "155848 1               0     0        1         0      0            ...\n",
       "155849 0               0     0        1         0      0            ...\n",
       "       flag_seniors flag_priorityinters flag_school quarter year\n",
       "155844 1            1                   0           3       2012\n",
       "155845 0            0                   0           3       2012\n",
       "155846 0            0                   0           3       2012\n",
       "155847 0            0                   0           3       2012\n",
       "155848 0            0                   0           3       2012\n",
       "155849 1            0                   0           3       2012\n",
       "       intersection_id y        x      <NA> quarter_year\n",
       "155844 1               199793.6 2012 3 1    2012 Q3     \n",
       "155845 2               202206.2 2012 3 2    2012 Q3     \n",
       "155846 3               201790.1 2012 3 3    2012 Q3     \n",
       "155847 4               201530.0 2012 3 4    2012 Q3     \n",
       "155848 5               201226.1 2012 3 5    2012 Q3     \n",
       "155849 6               200696.0 2012 3 6    2012 Q3     "
      ]
     },
     "metadata": {},
     "output_type": "display_data"
    }
   ],
   "source": [
    "head(myshp@data)\n"
   ]
  },
  {
   "cell_type": "code",
   "execution_count": 17,
   "metadata": {},
   "outputs": [
    {
     "data": {
      "image/png": "[encoded data removed]",
      "text/plain": [
       "plot without title"
      ]
     },
     "metadata": {},
     "output_type": "display_data"
    }
   ],
   "source": [
    "plot(myshp)"
   ]
  },
  {
   "cell_type": "code",
   "execution_count": 83,
   "metadata": {},
   "outputs": [],
   "source": [
    "# Set new df from myshp so that I can run plm later\n",
    "mydata <- as.data.frame(myshp@data)"
   ]
  },
  {
   "cell_type": "code",
   "execution_count": 84,
   "metadata": {},
   "outputs": [
    {
     "data": {
      "text/plain": [
       "   Min. 1st Qu.  Median    Mean 3rd Qu.    Max. \n",
       "0.00000 0.00000 0.00000 0.06047 0.00000 1.00000 "
      ]
     },
     "metadata": {},
     "output_type": "display_data"
    },
    {
     "data": {
      "text/plain": [
       "   Min. 1st Qu.  Median    Mean 3rd Qu.    Max. \n",
       "0.00000 0.00000 0.00000 0.06047 0.00000 1.00000 "
      ]
     },
     "metadata": {},
     "output_type": "display_data"
    }
   ],
   "source": [
    "summary(mydata$flag_LPIS )\n",
    "summary(myshp@data$flag_LPIS )"
   ]
  },
  {
   "cell_type": "code",
   "execution_count": 85,
   "metadata": {},
   "outputs": [],
   "source": [
    "## reorder variables\n",
    "# Move intersection id and year_quarter to first column of dataframe\n",
    "# %>% is a pipe operator, it is used to execute several commands in one command\n",
    "\n",
    "mydata <- dplyr::select(mydata,intersection_id, quarter_year, everything())"
   ]
  },
  {
   "cell_type": "code",
   "execution_count": 86,
   "metadata": {},
   "outputs": [
    {
     "data": {
      "text/html": [
       "<table>\n",
       "<thead><tr><th></th><th scope=col>intersection_id</th><th scope=col>quarter_year</th><th scope=col>collision_count</th><th scope=col>personsinjured</th><th scope=col>pedestriansinjured</th><th scope=col>cyclistinjured</th><th scope=col>motoristinjured</th><th scope=col>bronx</th><th scope=col>brooklyn</th><th scope=col>manhattan</th><th scope=col>...</th><th scope=col>flag_LPIS</th><th scope=col>bike_route_tv</th><th scope=col>bike_route_ever</th><th scope=col>flag_seniors</th><th scope=col>flag_priorityinters</th><th scope=col>flag_school</th><th scope=col>quarter</th><th scope=col>year</th><th scope=col>y</th><th scope=col>x</th></tr></thead>\n",
       "<tbody>\n",
       "\t<tr><th scope=row>155844</th><td>1       </td><td>2012 Q3 </td><td>6       </td><td>1       </td><td>1       </td><td>0       </td><td>0       </td><td>0       </td><td>0       </td><td>1       </td><td>...     </td><td>0       </td><td>1       </td><td>1       </td><td>1       </td><td>1       </td><td>0       </td><td>3       </td><td>2012    </td><td>199793.6</td><td>2012 3  </td></tr>\n",
       "\t<tr><th scope=row>155845</th><td>2       </td><td>2012 Q3 </td><td>0       </td><td>0       </td><td>0       </td><td>0       </td><td>0       </td><td>0       </td><td>0       </td><td>1       </td><td>...     </td><td>0       </td><td>0       </td><td>0       </td><td>0       </td><td>0       </td><td>0       </td><td>3       </td><td>2012    </td><td>202206.2</td><td>2012 3  </td></tr>\n",
       "\t<tr><th scope=row>155846</th><td>3       </td><td>2012 Q3 </td><td>0       </td><td>0       </td><td>0       </td><td>0       </td><td>0       </td><td>0       </td><td>0       </td><td>1       </td><td>...     </td><td>0       </td><td>0       </td><td>1       </td><td>0       </td><td>0       </td><td>0       </td><td>3       </td><td>2012    </td><td>201790.1</td><td>2012 3  </td></tr>\n",
       "\t<tr><th scope=row>155847</th><td>4       </td><td>2012 Q3 </td><td>1       </td><td>0       </td><td>0       </td><td>0       </td><td>0       </td><td>0       </td><td>0       </td><td>1       </td><td>...     </td><td>0       </td><td>0       </td><td>1       </td><td>0       </td><td>0       </td><td>0       </td><td>3       </td><td>2012    </td><td>201530.0</td><td>2012 3  </td></tr>\n",
       "\t<tr><th scope=row>155848</th><td>5       </td><td>2012 Q3 </td><td>5       </td><td>1       </td><td>0       </td><td>0       </td><td>1       </td><td>0       </td><td>0       </td><td>1       </td><td>...     </td><td>0       </td><td>0       </td><td>1       </td><td>0       </td><td>0       </td><td>0       </td><td>3       </td><td>2012    </td><td>201226.1</td><td>2012 3  </td></tr>\n",
       "\t<tr><th scope=row>155849</th><td>6       </td><td>2012 Q3 </td><td>7       </td><td>1       </td><td>1       </td><td>0       </td><td>0       </td><td>0       </td><td>0       </td><td>1       </td><td>...     </td><td>0       </td><td>0       </td><td>0       </td><td>1       </td><td>0       </td><td>0       </td><td>3       </td><td>2012    </td><td>200696.0</td><td>2012 3  </td></tr>\n",
       "</tbody>\n",
       "</table>\n"
      ],
      "text/latex": [
       "\\begin{tabular}{r|lllllllllllllllllllllllllllllll}\n",
       "  & intersection\\_id & quarter\\_year & collision\\_count & personsinjured & pedestriansinjured & cyclistinjured & motoristinjured & bronx & brooklyn & manhattan & ... & flag\\_LPIS & bike\\_route\\_tv & bike\\_route\\_ever & flag\\_seniors & flag\\_priorityinters & flag\\_school & quarter & year & y & x\\\\\n",
       "\\hline\n",
       "\t155844 & 1        & 2012 Q3  & 6        & 1        & 1        & 0        & 0        & 0        & 0        & 1        & ...      & 0        & 1        & 1        & 1        & 1        & 0        & 3        & 2012     & 199793.6 & 2012 3  \\\\\n",
       "\t155845 & 2        & 2012 Q3  & 0        & 0        & 0        & 0        & 0        & 0        & 0        & 1        & ...      & 0        & 0        & 0        & 0        & 0        & 0        & 3        & 2012     & 202206.2 & 2012 3  \\\\\n",
       "\t155846 & 3        & 2012 Q3  & 0        & 0        & 0        & 0        & 0        & 0        & 0        & 1        & ...      & 0        & 0        & 1        & 0        & 0        & 0        & 3        & 2012     & 201790.1 & 2012 3  \\\\\n",
       "\t155847 & 4        & 2012 Q3  & 1        & 0        & 0        & 0        & 0        & 0        & 0        & 1        & ...      & 0        & 0        & 1        & 0        & 0        & 0        & 3        & 2012     & 201530.0 & 2012 3  \\\\\n",
       "\t155848 & 5        & 2012 Q3  & 5        & 1        & 0        & 0        & 1        & 0        & 0        & 1        & ...      & 0        & 0        & 1        & 0        & 0        & 0        & 3        & 2012     & 201226.1 & 2012 3  \\\\\n",
       "\t155849 & 6        & 2012 Q3  & 7        & 1        & 1        & 0        & 0        & 0        & 0        & 1        & ...      & 0        & 0        & 0        & 1        & 0        & 0        & 3        & 2012     & 200696.0 & 2012 3  \\\\\n",
       "\\end{tabular}\n"
      ],
      "text/markdown": [
       "\n",
       "| <!--/--> | intersection_id | quarter_year | collision_count | personsinjured | pedestriansinjured | cyclistinjured | motoristinjured | bronx | brooklyn | manhattan | ... | flag_LPIS | bike_route_tv | bike_route_ever | flag_seniors | flag_priorityinters | flag_school | quarter | year | y | x | \n",
       "|---|---|---|---|---|---|\n",
       "| 155844 | 1        | 2012 Q3  | 6        | 1        | 1        | 0        | 0        | 0        | 0        | 1        | ...      | 0        | 1        | 1        | 1        | 1        | 0        | 3        | 2012     | 199793.6 | 2012 3   | \n",
       "| 155845 | 2        | 2012 Q3  | 0        | 0        | 0        | 0        | 0        | 0        | 0        | 1        | ...      | 0        | 0        | 0        | 0        | 0        | 0        | 3        | 2012     | 202206.2 | 2012 3   | \n",
       "| 155846 | 3        | 2012 Q3  | 0        | 0        | 0        | 0        | 0        | 0        | 0        | 1        | ...      | 0        | 0        | 1        | 0        | 0        | 0        | 3        | 2012     | 201790.1 | 2012 3   | \n",
       "| 155847 | 4        | 2012 Q3  | 1        | 0        | 0        | 0        | 0        | 0        | 0        | 1        | ...      | 0        | 0        | 1        | 0        | 0        | 0        | 3        | 2012     | 201530.0 | 2012 3   | \n",
       "| 155848 | 5        | 2012 Q3  | 5        | 1        | 0        | 0        | 1        | 0        | 0        | 1        | ...      | 0        | 0        | 1        | 0        | 0        | 0        | 3        | 2012     | 201226.1 | 2012 3   | \n",
       "| 155849 | 6        | 2012 Q3  | 7        | 1        | 1        | 0        | 0        | 0        | 0        | 1        | ...      | 0        | 0        | 0        | 1        | 0        | 0        | 3        | 2012     | 200696.0 | 2012 3   | \n",
       "\n",
       "\n"
      ],
      "text/plain": [
       "       intersection_id quarter_year collision_count personsinjured\n",
       "155844 1               2012 Q3      6               1             \n",
       "155845 2               2012 Q3      0               0             \n",
       "155846 3               2012 Q3      0               0             \n",
       "155847 4               2012 Q3      1               0             \n",
       "155848 5               2012 Q3      5               1             \n",
       "155849 6               2012 Q3      7               1             \n",
       "       pedestriansinjured cyclistinjured motoristinjured bronx brooklyn\n",
       "155844 1                  0              0               0     0       \n",
       "155845 0                  0              0               0     0       \n",
       "155846 0                  0              0               0     0       \n",
       "155847 0                  0              0               0     0       \n",
       "155848 0                  0              1               0     0       \n",
       "155849 1                  0              0               0     0       \n",
       "       manhattan ... flag_LPIS bike_route_tv bike_route_ever flag_seniors\n",
       "155844 1         ... 0         1             1               1           \n",
       "155845 1         ... 0         0             0               0           \n",
       "155846 1         ... 0         0             1               0           \n",
       "155847 1         ... 0         0             1               0           \n",
       "155848 1         ... 0         0             1               0           \n",
       "155849 1         ... 0         0             0               1           \n",
       "       flag_priorityinters flag_school quarter year y        x     \n",
       "155844 1                   0           3       2012 199793.6 2012 3\n",
       "155845 0                   0           3       2012 202206.2 2012 3\n",
       "155846 0                   0           3       2012 201790.1 2012 3\n",
       "155847 0                   0           3       2012 201530.0 2012 3\n",
       "155848 0                   0           3       2012 201226.1 2012 3\n",
       "155849 0                   0           3       2012 200696.0 2012 3"
      ]
     },
     "metadata": {},
     "output_type": "display_data"
    }
   ],
   "source": [
    "head(mydata)"
   ]
  },
  {
   "cell_type": "code",
   "execution_count": 56,
   "metadata": {},
   "outputs": [
    {
     "data": {
      "text/plain": [
       "\n",
       "Call:\n",
       "lm(formula = collision_count ~ flag_LPIS, data = mydata)\n",
       "\n",
       "Residuals:\n",
       "   Min     1Q Median     3Q    Max \n",
       "-2.033 -1.645 -0.645  0.355 75.355 \n",
       "\n",
       "Coefficients:\n",
       "            Estimate Std. Error t value Pr(>|t|)    \n",
       "(Intercept) 1.644956   0.004529  363.19   <2e-16 ***\n",
       "flag_LPIS   0.388354   0.018418   21.09   <2e-16 ***\n",
       "---\n",
       "Signif. codes:  0 '***' 0.001 '**' 0.01 '*' 0.05 '.' 0.1 ' ' 1\n",
       "\n",
       "Residual standard error: 2.501 on 324673 degrees of freedom\n",
       "Multiple R-squared:  0.001368,\tAdjusted R-squared:  0.001364 \n",
       "F-statistic: 444.6 on 1 and 324673 DF,  p-value: < 2.2e-16\n"
      ]
     },
     "metadata": {},
     "output_type": "display_data"
    }
   ],
   "source": [
    "## Linear regression \n",
    "ols <- lm(collision_count~flag_LPIS,data=mydata)\n",
    "summary(ols)"
   ]
  },
  {
   "cell_type": "code",
   "execution_count": 57,
   "metadata": {},
   "outputs": [
    {
     "data": {
      "text/plain": [
       "\n",
       "Call:\n",
       "lm(formula = collision_count ~ flag_LPIS + factor(quarter_year), \n",
       "    data = mydata)\n",
       "\n",
       "Residuals:\n",
       "   Min     1Q Median     3Q    Max \n",
       "-2.588 -1.605 -0.841  0.663 75.036 \n",
       "\n",
       "Coefficients:\n",
       "                             Estimate Std. Error t value Pr(>|t|)    \n",
       "(Intercept)                  1.844768   0.021822  84.536  < 2e-16 ***\n",
       "flag_LPIS                    0.623887   0.019119  32.632  < 2e-16 ***\n",
       "factor(quarter_year)2012 Q4 -0.023485   0.030861  -0.761 0.446666    \n",
       "factor(quarter_year)2013 Q1 -0.161979   0.030861  -5.249 1.53e-07 ***\n",
       "factor(quarter_year)2013 Q2  0.086616   0.030861   2.807 0.005007 ** \n",
       "factor(quarter_year)2013 Q3 -0.001587   0.030861  -0.051 0.958979    \n",
       "factor(quarter_year)2013 Q4  0.045191   0.030861   1.464 0.143111    \n",
       "factor(quarter_year)2014 Q1 -0.142853   0.030861  -4.629 3.68e-06 ***\n",
       "factor(quarter_year)2014 Q2  0.032130   0.030861   1.041 0.297824    \n",
       "factor(quarter_year)2014 Q3 -0.004078   0.030861  -0.132 0.894885    \n",
       "factor(quarter_year)2014 Q4  0.015974   0.030862   0.518 0.604733    \n",
       "factor(quarter_year)2015 Q1 -0.166741   0.030862  -5.403 6.57e-08 ***\n",
       "factor(quarter_year)2015 Q2  0.054006   0.030863   1.750 0.080144 .  \n",
       "factor(quarter_year)2015 Q3  0.085041   0.030867   2.755 0.005867 ** \n",
       "factor(quarter_year)2015 Q4  0.119189   0.030869   3.861 0.000113 ***\n",
       "factor(quarter_year)2016 Q1 -0.152120   0.030874  -4.927 8.35e-07 ***\n",
       "factor(quarter_year)2016 Q2 -0.524310   0.030885 -16.976  < 2e-16 ***\n",
       "factor(quarter_year)2016 Q3 -0.816232   0.030904 -26.412  < 2e-16 ***\n",
       "factor(quarter_year)2016 Q4 -0.789476   0.030911 -25.540  < 2e-16 ***\n",
       "factor(quarter_year)2017 Q1 -0.507287   0.030935 -16.398  < 2e-16 ***\n",
       "factor(quarter_year)2017 Q2 -0.239641   0.030965  -7.739 1.00e-14 ***\n",
       "factor(quarter_year)2017 Q3 -0.495378   0.030993 -15.984  < 2e-16 ***\n",
       "factor(quarter_year)2017 Q4 -0.414309   0.031004 -13.363  < 2e-16 ***\n",
       "factor(quarter_year)2018 Q1 -0.495065   0.031033 -15.953  < 2e-16 ***\n",
       "factor(quarter_year)2018 Q2 -0.342121   0.031076 -11.009  < 2e-16 ***\n",
       "factor(quarter_year)2018 Q3 -0.512869   0.031114 -16.483  < 2e-16 ***\n",
       "---\n",
       "Signif. codes:  0 '***' 0.001 '**' 0.01 '*' 0.05 '.' 0.1 ' ' 1\n",
       "\n",
       "Residual standard error: 2.487 on 324649 degrees of freedom\n",
       "Multiple R-squared:  0.01305,\tAdjusted R-squared:  0.01298 \n",
       "F-statistic: 171.7 on 25 and 324649 DF,  p-value: < 2.2e-16\n"
      ]
     },
     "metadata": {},
     "output_type": "display_data"
    }
   ],
   "source": [
    "## Linear regression with time\n",
    "ols_time <- lm(collision_count~flag_LPIS+factor(quarter_year),data=mydata)\n",
    "summary(ols_time)"
   ]
  },
  {
   "cell_type": "code",
   "execution_count": 58,
   "metadata": {},
   "outputs": [
    {
     "data": {
      "text/plain": [
       "Oneway (individual) effect Within Model\n",
       "\n",
       "Call:\n",
       "plm(formula = collision_count ~ flag_LPIS + factor(quarter_year), \n",
       "    data = mydata, model = \"within\", index = c(\"intersection_id\", \n",
       "        \"quarter_year\"))\n",
       "\n",
       "Balanced Panel: n = 12987, T = 25, N = 324675\n",
       "\n",
       "Residuals:\n",
       "     Min.   1st Qu.    Median   3rd Qu.      Max. \n",
       "-16.81218  -0.75095  -0.15963   0.54782  61.31613 \n",
       "\n",
       "Coefficients:\n",
       "                               Estimate  Std. Error  t-value  Pr(>|t|)    \n",
       "flag_LPIS                   -0.25329346  0.01491111 -16.9869 < 2.2e-16 ***\n",
       "factor(quarter_year)2012 Q4 -0.02348502  0.01887723  -1.2441   0.21347    \n",
       "factor(quarter_year)2013 Q1 -0.16191166  0.01887724  -8.5771 < 2.2e-16 ***\n",
       "factor(quarter_year)2013 Q2  0.08695360  0.01887724   4.6063 4.101e-06 ***\n",
       "factor(quarter_year)2013 Q3 -0.00097947  0.01887724  -0.0519   0.95862    \n",
       "factor(quarter_year)2013 Q4  0.04606859  0.01887724   2.4404   0.01467 *  \n",
       "factor(quarter_year)2014 Q1 -0.14163708  0.01887725  -7.5031 6.251e-14 ***\n",
       "factor(quarter_year)2014 Q2  0.03361611  0.01887725   1.7808   0.07495 .  \n",
       "factor(quarter_year)2014 Q3 -0.00137586  0.01887729  -0.0729   0.94190    \n",
       "factor(quarter_year)2014 Q4  0.02090478  0.01887742   1.1074   0.26812    \n",
       "factor(quarter_year)2015 Q1 -0.15694714  0.01887797  -8.3138 < 2.2e-16 ***\n",
       "factor(quarter_year)2015 Q2  0.06933839  0.01887903   3.6728   0.00024 ***\n",
       "factor(quarter_year)2015 Q3  0.11097749  0.01888238   5.8773 4.174e-09 ***\n",
       "factor(quarter_year)2015 Q4  0.15167738  0.01888531   8.0315 9.662e-16 ***\n",
       "factor(quarter_year)2016 Q1 -0.11145895  0.01888988  -5.9005 3.629e-09 ***\n",
       "factor(quarter_year)2016 Q2 -0.46885702  0.01890076 -24.8063 < 2.2e-16 ***\n",
       "factor(quarter_year)2016 Q3 -0.74213730  0.01891921 -39.2267 < 2.2e-16 ***\n",
       "factor(quarter_year)2016 Q4 -0.70882941  0.01892695 -37.4508 < 2.2e-16 ***\n",
       "factor(quarter_year)2017 Q1 -0.40907918  0.01895091 -21.5863 < 2.2e-16 ***\n",
       "factor(quarter_year)2017 Q2 -0.12366945  0.01897989  -6.5158 7.241e-11 ***\n",
       "factor(quarter_year)2017 Q3 -0.36454690  0.01900779 -19.1788 < 2.2e-16 ***\n",
       "factor(quarter_year)2017 Q4 -0.27793952  0.01901904 -14.6138 < 2.2e-16 ***\n",
       "factor(quarter_year)2018 Q1 -0.34572789  0.01904716 -18.1512 < 2.2e-16 ***\n",
       "factor(quarter_year)2018 Q2 -0.17495177  0.01908992  -9.1646 < 2.2e-16 ***\n",
       "factor(quarter_year)2018 Q3 -0.33124616  0.01912804 -17.3173 < 2.2e-16 ***\n",
       "---\n",
       "Signif. codes:  0 '***' 0.001 '**' 0.01 '*' 0.05 '.' 0.1 ' ' 1\n",
       "\n",
       "Total Sum of Squares:    741810\n",
       "Residual Sum of Squares: 721180\n",
       "R-Squared:      0.027819\n",
       "Adj. R-Squared: -0.012767\n",
       "F-statistic: 356.73 on 25 and 311663 DF, p-value: < 2.22e-16"
      ]
     },
     "metadata": {},
     "output_type": "display_data"
    }
   ],
   "source": [
    "# Linear panel regression\n",
    "fe <- plm(collision_count ~ flag_LPIS+factor(quarter_year),\n",
    "          data = mydata, index = c(\"intersection_id\",\"quarter_year\"), model = \"within\")\n",
    "summary(fe)"
   ]
  },
  {
   "cell_type": "code",
   "execution_count": 59,
   "metadata": {},
   "outputs": [
    {
     "data": {
      "text/plain": [
       "\n",
       "\tF test for individual effects\n",
       "\n",
       "data:  collision_count ~ flag_LPIS + factor(quarter_year)\n",
       "F = 43.528, df1 = 13010, df2 = 311660, p-value < 2.2e-16\n",
       "alternative hypothesis: significant effects\n"
      ]
     },
     "metadata": {},
     "output_type": "display_data"
    }
   ],
   "source": [
    "pFtest(fe, ols) "
   ]
  },
  {
   "cell_type": "code",
   "execution_count": 60,
   "metadata": {},
   "outputs": [
    {
     "data": {
      "text/plain": [
       "Oneway (individual) effect Random Effect Model \n",
       "   (Swamy-Arora's transformation)\n",
       "\n",
       "Call:\n",
       "plm(formula = collision_count ~ flag_LPIS + factor(quarter_year), \n",
       "    data = mydata, model = \"random\", index = c(\"intersection_id\", \n",
       "        \"quarter_year\"))\n",
       "\n",
       "Balanced Panel: n = 12987, T = 25, N = 324675\n",
       "\n",
       "Effects:\n",
       "                var std.dev share\n",
       "idiosyncratic 2.314   1.521 0.378\n",
       "individual    3.807   1.951 0.622\n",
       "theta: 0.8459\n",
       "\n",
       "Residuals:\n",
       "     Min.   1st Qu.    Median   3rd Qu.      Max. \n",
       "-13.47121  -0.80654  -0.27841   0.51083  63.43460 \n",
       "\n",
       "Coefficients:\n",
       "                              Estimate Std. Error  z-value  Pr(>|z|)    \n",
       "(Intercept)                  1.8447678  0.0217208  84.9309 < 2.2e-16 ***\n",
       "flag_LPIS                   -0.2199395  0.0148094 -14.8514 < 2.2e-16 ***\n",
       "factor(quarter_year)2012 Q4 -0.0234850  0.0188871  -1.2434 0.2137059    \n",
       "factor(quarter_year)2013 Q1 -0.1619142  0.0188871  -8.5727 < 2.2e-16 ***\n",
       "factor(quarter_year)2013 Q2  0.0869408  0.0188871   4.6032 4.161e-06 ***\n",
       "factor(quarter_year)2013 Q3 -0.0010026  0.0188871  -0.0531 0.9576659    \n",
       "factor(quarter_year)2013 Q4  0.0460352  0.0188871   2.4374 0.0147940 *  \n",
       "factor(quarter_year)2014 Q1 -0.1416833  0.0188872  -7.5016 6.306e-14 ***\n",
       "factor(quarter_year)2014 Q2  0.0335596  0.0188872   1.7768 0.0755933 .  \n",
       "factor(quarter_year)2014 Q3 -0.0014786  0.0188872  -0.0783 0.9376012    \n",
       "factor(quarter_year)2014 Q4  0.0207173  0.0188873   1.0969 0.2726899    \n",
       "factor(quarter_year)2015 Q1 -0.1573195  0.0188879  -8.3291 < 2.2e-16 ***\n",
       "factor(quarter_year)2015 Q2  0.0687554  0.0188889   3.6400 0.0002727 ***\n",
       "factor(quarter_year)2015 Q3  0.1099913  0.0188922   5.8220 5.813e-09 ***\n",
       "factor(quarter_year)2015 Q4  0.1504421  0.0188951   7.9620 1.693e-15 ***\n",
       "factor(quarter_year)2016 Q1 -0.1130050  0.0188996  -5.9792 2.242e-09 ***\n",
       "factor(quarter_year)2016 Q2 -0.4709656  0.0189103 -24.9052 < 2.2e-16 ***\n",
       "factor(quarter_year)2016 Q3 -0.7449547  0.0189285 -39.3562 < 2.2e-16 ***\n",
       "factor(quarter_year)2016 Q4 -0.7118959  0.0189362 -37.5945 < 2.2e-16 ***\n",
       "factor(quarter_year)2017 Q1 -0.4128134  0.0189598 -21.7731 < 2.2e-16 ***\n",
       "factor(quarter_year)2017 Q2 -0.1280791  0.0189884  -6.7451 1.529e-11 ***\n",
       "factor(quarter_year)2017 Q3 -0.3695216  0.0190159 -19.4323 < 2.2e-16 ***\n",
       "factor(quarter_year)2017 Q4 -0.2831248  0.0190269 -14.8802 < 2.2e-16 ***\n",
       "factor(quarter_year)2018 Q1 -0.3514063  0.0190547 -18.4420 < 2.2e-16 ***\n",
       "factor(quarter_year)2018 Q2 -0.1813082  0.0190968  -9.4941 < 2.2e-16 ***\n",
       "factor(quarter_year)2018 Q3 -0.3381522  0.0191344 -17.6724 < 2.2e-16 ***\n",
       "---\n",
       "Signif. codes:  0 '***' 0.001 '**' 0.01 '*' 0.05 '.' 0.1 ' ' 1\n",
       "\n",
       "Total Sum of Squares:    772490\n",
       "Residual Sum of Squares: 752010\n",
       "R-Squared:      0.026511\n",
       "Adj. R-Squared: 0.026436\n",
       "Chisq: 8841.2 on 25 DF, p-value: < 2.22e-16"
      ]
     },
     "metadata": {},
     "output_type": "display_data"
    }
   ],
   "source": [
    "# Linear panel regression\n",
    "re <- plm(collision_count ~ flag_LPIS+factor(quarter_year),\n",
    "            data = mydata, index = c(\"intersection_id\",\"quarter_year\"), model = \"random\")\n",
    "summary(re)"
   ]
  },
  {
   "cell_type": "code",
   "execution_count": 61,
   "metadata": {},
   "outputs": [
    {
     "data": {
      "text/plain": [
       "\n",
       "\tHausman Test\n",
       "\n",
       "data:  collision_count ~ flag_LPIS + factor(quarter_year)\n",
       "chisq = 367.91, df = 25, p-value < 2.2e-16\n",
       "alternative hypothesis: one model is inconsistent\n"
      ]
     },
     "metadata": {},
     "output_type": "display_data"
    }
   ],
   "source": [
    "# Hausman test\n",
    "phtest(fe, re)"
   ]
  },
  {
   "cell_type": "markdown",
   "metadata": {},
   "source": [
    "Hausman test is significant. Use fixed effects."
   ]
  },
  {
   "cell_type": "code",
   "execution_count": 64,
   "metadata": {},
   "outputs": [],
   "source": [
    "#Create cross section of panel data\n",
    "subset.myshp <- myshp[ which(myshp$quarter_year=='2012 Q3'), ]"
   ]
  },
  {
   "cell_type": "code",
   "execution_count": 65,
   "metadata": {},
   "outputs": [
    {
     "data": {
      "text/plain": [
       "\n",
       "2012 Q3 \n",
       "  12987 "
      ]
     },
     "metadata": {},
     "output_type": "display_data"
    }
   ],
   "source": [
    "table(subset.myshp@data$quarter_year)"
   ]
  },
  {
   "cell_type": "code",
   "execution_count": 66,
   "metadata": {},
   "outputs": [
    {
     "data": {
      "text/plain": [
       "Object of class SpatialPolygonsDataFrame\n",
       "Coordinates:\n",
       "       min       max\n",
       "x 911158.3 1070171.2\n",
       "y 119490.9  274784.9\n",
       "Is projected: TRUE \n",
       "proj4string :\n",
       "[+proj=lcc +lat_1=41.03333333333333 +lat_2=40.66666666666666\n",
       "+lat_0=40.16666666666666 +lon_0=-74 +x_0=300000.0000000001 +y_0=0\n",
       "+datum=NAD83 +units=us-ft +no_defs +ellps=GRS80 +towgs84=0,0,0]\n",
       "Data attributes:\n",
       " collision_count  personsinjured    pedestriansinjured cyclistinjured   \n",
       " Min.   : 0.000   Min.   : 0.0000   Min.   :0.000      Min.   :0.00000  \n",
       " 1st Qu.: 0.000   1st Qu.: 0.0000   1st Qu.:0.000      1st Qu.:0.00000  \n",
       " Median : 1.000   Median : 0.0000   Median :0.000      Median :0.00000  \n",
       " Mean   : 1.845   Mean   : 0.5269   Mean   :0.124      Mean   :0.06406  \n",
       " 3rd Qu.: 3.000   3rd Qu.: 1.0000   3rd Qu.:0.000      3rd Qu.:0.00000  \n",
       " Max.   :55.000   Max.   :19.0000   Max.   :4.000      Max.   :3.00000  \n",
       "                                                                        \n",
       " motoristinjured       bronx           brooklyn        manhattan     \n",
       " Min.   : 0.0000   Min.   :0.0000   Min.   :0.0000   Min.   :0.0000  \n",
       " 1st Qu.: 0.0000   1st Qu.:0.0000   1st Qu.:0.0000   1st Qu.:0.0000  \n",
       " Median : 0.0000   Median :0.0000   Median :0.0000   Median :0.0000  \n",
       " Mean   : 0.3388   Mean   :0.1307   Mean   :0.3585   Mean   :0.2107  \n",
       " 3rd Qu.: 0.0000   3rd Qu.:0.0000   3rd Qu.:1.0000   3rd Qu.:0.0000  \n",
       " Max.   :19.0000   Max.   :1.0000   Max.   :1.0000   Max.   :1.0000  \n",
       "                                                                     \n",
       "     queens       statenisland     distance_to_LPIS  distance_to_Street\n",
       " Min.   :0.000   Min.   :0.00000   Min.   :    0.0   Min.   :  0.000   \n",
       " 1st Qu.:0.000   1st Qu.:0.00000   1st Qu.:  260.0   1st Qu.:  2.000   \n",
       " Median :0.000   Median :0.00000   Median :  660.0   Median :  3.000   \n",
       " Mean   :0.252   Mean   :0.04774   Mean   :  969.7   Mean   :  4.542   \n",
       " 3rd Qu.:1.000   3rd Qu.:0.00000   3rd Qu.: 1175.0   3rd Qu.:  3.000   \n",
       " Max.   :1.000   Max.   :1.00000   Max.   :18956.0   Max.   :138.000   \n",
       "                                                                       \n",
       " distance_to_Sch   distance_to_LTC distance_to_bikeroute distance_to_truckroute\n",
       " Min.   :   17.0   Min.   :    0   Min.   :   0          Min.   :   0.0        \n",
       " 1st Qu.:  425.0   1st Qu.: 1342   1st Qu.:   3          1st Qu.:   3.0        \n",
       " Median :  692.0   Median : 2581   Median : 541          Median : 271.0        \n",
       " Mean   :  822.8   Mean   : 3839   Mean   :1034          Mean   : 557.3        \n",
       " 3rd Qu.: 1055.0   3rd Qu.: 4684   3rd Qu.:1449          3rd Qu.: 835.0        \n",
       " Max.   :10685.0   Max.   :46542   Max.   :8907          Max.   :9622.0        \n",
       "                                                                               \n",
       " flag_left_turn_ever flag_left_turn flag_LPIS_ever     flag_LPIS\n",
       " Min.   :0.00000     Min.   :0      Min.   :0.0000   Min.   :0  \n",
       " 1st Qu.:0.00000     1st Qu.:0      1st Qu.:0.0000   1st Qu.:0  \n",
       " Median :0.00000     Median :0      Median :0.0000   Median :0  \n",
       " Mean   :0.01532     Mean   :0      Mean   :0.2071   Mean   :0  \n",
       " 3rd Qu.:0.00000     3rd Qu.:0      3rd Qu.:0.0000   3rd Qu.:0  \n",
       " Max.   :1.00000     Max.   :0      Max.   :1.0000   Max.   :0  \n",
       "                                                                \n",
       " bike_route_tv    bike_route_ever   flag_seniors    flag_priorityinters\n",
       " Min.   :0.0000   Min.   :0.0000   Min.   :0.0000   Min.   :0.00000    \n",
       " 1st Qu.:0.0000   1st Qu.:0.0000   1st Qu.:0.0000   1st Qu.:0.00000    \n",
       " Median :0.0000   Median :0.0000   Median :0.0000   Median :0.00000    \n",
       " Mean   :0.1763   Mean   :0.2558   Mean   :0.1984   Mean   :0.01686    \n",
       " 3rd Qu.:0.0000   3rd Qu.:1.0000   3rd Qu.:0.0000   3rd Qu.:0.00000    \n",
       " Max.   :1.0000   Max.   :1.0000   Max.   :1.0000   Max.   :1.00000    \n",
       "                                                                       \n",
       "  flag_school         quarter       year      intersection_id       y         \n",
       " Min.   :0.00000   Min.   :3   Min.   :2012   Min.   :    1   Min.   :122549  \n",
       " 1st Qu.:0.00000   1st Qu.:3   1st Qu.:2012   1st Qu.: 3386   1st Qu.:178943  \n",
       " Median :0.00000   Median :3   Median :2012   Median : 6669   Median :199159  \n",
       " Mean   :0.05205   Mean   :3   Mean   :2012   Mean   : 6654   Mean   :200888  \n",
       " 3rd Qu.:0.00000   3rd Qu.:3   3rd Qu.:2012   3rd Qu.: 9944   3rd Qu.:219837  \n",
       " Max.   :1.00000   Max.   :3   Max.   :2012   Max.   :13214   Max.   :271727  \n",
       "                                                                              \n",
       "      x                   NA         quarter_year \n",
       " Length:12987       1      :    1   Min.   :2012  \n",
       " Class :character   10     :    1   1st Qu.:2012  \n",
       " Mode  :character   100    :    1   Median :2012  \n",
       "                    1000   :    1   Mean   :2012  \n",
       "                    10000  :    1   3rd Qu.:2012  \n",
       "                    10001  :    1   Max.   :2012  \n",
       "                    (Other):12981                 "
      ]
     },
     "metadata": {},
     "output_type": "display_data"
    }
   ],
   "source": [
    "summary(subset.myshp)"
   ]
  },
  {
   "cell_type": "code",
   "execution_count": 67,
   "metadata": {},
   "outputs": [],
   "source": [
    "# Calculate contiguity queen neighbors\n",
    "myshp_nb <- poly2nb(subset.myshp, queen = TRUE)"
   ]
  },
  {
   "cell_type": "code",
   "execution_count": 68,
   "metadata": {},
   "outputs": [
    {
     "name": "stdout",
     "output_type": "stream",
     "text": [
      "Neighbour list object:\n",
      "Number of regions: 12987 \n",
      "Number of nonzero links: 77720 \n",
      "Percentage nonzero weights: 0.04608028 \n",
      "Average number of links: 5.984446 \n",
      "Link number distribution:\n",
      "\n",
      "   2    3    4    5    6    7    8    9   10   11   12   13   14   15   16   17 \n",
      "   3   66 1470 3544 4144 2278  825  359  160   69   30   15   12    7    2    1 \n",
      "  19   20 \n",
      "   1    1 \n",
      "3 least connected regions:\n",
      "2769 10139 12801 with 2 links\n",
      "1 most connected region:\n",
      "5579 with 20 links\n"
     ]
    }
   ],
   "source": [
    "summary(myshp_nb)"
   ]
  },
  {
   "cell_type": "code",
   "execution_count": 69,
   "metadata": {},
   "outputs": [],
   "source": [
    " myshp_nb_w <- nb2listw(myshp_nb,glist=NULL,style=\"W\",zero.policy=FALSE) "
   ]
  },
  {
   "cell_type": "code",
   "execution_count": 70,
   "metadata": {},
   "outputs": [
    {
     "data": {
      "image/png": "[encoded data removed]",
      "text/plain": [
       "plot without title"
      ]
     },
     "metadata": {},
     "output_type": "display_data"
    }
   ],
   "source": [
    "plot(myshp_nb_w,coordinates(subset.myshp))\n"
   ]
  },
  {
   "cell_type": "code",
   "execution_count": 87,
   "metadata": {},
   "outputs": [
    {
     "data": {
      "text/plain": [
       "Spatial panel fixed effects error model\n",
       " \n",
       "\n",
       "Call:\n",
       "spml(formula = fm, data = mydata, index = c(\"intersection_id\", \n",
       "    \"quarter_year\"), listw = myshp_nb_w, model = \"within\", spatial.error = \"b\", \n",
       "    Hess = FALSE)\n",
       "\n",
       "Residuals:\n",
       "     Min.   1st Qu.    Median   3rd Qu.      Max. \n",
       "-16.80907  -0.75065  -0.16082   0.55093  61.32127 \n",
       "\n",
       "Spatial error parameter:\n",
       "    Estimate Std. Error t-value  Pr(>|t|)    \n",
       "rho 0.159827   0.002814  56.797 < 2.2e-16 ***\n",
       "\n",
       "Coefficients:\n",
       "                              Estimate Std. Error  t-value  Pr(>|t|)    \n",
       "flag_LPIS                   -0.2336889  0.0149555 -15.6256 < 2.2e-16 ***\n",
       "factor(quarter_year)2012 Q4 -0.0241522  0.0218548  -1.1051  0.269108    \n",
       "factor(quarter_year)2013 Q1 -0.1635917  0.0218548  -7.4854 7.134e-14 ***\n",
       "factor(quarter_year)2013 Q2  0.0878203  0.0218548   4.0183 5.861e-05 ***\n",
       "factor(quarter_year)2013 Q3 -0.0015325  0.0218548  -0.0701  0.944097    \n",
       "factor(quarter_year)2013 Q4  0.0458574  0.0218548   2.0983  0.035881 *  \n",
       "factor(quarter_year)2014 Q1 -0.1432246  0.0218548  -6.5535 5.622e-11 ***\n",
       "factor(quarter_year)2014 Q2  0.0328227  0.0218548   1.5018  0.133136    \n",
       "factor(quarter_year)2014 Q3 -0.0024034  0.0218549  -0.1100  0.912431    \n",
       "factor(quarter_year)2014 Q4  0.0203920  0.0218550   0.9331  0.350789    \n",
       "factor(quarter_year)2015 Q1 -0.1574102  0.0218555  -7.2023 5.920e-13 ***\n",
       "factor(quarter_year)2015 Q2  0.0698518  0.0218564   3.1959  0.001394 ** \n",
       "factor(quarter_year)2015 Q3  0.1105026  0.0218594   5.0552 4.300e-07 ***\n",
       "factor(quarter_year)2015 Q4  0.1513796  0.0218620   6.9243 4.380e-12 ***\n",
       "factor(quarter_year)2016 Q1 -0.1130530  0.0218659  -5.1703 2.337e-07 ***\n",
       "factor(quarter_year)2016 Q2 -0.4724354  0.0218755 -21.5965 < 2.2e-16 ***\n",
       "factor(quarter_year)2016 Q3 -0.7472903  0.0218917 -34.1358 < 2.2e-16 ***\n",
       "factor(quarter_year)2016 Q4 -0.7141506  0.0218985 -32.6118 < 2.2e-16 ***\n",
       "factor(quarter_year)2017 Q1 -0.4133171  0.0219196 -18.8560 < 2.2e-16 ***\n",
       "factor(quarter_year)2017 Q2 -0.1281957  0.0219449  -5.8417 5.167e-09 ***\n",
       "factor(quarter_year)2017 Q3 -0.3691398  0.0219692 -16.8026 < 2.2e-16 ***\n",
       "factor(quarter_year)2017 Q4 -0.2820805  0.0219791 -12.8340 < 2.2e-16 ***\n",
       "factor(quarter_year)2018 Q1 -0.3496770  0.0220039 -15.8916 < 2.2e-16 ***\n",
       "factor(quarter_year)2018 Q2 -0.1806368  0.0220417  -8.1952 2.501e-16 ***\n",
       "factor(quarter_year)2018 Q3 -0.3368236  0.0220752 -15.2580 < 2.2e-16 ***\n",
       "---\n",
       "Signif. codes:  0 '***' 0.001 '**' 0.01 '*' 0.05 '.' 0.1 ' ' 1\n"
      ]
     },
     "metadata": {},
     "output_type": "display_data"
    }
   ],
   "source": [
    "fm <- collision_count~flag_LPIS+factor(quarter_year)\n",
    "fespaterr <- spml(fm, data = mydata, listw = myshp_nb_w,index = c(\"intersection_id\",\"quarter_year\"),\n",
    "                   model=\"within\", spatial.error=\"b\", Hess = FALSE)\n",
    "summary(fespaterr)"
   ]
  },
  {
   "cell_type": "code",
   "execution_count": 51,
   "metadata": {},
   "outputs": [
    {
     "name": "stdout",
     "output_type": "stream",
     "text": [
      "\n",
      " Spatial SARAR Fixed Effects Model\n",
      "\n",
      "Spatial fixed effects model\n",
      " Jacobian calculated using neighbourhood matrix eigenvalues\n",
      "Computing eigenvalues ...\n",
      "\n",
      "neighbourhood matrix eigenvalues\n",
      "Computing eigenvalues ...\n",
      "\n",
      "lambda: -1.38167  rho: 0.8  function: -1273046  Jacobian1: -2009.071  Jacobian2: -1004.83  SSE: 1216703 \n",
      "lambda: -1.38167  rho: 0.8  function: -1273046  Jacobian1: -2009.071  Jacobian2: -1004.83  SSE: 1216703 \n",
      "lambda: -1.38167  rho: 0.8  function: -1273046  Jacobian1: -2009.071  Jacobian2: -1004.83  SSE: 1216703 \n",
      "lambda: -0.4890858  rho: 1  function: -1283807  Jacobian1: -240.4936  Jacobian2: -2308.29  SSE: 1396633 \n",
      "lambda: -1.079805  rho: 1  function: -1269592  Jacobian1: -1176.865  Jacobian2: -2308.29  SSE: 1107710 \n",
      "lambda: -1.080867  rho: 1  function: -1269594  Jacobian1: -1179.291  Jacobian2: -2308.29  SSE: 1107312 \n",
      "lambda: -1.079805  rho: 0.9989381  function: -1268286  Jacobian1: -1176.865  Jacobian2: -2254.109  SSE: 1108045 \n",
      "lambda: -1.079486  rho: 0.8189459  function: -1255533  Jacobian1: -1176.135  Jacobian2: -1073.64  SSE: 1228683 \n",
      "lambda: -1.079493  rho: 0.8189459  function: -1255533  Jacobian1: -1176.153  Jacobian2: -1073.64  SSE: 1228681 \n",
      "lambda: -1.079486  rho: 0.8189463  function: -1255533  Jacobian1: -1176.135  Jacobian2: -1073.642  SSE: 1228682 \n",
      "lambda: -0.8984988  rho: 0.8238954  function: -1251681  Jacobian1: -805.7803  Jacobian2: -1092.414  SSE: 1266630 \n",
      "lambda: -0.8985161  rho: 0.8238954  function: -1251682  Jacobian1: -805.8118  Jacobian2: -1092.414  SSE: 1266625 \n",
      "lambda: -0.8984988  rho: 0.823895  function: -1251681  Jacobian1: -805.7803  Jacobian2: -1092.413  SSE: 1266630 \n",
      "lambda: -0.7272241  rho: 0.7651955  function: -1250880  Jacobian1: -526.656  Jacobian2: -889.6555  SSE: 1357482 \n",
      "lambda: -0.7272273  rho: 0.7651955  function: -1250880  Jacobian1: -526.6606  Jacobian2: -889.6555  SSE: 1357481 \n",
      "lambda: -0.7272241  rho: 0.7651937  function: -1250880  Jacobian1: -526.656  Jacobian2: -889.65  SSE: 1357483 \n",
      "lambda: -0.6549526  rho: 0.9312001  function: -1260712  Jacobian1: -427.7525  Jacobian2: -1616.563  SSE: 1309294 \n",
      "lambda: -0.719997  rho: 0.781796  function: -1250801  Jacobian1: -516.278  Jacobian2: -942.9013  SSE: 1347892 \n",
      "lambda: -0.7200032  rho: 0.781796  function: -1250801  Jacobian1: -516.2868  Jacobian2: -942.9013  SSE: 1347890 \n",
      "lambda: -0.719997  rho: 0.7817892  function: -1250801  Jacobian1: -516.278  Jacobian2: -942.8789  SSE: 1347896 \n",
      "lambda: -0.7032652  rho: 0.7748781  function: -1250792  Jacobian1: -492.6707  Jacobian2: -920.3551  SSE: 1357433 \n",
      "lambda: -0.7032691  rho: 0.7748781  function: -1250792  Jacobian1: -492.6761  Jacobian2: -920.3551  SSE: 1357432 \n",
      "lambda: -0.7032652  rho: 0.7748796  function: -1250792  Jacobian1: -492.6707  Jacobian2: -920.3597  SSE: 1357432 \n",
      "lambda: -0.701172  rho: 0.7732159  function: -1250791  Jacobian1: -489.7583  Jacobian2: -915.0147  SSE: 1359157 \n",
      "lambda: -0.701168  rho: 0.7732159  function: -1250791  Jacobian1: -489.7527  Jacobian2: -915.0147  SSE: 1359158 \n",
      "lambda: -0.701176  rho: 0.7732159  function: -1250791  Jacobian1: -489.7638  Jacobian2: -915.0147  SSE: 1359156 \n",
      "lambda: -0.701172  rho: 0.7732174  function: -1250791  Jacobian1: -489.7583  Jacobian2: -915.0195  SSE: 1359156 \n",
      "lambda: -0.7008476  rho: 0.7731944  function: -1250791  Jacobian1: -489.3077  Jacobian2: -914.9458  SSE: 1359266 \n",
      "lambda: -0.7008366  rho: 0.7731944  function: -1250791  Jacobian1: -489.2925  Jacobian2: -914.9458  SSE: 1359269 \n",
      "lambda: -0.7008585  rho: 0.7731944  function: -1250791  Jacobian1: -489.3229  Jacobian2: -914.9458  SSE: 1359262 \n",
      "lambda: -0.7008476  rho: 0.7732006  function: -1250791  Jacobian1: -489.3077  Jacobian2: -914.9659  SSE: 1359261 \n",
      "lambda: -0.7008476  rho: 0.7731881  function: -1250791  Jacobian1: -489.3077  Jacobian2: -914.9257  SSE: 1359270 \n",
      "lambda: -0.7008828  rho: 0.7732013  function: -1250791  Jacobian1: -489.3566  Jacobian2: -914.9679  SSE: 1359251 \n",
      "lambda: -0.7008255  rho: 0.7732013  function: -1250791  Jacobian1: -489.277  Jacobian2: -914.9679  SSE: 1359267 \n",
      "lambda: -0.70094  rho: 0.7732013  function: -1250791  Jacobian1: -489.4361  Jacobian2: -914.9679  SSE: 1359234 \n",
      "lambda: -0.7008828  rho: 0.773229  function: -1250791  Jacobian1: -489.3566  Jacobian2: -915.0569  SSE: 1359232 \n",
      "lambda: -0.7008828  rho: 0.7731735  function: -1250791  Jacobian1: -489.3566  Jacobian2: -914.8789  SSE: 1359269 \n",
      "lambda: -0.7008828  rho: 0.7732013  function: -1250791  Jacobian1: -489.3566  Jacobian2: -914.9679  SSE: 1359251 \n",
      "lambda: 0  rho: 0  function: -1268573  Jacobian1: 0  Jacobian2: 0  SSE: 1882754 \n",
      "lambda: 1.490116e-08  rho: 0  function: -1268573  Jacobian1: -2.31951e-13  Jacobian2: 0  SSE: 1882754 \n",
      "lambda: 0  rho: 1.490116e-08  function: -1268573  Jacobian1: 0  Jacobian2: -2.31951e-13  SSE: 1882754 \n",
      "lambda: 0.7089924  rho: 0.7052161  function: -1324954  Jacobian1: -729.0208  Jacobian2: -719.1931  SSE: 2131911 \n",
      "lambda: 0.2177446  rho: 0.2165848  function: -1255940  Jacobian1: -54.07495  Jacobian2: -53.48116  SSE: 1713177 \n",
      "lambda: 0.2166884  rho: 0.2165848  function: -1255934  Jacobian1: -53.53407  Jacobian2: -53.48116  SSE: 1713262 \n",
      "lambda: 0.2177446  rho: 0.2155286  function: -1255934  Jacobian1: -54.07495  Jacobian2: -52.94349  SSE: 1713259 \n",
      "lambda: 0.4173827  rho: -0.01679538  function: -1255080  Jacobian1: -213.7842  Jacobian2: -0.3027384  SSE: 1676394 \n",
      "lambda: 0.4173853  rho: -0.01679538  function: -1255080  Jacobian1: -213.7872  Jacobian2: -0.3027384  SSE: 1676393 \n",
      "lambda: 0.4173827  rho: -0.01679272  function: -1255080  Jacobian1: -213.7842  Jacobian2: -0.3026428  SSE: 1676394 \n",
      "lambda: 1  rho: -0.7016087  function: -1275542  Jacobian1: -2308.29  Jacobian2: -490.3651  SSE: 1277197 \n",
      "lambda: 0.4734927  rho: -0.08705051  function: -1254595  Jacobian1: -282.1922  Jacobian2: -8.018918  SSE: 1651916 \n",
      "lambda: 0.4734936  rho: -0.08705051  function: -1254595  Jacobian1: -282.1934  Jacobian2: -8.018918  SSE: 1651916 \n",
      "lambda: 0.4734927  rho: -0.08704951  function: -1254595  Jacobian1: -282.1922  Jacobian2: -8.018735  SSE: 1651917 \n",
      "lambda: 0.5857858  rho: -0.2275025  function: -1253539  Jacobian1: -458.2374  Jacobian2: -53.51013  SSE: 1586160 \n",
      "lambda: 0.9251742  rho: -0.646843  function: -1260120  Jacobian1: -1578.734  Jacobian2: -417.3233  SSE: 1314252 \n",
      "lambda: 0.5857862  rho: -0.2275025  function: -1253539  Jacobian1: -458.2382  Jacobian2: -53.51013  SSE: 1586160 \n",
      "lambda: 0.5857858  rho: -0.227502  function: -1253539  Jacobian1: -458.2374  Jacobian2: -53.5099  SSE: 1586160 \n",
      "lambda: 0.9962972  rho: -0.8181498  function: -1269895  Jacobian1: -2205.761  Jacobian2: -666.7488  SSE: 1219587 \n",
      "lambda: 0.6162902  rho: -0.3002013  function: -1252855  Jacobian1: -516.637  Jacobian2: -92.27441  SSE: 1556033 \n",
      "lambda: 0.6162916  rho: -0.3002013  function: -1252855  Jacobian1: -516.6398  Jacobian2: -92.27441  SSE: 1556033 \n",
      "lambda: 0.6162902  rho: -0.3001994  function: -1252855  Jacobian1: -516.637  Jacobian2: -92.27327  SSE: 1556034 \n",
      "lambda: 0.6429667  rho: -0.4556071  function: -1251853  Jacobian1: -572.0318  Jacobian2: -209.2245  SSE: 1505947 \n",
      "lambda: 0.6429695  rho: -0.4556071  function: -1251852  Jacobian1: -572.0379  Jacobian2: -209.2245  SSE: 1505946 \n",
      "lambda: 0.6429667  rho: -0.4556031  function: -1251853  Jacobian1: -572.0318  Jacobian2: -209.2209  SSE: 1505948 \n",
      "lambda: 0.7560788  rho: -0.5654625  function: -1251222  Jacobian1: -861.625  Jacobian2: -319.9745  SSE: 1410420 \n",
      "lambda: 0.7560768  rho: -0.5654625  function: -1251222  Jacobian1: -861.6189  Jacobian2: -319.9745  SSE: 1410421 \n",
      "lambda: 0.7560788  rho: -0.5654591  function: -1251222  Jacobian1: -861.625  Jacobian2: -319.9707  SSE: 1410421 \n",
      "lambda: 0.7595895  rho: -0.7231022  function: -1250788  Jacobian1: -872.3211  Jacobian2: -520.7235  SSE: 1361586 \n",
      "lambda: 0.7595912  rho: -0.7231022  function: -1250788  Jacobian1: -872.3264  Jacobian2: -520.7235  SSE: 1361585 \n",
      "lambda: 0.7595895  rho: -0.7230969  function: -1250788  Jacobian1: -872.3211  Jacobian2: -520.7159  SSE: 1361587 \n",
      "lambda: 0.8599204  rho: -0.8447422  function: -1251906  Jacobian1: -1240.486  Jacobian2: -711.1394  SSE: 1257990 \n",
      "lambda: 0.7831947  rho: -0.7134343  function: -1250693  Jacobian1: -947.524  Jacobian2: -506.9488  SSE: 1347980 \n",
      "lambda: 0.7831928  rho: -0.7134343  function: -1250693  Jacobian1: -947.5176  Jacobian2: -506.9488  SSE: 1347981 \n",
      "lambda: 0.7831947  rho: -0.7134377  function: -1250693  Jacobian1: -947.524  Jacobian2: -506.9537  SSE: 1347979 \n",
      "lambda: 0.7685672  rho: -0.6925366  function: -1250676  Jacobian1: -900.2348  Jacobian2: -477.8396  SSE: 1363787 \n",
      "lambda: 0.7685686  rho: -0.6925366  function: -1250676  Jacobian1: -900.2393  Jacobian2: -477.8396  SSE: 1363786 \n",
      "lambda: 0.7685672  rho: -0.6925325  function: -1250676  Jacobian1: -900.2348  Jacobian2: -477.834  SSE: 1363788 \n",
      "lambda: 0.7730616  rho: -0.7176459  function: -1250685  Jacobian1: -914.5205  Jacobian2: -512.9254  SSE: 1353535 \n",
      "lambda: 0.7704538  rho: -0.6973239  function: -1250675  Jacobian1: -906.2056  Jacobian2: -484.4279  SSE: 1361143 \n",
      "lambda: 0.7704521  rho: -0.6973239  function: -1250675  Jacobian1: -906.2002  Jacobian2: -484.4279  SSE: 1361144 \n",
      "lambda: 0.7704538  rho: -0.6973105  function: -1250675  Jacobian1: -906.2056  Jacobian2: -484.4095  SSE: 1361147 \n",
      "lambda: 0.7753305  rho: -0.6956824  function: -1250682  Jacobian1: -921.8135  Jacobian2: -482.1636  SSE: 1358411 \n",
      "lambda: 0.7709214  rho: -0.6975386  function: -1250675  Jacobian1: -907.6913  Jacobian2: -484.7246  SSE: 1360769 \n",
      "lambda: 0.7709159  rho: -0.6975386  function: -1250675  Jacobian1: -907.6738  Jacobian2: -484.7246  SSE: 1360773 \n",
      "lambda: 0.7709214  rho: -0.6975303  function: -1250675  Jacobian1: -907.6913  Jacobian2: -484.7131  SSE: 1360771 \n",
      "lambda: 0.7706867  rho: -0.6979965  function: -1250675  Jacobian1: -906.9455  Jacobian2: -485.3575  SSE: 1360792 \n",
      "lambda: 0.7706908  rho: -0.6979965  function: -1250675  Jacobian1: -906.9585  Jacobian2: -485.3575  SSE: 1360790 \n",
      "lambda: 0.7706826  rho: -0.6979965  function: -1250675  Jacobian1: -906.9325  Jacobian2: -485.3575  SSE: 1360795 \n",
      "lambda: 0.7706867  rho: -0.6979914  function: -1250675  Jacobian1: -906.9455  Jacobian2: -485.3505  SSE: 1360794 \n",
      "lambda: 0.7713671  rho: -0.6987686  function: -1250675  Jacobian1: -909.1097  Jacobian2: -486.4256  SSE: 1360115 \n",
      "lambda: 0.7713691  rho: -0.6987686  function: -1250675  Jacobian1: -909.1159  Jacobian2: -486.4256  SSE: 1360113 \n",
      "lambda: 0.7713652  rho: -0.6987686  function: -1250675  Jacobian1: -909.1034  Jacobian2: -486.4256  SSE: 1360116 \n",
      "lambda: 0.7713671  rho: -0.6987626  function: -1250675  Jacobian1: -909.1097  Jacobian2: -486.4172  SSE: 1360116 \n",
      "lambda: 0.7713671  rho: -0.6987747  function: -1250675  Jacobian1: -909.1097  Jacobian2: -486.434  SSE: 1360113 \n",
      "lambda: 0.7714188  rho: -0.7008262  function: -1250675  Jacobian1: -909.2744  Jacobian2: -489.278  SSE: 1359483 \n",
      "lambda: 0.7714217  rho: -0.7008262  function: -1250675  Jacobian1: -909.2835  Jacobian2: -489.278  SSE: 1359481 \n",
      "lambda: 0.771416  rho: -0.7008262  function: -1250675  Jacobian1: -909.2653  Jacobian2: -489.278  SSE: 1359485 \n",
      "lambda: 0.7714188  rho: -0.7008181  function: -1250675  Jacobian1: -909.2744  Jacobian2: -489.2667  SSE: 1359485 \n",
      "lambda: 0.7723718  rho: -0.7012148  function: -1250675  Jacobian1: -912.3141  Jacobian2: -489.8178  SSE: 1358734 \n",
      "lambda: 0.7718883  rho: -0.7006388  function: -1250675  Jacobian1: -910.7707  Jacobian2: -489.0179  SSE: 1359224 \n",
      "lambda: 0.7718895  rho: -0.7006388  function: -1250675  Jacobian1: -910.7744  Jacobian2: -489.0179  SSE: 1359223 \n",
      "lambda: 0.7718871  rho: -0.7006388  function: -1250675  Jacobian1: -910.7669  Jacobian2: -489.0179  SSE: 1359224 \n",
      "lambda: 0.7718883  rho: -0.7006358  function: -1250675  Jacobian1: -910.7707  Jacobian2: -489.0138  SSE: 1359224 \n",
      "lambda: 0.7718883  rho: -0.7006417  function: -1250675  Jacobian1: -910.7707  Jacobian2: -489.0219  SSE: 1359223 \n",
      "lambda: 0.7716397  rho: -0.7001987  function: -1250675  Jacobian1: -909.9781  Jacobian2: -488.4071  SSE: 1359517 \n",
      "lambda: 0.7716447  rho: -0.7001987  function: -1250675  Jacobian1: -909.9939  Jacobian2: -488.4071  SSE: 1359514 \n",
      "lambda: 0.7716347  rho: -0.7001987  function: -1250675  Jacobian1: -909.9622  Jacobian2: -488.4071  SSE: 1359521 \n",
      "lambda: 0.7716397  rho: -0.7001581  function: -1250675  Jacobian1: -909.9781  Jacobian2: -488.3509  SSE: 1359529 \n",
      "lambda: 0.7716397  rho: -0.7002392  function: -1250675  Jacobian1: -909.9781  Jacobian2: -488.4634  SSE: 1359506 \n",
      "lambda: 0.7716839  rho: -0.7007022  function: -1250675  Jacobian1: -910.119  Jacobian2: -489.1059  SSE: 1359342 \n",
      "lambda: 0.771672  rho: -0.7002496  function: -1250675  Jacobian1: -910.081  Jacobian2: -488.4778  SSE: 1359481 \n",
      "lambda: 0.7717038  rho: -0.7002496  function: -1250675  Jacobian1: -910.1825  Jacobian2: -488.4778  SSE: 1359460 \n",
      "lambda: 0.7716402  rho: -0.7002496  function: -1250675  Jacobian1: -909.9796  Jacobian2: -488.4778  SSE: 1359502 \n",
      "lambda: 0.771672  rho: -0.7001747  function: -1250675  Jacobian1: -910.081  Jacobian2: -488.3739  SSE: 1359503 \n",
      "lambda: 0.771672  rho: -0.7003245  function: -1250675  Jacobian1: -910.081  Jacobian2: -488.5818  SSE: 1359459 \n",
      "lambda: 0.7716582  rho: -0.7003695  function: -1250675  Jacobian1: -910.0369  Jacobian2: -488.6442  SSE: 1359455 \n",
      "lambda: 0.7716489  rho: -0.7002762  function: -1250675  Jacobian1: -910.0073  Jacobian2: -488.5147  SSE: 1359489 \n",
      "lambda: 0.7716632  rho: -0.7002594  function: -1250675  Jacobian1: -910.053  Jacobian2: -488.4914  SSE: 1359484 \n",
      "lambda: 0.771694  rho: -0.7002594  function: -1250675  Jacobian1: -910.1512  Jacobian2: -488.4914  SSE: 1359463 \n",
      "lambda: 0.7716324  rho: -0.7002594  function: -1250675  Jacobian1: -909.9548  Jacobian2: -488.4914  SSE: 1359505 \n",
      "lambda: 0.7716632  rho: -0.7001992  function: -1250675  Jacobian1: -910.053  Jacobian2: -488.4079  SSE: 1359502 \n",
      "lambda: 0.7716632  rho: -0.7003196  function: -1250675  Jacobian1: -910.053  Jacobian2: -488.5749  SSE: 1359467 \n",
      "lambda: 0.7716733  rho: -0.7002678  function: -1250675  Jacobian1: -910.0851  Jacobian2: -488.5031  SSE: 1359475 \n",
      "lambda: 0.7717015  rho: -0.7002678  function: -1250675  Jacobian1: -910.175  Jacobian2: -488.5031  SSE: 1359456 \n",
      "lambda: 0.7716451  rho: -0.7002678  function: -1250675  Jacobian1: -909.9952  Jacobian2: -488.5031  SSE: 1359494 \n",
      "lambda: 0.7716733  rho: -0.7002048  function: -1250675  Jacobian1: -910.0851  Jacobian2: -488.4157  SSE: 1359493 \n",
      "lambda: 0.7716733  rho: -0.7003308  function: -1250675  Jacobian1: -910.0851  Jacobian2: -488.5905  SSE: 1359457 \n",
      "lambda: 0.7716696  rho: -0.7002938  function: -1250675  Jacobian1: -910.0733  Jacobian2: -488.5391  SSE: 1359470 \n",
      "lambda: 0.7716998  rho: -0.7002938  function: -1250675  Jacobian1: -910.1696  Jacobian2: -488.5391  SSE: 1359450 \n",
      "lambda: 0.7716394  rho: -0.7002938  function: -1250675  Jacobian1: -909.977  Jacobian2: -488.5391  SSE: 1359490 \n",
      "lambda: 0.7716696  rho: -0.7002249  function: -1250675  Jacobian1: -910.0733  Jacobian2: -488.4435  SSE: 1359490 \n",
      "lambda: 0.7716696  rho: -0.7003628  function: -1250675  Jacobian1: -910.0733  Jacobian2: -488.6348  SSE: 1359450 \n",
      "lambda: 0.7717007  rho: -0.7003361  function: -1250675  Jacobian1: -910.1725  Jacobian2: -488.5979  SSE: 1359437 \n",
      "lambda: 0.7717272  rho: -0.7003361  function: -1250675  Jacobian1: -910.257  Jacobian2: -488.5979  SSE: 1359419 \n",
      "lambda: 0.7716742  rho: -0.7003361  function: -1250675  Jacobian1: -910.0881  Jacobian2: -488.5979  SSE: 1359454 \n",
      "lambda: 0.7717007  rho: -0.7002595  function: -1250675  Jacobian1: -910.1725  Jacobian2: -488.4915  SSE: 1359459 \n",
      "lambda: 0.7717007  rho: -0.7004128  function: -1250675  Jacobian1: -910.1725  Jacobian2: -488.7042  SSE: 1359414 \n",
      "lambda: 0.7717012  rho: -0.7003887  function: -1250675  Jacobian1: -910.1741  Jacobian2: -488.6708  SSE: 1359421 \n",
      "lambda: 0.7717007  rho: -0.7003361  function: -1250675  Jacobian1: -910.1725  Jacobian2: -488.5979  SSE: 1359437 \n",
      "lambda: 0.8  rho: 0.8  function: -1351107  Jacobian1: -1004.83  Jacobian2: -1004.83  SSE: 2297113 \n",
      "lambda: 0.8  rho: 0.8  function: -1351107  Jacobian1: -1004.83  Jacobian2: -1004.83  SSE: 2297113 \n",
      "lambda: 0.8  rho: 0.8  function: -1351107  Jacobian1: -1004.83  Jacobian2: -1004.83  SSE: 2297113 \n",
      "lambda: 0.09289297  rho: 0.09289347  function: -1259484  Jacobian1: -9.50102  Jacobian2: -9.501124  SSE: 1775033 \n",
      "lambda: 0.09395063  rho: 0.09289347  function: -1259448  Jacobian1: -9.721228  Jacobian2: -9.501124  SSE: 1774577 \n",
      "lambda: 0.09289297  rho: 0.09395113  function: -1259448  Jacobian1: -9.50102  Jacobian2: -9.721333  SSE: 1774580 \n",
      "lambda: 0.914733  rho: -0.4768248  function: -1264403  Jacobian1: -1516.459  Jacobian2: -228.7907  SSE: 1402532 \n",
      "lambda: 0.4073897  rho: 0.03281238  function: -1255517  Jacobian1: -202.8032  Jacobian2: -1.168269  SSE: 1683536 \n",
      "lambda: 0.4073868  rho: 0.03281238  function: -1255517  Jacobian1: -202.8001  Jacobian2: -1.168269  SSE: 1683537 \n",
      "lambda: 0.4073897  rho: 0.03280949  function: -1255517  Jacobian1: -202.8032  Jacobian2: -1.168063  SSE: 1683536 \n",
      "lambda: 0.6157019  rho: -0.2103419  function: -1254208  Jacobian1: -515.4622  Jacobian2: -45.85719  SSE: 1580592 \n",
      "lambda: 1  rho: -0.6360653  function: -1277761  Jacobian1: -2308.29  Jacobian2: -403.6688  SSE: 1312182 \n",
      "lambda: 0.6157045  rho: -0.2103419  function: -1254208  Jacobian1: -515.4673  Jacobian2: -45.85719  SSE: 1580592 \n",
      "lambda: 0.6157019  rho: -0.2103395  function: -1254208  Jacobian1: -515.4622  Jacobian2: -45.85618  SSE: 1580593 \n",
      "lambda: 1  rho: -1.112149  function: -1269717  Jacobian1: -2308.29  Jacobian2: -1252.182  SSE: 1095781 \n",
      "lambda: 0.6526752  rho: -0.4012972  function: -1252005  Jacobian1: -593.2655  Jacobian2: -163.0881  SSE: 1513150 \n",
      "lambda: 0.6526773  rho: -0.4012972  function: -1252005  Jacobian1: -593.2702  Jacobian2: -163.0881  SSE: 1513149 \n",
      "lambda: 0.6526752  rho: -0.4012941  function: -1252005  Jacobian1: -593.2655  Jacobian2: -163.0856  SSE: 1513151 \n",
      "lambda: 0.7124196  rho: -0.586396  function: -1250994  Jacobian1: -738.0374  Jacobian2: -343.7556  SSE: 1430250 \n",
      "lambda: 0.7124175  rho: -0.586396  function: -1250994  Jacobian1: -738.0316  Jacobian2: -343.7556  SSE: 1430251 \n",
      "lambda: 0.7124196  rho: -0.5863925  function: -1250994  Jacobian1: -738.0374  Jacobian2: -343.7516  SSE: 1430251 \n",
      "lambda: 1  rho: -0.8032278  function: -1272735  Jacobian1: -2308.29  Jacobian2: -642.528  SSE: 1226234 \n",
      "lambda: 0.7484107  rho: -0.5877473  function: -1250956  Jacobian1: -838.6769  Jacobian2: -345.3206  SSE: 1407587 \n",
      "lambda: 0.7484073  rho: -0.5877473  function: -1250956  Jacobian1: -838.6667  Jacobian2: -345.3206  SSE: 1407589 \n",
      "lambda: 0.7484107  rho: -0.5877431  function: -1250956  Jacobian1: -838.6769  Jacobian2: -345.3157  SSE: 1407588 \n",
      "lambda: 0.7402035  rho: -0.6228162  function: -1250791  Jacobian1: -814.7265  Jacobian2: -387.2043  SSE: 1402281 \n",
      "lambda: 0.7402051  rho: -0.6228162  function: -1250791  Jacobian1: -814.7309  Jacobian2: -387.2043  SSE: 1402280 \n",
      "lambda: 0.7402035  rho: -0.622812  function: -1250791  Jacobian1: -814.7265  Jacobian2: -387.1992  SSE: 1402282 \n",
      "lambda: 0.7814956  rho: -0.6818391  function: -1250749  Jacobian1: -941.9116  Jacobian2: -463.2883  SSE: 1358713 \n",
      "lambda: 0.781494  rho: -0.6818391  function: -1250749  Jacobian1: -941.9062  Jacobian2: -463.2883  SSE: 1358714 \n",
      "lambda: 0.7814956  rho: -0.6818355  function: -1250749  Jacobian1: -941.9116  Jacobian2: -463.2835  SSE: 1358714 \n",
      "lambda: 0.7643164  rho: -0.7517935  function: -1250884  Jacobian1: -886.9163  Jacobian2: -562.7605  SSE: 1350561 \n",
      "lambda: 0.7566481  rho: -0.6917053  function: -1250717  Jacobian1: -863.3512  Jacobian2: -476.7003  SSE: 1372138 \n",
      "lambda: 0.7566499  rho: -0.6917053  function: -1250717  Jacobian1: -863.3566  Jacobian2: -476.7003  SSE: 1372136 \n",
      "lambda: 0.7566481  rho: -0.691693  function: -1250717  Jacobian1: -863.3512  Jacobian2: -476.6835  SSE: 1372141 \n",
      "lambda: 0.7752176  rho: -0.7109384  function: -1250677  Jacobian1: -921.4494  Jacobian2: -503.4245  SSE: 1354001 \n",
      "lambda: 0.7752162  rho: -0.7109384  function: -1250677  Jacobian1: -921.4447  Jacobian2: -503.4245  SSE: 1354002 \n",
      "lambda: 0.7752176  rho: -0.7109426  function: -1250677  Jacobian1: -921.4494  Jacobian2: -503.4304  SSE: 1354000 \n",
      "lambda: 0.7692108  rho: -0.6848873  function: -1250681  Jacobian1: -902.2676  Jacobian2: -467.4107  SSE: 1365594 \n",
      "lambda: 0.7730413  rho: -0.7015002  function: -1250675  Jacobian1: -914.4557  Jacobian2: -490.2143  SSE: 1358205 \n",
      "lambda: 0.7730444  rho: -0.7015002  function: -1250675  Jacobian1: -914.4656  Jacobian2: -490.2143  SSE: 1358203 \n",
      "lambda: 0.7730383  rho: -0.7015002  function: -1250675  Jacobian1: -914.4459  Jacobian2: -490.2143  SSE: 1358207 \n",
      "lambda: 0.7730413  rho: -0.7015072  function: -1250675  Jacobian1: -914.4557  Jacobian2: -490.2241  SSE: 1358203 \n",
      "lambda: 0.7688121  rho: -0.6978394  function: -1250676  Jacobian1: -901.008  Jacobian2: -485.1403  SSE: 1362093 \n",
      "lambda: 0.7712924  rho: -0.7019085  function: -1250675  Jacobian1: -908.8718  Jacobian2: -490.7819  SSE: 1359254 \n",
      "lambda: 0.7712947  rho: -0.7019085  function: -1250675  Jacobian1: -908.8791  Jacobian2: -490.7819  SSE: 1359253 \n",
      "lambda: 0.7712924  rho: -0.7019062  function: -1250675  Jacobian1: -908.8718  Jacobian2: -490.7788  SSE: 1359255 \n",
      "lambda: 0.7712924  rho: -0.7019107  function: -1250675  Jacobian1: -908.8718  Jacobian2: -490.785  SSE: 1359253 \n",
      "lambda: 0.7720896  rho: -0.7014951  function: -1250675  Jacobian1: -911.4131  Jacobian2: -490.2073  SSE: 1358840 \n",
      "lambda: 0.7720882  rho: -0.7014951  function: -1250675  Jacobian1: -911.4085  Jacobian2: -490.2073  SSE: 1358841 \n",
      "lambda: 0.7720896  rho: -0.7014987  function: -1250675  Jacobian1: -911.4131  Jacobian2: -490.2122  SSE: 1358839 \n",
      "lambda: 0.7715851  rho: -0.7000309  function: -1250675  Jacobian1: -909.8039  Jacobian2: -488.1745  SSE: 1359603 \n",
      "lambda: 0.7715999  rho: -0.7000309  function: -1250675  Jacobian1: -909.8513  Jacobian2: -488.1745  SSE: 1359593 \n",
      "lambda: 0.7715702  rho: -0.7000309  function: -1250675  Jacobian1: -909.7565  Jacobian2: -488.1745  SSE: 1359612 \n",
      "lambda: 0.7715851  rho: -0.7000241  function: -1250675  Jacobian1: -909.8039  Jacobian2: -488.165  SSE: 1359605 \n",
      "lambda: 0.7715851  rho: -0.7000377  function: -1250675  Jacobian1: -909.8039  Jacobian2: -488.1839  SSE: 1359601 \n",
      "lambda: 0.7716909  rho: -0.7003319  function: -1250675  Jacobian1: -910.1413  Jacobian2: -488.5919  SSE: 1359445 \n",
      "lambda: 0.7717146  rho: -0.7003319  function: -1250675  Jacobian1: -910.2167  Jacobian2: -488.5919  SSE: 1359429 \n",
      "lambda: 0.7716673  rho: -0.7003319  function: -1250675  Jacobian1: -910.0659  Jacobian2: -488.5919  SSE: 1359460 \n",
      "lambda: 0.7716909  rho: -0.7003071  function: -1250675  Jacobian1: -910.1413  Jacobian2: -488.5575  SSE: 1359452 \n",
      "lambda: 0.7716909  rho: -0.7003567  function: -1250675  Jacobian1: -910.1413  Jacobian2: -488.6264  SSE: 1359437 \n",
      "lambda: 0.7716911  rho: -0.7003326  function: -1250675  Jacobian1: -910.1418  Jacobian2: -488.5929  SSE: 1359444 \n",
      "lambda: 0.7717229  rho: -0.7003326  function: -1250675  Jacobian1: -910.2431  Jacobian2: -488.5929  SSE: 1359423 \n",
      "lambda: 0.7716593  rho: -0.7003326  function: -1250675  Jacobian1: -910.0405  Jacobian2: -488.5929  SSE: 1359465 \n",
      "lambda: 0.7716911  rho: -0.7002564  function: -1250675  Jacobian1: -910.1418  Jacobian2: -488.4872  SSE: 1359466 \n",
      "lambda: 0.7716911  rho: -0.7004087  function: -1250675  Jacobian1: -910.1418  Jacobian2: -488.6986  SSE: 1359422 \n",
      "lambda: 0.7716911  rho: -0.7003326  function: -1250675  Jacobian1: -910.1418  Jacobian2: -488.5929  SSE: 1359444 \n",
      "lambda: 0.8  rho: -1.38167  function: -1272786  Jacobian1: -1004.83  Jacobian2: -2009.071  SSE: 1214755 \n",
      "lambda: 0.8  rho: -1.38167  function: -1272786  Jacobian1: -1004.83  Jacobian2: -2009.071  SSE: 1214755 \n",
      "lambda: 0.8  rho: -1.38167  function: -1272786  Jacobian1: -1004.83  Jacobian2: -2009.071  SSE: 1214755 \n",
      "lambda: 1  rho: -0.4883687  function: -1283844  Jacobian1: -2308.29  Jacobian2: -239.8011  SSE: 1397095 \n",
      "lambda: 1  rho: -1.080232  function: -1269593  Jacobian1: -2308.29  Jacobian2: -1177.841  SSE: 1107553 \n",
      "lambda: 0.9989381  rho: -1.080232  function: -1268287  Jacobian1: -2254.109  Jacobian2: -1177.841  SSE: 1107885 \n",
      "lambda: 1  rho: -1.081294  function: -1269595  Jacobian1: -2308.29  Jacobian2: -1180.268  SSE: 1107155 \n",
      "lambda: 0.819124  rho: -1.079908  function: -1255385  Jacobian1: -1074.31  Jacobian2: -1177.099  SSE: 1227253 \n",
      "lambda: 0.8191244  rho: -1.079908  function: -1255385  Jacobian1: -1074.311  Jacobian2: -1177.099  SSE: 1227253 \n",
      "lambda: 0.819124  rho: -1.079915  function: -1255385  Jacobian1: -1074.31  Jacobian2: -1177.117  SSE: 1227252 \n",
      "lambda: 0.8239884  rho: -0.8990968  function: -1251574  Jacobian1: -1092.77  Jacobian2: -806.8707  SSE: 1265513 \n",
      "lambda: 0.823988  rho: -0.8990968  function: -1251574  Jacobian1: -1092.769  Jacobian2: -806.8707  SSE: 1265513 \n",
      "lambda: 0.8239884  rho: -0.8991142  function: -1251575  Jacobian1: -1092.77  Jacobian2: -806.9024  SSE: 1265508 \n",
      "lambda: 0.7664862  rho: -0.7276041  function: -1250743  Jacobian1: -893.6916  Jacobian2: -527.2046  SSE: 1355380 \n",
      "lambda: 0.7664845  rho: -0.7276041  function: -1250743  Jacobian1: -893.686  Jacobian2: -527.2046  SSE: 1355381 \n",
      "lambda: 0.7664862  rho: -0.7276072  function: -1250743  Jacobian1: -893.6916  Jacobian2: -527.2092  SSE: 1355379 \n",
      "lambda: 0.9307903  rho: -0.6519707  function: -1260720  Jacobian1: -1613.943  Jacobian2: -423.9022  SSE: 1310663 \n",
      "lambda: 0.7829166  rho: -0.7200407  function: -1250690  Jacobian1: -946.6034  Jacobian2: -516.3405  SSE: 1346191 \n",
      "lambda: 0.7829091  rho: -0.7200407  function: -1250690  Jacobian1: -946.5786  Jacobian2: -516.3405  SSE: 1346196 \n",
      "lambda: 0.7829166  rho: -0.7200467  function: -1250690  Jacobian1: -946.6034  Jacobian2: -516.349  SSE: 1346189 \n",
      "lambda: 0.7747608  rho: -0.7038962  function: -1250676  Jacobian1: -919.9773  Jacobian2: -493.5504  SSE: 1356361 \n",
      "lambda: 0.7747623  rho: -0.7038962  function: -1250676  Jacobian1: -919.9818  Jacobian2: -493.5504  SSE: 1356361 \n",
      "lambda: 0.7747608  rho: -0.7038933  function: -1250676  Jacobian1: -919.9773  Jacobian2: -493.5463  SSE: 1356362 \n",
      "lambda: 0.7747608  rho: -0.7038992  function: -1250676  Jacobian1: -919.9773  Jacobian2: -493.5545  SSE: 1356361 \n",
      "lambda: 0.7718125  rho: -0.7015485  function: -1250675  Jacobian1: -910.5288  Jacobian2: -490.2815  SSE: 1359010 \n",
      "lambda: 0.771814  rho: -0.7015485  function: -1250675  Jacobian1: -910.5337  Jacobian2: -490.2815  SSE: 1359009 \n",
      "lambda: 0.7718125  rho: -0.7015445  function: -1250675  Jacobian1: -910.5288  Jacobian2: -490.2759  SSE: 1359011 \n",
      "lambda: 0.7716209  rho: -0.7000378  function: -1250675  Jacobian1: -909.918  Jacobian2: -488.1841  SSE: 1359577 \n",
      "lambda: 0.7716228  rho: -0.7000378  function: -1250675  Jacobian1: -909.924  Jacobian2: -488.1841  SSE: 1359575 \n",
      "lambda: 0.771619  rho: -0.7000378  function: -1250675  Jacobian1: -909.9119  Jacobian2: -488.1841  SSE: 1359578 \n",
      "lambda: 0.7716209  rho: -0.7000349  function: -1250675  Jacobian1: -909.918  Jacobian2: -488.18  SSE: 1359578 \n",
      "lambda: 0.7716209  rho: -0.7000408  function: -1250675  Jacobian1: -909.918  Jacobian2: -488.1882  SSE: 1359576 \n",
      "lambda: 0.7716913  rho: -0.700333  function: -1250675  Jacobian1: -910.1425  Jacobian2: -488.5936  SSE: 1359444 \n",
      "lambda: 0.7717072  rho: -0.700333  function: -1250675  Jacobian1: -910.1931  Jacobian2: -488.5936  SSE: 1359433 \n",
      "lambda: 0.7716754  rho: -0.700333  function: -1250675  Jacobian1: -910.0918  Jacobian2: -488.5936  SSE: 1359455 \n",
      "lambda: 0.7716913  rho: -0.7003161  function: -1250675  Jacobian1: -910.1425  Jacobian2: -488.5701  SSE: 1359449 \n",
      "lambda: 0.7716913  rho: -0.7003499  function: -1250675  Jacobian1: -910.1425  Jacobian2: -488.617  SSE: 1359439 \n",
      "lambda: 0.7716911  rho: -0.7003326  function: -1250675  Jacobian1: -910.1418  Jacobian2: -488.5929  SSE: 1359444 \n",
      "lambda: 0.771723  rho: -0.7003326  function: -1250675  Jacobian1: -910.2434  Jacobian2: -488.5929  SSE: 1359423 \n",
      "lambda: 0.7716592  rho: -0.7003326  function: -1250675  Jacobian1: -910.0402  Jacobian2: -488.5929  SSE: 1359465 \n",
      "lambda: 0.7716911  rho: -0.700256  function: -1250675  Jacobian1: -910.1418  Jacobian2: -488.4867  SSE: 1359466 \n",
      "lambda: 0.7716911  rho: -0.7004091  function: -1250675  Jacobian1: -910.1418  Jacobian2: -488.6991  SSE: 1359422 \n",
      "lambda: 0.7716911  rho: -0.7003326  function: -1250675  Jacobian1: -910.1418  Jacobian2: -488.5929  SSE: 1359444 \n",
      "lambda: 0.7716911  rho: -0.7003326  function: -1250675  Jacobian1: -910.1418  Jacobian2: -488.5929  SSE: 1359444 \n",
      "lambda: 0.8  rho: 0.8  function: -1351107  Jacobian1: -1004.83  Jacobian2: -1004.83  SSE: 2297113 \n",
      "lambda: 0.8  rho: 0.8  function: -1351107  Jacobian1: -1004.83  Jacobian2: -1004.83  SSE: 2297113 \n",
      "lambda: 0.8  rho: 0.8  function: -1351107  Jacobian1: -1004.83  Jacobian2: -1004.83  SSE: 2297113 \n",
      "lambda: 0.09289297  rho: 0.09289347  function: -1259484  Jacobian1: -9.50102  Jacobian2: -9.501124  SSE: 1775033 \n",
      "lambda: 0.09395063  rho: 0.09289347  function: -1259448  Jacobian1: -9.721228  Jacobian2: -9.501124  SSE: 1774577 \n",
      "lambda: 0.09289297  rho: 0.09395113  function: -1259448  Jacobian1: -9.50102  Jacobian2: -9.721333  SSE: 1774580 \n",
      "lambda: 0.914733  rho: -0.4768248  function: -1264403  Jacobian1: -1516.459  Jacobian2: -228.7907  SSE: 1402532 \n",
      "lambda: 0.4073897  rho: 0.03281238  function: -1255517  Jacobian1: -202.8032  Jacobian2: -1.168269  SSE: 1683536 \n",
      "lambda: 0.4073868  rho: 0.03281238  function: -1255517  Jacobian1: -202.8001  Jacobian2: -1.168269  SSE: 1683537 \n",
      "lambda: 0.4073897  rho: 0.03280949  function: -1255517  Jacobian1: -202.8032  Jacobian2: -1.168063  SSE: 1683536 \n",
      "lambda: 0.6157019  rho: -0.2103419  function: -1254208  Jacobian1: -515.4622  Jacobian2: -45.85719  SSE: 1580592 \n",
      "lambda: 1  rho: -0.6360653  function: -1277761  Jacobian1: -2308.29  Jacobian2: -403.6688  SSE: 1312182 \n",
      "lambda: 0.6157045  rho: -0.2103419  function: -1254208  Jacobian1: -515.4673  Jacobian2: -45.85719  SSE: 1580592 \n",
      "lambda: 0.6157019  rho: -0.2103395  function: -1254208  Jacobian1: -515.4622  Jacobian2: -45.85618  SSE: 1580593 \n",
      "lambda: 1  rho: -1.112149  function: -1269717  Jacobian1: -2308.29  Jacobian2: -1252.182  SSE: 1095781 \n",
      "lambda: 0.6526752  rho: -0.4012972  function: -1252005  Jacobian1: -593.2655  Jacobian2: -163.0881  SSE: 1513150 \n",
      "lambda: 0.6526773  rho: -0.4012972  function: -1252005  Jacobian1: -593.2702  Jacobian2: -163.0881  SSE: 1513149 \n",
      "lambda: 0.6526752  rho: -0.4012941  function: -1252005  Jacobian1: -593.2655  Jacobian2: -163.0856  SSE: 1513151 \n",
      "lambda: 0.7124196  rho: -0.586396  function: -1250994  Jacobian1: -738.0374  Jacobian2: -343.7556  SSE: 1430250 \n",
      "lambda: 0.7124175  rho: -0.586396  function: -1250994  Jacobian1: -738.0316  Jacobian2: -343.7556  SSE: 1430251 \n",
      "lambda: 0.7124196  rho: -0.5863925  function: -1250994  Jacobian1: -738.0374  Jacobian2: -343.7516  SSE: 1430251 \n",
      "lambda: 1  rho: -0.8032278  function: -1272735  Jacobian1: -2308.29  Jacobian2: -642.528  SSE: 1226234 \n",
      "lambda: 0.7484107  rho: -0.5877473  function: -1250956  Jacobian1: -838.6769  Jacobian2: -345.3206  SSE: 1407587 \n",
      "lambda: 0.7484073  rho: -0.5877473  function: -1250956  Jacobian1: -838.6667  Jacobian2: -345.3206  SSE: 1407589 \n",
      "lambda: 0.7484107  rho: -0.5877431  function: -1250956  Jacobian1: -838.6769  Jacobian2: -345.3157  SSE: 1407588 \n",
      "lambda: 0.7402035  rho: -0.6228162  function: -1250791  Jacobian1: -814.7265  Jacobian2: -387.2043  SSE: 1402281 \n",
      "lambda: 0.7402051  rho: -0.6228162  function: -1250791  Jacobian1: -814.7309  Jacobian2: -387.2043  SSE: 1402280 \n",
      "lambda: 0.7402035  rho: -0.622812  function: -1250791  Jacobian1: -814.7265  Jacobian2: -387.1992  SSE: 1402282 \n",
      "lambda: 0.7814956  rho: -0.6818391  function: -1250749  Jacobian1: -941.9116  Jacobian2: -463.2883  SSE: 1358713 \n",
      "lambda: 0.781494  rho: -0.6818391  function: -1250749  Jacobian1: -941.9062  Jacobian2: -463.2883  SSE: 1358714 \n",
      "lambda: 0.7814956  rho: -0.6818355  function: -1250749  Jacobian1: -941.9116  Jacobian2: -463.2835  SSE: 1358714 \n",
      "lambda: 0.7643164  rho: -0.7517935  function: -1250884  Jacobian1: -886.9163  Jacobian2: -562.7605  SSE: 1350561 \n",
      "lambda: 0.7566481  rho: -0.6917053  function: -1250717  Jacobian1: -863.3512  Jacobian2: -476.7003  SSE: 1372138 \n",
      "lambda: 0.7566499  rho: -0.6917053  function: -1250717  Jacobian1: -863.3566  Jacobian2: -476.7003  SSE: 1372136 \n",
      "lambda: 0.7566481  rho: -0.691693  function: -1250717  Jacobian1: -863.3512  Jacobian2: -476.6835  SSE: 1372141 \n",
      "lambda: 0.7752176  rho: -0.7109384  function: -1250677  Jacobian1: -921.4494  Jacobian2: -503.4245  SSE: 1354001 \n",
      "lambda: 0.7752162  rho: -0.7109384  function: -1250677  Jacobian1: -921.4447  Jacobian2: -503.4245  SSE: 1354002 \n",
      "lambda: 0.7752176  rho: -0.7109426  function: -1250677  Jacobian1: -921.4494  Jacobian2: -503.4304  SSE: 1354000 \n",
      "lambda: 0.7692108  rho: -0.6848873  function: -1250681  Jacobian1: -902.2676  Jacobian2: -467.4107  SSE: 1365594 \n",
      "lambda: 0.7730413  rho: -0.7015002  function: -1250675  Jacobian1: -914.4557  Jacobian2: -490.2143  SSE: 1358205 \n",
      "lambda: 0.7730444  rho: -0.7015002  function: -1250675  Jacobian1: -914.4656  Jacobian2: -490.2143  SSE: 1358203 \n",
      "lambda: 0.7730383  rho: -0.7015002  function: -1250675  Jacobian1: -914.4459  Jacobian2: -490.2143  SSE: 1358207 \n",
      "lambda: 0.7730413  rho: -0.7015072  function: -1250675  Jacobian1: -914.4557  Jacobian2: -490.2241  SSE: 1358203 \n",
      "lambda: 0.7688121  rho: -0.6978394  function: -1250676  Jacobian1: -901.008  Jacobian2: -485.1403  SSE: 1362093 \n",
      "lambda: 0.7712924  rho: -0.7019085  function: -1250675  Jacobian1: -908.8718  Jacobian2: -490.7819  SSE: 1359254 \n",
      "lambda: 0.7712947  rho: -0.7019085  function: -1250675  Jacobian1: -908.8791  Jacobian2: -490.7819  SSE: 1359253 \n",
      "lambda: 0.7712924  rho: -0.7019062  function: -1250675  Jacobian1: -908.8718  Jacobian2: -490.7788  SSE: 1359255 \n",
      "lambda: 0.7712924  rho: -0.7019107  function: -1250675  Jacobian1: -908.8718  Jacobian2: -490.785  SSE: 1359253 \n",
      "lambda: 0.7720896  rho: -0.7014951  function: -1250675  Jacobian1: -911.4131  Jacobian2: -490.2073  SSE: 1358840 \n",
      "lambda: 0.7720882  rho: -0.7014951  function: -1250675  Jacobian1: -911.4085  Jacobian2: -490.2073  SSE: 1358841 \n",
      "lambda: 0.7720896  rho: -0.7014987  function: -1250675  Jacobian1: -911.4131  Jacobian2: -490.2122  SSE: 1358839 \n",
      "lambda: 0.7715851  rho: -0.7000309  function: -1250675  Jacobian1: -909.8039  Jacobian2: -488.1745  SSE: 1359603 \n",
      "lambda: 0.7715999  rho: -0.7000309  function: -1250675  Jacobian1: -909.8513  Jacobian2: -488.1745  SSE: 1359593 \n",
      "lambda: 0.7715702  rho: -0.7000309  function: -1250675  Jacobian1: -909.7565  Jacobian2: -488.1745  SSE: 1359612 \n",
      "lambda: 0.7715851  rho: -0.7000241  function: -1250675  Jacobian1: -909.8039  Jacobian2: -488.165  SSE: 1359605 \n",
      "lambda: 0.7715851  rho: -0.7000377  function: -1250675  Jacobian1: -909.8039  Jacobian2: -488.1839  SSE: 1359601 \n",
      "lambda: 0.7716909  rho: -0.7003319  function: -1250675  Jacobian1: -910.1413  Jacobian2: -488.5919  SSE: 1359445 \n",
      "lambda: 0.7717146  rho: -0.7003319  function: -1250675  Jacobian1: -910.2167  Jacobian2: -488.5919  SSE: 1359429 \n",
      "lambda: 0.7716673  rho: -0.7003319  function: -1250675  Jacobian1: -910.0659  Jacobian2: -488.5919  SSE: 1359460 \n",
      "lambda: 0.7716909  rho: -0.7003071  function: -1250675  Jacobian1: -910.1413  Jacobian2: -488.5575  SSE: 1359452 \n",
      "lambda: 0.7716909  rho: -0.7003567  function: -1250675  Jacobian1: -910.1413  Jacobian2: -488.6264  SSE: 1359437 \n",
      "lambda: 0.7716911  rho: -0.7003326  function: -1250675  Jacobian1: -910.1418  Jacobian2: -488.5929  SSE: 1359444 \n",
      "lambda: 0.7717229  rho: -0.7003326  function: -1250675  Jacobian1: -910.2431  Jacobian2: -488.5929  SSE: 1359423 \n",
      "lambda: 0.7716593  rho: -0.7003326  function: -1250675  Jacobian1: -910.0405  Jacobian2: -488.5929  SSE: 1359465 \n",
      "lambda: 0.7716911  rho: -0.7002564  function: -1250675  Jacobian1: -910.1418  Jacobian2: -488.4872  SSE: 1359466 \n",
      "lambda: 0.7716911  rho: -0.7004087  function: -1250675  Jacobian1: -910.1418  Jacobian2: -488.6986  SSE: 1359422 \n",
      "lambda: 0.7716911  rho: -0.7003326  function: -1250675  Jacobian1: -910.1418  Jacobian2: -488.5929  SSE: 1359444 \n"
     ]
    },
    {
     "ename": "ERROR",
     "evalue": "Error: cannot allocate vector of size 31.4 Gb\n",
     "output_type": "error",
     "traceback": [
      "Error: cannot allocate vector of size 31.4 Gb\nTraceback:\n",
      "1. spml(formula = fm, data = mydata.df, index = c(\"intersection_id\", \n .     \"quarter_year\"), listw = myshp_nb_w, model = \"within\", effect = \"individual\", \n .     lag = TRUE, spatial.error = \"b\", method = \"eigen\", quiet = FALSE, \n .     tol.solve = 1e-10, legacy = FALSE)",
      "2. spfeml(formula = formula, data = data, index = index, listw = listw, \n .     listw2 = listw2, na.action, model = model, effects = effects, \n .     cl = cl, ...)",
      "3. spsararlm(env = env, zero.policy = zero.policy, con = con, llprof = llprof, \n .     tol.solve = tol.solve, Hess = Hess, LeeYu = LeeYu, effects = effects)",
      "4. kronecker(It, Rrinv)",
      "5. kronecker(It, Rrinv)",
      "6. kronecker(X, as(Y, \"TsparseMatrix\"), FUN = FUN, make.dimnames = make.dimnames, \n .     ...)",
      "7. kronecker(X, as(Y, \"TsparseMatrix\"), FUN = FUN, make.dimnames = make.dimnames, \n .     ...)",
      "8. kronecker(as(X, \"TsparseMatrix\"), as(Y, \"TsparseMatrix\"), FUN = FUN, \n .     make.dimnames = make.dimnames, ...)",
      "9. kronecker(as(X, \"TsparseMatrix\"), as(Y, \"TsparseMatrix\"), FUN = FUN, \n .     make.dimnames = make.dimnames, ...)",
      "10. new(\"dgTMatrix\", Dim = X@Dim * ydim, i = rep.int(yi, xnnz) + \n  .     ydim[1] * rep.int(xi, rep.int(ynnz, xnnz)), j = rep.int(Y@j, \n  .     xnnz) + ydim[2] * rep.int(X@j, rep.int(ynnz, xnnz)), x = as.vector(Y@x %*% \n  .     t(X@x)))",
      "11. initialize(value, ...)",
      "12. initialize(value, ...)",
      "13. callNextMethod()",
      "14. .nextMethod(.Object = .Object, ... = ...)",
      "15. as.vector(Y@x %*% t(X@x))"
     ]
    }
   ],
   "source": [
    "fm <- collision_count~flag_LPIS\n",
    "sararfemod <- spml(formula  = fm, data=mydata.df, index = c(\"intersection_id\",\"quarter_year\"), \n",
    "                   listw = myshp_nb_w, model = \"within\", effect = \"individual\",\n",
    "                   lag = TRUE,spatial.error = \"b\",method = \"eigen\",\n",
    "                   quiet = FALSE, tol.solve = 1e-10,legacy = FALSE)\n",
    "summary(sararfemod)"
   ]
  },
  {
   "cell_type": "code",
   "execution_count": 38,
   "metadata": {},
   "outputs": [
    {
     "ename": "ERROR",
     "evalue": "Error: cannot allocate vector of size 785.4 Gb\n",
     "output_type": "error",
     "traceback": [
      "Error: cannot allocate vector of size 785.4 Gb\nTraceback:\n",
      "1. spgm(formula = fm, data = mydata.df, index = c(\"intersection_id\", \n .     \"quarter_year\"), lag = TRUE, listw = myshp_nb_w, model = \"within\", \n .     spatial.error = TRUE)",
      "2. spsarargm(formula = formula, data = data, index = index, listw = listw, \n .     listw2 = listw2, moments = moments, lag = lag, endog = endog, \n .     instruments = instruments, verbose = verbose, effects = effects, \n .     control = control, lag.instruments = lag.instruments, optim.method = optim.method, \n .     pars = pars, twow = twow)",
      "3. fswithin(Ws2, res, N, T)",
      "4. as.vector(listw)",
      "5. as.vector(x, mode)",
      "6. as.vector(x, mode)",
      "7. as.vector(as(x, \"matrix\"), mode)",
      "8. as(x, \"matrix\")",
      "9. asMethod(object)"
     ]
    }
   ],
   "source": [
    "GM_error <- spgm(formula = fm, data = mydata.df, index = c(\"intersection_id\",\"quarter_year\"), lag = TRUE, listw = myshp_nb_w, model = \"within\", spatial.error = TRUE)\n",
    "summary(GM_error)\n"
   ]
  },
  {
   "cell_type": "code",
   "execution_count": 42,
   "metadata": {},
   "outputs": [
    {
     "name": "stdout",
     "output_type": "stream",
     "text": [
      "\n",
      "\tBaltagi, Song and Koh SLM1 marginal test\n",
      "\n",
      "data:  collision_count ~ flag_LPIS\n",
      "LM1 = 68.375, p-value < 2.2e-16\n",
      "alternative hypothesis: Random effects\n",
      "\n"
     ]
    }
   ],
   "source": [
    "# alternative hypothesis is one of no random regional effects\n",
    "test1 <- bsktest(x = fm, data = mydata.df,index = c(\"intersection_id\",\"quarter_year\"), listw = myshp_nb_w, test = \"LM1\")\n",
    "print(test1)\n"
   ]
  },
  {
   "cell_type": "code",
   "execution_count": 43,
   "metadata": {},
   "outputs": [
    {
     "data": {
      "text/plain": [
       "\n",
       "\tBaltagi, Song and Koh LM2 marginal test\n",
       "\n",
       "data:  collision_count ~ flag_LPIS\n",
       "LM2 = 188.3, p-value < 2.2e-16\n",
       "alternative hypothesis: Spatial autocorrelation\n"
      ]
     },
     "metadata": {},
     "output_type": "display_data"
    }
   ],
   "source": [
    "# The alternative hypothesis is one of no random regional effects\n",
    "test2 <- bsktest(x = fm, data = mydata.df,index = c(\"intersection_id\",\"quarter_year\"), listw = myshp_nb_w,test = \"LM2\")\n",
    "test2"
   ]
  },
  {
   "cell_type": "code",
   "execution_count": 46,
   "metadata": {},
   "outputs": [
    {
     "data": {
      "text/plain": [
       "\n",
       "\tBaltagi, Song and Koh LM*-lambda conditional LM test (assuming\n",
       "\tsigma^2_mu >= 0)\n",
       "\n",
       "data:  collision_count ~ flag_LPIS\n",
       "LM*-lambda = 79.434, p-value < 2.2e-16\n",
       "alternative hypothesis: Spatial autocorrelation\n"
      ]
     },
     "metadata": {},
     "output_type": "display_data"
    }
   ],
   "source": [
    "#check for spatial correlation in the errors of a model that possibly incorporates random effects\n",
    "bsktest(x = fm, data = mydata.df,index = c(\"intersection_id\",\"quarter_year\"), listw =myshp_nb_w, test = \"CLMlambda\")"
   ]
  },
  {
   "cell_type": "code",
   "execution_count": 48,
   "metadata": {},
   "outputs": [
    {
     "ename": "ERROR",
     "evalue": "Error: cannot allocate vector of size 785.4 Gb\n",
     "output_type": "error",
     "traceback": [
      "Error: cannot allocate vector of size 785.4 Gb\nTraceback:\n",
      "1. sphtest(x = fm, data = mydata.df, index = c(\"intersection_id\", \n .     \"quarter_year\"), listw = myshp_nb_w, spatial.model = \"error\", \n .     method = \"GM\")",
      "2. sphtest.formula(x = fm, data = mydata.df, index = c(\"intersection_id\", \n .     \"quarter_year\"), listw = myshp_nb_w, spatial.model = \"error\", \n .     method = \"GM\")",
      "3. spgm(x, data = data, index = index, listw = listw, lag = lag, \n .     spatial.error = spatial.error, model = \"within\", moments = \"fullweights\")",
      "4. sperrorgm(formula = formula, data = data, index = index, listw = listw, \n .     moments = moments, endog = endog, instruments = instruments, \n .     verbose = verbose, effects = effects, control = control, \n .     lag.instruments = lag.instruments, optim.method = optim.method, \n .     pars = pars)",
      "5. fswithin(Ws, res, N, T)",
      "6. as.vector(listw)",
      "7. as.vector(x, mode)",
      "8. as.vector(x, mode)",
      "9. as.vector(as(x, \"matrix\"), mode)",
      "10. as(x, \"matrix\")",
      "11. asMethod(object)"
     ]
    }
   ],
   "source": [
    "# spatial hausman \n",
    "spatialhausman <- sphtest(x = fm, data = mydata.df,index = c(\"intersection_id\",\"quarter_year\"), listw = myshp_nb_w, spatial.model = \"error\", method = \"GM\")\n",
    "spatialhausman\n"
   ]
  },
  {
   "cell_type": "code",
   "execution_count": 49,
   "metadata": {},
   "outputs": [
    {
     "ename": "ERROR",
     "evalue": "Error: cannot allocate vector of size 785.4 Gb\n",
     "output_type": "error",
     "traceback": [
      "Error: cannot allocate vector of size 785.4 Gb\nTraceback:\n",
      "1. spgm(formula = fm, data = mydata.df, index = c(\"intersection_id\", \n .     \"quarter_year\"), listw = myshp_nb_w, lag = TRUE, moments = \"fullweights\", \n .     model = \"random\", spatial.error = TRUE)",
      "2. spsarargm(formula = formula, data = data, index = index, listw = listw, \n .     listw2 = listw2, moments = moments, lag = lag, endog = endog, \n .     instruments = instruments, verbose = verbose, effects = effects, \n .     control = control, lag.instruments = lag.instruments, optim.method = optim.method, \n .     pars = pars, twow = twow)",
      "3. fswithin(Ws2, res1, N, T)",
      "4. as.vector(listw)",
      "5. as.vector(x, mode)",
      "6. as.vector(x, mode)",
      "7. as.vector(as(x, \"matrix\"), mode)",
      "8. as(x, \"matrix\")",
      "9. asMethod(object)"
     ]
    }
   ],
   "source": [
    "mod1 <- spgm(formula = fm, data = mydata.df, index = c(\"intersection_id\",\"quarter_year\"), listw = myshp_nb_w, lag = TRUE, moments = \"fullweights\", model = \"random\", spatial.error = TRUE)\n",
    "mod2 <- spgm(formula = fm, data = mydata.df, index = c(\"intersection_id\",\"quarter_year\"), listw = myshp_nb_w, lag = TRUE, model = \"within\", spatial.error = TRUE)\n",
    "test2 <- sphtest(x = mod1, x2 = mod2)\n",
    "test2"
   ]
  },
  {
   "cell_type": "code",
   "execution_count": 50,
   "metadata": {},
   "outputs": [
    {
     "data": {
      "text/html": [
       "65212"
      ],
      "text/latex": [
       "65212"
      ],
      "text/markdown": [
       "65212"
      ],
      "text/plain": [
       "[1] 65212"
      ]
     },
     "metadata": {},
     "output_type": "display_data"
    }
   ],
   "source": [
    "memory.limit()"
   ]
  }
 ],
 "metadata": {
  "kernelspec": {
   "display_name": "R",
   "language": "R",
   "name": "ir"
  },
  "language_info": {
   "codemirror_mode": "r",
   "file_extension": ".r",
   "mimetype": "text/x-r-source",
   "name": "R",
   "pygments_lexer": "r",
   "version": "3.5.1"
  }
 },
 "nbformat": 4,
 "nbformat_minor": 2
}
