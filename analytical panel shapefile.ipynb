{
 "cells": [
  {
   "cell_type": "code",
   "execution_count": 23,
   "metadata": {},
   "outputs": [],
   "source": [
    "import matplotlib.pyplot as plt\n",
    "import geopandas as gpd\n",
    "import pandas as pd\n",
    "import shapely as shy\n",
    "from shapely.ops import nearest_points\n",
    "from shapely.geometry import Point, MultiPoint\n",
    "import fiona\n",
    "from fiona.crs import from_epsg\n",
    "from scipy.spatial import cKDTree\n",
    "import numpy as np\n",
    "import osmnx as ox\n",
    "\n",
    "pd.options.display.max_rows = 4\n",
    "%matplotlib inline\n",
    "import os\n",
    "os.environ[\"PROJ_LIB\"] = \"C:\\ProgramData\\Anaconda3\\Library\\share\" #window"
   ]
  },
  {
   "cell_type": "code",
   "execution_count": 7,
   "metadata": {},
   "outputs": [
    {
     "name": "stdout",
     "output_type": "stream",
     "text": [
      "C:\\Users\\szej01\n"
     ]
    }
   ],
   "source": [
    "cd"
   ]
  },
  {
   "cell_type": "code",
   "execution_count": 8,
   "metadata": {},
   "outputs": [],
   "source": [
    "fp = r\"D:\\Box Sync\\Policy Evaluation\\working_data\\analytical_file_panel.dta\"\n",
    "df = pd.read_stata(fp)"
   ]
  },
  {
   "cell_type": "code",
   "execution_count": 9,
   "metadata": {
    "scrolled": true
   },
   "outputs": [
    {
     "data": {
      "text/html": [
       "<div>\n",
       "<style scoped>\n",
       "    .dataframe tbody tr th:only-of-type {\n",
       "        vertical-align: middle;\n",
       "    }\n",
       "\n",
       "    .dataframe tbody tr th {\n",
       "        vertical-align: top;\n",
       "    }\n",
       "\n",
       "    .dataframe thead th {\n",
       "        text-align: right;\n",
       "    }\n",
       "</style>\n",
       "<table border=\"1\" class=\"dataframe\">\n",
       "  <thead>\n",
       "    <tr style=\"text-align: right;\">\n",
       "      <th></th>\n",
       "      <th>intersection_id</th>\n",
       "      <th>month</th>\n",
       "      <th>year</th>\n",
       "      <th>monthly</th>\n",
       "      <th>index</th>\n",
       "      <th>ST1_Name</th>\n",
       "      <th>ST2_Name</th>\n",
       "      <th>ST3_Name</th>\n",
       "      <th>ST4_Name</th>\n",
       "      <th>distance_to_LPIS</th>\n",
       "      <th>...</th>\n",
       "      <th>day_cyclistinjured</th>\n",
       "      <th>day_cyclistkilled</th>\n",
       "      <th>day_motoristinjured</th>\n",
       "      <th>day_motoristkilled</th>\n",
       "      <th>flag_collision</th>\n",
       "      <th>latenight_flag_collision</th>\n",
       "      <th>day_flag_collision</th>\n",
       "      <th>coordinate1</th>\n",
       "      <th>coordinate2</th>\n",
       "      <th>coordinate3</th>\n",
       "    </tr>\n",
       "  </thead>\n",
       "  <tbody>\n",
       "    <tr>\n",
       "      <th>0</th>\n",
       "      <td>1</td>\n",
       "      <td>7</td>\n",
       "      <td>2012</td>\n",
       "      <td>2012-07-01</td>\n",
       "      <td>1</td>\n",
       "      <td>AVENUE OF THE AMERICAS</td>\n",
       "      <td>LAIGHT STREET</td>\n",
       "      <td>CANAL STREET</td>\n",
       "      <td>None</td>\n",
       "      <td>592</td>\n",
       "      <td>...</td>\n",
       "      <td>0</td>\n",
       "      <td>0</td>\n",
       "      <td>0</td>\n",
       "      <td>0</td>\n",
       "      <td>0.0</td>\n",
       "      <td>0.0</td>\n",
       "      <td>0.0</td>\n",
       "      <td>POINT</td>\n",
       "      <td>982769.331</td>\n",
       "      <td>202206.1619</td>\n",
       "    </tr>\n",
       "    <tr>\n",
       "      <th>1</th>\n",
       "      <td>1</td>\n",
       "      <td>8</td>\n",
       "      <td>2012</td>\n",
       "      <td>2012-08-01</td>\n",
       "      <td>1</td>\n",
       "      <td>AVENUE OF THE AMERICAS</td>\n",
       "      <td>LAIGHT STREET</td>\n",
       "      <td>CANAL STREET</td>\n",
       "      <td>None</td>\n",
       "      <td>592</td>\n",
       "      <td>...</td>\n",
       "      <td>0</td>\n",
       "      <td>0</td>\n",
       "      <td>0</td>\n",
       "      <td>0</td>\n",
       "      <td>0.0</td>\n",
       "      <td>0.0</td>\n",
       "      <td>0.0</td>\n",
       "      <td>POINT</td>\n",
       "      <td>982769.331</td>\n",
       "      <td>202206.1619</td>\n",
       "    </tr>\n",
       "  </tbody>\n",
       "</table>\n",
       "<p>2 rows × 150 columns</p>\n",
       "</div>"
      ],
      "text/plain": [
       "   intersection_id  month  year    monthly  index                ST1_Name  \\\n",
       "0                1      7  2012 2012-07-01      1  AVENUE OF THE AMERICAS   \n",
       "1                1      8  2012 2012-08-01      1  AVENUE OF THE AMERICAS   \n",
       "\n",
       "        ST2_Name      ST3_Name ST4_Name  distance_to_LPIS     ...       \\\n",
       "0  LAIGHT STREET  CANAL STREET     None               592     ...        \n",
       "1  LAIGHT STREET  CANAL STREET     None               592     ...        \n",
       "\n",
       "   day_cyclistinjured  day_cyclistkilled  day_motoristinjured  \\\n",
       "0                   0                  0                    0   \n",
       "1                   0                  0                    0   \n",
       "\n",
       "   day_motoristkilled  flag_collision  latenight_flag_collision  \\\n",
       "0                   0             0.0                       0.0   \n",
       "1                   0             0.0                       0.0   \n",
       "\n",
       "   day_flag_collision  coordinate1  coordinate2  coordinate3  \n",
       "0                 0.0        POINT   982769.331  202206.1619  \n",
       "1                 0.0        POINT   982769.331  202206.1619  \n",
       "\n",
       "[2 rows x 150 columns]"
      ]
     },
     "execution_count": 9,
     "metadata": {},
     "output_type": "execute_result"
    }
   ],
   "source": [
    "df.head(2)"
   ]
  },
  {
   "cell_type": "code",
   "execution_count": 10,
   "metadata": {},
   "outputs": [
    {
     "data": {
      "text/plain": [
       "Index(['intersection_id', 'month', 'year', 'monthly', 'index', 'ST1_Name',\n",
       "       'ST2_Name', 'ST3_Name', 'ST4_Name', 'distance_to_LPIS',\n",
       "       ...\n",
       "       'day_cyclistinjured', 'day_cyclistkilled', 'day_motoristinjured',\n",
       "       'day_motoristkilled', 'flag_collision', 'latenight_flag_collision',\n",
       "       'day_flag_collision', 'coordinate1', 'coordinate2', 'coordinate3'],\n",
       "      dtype='object', length=150)"
      ]
     },
     "execution_count": 10,
     "metadata": {},
     "output_type": "execute_result"
    }
   ],
   "source": [
    "df.columns"
   ]
  },
  {
   "cell_type": "code",
   "execution_count": 11,
   "metadata": {},
   "outputs": [
    {
     "data": {
      "text/html": [
       "<div>\n",
       "<style scoped>\n",
       "    .dataframe tbody tr th:only-of-type {\n",
       "        vertical-align: middle;\n",
       "    }\n",
       "\n",
       "    .dataframe tbody tr th {\n",
       "        vertical-align: top;\n",
       "    }\n",
       "\n",
       "    .dataframe thead th {\n",
       "        text-align: right;\n",
       "    }\n",
       "</style>\n",
       "<table border=\"1\" class=\"dataframe\">\n",
       "  <thead>\n",
       "    <tr style=\"text-align: right;\">\n",
       "      <th></th>\n",
       "      <th>intersection_id</th>\n",
       "      <th>month</th>\n",
       "      <th>year</th>\n",
       "      <th>monthly</th>\n",
       "      <th>index</th>\n",
       "      <th>ST1_Name</th>\n",
       "      <th>ST2_Name</th>\n",
       "      <th>ST3_Name</th>\n",
       "      <th>ST4_Name</th>\n",
       "      <th>distance_to_LPIS</th>\n",
       "      <th>...</th>\n",
       "      <th>day_cyclistkilled</th>\n",
       "      <th>day_motoristinjured</th>\n",
       "      <th>day_motoristkilled</th>\n",
       "      <th>flag_collision</th>\n",
       "      <th>latenight_flag_collision</th>\n",
       "      <th>day_flag_collision</th>\n",
       "      <th>coordinate1</th>\n",
       "      <th>coordinate2</th>\n",
       "      <th>coordinate3</th>\n",
       "      <th>geometry</th>\n",
       "    </tr>\n",
       "  </thead>\n",
       "  <tbody>\n",
       "    <tr>\n",
       "      <th>0</th>\n",
       "      <td>1</td>\n",
       "      <td>7</td>\n",
       "      <td>2012</td>\n",
       "      <td>2012-07-01</td>\n",
       "      <td>1</td>\n",
       "      <td>AVENUE OF THE AMERICAS</td>\n",
       "      <td>LAIGHT STREET</td>\n",
       "      <td>CANAL STREET</td>\n",
       "      <td>None</td>\n",
       "      <td>592</td>\n",
       "      <td>...</td>\n",
       "      <td>0</td>\n",
       "      <td>0</td>\n",
       "      <td>0</td>\n",
       "      <td>0.0</td>\n",
       "      <td>0.0</td>\n",
       "      <td>0.0</td>\n",
       "      <td>POINT</td>\n",
       "      <td>982769.331</td>\n",
       "      <td>202206.1619</td>\n",
       "      <td>(982769.3310000002, 202206.1618999988)</td>\n",
       "    </tr>\n",
       "    <tr>\n",
       "      <th>1</th>\n",
       "      <td>1</td>\n",
       "      <td>8</td>\n",
       "      <td>2012</td>\n",
       "      <td>2012-08-01</td>\n",
       "      <td>1</td>\n",
       "      <td>AVENUE OF THE AMERICAS</td>\n",
       "      <td>LAIGHT STREET</td>\n",
       "      <td>CANAL STREET</td>\n",
       "      <td>None</td>\n",
       "      <td>592</td>\n",
       "      <td>...</td>\n",
       "      <td>0</td>\n",
       "      <td>0</td>\n",
       "      <td>0</td>\n",
       "      <td>0.0</td>\n",
       "      <td>0.0</td>\n",
       "      <td>0.0</td>\n",
       "      <td>POINT</td>\n",
       "      <td>982769.331</td>\n",
       "      <td>202206.1619</td>\n",
       "      <td>(982769.3310000002, 202206.1618999988)</td>\n",
       "    </tr>\n",
       "  </tbody>\n",
       "</table>\n",
       "<p>2 rows × 151 columns</p>\n",
       "</div>"
      ],
      "text/plain": [
       "   intersection_id  month  year    monthly  index                ST1_Name  \\\n",
       "0                1      7  2012 2012-07-01      1  AVENUE OF THE AMERICAS   \n",
       "1                1      8  2012 2012-08-01      1  AVENUE OF THE AMERICAS   \n",
       "\n",
       "        ST2_Name      ST3_Name ST4_Name  distance_to_LPIS  \\\n",
       "0  LAIGHT STREET  CANAL STREET     None               592   \n",
       "1  LAIGHT STREET  CANAL STREET     None               592   \n",
       "\n",
       "                    ...                    day_cyclistkilled  \\\n",
       "0                   ...                                    0   \n",
       "1                   ...                                    0   \n",
       "\n",
       "   day_motoristinjured  day_motoristkilled  flag_collision  \\\n",
       "0                    0                   0             0.0   \n",
       "1                    0                   0             0.0   \n",
       "\n",
       "   latenight_flag_collision  day_flag_collision  coordinate1  coordinate2  \\\n",
       "0                       0.0                 0.0        POINT   982769.331   \n",
       "1                       0.0                 0.0        POINT   982769.331   \n",
       "\n",
       "   coordinate3                                geometry  \n",
       "0  202206.1619  (982769.3310000002, 202206.1618999988)  \n",
       "1  202206.1619  (982769.3310000002, 202206.1618999988)  \n",
       "\n",
       "[2 rows x 151 columns]"
      ]
     },
     "execution_count": 11,
     "metadata": {},
     "output_type": "execute_result"
    }
   ],
   "source": [
    "# Put the latitude and longtitude \n",
    "df['geometry'] = list(zip(df.coordinate2, df.coordinate3))\n",
    "df.head(2)"
   ]
  },
  {
   "cell_type": "code",
   "execution_count": 12,
   "metadata": {},
   "outputs": [
    {
     "data": {
      "text/html": [
       "<div>\n",
       "<style scoped>\n",
       "    .dataframe tbody tr th:only-of-type {\n",
       "        vertical-align: middle;\n",
       "    }\n",
       "\n",
       "    .dataframe tbody tr th {\n",
       "        vertical-align: top;\n",
       "    }\n",
       "\n",
       "    .dataframe thead th {\n",
       "        text-align: right;\n",
       "    }\n",
       "</style>\n",
       "<table border=\"1\" class=\"dataframe\">\n",
       "  <thead>\n",
       "    <tr style=\"text-align: right;\">\n",
       "      <th></th>\n",
       "      <th>intersection_id</th>\n",
       "      <th>month</th>\n",
       "      <th>year</th>\n",
       "      <th>monthly</th>\n",
       "      <th>index</th>\n",
       "      <th>ST1_Name</th>\n",
       "      <th>ST2_Name</th>\n",
       "      <th>ST3_Name</th>\n",
       "      <th>ST4_Name</th>\n",
       "      <th>distance_to_LPIS</th>\n",
       "      <th>...</th>\n",
       "      <th>day_cyclistkilled</th>\n",
       "      <th>day_motoristinjured</th>\n",
       "      <th>day_motoristkilled</th>\n",
       "      <th>flag_collision</th>\n",
       "      <th>latenight_flag_collision</th>\n",
       "      <th>day_flag_collision</th>\n",
       "      <th>coordinate1</th>\n",
       "      <th>coordinate2</th>\n",
       "      <th>coordinate3</th>\n",
       "      <th>geometry</th>\n",
       "    </tr>\n",
       "  </thead>\n",
       "  <tbody>\n",
       "    <tr>\n",
       "      <th>0</th>\n",
       "      <td>1</td>\n",
       "      <td>7</td>\n",
       "      <td>2012</td>\n",
       "      <td>2012-07-01</td>\n",
       "      <td>1</td>\n",
       "      <td>AVENUE OF THE AMERICAS</td>\n",
       "      <td>LAIGHT STREET</td>\n",
       "      <td>CANAL STREET</td>\n",
       "      <td>None</td>\n",
       "      <td>592</td>\n",
       "      <td>...</td>\n",
       "      <td>0</td>\n",
       "      <td>0</td>\n",
       "      <td>0</td>\n",
       "      <td>0.0</td>\n",
       "      <td>0.0</td>\n",
       "      <td>0.0</td>\n",
       "      <td>POINT</td>\n",
       "      <td>982769.331</td>\n",
       "      <td>202206.1619</td>\n",
       "      <td>POINT (982769.3310000002 202206.1618999988)</td>\n",
       "    </tr>\n",
       "    <tr>\n",
       "      <th>1</th>\n",
       "      <td>1</td>\n",
       "      <td>8</td>\n",
       "      <td>2012</td>\n",
       "      <td>2012-08-01</td>\n",
       "      <td>1</td>\n",
       "      <td>AVENUE OF THE AMERICAS</td>\n",
       "      <td>LAIGHT STREET</td>\n",
       "      <td>CANAL STREET</td>\n",
       "      <td>None</td>\n",
       "      <td>592</td>\n",
       "      <td>...</td>\n",
       "      <td>0</td>\n",
       "      <td>0</td>\n",
       "      <td>0</td>\n",
       "      <td>0.0</td>\n",
       "      <td>0.0</td>\n",
       "      <td>0.0</td>\n",
       "      <td>POINT</td>\n",
       "      <td>982769.331</td>\n",
       "      <td>202206.1619</td>\n",
       "      <td>POINT (982769.3310000002 202206.1618999988)</td>\n",
       "    </tr>\n",
       "  </tbody>\n",
       "</table>\n",
       "<p>2 rows × 151 columns</p>\n",
       "</div>"
      ],
      "text/plain": [
       "   intersection_id  month  year    monthly  index                ST1_Name  \\\n",
       "0                1      7  2012 2012-07-01      1  AVENUE OF THE AMERICAS   \n",
       "1                1      8  2012 2012-08-01      1  AVENUE OF THE AMERICAS   \n",
       "\n",
       "        ST2_Name      ST3_Name ST4_Name  distance_to_LPIS  \\\n",
       "0  LAIGHT STREET  CANAL STREET     None               592   \n",
       "1  LAIGHT STREET  CANAL STREET     None               592   \n",
       "\n",
       "                      ...                       day_cyclistkilled  \\\n",
       "0                     ...                                       0   \n",
       "1                     ...                                       0   \n",
       "\n",
       "   day_motoristinjured  day_motoristkilled  flag_collision  \\\n",
       "0                    0                   0             0.0   \n",
       "1                    0                   0             0.0   \n",
       "\n",
       "   latenight_flag_collision  day_flag_collision  coordinate1  coordinate2  \\\n",
       "0                       0.0                 0.0        POINT   982769.331   \n",
       "1                       0.0                 0.0        POINT   982769.331   \n",
       "\n",
       "   coordinate3                                     geometry  \n",
       "0  202206.1619  POINT (982769.3310000002 202206.1618999988)  \n",
       "1  202206.1619  POINT (982769.3310000002 202206.1618999988)  \n",
       "\n",
       "[2 rows x 151 columns]"
      ]
     },
     "execution_count": 12,
     "metadata": {},
     "output_type": "execute_result"
    }
   ],
   "source": [
    "df['geometry'] = df['geometry'].apply(Point)\n",
    "df.head(2)"
   ]
  },
  {
   "cell_type": "code",
   "execution_count": 13,
   "metadata": {},
   "outputs": [
    {
     "data": {
      "text/html": [
       "<div>\n",
       "<style scoped>\n",
       "    .dataframe tbody tr th:only-of-type {\n",
       "        vertical-align: middle;\n",
       "    }\n",
       "\n",
       "    .dataframe tbody tr th {\n",
       "        vertical-align: top;\n",
       "    }\n",
       "\n",
       "    .dataframe thead th {\n",
       "        text-align: right;\n",
       "    }\n",
       "</style>\n",
       "<table border=\"1\" class=\"dataframe\">\n",
       "  <thead>\n",
       "    <tr style=\"text-align: right;\">\n",
       "      <th></th>\n",
       "      <th>intersection_id</th>\n",
       "      <th>month</th>\n",
       "      <th>year</th>\n",
       "      <th>monthly</th>\n",
       "      <th>index</th>\n",
       "      <th>ST1_Name</th>\n",
       "      <th>ST2_Name</th>\n",
       "      <th>ST3_Name</th>\n",
       "      <th>ST4_Name</th>\n",
       "      <th>distance_to_LPIS</th>\n",
       "      <th>...</th>\n",
       "      <th>day_cyclistkilled</th>\n",
       "      <th>day_motoristinjured</th>\n",
       "      <th>day_motoristkilled</th>\n",
       "      <th>flag_collision</th>\n",
       "      <th>latenight_flag_collision</th>\n",
       "      <th>day_flag_collision</th>\n",
       "      <th>coordinate1</th>\n",
       "      <th>coordinate2</th>\n",
       "      <th>coordinate3</th>\n",
       "      <th>geometry</th>\n",
       "    </tr>\n",
       "  </thead>\n",
       "  <tbody>\n",
       "    <tr>\n",
       "      <th>0</th>\n",
       "      <td>1</td>\n",
       "      <td>7</td>\n",
       "      <td>2012</td>\n",
       "      <td>2012-07-01</td>\n",
       "      <td>1</td>\n",
       "      <td>AVENUE OF THE AMERICAS</td>\n",
       "      <td>LAIGHT STREET</td>\n",
       "      <td>CANAL STREET</td>\n",
       "      <td>None</td>\n",
       "      <td>592</td>\n",
       "      <td>...</td>\n",
       "      <td>0</td>\n",
       "      <td>0</td>\n",
       "      <td>0</td>\n",
       "      <td>0.0</td>\n",
       "      <td>0.0</td>\n",
       "      <td>0.0</td>\n",
       "      <td>POINT</td>\n",
       "      <td>982769.331</td>\n",
       "      <td>202206.1619</td>\n",
       "      <td>POINT (982769.3310000002 202206.1618999988)</td>\n",
       "    </tr>\n",
       "    <tr>\n",
       "      <th>1</th>\n",
       "      <td>1</td>\n",
       "      <td>8</td>\n",
       "      <td>2012</td>\n",
       "      <td>2012-08-01</td>\n",
       "      <td>1</td>\n",
       "      <td>AVENUE OF THE AMERICAS</td>\n",
       "      <td>LAIGHT STREET</td>\n",
       "      <td>CANAL STREET</td>\n",
       "      <td>None</td>\n",
       "      <td>592</td>\n",
       "      <td>...</td>\n",
       "      <td>0</td>\n",
       "      <td>0</td>\n",
       "      <td>0</td>\n",
       "      <td>0.0</td>\n",
       "      <td>0.0</td>\n",
       "      <td>0.0</td>\n",
       "      <td>POINT</td>\n",
       "      <td>982769.331</td>\n",
       "      <td>202206.1619</td>\n",
       "      <td>POINT (982769.3310000002 202206.1618999988)</td>\n",
       "    </tr>\n",
       "  </tbody>\n",
       "</table>\n",
       "<p>2 rows × 151 columns</p>\n",
       "</div>"
      ],
      "text/plain": [
       "   intersection_id  month  year    monthly  index                ST1_Name  \\\n",
       "0                1      7  2012 2012-07-01      1  AVENUE OF THE AMERICAS   \n",
       "1                1      8  2012 2012-08-01      1  AVENUE OF THE AMERICAS   \n",
       "\n",
       "        ST2_Name      ST3_Name ST4_Name  distance_to_LPIS  \\\n",
       "0  LAIGHT STREET  CANAL STREET     None               592   \n",
       "1  LAIGHT STREET  CANAL STREET     None               592   \n",
       "\n",
       "                      ...                       day_cyclistkilled  \\\n",
       "0                     ...                                       0   \n",
       "1                     ...                                       0   \n",
       "\n",
       "   day_motoristinjured  day_motoristkilled  flag_collision  \\\n",
       "0                    0                   0             0.0   \n",
       "1                    0                   0             0.0   \n",
       "\n",
       "   latenight_flag_collision  day_flag_collision  coordinate1  coordinate2  \\\n",
       "0                       0.0                 0.0        POINT   982769.331   \n",
       "1                       0.0                 0.0        POINT   982769.331   \n",
       "\n",
       "   coordinate3                                     geometry  \n",
       "0  202206.1619  POINT (982769.3310000002 202206.1618999988)  \n",
       "1  202206.1619  POINT (982769.3310000002 202206.1618999988)  \n",
       "\n",
       "[2 rows x 151 columns]"
      ]
     },
     "execution_count": 13,
     "metadata": {},
     "output_type": "execute_result"
    }
   ],
   "source": [
    "df1 = gpd.GeoDataFrame(df, geometry='geometry')\n",
    "df1.head(2)"
   ]
  },
  {
   "cell_type": "code",
   "execution_count": 14,
   "metadata": {},
   "outputs": [],
   "source": [
    "#df1.crs = {'init' :'epsg:2263'}\n",
    "df1.crs = from_epsg(2263)"
   ]
  },
  {
   "cell_type": "code",
   "execution_count": 15,
   "metadata": {},
   "outputs": [
    {
     "data": {
      "text/plain": [
       "{'init': 'epsg:2263', 'no_defs': True}"
      ]
     },
     "execution_count": 15,
     "metadata": {},
     "output_type": "execute_result"
    }
   ],
   "source": [
    "df1.crs"
   ]
  },
  {
   "cell_type": "code",
   "execution_count": 16,
   "metadata": {},
   "outputs": [
    {
     "data": {
      "text/plain": [
       "<matplotlib.axes._subplots.AxesSubplot at 0x17c4e3833c8>"
      ]
     },
     "execution_count": 16,
     "metadata": {},
     "output_type": "execute_result"
    },
    {
     "data": {
      "image/png": "[encoded data removed]",
      "text/plain": [
       "<Figure size 432x288 with 1 Axes>"
      ]
     },
     "metadata": {},
     "output_type": "display_data"
    }
   ],
   "source": [
    "df1.plot()"
   ]
  },
  {
   "cell_type": "markdown",
   "metadata": {},
   "source": [
    "## Saving the analytical panel dataset as a shapefile\n",
    "The shapefile is needed to calculate the contiguity matrix in stata"
   ]
  },
  {
   "cell_type": "code",
   "execution_count": 17,
   "metadata": {},
   "outputs": [
    {
     "data": {
      "text/plain": [
       "geopandas.geodataframe.GeoDataFrame"
      ]
     },
     "execution_count": 17,
     "metadata": {},
     "output_type": "execute_result"
    }
   ],
   "source": [
    "type(df1)"
   ]
  },
  {
   "cell_type": "code",
   "execution_count": 18,
   "metadata": {},
   "outputs": [
    {
     "data": {
      "text/plain": [
       "0    POINT (982769.3310000002 202206.1618999988)\n",
       "1    POINT (982769.3310000002 202206.1618999988)\n",
       "                        ...                     \n",
       "3    POINT (982769.3310000002 202206.1618999988)\n",
       "4    POINT (982769.3310000002 202206.1618999988)\n",
       "Name: geometry, Length: 5, dtype: object"
      ]
     },
     "execution_count": 18,
     "metadata": {},
     "output_type": "execute_result"
    }
   ],
   "source": [
    "df1['geometry'].head()"
   ]
  },
  {
   "cell_type": "markdown",
   "metadata": {},
   "source": [
    "## Not sure why I am unable to save as shapefile\n",
    "in the meantime, I'm saving into csv to read into QGIS to save as shapefile"
   ]
  },
  {
   "cell_type": "code",
   "execution_count": 20,
   "metadata": {},
   "outputs": [],
   "source": [
    "fp =  r\"C:\\Users\\jerem\\Box Sync\\Policy Evaluation\\working_data\\analytical_panel_shapefile\\analytical_panel_shapefile.csv\"\n",
    "#df1.to_csv(fp, encoding='utf-8')"
   ]
  },
  {
   "cell_type": "code",
   "execution_count": 27,
   "metadata": {},
   "outputs": [
    {
     "data": {
      "text/plain": [
       "{'AeronavFAA': 'r',\n",
       " 'ARCGEN': 'r',\n",
       " 'BNA': 'raw',\n",
       " 'DXF': 'raw',\n",
       " 'OpenFileGDB': 'r',\n",
       " 'ESRI Shapefile': 'raw',\n",
       " 'GeoJSON': 'rw',\n",
       " 'GPKG': 'rw',\n",
       " 'GPX': 'raw',\n",
       " 'GPSTrackMaker': 'raw',\n",
       " 'Idrisi': 'r',\n",
       " 'MapInfo File': 'raw',\n",
       " 'DGN': 'raw',\n",
       " 'PCIDSK': 'r',\n",
       " 'SEGY': 'r',\n",
       " 'SUA': 'r'}"
      ]
     },
     "execution_count": 27,
     "metadata": {},
     "output_type": "execute_result"
    }
   ],
   "source": [
    "fiona.supported_drivers"
   ]
  },
  {
   "cell_type": "code",
   "execution_count": 37,
   "metadata": {},
   "outputs": [],
   "source": [
    "save_out = df1[['intersection_id','month','year','index','geometry']]"
   ]
  },
  {
   "cell_type": "code",
   "execution_count": 38,
   "metadata": {},
   "outputs": [],
   "source": [
    "fp =  r\"C:\\Users\\jerem\\Box Sync\\Policy Evaluation\\working_data\\analytical_panel_shapefile\\new_analytical_panel_shapefile\"\n",
    "save_out.to_file(r\"D:\\Box Sync\\Policy Evaluation\\working_data\\analytical_panel_shapefile\\new_analytical_panel_shapefile.shp\")"
   ]
  },
  {
   "cell_type": "code",
   "execution_count": null,
   "metadata": {},
   "outputs": [],
   "source": []
  },
  {
   "cell_type": "code",
   "execution_count": null,
   "metadata": {},
   "outputs": [],
   "source": []
  }
 ],
 "metadata": {
  "kernelspec": {
   "display_name": "Python 3",
   "language": "python",
   "name": "python3"
  },
  "language_info": {
   "codemirror_mode": {
    "name": "ipython",
    "version": 3
   },
   "file_extension": ".py",
   "mimetype": "text/x-python",
   "name": "python",
   "nbconvert_exporter": "python",
   "pygments_lexer": "ipython3",
   "version": "3.6.5"
  }
 },
 "nbformat": 4,
 "nbformat_minor": 2
}
