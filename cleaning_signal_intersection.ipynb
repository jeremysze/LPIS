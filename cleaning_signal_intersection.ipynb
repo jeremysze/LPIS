{
 "cells": [
  {
   "cell_type": "code",
   "execution_count": 2,
   "metadata": {},
   "outputs": [
    {
     "name": "stdout",
     "output_type": "stream",
     "text": [
      "D:\\Box Sync\\Policy Evaluation\\input_data\\DOT_traffic_signals_Oct_2018\n"
     ]
    }
   ],
   "source": [
    "cd \"..\\input_data\\DOT_traffic_signals_Oct_2018\\\""
   ]
  },
  {
   "cell_type": "code",
   "execution_count": 3,
   "metadata": {},
   "outputs": [
    {
     "name": "stdout",
     "output_type": "stream",
     "text": [
      "(6 vars, 13,278 obs)\n"
     ]
    }
   ],
   "source": [
    "import delimited using \"signal_controllers.csv\",clear stringcols(_all)"
   ]
  },
  {
   "cell_type": "code",
   "execution_count": 4,
   "metadata": {},
   "outputs": [
    {
     "name": "stdout",
     "output_type": "stream",
     "text": [
      "\n",
      "\n",
      "Duplicates in terms of y x\n",
      "\n",
      "\n",
      "        dup |      Freq.     Percent        Cum.\n",
      "------------+-----------------------------------\n",
      "          0 |     13,156       99.08       99.08\n",
      "          1 |        112        0.84       99.92\n",
      "          2 |          3        0.02       99.95\n",
      "          6 |          7        0.05      100.00\n",
      "------------+-----------------------------------\n",
      "      Total |     13,278      100.00\n",
      "\n",
      "\n",
      "Duplicates in terms of y x\n",
      "\n",
      "(64 observations deleted)\n"
     ]
    }
   ],
   "source": [
    "duplicates tag y x, gen(dup)\n",
    "tab dup\n",
    "duplicates drop y x, force"
   ]
  },
  {
   "cell_type": "code",
   "execution_count": 5,
   "metadata": {},
   "outputs": [],
   "source": [
    "gen intersection_id = _n, before(y)"
   ]
  },
  {
   "cell_type": "code",
   "execution_count": 6,
   "metadata": {},
   "outputs": [
    {
     "name": "stdout",
     "output_type": "stream",
     "text": [
      "(1 observation deleted)\n"
     ]
    }
   ],
   "source": [
    "// Nonsensical coordinates\n",
    "drop if intersection_id ==  2799"
   ]
  },
  {
   "cell_type": "code",
   "execution_count": 7,
   "metadata": {},
   "outputs": [
    {
     "name": "stdout",
     "output_type": "stream",
     "text": [
      "file signal_controllers_clean.dta saved\n"
     ]
    }
   ],
   "source": [
    "save \"signal_controllers_clean.dta\", replace"
   ]
  },
  {
   "cell_type": "code",
   "execution_count": null,
   "metadata": {},
   "outputs": [],
   "source": []
  }
 ],
 "metadata": {
  "kernelspec": {
   "display_name": "Stata",
   "language": "stata",
   "name": "stata"
  },
  "language_info": {
   "file_extension": ".do",
   "mimetype": "text/x-stata",
   "name": "stata"
  }
 },
 "nbformat": 4,
 "nbformat_minor": 2
}
