{
 "cells": [
  {
   "cell_type": "markdown",
   "metadata": {},
   "source": [
    "## Nearest neighbor searches on geodataframes with cKDTree and RTree\n",
    "\n",
    "When searching for nearest neighbors one can achieve tremendous speedups with a method that works on a spatial index.  Geopandas makes it easy to create a spatial index using RTree but there is in fact a faster method available using Scipy's cKDTree which can be vectorized."
   ]
  },
  {
   "cell_type": "code",
   "execution_count": 1,
   "metadata": {},
   "outputs": [],
   "source": [
    "import numpy as np\n",
    "import matplotlib.pyplot as plt\n",
    "from scipy.spatial import cKDTree\n",
    "import geopandas as gpd\n",
    "import pandas as pd\n",
    "from shapely.geometry import Point\n",
    "import random"
   ]
  },
  {
   "cell_type": "markdown",
   "metadata": {},
   "source": [
    "## cKDTree"
   ]
  },
  {
   "cell_type": "markdown",
   "metadata": {},
   "source": [
    "In the practical application described later we load two geodataframes. One labeled the `schools` gdf contains locations and column data on all 1822 schools in NYC and the another gdf `lpis` holds locations and data on 3019 street intersections with Leading Pedestrian Interval Signals (lpis).  We want to find the nearest school to each of the 3019 lpis intersections."
   ]
  },
  {
   "cell_type": "markdown",
   "metadata": {},
   "source": [
    "### Demo with simulated data"
   ]
  },
  {
   "cell_type": "markdown",
   "metadata": {},
   "source": [
    "First a small simulated example with N=50 to illustrate and visualize what's going on.  The `cKDTree` method reads locations as numpy arrays. We'll use `nschools` and `nlpis` names to play along with the example. \n",
    "\n",
    "Rather than longitude and latitude we just use cartesian coordinates in (0,2000)X(0,2000) space. We'll create two arrays with 50 locations each."
   ]
  },
  {
   "cell_type": "code",
   "execution_count": 2,
   "metadata": {},
   "outputs": [],
   "source": [
    "N = 50\n",
    "nschools = np.random.uniform(0., 2000., (N, 2))  "
   ]
  },
  {
   "cell_type": "markdown",
   "metadata": {},
   "source": [
    "Suppose that we want to find the K nearest neighbors to a specific LPIS intersection (we illustrate by choosing one more or less in middle of the 'map')"
   ]
  },
  {
   "cell_type": "code",
   "execution_count": 3,
   "metadata": {},
   "outputs": [],
   "source": [
    "lpispoint = np.array([1000,1000])"
   ]
  },
  {
   "cell_type": "markdown",
   "metadata": {},
   "source": [
    "**Build the cKDTree spatial index**"
   ]
  },
  {
   "cell_type": "code",
   "execution_count": 4,
   "metadata": {},
   "outputs": [],
   "source": [
    "tree = cKDTree(nschools)"
   ]
  },
  {
   "cell_type": "markdown",
   "metadata": {},
   "source": [
    "A query to the tree returns the k nearest neighbors to lpispoint.  The query returns two arrays, the first with distances and the second with index positions. "
   ]
  },
  {
   "cell_type": "code",
   "execution_count": 5,
   "metadata": {},
   "outputs": [
    {
     "data": {
      "text/plain": [
       "(array([113.16525307, 132.24189913, 185.59781908, 241.4231384 ]),\n",
       " array([18, 28,  7, 38]))"
      ]
     },
     "execution_count": 5,
     "metadata": {},
     "output_type": "execute_result"
    }
   ],
   "source": [
    "K = 4\n",
    "dist, idx = tree.query(lpispoint, k=K)\n",
    "dist, idx"
   ]
  },
  {
   "cell_type": "markdown",
   "metadata": {},
   "source": [
    "This returns the distance to the nearest neighbor as well as the index position in the tree/array. We can then retrieve the nearest school location to lpispoint using the returned index positions."
   ]
  },
  {
   "cell_type": "code",
   "execution_count": 6,
   "metadata": {},
   "outputs": [
    {
     "data": {
      "text/plain": [
       "array([[1071.09630633, 1088.0436808 ],\n",
       "       [1043.96759786,  875.28123548],\n",
       "       [ 947.42976124, 1177.99696751],\n",
       "       [ 796.62027177,  869.91611206]])"
      ]
     },
     "execution_count": 6,
     "metadata": {},
     "output_type": "execute_result"
    }
   ],
   "source": [
    "nschools[idx]"
   ]
  },
  {
   "cell_type": "markdown",
   "metadata": {},
   "source": [
    "Here is a visualization of what's going on. Our lpispoint is the green square and the K nearest neighbors are stars."
   ]
  },
  {
   "cell_type": "code",
   "execution_count": 7,
   "metadata": {},
   "outputs": [
    {
     "data": {
      "image/png": "[encoded data removed]",
      "text/plain": [
       "<Figure size 432x288 with 1 Axes>"
      ]
     },
     "metadata": {
      "needs_background": "light"
     },
     "output_type": "display_data"
    }
   ],
   "source": [
    "plt.scatter(nschools[:,0],nschools[:,1])\n",
    "plt.scatter(lpispoint[0],  lpispoint[1] ,s=100,c='g', marker=\"s\")\n",
    "plt.scatter([nschools[i][0] for i in idx], [nschools[i][1] for i in idx], c='r', marker=\"*\",s=100);"
   ]
  },
  {
   "cell_type": "markdown",
   "metadata": {},
   "source": [
    "The great thing about cKDTree queries is that they can be vectorized. \n",
    "\n",
    "Let's now raise the challenge and search for nearest neighbors to 10000 locations for which we have 10000 possible neighbors. If we were doing this by brute force we'd have to do 100 million distance calculations which would be very costly.  The spatial index greatly reduces this."
   ]
  },
  {
   "cell_type": "code",
   "execution_count": 8,
   "metadata": {},
   "outputs": [],
   "source": [
    "N = 10000\n",
    "nschools = np.random.uniform(0., 5000., (N, 2))  \n",
    "nlpis = np.random.uniform(0., 5000., (N, 2))  "
   ]
  },
  {
   "cell_type": "code",
   "execution_count": 9,
   "metadata": {},
   "outputs": [],
   "source": [
    "tree = cKDTree(nschools)"
   ]
  },
  {
   "cell_type": "code",
   "execution_count": 10,
   "metadata": {},
   "outputs": [
    {
     "name": "stdout",
     "output_type": "stream",
     "text": [
      "9.19 ms ± 67.2 µs per loop (mean ± std. dev. of 7 runs, 100 loops each)\n"
     ]
    }
   ],
   "source": [
    "%%timeit\n",
    "dist, idx = tree.query(nlpis,k=1)"
   ]
  },
  {
   "cell_type": "markdown",
   "metadata": {},
   "source": [
    "### cKDTree using geodataframes\n",
    "\n",
    "Usually we'd have geospatial data stored in geopandas dataframes, so let's write a wrapper function to work with some real world data."
   ]
  },
  {
   "cell_type": "code",
   "execution_count": 11,
   "metadata": {},
   "outputs": [
    {
     "data": {
      "text/html": [
       "<div>\n",
       "<style scoped>\n",
       "    .dataframe tbody tr th:only-of-type {\n",
       "        vertical-align: middle;\n",
       "    }\n",
       "\n",
       "    .dataframe tbody tr th {\n",
       "        vertical-align: top;\n",
       "    }\n",
       "\n",
       "    .dataframe thead th {\n",
       "        text-align: right;\n",
       "    }\n",
       "</style>\n",
       "<table border=\"1\" class=\"dataframe\">\n",
       "  <thead>\n",
       "    <tr style=\"text-align: right;\">\n",
       "      <th></th>\n",
       "      <th>school_nam</th>\n",
       "      <th>ft_lon</th>\n",
       "      <th>ft_lat</th>\n",
       "      <th>ID</th>\n",
       "      <th>geometry</th>\n",
       "    </tr>\n",
       "  </thead>\n",
       "  <tbody>\n",
       "    <tr>\n",
       "      <th>1820</th>\n",
       "      <td>Bronx Charter School for Better Learning</td>\n",
       "      <td>1028689.0</td>\n",
       "      <td>261519.0</td>\n",
       "      <td>1821</td>\n",
       "      <td>POINT (1028689 261519)</td>\n",
       "    </tr>\n",
       "    <tr>\n",
       "      <th>1821</th>\n",
       "      <td>Bronx Charter School for the Arts</td>\n",
       "      <td>1015670.0</td>\n",
       "      <td>238707.0</td>\n",
       "      <td>1822</td>\n",
       "      <td>POINT (1015670 238707)</td>\n",
       "    </tr>\n",
       "  </tbody>\n",
       "</table>\n",
       "</div>"
      ],
      "text/plain": [
       "                                    school_nam     ft_lon    ft_lat    ID  \\\n",
       "1820  Bronx Charter School for Better Learning  1028689.0  261519.0  1821   \n",
       "1821         Bronx Charter School for the Arts  1015670.0  238707.0  1822   \n",
       "\n",
       "                    geometry  \n",
       "1820  POINT (1028689 261519)  \n",
       "1821  POINT (1015670 238707)  "
      ]
     },
     "execution_count": 11,
     "metadata": {},
     "output_type": "execute_result"
    }
   ],
   "source": [
    "schools = gpd.read_file('schools.shp')\n",
    "schools.tail(2)"
   ]
  },
  {
   "cell_type": "code",
   "execution_count": 12,
   "metadata": {},
   "outputs": [
    {
     "data": {
      "text/html": [
       "<div>\n",
       "<style scoped>\n",
       "    .dataframe tbody tr th:only-of-type {\n",
       "        vertical-align: middle;\n",
       "    }\n",
       "\n",
       "    .dataframe tbody tr th {\n",
       "        vertical-align: top;\n",
       "    }\n",
       "\n",
       "    .dataframe thead th {\n",
       "        text-align: right;\n",
       "    }\n",
       "</style>\n",
       "<table border=\"1\" class=\"dataframe\">\n",
       "  <thead>\n",
       "    <tr style=\"text-align: right;\">\n",
       "      <th></th>\n",
       "      <th>LPID</th>\n",
       "      <th>main_stree</th>\n",
       "      <th>cross_stre</th>\n",
       "      <th>geometry</th>\n",
       "    </tr>\n",
       "  </thead>\n",
       "  <tbody>\n",
       "    <tr>\n",
       "      <th>3017</th>\n",
       "      <td>3017</td>\n",
       "      <td>Fillmore Avenue</td>\n",
       "      <td>Stuart Street</td>\n",
       "      <td>POINT (1000985.999980557 160476.999962011)</td>\n",
       "    </tr>\n",
       "    <tr>\n",
       "      <th>3018</th>\n",
       "      <td>3018</td>\n",
       "      <td>116 Avenue</td>\n",
       "      <td>207 Street</td>\n",
       "      <td>POINT (1054721.00012189 193597.9999928418)</td>\n",
       "    </tr>\n",
       "  </tbody>\n",
       "</table>\n",
       "</div>"
      ],
      "text/plain": [
       "      LPID       main_stree     cross_stre  \\\n",
       "3017  3017  Fillmore Avenue  Stuart Street   \n",
       "3018  3018       116 Avenue     207 Street   \n",
       "\n",
       "                                        geometry  \n",
       "3017  POINT (1000985.999980557 160476.999962011)  \n",
       "3018  POINT (1054721.00012189 193597.9999928418)  "
      ]
     },
     "execution_count": 12,
     "metadata": {},
     "output_type": "execute_result"
    }
   ],
   "source": [
    "lpis = gpd.read_file('lpis.shp')\n",
    "lpis.tail(2)"
   ]
  },
  {
   "cell_type": "markdown",
   "metadata": {},
   "source": [
    "## A `ckdnearest` function\n",
    "\n",
    "The following is a wrapper function to make nearest neighbor queries easy using geodaframes.  The function extracts the location data as numpy arrays from the respective geometries."
   ]
  },
  {
   "cell_type": "code",
   "execution_count": 13,
   "metadata": {},
   "outputs": [],
   "source": [
    "def ckdnearest(gdA, gdB, bcol):\n",
    "    \"\"\"\n",
    "    This function takes geodataframes: `gdA` and `gdB` and \n",
    "    a column name `bcol` from the latter. Both dataframes are assumed to \n",
    "    have a `geometry` column. It finds the nearest neighbor \n",
    "    from each location in `gdA` to its nearest neighbor in `gdB`.  \n",
    "\n",
    "    It returns a two-column pandas dataframe with a `distance`\n",
    "    (here rounded to nearest foot)  and the value of \n",
    "    the `bcol` value from `gdB`  (e.g. 'school_name')\n",
    "    \"\"\"\n",
    "    \n",
    "    nA = np.array(list(zip(gdA.geometry.x, gdA.geometry.y)) )\n",
    "    nB = np.array(list(zip(gdB.geometry.x, gdB.geometry.y)) )\n",
    "    btree = cKDTree(nB)\n",
    "    dist, idx = btree.query(nA,k=1)\n",
    "    df = pd.DataFrame.from_dict({'distance': dist,\n",
    "                             'bcol' : gdB.loc[idx, bcol].values })\n",
    "    return df"
   ]
  },
  {
   "cell_type": "markdown",
   "metadata": {},
   "source": [
    "The function returns a dataframe whose tail looks like this:"
   ]
  },
  {
   "cell_type": "code",
   "execution_count": 14,
   "metadata": {},
   "outputs": [
    {
     "data": {
      "text/html": [
       "<div>\n",
       "<style scoped>\n",
       "    .dataframe tbody tr th:only-of-type {\n",
       "        vertical-align: middle;\n",
       "    }\n",
       "\n",
       "    .dataframe tbody tr th {\n",
       "        vertical-align: top;\n",
       "    }\n",
       "\n",
       "    .dataframe thead th {\n",
       "        text-align: right;\n",
       "    }\n",
       "</style>\n",
       "<table border=\"1\" class=\"dataframe\">\n",
       "  <thead>\n",
       "    <tr style=\"text-align: right;\">\n",
       "      <th></th>\n",
       "      <th>distance</th>\n",
       "      <th>bcol</th>\n",
       "    </tr>\n",
       "  </thead>\n",
       "  <tbody>\n",
       "    <tr>\n",
       "      <th>0</th>\n",
       "      <td>1699.617953</td>\n",
       "      <td>Cornerstone Academy for Social Action</td>\n",
       "    </tr>\n",
       "    <tr>\n",
       "      <th>1</th>\n",
       "      <td>479.718598</td>\n",
       "      <td>Success Academy Charter School - Harlem 1</td>\n",
       "    </tr>\n",
       "    <tr>\n",
       "      <th>2</th>\n",
       "      <td>558.127103</td>\n",
       "      <td>P.S. 242 - The Young Diplomats Magnet Academy</td>\n",
       "    </tr>\n",
       "  </tbody>\n",
       "</table>\n",
       "</div>"
      ],
      "text/plain": [
       "      distance                                           bcol\n",
       "0  1699.617953          Cornerstone Academy for Social Action\n",
       "1   479.718598      Success Academy Charter School - Harlem 1\n",
       "2   558.127103  P.S. 242 - The Young Diplomats Magnet Academy"
      ]
     },
     "execution_count": 14,
     "metadata": {},
     "output_type": "execute_result"
    }
   ],
   "source": [
    "ckdnearest(lpis, schools,'school_nam').head(3)"
   ]
  },
  {
   "cell_type": "markdown",
   "metadata": {},
   "source": [
    "Since the returned dataframe is on the same index as the `gdA` we can simply add the returned dataframe as new columns to the original dataframe. Like this:"
   ]
  },
  {
   "cell_type": "code",
   "execution_count": 15,
   "metadata": {},
   "outputs": [
    {
     "data": {
      "text/html": [
       "<div>\n",
       "<style scoped>\n",
       "    .dataframe tbody tr th:only-of-type {\n",
       "        vertical-align: middle;\n",
       "    }\n",
       "\n",
       "    .dataframe tbody tr th {\n",
       "        vertical-align: top;\n",
       "    }\n",
       "\n",
       "    .dataframe thead th {\n",
       "        text-align: right;\n",
       "    }\n",
       "</style>\n",
       "<table border=\"1\" class=\"dataframe\">\n",
       "  <thead>\n",
       "    <tr style=\"text-align: right;\">\n",
       "      <th></th>\n",
       "      <th>LPID</th>\n",
       "      <th>main_stree</th>\n",
       "      <th>cross_stre</th>\n",
       "      <th>geometry</th>\n",
       "      <th>distance_to_school</th>\n",
       "      <th>nearest_school</th>\n",
       "    </tr>\n",
       "  </thead>\n",
       "  <tbody>\n",
       "    <tr>\n",
       "      <th>0</th>\n",
       "      <td>0</td>\n",
       "      <td>Co-op City Blvd</td>\n",
       "      <td>Dreiser loop East</td>\n",
       "      <td>POINT (1031739.000154228 259373.000004255)</td>\n",
       "      <td>1699.617953</td>\n",
       "      <td>Cornerstone Academy for Social Action</td>\n",
       "    </tr>\n",
       "    <tr>\n",
       "      <th>1</th>\n",
       "      <td>1</td>\n",
       "      <td>Lenox Avenue</td>\n",
       "      <td>West 119 St</td>\n",
       "      <td>POINT (998570.9998893011 232184.9999184268)</td>\n",
       "      <td>479.718598</td>\n",
       "      <td>Success Academy Charter School - Harlem 1</td>\n",
       "    </tr>\n",
       "  </tbody>\n",
       "</table>\n",
       "</div>"
      ],
      "text/plain": [
       "   LPID       main_stree         cross_stre  \\\n",
       "0     0  Co-op City Blvd  Dreiser loop East   \n",
       "1     1     Lenox Avenue        West 119 St   \n",
       "\n",
       "                                      geometry  distance_to_school  \\\n",
       "0   POINT (1031739.000154228 259373.000004255)         1699.617953   \n",
       "1  POINT (998570.9998893011 232184.9999184268)          479.718598   \n",
       "\n",
       "                              nearest_school  \n",
       "0      Cornerstone Academy for Social Action  \n",
       "1  Success Academy Charter School - Harlem 1  "
      ]
     },
     "execution_count": 15,
     "metadata": {},
     "output_type": "execute_result"
    }
   ],
   "source": [
    "lpis[['distance_to_school','nearest_school']] = ckdnearest(lpis, schools,'school_nam')\n",
    "lpis.head(2)"
   ]
  },
  {
   "cell_type": "code",
   "execution_count": 16,
   "metadata": {},
   "outputs": [
    {
     "name": "stdout",
     "output_type": "stream",
     "text": [
      "81.3 ms ± 473 µs per loop (mean ± std. dev. of 7 runs, 10 loops each)\n"
     ]
    }
   ],
   "source": [
    "%%timeit\n",
    "ckdnearest(lpis, schools,'school_nam')"
   ]
  },
  {
   "cell_type": "markdown",
   "metadata": {},
   "source": [
    "## Additional notes\n",
    "\n",
    "What follows are a few unfinished notes on alternative methods."
   ]
  },
  {
   "cell_type": "markdown",
   "metadata": {},
   "source": [
    "## RTree nearest method\n",
    "\n",
    "Geopandas has built in the use of [Rtree](http://toblerity.org/rtree/) to build a spatial index and this then offers a `nearest` method, which can be used as illustrated below.  \n",
    "\n",
    "There are two reasons why this method is going to be slower:\n",
    "\n",
    "1. we seemingly cannot vectorize the operation as we did above, so we'll have to loop over all the points that we want to find nearest neighbors for. This will be slow.\n",
    "2. the Rtree nearest method returns the index of the nearest neighbor(s) but not the distance, so we are going to have to calculate that separately.\n",
    "\n",
    "It's interesting to understand how an RTree spatial index works:\n",
    "\n",
    ">\"An R-tree represents individual objects and their bounding boxes (the “R” is for “Rectangle”) as the lowest level of the spatial index. It then aggregates nearby objects and represents them with their aggregate bounding box in the next higher level of the index. At yet higher levels, the R-tree aggregates bounding boxes and represents them by their bounding box, iteratively, until everything is nested into one top-level bounding box.\n",
    "\n",
    ">To search, the R-tree takes a query box and, starting at the top level, sees which (if any) bounding boxes intersect it. It then expands each intersecting bounding box and sees which of the child bounding boxes inside it intersect the query box. This proceeds recursively until all intersecting boxes are searched down to the lowest level, and returns the matching objects from the lowest level.([source](https://geoffboeing.com/2016/10/r-tree-spatial-index-python/))\" \n",
    "\n",
    "The 'points' that we search from will also be indicated by their bounding boxes."
   ]
  },
  {
   "cell_type": "code",
   "execution_count": 17,
   "metadata": {},
   "outputs": [],
   "source": [
    "srtindex = schools.sindex"
   ]
  },
  {
   "cell_type": "markdown",
   "metadata": {},
   "source": [
    "Here is an example point (note how points are indicated by their 'bounding box'):"
   ]
  },
  {
   "cell_type": "code",
   "execution_count": 18,
   "metadata": {},
   "outputs": [
    {
     "data": {
      "text/plain": [
       "(1016305.3948666304,\n",
       " 212446.98788534413,\n",
       " 1016305.3948666304,\n",
       " 212446.98788534413)"
      ]
     },
     "execution_count": 18,
     "metadata": {},
     "output_type": "execute_result"
    }
   ],
   "source": [
    "lp_point = lpis.loc[1428,'geometry'].bounds\n",
    "lp_point"
   ]
  },
  {
   "cell_type": "markdown",
   "metadata": {},
   "source": [
    "The nearest neighbor is returned as an index position in the schools dataframe."
   ]
  },
  {
   "cell_type": "code",
   "execution_count": 19,
   "metadata": {},
   "outputs": [
    {
     "data": {
      "text/plain": [
       "[1751]"
      ]
     },
     "execution_count": 19,
     "metadata": {},
     "output_type": "execute_result"
    }
   ],
   "source": [
    "list(srtindex.nearest(lp_point))"
   ]
  },
  {
   "cell_type": "markdown",
   "metadata": {},
   "source": [
    "One issue is that the method often returns 2 or more indices when they are (approximately) equidistant. In the code below we "
   ]
  },
  {
   "cell_type": "markdown",
   "metadata": {},
   "source": [
    "We can then use that index to pull out that dataframe row:"
   ]
  },
  {
   "cell_type": "code",
   "execution_count": 20,
   "metadata": {},
   "outputs": [
    {
     "data": {
      "text/html": [
       "<div>\n",
       "<style scoped>\n",
       "    .dataframe tbody tr th:only-of-type {\n",
       "        vertical-align: middle;\n",
       "    }\n",
       "\n",
       "    .dataframe tbody tr th {\n",
       "        vertical-align: top;\n",
       "    }\n",
       "\n",
       "    .dataframe thead th {\n",
       "        text-align: right;\n",
       "    }\n",
       "</style>\n",
       "<table border=\"1\" class=\"dataframe\">\n",
       "  <thead>\n",
       "    <tr style=\"text-align: right;\">\n",
       "      <th></th>\n",
       "      <th>school_nam</th>\n",
       "      <th>ft_lon</th>\n",
       "      <th>ft_lat</th>\n",
       "      <th>ID</th>\n",
       "      <th>geometry</th>\n",
       "    </tr>\n",
       "  </thead>\n",
       "  <tbody>\n",
       "    <tr>\n",
       "      <th>1751</th>\n",
       "      <td>Renaissance Charter School</td>\n",
       "      <td>1016164.0</td>\n",
       "      <td>212519.0</td>\n",
       "      <td>1752</td>\n",
       "      <td>POINT (1016164 212519)</td>\n",
       "    </tr>\n",
       "  </tbody>\n",
       "</table>\n",
       "</div>"
      ],
      "text/plain": [
       "                      school_nam     ft_lon    ft_lat    ID  \\\n",
       "1751  Renaissance Charter School  1016164.0  212519.0  1752   \n",
       "\n",
       "                    geometry  \n",
       "1751  POINT (1016164 212519)  "
      ]
     },
     "execution_count": 20,
     "metadata": {},
     "output_type": "execute_result"
    }
   ],
   "source": [
    "schools.iloc[list(srtindex.nearest(lp_point))]"
   ]
  },
  {
   "cell_type": "code",
   "execution_count": 21,
   "metadata": {},
   "outputs": [
    {
     "data": {
      "text/html": [
       "<div>\n",
       "<style scoped>\n",
       "    .dataframe tbody tr th:only-of-type {\n",
       "        vertical-align: middle;\n",
       "    }\n",
       "\n",
       "    .dataframe tbody tr th {\n",
       "        vertical-align: top;\n",
       "    }\n",
       "\n",
       "    .dataframe thead th {\n",
       "        text-align: right;\n",
       "    }\n",
       "</style>\n",
       "<table border=\"1\" class=\"dataframe\">\n",
       "  <thead>\n",
       "    <tr style=\"text-align: right;\">\n",
       "      <th></th>\n",
       "      <th>school_nam</th>\n",
       "      <th>ft_lon</th>\n",
       "      <th>ft_lat</th>\n",
       "      <th>ID</th>\n",
       "      <th>geometry</th>\n",
       "    </tr>\n",
       "  </thead>\n",
       "  <tbody>\n",
       "    <tr>\n",
       "      <th>0</th>\n",
       "      <td>P.S. 015 Roberto Clemente</td>\n",
       "      <td>990141.0</td>\n",
       "      <td>202349.0</td>\n",
       "      <td>0</td>\n",
       "      <td>POINT (990141 202349)</td>\n",
       "    </tr>\n",
       "    <tr>\n",
       "      <th>1</th>\n",
       "      <td>P.S. 019 Asher Levy</td>\n",
       "      <td>988547.0</td>\n",
       "      <td>205239.0</td>\n",
       "      <td>1</td>\n",
       "      <td>POINT (988547 205239)</td>\n",
       "    </tr>\n",
       "  </tbody>\n",
       "</table>\n",
       "</div>"
      ],
      "text/plain": [
       "                  school_nam    ft_lon    ft_lat  ID               geometry\n",
       "0  P.S. 015 Roberto Clemente  990141.0  202349.0   0  POINT (990141 202349)\n",
       "1        P.S. 019 Asher Levy  988547.0  205239.0   1  POINT (988547 205239)"
      ]
     },
     "execution_count": 21,
     "metadata": {},
     "output_type": "execute_result"
    }
   ],
   "source": [
    "gdA = schools    \n",
    "gdA.head(2)"
   ]
  },
  {
   "cell_type": "markdown",
   "metadata": {},
   "source": [
    "Let's try to build a helper function to find the nearest neighbors.  One issue is that the RTree nearest method often returns two or more indices when they are (approximately) equidistant, so we'll always choose only the first."
   ]
  },
  {
   "cell_type": "code",
   "execution_count": 22,
   "metadata": {},
   "outputs": [
    {
     "data": {
      "text/plain": [
       "1822"
      ]
     },
     "execution_count": 22,
     "metadata": {},
     "output_type": "execute_result"
    }
   ],
   "source": [
    "nA = gdA.geometry.bounds.to_numpy()\n",
    "len(nA)"
   ]
  },
  {
   "cell_type": "code",
   "execution_count": 23,
   "metadata": {},
   "outputs": [],
   "source": [
    "def rtnearest(gdA, gdB, bcol):\n",
    "\n",
    "    Brtree = gdB.sindex\n",
    "    \n",
    "    nA = gdA.geometry.bounds.to_numpy()\n",
    "    idx = np.zeros(len(nA))\n",
    "    \n",
    "    for pos, pt in enumerate(nA):\n",
    "        idx[pos] = list(Brtree.nearest(pt))[0]\n",
    "    df = pd.DataFrame.from_dict({'bcol' : gdB.loc[idx, bcol].values })\n",
    "    return df"
   ]
  },
  {
   "cell_type": "code",
   "execution_count": 24,
   "metadata": {},
   "outputs": [
    {
     "data": {
      "text/html": [
       "<div>\n",
       "<style scoped>\n",
       "    .dataframe tbody tr th:only-of-type {\n",
       "        vertical-align: middle;\n",
       "    }\n",
       "\n",
       "    .dataframe tbody tr th {\n",
       "        vertical-align: top;\n",
       "    }\n",
       "\n",
       "    .dataframe thead th {\n",
       "        text-align: right;\n",
       "    }\n",
       "</style>\n",
       "<table border=\"1\" class=\"dataframe\">\n",
       "  <thead>\n",
       "    <tr style=\"text-align: right;\">\n",
       "      <th></th>\n",
       "      <th>bcol</th>\n",
       "    </tr>\n",
       "  </thead>\n",
       "  <tbody>\n",
       "    <tr>\n",
       "      <th>0</th>\n",
       "      <td>Cornerstone Academy for Social Action</td>\n",
       "    </tr>\n",
       "    <tr>\n",
       "      <th>1</th>\n",
       "      <td>Success Academy Charter School - Harlem 1</td>\n",
       "    </tr>\n",
       "  </tbody>\n",
       "</table>\n",
       "</div>"
      ],
      "text/plain": [
       "                                        bcol\n",
       "0      Cornerstone Academy for Social Action\n",
       "1  Success Academy Charter School - Harlem 1"
      ]
     },
     "execution_count": 24,
     "metadata": {},
     "output_type": "execute_result"
    }
   ],
   "source": [
    "rtnearest(lpis, schools,'school_nam').head(2)"
   ]
  },
  {
   "cell_type": "code",
   "execution_count": 25,
   "metadata": {},
   "outputs": [
    {
     "data": {
      "text/html": [
       "<div>\n",
       "<style scoped>\n",
       "    .dataframe tbody tr th:only-of-type {\n",
       "        vertical-align: middle;\n",
       "    }\n",
       "\n",
       "    .dataframe tbody tr th {\n",
       "        vertical-align: top;\n",
       "    }\n",
       "\n",
       "    .dataframe thead th {\n",
       "        text-align: right;\n",
       "    }\n",
       "</style>\n",
       "<table border=\"1\" class=\"dataframe\">\n",
       "  <thead>\n",
       "    <tr style=\"text-align: right;\">\n",
       "      <th></th>\n",
       "      <th>LPID</th>\n",
       "      <th>main_stree</th>\n",
       "      <th>cross_stre</th>\n",
       "      <th>geometry</th>\n",
       "      <th>distance_to_school</th>\n",
       "      <th>nearest_school</th>\n",
       "    </tr>\n",
       "  </thead>\n",
       "  <tbody>\n",
       "    <tr>\n",
       "      <th>0</th>\n",
       "      <td>0</td>\n",
       "      <td>Co-op City Blvd</td>\n",
       "      <td>Dreiser loop East</td>\n",
       "      <td>POINT (1031739.000154228 259373.000004255)</td>\n",
       "      <td>1699.617953</td>\n",
       "      <td>Cornerstone Academy for Social Action</td>\n",
       "    </tr>\n",
       "    <tr>\n",
       "      <th>1</th>\n",
       "      <td>1</td>\n",
       "      <td>Lenox Avenue</td>\n",
       "      <td>West 119 St</td>\n",
       "      <td>POINT (998570.9998893011 232184.9999184268)</td>\n",
       "      <td>479.718598</td>\n",
       "      <td>Success Academy Charter School - Harlem 1</td>\n",
       "    </tr>\n",
       "  </tbody>\n",
       "</table>\n",
       "</div>"
      ],
      "text/plain": [
       "   LPID       main_stree         cross_stre  \\\n",
       "0     0  Co-op City Blvd  Dreiser loop East   \n",
       "1     1     Lenox Avenue        West 119 St   \n",
       "\n",
       "                                      geometry  distance_to_school  \\\n",
       "0   POINT (1031739.000154228 259373.000004255)         1699.617953   \n",
       "1  POINT (998570.9998893011 232184.9999184268)          479.718598   \n",
       "\n",
       "                              nearest_school  \n",
       "0      Cornerstone Academy for Social Action  \n",
       "1  Success Academy Charter School - Harlem 1  "
      ]
     },
     "execution_count": 25,
     "metadata": {},
     "output_type": "execute_result"
    }
   ],
   "source": [
    "lpis[['nearest_school']] = rtnearest(lpis, schools,'school_nam')\n",
    "lpis.head(2)"
   ]
  },
  {
   "cell_type": "markdown",
   "metadata": {},
   "source": [
    "This method is somewhat slower, even without also finding the distances."
   ]
  },
  {
   "cell_type": "code",
   "execution_count": 26,
   "metadata": {},
   "outputs": [
    {
     "name": "stdout",
     "output_type": "stream",
     "text": [
      "216 ms ± 1.93 ms per loop (mean ± std. dev. of 7 runs, 1 loop each)\n"
     ]
    }
   ],
   "source": [
    "%%timeit\n",
    "rtnearest(lpis, schools,'school_nam')"
   ]
  }
 ],
 "metadata": {
  "gist": {
   "data": {
    "description": "cKDTree spatial example",
    "public": true
   },
   "id": ""
  },
  "hide_input": false,
  "kernelspec": {
   "display_name": "Python 3",
   "language": "python",
   "name": "python3"
  },
  "language_info": {
   "codemirror_mode": {
    "name": "ipython",
    "version": 3
   },
   "file_extension": ".py",
   "mimetype": "text/x-python",
   "name": "python",
   "nbconvert_exporter": "python",
   "pygments_lexer": "ipython3",
   "version": "3.7.3"
  },
  "varInspector": {
   "cols": {
    "lenName": 16,
    "lenType": 16,
    "lenVar": 40
   },
   "kernels_config": {
    "python": {
     "delete_cmd_postfix": "",
     "delete_cmd_prefix": "del ",
     "library": "var_list.py",
     "varRefreshCmd": "print(var_dic_list())"
    },
    "r": {
     "delete_cmd_postfix": ") ",
     "delete_cmd_prefix": "rm(",
     "library": "var_list.r",
     "varRefreshCmd": "cat(var_dic_list()) "
    }
   },
   "types_to_exclude": [
    "module",
    "function",
    "builtin_function_or_method",
    "instance",
    "_Feature"
   ],
   "window_display": false
  }
 },
 "nbformat": 4,
 "nbformat_minor": 2
}
