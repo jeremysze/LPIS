{
 "cells": [
  {
   "cell_type": "code",
   "execution_count": 1,
   "metadata": {},
   "outputs": [
    {
     "name": "stdout",
     "output_type": "stream",
     "text": [
      "D:\\Box Sync\\Policy Evaluation\\working_data\\analytical_panel_shapefile\n"
     ]
    }
   ],
   "source": [
    "cd \"..\\working_data\\analytical_panel_shapefile\\\"\n",
    "// Convert shapefile to dta\n",
    "*spshape2dta \"analytical_panel_qt_shapefile\", replace\n",
    "// Already ran this"
   ]
  },
  {
   "cell_type": "code",
   "execution_count": 2,
   "metadata": {},
   "outputs": [],
   "source": [
    "clear"
   ]
  },
  {
   "cell_type": "code",
   "execution_count": 3,
   "metadata": {},
   "outputs": [],
   "source": [
    "use \"analytical_panel_qt_shapefile\",clear"
   ]
  },
  {
   "cell_type": "code",
   "execution_count": 4,
   "metadata": {},
   "outputs": [],
   "source": [
    "drop _CY _CX\n",
    "rename y _CY \n",
    "rename x _CX\n",
    "\n",
    "drop _ID\n",
    "gen _ID = intersecti\n"
   ]
  },
  {
   "cell_type": "code",
   "execution_count": 5,
   "metadata": {},
   "outputs": [],
   "source": [
    "gen quarterly = yq(year, quarter)\n",
    "format quarterly %tq"
   ]
  },
  {
   "cell_type": "code",
   "execution_count": 6,
   "metadata": {},
   "outputs": [
    {
     "name": "stdout",
     "output_type": "stream",
     "text": [
      "\n",
      "       panel variable:  intersecti (strongly balanced)\n",
      "        time variable:  quarterly, 2012q3 to 2018q3\n",
      "                delta:  1 quarter\n",
      "\n",
      "  Sp dataset analytical_panel_qt_shapefile.dta\n",
      "                data:  panel\n",
      "     spatial-unit id:  _ID\n",
      "             time id:  quarterly (see xtset)\n",
      "         coordinates:  _CX, _CY (planar)\n",
      "    linked shapefile:  analytical_panel_qt_shapefile_shp.dta\n",
      "\n",
      "  Sp dataset analytical_panel_qt_shapefile.dta\n",
      "                data:  cross sectional\n",
      "     spatial-unit id:  _ID\n",
      "         coordinates:  _CY, _CX (latitude-and-longitude, miles)\n",
      "    linked shapefile:  analytical_panel_qt_shapefile_shp.dta\n",
      "\n"
     ]
    }
   ],
   "source": [
    "xtset intersecti quarterly, quarterly\n",
    "spset\n",
    "spset, coordsys(latlong, miles) modify "
   ]
  },
  {
   "cell_type": "code",
   "execution_count": 19,
   "metadata": {
    "scrolled": true
   },
   "outputs": [
    {
     "name": "stdout",
     "output_type": "stream",
     "text": [
      "\n",
      "D:\\Box Sync\\Policy Evaluation\\working_data\n",
      "\n",
      "D:\\Box Sync\\Policy Evaluation\\working_data\n"
     ]
    }
   ],
   "source": []
  },
  {
   "cell_type": "code",
   "execution_count": 27,
   "metadata": {},
   "outputs": [
    {
     "name": "stdout",
     "output_type": "stream",
     "text": [
      "\n",
      "\n",
      "D:\\Box Sync\\Policy Evaluation\\working_data\n",
      "\n",
      "D:\\Box Sync\\Policy Evaluation\\working_data\n",
      "\n",
      "  (matrix W saved in file contiguity_W.stswm)\n"
     ]
    }
   ],
   "source": [
    "// Create Matrix W\n",
    "/*\n",
    "spmatrix create contiguity W if quarter==3 & year == 2012\n",
    "cd \"..\\\"\n",
    "cd \"..\\working_data\\\"\n",
    "spmatrix save W using \"contiguity_W.stswm\"\n",
    "*/"
   ]
  },
  {
   "cell_type": "code",
   "execution_count": 7,
   "metadata": {},
   "outputs": [],
   "source": [
    "// Create Matrix M\n",
    "*cd \"..\\working_data\\analytical_panel_shapefile\\\"\n",
    "// Did not calculate idistance\n",
    "/*\n",
    "spmatrix create idistance M if quarter==3 & year == 2012\n",
    "cd \"..\\\"\n",
    "cd \"..\\working_data\\\"\n",
    "spmatrix save M using \"idistance_M.stswm\"\n",
    "*/"
   ]
  },
  {
   "cell_type": "code",
   "execution_count": 8,
   "metadata": {},
   "outputs": [
    {
     "name": "stdout",
     "output_type": "stream",
     "text": [
      "\n",
      "D:\\Box Sync\\Policy Evaluation\\working_data\n",
      "\n",
      "D:\\Box Sync\\Policy Evaluation\\working_data\n",
      "\n",
      "\n",
      "\n",
      "------------------------------------------------------------------------\n",
      "   Weighting matrix name           N x N      Type         Normalization\n",
      "------------------------------------------------------------------------\n",
      "                       W   12983 x 12983    contiguity       spectral\n",
      "------------------------------------------------------------------------\n"
     ]
    }
   ],
   "source": [
    "cd \"..\\\"\n",
    "cd \"..\\working_data\\\"\n",
    "spmatrix use W using \"contiguity_W.stswm\"\n",
    "*spmatrix use M using \"idistance_M.stswm\"\n",
    "spmatrix dir"
   ]
  },
  {
   "cell_type": "code",
   "execution_count": 9,
   "metadata": {},
   "outputs": [
    {
     "name": "stdout",
     "output_type": "stream",
     "text": [
      "D:\\Box Sync\\Policy Evaluation\\manuscripts\n"
     ]
    }
   ],
   "source": [
    "cd \"..\\manuscripts\""
   ]
  },
  {
   "cell_type": "code",
   "execution_count": 11,
   "metadata": {},
   "outputs": [],
   "source": [
    "global time_var i.quarterly"
   ]
  },
  {
   "cell_type": "code",
   "execution_count": 12,
   "metadata": {},
   "outputs": [],
   "source": [
    "global outcome1 collision_\n",
    "global filename results_spxt_$outcome1"
   ]
  },
  {
   "cell_type": "code",
   "execution_count": 13,
   "metadata": {},
   "outputs": [
    {
     "name": "stdout",
     "output_type": "stream",
     "text": [
      "  (324575 observations)\n",
      "  (324575 observations used)\n",
      "  (data contain 12983 panels (places) )\n",
      "  (weighting matrix defines 12983 places)\n",
      "\n",
      "Performing grid search ... finished \n",
      "\n",
      "Optimizing concentrated log likelihood:\n",
      "\n",
      "Iteration 0:   log likelihood = -570434.44  \n",
      "Iteration 1:   log likelihood = -570418.69  \n",
      "Iteration 2:   log likelihood = -570418.68  \n",
      "\n",
      "Optimizing unconcentrated log likelihood:\n",
      "\n",
      "Iteration 0:   log likelihood = -570418.68  \n",
      "Iteration 1:   log likelihood = -570418.68  (backed up)\n",
      "\n",
      "Fixed-effects spatial regression                Number of obs     =    324,575\n",
      "Group variable: _ID                             Number of groups  =     12,983\n",
      "                                                Obs per group     =         25\n",
      "\n",
      "                                                Wald chi2(26)     =   14683.03\n",
      "                                                Prob > chi2       =     0.0000\n",
      "Log likelihood = -5.704e+05                     Pseudo R2         =     0.0072\n",
      "\n",
      "------------------------------------------------------------------------------\n",
      "  collision_ |      Coef.   Std. Err.      z    P>|z|     [95% Conf. Interval]\n",
      "-------------+----------------------------------------------------------------\n",
      "collision_   |\n",
      "   flag_LPIS |  -.2124103   .0147658   -14.39   0.000    -.2413507   -.1834698\n",
      "             |\n",
      "   quarterly |\n",
      "        211  |   -.015467   .0186832    -0.83   0.408    -.0520854    .0211514\n",
      "        212  |  -.1109507   .0186953    -5.93   0.000    -.1475928   -.0743085\n",
      "        213  |   .0595779   .0186866     3.19   0.001     .0229528    .0962029\n",
      "        214  |  -.0000833   .0186829    -0.00   0.996    -.0367011    .0365346\n",
      "        215  |   .0320864   .0186839     1.72   0.086    -.0045333    .0687062\n",
      "        216  |  -.0968459   .0186925    -5.18   0.000    -.1334825   -.0602092\n",
      "        217  |   .0238192   .0186834     1.27   0.202    -.0127996     .060438\n",
      "        218  |  -.0004743    .018683    -0.03   0.980    -.0370922    .0361436\n",
      "        219  |   .0146963   .0186833     0.79   0.432    -.0219222    .0513149\n",
      "        220  |  -.1070329   .0186955    -5.73   0.000    -.1436754   -.0703905\n",
      "        221  |   .0489971   .0186868     2.62   0.009     .0123717    .0856224\n",
      "        222  |   .0770973   .0186936     4.12   0.000     .0404585    .1137361\n",
      "        223  |   .1051979   .0187014     5.63   0.000     .0685439    .1418519\n",
      "        224  |  -.0747033   .0187018    -3.99   0.000    -.1113582   -.0380484\n",
      "        225  |  -.3177154   .0188154   -16.89   0.000    -.3545929   -.2808378\n",
      "        226  |  -.5043594   .0189931   -26.55   0.000    -.5415851   -.4671337\n",
      "        227  |  -.4814417   .0189783   -25.37   0.000    -.5186384    -.444245\n",
      "        228  |  -.2768426   .0188391   -14.70   0.000    -.3137665   -.2399187\n",
      "        229  |  -.0807117   .0187933    -4.29   0.000    -.1175458   -.0438775\n",
      "        230  |   -.244826   .0188804   -12.97   0.000    -.2818309   -.2078212\n",
      "        231  |  -.1850609   .0188642    -9.81   0.000    -.2220341   -.1480878\n",
      "        232  |  -.2309919   .0189136   -12.21   0.000     -.268062   -.1939218\n",
      "        233  |  -.1134512   .0189114    -6.00   0.000    -.1505169   -.0763856\n",
      "        234  |  -.2192368   .0189906   -11.54   0.000    -.2564578   -.1820159\n",
      "-------------+----------------------------------------------------------------\n",
      "W            |\n",
      "  collision_ |   .3245523   .0043471    74.66   0.000     .3160321    .3330724\n",
      "-------------+----------------------------------------------------------------\n",
      "    /sigma_e |   1.505279    .001911                      1.501539     1.50903\n",
      "------------------------------------------------------------------------------\n",
      "Wald test of spatial terms:          chi2(1) = 5574.06    Prob > chi2 = 0.0000\n"
     ]
    }
   ],
   "source": [
    "spxtregress collision_ flag_LPIS $time_var, fe dvarlag(W)"
   ]
  },
  {
   "cell_type": "code",
   "execution_count": 14,
   "metadata": {},
   "outputs": [
    {
     "name": "stdout",
     "output_type": "stream",
     "text": [
      "\n",
      "progress   :100% \n",
      "\n",
      "Average impacts                                 Number of obs     =    324,575\n",
      "\n",
      "------------------------------------------------------------------------------\n",
      "             |            Delta-Method\n",
      "             |      dy/dx   Std. Err.      z    P>|z|     [95% Conf. Interval]\n",
      "-------------+----------------------------------------------------------------\n",
      "direct       |\n",
      "   flag_LPIS |  -.2137404   .0148567   -14.39   0.000    -.2428589   -.1846218\n",
      "-------------+----------------------------------------------------------------\n",
      "indirect     |\n",
      "   flag_LPIS |  -.0983584   .0070332   -13.98   0.000    -.1121431   -.0845736\n",
      "-------------+----------------------------------------------------------------\n",
      "total        |\n",
      "   flag_LPIS |  -.3120987   .0217119   -14.37   0.000    -.3546532   -.2695442\n",
      "------------------------------------------------------------------------------\n"
     ]
    }
   ],
   "source": [
    "estat impact"
   ]
  },
  {
   "cell_type": "code",
   "execution_count": 17,
   "metadata": {},
   "outputs": [
    {
     "name": "stdout",
     "output_type": "stream",
     "text": [
      "  (324575 observations)\n",
      "  (324575 observations used)\n",
      "  (data contain 12983 panels (places) )\n",
      "  (weighting matrix defines 12983 places)\n",
      "\n",
      "Performing grid search ... finished \n",
      "\n",
      "Optimizing concentrated log likelihood:\n",
      "\n",
      "Iteration 0:   log likelihood = -570425.92  (not concave)\n",
      "Iteration 1:   log likelihood = -570407.72  (backed up)\n",
      "Iteration 2:   log likelihood = -570401.41  \n",
      "Iteration 3:   log likelihood = -570400.01  \n",
      "Iteration 4:   log likelihood = -570399.96  \n",
      "Iteration 5:   log likelihood = -570399.96  \n",
      "\n",
      "Optimizing unconcentrated log likelihood:\n",
      "\n",
      "Iteration 0:   log likelihood = -570399.96  \n",
      "Iteration 1:   log likelihood = -570399.96  (backed up)\n",
      "\n",
      "Fixed-effects spatial regression                Number of obs     =    324,575\n",
      "Group variable: _ID                             Number of groups  =     12,983\n",
      "                                                Obs per group     =         25\n",
      "\n",
      "                                                Wald chi2(26)     =    5931.34\n",
      "                                                Prob > chi2       =     0.0000\n",
      "Log likelihood = -5.704e+05                     Pseudo R2         =     0.0075\n",
      "\n",
      "------------------------------------------------------------------------------\n",
      "  collision_ |      Coef.   Std. Err.      z    P>|z|     [95% Conf. Interval]\n",
      "-------------+----------------------------------------------------------------\n",
      "collision_   |\n",
      "   flag_LPIS |  -.2055725   .0152466   -13.48   0.000    -.2354552   -.1756897\n",
      "             |\n",
      "   quarterly |\n",
      "        211  |  -.0191404   .0234527    -0.82   0.414    -.0651068    .0268261\n",
      "        212  |  -.1393061   .0240378    -5.80   0.000    -.1864193   -.0921928\n",
      "        213  |   .0747409   .0236128     3.17   0.002     .0284606    .1210212\n",
      "        214  |   .0001616   .0234432     0.01   0.994    -.0457862    .0461094\n",
      "        215  |   .0404857   .0234965     1.72   0.085    -.0055666    .0865379\n",
      "        216  |  -.1215486   .0238948    -5.09   0.000    -.1683816   -.0747156\n",
      "        217  |    .030214   .0234749     1.29   0.198    -.0157961     .076224\n",
      "        218  |  -.0005753   .0234431    -0.02   0.980     -.046523    .0453724\n",
      "        219  |   .0182263   .0234527     0.78   0.437    -.0277402    .0641928\n",
      "        220  |  -.1350293   .0240241    -5.62   0.000    -.1821157   -.0879429\n",
      "        221  |   .0608124   .0235507     2.58   0.010     .0146538     .106971\n",
      "        222  |   .0948851   .0236808     4.01   0.000     .0484717    .1412986\n",
      "        223  |   .1297138   .0238917     5.43   0.000     .0828869    .1765406\n",
      "        224  |  -.0967485   .0238161    -4.06   0.000    -.1434273   -.0500697\n",
      "        225  |  -.4021002   .0282571   -14.23   0.000    -.4574831   -.3467173\n",
      "        226  |  -.6378789   .0342664   -18.62   0.000    -.7050397    -.570718\n",
      "        227  |  -.6095757   .0335454   -18.17   0.000    -.6753235    -.543828\n",
      "        228  |  -.3550039     .02771   -12.81   0.000    -.4093144   -.3006934\n",
      "        229  |  -.1101317   .0241778    -4.56   0.000    -.1575193   -.0627441\n",
      "        230  |  -.3169837   .0271693   -11.67   0.000    -.3702344   -.2637329\n",
      "        231  |  -.2422567   .0258955    -9.36   0.000    -.2930109   -.1915024\n",
      "        232  |  -.3007919    .026979   -11.15   0.000    -.3536697   -.2479141\n",
      "        233  |  -.1546755   .0248644    -6.22   0.000    -.2034088   -.1059421\n",
      "        234  |  -.2879887   .0269344   -10.69   0.000    -.3407791   -.2351982\n",
      "-------------+----------------------------------------------------------------\n",
      "W            |\n",
      "  collision_ |   .1504522   .0324193     4.64   0.000     .0869116    .2139929\n",
      "e.collision_ |   .2055664   .0304622     6.75   0.000     .1458616    .2652713\n",
      "-------------+----------------------------------------------------------------\n",
      "    /sigma_e |   1.507042   .0019147                      1.503294      1.5108\n",
      "------------------------------------------------------------------------------\n",
      "Wald test of spatial terms:          chi2(2) = 4646.54    Prob > chi2 = 0.0000\n"
     ]
    }
   ],
   "source": [
    "spxtregress collision_ flag_LPIS $time_var, fe dvarlag(W) errorlag(W)"
   ]
  },
  {
   "cell_type": "code",
   "execution_count": 18,
   "metadata": {},
   "outputs": [
    {
     "name": "stdout",
     "output_type": "stream",
     "text": [
      "\n",
      "progress   :100% \n",
      "\n",
      "Average impacts                                 Number of obs     =    324,575\n",
      "\n",
      "------------------------------------------------------------------------------\n",
      "             |            Delta-Method\n",
      "             |      dy/dx   Std. Err.      z    P>|z|     [95% Conf. Interval]\n",
      "-------------+----------------------------------------------------------------\n",
      "direct       |\n",
      "   flag_LPIS |  -.2057949    .015272   -13.48   0.000    -.2357275   -.1758623\n",
      "-------------+----------------------------------------------------------------\n",
      "indirect     |\n",
      "   flag_LPIS |  -.0354885   .0095167    -3.73   0.000    -.0541409   -.0168361\n",
      "-------------+----------------------------------------------------------------\n",
      "total        |\n",
      "   flag_LPIS |  -.2412834   .0207018   -11.66   0.000    -.2818582   -.2007087\n",
      "------------------------------------------------------------------------------\n"
     ]
    }
   ],
   "source": [
    "estat impact"
   ]
  },
  {
   "cell_type": "code",
   "execution_count": 19,
   "metadata": {},
   "outputs": [
    {
     "name": "stdout",
     "output_type": "stream",
     "text": [
      "  (324575 observations)\n",
      "  (324575 observations used)\n",
      "  (data contain 12983 panels (places) )\n",
      "  (weighting matrix defines 12983 places)\n",
      "\n",
      "Performing grid search ... finished \n",
      "\n",
      "Optimizing concentrated log likelihood:\n",
      "\n",
      "Iteration 0:   log likelihood = -570368.92  (not concave)\n",
      "Iteration 1:   log likelihood = -570358.85  (backed up)\n",
      "Iteration 2:   log likelihood = -570352.53  \n",
      "Iteration 3:   log likelihood = -570351.99  \n",
      "Iteration 4:   log likelihood = -570351.95  \n",
      "Iteration 5:   log likelihood = -570351.95  \n",
      "\n",
      "Optimizing unconcentrated log likelihood:\n",
      "\n",
      "Iteration 0:   log likelihood = -570351.95  \n",
      "Iteration 1:   log likelihood = -570351.95  (backed up)\n",
      "\n",
      "Fixed-effects spatial regression                Number of obs     =    324,575\n",
      "Group variable: _ID                             Number of groups  =     12,983\n",
      "                                                Obs per group     =         25\n",
      "\n",
      "                                                Wald chi2(27)     =    5407.44\n",
      "                                                Prob > chi2       =     0.0000\n",
      "Log likelihood = -5.704e+05                     Pseudo R2         =     0.0055\n",
      "\n",
      "------------------------------------------------------------------------------\n",
      "  collision_ |      Coef.   Std. Err.      z    P>|z|     [95% Conf. Interval]\n",
      "-------------+----------------------------------------------------------------\n",
      "collision_   |\n",
      "   flag_LPIS |  -.1694711   .0156471   -10.83   0.000    -.2001388   -.1388033\n",
      "             |\n",
      "   quarterly |\n",
      "        211  |  -.0203369   .0249197    -0.82   0.414    -.0691785    .0285047\n",
      "        212  |   -.148782   .0255316    -5.83   0.000    -.1988229    -.098741\n",
      "        213  |   .0799596   .0250874     3.19   0.001     .0307891    .1291301\n",
      "        214  |   .0005741   .0249102     0.02   0.982    -.0482491    .0493972\n",
      "        215  |   .0437447   .0249681     1.75   0.080    -.0051919    .0926813\n",
      "        216  |  -.1292353   .0253748    -5.09   0.000    -.1789691   -.0795016\n",
      "        217  |   .0331266   .0249466     1.33   0.184    -.0157679     .082021\n",
      "        218  |   .0007288   .0249105     0.03   0.977    -.0480949    .0495525\n",
      "        219  |   .0218342   .0249257     0.88   0.381    -.0270193    .0706878\n",
      "        220  |  -.1396202   .0254632    -5.48   0.000    -.1895271   -.0897134\n",
      "        221  |   .0723553   .0250801     2.88   0.004     .0231992    .1215115\n",
      "        222  |   .1135261   .0253023     4.49   0.000     .0639346    .1631176\n",
      "        223  |   .1538281   .0256178     6.00   0.000     .1036181    .2040382\n",
      "        224  |  -.0841916   .0252055    -3.34   0.001    -.1335935   -.0347897\n",
      "        225  |  -.4029914   .0292112   -13.80   0.000    -.4602442   -.3457386\n",
      "        226  |  -.6460955   .0349199   -18.50   0.000    -.7145371   -.5776538\n",
      "        227  |  -.6127665    .034112   -17.96   0.000    -.6796248   -.5459082\n",
      "        228  |  -.3329352   .0284331   -11.71   0.000     -.388663   -.2772075\n",
      "        229  |   -.063043   .0257706    -2.45   0.014    -.1135524   -.0125336\n",
      "        230  |  -.2768253   .0279202    -9.91   0.000    -.3315479   -.2221027\n",
      "        231  |  -.1943632   .0269707    -7.21   0.000    -.2472247   -.1415016\n",
      "        232  |   -.250717   .0278155    -9.01   0.000    -.3052344   -.1961995\n",
      "        233  |  -.0862545   .0266315    -3.24   0.001    -.1384514   -.0340577\n",
      "        234  |  -.2215988   .0279691    -7.92   0.000    -.2764173   -.1667803\n",
      "-------------+----------------------------------------------------------------\n",
      "W            |\n",
      "   flag_LPIS |  -.4743164   .0530053    -8.95   0.000    -.5782049   -.3704279\n",
      "  collision_ |   .0924429   .0340238     2.72   0.007     .0257575    .1591282\n",
      "e.collision_ |   .2536816    .028269     8.97   0.000     .1982753    .3090878\n",
      "-------------+----------------------------------------------------------------\n",
      "    /sigma_e |   1.506429    .001945                      1.502621    1.510246\n",
      "------------------------------------------------------------------------------\n",
      "Wald test of spatial terms:          chi2(3) = 4884.89    Prob > chi2 = 0.0000\n"
     ]
    }
   ],
   "source": [
    "spxtregress collision_ flag_LPIS $time_var, fe dvarlag(W) errorlag(W) ivarlag(W: flag_LPIS)"
   ]
  },
  {
   "cell_type": "code",
   "execution_count": 20,
   "metadata": {},
   "outputs": [
    {
     "name": "stdout",
     "output_type": "stream",
     "text": [
      "\n",
      "progress   :100% \n",
      "\n",
      "Average impacts                                 Number of obs     =    324,575\n",
      "\n",
      "------------------------------------------------------------------------------\n",
      "             |            Delta-Method\n",
      "             |      dy/dx   Std. Err.      z    P>|z|     [95% Conf. Interval]\n",
      "-------------+----------------------------------------------------------------\n",
      "direct       |\n",
      "   flag_LPIS |  -.1715053   .0156016   -10.99   0.000    -.2020838   -.1409268\n",
      "-------------+----------------------------------------------------------------\n",
      "indirect     |\n",
      "   flag_LPIS |  -.5281251   .0509884   -10.36   0.000    -.6280605   -.4281896\n",
      "-------------+----------------------------------------------------------------\n",
      "total        |\n",
      "   flag_LPIS |  -.6996303   .0505966   -13.83   0.000    -.7987979   -.6004627\n",
      "------------------------------------------------------------------------------\n"
     ]
    }
   ],
   "source": [
    "estat impact"
   ]
  }
 ],
 "metadata": {
  "kernelspec": {
   "display_name": "Stata",
   "language": "stata",
   "name": "stata"
  },
  "language_info": {
   "file_extension": ".do",
   "mimetype": "text/x-stata",
   "name": "stata"
  }
 },
 "nbformat": 4,
 "nbformat_minor": 2
}
