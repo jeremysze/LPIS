{
 "cells": [
  {
   "cell_type": "code",
   "execution_count": 1,
   "metadata": {},
   "outputs": [
    {
     "name": "stdout",
     "output_type": "stream",
     "text": [
      "\n",
      "\n",
      "D:\\Box Sync\\Policy Evaluation\\working_data\\analytical_panel_shapefile\n",
      "\n"
     ]
    }
   ],
   "source": [
    "clear\n",
    "\n",
    "cd \"..\\working_data\\\\analytical_panel_shapefile\\\"\n",
    "// Convert shapefile to dta\n",
    "*spshape2dta \"analytical_panel_shapefile\", replace\n",
    "// Already ran this"
   ]
  },
  {
   "cell_type": "code",
   "execution_count": 2,
   "metadata": {},
   "outputs": [],
   "source": [
    "use \"analytical_panel_shapefile\",clear"
   ]
  },
  {
   "cell_type": "code",
   "execution_count": 3,
   "metadata": {},
   "outputs": [],
   "source": [
    "drop _CY _CX\n",
    "rename y _CY \n",
    "rename x _CX\n",
    "\n",
    "drop _ID\n",
    "gen _ID = intersecti\n"
   ]
  },
  {
   "cell_type": "code",
   "execution_count": 4,
   "metadata": {},
   "outputs": [],
   "source": [
    "gen monthly = ym(year, month)\n",
    "format monthly %tm"
   ]
  },
  {
   "cell_type": "code",
   "execution_count": 5,
   "metadata": {},
   "outputs": [
    {
     "name": "stdout",
     "output_type": "stream",
     "text": [
      "\n",
      "       panel variable:  intersecti (strongly balanced)\n",
      "        time variable:  monthly, 2012m7 to 2018m9\n",
      "                delta:  1 month\n",
      "\n",
      "  Sp dataset analytical_panel_shapefile.dta\n",
      "                data:  panel\n",
      "     spatial-unit id:  _ID\n",
      "             time id:  monthly (see xtset)\n",
      "         coordinates:  _CX, _CY (planar)\n",
      "    linked shapefile:  analytical_panel_shapefile_shp.dta\n",
      "\n",
      "  Sp dataset analytical_panel_shapefile.dta\n",
      "                data:  cross sectional\n",
      "     spatial-unit id:  _ID\n",
      "         coordinates:  _CY, _CX (latitude-and-longitude, miles)\n",
      "    linked shapefile:  analytical_panel_shapefile_shp.dta\n",
      "\n"
     ]
    }
   ],
   "source": [
    "xtset intersecti monthly, monthly\n",
    "spset\n",
    "spset, coordsys(latlong, miles) modify "
   ]
  },
  {
   "cell_type": "code",
   "execution_count": 8,
   "metadata": {},
   "outputs": [
    {
     "name": "stdout",
     "output_type": "stream",
     "text": [
      "\n",
      "D:\\Box Sync\\Policy Evaluation\\working_data\n",
      "\n",
      "D:\\Box Sync\\Policy Evaluation\\working_data\n"
     ]
    }
   ],
   "source": [
    "cd \"..\\\"\n",
    "cd \"..\\working_data\""
   ]
  },
  {
   "cell_type": "code",
   "execution_count": 6,
   "metadata": {},
   "outputs": [],
   "source": [
    "// Create Matrix W\n",
    "/*\n",
    "spmatrix create contiguity W if month==7 & year == 2012\n",
    "spmatrix save W using \"contiguity_W.stswm\"\n",
    "*/"
   ]
  },
  {
   "cell_type": "code",
   "execution_count": 7,
   "metadata": {},
   "outputs": [],
   "source": [
    "// Create Matrix M\n",
    "/*\n",
    "spmatrix create idistance M if month==7 & year == 2012\n",
    "cd\n",
    "spmatrix save M using \"idistance_M.stswm\"\n",
    "*/"
   ]
  },
  {
   "cell_type": "code",
   "execution_count": 9,
   "metadata": {},
   "outputs": [
    {
     "name": "stdout",
     "output_type": "stream",
     "text": [
      "\n",
      "\n",
      "\n",
      "\n",
      "------------------------------------------------------------------------\n",
      "   Weighting matrix name           N x N      Type         Normalization\n",
      "------------------------------------------------------------------------\n",
      "                       M   12983 x 12983    idistance        spectral\n",
      "                       W   12983 x 12983    contiguity       spectral\n",
      "------------------------------------------------------------------------\n"
     ]
    }
   ],
   "source": [
    "spmatrix use W using \"contiguity_W.stswm\"\n",
    "spmatrix use M using \"idistance_M.stswm\"\n",
    "spmatrix dir"
   ]
  },
  {
   "cell_type": "code",
   "execution_count": 10,
   "metadata": {},
   "outputs": [
    {
     "name": "stdout",
     "output_type": "stream",
     "text": [
      "D:\\Box Sync\\Policy Evaluation\\manuscripts\n"
     ]
    }
   ],
   "source": [
    "cd \"..\\manuscripts\""
   ]
  },
  {
   "cell_type": "code",
   "execution_count": 11,
   "metadata": {},
   "outputs": [],
   "source": [
    "global outcome1 collision_\n",
    "global filename results_spxt_$outcome1"
   ]
  },
  {
   "cell_type": "code",
   "execution_count": 12,
   "metadata": {},
   "outputs": [
    {
     "name": "stdout",
     "output_type": "stream",
     "text": [
      "  (973725 observations)\n",
      "  (973725 observations used)\n",
      "  (data contain 12983 panels (places) )\n",
      "  (weighting matrix defines 12983 places)\n",
      "\n",
      "Performing grid search ... finished \n",
      "\n",
      "Optimizing concentrated log likelihood:\n",
      "\n",
      "Iteration 0:   log likelihood = -1147898.5  \n",
      "Iteration 1:   log likelihood = -1147845.1  \n",
      "Iteration 2:   log likelihood =   -1147845  \n",
      "\n",
      "Optimizing unconcentrated log likelihood:\n",
      "\n",
      "Iteration 0:   log likelihood =   -1147845  \n",
      "Iteration 1:   log likelihood =   -1147845  (backed up)\n",
      "\n",
      "Fixed-effects spatial regression                Number of obs     =    973,725\n",
      "Group variable: _ID                             Number of groups  =     12,983\n",
      "                                                Obs per group     =         75\n",
      "\n",
      "                                                Wald chi2(2)      =   16332.77\n",
      "                                                Prob > chi2       =     0.0000\n",
      "Log likelihood = -1.148e+06                     Pseudo R2         =     0.0008\n",
      "\n",
      "------------------------------------------------------------------------------\n",
      "  collision_ |      Coef.   Std. Err.      z    P>|z|     [95% Conf. Interval]\n",
      "-------------+----------------------------------------------------------------\n",
      "collision_   |\n",
      "   flag_LPIS |  -.1158476   .0043007   -26.94   0.000    -.1242769   -.1074183\n",
      "-------------+----------------------------------------------------------------\n",
      "W            |\n",
      "  collision_ |   .4376491   .0036039   121.44   0.000     .4305856    .4447126\n",
      "-------------+----------------------------------------------------------------\n",
      "    /sigma_e |   .7977172   .0005762                      .7965887    .7988474\n",
      "------------------------------------------------------------------------------\n",
      "Wald test of spatial terms:          chi2(1) = 14747.08   Prob > chi2 = 0.0000\n"
     ]
    }
   ],
   "source": [
    "spxtregress collision_ flag_LPIS, fe dvarlag(W)"
   ]
  },
  {
   "cell_type": "code",
   "execution_count": 13,
   "metadata": {},
   "outputs": [
    {
     "name": "stdout",
     "output_type": "stream",
     "text": [
      "\n",
      "progress   :                       *:  3900  unable to allocate real <tmp>[12983,12983]\n",
      "_SP_IMPACT_PANEL_OBJECT::impacts_matrix_t():     -  function returned error\n",
      "_SP_IMPACT_PANEL_OBJECT::impacts_matrix():     -  function returned error\n",
      "_SPXT_IMPACT_VAR_OBJECT::compute():     -  function returned error\n",
      "_SPXT_IMPACTS_SYSTEM_OBJECT::compute_impacts():     -  function returned error\n",
      "_SPXT_IMPACTS_SYSTEM_OBJECT::compute():     -  function returned error\n",
      "       _spxtreg_impact():     -  function returned error\n",
      "                 <istmt>:     -  function returned error\n"
     ]
    },
    {
     "name": "stderr",
     "output_type": "stream",
     "text": [
      "r(3900);\n"
     ]
    },
    {
     "name": "stdout",
     "output_type": "stream",
     "text": [
      "\n"
     ]
    }
   ],
   "source": [
    "estat impact"
   ]
  },
  {
   "cell_type": "code",
   "execution_count": 14,
   "metadata": {},
   "outputs": [
    {
     "name": "stdout",
     "output_type": "stream",
     "text": [
      "  (973725 observations)\n",
      "  (973725 observations used)\n",
      "  (data contain 12983 panels (places) )\n",
      "  (weighting matrix defines 12983 places)\n",
      "\n",
      "Performing grid search ... finished \n",
      "\n",
      "Optimizing concentrated log likelihood:\n",
      "\n",
      "Iteration 0:   log likelihood = -1147843.6  \n",
      "Iteration 1:   log likelihood = -1147836.2  \n",
      "Iteration 2:   log likelihood = -1147835.7  \n",
      "Iteration 3:   log likelihood = -1147835.6  \n",
      "Iteration 4:   log likelihood = -1147835.6  \n",
      "\n",
      "Optimizing unconcentrated log likelihood:\n",
      "\n",
      "Iteration 0:   log likelihood = -1147835.6  \n",
      "Iteration 1:   log likelihood = -1147835.6  (backed up)\n",
      "\n",
      "Fixed-effects spatial regression                Number of obs     =    973,725\n",
      "Group variable: _ID                             Number of groups  =     12,983\n",
      "                                                Obs per group     =         75\n",
      "\n",
      "                                                Wald chi2(2)      =    1431.32\n",
      "                                                Prob > chi2       =     0.0000\n",
      "Log likelihood = -1.148e+06                     Pseudo R2         =     0.0007\n",
      "\n",
      "------------------------------------------------------------------------------\n",
      "  collision_ |      Coef.   Std. Err.      z    P>|z|     [95% Conf. Interval]\n",
      "-------------+----------------------------------------------------------------\n",
      "collision_   |\n",
      "   flag_LPIS |  -.1198834    .004192   -28.60   0.000    -.1280996   -.1116671\n",
      "-------------+----------------------------------------------------------------\n",
      "W            |\n",
      "  collision_ |   .5271961   .0183711    28.70   0.000     .4911894    .5632029\n",
      "e.collision_ |  -.1894918   .0452823    -4.18   0.000    -.2782435     -.10074\n",
      "-------------+----------------------------------------------------------------\n",
      "    /sigma_e |   .7966702   .0006426                      .7954117    .7979307\n",
      "------------------------------------------------------------------------------\n",
      "Wald test of spatial terms:          chi2(2) = 21895.00   Prob > chi2 = 0.0000\n"
     ]
    }
   ],
   "source": [
    "spxtregress collision_ flag_LPIS, fe dvarlag(W) errorlag(W)"
   ]
  },
  {
   "cell_type": "code",
   "execution_count": 15,
   "metadata": {},
   "outputs": [],
   "source": [
    "estat impact"
   ]
  },
  {
   "cell_type": "code",
   "execution_count": 16,
   "metadata": {},
   "outputs": [
    {
     "name": "stdout",
     "output_type": "stream",
     "text": [
      "  (973725 observations)\n",
      "  (973725 observations used)\n",
      "  (data contain 12983 panels (places) )\n",
      "  (weighting matrix defines 12983 places)\n",
      "\n",
      "Performing grid search ... finished \n",
      "\n",
      "Optimizing concentrated log likelihood:\n",
      "\n",
      "Iteration 0:   log likelihood = -1147433.9  \n",
      "Iteration 1:   log likelihood = -1147414.8  \n",
      "Iteration 2:   log likelihood = -1147414.4  \n",
      "Iteration 3:   log likelihood = -1147414.3  \n",
      "Iteration 4:   log likelihood = -1147414.3  \n",
      "\n",
      "Optimizing unconcentrated log likelihood:\n",
      "\n",
      "Iteration 0:   log likelihood = -1147414.3  \n",
      "Iteration 1:   log likelihood = -1147414.3  (backed up)\n",
      "\n",
      "Fixed-effects spatial regression                Number of obs     =    973,725\n",
      "Group variable: _ID                             Number of groups  =     12,983\n",
      "                                                Obs per group     =         75\n",
      "\n",
      "                                                Wald chi2(3)      =    2512.53\n",
      "                                                Prob > chi2       =     0.0000\n",
      "Log likelihood = -1.147e+06                     Pseudo R2         =     0.0003\n",
      "\n",
      "------------------------------------------------------------------------------\n",
      "  collision_ |      Coef.   Std. Err.      z    P>|z|     [95% Conf. Interval]\n",
      "-------------+----------------------------------------------------------------\n",
      "collision_   |\n",
      "   flag_LPIS |   -.058432   .0047636   -12.27   0.000    -.0677685   -.0490954\n",
      "-------------+----------------------------------------------------------------\n",
      "W            |\n",
      "   flag_LPIS |  -.4273122   .0231922   -18.42   0.000    -.4727682   -.3818563\n",
      "  collision_ |    .208339   .0314783     6.62   0.000     .1466427    .2700354\n",
      "e.collision_ |   .2636445   .0293455     8.98   0.000     .2061283    .3211607\n",
      "-------------+----------------------------------------------------------------\n",
      "    /sigma_e |   .7980915   .0005764                      .7969626    .7992221\n",
      "------------------------------------------------------------------------------\n",
      "Wald test of spatial terms:          chi2(3) = 11129.74   Prob > chi2 = 0.0000\n"
     ]
    }
   ],
   "source": [
    "spxtregress collision_ flag_LPIS, fe dvarlag(W) errorlag(W) ivarlag(W: flag_LPIS)"
   ]
  },
  {
   "cell_type": "code",
   "execution_count": null,
   "metadata": {},
   "outputs": [],
   "source": [
    "estat impact"
   ]
  }
 ],
 "metadata": {
  "kernelspec": {
   "display_name": "Stata",
   "language": "stata",
   "name": "stata"
  },
  "language_info": {
   "file_extension": ".do",
   "mimetype": "text/x-stata",
   "name": "stata"
  }
 },
 "nbformat": 4,
 "nbformat_minor": 2
}
